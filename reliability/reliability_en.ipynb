{
 "cells": [
  {
   "cell_type": "markdown",
   "metadata": {},
   "source": [
    "# Borrowers reliability research\n",
    "\n",
    "The customer is the bank credit department. It is necessary to find out whether the clients marital status and the number of children affect the fact of repaying the loan on time. Input data from the bank - statistics on the solvency of customers.\n",
    "\n",
    "The results of the research will be taken into account when building a **credit scoring** model - a special system that assesses the reliability of a potential borrower."
   ]
  },
  {
   "cell_type": "markdown",
   "metadata": {},
   "source": [
    "__Content:__\n",
    "\n",
    "1. [Introduction to data](#start)\n",
    "2. [Data preprocessing](#preprocessing)\n",
    " - [Gaps](#passes)\n",
    " - [Changing the data type](#types)\n",
    " - [Duplicates](#duplicates)\n",
    " - [Categorization](#categorization)\n",
    "3. [Answers to the questions of the case](#main)\n",
    "4. [Research results](#final)"
   ]
  },
  {
   "cell_type": "markdown",
   "metadata": {},
   "source": [
    "<a id=\"start\"></a>\n",
    "## Introduction to data"
   ]
  },
  {
   "cell_type": "code",
   "execution_count": 1,
   "metadata": {},
   "outputs": [],
   "source": [
    "import pandas as pd"
   ]
  },
  {
   "cell_type": "code",
   "execution_count": 2,
   "metadata": {},
   "outputs": [],
   "source": [
    "data = pd.read_csv('data.csv')"
   ]
  },
  {
   "cell_type": "code",
   "execution_count": 7,
   "metadata": {},
   "outputs": [
    {
     "data": {
      "text/html": [
       "<div>\n",
       "<style scoped>\n",
       "    .dataframe tbody tr th:only-of-type {\n",
       "        vertical-align: middle;\n",
       "    }\n",
       "\n",
       "    .dataframe tbody tr th {\n",
       "        vertical-align: top;\n",
       "    }\n",
       "\n",
       "    .dataframe thead th {\n",
       "        text-align: right;\n",
       "    }\n",
       "</style>\n",
       "<table border=\"1\" class=\"dataframe\">\n",
       "  <thead>\n",
       "    <tr style=\"text-align: right;\">\n",
       "      <th></th>\n",
       "      <th>children</th>\n",
       "      <th>days_employed</th>\n",
       "      <th>dob_years</th>\n",
       "      <th>education</th>\n",
       "      <th>education_id</th>\n",
       "      <th>family_status</th>\n",
       "      <th>family_status_id</th>\n",
       "      <th>gender</th>\n",
       "      <th>income_type</th>\n",
       "      <th>debt</th>\n",
       "      <th>total_income</th>\n",
       "      <th>purpose</th>\n",
       "    </tr>\n",
       "  </thead>\n",
       "  <tbody>\n",
       "    <tr>\n",
       "      <th>16835</th>\n",
       "      <td>1</td>\n",
       "      <td>-1102.390881</td>\n",
       "      <td>49</td>\n",
       "      <td>high school</td>\n",
       "      <td>1</td>\n",
       "      <td>divorced</td>\n",
       "      <td>3</td>\n",
       "      <td>M</td>\n",
       "      <td>companion</td>\n",
       "      <td>0</td>\n",
       "      <td>251353.707728</td>\n",
       "      <td>for the purchase of a car</td>\n",
       "    </tr>\n",
       "    <tr>\n",
       "      <th>1639</th>\n",
       "      <td>0</td>\n",
       "      <td>375609.757769</td>\n",
       "      <td>65</td>\n",
       "      <td>high school</td>\n",
       "      <td>1</td>\n",
       "      <td>married</td>\n",
       "      <td>0</td>\n",
       "      <td>F</td>\n",
       "      <td>retired</td>\n",
       "      <td>0</td>\n",
       "      <td>68135.855633</td>\n",
       "      <td>buying a house for a family</td>\n",
       "    </tr>\n",
       "    <tr>\n",
       "      <th>13010</th>\n",
       "      <td>3</td>\n",
       "      <td>-2524.862867</td>\n",
       "      <td>35</td>\n",
       "      <td>high school</td>\n",
       "      <td>1</td>\n",
       "      <td>married</td>\n",
       "      <td>0</td>\n",
       "      <td>M</td>\n",
       "      <td>companion</td>\n",
       "      <td>0</td>\n",
       "      <td>292992.491992</td>\n",
       "      <td>purchase of a hous for rent</td>\n",
       "    </tr>\n",
       "    <tr>\n",
       "      <th>2863</th>\n",
       "      <td>0</td>\n",
       "      <td>363807.531549</td>\n",
       "      <td>65</td>\n",
       "      <td>elementary</td>\n",
       "      <td>3</td>\n",
       "      <td>married</td>\n",
       "      <td>0</td>\n",
       "      <td>F</td>\n",
       "      <td>retired</td>\n",
       "      <td>0</td>\n",
       "      <td>117137.352825</td>\n",
       "      <td>for the purchase of a car</td>\n",
       "    </tr>\n",
       "    <tr>\n",
       "      <th>12164</th>\n",
       "      <td>0</td>\n",
       "      <td>378174.187808</td>\n",
       "      <td>64</td>\n",
       "      <td>high school</td>\n",
       "      <td>1</td>\n",
       "      <td>married</td>\n",
       "      <td>0</td>\n",
       "      <td>M</td>\n",
       "      <td>retired</td>\n",
       "      <td>0</td>\n",
       "      <td>289338.622578</td>\n",
       "      <td>getting additional education</td>\n",
       "    </tr>\n",
       "  </tbody>\n",
       "</table>\n",
       "</div>"
      ],
      "text/plain": [
       "       children  days_employed  dob_years    education  education_id  \\\n",
       "16835         1   -1102.390881         49  high school             1   \n",
       "1639          0  375609.757769         65  high school             1   \n",
       "13010         3   -2524.862867         35  high school             1   \n",
       "2863          0  363807.531549         65   elementary             3   \n",
       "12164         0  378174.187808         64  high school             1   \n",
       "\n",
       "      family_status  family_status_id gender income_type  debt   total_income  \\\n",
       "16835      divorced                 3      M   companion     0  251353.707728   \n",
       "1639        married                 0      F     retired     0   68135.855633   \n",
       "13010       married                 0      M   companion     0  292992.491992   \n",
       "2863        married                 0      F     retired     0  117137.352825   \n",
       "12164       married                 0      M     retired     0  289338.622578   \n",
       "\n",
       "                            purpose  \n",
       "16835     for the purchase of a car  \n",
       "1639    buying a house for a family  \n",
       "13010   purchase of a hous for rent  \n",
       "2863      for the purchase of a car  \n",
       "12164  getting additional education  "
      ]
     },
     "metadata": {},
     "output_type": "display_data"
    },
    {
     "name": "stdout",
     "output_type": "stream",
     "text": [
      "<class 'pandas.core.frame.DataFrame'>\n",
      "RangeIndex: 21525 entries, 0 to 21524\n",
      "Data columns (total 12 columns):\n",
      " #   Column            Non-Null Count  Dtype  \n",
      "---  ------            --------------  -----  \n",
      " 0   children          21525 non-null  int64  \n",
      " 1   days_employed     19351 non-null  float64\n",
      " 2   dob_years         21525 non-null  int64  \n",
      " 3   education         21525 non-null  object \n",
      " 4   education_id      21525 non-null  int64  \n",
      " 5   family_status     21525 non-null  object \n",
      " 6   family_status_id  21525 non-null  int64  \n",
      " 7   gender            21525 non-null  object \n",
      " 8   income_type       21525 non-null  object \n",
      " 9   debt              21525 non-null  int64  \n",
      " 10  total_income      19351 non-null  float64\n",
      " 11  purpose           21525 non-null  object \n",
      "dtypes: float64(2), int64(5), object(5)\n",
      "memory usage: 2.0+ MB\n"
     ]
    },
    {
     "data": {
      "text/html": [
       "<div>\n",
       "<style scoped>\n",
       "    .dataframe tbody tr th:only-of-type {\n",
       "        vertical-align: middle;\n",
       "    }\n",
       "\n",
       "    .dataframe tbody tr th {\n",
       "        vertical-align: top;\n",
       "    }\n",
       "\n",
       "    .dataframe thead th {\n",
       "        text-align: right;\n",
       "    }\n",
       "</style>\n",
       "<table border=\"1\" class=\"dataframe\">\n",
       "  <thead>\n",
       "    <tr style=\"text-align: right;\">\n",
       "      <th></th>\n",
       "      <th>count</th>\n",
       "      <th>mean</th>\n",
       "      <th>std</th>\n",
       "      <th>min</th>\n",
       "      <th>25%</th>\n",
       "      <th>50%</th>\n",
       "      <th>75%</th>\n",
       "      <th>max</th>\n",
       "    </tr>\n",
       "  </thead>\n",
       "  <tbody>\n",
       "    <tr>\n",
       "      <th>children</th>\n",
       "      <td>21525.0</td>\n",
       "      <td>0.538908</td>\n",
       "      <td>1.381587</td>\n",
       "      <td>-1.000000</td>\n",
       "      <td>0.000000</td>\n",
       "      <td>0.000000</td>\n",
       "      <td>1.000000</td>\n",
       "      <td>2.000000e+01</td>\n",
       "    </tr>\n",
       "    <tr>\n",
       "      <th>days_employed</th>\n",
       "      <td>19351.0</td>\n",
       "      <td>63046.497661</td>\n",
       "      <td>140827.311974</td>\n",
       "      <td>-18388.949901</td>\n",
       "      <td>-2747.423625</td>\n",
       "      <td>-1203.369529</td>\n",
       "      <td>-291.095954</td>\n",
       "      <td>4.017554e+05</td>\n",
       "    </tr>\n",
       "    <tr>\n",
       "      <th>dob_years</th>\n",
       "      <td>21525.0</td>\n",
       "      <td>43.293380</td>\n",
       "      <td>12.574584</td>\n",
       "      <td>0.000000</td>\n",
       "      <td>33.000000</td>\n",
       "      <td>42.000000</td>\n",
       "      <td>53.000000</td>\n",
       "      <td>7.500000e+01</td>\n",
       "    </tr>\n",
       "    <tr>\n",
       "      <th>education_id</th>\n",
       "      <td>21525.0</td>\n",
       "      <td>0.817236</td>\n",
       "      <td>0.548138</td>\n",
       "      <td>0.000000</td>\n",
       "      <td>1.000000</td>\n",
       "      <td>1.000000</td>\n",
       "      <td>1.000000</td>\n",
       "      <td>4.000000e+00</td>\n",
       "    </tr>\n",
       "    <tr>\n",
       "      <th>family_status_id</th>\n",
       "      <td>21525.0</td>\n",
       "      <td>0.972544</td>\n",
       "      <td>1.420324</td>\n",
       "      <td>0.000000</td>\n",
       "      <td>0.000000</td>\n",
       "      <td>0.000000</td>\n",
       "      <td>1.000000</td>\n",
       "      <td>4.000000e+00</td>\n",
       "    </tr>\n",
       "    <tr>\n",
       "      <th>debt</th>\n",
       "      <td>21525.0</td>\n",
       "      <td>0.080883</td>\n",
       "      <td>0.272661</td>\n",
       "      <td>0.000000</td>\n",
       "      <td>0.000000</td>\n",
       "      <td>0.000000</td>\n",
       "      <td>0.000000</td>\n",
       "      <td>1.000000e+00</td>\n",
       "    </tr>\n",
       "    <tr>\n",
       "      <th>total_income</th>\n",
       "      <td>19351.0</td>\n",
       "      <td>167422.302208</td>\n",
       "      <td>102971.566448</td>\n",
       "      <td>20667.263793</td>\n",
       "      <td>103053.152913</td>\n",
       "      <td>145017.937533</td>\n",
       "      <td>203435.067663</td>\n",
       "      <td>2.265604e+06</td>\n",
       "    </tr>\n",
       "  </tbody>\n",
       "</table>\n",
       "</div>"
      ],
      "text/plain": [
       "                    count           mean            std           min  \\\n",
       "children          21525.0       0.538908       1.381587     -1.000000   \n",
       "days_employed     19351.0   63046.497661  140827.311974 -18388.949901   \n",
       "dob_years         21525.0      43.293380      12.574584      0.000000   \n",
       "education_id      21525.0       0.817236       0.548138      0.000000   \n",
       "family_status_id  21525.0       0.972544       1.420324      0.000000   \n",
       "debt              21525.0       0.080883       0.272661      0.000000   \n",
       "total_income      19351.0  167422.302208  102971.566448  20667.263793   \n",
       "\n",
       "                            25%            50%            75%           max  \n",
       "children               0.000000       0.000000       1.000000  2.000000e+01  \n",
       "days_employed      -2747.423625   -1203.369529    -291.095954  4.017554e+05  \n",
       "dob_years             33.000000      42.000000      53.000000  7.500000e+01  \n",
       "education_id           1.000000       1.000000       1.000000  4.000000e+00  \n",
       "family_status_id       0.000000       0.000000       1.000000  4.000000e+00  \n",
       "debt                   0.000000       0.000000       0.000000  1.000000e+00  \n",
       "total_income      103053.152913  145017.937533  203435.067663  2.265604e+06  "
      ]
     },
     "execution_count": 7,
     "metadata": {},
     "output_type": "execute_result"
    }
   ],
   "source": [
    "display(data.sample(5))\n",
    "data.info()\n",
    "data.describe().T"
   ]
  },
  {
   "cell_type": "markdown",
   "metadata": {},
   "source": [
    "**Conclusion**"
   ]
  },
  {
   "cell_type": "markdown",
   "metadata": {},
   "source": [
    "To answer the questions of the case, all df columns are not required. Columns `days_employed`, `dob_years`, `education`, `education_id`, `gender`, `familty_status` should be removed.\n",
    "\n",
    "There are obvious data gaps in `total_income` column, that we are interested in"
   ]
  },
  {
   "cell_type": "markdown",
   "metadata": {},
   "source": [
    "<a id=\"preprocessing\"></a>\n",
    "## Data preprocessing"
   ]
  },
  {
   "cell_type": "markdown",
   "metadata": {},
   "source": [
    "Before we start, let's remove unnecessary columns"
   ]
  },
  {
   "cell_type": "code",
   "execution_count": 8,
   "metadata": {},
   "outputs": [],
   "source": [
    "data = data.drop(columns = ['days_employed', 'dob_years', 'education', 'education_id', 'gender', 'family_status_id'])"
   ]
  },
  {
   "cell_type": "markdown",
   "metadata": {},
   "source": [
    "<a id=\"passes\"></a>\n",
    "### Gaps"
   ]
  },
  {
   "cell_type": "markdown",
   "metadata": {},
   "source": [
    "Let's look at the `days_employed` column"
   ]
  },
  {
   "cell_type": "code",
   "execution_count": 9,
   "metadata": {},
   "outputs": [
    {
     "data": {
      "text/html": [
       "<div>\n",
       "<style scoped>\n",
       "    .dataframe tbody tr th:only-of-type {\n",
       "        vertical-align: middle;\n",
       "    }\n",
       "\n",
       "    .dataframe tbody tr th {\n",
       "        vertical-align: top;\n",
       "    }\n",
       "\n",
       "    .dataframe thead th {\n",
       "        text-align: right;\n",
       "    }\n",
       "</style>\n",
       "<table border=\"1\" class=\"dataframe\">\n",
       "  <thead>\n",
       "    <tr style=\"text-align: right;\">\n",
       "      <th></th>\n",
       "      <th>children</th>\n",
       "      <th>family_status</th>\n",
       "      <th>income_type</th>\n",
       "      <th>debt</th>\n",
       "      <th>total_income</th>\n",
       "      <th>purpose</th>\n",
       "    </tr>\n",
       "  </thead>\n",
       "  <tbody>\n",
       "    <tr>\n",
       "      <th>12</th>\n",
       "      <td>0</td>\n",
       "      <td>cohabitation</td>\n",
       "      <td>retired</td>\n",
       "      <td>0</td>\n",
       "      <td>NaN</td>\n",
       "      <td>play a wedding</td>\n",
       "    </tr>\n",
       "    <tr>\n",
       "      <th>26</th>\n",
       "      <td>0</td>\n",
       "      <td>married</td>\n",
       "      <td>civil servant</td>\n",
       "      <td>0</td>\n",
       "      <td>NaN</td>\n",
       "      <td>education</td>\n",
       "    </tr>\n",
       "    <tr>\n",
       "      <th>29</th>\n",
       "      <td>0</td>\n",
       "      <td>single</td>\n",
       "      <td>retired</td>\n",
       "      <td>0</td>\n",
       "      <td>NaN</td>\n",
       "      <td>construction of a hous</td>\n",
       "    </tr>\n",
       "    <tr>\n",
       "      <th>41</th>\n",
       "      <td>0</td>\n",
       "      <td>married</td>\n",
       "      <td>civil servant</td>\n",
       "      <td>0</td>\n",
       "      <td>NaN</td>\n",
       "      <td>used car deal</td>\n",
       "    </tr>\n",
       "    <tr>\n",
       "      <th>55</th>\n",
       "      <td>0</td>\n",
       "      <td>cohabitation</td>\n",
       "      <td>retired</td>\n",
       "      <td>1</td>\n",
       "      <td>NaN</td>\n",
       "      <td>play a wedding</td>\n",
       "    </tr>\n",
       "    <tr>\n",
       "      <th>65</th>\n",
       "      <td>0</td>\n",
       "      <td>single</td>\n",
       "      <td>companion</td>\n",
       "      <td>0</td>\n",
       "      <td>NaN</td>\n",
       "      <td>operations with commercial property</td>\n",
       "    </tr>\n",
       "    <tr>\n",
       "      <th>67</th>\n",
       "      <td>0</td>\n",
       "      <td>married</td>\n",
       "      <td>retired</td>\n",
       "      <td>0</td>\n",
       "      <td>NaN</td>\n",
       "      <td>buying a house for a family</td>\n",
       "    </tr>\n",
       "    <tr>\n",
       "      <th>72</th>\n",
       "      <td>1</td>\n",
       "      <td>married</td>\n",
       "      <td>civil servant</td>\n",
       "      <td>0</td>\n",
       "      <td>NaN</td>\n",
       "      <td>operations with commercial property</td>\n",
       "    </tr>\n",
       "    <tr>\n",
       "      <th>82</th>\n",
       "      <td>2</td>\n",
       "      <td>married</td>\n",
       "      <td>employee</td>\n",
       "      <td>0</td>\n",
       "      <td>NaN</td>\n",
       "      <td>hous</td>\n",
       "    </tr>\n",
       "    <tr>\n",
       "      <th>83</th>\n",
       "      <td>0</td>\n",
       "      <td>married</td>\n",
       "      <td>employee</td>\n",
       "      <td>0</td>\n",
       "      <td>NaN</td>\n",
       "      <td>hous</td>\n",
       "    </tr>\n",
       "  </tbody>\n",
       "</table>\n",
       "</div>"
      ],
      "text/plain": [
       "    children family_status    income_type  debt  total_income  \\\n",
       "12         0  cohabitation        retired     0           NaN   \n",
       "26         0       married  civil servant     0           NaN   \n",
       "29         0        single        retired     0           NaN   \n",
       "41         0       married  civil servant     0           NaN   \n",
       "55         0  cohabitation        retired     1           NaN   \n",
       "65         0        single      companion     0           NaN   \n",
       "67         0       married        retired     0           NaN   \n",
       "72         1       married  civil servant     0           NaN   \n",
       "82         2       married       employee     0           NaN   \n",
       "83         0       married       employee     0           NaN   \n",
       "\n",
       "                                purpose  \n",
       "12                       play a wedding  \n",
       "26                            education  \n",
       "29               construction of a hous  \n",
       "41                        used car deal  \n",
       "55                       play a wedding  \n",
       "65  operations with commercial property  \n",
       "67          buying a house for a family  \n",
       "72  operations with commercial property  \n",
       "82                                 hous  \n",
       "83                                 hous  "
      ]
     },
     "execution_count": 9,
     "metadata": {},
     "output_type": "execute_result"
    }
   ],
   "source": [
    "data[data['total_income'].isna()].head(10)"
   ]
  },
  {
   "cell_type": "markdown",
   "metadata": {},
   "source": [
    "The NaN value in the `total_income` column is not the equivalent of \"zero\" because the `income_type` column contains employees and civil servants who cannot have no income at all. Perhaps it is an error. We need to fill empty values with the median or mean value. Consider both options and choose the most suitable."
   ]
  },
  {
   "cell_type": "code",
   "execution_count": 10,
   "metadata": {
    "scrolled": true
   },
   "outputs": [
    {
     "data": {
      "text/html": [
       "<div>\n",
       "<style scoped>\n",
       "    .dataframe tbody tr th:only-of-type {\n",
       "        vertical-align: middle;\n",
       "    }\n",
       "\n",
       "    .dataframe tbody tr th {\n",
       "        vertical-align: top;\n",
       "    }\n",
       "\n",
       "    .dataframe thead tr th {\n",
       "        text-align: left;\n",
       "    }\n",
       "\n",
       "    .dataframe thead tr:last-of-type th {\n",
       "        text-align: right;\n",
       "    }\n",
       "</style>\n",
       "<table border=\"1\" class=\"dataframe\">\n",
       "  <thead>\n",
       "    <tr>\n",
       "      <th></th>\n",
       "      <th colspan=\"2\" halign=\"left\">total_income</th>\n",
       "    </tr>\n",
       "    <tr>\n",
       "      <th></th>\n",
       "      <th>mean</th>\n",
       "      <th>median</th>\n",
       "    </tr>\n",
       "    <tr>\n",
       "      <th>income_type</th>\n",
       "      <th></th>\n",
       "      <th></th>\n",
       "    </tr>\n",
       "  </thead>\n",
       "  <tbody>\n",
       "    <tr>\n",
       "      <th>civil servant</th>\n",
       "      <td>170898.309923</td>\n",
       "      <td>150447.935283</td>\n",
       "    </tr>\n",
       "    <tr>\n",
       "      <th>companion</th>\n",
       "      <td>202417.461462</td>\n",
       "      <td>172357.950966</td>\n",
       "    </tr>\n",
       "    <tr>\n",
       "      <th>employee</th>\n",
       "      <td>161380.260488</td>\n",
       "      <td>142594.396847</td>\n",
       "    </tr>\n",
       "    <tr>\n",
       "      <th>entrepreneur</th>\n",
       "      <td>499163.144947</td>\n",
       "      <td>499163.144947</td>\n",
       "    </tr>\n",
       "    <tr>\n",
       "      <th>on maternity leave</th>\n",
       "      <td>53829.130729</td>\n",
       "      <td>53829.130729</td>\n",
       "    </tr>\n",
       "    <tr>\n",
       "      <th>retired</th>\n",
       "      <td>137127.465690</td>\n",
       "      <td>118514.486412</td>\n",
       "    </tr>\n",
       "    <tr>\n",
       "      <th>student</th>\n",
       "      <td>98201.625314</td>\n",
       "      <td>98201.625314</td>\n",
       "    </tr>\n",
       "    <tr>\n",
       "      <th>unemployed</th>\n",
       "      <td>131339.751676</td>\n",
       "      <td>131339.751676</td>\n",
       "    </tr>\n",
       "  </tbody>\n",
       "</table>\n",
       "</div>"
      ],
      "text/plain": [
       "                     total_income               \n",
       "                             mean         median\n",
       "income_type                                     \n",
       "civil servant       170898.309923  150447.935283\n",
       "companion           202417.461462  172357.950966\n",
       "employee            161380.260488  142594.396847\n",
       "entrepreneur        499163.144947  499163.144947\n",
       "on maternity leave   53829.130729   53829.130729\n",
       "retired             137127.465690  118514.486412\n",
       "student              98201.625314   98201.625314\n",
       "unemployed          131339.751676  131339.751676"
      ]
     },
     "execution_count": 10,
     "metadata": {},
     "output_type": "execute_result"
    }
   ],
   "source": [
    "data.groupby('income_type').agg({'total_income': ['mean','median']})"
   ]
  },
  {
   "cell_type": "markdown",
   "metadata": {},
   "source": [
    "The median is either less than or equal to the mean. The latter most likely occurs in situations where there are at most two values in `income_type`. Let's check which types have missing values and count them."
   ]
  },
  {
   "cell_type": "code",
   "execution_count": 11,
   "metadata": {},
   "outputs": [
    {
     "data": {
      "text/plain": [
       "employee         1105\n",
       "companion         508\n",
       "retired           413\n",
       "civil servant     147\n",
       "entrepreneur        1\n",
       "Name: income_type, dtype: int64"
      ]
     },
     "execution_count": 11,
     "metadata": {},
     "output_type": "execute_result"
    }
   ],
   "source": [
    "data[data['total_income'].isna()]['income_type'].value_counts()"
   ]
  },
  {
   "cell_type": "markdown",
   "metadata": {},
   "source": [
    "The category \"entrepreneur\" contains only one value. Judging by the median and average values, there are only two entrepreneurs, it is more logical to delete this rows than to fill them in. The rest will be filled with medians.\n",
    "\n",
    "We will also add an `autofill_id` column to the data, where the value 1 will mean that the row has been modified. This is necessary for further processing of duplicates. The `.duplicated` method may treat such strings as duplicates, although they are not."
   ]
  },
  {
   "cell_type": "code",
   "execution_count": 12,
   "metadata": {},
   "outputs": [
    {
     "name": "stdout",
     "output_type": "stream",
     "text": [
      "---Checking for the column autofill_id---\n"
     ]
    },
    {
     "data": {
      "text/html": [
       "<div>\n",
       "<style scoped>\n",
       "    .dataframe tbody tr th:only-of-type {\n",
       "        vertical-align: middle;\n",
       "    }\n",
       "\n",
       "    .dataframe tbody tr th {\n",
       "        vertical-align: top;\n",
       "    }\n",
       "\n",
       "    .dataframe thead th {\n",
       "        text-align: right;\n",
       "    }\n",
       "</style>\n",
       "<table border=\"1\" class=\"dataframe\">\n",
       "  <thead>\n",
       "    <tr style=\"text-align: right;\">\n",
       "      <th></th>\n",
       "      <th>children</th>\n",
       "      <th>family_status</th>\n",
       "      <th>income_type</th>\n",
       "      <th>debt</th>\n",
       "      <th>total_income</th>\n",
       "      <th>purpose</th>\n",
       "      <th>autofill_id</th>\n",
       "    </tr>\n",
       "  </thead>\n",
       "  <tbody>\n",
       "    <tr>\n",
       "      <th>12</th>\n",
       "      <td>0</td>\n",
       "      <td>cohabitation</td>\n",
       "      <td>retired</td>\n",
       "      <td>0</td>\n",
       "      <td>118514.486412</td>\n",
       "      <td>play a wedding</td>\n",
       "      <td>1.0</td>\n",
       "    </tr>\n",
       "    <tr>\n",
       "      <th>26</th>\n",
       "      <td>0</td>\n",
       "      <td>married</td>\n",
       "      <td>civil servant</td>\n",
       "      <td>0</td>\n",
       "      <td>150447.935283</td>\n",
       "      <td>education</td>\n",
       "      <td>1.0</td>\n",
       "    </tr>\n",
       "    <tr>\n",
       "      <th>29</th>\n",
       "      <td>0</td>\n",
       "      <td>single</td>\n",
       "      <td>retired</td>\n",
       "      <td>0</td>\n",
       "      <td>118514.486412</td>\n",
       "      <td>construction of a hous</td>\n",
       "      <td>1.0</td>\n",
       "    </tr>\n",
       "    <tr>\n",
       "      <th>41</th>\n",
       "      <td>0</td>\n",
       "      <td>married</td>\n",
       "      <td>civil servant</td>\n",
       "      <td>0</td>\n",
       "      <td>150447.935283</td>\n",
       "      <td>used car deal</td>\n",
       "      <td>1.0</td>\n",
       "    </tr>\n",
       "    <tr>\n",
       "      <th>55</th>\n",
       "      <td>0</td>\n",
       "      <td>cohabitation</td>\n",
       "      <td>retired</td>\n",
       "      <td>1</td>\n",
       "      <td>118514.486412</td>\n",
       "      <td>play a wedding</td>\n",
       "      <td>1.0</td>\n",
       "    </tr>\n",
       "  </tbody>\n",
       "</table>\n",
       "</div>"
      ],
      "text/plain": [
       "    children family_status    income_type  debt   total_income  \\\n",
       "12         0  cohabitation        retired     0  118514.486412   \n",
       "26         0       married  civil servant     0  150447.935283   \n",
       "29         0        single        retired     0  118514.486412   \n",
       "41         0       married  civil servant     0  150447.935283   \n",
       "55         0  cohabitation        retired     1  118514.486412   \n",
       "\n",
       "                   purpose  autofill_id  \n",
       "12          play a wedding          1.0  \n",
       "26               education          1.0  \n",
       "29  construction of a hous          1.0  \n",
       "41           used car deal          1.0  \n",
       "55          play a wedding          1.0  "
      ]
     },
     "metadata": {},
     "output_type": "display_data"
    },
    {
     "name": "stdout",
     "output_type": "stream",
     "text": [
      "\n",
      "---Checking for empty values in a column total_income---\n",
      "\n",
      "<class 'pandas.core.frame.DataFrame'>\n",
      "RangeIndex: 21524 entries, 0 to 21523\n",
      "Data columns (total 7 columns):\n",
      " #   Column         Non-Null Count  Dtype  \n",
      "---  ------         --------------  -----  \n",
      " 0   children       21524 non-null  int64  \n",
      " 1   family_status  21524 non-null  object \n",
      " 2   income_type    21524 non-null  object \n",
      " 3   debt           21524 non-null  int64  \n",
      " 4   total_income   21524 non-null  float64\n",
      " 5   purpose        21524 non-null  object \n",
      " 6   autofill_id    2173 non-null   float64\n",
      "dtypes: float64(2), int64(2), object(3)\n",
      "memory usage: 1.1+ MB\n"
     ]
    }
   ],
   "source": [
    "isna_income_types = data[data['total_income'].isna()]['income_type'].unique()\n",
    "\n",
    "for income_type in isna_income_types:\n",
    "    if income_type != 'entrepreneur':\n",
    "        median = data[data['income_type'] == income_type]['total_income'].median()\n",
    "        data.loc[(data['income_type'] == income_type) & (data['total_income'].isna()), 'autofill_id'] = 1        \n",
    "        data.loc[(data['income_type'] == income_type) & (data['total_income'].isna()), 'total_income'] = median\n",
    "\n",
    "data = data.dropna(subset = ['total_income']).reset_index(drop=True)\n",
    "\n",
    "print('---Checking for the column autofill_id---')\n",
    "display(data[data['autofill_id'] == 1].head(5))\n",
    "print()\n",
    "print('---Checking for empty values in a column total_income---')\n",
    "print()\n",
    "data.info()"
   ]
  },
  {
   "cell_type": "markdown",
   "metadata": {},
   "source": [
    "Now let's examine the rest of the columns for implicit gaps"
   ]
  },
  {
   "cell_type": "code",
   "execution_count": 13,
   "metadata": {},
   "outputs": [
    {
     "name": "stdout",
     "output_type": "stream",
     "text": [
      "--COL children--\n",
      " 0     14148\n",
      " 1      4818\n",
      " 2      2055\n",
      " 3       330\n",
      " 20       76\n",
      "-1        47\n",
      " 4        41\n",
      " 5         9\n",
      "Name: children, dtype: int64\n",
      "\n",
      "--COL family_status--\n",
      "married          12379\n",
      "cohabitation      4177\n",
      "single            2813\n",
      "divorced          1195\n",
      "widower/widow      960\n",
      "Name: family_status, dtype: int64\n",
      "\n",
      "--COL income_type--\n",
      "employee              11119\n",
      "companion              5085\n",
      "retired                3856\n",
      "civil servant          1459\n",
      "unemployed                2\n",
      "student                   1\n",
      "entrepreneur              1\n",
      "on maternity leave        1\n",
      "Name: income_type, dtype: int64\n",
      "\n",
      "--COL debt--\n",
      "0    19783\n",
      "1     1741\n",
      "Name: debt, dtype: int64\n",
      "\n",
      "--COL total_income values less than zero--\n",
      "0\n",
      "\n",
      "--COL purpose--\n",
      "car                                    973\n",
      "higher education                       879\n",
      "wedding                                797\n",
      "to hold a wedding                      777\n",
      "play a wedding                         774\n",
      "property transactions                  676\n",
      "purchase of commercial property        664\n",
      "purchase of a hous for rent            653\n",
      "hous operations                        653\n",
      "operations with commercial property    651\n",
      "buying a house                         647\n",
      "hous                                   647\n",
      "buying a house for a family            641\n",
      "construction of own property           635\n",
      "property                               634\n",
      "operations with own property           630\n",
      "construction of a hous                 626\n",
      "buying a property                      624\n",
      "buy a house                            620\n",
      "property construction                  620\n",
      "renovation of a hous                   612\n",
      "purchase of a residential property     606\n",
      "to buy a car                           505\n",
      "to engage in higher education          496\n",
      "used car deal                          489\n",
      "my car                                 480\n",
      "to buy a used car                      479\n",
      "for the purchase of a car              472\n",
      "additional education                   462\n",
      "purchasing a car                       462\n",
      "car deal                               455\n",
      "getting additional education           447\n",
      "education                              447\n",
      "getting an education                   443\n",
      "professional education                 436\n",
      "for education                          412\n",
      "Name: purpose, dtype: int64\n"
     ]
    }
   ],
   "source": [
    "print('--COL children--')\n",
    "print(data['children'].value_counts())\n",
    "print()\n",
    "print('--COL family_status--')\n",
    "print(data['family_status'].value_counts())\n",
    "print()\n",
    "print('--COL income_type--')\n",
    "print(data['income_type'].value_counts())\n",
    "print()\n",
    "print('--COL debt--')\n",
    "print(data['debt'].value_counts())\n",
    "print()\n",
    "print('--COL total_income values less than zero--')\n",
    "print(data[data['total_income'] < 0]['total_income'].count())\n",
    "print()\n",
    "print('--COL purpose--')\n",
    "print(data['purpose'].value_counts())"
   ]
  },
  {
   "cell_type": "markdown",
   "metadata": {},
   "source": [
    "The `children` column has a -1 value, which is not possible because it specifies the number of children. Consider which `family_status` categories have the -1 values."
   ]
  },
  {
   "cell_type": "code",
   "execution_count": 14,
   "metadata": {},
   "outputs": [
    {
     "data": {
      "text/plain": [
       "married          29\n",
       "cohabitation      5\n",
       "single            5\n",
       "divorced          4\n",
       "widower/widow     4\n",
       "Name: family_status, dtype: int64"
      ]
     },
     "execution_count": 14,
     "metadata": {},
     "output_type": "execute_result"
    }
   ],
   "source": [
    "data[data['children'] < 0]['family_status'].value_counts()"
   ]
  },
  {
   "cell_type": "markdown",
   "metadata": {},
   "source": [
    "Most of the values are among people who are married and approximately equally in other categories. This behavior of the data suggests rather that instead of -1 there should be a value of 1, the issue is only with people with the status \"single / not married\". Let's check how the children presence data is distributed in the ranges without errors."
   ]
  },
  {
   "cell_type": "code",
   "execution_count": 15,
   "metadata": {},
   "outputs": [
    {
     "data": {
      "text/plain": [
       "married          4851\n",
       "cohabitation     1420\n",
       "single            543\n",
       "divorced          407\n",
       "widower/widow     108\n",
       "Name: family_status, dtype: int64"
      ]
     },
     "execution_count": 15,
     "metadata": {},
     "output_type": "execute_result"
    }
   ],
   "source": [
    "data[data['children'] > 0]['family_status'].value_counts()"
   ]
  },
  {
   "cell_type": "markdown",
   "metadata": {},
   "source": [
    "In the error-free range, people with single status also have children. The distribution of data in the considered range is similar to the distribution in the range with errors, with some minor exceptions. Most likely, the value -1 should be replaced with the value 1."
   ]
  },
  {
   "cell_type": "code",
   "execution_count": 16,
   "metadata": {},
   "outputs": [
    {
     "data": {
      "text/plain": [
       "Series([], Name: family_status, dtype: int64)"
      ]
     },
     "execution_count": 16,
     "metadata": {},
     "output_type": "execute_result"
    }
   ],
   "source": [
    "data['children'] = data['children'].replace(-1, 1)\n",
    "data[data['children'] < 0]['family_status'].value_counts()"
   ]
  },
  {
   "cell_type": "markdown",
   "metadata": {},
   "source": [
    "**Conclusion**"
   ]
  },
  {
   "cell_type": "markdown",
   "metadata": {},
   "source": [
    "- The `total_income` column had explicit gaps. They were filled with median values taking into account income categories\n",
    "- Removed one line with an empty value in the `total_income` column, where `income_type` corresponded to the value \"entrepreneur\", this is less than 1% of the total data array, the result of the reserch should not be affected\n",
    "- Errors were found in the values of the `children` column, where the value -1 is present. The behavior of data in a range with errors is roughly similar to the behavior of data in a range without errors. It was decided to replace the value -1 with 1."
   ]
  },
  {
   "cell_type": "markdown",
   "metadata": {},
   "source": [
    "<a id=\"types\"></a>\n",
    "### Changing the data type"
   ]
  },
  {
   "cell_type": "markdown",
   "metadata": {},
   "source": [
    "Find out how much memory the current df consumes and compare this value based on the result of data type changes"
   ]
  },
  {
   "cell_type": "code",
   "execution_count": 17,
   "metadata": {},
   "outputs": [
    {
     "name": "stdout",
     "output_type": "stream",
     "text": [
      "<class 'pandas.core.frame.DataFrame'>\n",
      "RangeIndex: 21524 entries, 0 to 21523\n",
      "Columns: 7 entries, children to autofill_id\n",
      "dtypes: float64(2), int64(2), object(3)\n",
      "memory usage: 4.9 MB\n"
     ]
    }
   ],
   "source": [
    "data.info(verbose = False, memory_usage = 'deep')"
   ]
  },
  {
   "cell_type": "markdown",
   "metadata": {},
   "source": [
    "The values in the `total_income` column are the `float` data type. For our reserch, this is not necessary, and a lot of decimal places make it difficult to read the table. Let's get rid of it by changing the data type from `float` to `int`."
   ]
  },
  {
   "cell_type": "code",
   "execution_count": 18,
   "metadata": {},
   "outputs": [
    {
     "data": {
      "text/html": [
       "<div>\n",
       "<style scoped>\n",
       "    .dataframe tbody tr th:only-of-type {\n",
       "        vertical-align: middle;\n",
       "    }\n",
       "\n",
       "    .dataframe tbody tr th {\n",
       "        vertical-align: top;\n",
       "    }\n",
       "\n",
       "    .dataframe thead th {\n",
       "        text-align: right;\n",
       "    }\n",
       "</style>\n",
       "<table border=\"1\" class=\"dataframe\">\n",
       "  <thead>\n",
       "    <tr style=\"text-align: right;\">\n",
       "      <th></th>\n",
       "      <th>children</th>\n",
       "      <th>family_status</th>\n",
       "      <th>income_type</th>\n",
       "      <th>debt</th>\n",
       "      <th>total_income</th>\n",
       "      <th>purpose</th>\n",
       "      <th>autofill_id</th>\n",
       "    </tr>\n",
       "  </thead>\n",
       "  <tbody>\n",
       "    <tr>\n",
       "      <th>0</th>\n",
       "      <td>1</td>\n",
       "      <td>married</td>\n",
       "      <td>employee</td>\n",
       "      <td>0</td>\n",
       "      <td>253875</td>\n",
       "      <td>buying a house</td>\n",
       "      <td>NaN</td>\n",
       "    </tr>\n",
       "    <tr>\n",
       "      <th>1</th>\n",
       "      <td>1</td>\n",
       "      <td>married</td>\n",
       "      <td>employee</td>\n",
       "      <td>0</td>\n",
       "      <td>112080</td>\n",
       "      <td>purchasing a car</td>\n",
       "      <td>NaN</td>\n",
       "    </tr>\n",
       "    <tr>\n",
       "      <th>2</th>\n",
       "      <td>0</td>\n",
       "      <td>married</td>\n",
       "      <td>employee</td>\n",
       "      <td>0</td>\n",
       "      <td>145885</td>\n",
       "      <td>buying a house</td>\n",
       "      <td>NaN</td>\n",
       "    </tr>\n",
       "    <tr>\n",
       "      <th>3</th>\n",
       "      <td>3</td>\n",
       "      <td>married</td>\n",
       "      <td>employee</td>\n",
       "      <td>0</td>\n",
       "      <td>267628</td>\n",
       "      <td>additional education</td>\n",
       "      <td>NaN</td>\n",
       "    </tr>\n",
       "    <tr>\n",
       "      <th>4</th>\n",
       "      <td>0</td>\n",
       "      <td>cohabitation</td>\n",
       "      <td>retired</td>\n",
       "      <td>0</td>\n",
       "      <td>158616</td>\n",
       "      <td>play a wedding</td>\n",
       "      <td>NaN</td>\n",
       "    </tr>\n",
       "  </tbody>\n",
       "</table>\n",
       "</div>"
      ],
      "text/plain": [
       "   children family_status income_type  debt  total_income  \\\n",
       "0         1       married    employee     0        253875   \n",
       "1         1       married    employee     0        112080   \n",
       "2         0       married    employee     0        145885   \n",
       "3         3       married    employee     0        267628   \n",
       "4         0  cohabitation     retired     0        158616   \n",
       "\n",
       "                purpose  autofill_id  \n",
       "0        buying a house          NaN  \n",
       "1      purchasing a car          NaN  \n",
       "2        buying a house          NaN  \n",
       "3  additional education          NaN  \n",
       "4        play a wedding          NaN  "
      ]
     },
     "execution_count": 18,
     "metadata": {},
     "output_type": "execute_result"
    }
   ],
   "source": [
    "data['total_income'] = data['total_income'].astype('uint32')\n",
    "data.head(5)"
   ]
  },
  {
   "cell_type": "markdown",
   "metadata": {},
   "source": [
    "For optimization purposes, it also makes sense to perform the following actions:\n",
    "- Convert `children`, `debt` columns to `uint8` type\n",
    "- `family_status`, `income_type` columns into `category` type\n",
    "\n",
    "Let's do it"
   ]
  },
  {
   "cell_type": "code",
   "execution_count": 19,
   "metadata": {},
   "outputs": [],
   "source": [
    "data['children'] = data['children'].astype('uint8')\n",
    "data['debt'] = data['debt'].astype('uint8')\n",
    "data['family_status'] = data['family_status'].astype('category')\n",
    "data['income_type'] = data['income_type'].astype('category')"
   ]
  },
  {
   "cell_type": "markdown",
   "metadata": {},
   "source": [
    "Now let's check data consumption after optimization"
   ]
  },
  {
   "cell_type": "code",
   "execution_count": 20,
   "metadata": {},
   "outputs": [
    {
     "name": "stdout",
     "output_type": "stream",
     "text": [
      "<class 'pandas.core.frame.DataFrame'>\n",
      "RangeIndex: 21524 entries, 0 to 21523\n",
      "Columns: 7 entries, children to autofill_id\n",
      "dtypes: category(2), float64(1), object(1), uint32(1), uint8(2)\n",
      "memory usage: 1.9 MB\n"
     ]
    }
   ],
   "source": [
    "data.info(verbose = False, memory_usage = 'deep')\n"
   ]
  },
  {
   "cell_type": "markdown",
   "metadata": {},
   "source": [
    "**Conclusion**"
   ]
  },
  {
   "cell_type": "markdown",
   "metadata": {},
   "source": [
    "- Removed extra decimal places in the `total_income` column to make the data easier to perceive visually\n",
    "- Changed the data type in the `total_income` column from `int64` to `uint32`\n",
    "- Changed data type in `children` and `debt` columns from `int64` to `uint8`\n",
    "- Changed data type in `family_status` and `income_type` columns from `object` to `category`\n",
    "- Total memory usage reduced by 61% from 4.9 MB to 1.9 MB"
   ]
  },
  {
   "cell_type": "markdown",
   "metadata": {},
   "source": [
    "<a id=\"duplicates\"></a>\n",
    "### Duplicates"
   ]
  },
  {
   "cell_type": "markdown",
   "metadata": {},
   "source": [
    "Let's check the data for duplicates. To do this, we will use logical indexing, where the first condition will be the result of the `.duplicated` method, and the second condition will be a None value in the `autofill_id` column. Simply put, let's check if there are duplicates in those rows where we did not change the value of the `total_income` column at the gaps operating stage"
   ]
  },
  {
   "cell_type": "code",
   "execution_count": 21,
   "metadata": {},
   "outputs": [
    {
     "data": {
      "text/plain": [
       "[11532, 13258, 19477]"
      ]
     },
     "execution_count": 21,
     "metadata": {},
     "output_type": "execute_result"
    }
   ],
   "source": [
    "duplicated_columns = data[(data.duplicated()) & (data['autofill_id'] != 1)].index.tolist()\n",
    "duplicated_columns"
   ]
  },
  {
   "cell_type": "markdown",
   "metadata": {},
   "source": [
    "Three duplicates found. Let's get rid of them"
   ]
  },
  {
   "cell_type": "code",
   "execution_count": 22,
   "metadata": {},
   "outputs": [
    {
     "data": {
      "text/html": [
       "<div>\n",
       "<style scoped>\n",
       "    .dataframe tbody tr th:only-of-type {\n",
       "        vertical-align: middle;\n",
       "    }\n",
       "\n",
       "    .dataframe tbody tr th {\n",
       "        vertical-align: top;\n",
       "    }\n",
       "\n",
       "    .dataframe thead th {\n",
       "        text-align: right;\n",
       "    }\n",
       "</style>\n",
       "<table border=\"1\" class=\"dataframe\">\n",
       "  <thead>\n",
       "    <tr style=\"text-align: right;\">\n",
       "      <th></th>\n",
       "      <th>children</th>\n",
       "      <th>family_status</th>\n",
       "      <th>income_type</th>\n",
       "      <th>debt</th>\n",
       "      <th>total_income</th>\n",
       "      <th>purpose</th>\n",
       "      <th>autofill_id</th>\n",
       "    </tr>\n",
       "  </thead>\n",
       "  <tbody>\n",
       "  </tbody>\n",
       "</table>\n",
       "</div>"
      ],
      "text/plain": [
       "Empty DataFrame\n",
       "Columns: [children, family_status, income_type, debt, total_income, purpose, autofill_id]\n",
       "Index: []"
      ]
     },
     "execution_count": 22,
     "metadata": {},
     "output_type": "execute_result"
    }
   ],
   "source": [
    "data = data.drop(duplicated_columns).reset_index(drop = True)\n",
    "data[(data.duplicated()) & (data['autofill_id'] != 1)]"
   ]
  },
  {
   "cell_type": "markdown",
   "metadata": {},
   "source": [
    "**Conclusion**"
   ]
  },
  {
   "cell_type": "markdown",
   "metadata": {},
   "source": [
    "- Using logical indexing we Checked the data for duplicates in the range that we did not change at the gaps operating stage\n",
    "- Found three duplicates and found out their indices\n",
    "- Get rid of them using the `.drop` method"
   ]
  },
  {
   "cell_type": "markdown",
   "metadata": {},
   "source": [
    "<a id=\"categorization\"></a>\n",
    "### Categorization"
   ]
  },
  {
   "cell_type": "markdown",
   "metadata": {},
   "source": [
    "At the implicit gaps operating stage, a lot of essentially same values were found in the `purpose` column. Let's create a function to categorize the data. It is proposed to use the following categories of loan purposes:\n",
    "- Residential proprety for all offers where the word \"hous\" or \"residential\" is included (except for renovation)\n",
    "- Other proprety for all offers where the word \"proprety\" is included (except for residential proprety and renovation)\n",
    "- Renovation\n",
    "- Wedding\n",
    "- Education\n",
    "- Car"
   ]
  },
  {
   "cell_type": "code",
   "execution_count": 23,
   "metadata": {},
   "outputs": [
    {
     "data": {
      "text/plain": [
       "array(['residential property', 'car', 'education', 'wedding',\n",
       "       'other property', 'renovation'], dtype=object)"
      ]
     },
     "execution_count": 23,
     "metadata": {},
     "output_type": "execute_result"
    }
   ],
   "source": [
    "def categorize(df):\n",
    "    purpose = df['purpose']\n",
    "    \n",
    "    if 'renovation' in purpose:\n",
    "        return 'renovation'\n",
    "    elif 'hous' in purpose:\n",
    "        return 'residential property'\n",
    "    elif 'residential' in purpose:\n",
    "        return 'residential property'\n",
    "    elif 'property' in purpose:\n",
    "        return 'other property'\n",
    "    elif 'wedding' in purpose:\n",
    "        return 'wedding'\n",
    "    elif 'car' in purpose:\n",
    "        return 'car'\n",
    "    elif 'education' in purpose:\n",
    "        return 'education'\n",
    "\n",
    "    \n",
    "data['p_cat'] = data.apply(categorize, axis=1)\n",
    "data.p_cat.unique()"
   ]
  },
  {
   "cell_type": "code",
   "execution_count": 24,
   "metadata": {},
   "outputs": [
    {
     "data": {
      "text/plain": [
       "other property          5134\n",
       "residential property    5093\n",
       "car                     4314\n",
       "education               4021\n",
       "wedding                 2348\n",
       "renovation               611\n",
       "Name: purpose_category, dtype: int64"
      ]
     },
     "execution_count": 24,
     "metadata": {},
     "output_type": "execute_result"
    }
   ],
   "source": [
    "data['purpose_category'] = data.apply(categorize, axis = 1)\n",
    "data['purpose_category'].value_counts()"
   ]
  },
  {
   "cell_type": "markdown",
   "metadata": {},
   "source": [
    "The following question was asked in the case: \"Is there a relationship between having children and repaying the loan on time?\". That is, we are interested in the presence or absence of children, but not their number. We need to enter two categories for the `children` column:\n",
    "- Have children\n",
    "- No children"
   ]
  },
  {
   "cell_type": "code",
   "execution_count": 25,
   "metadata": {},
   "outputs": [],
   "source": [
    "def children_to_category(row):\n",
    "    children = row['children']\n",
    "    \n",
    "    if children > 0:\n",
    "        return 'have children'\n",
    "    return 'no children'"
   ]
  },
  {
   "cell_type": "code",
   "execution_count": 26,
   "metadata": {},
   "outputs": [
    {
     "data": {
      "text/html": [
       "<div>\n",
       "<style scoped>\n",
       "    .dataframe tbody tr th:only-of-type {\n",
       "        vertical-align: middle;\n",
       "    }\n",
       "\n",
       "    .dataframe tbody tr th {\n",
       "        vertical-align: top;\n",
       "    }\n",
       "\n",
       "    .dataframe thead th {\n",
       "        text-align: right;\n",
       "    }\n",
       "</style>\n",
       "<table border=\"1\" class=\"dataframe\">\n",
       "  <thead>\n",
       "    <tr style=\"text-align: right;\">\n",
       "      <th></th>\n",
       "      <th>children</th>\n",
       "      <th>family_status</th>\n",
       "      <th>income_type</th>\n",
       "      <th>debt</th>\n",
       "      <th>total_income</th>\n",
       "      <th>purpose</th>\n",
       "      <th>autofill_id</th>\n",
       "      <th>p_cat</th>\n",
       "      <th>purpose_category</th>\n",
       "      <th>children_category</th>\n",
       "    </tr>\n",
       "  </thead>\n",
       "  <tbody>\n",
       "    <tr>\n",
       "      <th>0</th>\n",
       "      <td>1</td>\n",
       "      <td>married</td>\n",
       "      <td>employee</td>\n",
       "      <td>0</td>\n",
       "      <td>253875</td>\n",
       "      <td>buying a house</td>\n",
       "      <td>NaN</td>\n",
       "      <td>residential property</td>\n",
       "      <td>residential property</td>\n",
       "      <td>have children</td>\n",
       "    </tr>\n",
       "    <tr>\n",
       "      <th>1</th>\n",
       "      <td>1</td>\n",
       "      <td>married</td>\n",
       "      <td>employee</td>\n",
       "      <td>0</td>\n",
       "      <td>112080</td>\n",
       "      <td>purchasing a car</td>\n",
       "      <td>NaN</td>\n",
       "      <td>car</td>\n",
       "      <td>car</td>\n",
       "      <td>have children</td>\n",
       "    </tr>\n",
       "    <tr>\n",
       "      <th>2</th>\n",
       "      <td>0</td>\n",
       "      <td>married</td>\n",
       "      <td>employee</td>\n",
       "      <td>0</td>\n",
       "      <td>145885</td>\n",
       "      <td>buying a house</td>\n",
       "      <td>NaN</td>\n",
       "      <td>residential property</td>\n",
       "      <td>residential property</td>\n",
       "      <td>no children</td>\n",
       "    </tr>\n",
       "    <tr>\n",
       "      <th>3</th>\n",
       "      <td>3</td>\n",
       "      <td>married</td>\n",
       "      <td>employee</td>\n",
       "      <td>0</td>\n",
       "      <td>267628</td>\n",
       "      <td>additional education</td>\n",
       "      <td>NaN</td>\n",
       "      <td>education</td>\n",
       "      <td>education</td>\n",
       "      <td>have children</td>\n",
       "    </tr>\n",
       "    <tr>\n",
       "      <th>4</th>\n",
       "      <td>0</td>\n",
       "      <td>cohabitation</td>\n",
       "      <td>retired</td>\n",
       "      <td>0</td>\n",
       "      <td>158616</td>\n",
       "      <td>play a wedding</td>\n",
       "      <td>NaN</td>\n",
       "      <td>wedding</td>\n",
       "      <td>wedding</td>\n",
       "      <td>no children</td>\n",
       "    </tr>\n",
       "    <tr>\n",
       "      <th>5</th>\n",
       "      <td>0</td>\n",
       "      <td>cohabitation</td>\n",
       "      <td>companion</td>\n",
       "      <td>0</td>\n",
       "      <td>255763</td>\n",
       "      <td>buying a house</td>\n",
       "      <td>NaN</td>\n",
       "      <td>residential property</td>\n",
       "      <td>residential property</td>\n",
       "      <td>no children</td>\n",
       "    </tr>\n",
       "    <tr>\n",
       "      <th>6</th>\n",
       "      <td>0</td>\n",
       "      <td>married</td>\n",
       "      <td>companion</td>\n",
       "      <td>0</td>\n",
       "      <td>240525</td>\n",
       "      <td>hous operations</td>\n",
       "      <td>NaN</td>\n",
       "      <td>residential property</td>\n",
       "      <td>residential property</td>\n",
       "      <td>no children</td>\n",
       "    </tr>\n",
       "    <tr>\n",
       "      <th>7</th>\n",
       "      <td>0</td>\n",
       "      <td>married</td>\n",
       "      <td>employee</td>\n",
       "      <td>0</td>\n",
       "      <td>135823</td>\n",
       "      <td>education</td>\n",
       "      <td>NaN</td>\n",
       "      <td>education</td>\n",
       "      <td>education</td>\n",
       "      <td>no children</td>\n",
       "    </tr>\n",
       "    <tr>\n",
       "      <th>8</th>\n",
       "      <td>2</td>\n",
       "      <td>cohabitation</td>\n",
       "      <td>employee</td>\n",
       "      <td>0</td>\n",
       "      <td>95856</td>\n",
       "      <td>to hold a wedding</td>\n",
       "      <td>NaN</td>\n",
       "      <td>wedding</td>\n",
       "      <td>wedding</td>\n",
       "      <td>have children</td>\n",
       "    </tr>\n",
       "    <tr>\n",
       "      <th>9</th>\n",
       "      <td>0</td>\n",
       "      <td>married</td>\n",
       "      <td>employee</td>\n",
       "      <td>0</td>\n",
       "      <td>144425</td>\n",
       "      <td>buying a house for a family</td>\n",
       "      <td>NaN</td>\n",
       "      <td>residential property</td>\n",
       "      <td>residential property</td>\n",
       "      <td>no children</td>\n",
       "    </tr>\n",
       "  </tbody>\n",
       "</table>\n",
       "</div>"
      ],
      "text/plain": [
       "   children family_status income_type  debt  total_income  \\\n",
       "0         1       married    employee     0        253875   \n",
       "1         1       married    employee     0        112080   \n",
       "2         0       married    employee     0        145885   \n",
       "3         3       married    employee     0        267628   \n",
       "4         0  cohabitation     retired     0        158616   \n",
       "5         0  cohabitation   companion     0        255763   \n",
       "6         0       married   companion     0        240525   \n",
       "7         0       married    employee     0        135823   \n",
       "8         2  cohabitation    employee     0         95856   \n",
       "9         0       married    employee     0        144425   \n",
       "\n",
       "                       purpose  autofill_id                 p_cat  \\\n",
       "0               buying a house          NaN  residential property   \n",
       "1             purchasing a car          NaN                   car   \n",
       "2               buying a house          NaN  residential property   \n",
       "3         additional education          NaN             education   \n",
       "4               play a wedding          NaN               wedding   \n",
       "5               buying a house          NaN  residential property   \n",
       "6              hous operations          NaN  residential property   \n",
       "7                    education          NaN             education   \n",
       "8            to hold a wedding          NaN               wedding   \n",
       "9  buying a house for a family          NaN  residential property   \n",
       "\n",
       "       purpose_category children_category  \n",
       "0  residential property     have children  \n",
       "1                   car     have children  \n",
       "2  residential property       no children  \n",
       "3             education     have children  \n",
       "4               wedding       no children  \n",
       "5  residential property       no children  \n",
       "6  residential property       no children  \n",
       "7             education       no children  \n",
       "8               wedding     have children  \n",
       "9  residential property       no children  "
      ]
     },
     "execution_count": 26,
     "metadata": {},
     "output_type": "execute_result"
    }
   ],
   "source": [
    "data['children_category'] = data.apply(children_to_category, axis = 1)\n",
    "data.head(10)"
   ]
  },
  {
   "cell_type": "code",
   "execution_count": 27,
   "metadata": {},
   "outputs": [
    {
     "data": {
      "text/plain": [
       "array([ 1,  3,  2,  4, 20,  5], dtype=uint8)"
      ]
     },
     "execution_count": 27,
     "metadata": {},
     "output_type": "execute_result"
    }
   ],
   "source": [
    "data[data['children_category'] == 'have children']['children'].unique()"
   ]
  },
  {
   "cell_type": "code",
   "execution_count": 28,
   "metadata": {},
   "outputs": [
    {
     "data": {
      "text/plain": [
       "array([0], dtype=uint8)"
      ]
     },
     "execution_count": 28,
     "metadata": {},
     "output_type": "execute_result"
    }
   ],
   "source": [
    "data[data['children_category'] == 'no children']['children'].unique()"
   ]
  },
  {
   "cell_type": "markdown",
   "metadata": {},
   "source": [
    "The third question of the case is: \"Is there a relationship between the level of income and repayment of the loan on time?\"\n",
    "\n",
    "For analysis, it is necessary to categorize the values of the `total_income` column. To do this, let's examine the column for key range values"
   ]
  },
  {
   "cell_type": "code",
   "execution_count": 29,
   "metadata": {},
   "outputs": [
    {
     "name": "stdout",
     "output_type": "stream",
     "text": [
      "Maximum income 2265604\n",
      "Median income 142594.0\n",
      "Minimum income 20667\n"
     ]
    }
   ],
   "source": [
    "print('Maximum income', data['total_income'].max())\n",
    "print('Median income', data['total_income'].median())\n",
    "print('Minimum income', data['total_income'].min())"
   ]
  },
  {
   "cell_type": "markdown",
   "metadata": {},
   "source": [
    "Income fluctuates between ₽20k and ₽2.2m. The following categories are suggested:\n",
    "- Up to ₽80k\n",
    "- From ₽80k to ₽150k \n",
    "- From ₽150k to ₽250k \n",
    "- From ₽150k to ₽500k \n",
    "- From ₽500k to ₽1m\n",
    "- Over ₽1m"
   ]
  },
  {
   "cell_type": "code",
   "execution_count": 30,
   "metadata": {},
   "outputs": [],
   "source": [
    "def income_to_category(row):\n",
    "    income = row['total_income']\n",
    "    \n",
    "    if income < 80000:\n",
    "        return 'up to ₽80k'\n",
    "    if income < 150000:\n",
    "        return 'from ₽80k to ₽150k'\n",
    "    if income < 250000:\n",
    "        return 'from ₽150k to ₽250k'\n",
    "    if income < 500000:\n",
    "        return 'from ₽250k to ₽500k'\n",
    "    if income < 1000000:\n",
    "        return 'from ₽500k to ₽1m'\n",
    "    return 'over ₽1m'"
   ]
  },
  {
   "cell_type": "code",
   "execution_count": 31,
   "metadata": {},
   "outputs": [
    {
     "data": {
      "text/html": [
       "<div>\n",
       "<style scoped>\n",
       "    .dataframe tbody tr th:only-of-type {\n",
       "        vertical-align: middle;\n",
       "    }\n",
       "\n",
       "    .dataframe tbody tr th {\n",
       "        vertical-align: top;\n",
       "    }\n",
       "\n",
       "    .dataframe thead th {\n",
       "        text-align: right;\n",
       "    }\n",
       "</style>\n",
       "<table border=\"1\" class=\"dataframe\">\n",
       "  <thead>\n",
       "    <tr style=\"text-align: right;\">\n",
       "      <th></th>\n",
       "      <th>children</th>\n",
       "      <th>family_status</th>\n",
       "      <th>income_type</th>\n",
       "      <th>debt</th>\n",
       "      <th>total_income</th>\n",
       "      <th>purpose</th>\n",
       "      <th>autofill_id</th>\n",
       "      <th>p_cat</th>\n",
       "      <th>purpose_category</th>\n",
       "      <th>children_category</th>\n",
       "      <th>income_category</th>\n",
       "    </tr>\n",
       "  </thead>\n",
       "  <tbody>\n",
       "    <tr>\n",
       "      <th>0</th>\n",
       "      <td>1</td>\n",
       "      <td>married</td>\n",
       "      <td>employee</td>\n",
       "      <td>0</td>\n",
       "      <td>253875</td>\n",
       "      <td>buying a house</td>\n",
       "      <td>NaN</td>\n",
       "      <td>residential property</td>\n",
       "      <td>residential property</td>\n",
       "      <td>have children</td>\n",
       "      <td>from ₽250k to ₽500k</td>\n",
       "    </tr>\n",
       "    <tr>\n",
       "      <th>1</th>\n",
       "      <td>1</td>\n",
       "      <td>married</td>\n",
       "      <td>employee</td>\n",
       "      <td>0</td>\n",
       "      <td>112080</td>\n",
       "      <td>purchasing a car</td>\n",
       "      <td>NaN</td>\n",
       "      <td>car</td>\n",
       "      <td>car</td>\n",
       "      <td>have children</td>\n",
       "      <td>from ₽80k to ₽150k</td>\n",
       "    </tr>\n",
       "    <tr>\n",
       "      <th>2</th>\n",
       "      <td>0</td>\n",
       "      <td>married</td>\n",
       "      <td>employee</td>\n",
       "      <td>0</td>\n",
       "      <td>145885</td>\n",
       "      <td>buying a house</td>\n",
       "      <td>NaN</td>\n",
       "      <td>residential property</td>\n",
       "      <td>residential property</td>\n",
       "      <td>no children</td>\n",
       "      <td>from ₽80k to ₽150k</td>\n",
       "    </tr>\n",
       "    <tr>\n",
       "      <th>3</th>\n",
       "      <td>3</td>\n",
       "      <td>married</td>\n",
       "      <td>employee</td>\n",
       "      <td>0</td>\n",
       "      <td>267628</td>\n",
       "      <td>additional education</td>\n",
       "      <td>NaN</td>\n",
       "      <td>education</td>\n",
       "      <td>education</td>\n",
       "      <td>have children</td>\n",
       "      <td>from ₽250k to ₽500k</td>\n",
       "    </tr>\n",
       "    <tr>\n",
       "      <th>4</th>\n",
       "      <td>0</td>\n",
       "      <td>cohabitation</td>\n",
       "      <td>retired</td>\n",
       "      <td>0</td>\n",
       "      <td>158616</td>\n",
       "      <td>play a wedding</td>\n",
       "      <td>NaN</td>\n",
       "      <td>wedding</td>\n",
       "      <td>wedding</td>\n",
       "      <td>no children</td>\n",
       "      <td>from ₽150k to ₽250k</td>\n",
       "    </tr>\n",
       "    <tr>\n",
       "      <th>...</th>\n",
       "      <td>...</td>\n",
       "      <td>...</td>\n",
       "      <td>...</td>\n",
       "      <td>...</td>\n",
       "      <td>...</td>\n",
       "      <td>...</td>\n",
       "      <td>...</td>\n",
       "      <td>...</td>\n",
       "      <td>...</td>\n",
       "      <td>...</td>\n",
       "      <td>...</td>\n",
       "    </tr>\n",
       "    <tr>\n",
       "      <th>21516</th>\n",
       "      <td>1</td>\n",
       "      <td>cohabitation</td>\n",
       "      <td>companion</td>\n",
       "      <td>0</td>\n",
       "      <td>224791</td>\n",
       "      <td>hous operations</td>\n",
       "      <td>NaN</td>\n",
       "      <td>residential property</td>\n",
       "      <td>residential property</td>\n",
       "      <td>have children</td>\n",
       "      <td>from ₽150k to ₽250k</td>\n",
       "    </tr>\n",
       "    <tr>\n",
       "      <th>21517</th>\n",
       "      <td>0</td>\n",
       "      <td>married</td>\n",
       "      <td>retired</td>\n",
       "      <td>0</td>\n",
       "      <td>155999</td>\n",
       "      <td>car deal</td>\n",
       "      <td>NaN</td>\n",
       "      <td>car</td>\n",
       "      <td>car</td>\n",
       "      <td>no children</td>\n",
       "      <td>from ₽150k to ₽250k</td>\n",
       "    </tr>\n",
       "    <tr>\n",
       "      <th>21518</th>\n",
       "      <td>1</td>\n",
       "      <td>cohabitation</td>\n",
       "      <td>employee</td>\n",
       "      <td>1</td>\n",
       "      <td>89672</td>\n",
       "      <td>property</td>\n",
       "      <td>NaN</td>\n",
       "      <td>other property</td>\n",
       "      <td>other property</td>\n",
       "      <td>have children</td>\n",
       "      <td>from ₽80k to ₽150k</td>\n",
       "    </tr>\n",
       "    <tr>\n",
       "      <th>21519</th>\n",
       "      <td>3</td>\n",
       "      <td>married</td>\n",
       "      <td>employee</td>\n",
       "      <td>1</td>\n",
       "      <td>244093</td>\n",
       "      <td>to buy a car</td>\n",
       "      <td>NaN</td>\n",
       "      <td>car</td>\n",
       "      <td>car</td>\n",
       "      <td>have children</td>\n",
       "      <td>from ₽150k to ₽250k</td>\n",
       "    </tr>\n",
       "    <tr>\n",
       "      <th>21520</th>\n",
       "      <td>2</td>\n",
       "      <td>married</td>\n",
       "      <td>employee</td>\n",
       "      <td>0</td>\n",
       "      <td>82047</td>\n",
       "      <td>for the purchase of a car</td>\n",
       "      <td>NaN</td>\n",
       "      <td>car</td>\n",
       "      <td>car</td>\n",
       "      <td>have children</td>\n",
       "      <td>from ₽80k to ₽150k</td>\n",
       "    </tr>\n",
       "  </tbody>\n",
       "</table>\n",
       "<p>21521 rows × 11 columns</p>\n",
       "</div>"
      ],
      "text/plain": [
       "       children family_status income_type  debt  total_income  \\\n",
       "0             1       married    employee     0        253875   \n",
       "1             1       married    employee     0        112080   \n",
       "2             0       married    employee     0        145885   \n",
       "3             3       married    employee     0        267628   \n",
       "4             0  cohabitation     retired     0        158616   \n",
       "...         ...           ...         ...   ...           ...   \n",
       "21516         1  cohabitation   companion     0        224791   \n",
       "21517         0       married     retired     0        155999   \n",
       "21518         1  cohabitation    employee     1         89672   \n",
       "21519         3       married    employee     1        244093   \n",
       "21520         2       married    employee     0         82047   \n",
       "\n",
       "                         purpose  autofill_id                 p_cat  \\\n",
       "0                 buying a house          NaN  residential property   \n",
       "1               purchasing a car          NaN                   car   \n",
       "2                 buying a house          NaN  residential property   \n",
       "3           additional education          NaN             education   \n",
       "4                 play a wedding          NaN               wedding   \n",
       "...                          ...          ...                   ...   \n",
       "21516            hous operations          NaN  residential property   \n",
       "21517                   car deal          NaN                   car   \n",
       "21518                   property          NaN        other property   \n",
       "21519               to buy a car          NaN                   car   \n",
       "21520  for the purchase of a car          NaN                   car   \n",
       "\n",
       "           purpose_category children_category      income_category  \n",
       "0      residential property     have children  from ₽250k to ₽500k  \n",
       "1                       car     have children   from ₽80k to ₽150k  \n",
       "2      residential property       no children   from ₽80k to ₽150k  \n",
       "3                 education     have children  from ₽250k to ₽500k  \n",
       "4                   wedding       no children  from ₽150k to ₽250k  \n",
       "...                     ...               ...                  ...  \n",
       "21516  residential property     have children  from ₽150k to ₽250k  \n",
       "21517                   car       no children  from ₽150k to ₽250k  \n",
       "21518        other property     have children   from ₽80k to ₽150k  \n",
       "21519                   car     have children  from ₽150k to ₽250k  \n",
       "21520                   car     have children   from ₽80k to ₽150k  \n",
       "\n",
       "[21521 rows x 11 columns]"
      ]
     },
     "execution_count": 31,
     "metadata": {},
     "output_type": "execute_result"
    }
   ],
   "source": [
    "data['income_category'] = data.apply(income_to_category, axis = 1)\n",
    "data"
   ]
  },
  {
   "cell_type": "code",
   "execution_count": 32,
   "metadata": {},
   "outputs": [
    {
     "data": {
      "text/html": [
       "<div>\n",
       "<style scoped>\n",
       "    .dataframe tbody tr th:only-of-type {\n",
       "        vertical-align: middle;\n",
       "    }\n",
       "\n",
       "    .dataframe tbody tr th {\n",
       "        vertical-align: top;\n",
       "    }\n",
       "\n",
       "    .dataframe thead tr th {\n",
       "        text-align: left;\n",
       "    }\n",
       "\n",
       "    .dataframe thead tr:last-of-type th {\n",
       "        text-align: right;\n",
       "    }\n",
       "</style>\n",
       "<table border=\"1\" class=\"dataframe\">\n",
       "  <thead>\n",
       "    <tr>\n",
       "      <th></th>\n",
       "      <th colspan=\"2\" halign=\"left\">total_income</th>\n",
       "    </tr>\n",
       "    <tr>\n",
       "      <th></th>\n",
       "      <th>min</th>\n",
       "      <th>max</th>\n",
       "    </tr>\n",
       "    <tr>\n",
       "      <th>income_category</th>\n",
       "      <th></th>\n",
       "      <th></th>\n",
       "    </tr>\n",
       "  </thead>\n",
       "  <tbody>\n",
       "    <tr>\n",
       "      <th>from ₽150k to ₽250k</th>\n",
       "      <td>150001</td>\n",
       "      <td>249991</td>\n",
       "    </tr>\n",
       "    <tr>\n",
       "      <th>from ₽250k to ₽500k</th>\n",
       "      <td>250130</td>\n",
       "      <td>499924</td>\n",
       "    </tr>\n",
       "    <tr>\n",
       "      <th>from ₽500k to ₽1m</th>\n",
       "      <td>502318</td>\n",
       "      <td>997014</td>\n",
       "    </tr>\n",
       "    <tr>\n",
       "      <th>from ₽80k to ₽150k</th>\n",
       "      <td>80039</td>\n",
       "      <td>149993</td>\n",
       "    </tr>\n",
       "    <tr>\n",
       "      <th>over ₽1m</th>\n",
       "      <td>1004476</td>\n",
       "      <td>2265604</td>\n",
       "    </tr>\n",
       "    <tr>\n",
       "      <th>up to ₽80k</th>\n",
       "      <td>20667</td>\n",
       "      <td>79973</td>\n",
       "    </tr>\n",
       "  </tbody>\n",
       "</table>\n",
       "</div>"
      ],
      "text/plain": [
       "                    total_income         \n",
       "                             min      max\n",
       "income_category                          \n",
       "from ₽150k to ₽250k       150001   249991\n",
       "from ₽250k to ₽500k       250130   499924\n",
       "from ₽500k to ₽1m         502318   997014\n",
       "from ₽80k to ₽150k         80039   149993\n",
       "over ₽1m                 1004476  2265604\n",
       "up to ₽80k                 20667    79973"
      ]
     },
     "execution_count": 32,
     "metadata": {},
     "output_type": "execute_result"
    }
   ],
   "source": [
    "data.groupby('income_category').agg({'total_income' : ['min', 'max']})"
   ]
  },
  {
   "cell_type": "markdown",
   "metadata": {},
   "source": [
    "For good pivot table visualization, we also need to enter the verbal categories of the `debt` column, which now has 0 and 1 value, where, obviously, 0 corresponds to the absence of delays, and 1 to the presence. We use the following values:\n",
    "\n",
    "- have debts\n",
    "- no debts"
   ]
  },
  {
   "cell_type": "code",
   "execution_count": 33,
   "metadata": {},
   "outputs": [
    {
     "name": "stdout",
     "output_type": "stream",
     "text": [
      "<class 'pandas.core.frame.DataFrame'>\n",
      "RangeIndex: 21521 entries, 0 to 21520\n",
      "Data columns (total 12 columns):\n",
      " #   Column             Non-Null Count  Dtype   \n",
      "---  ------             --------------  -----   \n",
      " 0   children           21521 non-null  uint8   \n",
      " 1   family_status      21521 non-null  category\n",
      " 2   income_type        21521 non-null  category\n",
      " 3   debt               21521 non-null  uint8   \n",
      " 4   total_income       21521 non-null  uint32  \n",
      " 5   purpose            21521 non-null  object  \n",
      " 6   autofill_id        2173 non-null   float64 \n",
      " 7   p_cat              21521 non-null  object  \n",
      " 8   purpose_category   21521 non-null  object  \n",
      " 9   children_category  21521 non-null  object  \n",
      " 10  income_category    21521 non-null  object  \n",
      " 11  debt_category      21521 non-null  object  \n",
      "dtypes: category(2), float64(1), object(6), uint32(1), uint8(2)\n",
      "memory usage: 1.3+ MB\n"
     ]
    }
   ],
   "source": [
    "def debt_to_category(row):\n",
    "    debt = row['debt']\n",
    "    if debt == 1:\n",
    "        return 'have debts'\n",
    "    return 'no debts'\n",
    "\n",
    "data['debt_category'] = data.apply(debt_to_category, axis = 1)\n",
    "data.info()"
   ]
  },
  {
   "cell_type": "markdown",
   "metadata": {},
   "source": [
    "**Conclusions**"
   ]
  },
  {
   "cell_type": "markdown",
   "metadata": {},
   "source": [
    "To simplify the analysis, the following columns have been added and the following categories have been introduced:\n",
    "1. `purpose_category` column to categorize the `purpose` column\n",
    "- Residential proprety for all offers where the word \"hous\" or \"residential\" is included (except for renovation)\n",
    "- Other proprety for all offers where the word \"proprety\" is included (except for residential proprety and renovation)\n",
    "- Renovation\n",
    "- Wedding\n",
    "- Education\n",
    "- Car\n",
    "2. `children_category` column to categorize the `children` column with the following values:\n",
    "- have children\n",
    "- no children\n",
    "3. `income_category` column to categorize the `total_income` column with the following values:\n",
    "- Up to ₽80k\n",
    "- From ₽80k to ₽150k\n",
    "- From ₽150k to ₽250k\n",
    "- From ₽150k to ₽500k\n",
    "- From ₽500k to ₽1m\n",
    "- Over ₽1m\n",
    "4. `debt_category` column to categorize the `debt` column with the following values:\n",
    "- have debts\n",
    "- no debts"
   ]
  },
  {
   "cell_type": "markdown",
   "metadata": {},
   "source": [
    "<a id=\"main\"></a>\n",
    "## Answers to the questions of the case"
   ]
  },
  {
   "cell_type": "markdown",
   "metadata": {},
   "source": [
    "To answer the questions of the case, it is best to use pivot tables. To simplify this process, let's create a function that will create a pivot table for a specific categorical column."
   ]
  },
  {
   "cell_type": "code",
   "execution_count": 40,
   "metadata": {},
   "outputs": [],
   "source": [
    "def to_pivot(df, category):\n",
    "    pivot = df.pivot_table(index = category, columns = 'debt_category', values = 'debt', aggfunc = 'count')\n",
    "    pivot['total'] = pivot['have debts'] + pivot['no debts']\n",
    "    pivot['% debtors'] = round(pivot['have debts'] / pivot['total'] * 100, 2)\n",
    "    pivot = pivot.sort_values(by='% debtors', ascending=False)\n",
    "    return pivot"
   ]
  },
  {
   "cell_type": "markdown",
   "metadata": {},
   "source": [
    "Also, to answer the questions of the case, it is necessary to understand what is the average value of the share of debtors over the entire data sample"
   ]
  },
  {
   "cell_type": "code",
   "execution_count": 41,
   "metadata": {},
   "outputs": [
    {
     "name": "stdout",
     "output_type": "stream",
     "text": [
      "The average number of debtors in the entire data sample: 8%\n"
     ]
    }
   ],
   "source": [
    "debt_ratio = data['debt'].sum() / data['debt'].count()\n",
    "print('The average number of debtors in the entire data sample: {:.0%}'.format(debt_ratio))"
   ]
  },
  {
   "cell_type": "markdown",
   "metadata": {},
   "source": [
    "### Is there a relationship between having children and repaying the loan on time?"
   ]
  },
  {
   "cell_type": "code",
   "execution_count": 42,
   "metadata": {},
   "outputs": [
    {
     "data": {
      "text/html": [
       "<div>\n",
       "<style scoped>\n",
       "    .dataframe tbody tr th:only-of-type {\n",
       "        vertical-align: middle;\n",
       "    }\n",
       "\n",
       "    .dataframe tbody tr th {\n",
       "        vertical-align: top;\n",
       "    }\n",
       "\n",
       "    .dataframe thead th {\n",
       "        text-align: right;\n",
       "    }\n",
       "</style>\n",
       "<table border=\"1\" class=\"dataframe\">\n",
       "  <thead>\n",
       "    <tr style=\"text-align: right;\">\n",
       "      <th>debt_category</th>\n",
       "      <th>have debts</th>\n",
       "      <th>no debts</th>\n",
       "      <th>total</th>\n",
       "      <th>% debtors</th>\n",
       "    </tr>\n",
       "    <tr>\n",
       "      <th>children_category</th>\n",
       "      <th></th>\n",
       "      <th></th>\n",
       "      <th></th>\n",
       "      <th></th>\n",
       "    </tr>\n",
       "  </thead>\n",
       "  <tbody>\n",
       "    <tr>\n",
       "      <th>have children</th>\n",
       "      <td>678</td>\n",
       "      <td>6698</td>\n",
       "      <td>7376</td>\n",
       "      <td>9.19</td>\n",
       "    </tr>\n",
       "    <tr>\n",
       "      <th>no children</th>\n",
       "      <td>1063</td>\n",
       "      <td>13082</td>\n",
       "      <td>14145</td>\n",
       "      <td>7.52</td>\n",
       "    </tr>\n",
       "  </tbody>\n",
       "</table>\n",
       "</div>"
      ],
      "text/plain": [
       "debt_category      have debts  no debts  total  % debtors\n",
       "children_category                                        \n",
       "have children             678      6698   7376       9.19\n",
       "no children              1063     13082  14145       7.52"
      ]
     },
     "execution_count": 42,
     "metadata": {},
     "output_type": "execute_result"
    }
   ],
   "source": [
    "pivot_children = to_pivot(data, 'children_category')\n",
    "pivot_children"
   ]
  },
  {
   "cell_type": "markdown",
   "metadata": {},
   "source": [
    "**Conclusion**"
   ]
  },
  {
   "cell_type": "markdown",
   "metadata": {},
   "source": [
    "The value of the debtors share with children is on 1.2% higher than the average value, and the value of the debtors share without children is on 0.5% lower.\n",
    "\n",
    "It can be unequivocally stated that borrowers with children repay loans less often than borrowers without children."
   ]
  },
  {
   "cell_type": "markdown",
   "metadata": {},
   "source": [
    "### Is there a relationship between marital status and loan repayment on time?"
   ]
  },
  {
   "cell_type": "code",
   "execution_count": 43,
   "metadata": {},
   "outputs": [
    {
     "data": {
      "text/html": [
       "<div>\n",
       "<style scoped>\n",
       "    .dataframe tbody tr th:only-of-type {\n",
       "        vertical-align: middle;\n",
       "    }\n",
       "\n",
       "    .dataframe tbody tr th {\n",
       "        vertical-align: top;\n",
       "    }\n",
       "\n",
       "    .dataframe thead th {\n",
       "        text-align: right;\n",
       "    }\n",
       "</style>\n",
       "<table border=\"1\" class=\"dataframe\">\n",
       "  <thead>\n",
       "    <tr style=\"text-align: right;\">\n",
       "      <th>debt_category</th>\n",
       "      <th>have debts</th>\n",
       "      <th>no debts</th>\n",
       "      <th>total</th>\n",
       "      <th>% debtors</th>\n",
       "    </tr>\n",
       "    <tr>\n",
       "      <th>family_status</th>\n",
       "      <th></th>\n",
       "      <th></th>\n",
       "      <th></th>\n",
       "      <th></th>\n",
       "    </tr>\n",
       "  </thead>\n",
       "  <tbody>\n",
       "    <tr>\n",
       "      <th>single</th>\n",
       "      <td>274</td>\n",
       "      <td>2538</td>\n",
       "      <td>2812</td>\n",
       "      <td>9.74</td>\n",
       "    </tr>\n",
       "    <tr>\n",
       "      <th>cohabitation</th>\n",
       "      <td>388</td>\n",
       "      <td>3789</td>\n",
       "      <td>4177</td>\n",
       "      <td>9.29</td>\n",
       "    </tr>\n",
       "    <tr>\n",
       "      <th>married</th>\n",
       "      <td>931</td>\n",
       "      <td>11446</td>\n",
       "      <td>12377</td>\n",
       "      <td>7.52</td>\n",
       "    </tr>\n",
       "    <tr>\n",
       "      <th>divorced</th>\n",
       "      <td>85</td>\n",
       "      <td>1110</td>\n",
       "      <td>1195</td>\n",
       "      <td>7.11</td>\n",
       "    </tr>\n",
       "    <tr>\n",
       "      <th>widower/widow</th>\n",
       "      <td>63</td>\n",
       "      <td>897</td>\n",
       "      <td>960</td>\n",
       "      <td>6.56</td>\n",
       "    </tr>\n",
       "  </tbody>\n",
       "</table>\n",
       "</div>"
      ],
      "text/plain": [
       "debt_category  have debts  no debts  total  % debtors\n",
       "family_status                                        \n",
       "single                274      2538   2812       9.74\n",
       "cohabitation          388      3789   4177       9.29\n",
       "married               931     11446  12377       7.52\n",
       "divorced               85      1110   1195       7.11\n",
       "widower/widow          63       897    960       6.56"
      ]
     },
     "execution_count": 43,
     "metadata": {},
     "output_type": "execute_result"
    }
   ],
   "source": [
    "pivot_family = to_pivot(data, 'family_status')\n",
    "pivot_family"
   ]
  },
  {
   "cell_type": "markdown",
   "metadata": {},
   "source": [
    "**Вывод**"
   ]
  },
  {
   "cell_type": "markdown",
   "metadata": {},
   "source": [
    "Most often, people who indicate their status as \"single\" and \"cohabitation\" are the most likely to overdue their loans - by 1.7% and 1.3%, respectively. Widowers are the least likely to overdue by 1.5%, and people who indicate the status of \"divorced\" and \"married\" are little less than the average fall into debt, by 0.9% and 0.5%, respectively.\n",
    "\n",
    "Dependence is clearly present and it is not obvious."
   ]
  },
  {
   "cell_type": "markdown",
   "metadata": {},
   "source": [
    "### Is there a relationship between income level and loan repayment on time?"
   ]
  },
  {
   "cell_type": "code",
   "execution_count": 44,
   "metadata": {},
   "outputs": [
    {
     "data": {
      "text/html": [
       "<div>\n",
       "<style scoped>\n",
       "    .dataframe tbody tr th:only-of-type {\n",
       "        vertical-align: middle;\n",
       "    }\n",
       "\n",
       "    .dataframe tbody tr th {\n",
       "        vertical-align: top;\n",
       "    }\n",
       "\n",
       "    .dataframe thead th {\n",
       "        text-align: right;\n",
       "    }\n",
       "</style>\n",
       "<table border=\"1\" class=\"dataframe\">\n",
       "  <thead>\n",
       "    <tr style=\"text-align: right;\">\n",
       "      <th>debt_category</th>\n",
       "      <th>have debts</th>\n",
       "      <th>no debts</th>\n",
       "      <th>total</th>\n",
       "      <th>% debtors</th>\n",
       "    </tr>\n",
       "    <tr>\n",
       "      <th>income_category</th>\n",
       "      <th></th>\n",
       "      <th></th>\n",
       "      <th></th>\n",
       "      <th></th>\n",
       "    </tr>\n",
       "  </thead>\n",
       "  <tbody>\n",
       "    <tr>\n",
       "      <th>from ₽80k to ₽150k</th>\n",
       "      <td>804</td>\n",
       "      <td>8605</td>\n",
       "      <td>9409</td>\n",
       "      <td>8.55</td>\n",
       "    </tr>\n",
       "    <tr>\n",
       "      <th>from ₽150k to ₽250k</th>\n",
       "      <td>569</td>\n",
       "      <td>6456</td>\n",
       "      <td>7025</td>\n",
       "      <td>8.10</td>\n",
       "    </tr>\n",
       "    <tr>\n",
       "      <th>over ₽1m</th>\n",
       "      <td>2</td>\n",
       "      <td>23</td>\n",
       "      <td>25</td>\n",
       "      <td>8.00</td>\n",
       "    </tr>\n",
       "    <tr>\n",
       "      <th>up to ₽80k</th>\n",
       "      <td>174</td>\n",
       "      <td>2101</td>\n",
       "      <td>2275</td>\n",
       "      <td>7.65</td>\n",
       "    </tr>\n",
       "    <tr>\n",
       "      <th>from ₽250k to ₽500k</th>\n",
       "      <td>180</td>\n",
       "      <td>2410</td>\n",
       "      <td>2590</td>\n",
       "      <td>6.95</td>\n",
       "    </tr>\n",
       "    <tr>\n",
       "      <th>from ₽500k to ₽1m</th>\n",
       "      <td>12</td>\n",
       "      <td>185</td>\n",
       "      <td>197</td>\n",
       "      <td>6.09</td>\n",
       "    </tr>\n",
       "  </tbody>\n",
       "</table>\n",
       "</div>"
      ],
      "text/plain": [
       "debt_category        have debts  no debts  total  % debtors\n",
       "income_category                                            \n",
       "from ₽80k to ₽150k          804      8605   9409       8.55\n",
       "from ₽150k to ₽250k         569      6456   7025       8.10\n",
       "over ₽1m                      2        23     25       8.00\n",
       "up to ₽80k                  174      2101   2275       7.65\n",
       "from ₽250k to ₽500k         180      2410   2590       6.95\n",
       "from ₽500k to ₽1m            12       185    197       6.09"
      ]
     },
     "execution_count": 44,
     "metadata": {},
     "output_type": "execute_result"
    }
   ],
   "source": [
    "pivot_income = to_pivot(data, 'income_category')\n",
    "pivot_income"
   ]
  },
  {
   "cell_type": "markdown",
   "metadata": {},
   "source": [
    "**Conclusion**"
   ]
  },
  {
   "cell_type": "markdown",
   "metadata": {},
   "source": [
    "people with incomes from 500k to 1m Least of all allow loan delays, by as much as 2%. People with incomes up to 80k and in the range from 250k to 500k fall into debt less than the average by 0.4% and 1.1%, respectively.\n",
    "\n",
    "People with incomes from 80,000 to 150,000 most often delay loans by 0.5%, and people in the category from 150,000 to 250,000 and more than 1m rubles are similar to avarage value.\n",
    "\n",
    "There is rather no dependence, fluctuations in indicators are insignificant."
   ]
  },
  {
   "cell_type": "markdown",
   "metadata": {},
   "source": [
    "## How do different purposes of a loan affect its repayment on time?"
   ]
  },
  {
   "cell_type": "code",
   "execution_count": 45,
   "metadata": {},
   "outputs": [
    {
     "data": {
      "text/html": [
       "<div>\n",
       "<style scoped>\n",
       "    .dataframe tbody tr th:only-of-type {\n",
       "        vertical-align: middle;\n",
       "    }\n",
       "\n",
       "    .dataframe tbody tr th {\n",
       "        vertical-align: top;\n",
       "    }\n",
       "\n",
       "    .dataframe thead th {\n",
       "        text-align: right;\n",
       "    }\n",
       "</style>\n",
       "<table border=\"1\" class=\"dataframe\">\n",
       "  <thead>\n",
       "    <tr style=\"text-align: right;\">\n",
       "      <th>debt_category</th>\n",
       "      <th>have debts</th>\n",
       "      <th>no debts</th>\n",
       "      <th>total</th>\n",
       "      <th>% debtors</th>\n",
       "    </tr>\n",
       "    <tr>\n",
       "      <th>purpose_category</th>\n",
       "      <th></th>\n",
       "      <th></th>\n",
       "      <th></th>\n",
       "      <th></th>\n",
       "    </tr>\n",
       "  </thead>\n",
       "  <tbody>\n",
       "    <tr>\n",
       "      <th>car</th>\n",
       "      <td>403</td>\n",
       "      <td>3911</td>\n",
       "      <td>4314</td>\n",
       "      <td>9.34</td>\n",
       "    </tr>\n",
       "    <tr>\n",
       "      <th>education</th>\n",
       "      <td>370</td>\n",
       "      <td>3651</td>\n",
       "      <td>4021</td>\n",
       "      <td>9.20</td>\n",
       "    </tr>\n",
       "    <tr>\n",
       "      <th>wedding</th>\n",
       "      <td>186</td>\n",
       "      <td>2162</td>\n",
       "      <td>2348</td>\n",
       "      <td>7.92</td>\n",
       "    </tr>\n",
       "    <tr>\n",
       "      <th>other property</th>\n",
       "      <td>385</td>\n",
       "      <td>4749</td>\n",
       "      <td>5134</td>\n",
       "      <td>7.50</td>\n",
       "    </tr>\n",
       "    <tr>\n",
       "      <th>residential property</th>\n",
       "      <td>362</td>\n",
       "      <td>4731</td>\n",
       "      <td>5093</td>\n",
       "      <td>7.11</td>\n",
       "    </tr>\n",
       "    <tr>\n",
       "      <th>renovation</th>\n",
       "      <td>35</td>\n",
       "      <td>576</td>\n",
       "      <td>611</td>\n",
       "      <td>5.73</td>\n",
       "    </tr>\n",
       "  </tbody>\n",
       "</table>\n",
       "</div>"
      ],
      "text/plain": [
       "debt_category         have debts  no debts  total  % debtors\n",
       "purpose_category                                            \n",
       "car                          403      3911   4314       9.34\n",
       "education                    370      3651   4021       9.20\n",
       "wedding                      186      2162   2348       7.92\n",
       "other property               385      4749   5134       7.50\n",
       "residential property         362      4731   5093       7.11\n",
       "renovation                    35       576    611       5.73"
      ]
     },
     "execution_count": 45,
     "metadata": {},
     "output_type": "execute_result"
    }
   ],
   "source": [
    "pivot_purpose = to_pivot(data, 'purpose_category')\n",
    "pivot_purpose"
   ]
  },
  {
   "cell_type": "markdown",
   "metadata": {},
   "source": [
    "**Conclusion**"
   ]
  },
  {
   "cell_type": "markdown",
   "metadata": {},
   "source": [
    "People who take money for car and education perposes are most often allow loan delays by 1.3% and 1.2%, respectively. Least get into debtors are people who make various real estate transactions. A record low value is noted in the indicator \"repair\" - 5.7% against 8% of the average.\n",
    "\n",
    "People who take money for a wedding are in the middle range."
   ]
  },
  {
   "cell_type": "markdown",
   "metadata": {},
   "source": [
    "<a id=\"final\"></a>\n",
    "## Research results"
   ]
  },
  {
   "cell_type": "markdown",
   "metadata": {},
   "source": [
    "The studied data sample had obvious gaps (about 10% of the total amount of information) in the `total_income` column. The gaps were filled in with the median values subject to the categories of the `income_type` column. In the process of data preprocessing, only 4 rows were removed, three of which turned out to be duplicates.\n",
    "\n",
    "For the convenience of analytical work, the data were categorized as follows:\n",
    "\n",
    "1. `purpose_category` column to categorize the `purpose` column\n",
    "- Residential proprety for all offers where the word \"hous\" or \"residential\" is included (except for renovation)\n",
    "- Other proprety for all offers where the word \"proprety\" is included (except for residential proprety and renovation)\n",
    "- Renovation\n",
    "- Wedding\n",
    "- Education\n",
    "- Car\n",
    "2. `children_category` column to categorize the `children` column with the following values:\n",
    "- have children\n",
    "- no children\n",
    "3. `income_category` column to categorize the `total_income` column with the following values:\n",
    "- Up to ₽80k\n",
    "- From ₽80k to ₽150k\n",
    "- From ₽150k to ₽250k\n",
    "- From ₽150k to ₽500k\n",
    "- From ₽500k to ₽1m\n",
    "- Over ₽1m\n",
    "4. `debt_category` column to categorize the `debt` column with the following values:\n",
    "- have debts\n",
    "- no debts\n",
    "\n",
    "**8%** - is the average debtors percentage over the entire data sample\n",
    "\n",
    "The analysis was carried out using the pivot table function, the result can be seen in [part 3](#main)\n",
    "\n",
    "**As a result of data analysis, we can say the following:**\n",
    "\n",
    "Deputies with children who are not married or in a cohabitation, as well as those who take loans for operations with a car and for education, more often do not repay loans on time than the rest by about 12-20%.\n",
    "\n",
    "Divorced people, widowers and those who take out loans for home renovations are more likely to repay loans on time, this conclusion may be affected by a relatively small sample, a reserch on a larger sample is required.\n",
    "\n",
    "The indicator of the income level rather does not or only slightly affects the repaying the loan on time probability."
   ]
  },
  {
   "cell_type": "code",
   "execution_count": null,
   "metadata": {},
   "outputs": [],
   "source": []
  }
 ],
 "metadata": {
  "ExecuteTimeLog": [
   {
    "duration": 589,
    "start_time": "2022-01-03T20:06:41.635Z"
   },
   {
    "duration": 53,
    "start_time": "2022-01-03T20:07:02.787Z"
   },
   {
    "duration": 66,
    "start_time": "2022-01-03T20:07:19.715Z"
   },
   {
    "duration": 58,
    "start_time": "2022-01-03T20:07:24.513Z"
   },
   {
    "duration": 354,
    "start_time": "2022-01-03T20:22:00.053Z"
   },
   {
    "duration": 5,
    "start_time": "2022-01-03T20:22:23.852Z"
   },
   {
    "duration": 20,
    "start_time": "2022-01-03T20:23:17.660Z"
   },
   {
    "duration": 7,
    "start_time": "2022-01-03T20:24:01.311Z"
   },
   {
    "duration": 18,
    "start_time": "2022-01-03T20:24:25.320Z"
   },
   {
    "duration": 17,
    "start_time": "2022-01-03T20:24:32.854Z"
   },
   {
    "duration": 852,
    "start_time": "2022-01-03T20:25:11.113Z"
   },
   {
    "duration": 10,
    "start_time": "2022-01-03T20:25:20.962Z"
   },
   {
    "duration": 7,
    "start_time": "2022-01-03T20:25:29.274Z"
   },
   {
    "duration": 19,
    "start_time": "2022-01-03T20:27:10.128Z"
   },
   {
    "duration": 8116,
    "start_time": "2022-01-03T21:00:13.814Z"
   },
   {
    "duration": 7,
    "start_time": "2022-01-03T21:00:40.636Z"
   },
   {
    "duration": 18,
    "start_time": "2022-01-03T21:01:41.744Z"
   },
   {
    "duration": 270,
    "start_time": "2022-01-03T21:02:07.975Z"
   },
   {
    "duration": 271,
    "start_time": "2022-01-03T21:02:11.506Z"
   },
   {
    "duration": 12,
    "start_time": "2022-01-03T21:02:18.464Z"
   },
   {
    "duration": 12,
    "start_time": "2022-01-03T21:03:30.979Z"
   },
   {
    "duration": 2,
    "start_time": "2022-01-03T21:12:07.326Z"
   },
   {
    "duration": 98,
    "start_time": "2022-01-03T21:13:25.701Z"
   },
   {
    "duration": 7,
    "start_time": "2022-01-03T21:13:28.712Z"
   },
   {
    "duration": 19,
    "start_time": "2022-01-03T21:13:39.679Z"
   },
   {
    "duration": 99,
    "start_time": "2022-01-03T21:14:30.447Z"
   },
   {
    "duration": 8,
    "start_time": "2022-01-03T21:14:32.359Z"
   },
   {
    "duration": 19,
    "start_time": "2022-01-03T21:15:20.649Z"
   },
   {
    "duration": 13,
    "start_time": "2022-01-03T21:15:28.732Z"
   },
   {
    "duration": 12,
    "start_time": "2022-01-03T21:15:32.533Z"
   },
   {
    "duration": 14,
    "start_time": "2022-01-03T21:15:45.617Z"
   },
   {
    "duration": 9,
    "start_time": "2022-01-03T21:15:53.677Z"
   },
   {
    "duration": 3,
    "start_time": "2022-01-03T21:19:29.416Z"
   },
   {
    "duration": 4,
    "start_time": "2022-01-03T21:28:48.246Z"
   },
   {
    "duration": 13,
    "start_time": "2022-01-03T21:29:01.310Z"
   },
   {
    "duration": 4,
    "start_time": "2022-01-03T21:29:19.461Z"
   },
   {
    "duration": 6855,
    "start_time": "2022-01-03T21:30:26.690Z"
   },
   {
    "duration": 6677,
    "start_time": "2022-01-03T21:30:37.805Z"
   },
   {
    "duration": 7141,
    "start_time": "2022-01-03T21:30:49.452Z"
   },
   {
    "duration": 6983,
    "start_time": "2022-01-03T21:31:10.653Z"
   },
   {
    "duration": 6975,
    "start_time": "2022-01-03T21:32:06.505Z"
   },
   {
    "duration": 276,
    "start_time": "2022-01-03T21:33:48.181Z"
   },
   {
    "duration": 270,
    "start_time": "2022-01-03T21:33:55.902Z"
   },
   {
    "duration": 292,
    "start_time": "2022-01-03T21:34:01.477Z"
   },
   {
    "duration": 99,
    "start_time": "2022-01-03T21:34:11.737Z"
   },
   {
    "duration": 12,
    "start_time": "2022-01-03T21:34:15.155Z"
   },
   {
    "duration": 10,
    "start_time": "2022-01-03T21:34:34.321Z"
   },
   {
    "duration": 12,
    "start_time": "2022-01-03T21:34:46.386Z"
   },
   {
    "duration": 12,
    "start_time": "2022-01-03T21:35:09.752Z"
   },
   {
    "duration": 268,
    "start_time": "2022-01-03T21:35:38.248Z"
   },
   {
    "duration": 313,
    "start_time": "2022-01-03T21:36:05.201Z"
   },
   {
    "duration": 4464,
    "start_time": "2022-01-03T21:36:08.991Z"
   },
   {
    "duration": 273,
    "start_time": "2022-01-03T21:36:27.726Z"
   },
   {
    "duration": 285,
    "start_time": "2022-01-03T21:36:58.025Z"
   },
   {
    "duration": 270,
    "start_time": "2022-01-03T21:37:14.580Z"
   },
   {
    "duration": 379,
    "start_time": "2022-01-03T21:37:29.118Z"
   },
   {
    "duration": 268,
    "start_time": "2022-01-03T21:37:32.920Z"
   },
   {
    "duration": 616,
    "start_time": "2022-01-03T21:37:35.533Z"
   },
   {
    "duration": 11,
    "start_time": "2022-01-03T21:37:36.151Z"
   },
   {
    "duration": 10,
    "start_time": "2022-01-03T21:37:36.164Z"
   },
   {
    "duration": 11,
    "start_time": "2022-01-03T21:37:36.176Z"
   },
   {
    "duration": 15,
    "start_time": "2022-01-03T21:37:56.482Z"
   },
   {
    "duration": 7208,
    "start_time": "2022-01-03T21:39:33.967Z"
   },
   {
    "duration": 11,
    "start_time": "2022-01-03T21:39:52.045Z"
   },
   {
    "duration": 10467,
    "start_time": "2022-01-03T21:40:30.808Z"
   },
   {
    "duration": 14,
    "start_time": "2022-01-03T21:41:00.789Z"
   },
   {
    "duration": 10,
    "start_time": "2022-01-03T21:41:25.654Z"
   },
   {
    "duration": 14,
    "start_time": "2022-01-03T21:41:50.120Z"
   },
   {
    "duration": 16,
    "start_time": "2022-01-03T21:42:13.546Z"
   },
   {
    "duration": 98,
    "start_time": "2022-01-03T21:42:54.671Z"
   },
   {
    "duration": -649,
    "start_time": "2022-01-03T21:43:17.621Z"
   },
   {
    "duration": 14,
    "start_time": "2022-01-03T21:43:34.817Z"
   },
   {
    "duration": 14,
    "start_time": "2022-01-03T21:44:04.018Z"
   },
   {
    "duration": 14,
    "start_time": "2022-01-03T21:44:53.387Z"
   },
   {
    "duration": 14,
    "start_time": "2022-01-03T21:45:03.897Z"
   },
   {
    "duration": 6982,
    "start_time": "2022-01-03T21:54:20.863Z"
   },
   {
    "duration": 6737,
    "start_time": "2022-01-03T21:54:46.026Z"
   },
   {
    "duration": 6926,
    "start_time": "2022-01-03T21:55:36.106Z"
   },
   {
    "duration": 6636,
    "start_time": "2022-01-03T21:56:05.750Z"
   },
   {
    "duration": 115,
    "start_time": "2022-01-03T21:56:26.445Z"
   },
   {
    "duration": 7179,
    "start_time": "2022-01-03T21:56:30.313Z"
   },
   {
    "duration": 6,
    "start_time": "2022-01-03T21:57:16.440Z"
   },
   {
    "duration": 7056,
    "start_time": "2022-01-03T21:58:42.877Z"
   },
   {
    "duration": 6,
    "start_time": "2022-01-03T21:59:49.138Z"
   },
   {
    "duration": 281,
    "start_time": "2022-01-03T22:00:55.246Z"
   },
   {
    "duration": 269,
    "start_time": "2022-01-03T22:01:11.306Z"
   },
   {
    "duration": 499,
    "start_time": "2022-01-03T22:01:26.443Z"
   },
   {
    "duration": 7422,
    "start_time": "2022-01-03T22:01:58.671Z"
   },
   {
    "duration": 7026,
    "start_time": "2022-01-03T22:04:04.487Z"
   },
   {
    "duration": 10,
    "start_time": "2022-01-03T22:04:18.227Z"
   },
   {
    "duration": 9,
    "start_time": "2022-01-03T22:04:53.225Z"
   },
   {
    "duration": 3,
    "start_time": "2022-01-03T22:06:47.772Z"
   },
   {
    "duration": 4,
    "start_time": "2022-01-03T22:06:52.179Z"
   },
   {
    "duration": 7594,
    "start_time": "2022-01-03T22:07:16.218Z"
   },
   {
    "duration": 14,
    "start_time": "2022-01-03T22:07:48.214Z"
   },
   {
    "duration": 14,
    "start_time": "2022-01-03T22:07:50.416Z"
   },
   {
    "duration": 6,
    "start_time": "2022-01-03T22:08:41.339Z"
   },
   {
    "duration": 330,
    "start_time": "2022-01-03T22:17:56.383Z"
   },
   {
    "duration": 336,
    "start_time": "2022-01-03T22:18:10.527Z"
   },
   {
    "duration": 7820,
    "start_time": "2022-01-03T22:18:37.919Z"
   },
   {
    "duration": -642,
    "start_time": "2022-01-03T22:19:03.037Z"
   },
   {
    "duration": 6,
    "start_time": "2022-01-03T22:19:13.486Z"
   },
   {
    "duration": 282,
    "start_time": "2022-01-03T22:19:29.119Z"
   },
   {
    "duration": 6,
    "start_time": "2022-01-03T22:19:33.220Z"
   },
   {
    "duration": 7,
    "start_time": "2022-01-03T22:19:38.940Z"
   },
   {
    "duration": 11,
    "start_time": "2022-01-03T22:20:03.571Z"
   },
   {
    "duration": 744,
    "start_time": "2022-01-03T22:20:10.871Z"
   },
   {
    "duration": 317,
    "start_time": "2022-01-03T22:20:19.979Z"
   },
   {
    "duration": 10,
    "start_time": "2022-01-03T22:20:26.262Z"
   },
   {
    "duration": 530,
    "start_time": "2022-01-03T22:21:06.257Z"
   },
   {
    "duration": 6,
    "start_time": "2022-01-03T22:21:20.313Z"
   },
   {
    "duration": 28,
    "start_time": "2022-01-03T22:24:05.330Z"
   },
   {
    "duration": 227,
    "start_time": "2022-01-04T07:56:45.760Z"
   },
   {
    "duration": 674,
    "start_time": "2022-01-04T07:56:58.322Z"
   },
   {
    "duration": 596,
    "start_time": "2022-01-04T07:57:05.678Z"
   },
   {
    "duration": 13,
    "start_time": "2022-01-04T07:57:06.276Z"
   },
   {
    "duration": 9,
    "start_time": "2022-01-04T07:57:06.290Z"
   },
   {
    "duration": 17,
    "start_time": "2022-01-04T07:57:06.300Z"
   },
   {
    "duration": 23,
    "start_time": "2022-01-04T07:57:06.318Z"
   },
   {
    "duration": 22,
    "start_time": "2022-01-04T07:57:06.342Z"
   },
   {
    "duration": 232,
    "start_time": "2022-01-04T07:57:21.977Z"
   },
   {
    "duration": 15,
    "start_time": "2022-01-04T07:57:25.016Z"
   },
   {
    "duration": 572,
    "start_time": "2022-01-04T07:57:59.376Z"
   },
   {
    "duration": 13,
    "start_time": "2022-01-04T07:57:59.949Z"
   },
   {
    "duration": 10,
    "start_time": "2022-01-04T07:57:59.963Z"
   },
   {
    "duration": 44,
    "start_time": "2022-01-04T07:57:59.974Z"
   },
   {
    "duration": 28,
    "start_time": "2022-01-04T07:58:00.020Z"
   },
   {
    "duration": 28,
    "start_time": "2022-01-04T07:58:00.050Z"
   },
   {
    "duration": 253,
    "start_time": "2022-01-04T07:58:44.562Z"
   },
   {
    "duration": 8,
    "start_time": "2022-01-04T07:59:11.428Z"
   },
   {
    "duration": 221,
    "start_time": "2022-01-04T08:00:20.655Z"
   },
   {
    "duration": 636,
    "start_time": "2022-01-04T08:00:27.111Z"
   },
   {
    "duration": 12,
    "start_time": "2022-01-04T08:00:27.748Z"
   },
   {
    "duration": 7,
    "start_time": "2022-01-04T08:00:27.762Z"
   },
   {
    "duration": 20,
    "start_time": "2022-01-04T08:00:27.770Z"
   },
   {
    "duration": 6,
    "start_time": "2022-01-04T08:00:27.792Z"
   },
   {
    "duration": 48,
    "start_time": "2022-01-04T08:00:27.799Z"
   },
   {
    "duration": 62,
    "start_time": "2022-01-04T08:01:20.955Z"
   },
   {
    "duration": 11,
    "start_time": "2022-01-04T08:01:21.019Z"
   },
   {
    "duration": 7,
    "start_time": "2022-01-04T08:01:21.032Z"
   },
   {
    "duration": 25,
    "start_time": "2022-01-04T08:01:21.040Z"
   },
   {
    "duration": 7,
    "start_time": "2022-01-04T08:01:21.066Z"
   },
   {
    "duration": 21,
    "start_time": "2022-01-04T08:01:21.075Z"
   },
   {
    "duration": 9,
    "start_time": "2022-01-04T08:02:22.115Z"
   },
   {
    "duration": 9,
    "start_time": "2022-01-04T08:04:33.867Z"
   },
   {
    "duration": 5,
    "start_time": "2022-01-04T08:04:44.644Z"
   },
   {
    "duration": 9,
    "start_time": "2022-01-04T08:05:08.137Z"
   },
   {
    "duration": 223,
    "start_time": "2022-01-04T08:05:28.920Z"
   },
   {
    "duration": 651,
    "start_time": "2022-01-04T08:05:32.836Z"
   },
   {
    "duration": 13,
    "start_time": "2022-01-04T08:05:33.488Z"
   },
   {
    "duration": 12,
    "start_time": "2022-01-04T08:05:33.503Z"
   },
   {
    "duration": 24,
    "start_time": "2022-01-04T08:05:33.517Z"
   },
   {
    "duration": 6,
    "start_time": "2022-01-04T08:05:33.542Z"
   },
   {
    "duration": 27,
    "start_time": "2022-01-04T08:05:33.549Z"
   },
   {
    "duration": 21,
    "start_time": "2022-01-04T08:05:43.031Z"
   },
   {
    "duration": 24,
    "start_time": "2022-01-04T08:05:49.588Z"
   },
   {
    "duration": 21,
    "start_time": "2022-01-04T08:06:27.816Z"
   },
   {
    "duration": 212,
    "start_time": "2022-01-04T08:08:54.651Z"
   },
   {
    "duration": 9,
    "start_time": "2022-01-04T08:09:10.537Z"
   },
   {
    "duration": 11,
    "start_time": "2022-01-04T08:09:16.060Z"
   },
   {
    "duration": 4778,
    "start_time": "2022-01-04T08:09:38.513Z"
   },
   {
    "duration": 12,
    "start_time": "2022-01-04T08:09:58.231Z"
   },
   {
    "duration": 213,
    "start_time": "2022-01-04T08:10:44.969Z"
   },
   {
    "duration": 204,
    "start_time": "2022-01-04T08:10:57.940Z"
   },
   {
    "duration": 203,
    "start_time": "2022-01-04T08:11:44.164Z"
   },
   {
    "duration": 12,
    "start_time": "2022-01-04T08:11:56.091Z"
   },
   {
    "duration": 13,
    "start_time": "2022-01-04T08:12:16.107Z"
   },
   {
    "duration": 11,
    "start_time": "2022-01-04T08:12:34.227Z"
   },
   {
    "duration": 12,
    "start_time": "2022-01-04T08:13:57.947Z"
   },
   {
    "duration": 14,
    "start_time": "2022-01-04T08:14:03.854Z"
   },
   {
    "duration": 12,
    "start_time": "2022-01-04T08:14:38.443Z"
   },
   {
    "duration": 8,
    "start_time": "2022-01-04T08:19:26.382Z"
   },
   {
    "duration": 7,
    "start_time": "2022-01-04T08:19:33.216Z"
   },
   {
    "duration": 48,
    "start_time": "2022-01-04T08:23:29.658Z"
   },
   {
    "duration": 44,
    "start_time": "2022-01-04T08:23:53.462Z"
   },
   {
    "duration": 48,
    "start_time": "2022-01-04T08:24:34.480Z"
   },
   {
    "duration": 59,
    "start_time": "2022-01-04T08:25:07.244Z"
   },
   {
    "duration": 14,
    "start_time": "2022-01-04T08:25:44.325Z"
   },
   {
    "duration": 13,
    "start_time": "2022-01-04T08:25:47.989Z"
   },
   {
    "duration": 19,
    "start_time": "2022-01-04T08:26:13.629Z"
   },
   {
    "duration": 631,
    "start_time": "2022-01-04T08:26:23.062Z"
   },
   {
    "duration": 15,
    "start_time": "2022-01-04T08:26:23.695Z"
   },
   {
    "duration": 7,
    "start_time": "2022-01-04T08:26:23.712Z"
   },
   {
    "duration": 38,
    "start_time": "2022-01-04T08:26:23.721Z"
   },
   {
    "duration": 8,
    "start_time": "2022-01-04T08:26:23.760Z"
   },
   {
    "duration": 58,
    "start_time": "2022-01-04T08:26:24.746Z"
   },
   {
    "duration": 231,
    "start_time": "2022-01-04T08:27:01.132Z"
   },
   {
    "duration": 634,
    "start_time": "2022-01-04T08:27:06.601Z"
   },
   {
    "duration": 13,
    "start_time": "2022-01-04T08:27:07.237Z"
   },
   {
    "duration": 8,
    "start_time": "2022-01-04T08:27:07.253Z"
   },
   {
    "duration": 17,
    "start_time": "2022-01-04T08:27:07.263Z"
   },
   {
    "duration": 7,
    "start_time": "2022-01-04T08:27:07.282Z"
   },
   {
    "duration": 55,
    "start_time": "2022-01-04T08:27:08.030Z"
   },
   {
    "duration": 27,
    "start_time": "2022-01-04T08:28:18.269Z"
   },
   {
    "duration": 337,
    "start_time": "2022-01-04T08:31:01.525Z"
   },
   {
    "duration": 610,
    "start_time": "2022-01-04T08:31:08.256Z"
   },
   {
    "duration": 12,
    "start_time": "2022-01-04T08:31:08.868Z"
   },
   {
    "duration": 9,
    "start_time": "2022-01-04T08:31:08.882Z"
   },
   {
    "duration": 28,
    "start_time": "2022-01-04T08:31:08.893Z"
   },
   {
    "duration": 18,
    "start_time": "2022-01-04T08:31:08.923Z"
   },
   {
    "duration": 14,
    "start_time": "2022-01-04T08:31:09.667Z"
   },
   {
    "duration": 18,
    "start_time": "2022-01-04T08:31:47.236Z"
   },
   {
    "duration": 18,
    "start_time": "2022-01-04T08:31:53.680Z"
   },
   {
    "duration": 13,
    "start_time": "2022-01-04T08:34:41.669Z"
   },
   {
    "duration": 5,
    "start_time": "2022-01-04T08:34:57.341Z"
   },
   {
    "duration": 4,
    "start_time": "2022-01-04T08:35:13.622Z"
   },
   {
    "duration": 675,
    "start_time": "2022-01-04T08:35:37.318Z"
   },
   {
    "duration": 13,
    "start_time": "2022-01-04T08:35:37.994Z"
   },
   {
    "duration": 7,
    "start_time": "2022-01-04T08:35:38.008Z"
   },
   {
    "duration": 32,
    "start_time": "2022-01-04T08:35:38.016Z"
   },
   {
    "duration": 6,
    "start_time": "2022-01-04T08:35:38.049Z"
   },
   {
    "duration": 40,
    "start_time": "2022-01-04T08:35:38.881Z"
   },
   {
    "duration": 5,
    "start_time": "2022-01-04T08:36:11.964Z"
   },
   {
    "duration": 5,
    "start_time": "2022-01-04T08:36:14.168Z"
   },
   {
    "duration": 314,
    "start_time": "2022-01-04T13:28:21.297Z"
   },
   {
    "duration": 280,
    "start_time": "2022-01-04T13:28:29.130Z"
   },
   {
    "duration": -814,
    "start_time": "2022-01-04T13:28:30.226Z"
   },
   {
    "duration": 329,
    "start_time": "2022-01-04T13:28:32.935Z"
   },
   {
    "duration": 657,
    "start_time": "2022-01-04T13:28:40.909Z"
   },
   {
    "duration": 11,
    "start_time": "2022-01-04T13:28:41.568Z"
   },
   {
    "duration": 7,
    "start_time": "2022-01-04T13:28:41.581Z"
   },
   {
    "duration": 15,
    "start_time": "2022-01-04T13:28:41.590Z"
   },
   {
    "duration": 6,
    "start_time": "2022-01-04T13:28:41.627Z"
   },
   {
    "duration": 45,
    "start_time": "2022-01-04T13:28:41.634Z"
   },
   {
    "duration": 2,
    "start_time": "2022-01-04T13:28:41.680Z"
   },
   {
    "duration": 46,
    "start_time": "2022-01-04T13:29:44.664Z"
   },
   {
    "duration": 47,
    "start_time": "2022-01-04T13:30:28.547Z"
   },
   {
    "duration": 314,
    "start_time": "2022-01-04T13:30:45.908Z"
   },
   {
    "duration": 3537,
    "start_time": "2022-01-04T13:31:08.454Z"
   },
   {
    "duration": 319,
    "start_time": "2022-01-04T13:31:27.796Z"
   },
   {
    "duration": 618,
    "start_time": "2022-01-04T13:31:34.827Z"
   },
   {
    "duration": 12,
    "start_time": "2022-01-04T13:31:35.447Z"
   },
   {
    "duration": 7,
    "start_time": "2022-01-04T13:31:35.461Z"
   },
   {
    "duration": 16,
    "start_time": "2022-01-04T13:31:35.469Z"
   },
   {
    "duration": 6,
    "start_time": "2022-01-04T13:31:35.486Z"
   },
   {
    "duration": 73,
    "start_time": "2022-01-04T13:31:35.493Z"
   },
   {
    "duration": 2,
    "start_time": "2022-01-04T13:31:35.567Z"
   },
   {
    "duration": 368,
    "start_time": "2022-01-04T13:32:07.716Z"
   },
   {
    "duration": 625,
    "start_time": "2022-01-04T13:32:11.531Z"
   },
   {
    "duration": 13,
    "start_time": "2022-01-04T13:32:15.294Z"
   },
   {
    "duration": 8,
    "start_time": "2022-01-04T13:32:17.663Z"
   },
   {
    "duration": 18,
    "start_time": "2022-01-04T13:32:20.529Z"
   },
   {
    "duration": 7,
    "start_time": "2022-01-04T13:32:23.338Z"
   },
   {
    "duration": 670,
    "start_time": "2022-01-04T14:53:11.050Z"
   },
   {
    "duration": 14,
    "start_time": "2022-01-04T14:53:16.098Z"
   },
   {
    "duration": 9,
    "start_time": "2022-01-04T14:53:26.942Z"
   },
   {
    "duration": 19,
    "start_time": "2022-01-04T14:53:36.897Z"
   },
   {
    "duration": 7,
    "start_time": "2022-01-04T14:53:43.240Z"
   },
   {
    "duration": 19,
    "start_time": "2022-01-04T15:06:11.705Z"
   },
   {
    "duration": 15,
    "start_time": "2022-01-04T15:07:51.420Z"
   },
   {
    "duration": 81,
    "start_time": "2022-01-04T15:09:07.023Z"
   },
   {
    "duration": 66,
    "start_time": "2022-01-04T15:09:37.050Z"
   },
   {
    "duration": 271,
    "start_time": "2022-01-04T15:09:46.637Z"
   },
   {
    "duration": 14,
    "start_time": "2022-01-04T15:09:56.180Z"
   },
   {
    "duration": 16,
    "start_time": "2022-01-04T15:10:02.983Z"
   },
   {
    "duration": 15,
    "start_time": "2022-01-04T15:10:05.939Z"
   },
   {
    "duration": 8,
    "start_time": "2022-01-04T15:10:22.207Z"
   },
   {
    "duration": 15,
    "start_time": "2022-01-04T15:10:33.756Z"
   },
   {
    "duration": 10,
    "start_time": "2022-01-04T15:10:57.575Z"
   },
   {
    "duration": 7,
    "start_time": "2022-01-04T15:11:13.688Z"
   },
   {
    "duration": 13,
    "start_time": "2022-01-04T15:11:58.267Z"
   },
   {
    "duration": 14,
    "start_time": "2022-01-04T15:12:10.346Z"
   },
   {
    "duration": 2796,
    "start_time": "2022-01-04T15:12:19.138Z"
   },
   {
    "duration": 2968,
    "start_time": "2022-01-04T15:12:38.594Z"
   },
   {
    "duration": 328,
    "start_time": "2022-01-04T15:17:00.305Z"
   },
   {
    "duration": 655,
    "start_time": "2022-01-04T15:17:03.365Z"
   },
   {
    "duration": 14,
    "start_time": "2022-01-04T15:17:04.022Z"
   },
   {
    "duration": 20,
    "start_time": "2022-01-04T15:17:04.039Z"
   },
   {
    "duration": 16,
    "start_time": "2022-01-04T15:17:04.061Z"
   },
   {
    "duration": 7,
    "start_time": "2022-01-04T15:17:04.079Z"
   },
   {
    "duration": 25,
    "start_time": "2022-01-04T15:17:04.087Z"
   },
   {
    "duration": 3,
    "start_time": "2022-01-04T15:17:04.113Z"
   },
   {
    "duration": 22,
    "start_time": "2022-01-04T15:17:13.530Z"
   },
   {
    "duration": 575,
    "start_time": "2022-01-04T15:18:12.007Z"
   },
   {
    "duration": 14,
    "start_time": "2022-01-04T15:18:12.583Z"
   },
   {
    "duration": 28,
    "start_time": "2022-01-04T15:18:12.599Z"
   },
   {
    "duration": 15,
    "start_time": "2022-01-04T15:18:12.628Z"
   },
   {
    "duration": 10,
    "start_time": "2022-01-04T15:18:12.645Z"
   },
   {
    "duration": 16,
    "start_time": "2022-01-04T15:18:14.558Z"
   },
   {
    "duration": 643,
    "start_time": "2022-01-04T15:19:20.469Z"
   },
   {
    "duration": 15,
    "start_time": "2022-01-04T15:19:21.114Z"
   },
   {
    "duration": 9,
    "start_time": "2022-01-04T15:19:21.131Z"
   },
   {
    "duration": 12,
    "start_time": "2022-01-04T15:19:21.161Z"
   },
   {
    "duration": 6,
    "start_time": "2022-01-04T15:19:21.174Z"
   },
   {
    "duration": 317,
    "start_time": "2022-01-04T15:19:21.637Z"
   },
   {
    "duration": 5244,
    "start_time": "2022-01-04T15:19:36.538Z"
   },
   {
    "duration": 5416,
    "start_time": "2022-01-04T15:20:00.518Z"
   },
   {
    "duration": 15,
    "start_time": "2022-01-04T15:20:37.179Z"
   },
   {
    "duration": 699,
    "start_time": "2022-01-04T15:26:54.616Z"
   },
   {
    "duration": 15,
    "start_time": "2022-01-04T15:26:55.317Z"
   },
   {
    "duration": 11,
    "start_time": "2022-01-04T15:26:55.334Z"
   },
   {
    "duration": 27,
    "start_time": "2022-01-04T15:26:55.347Z"
   },
   {
    "duration": 8,
    "start_time": "2022-01-04T15:26:55.376Z"
   },
   {
    "duration": 27,
    "start_time": "2022-01-04T15:27:34.902Z"
   },
   {
    "duration": 289,
    "start_time": "2022-01-04T15:28:03.001Z"
   },
   {
    "duration": 2894,
    "start_time": "2022-01-04T15:28:13.544Z"
   },
   {
    "duration": 2572,
    "start_time": "2022-01-04T15:28:50.905Z"
   },
   {
    "duration": 2990,
    "start_time": "2022-01-04T15:29:06.335Z"
   },
   {
    "duration": 919,
    "start_time": "2022-01-04T15:29:19.027Z"
   },
   {
    "duration": 18,
    "start_time": "2022-01-04T15:29:19.948Z"
   },
   {
    "duration": 11,
    "start_time": "2022-01-04T15:29:19.968Z"
   },
   {
    "duration": 18,
    "start_time": "2022-01-04T15:29:19.981Z"
   },
   {
    "duration": 9,
    "start_time": "2022-01-04T15:29:20.001Z"
   },
   {
    "duration": 20,
    "start_time": "2022-01-04T15:29:20.877Z"
   },
   {
    "duration": 17,
    "start_time": "2022-01-04T15:29:38.085Z"
   },
   {
    "duration": 16,
    "start_time": "2022-01-04T15:31:59.714Z"
   },
   {
    "duration": 16,
    "start_time": "2022-01-04T15:32:12.967Z"
   },
   {
    "duration": 22,
    "start_time": "2022-01-04T15:32:31.212Z"
   },
   {
    "duration": 669,
    "start_time": "2022-01-04T15:33:00.789Z"
   },
   {
    "duration": 14,
    "start_time": "2022-01-04T15:33:01.460Z"
   },
   {
    "duration": 8,
    "start_time": "2022-01-04T15:33:01.476Z"
   },
   {
    "duration": 18,
    "start_time": "2022-01-04T15:33:01.486Z"
   },
   {
    "duration": 7,
    "start_time": "2022-01-04T15:33:01.506Z"
   },
   {
    "duration": 22,
    "start_time": "2022-01-04T15:33:02.896Z"
   },
   {
    "duration": 28,
    "start_time": "2022-01-04T15:33:32.593Z"
   },
   {
    "duration": 59,
    "start_time": "2022-01-04T15:33:46.068Z"
   },
   {
    "duration": 38,
    "start_time": "2022-01-04T15:34:41.186Z"
   },
   {
    "duration": 872,
    "start_time": "2022-01-04T15:35:31.595Z"
   },
   {
    "duration": 22,
    "start_time": "2022-01-04T15:35:48.975Z"
   },
   {
    "duration": 699,
    "start_time": "2022-01-04T15:35:59.649Z"
   },
   {
    "duration": 15,
    "start_time": "2022-01-04T15:36:00.350Z"
   },
   {
    "duration": 8,
    "start_time": "2022-01-04T15:36:00.368Z"
   },
   {
    "duration": 24,
    "start_time": "2022-01-04T15:36:00.377Z"
   },
   {
    "duration": 10,
    "start_time": "2022-01-04T15:36:00.402Z"
   },
   {
    "duration": 23,
    "start_time": "2022-01-04T15:36:01.191Z"
   },
   {
    "duration": 38,
    "start_time": "2022-01-04T15:36:23.682Z"
   },
   {
    "duration": 607,
    "start_time": "2022-01-04T15:36:45.300Z"
   },
   {
    "duration": 14,
    "start_time": "2022-01-04T15:36:45.910Z"
   },
   {
    "duration": 9,
    "start_time": "2022-01-04T15:36:45.927Z"
   },
   {
    "duration": 34,
    "start_time": "2022-01-04T15:36:45.938Z"
   },
   {
    "duration": 25,
    "start_time": "2022-01-04T15:36:45.973Z"
   },
   {
    "duration": 636,
    "start_time": "2022-01-04T15:39:04.202Z"
   },
   {
    "duration": 15,
    "start_time": "2022-01-04T15:39:04.840Z"
   },
   {
    "duration": 19,
    "start_time": "2022-01-04T15:39:04.857Z"
   },
   {
    "duration": 29,
    "start_time": "2022-01-04T15:39:04.877Z"
   },
   {
    "duration": 19,
    "start_time": "2022-01-04T15:39:04.907Z"
   },
   {
    "duration": 43,
    "start_time": "2022-01-04T15:39:07.979Z"
   },
   {
    "duration": 34,
    "start_time": "2022-01-04T15:39:13.755Z"
   },
   {
    "duration": 705,
    "start_time": "2022-01-04T15:39:44.379Z"
   },
   {
    "duration": 13,
    "start_time": "2022-01-04T15:39:45.086Z"
   },
   {
    "duration": 8,
    "start_time": "2022-01-04T15:39:45.101Z"
   },
   {
    "duration": 15,
    "start_time": "2022-01-04T15:39:45.111Z"
   },
   {
    "duration": 35,
    "start_time": "2022-01-04T15:39:45.127Z"
   },
   {
    "duration": 55,
    "start_time": "2022-01-04T15:39:45.722Z"
   },
   {
    "duration": 6,
    "start_time": "2022-01-04T15:40:28.403Z"
   },
   {
    "duration": 53,
    "start_time": "2022-01-04T15:42:47.734Z"
   },
   {
    "duration": 20,
    "start_time": "2022-01-04T15:43:11.302Z"
   },
   {
    "duration": 20,
    "start_time": "2022-01-04T15:44:15.318Z"
   },
   {
    "duration": 19,
    "start_time": "2022-01-04T15:44:25.963Z"
   },
   {
    "duration": 17,
    "start_time": "2022-01-04T15:45:56.942Z"
   },
   {
    "duration": 19,
    "start_time": "2022-01-04T15:46:06.570Z"
   },
   {
    "duration": 27,
    "start_time": "2022-01-04T15:46:34.629Z"
   },
   {
    "duration": 650,
    "start_time": "2022-01-04T15:52:18.225Z"
   },
   {
    "duration": 14,
    "start_time": "2022-01-04T15:52:18.877Z"
   },
   {
    "duration": 9,
    "start_time": "2022-01-04T15:52:18.893Z"
   },
   {
    "duration": 14,
    "start_time": "2022-01-04T15:52:18.903Z"
   },
   {
    "duration": 7,
    "start_time": "2022-01-04T15:52:18.918Z"
   },
   {
    "duration": 53,
    "start_time": "2022-01-04T15:54:21.800Z"
   },
   {
    "duration": 27,
    "start_time": "2022-01-04T15:54:47.157Z"
   },
   {
    "duration": 829,
    "start_time": "2022-01-05T12:50:36.272Z"
   },
   {
    "duration": 22,
    "start_time": "2022-01-05T12:50:37.104Z"
   },
   {
    "duration": 35,
    "start_time": "2022-01-05T12:50:37.129Z"
   },
   {
    "duration": 19,
    "start_time": "2022-01-05T12:50:37.167Z"
   },
   {
    "duration": 9,
    "start_time": "2022-01-05T12:50:37.189Z"
   },
   {
    "duration": 85,
    "start_time": "2022-01-05T12:50:37.200Z"
   },
   {
    "duration": 7,
    "start_time": "2022-01-05T12:50:37.287Z"
   },
   {
    "duration": 25,
    "start_time": "2022-01-05T12:51:50.785Z"
   },
   {
    "duration": 26,
    "start_time": "2022-01-05T12:51:58.493Z"
   },
   {
    "duration": 26,
    "start_time": "2022-01-05T12:52:05.941Z"
   },
   {
    "duration": 338,
    "start_time": "2022-01-05T12:57:02.171Z"
   },
   {
    "duration": 9,
    "start_time": "2022-01-05T12:57:42.660Z"
   },
   {
    "duration": 26,
    "start_time": "2022-01-05T12:58:00.211Z"
   },
   {
    "duration": 41,
    "start_time": "2022-01-05T12:58:19.746Z"
   },
   {
    "duration": 38,
    "start_time": "2022-01-05T12:58:53.055Z"
   },
   {
    "duration": 50,
    "start_time": "2022-01-05T12:59:36.542Z"
   },
   {
    "duration": 7,
    "start_time": "2022-01-05T13:01:24.628Z"
   },
   {
    "duration": 9,
    "start_time": "2022-01-05T13:01:37.936Z"
   },
   {
    "duration": 268,
    "start_time": "2022-01-05T13:02:28.875Z"
   },
   {
    "duration": 8,
    "start_time": "2022-01-05T13:02:38.650Z"
   },
   {
    "duration": 257,
    "start_time": "2022-01-05T13:05:16.078Z"
   },
   {
    "duration": 18,
    "start_time": "2022-01-05T13:05:35.904Z"
   },
   {
    "duration": 19,
    "start_time": "2022-01-05T13:18:09.956Z"
   },
   {
    "duration": 17,
    "start_time": "2022-01-05T13:18:20.879Z"
   },
   {
    "duration": 244,
    "start_time": "2022-01-05T13:21:14.364Z"
   },
   {
    "duration": 236,
    "start_time": "2022-01-05T13:21:44.542Z"
   },
   {
    "duration": 8,
    "start_time": "2022-01-05T13:21:52.651Z"
   },
   {
    "duration": 11,
    "start_time": "2022-01-05T13:22:46.163Z"
   },
   {
    "duration": 12,
    "start_time": "2022-01-05T13:23:03.805Z"
   },
   {
    "duration": 18,
    "start_time": "2022-01-05T13:24:18.616Z"
   },
   {
    "duration": 78,
    "start_time": "2022-01-05T13:25:37.549Z"
   },
   {
    "duration": 403,
    "start_time": "2022-01-05T13:26:00.025Z"
   },
   {
    "duration": 97,
    "start_time": "2022-01-05T13:26:37.510Z"
   },
   {
    "duration": 80,
    "start_time": "2022-01-05T13:27:12.453Z"
   },
   {
    "duration": 86,
    "start_time": "2022-01-05T13:27:29.926Z"
   },
   {
    "duration": 18,
    "start_time": "2022-01-05T13:27:42.312Z"
   },
   {
    "duration": 404,
    "start_time": "2022-01-05T19:11:05.620Z"
   },
   {
    "duration": 873,
    "start_time": "2022-01-05T19:11:15.329Z"
   },
   {
    "duration": 21,
    "start_time": "2022-01-05T19:11:16.205Z"
   },
   {
    "duration": 11,
    "start_time": "2022-01-05T19:11:16.229Z"
   },
   {
    "duration": 22,
    "start_time": "2022-01-05T19:11:16.259Z"
   },
   {
    "duration": 11,
    "start_time": "2022-01-05T19:11:16.284Z"
   },
   {
    "duration": 92,
    "start_time": "2022-01-05T19:11:16.297Z"
   },
   {
    "duration": 40,
    "start_time": "2022-01-05T19:11:16.391Z"
   },
   {
    "duration": 13,
    "start_time": "2022-01-05T19:11:16.460Z"
   },
   {
    "duration": 59,
    "start_time": "2022-01-05T19:11:17.137Z"
   },
   {
    "duration": 5,
    "start_time": "2022-01-05T19:18:34.942Z"
   },
   {
    "duration": 14,
    "start_time": "2022-01-05T19:18:42.608Z"
   },
   {
    "duration": 377,
    "start_time": "2022-01-05T19:21:36.769Z"
   },
   {
    "duration": 9619,
    "start_time": "2022-01-05T19:22:56.587Z"
   },
   {
    "duration": 389,
    "start_time": "2022-01-05T19:23:39.772Z"
   },
   {
    "duration": 901,
    "start_time": "2022-01-05T19:23:45.036Z"
   },
   {
    "duration": 30,
    "start_time": "2022-01-05T19:23:45.939Z"
   },
   {
    "duration": 12,
    "start_time": "2022-01-05T19:23:45.972Z"
   },
   {
    "duration": 21,
    "start_time": "2022-01-05T19:23:45.986Z"
   },
   {
    "duration": 13,
    "start_time": "2022-01-05T19:23:46.010Z"
   },
   {
    "duration": 62,
    "start_time": "2022-01-05T19:23:46.061Z"
   },
   {
    "duration": 60,
    "start_time": "2022-01-05T19:23:46.126Z"
   },
   {
    "duration": 12,
    "start_time": "2022-01-05T19:23:46.189Z"
   },
   {
    "duration": 98,
    "start_time": "2022-01-05T19:23:46.203Z"
   },
   {
    "duration": 8502,
    "start_time": "2022-01-05T19:23:47.474Z"
   },
   {
    "duration": 834,
    "start_time": "2022-01-05T19:24:17.458Z"
   },
   {
    "duration": 23,
    "start_time": "2022-01-05T19:24:18.295Z"
   },
   {
    "duration": 38,
    "start_time": "2022-01-05T19:24:18.322Z"
   },
   {
    "duration": 21,
    "start_time": "2022-01-05T19:24:18.364Z"
   },
   {
    "duration": 10,
    "start_time": "2022-01-05T19:24:18.388Z"
   },
   {
    "duration": 96,
    "start_time": "2022-01-05T19:24:18.400Z"
   },
   {
    "duration": 38,
    "start_time": "2022-01-05T19:24:18.498Z"
   },
   {
    "duration": 29,
    "start_time": "2022-01-05T19:24:18.539Z"
   },
   {
    "duration": 93,
    "start_time": "2022-01-05T19:24:18.570Z"
   },
   {
    "duration": 8151,
    "start_time": "2022-01-05T19:24:20.451Z"
   },
   {
    "duration": 861,
    "start_time": "2022-01-05T19:26:34.445Z"
   },
   {
    "duration": 21,
    "start_time": "2022-01-05T19:26:35.309Z"
   },
   {
    "duration": 26,
    "start_time": "2022-01-05T19:26:35.333Z"
   },
   {
    "duration": 19,
    "start_time": "2022-01-05T19:26:35.362Z"
   },
   {
    "duration": 10,
    "start_time": "2022-01-05T19:26:35.383Z"
   },
   {
    "duration": 86,
    "start_time": "2022-01-05T19:26:35.395Z"
   },
   {
    "duration": 37,
    "start_time": "2022-01-05T19:26:35.484Z"
   },
   {
    "duration": 39,
    "start_time": "2022-01-05T19:26:35.524Z"
   },
   {
    "duration": 62,
    "start_time": "2022-01-05T19:26:35.566Z"
   },
   {
    "duration": 411,
    "start_time": "2022-01-05T19:28:18.941Z"
   },
   {
    "duration": 315,
    "start_time": "2022-01-05T19:29:03.400Z"
   },
   {
    "duration": 87,
    "start_time": "2022-01-05T19:29:12.377Z"
   },
   {
    "duration": 16,
    "start_time": "2022-01-05T19:29:19.391Z"
   },
   {
    "duration": 8,
    "start_time": "2022-01-05T19:30:08.392Z"
   },
   {
    "duration": 15,
    "start_time": "2022-01-05T19:30:16.674Z"
   },
   {
    "duration": 351,
    "start_time": "2022-01-05T19:31:26.461Z"
   },
   {
    "duration": 7,
    "start_time": "2022-01-05T19:31:35.113Z"
   },
   {
    "duration": 12,
    "start_time": "2022-01-05T19:31:52.672Z"
   },
   {
    "duration": 6,
    "start_time": "2022-01-05T19:32:09.578Z"
   },
   {
    "duration": 873,
    "start_time": "2022-01-05T19:32:23.917Z"
   },
   {
    "duration": 22,
    "start_time": "2022-01-05T19:32:24.793Z"
   },
   {
    "duration": 11,
    "start_time": "2022-01-05T19:32:24.819Z"
   },
   {
    "duration": 20,
    "start_time": "2022-01-05T19:32:24.860Z"
   },
   {
    "duration": 11,
    "start_time": "2022-01-05T19:32:24.882Z"
   },
   {
    "duration": 90,
    "start_time": "2022-01-05T19:32:24.896Z"
   },
   {
    "duration": 40,
    "start_time": "2022-01-05T19:32:24.988Z"
   },
   {
    "duration": 37,
    "start_time": "2022-01-05T19:32:25.030Z"
   },
   {
    "duration": 60,
    "start_time": "2022-01-05T19:32:25.070Z"
   },
   {
    "duration": 5,
    "start_time": "2022-01-05T19:32:27.552Z"
   },
   {
    "duration": 14,
    "start_time": "2022-01-05T19:32:32.381Z"
   },
   {
    "duration": 15,
    "start_time": "2022-01-05T19:32:40.560Z"
   },
   {
    "duration": 14,
    "start_time": "2022-01-05T19:32:53.811Z"
   },
   {
    "duration": 457,
    "start_time": "2022-01-05T19:34:04.581Z"
   },
   {
    "duration": -1883,
    "start_time": "2022-01-05T19:34:29.978Z"
   },
   {
    "duration": 20,
    "start_time": "2022-01-05T19:34:30.575Z"
   },
   {
    "duration": 396,
    "start_time": "2022-01-05T19:36:29.746Z"
   },
   {
    "duration": 7,
    "start_time": "2022-01-05T19:37:01.005Z"
   },
   {
    "duration": 114,
    "start_time": "2022-01-05T19:37:14.880Z"
   },
   {
    "duration": 3934,
    "start_time": "2022-01-05T19:37:21.332Z"
   },
   {
    "duration": 7,
    "start_time": "2022-01-05T19:37:42.389Z"
   },
   {
    "duration": 12998,
    "start_time": "2022-01-05T19:41:08.556Z"
   },
   {
    "duration": 88,
    "start_time": "2022-01-05T19:41:40.157Z"
   },
   {
    "duration": 15246,
    "start_time": "2022-01-05T19:42:09.527Z"
   },
   {
    "duration": 15772,
    "start_time": "2022-01-05T19:44:01.053Z"
   },
   {
    "duration": 15371,
    "start_time": "2022-01-05T19:44:33.304Z"
   },
   {
    "duration": 1194,
    "start_time": "2022-01-05T19:46:00.846Z"
   },
   {
    "duration": 35,
    "start_time": "2022-01-05T19:46:02.043Z"
   },
   {
    "duration": 12,
    "start_time": "2022-01-05T19:46:02.080Z"
   },
   {
    "duration": 20,
    "start_time": "2022-01-05T19:46:02.095Z"
   },
   {
    "duration": 47,
    "start_time": "2022-01-05T19:46:02.117Z"
   },
   {
    "duration": 58,
    "start_time": "2022-01-05T19:46:02.166Z"
   },
   {
    "duration": 60,
    "start_time": "2022-01-05T19:46:02.226Z"
   },
   {
    "duration": 12,
    "start_time": "2022-01-05T19:46:02.288Z"
   },
   {
    "duration": 96,
    "start_time": "2022-01-05T19:46:02.304Z"
   },
   {
    "duration": 858,
    "start_time": "2022-01-05T19:47:12.579Z"
   },
   {
    "duration": 8176,
    "start_time": "2022-01-05T19:47:47.141Z"
   },
   {
    "duration": 809,
    "start_time": "2022-01-05T19:48:51.800Z"
   },
   {
    "duration": 23,
    "start_time": "2022-01-05T19:48:52.612Z"
   },
   {
    "duration": 14,
    "start_time": "2022-01-05T19:48:52.660Z"
   },
   {
    "duration": 21,
    "start_time": "2022-01-05T19:48:52.677Z"
   },
   {
    "duration": 12,
    "start_time": "2022-01-05T19:48:52.701Z"
   },
   {
    "duration": 102,
    "start_time": "2022-01-05T19:48:52.716Z"
   },
   {
    "duration": 66,
    "start_time": "2022-01-05T19:48:52.821Z"
   },
   {
    "duration": 12,
    "start_time": "2022-01-05T19:48:52.890Z"
   },
   {
    "duration": 93,
    "start_time": "2022-01-05T19:48:52.904Z"
   },
   {
    "duration": 89,
    "start_time": "2022-01-05T19:52:07.069Z"
   },
   {
    "duration": 6,
    "start_time": "2022-01-05T19:53:10.470Z"
   },
   {
    "duration": 15,
    "start_time": "2022-01-05T19:53:15.838Z"
   },
   {
    "duration": 17,
    "start_time": "2022-01-05T19:53:22.526Z"
   },
   {
    "duration": 15,
    "start_time": "2022-01-05T19:54:02.499Z"
   },
   {
    "duration": 419,
    "start_time": "2022-01-05T19:54:13.987Z"
   },
   {
    "duration": 16,
    "start_time": "2022-01-05T19:54:20.735Z"
   },
   {
    "duration": 17,
    "start_time": "2022-01-05T19:54:38.853Z"
   },
   {
    "duration": 346,
    "start_time": "2022-01-05T19:57:14.856Z"
   },
   {
    "duration": 342,
    "start_time": "2022-01-05T19:57:47.056Z"
   },
   {
    "duration": 363,
    "start_time": "2022-01-05T19:58:01.120Z"
   },
   {
    "duration": 343,
    "start_time": "2022-01-05T19:58:09.956Z"
   },
   {
    "duration": 87,
    "start_time": "2022-01-05T19:58:14.354Z"
   },
   {
    "duration": 350,
    "start_time": "2022-01-05T19:58:19.960Z"
   },
   {
    "duration": 23,
    "start_time": "2022-01-05T19:58:32.564Z"
   },
   {
    "duration": 15,
    "start_time": "2022-01-05T20:01:12.871Z"
   },
   {
    "duration": 16,
    "start_time": "2022-01-05T20:02:19.438Z"
   },
   {
    "duration": 15,
    "start_time": "2022-01-05T20:02:33.181Z"
   },
   {
    "duration": 17,
    "start_time": "2022-01-05T20:03:22.318Z"
   },
   {
    "duration": 11,
    "start_time": "2022-01-05T20:03:28.470Z"
   },
   {
    "duration": 15,
    "start_time": "2022-01-05T20:03:50.164Z"
   },
   {
    "duration": 16,
    "start_time": "2022-01-05T20:05:52.553Z"
   },
   {
    "duration": 17,
    "start_time": "2022-01-05T20:06:41.447Z"
   },
   {
    "duration": 27,
    "start_time": "2022-01-05T20:07:06.976Z"
   },
   {
    "duration": 22,
    "start_time": "2022-01-05T20:07:17.215Z"
   },
   {
    "duration": 23,
    "start_time": "2022-01-05T20:08:25.949Z"
   },
   {
    "duration": 23,
    "start_time": "2022-01-05T20:08:35.913Z"
   },
   {
    "duration": 21,
    "start_time": "2022-01-05T20:08:49.060Z"
   },
   {
    "duration": 5,
    "start_time": "2022-01-05T20:16:16.483Z"
   },
   {
    "duration": 15,
    "start_time": "2022-01-05T20:16:20.756Z"
   },
   {
    "duration": 11,
    "start_time": "2022-01-05T20:16:35.980Z"
   },
   {
    "duration": 8,
    "start_time": "2022-01-05T20:16:48.511Z"
   },
   {
    "duration": 19,
    "start_time": "2022-01-05T20:16:52.032Z"
   },
   {
    "duration": 5,
    "start_time": "2022-01-05T20:17:03.295Z"
   },
   {
    "duration": 14,
    "start_time": "2022-01-05T20:17:05.523Z"
   },
   {
    "duration": 21,
    "start_time": "2022-01-05T20:17:14.345Z"
   },
   {
    "duration": 15,
    "start_time": "2022-01-05T20:17:24.396Z"
   },
   {
    "duration": 14,
    "start_time": "2022-01-05T20:20:47.509Z"
   },
   {
    "duration": 2860,
    "start_time": "2022-01-05T20:20:50.751Z"
   },
   {
    "duration": 20,
    "start_time": "2022-01-05T20:21:00.481Z"
   },
   {
    "duration": 20,
    "start_time": "2022-01-05T20:21:15.347Z"
   },
   {
    "duration": 329,
    "start_time": "2022-01-05T20:21:29.109Z"
   },
   {
    "duration": 20,
    "start_time": "2022-01-05T20:21:52.843Z"
   },
   {
    "duration": 14,
    "start_time": "2022-01-05T20:23:04.159Z"
   },
   {
    "duration": 8098,
    "start_time": "2022-01-05T20:24:53.136Z"
   },
   {
    "duration": 33655,
    "start_time": "2022-01-05T20:25:36.710Z"
   },
   {
    "duration": 6,
    "start_time": "2022-01-05T20:29:30.280Z"
   },
   {
    "duration": 35402,
    "start_time": "2022-01-05T20:29:32.431Z"
   },
   {
    "duration": 33654,
    "start_time": "2022-01-05T20:30:16.951Z"
   },
   {
    "duration": 9,
    "start_time": "2022-01-05T20:31:49.243Z"
   },
   {
    "duration": 22,
    "start_time": "2022-01-05T20:33:59.967Z"
   },
   {
    "duration": 330,
    "start_time": "2022-01-05T20:34:49.571Z"
   },
   {
    "duration": 385,
    "start_time": "2022-01-05T20:37:13.361Z"
   },
   {
    "duration": 14,
    "start_time": "2022-01-05T20:38:01.842Z"
   },
   {
    "duration": 19,
    "start_time": "2022-01-05T20:38:43.561Z"
   },
   {
    "duration": 17,
    "start_time": "2022-01-05T20:38:59.920Z"
   },
   {
    "duration": 16,
    "start_time": "2022-01-05T20:39:11.231Z"
   },
   {
    "duration": 8,
    "start_time": "2022-01-05T20:39:16.766Z"
   },
   {
    "duration": 13591,
    "start_time": "2022-01-05T20:39:18.339Z"
   },
   {
    "duration": 11,
    "start_time": "2022-01-05T20:40:55.434Z"
   },
   {
    "duration": 14759,
    "start_time": "2022-01-05T20:40:56.807Z"
   },
   {
    "duration": 7,
    "start_time": "2022-01-05T20:41:14.560Z"
   },
   {
    "duration": 22,
    "start_time": "2022-01-05T20:41:43.562Z"
   },
   {
    "duration": 38,
    "start_time": "2022-01-05T20:43:36.823Z"
   },
   {
    "duration": 21,
    "start_time": "2022-01-05T20:46:58.633Z"
   },
   {
    "duration": 819,
    "start_time": "2022-01-05T21:06:06.083Z"
   },
   {
    "duration": 407,
    "start_time": "2022-01-05T21:09:27.351Z"
   },
   {
    "duration": 379,
    "start_time": "2022-01-05T21:10:16.009Z"
   },
   {
    "duration": 2396,
    "start_time": "2022-01-05T21:11:34.363Z"
   },
   {
    "duration": 8,
    "start_time": "2022-01-05T21:11:51.789Z"
   },
   {
    "duration": 9795,
    "start_time": "2022-01-05T21:11:57.611Z"
   },
   {
    "duration": 9350,
    "start_time": "2022-01-05T21:12:19.736Z"
   },
   {
    "duration": 31,
    "start_time": "2022-01-05T21:12:38.152Z"
   },
   {
    "duration": 144,
    "start_time": "2022-01-05T21:13:24.127Z"
   },
   {
    "duration": 26,
    "start_time": "2022-01-05T21:14:50.101Z"
   },
   {
    "duration": 25,
    "start_time": "2022-01-05T21:15:29.914Z"
   },
   {
    "duration": 28,
    "start_time": "2022-01-05T21:15:40.951Z"
   },
   {
    "duration": 21,
    "start_time": "2022-01-05T21:15:54.926Z"
   },
   {
    "duration": 8,
    "start_time": "2022-01-05T21:16:00.501Z"
   },
   {
    "duration": 16,
    "start_time": "2022-01-05T21:16:05.933Z"
   },
   {
    "duration": 337,
    "start_time": "2022-01-05T21:16:32.239Z"
   },
   {
    "duration": 12,
    "start_time": "2022-01-05T21:16:43.202Z"
   },
   {
    "duration": 323,
    "start_time": "2022-01-05T21:17:10.602Z"
   },
   {
    "duration": 88,
    "start_time": "2022-01-05T21:17:15.836Z"
   },
   {
    "duration": 6,
    "start_time": "2022-01-05T21:17:19.425Z"
   },
   {
    "duration": 19,
    "start_time": "2022-01-05T21:22:46.470Z"
   },
   {
    "duration": 11,
    "start_time": "2022-01-05T21:23:11.914Z"
   },
   {
    "duration": 63,
    "start_time": "2022-01-05T21:23:20.489Z"
   },
   {
    "duration": 324,
    "start_time": "2022-01-05T21:26:51.283Z"
   },
   {
    "duration": 10,
    "start_time": "2022-01-05T21:27:07.888Z"
   },
   {
    "duration": 13,
    "start_time": "2022-01-05T21:27:34.744Z"
   },
   {
    "duration": 316,
    "start_time": "2022-01-05T21:27:45.566Z"
   },
   {
    "duration": 12,
    "start_time": "2022-01-05T21:27:55.713Z"
   },
   {
    "duration": 16,
    "start_time": "2022-01-05T21:28:15.293Z"
   },
   {
    "duration": 17,
    "start_time": "2022-01-05T21:28:41.280Z"
   },
   {
    "duration": 39,
    "start_time": "2022-01-05T21:29:28.530Z"
   },
   {
    "duration": 18,
    "start_time": "2022-01-05T21:29:42.177Z"
   },
   {
    "duration": 323,
    "start_time": "2022-01-05T21:42:32.269Z"
   },
   {
    "duration": 9,
    "start_time": "2022-01-05T21:45:53.655Z"
   },
   {
    "duration": 8,
    "start_time": "2022-01-05T21:47:55.763Z"
   },
   {
    "duration": 26,
    "start_time": "2022-01-05T21:48:06.968Z"
   },
   {
    "duration": 8,
    "start_time": "2022-01-05T21:48:11.703Z"
   },
   {
    "duration": 4144,
    "start_time": "2022-01-05T21:48:13.441Z"
   },
   {
    "duration": 894,
    "start_time": "2022-01-05T21:48:41.025Z"
   },
   {
    "duration": 6,
    "start_time": "2022-01-05T21:48:41.922Z"
   },
   {
    "duration": 33,
    "start_time": "2022-01-05T21:48:41.931Z"
   },
   {
    "duration": 20,
    "start_time": "2022-01-05T21:48:41.967Z"
   },
   {
    "duration": 11,
    "start_time": "2022-01-05T21:48:41.990Z"
   },
   {
    "duration": 85,
    "start_time": "2022-01-05T21:48:42.003Z"
   },
   {
    "duration": 18,
    "start_time": "2022-01-05T21:48:42.091Z"
   },
   {
    "duration": 28,
    "start_time": "2022-01-05T21:48:42.698Z"
   },
   {
    "duration": 25,
    "start_time": "2022-01-05T21:48:50.650Z"
   },
   {
    "duration": 827,
    "start_time": "2022-01-05T21:48:58.903Z"
   },
   {
    "duration": 6,
    "start_time": "2022-01-05T21:48:59.733Z"
   },
   {
    "duration": 29,
    "start_time": "2022-01-05T21:48:59.743Z"
   },
   {
    "duration": 22,
    "start_time": "2022-01-05T21:48:59.776Z"
   },
   {
    "duration": 10,
    "start_time": "2022-01-05T21:48:59.801Z"
   },
   {
    "duration": 94,
    "start_time": "2022-01-05T21:48:59.813Z"
   },
   {
    "duration": 18,
    "start_time": "2022-01-05T21:48:59.909Z"
   },
   {
    "duration": 25,
    "start_time": "2022-01-05T21:49:00.182Z"
   },
   {
    "duration": 871,
    "start_time": "2022-01-05T21:51:28.618Z"
   },
   {
    "duration": 6,
    "start_time": "2022-01-05T21:51:29.492Z"
   },
   {
    "duration": 23,
    "start_time": "2022-01-05T21:51:29.501Z"
   },
   {
    "duration": 40,
    "start_time": "2022-01-05T21:51:29.527Z"
   },
   {
    "duration": 11,
    "start_time": "2022-01-05T21:51:29.570Z"
   },
   {
    "duration": 76,
    "start_time": "2022-01-05T21:51:29.583Z"
   },
   {
    "duration": 18,
    "start_time": "2022-01-05T21:51:29.662Z"
   },
   {
    "duration": 30,
    "start_time": "2022-01-05T21:51:31.031Z"
   },
   {
    "duration": 25,
    "start_time": "2022-01-05T21:51:41.652Z"
   },
   {
    "duration": 4,
    "start_time": "2022-01-05T21:51:46.552Z"
   },
   {
    "duration": 850,
    "start_time": "2022-01-05T21:51:58.947Z"
   },
   {
    "duration": 6,
    "start_time": "2022-01-05T21:51:59.800Z"
   },
   {
    "duration": 22,
    "start_time": "2022-01-05T21:51:59.809Z"
   },
   {
    "duration": 44,
    "start_time": "2022-01-05T21:51:59.833Z"
   },
   {
    "duration": 10,
    "start_time": "2022-01-05T21:51:59.879Z"
   },
   {
    "duration": 75,
    "start_time": "2022-01-05T21:51:59.891Z"
   },
   {
    "duration": 18,
    "start_time": "2022-01-05T21:51:59.969Z"
   },
   {
    "duration": 4,
    "start_time": "2022-01-05T21:52:00.197Z"
   },
   {
    "duration": 23,
    "start_time": "2022-01-05T21:52:02.273Z"
   },
   {
    "duration": 26,
    "start_time": "2022-01-05T22:13:26.054Z"
   },
   {
    "duration": 27,
    "start_time": "2022-01-05T22:13:45.034Z"
   },
   {
    "duration": 26,
    "start_time": "2022-01-05T22:15:39.780Z"
   },
   {
    "duration": 11,
    "start_time": "2022-01-05T22:15:58.556Z"
   },
   {
    "duration": 12,
    "start_time": "2022-01-05T22:16:36.898Z"
   },
   {
    "duration": 453,
    "start_time": "2022-01-05T22:18:21.630Z"
   },
   {
    "duration": 19,
    "start_time": "2022-01-05T22:18:54.106Z"
   },
   {
    "duration": 327,
    "start_time": "2022-01-05T22:19:08.301Z"
   },
   {
    "duration": 33,
    "start_time": "2022-01-05T22:19:12.236Z"
   },
   {
    "duration": 891,
    "start_time": "2022-01-05T22:22:47.051Z"
   },
   {
    "duration": 115,
    "start_time": "2022-01-05T22:23:21.130Z"
   },
   {
    "duration": 132,
    "start_time": "2022-01-05T22:23:38.752Z"
   },
   {
    "duration": 85,
    "start_time": "2022-01-05T22:24:13.103Z"
   },
   {
    "duration": 49,
    "start_time": "2022-01-05T22:29:02.696Z"
   },
   {
    "duration": 49,
    "start_time": "2022-01-05T22:29:08.619Z"
   },
   {
    "duration": 50,
    "start_time": "2022-01-05T22:29:13.791Z"
   },
   {
    "duration": 864,
    "start_time": "2022-01-05T22:29:31.239Z"
   },
   {
    "duration": 6,
    "start_time": "2022-01-05T22:29:32.106Z"
   },
   {
    "duration": 19,
    "start_time": "2022-01-05T22:29:32.114Z"
   },
   {
    "duration": 38,
    "start_time": "2022-01-05T22:29:32.135Z"
   },
   {
    "duration": 10,
    "start_time": "2022-01-05T22:29:32.175Z"
   },
   {
    "duration": 79,
    "start_time": "2022-01-05T22:29:32.188Z"
   },
   {
    "duration": 17,
    "start_time": "2022-01-05T22:29:32.270Z"
   },
   {
    "duration": 24,
    "start_time": "2022-01-05T22:29:32.290Z"
   },
   {
    "duration": 47,
    "start_time": "2022-01-05T22:29:32.316Z"
   },
   {
    "duration": 34,
    "start_time": "2022-01-05T22:29:33.197Z"
   },
   {
    "duration": 93,
    "start_time": "2022-01-05T22:31:29.520Z"
   },
   {
    "duration": 92,
    "start_time": "2022-01-05T22:31:45.571Z"
   },
   {
    "duration": 4,
    "start_time": "2022-01-05T22:31:47.181Z"
   },
   {
    "duration": 755,
    "start_time": "2022-01-05T22:32:00.279Z"
   },
   {
    "duration": 106,
    "start_time": "2022-01-05T22:32:01.037Z"
   },
   {
    "duration": 15,
    "start_time": "2022-01-05T22:32:01.147Z"
   },
   {
    "duration": 31,
    "start_time": "2022-01-05T22:32:01.165Z"
   },
   {
    "duration": 21,
    "start_time": "2022-01-05T22:32:01.198Z"
   },
   {
    "duration": 11,
    "start_time": "2022-01-05T22:32:01.221Z"
   },
   {
    "duration": 55,
    "start_time": "2022-01-05T22:32:01.259Z"
   },
   {
    "duration": 19,
    "start_time": "2022-01-05T22:32:01.317Z"
   },
   {
    "duration": 27,
    "start_time": "2022-01-05T22:32:01.361Z"
   },
   {
    "duration": 14,
    "start_time": "2022-01-05T22:32:01.391Z"
   },
   {
    "duration": 72,
    "start_time": "2022-01-05T22:32:01.408Z"
   },
   {
    "duration": 436,
    "start_time": "2022-01-05T22:37:25.154Z"
   },
   {
    "duration": 325,
    "start_time": "2022-01-05T22:37:40.009Z"
   },
   {
    "duration": 920,
    "start_time": "2022-01-05T22:37:56.186Z"
   },
   {
    "duration": 6,
    "start_time": "2022-01-05T22:39:04.813Z"
   },
   {
    "duration": 6,
    "start_time": "2022-01-05T22:39:08.521Z"
   },
   {
    "duration": 1042,
    "start_time": "2022-01-06T10:15:39.630Z"
   },
   {
    "duration": 102,
    "start_time": "2022-01-06T10:15:40.675Z"
   },
   {
    "duration": 8,
    "start_time": "2022-01-06T10:15:40.781Z"
   },
   {
    "duration": 20,
    "start_time": "2022-01-06T10:15:40.792Z"
   },
   {
    "duration": 56,
    "start_time": "2022-01-06T10:15:40.815Z"
   },
   {
    "duration": 10,
    "start_time": "2022-01-06T10:15:40.874Z"
   },
   {
    "duration": 53,
    "start_time": "2022-01-06T10:15:40.887Z"
   },
   {
    "duration": 40,
    "start_time": "2022-01-06T10:15:40.943Z"
   },
   {
    "duration": 24,
    "start_time": "2022-01-06T10:15:40.986Z"
   },
   {
    "duration": 23,
    "start_time": "2022-01-06T10:15:41.012Z"
   },
   {
    "duration": 39,
    "start_time": "2022-01-06T10:15:41.067Z"
   },
   {
    "duration": 6,
    "start_time": "2022-01-06T10:16:12.488Z"
   },
   {
    "duration": 5,
    "start_time": "2022-01-06T10:28:36.001Z"
   },
   {
    "duration": 5704,
    "start_time": "2022-01-06T10:29:39.627Z"
   },
   {
    "duration": 4763,
    "start_time": "2022-01-06T10:29:54.673Z"
   },
   {
    "duration": 4810,
    "start_time": "2022-01-06T10:30:04.068Z"
   },
   {
    "duration": 760,
    "start_time": "2022-01-06T10:32:02.957Z"
   },
   {
    "duration": 103,
    "start_time": "2022-01-06T10:32:03.719Z"
   },
   {
    "duration": 6,
    "start_time": "2022-01-06T10:32:03.825Z"
   },
   {
    "duration": 38,
    "start_time": "2022-01-06T10:32:03.834Z"
   },
   {
    "duration": 21,
    "start_time": "2022-01-06T10:32:03.874Z"
   },
   {
    "duration": 11,
    "start_time": "2022-01-06T10:32:03.897Z"
   },
   {
    "duration": 92,
    "start_time": "2022-01-06T10:32:03.910Z"
   },
   {
    "duration": 20,
    "start_time": "2022-01-06T10:32:04.004Z"
   },
   {
    "duration": 48,
    "start_time": "2022-01-06T10:32:04.027Z"
   },
   {
    "duration": 14,
    "start_time": "2022-01-06T10:32:04.078Z"
   },
   {
    "duration": 36,
    "start_time": "2022-01-06T10:32:04.095Z"
   },
   {
    "duration": 38,
    "start_time": "2022-01-06T10:32:04.133Z"
   },
   {
    "duration": 5666,
    "start_time": "2022-01-06T10:32:04.173Z"
   },
   {
    "duration": 836,
    "start_time": "2022-01-06T10:32:50.167Z"
   },
   {
    "duration": 105,
    "start_time": "2022-01-06T10:32:51.006Z"
   },
   {
    "duration": 7,
    "start_time": "2022-01-06T10:32:51.114Z"
   },
   {
    "duration": 23,
    "start_time": "2022-01-06T10:32:51.124Z"
   },
   {
    "duration": 20,
    "start_time": "2022-01-06T10:32:51.166Z"
   },
   {
    "duration": 27,
    "start_time": "2022-01-06T10:32:51.189Z"
   },
   {
    "duration": 74,
    "start_time": "2022-01-06T10:32:51.219Z"
   },
   {
    "duration": 19,
    "start_time": "2022-01-06T10:32:51.296Z"
   },
   {
    "duration": 26,
    "start_time": "2022-01-06T10:32:51.318Z"
   },
   {
    "duration": 13,
    "start_time": "2022-01-06T10:32:51.368Z"
   },
   {
    "duration": 40,
    "start_time": "2022-01-06T10:32:51.383Z"
   },
   {
    "duration": 12,
    "start_time": "2022-01-06T10:32:57.678Z"
   },
   {
    "duration": 5,
    "start_time": "2022-01-06T10:33:05.920Z"
   },
   {
    "duration": 19,
    "start_time": "2022-01-06T10:33:19.097Z"
   },
   {
    "duration": 13,
    "start_time": "2022-01-06T10:33:25.853Z"
   },
   {
    "duration": 6,
    "start_time": "2022-01-06T10:33:28.241Z"
   },
   {
    "duration": 5597,
    "start_time": "2022-01-06T10:33:32.203Z"
   },
   {
    "duration": 4747,
    "start_time": "2022-01-06T10:33:41.588Z"
   },
   {
    "duration": 27,
    "start_time": "2022-01-06T10:41:23.872Z"
   },
   {
    "duration": 24,
    "start_time": "2022-01-06T10:42:20.667Z"
   },
   {
    "duration": 8,
    "start_time": "2022-01-06T10:43:35.415Z"
   },
   {
    "duration": 4,
    "start_time": "2022-01-06T10:46:07.602Z"
   },
   {
    "duration": 397,
    "start_time": "2022-01-06T10:46:56.761Z"
   },
   {
    "duration": 312,
    "start_time": "2022-01-06T10:47:07.975Z"
   },
   {
    "duration": 4,
    "start_time": "2022-01-06T10:47:28.923Z"
   },
   {
    "duration": 395,
    "start_time": "2022-01-06T10:47:29.891Z"
   },
   {
    "duration": 13,
    "start_time": "2022-01-06T10:48:17.600Z"
   },
   {
    "duration": 10,
    "start_time": "2022-01-06T10:48:40.914Z"
   },
   {
    "duration": 23,
    "start_time": "2022-01-06T10:50:44.904Z"
   },
   {
    "duration": 26,
    "start_time": "2022-01-06T10:51:36.388Z"
   },
   {
    "duration": 35,
    "start_time": "2022-01-06T10:52:05.638Z"
   },
   {
    "duration": 43,
    "start_time": "2022-01-06T10:52:44.616Z"
   },
   {
    "duration": 27,
    "start_time": "2022-01-06T10:52:56.779Z"
   },
   {
    "duration": 33,
    "start_time": "2022-01-06T10:53:14.508Z"
   },
   {
    "duration": 29,
    "start_time": "2022-01-06T10:53:30.130Z"
   },
   {
    "duration": 30,
    "start_time": "2022-01-06T10:54:09.581Z"
   },
   {
    "duration": 538,
    "start_time": "2022-01-06T18:41:49.762Z"
   },
   {
    "duration": 69,
    "start_time": "2022-01-06T18:41:50.302Z"
   },
   {
    "duration": 4,
    "start_time": "2022-01-06T18:41:50.374Z"
   },
   {
    "duration": 25,
    "start_time": "2022-01-06T18:41:50.380Z"
   },
   {
    "duration": 20,
    "start_time": "2022-01-06T18:41:50.406Z"
   },
   {
    "duration": 20,
    "start_time": "2022-01-06T18:41:50.428Z"
   },
   {
    "duration": 43,
    "start_time": "2022-01-06T18:41:50.449Z"
   },
   {
    "duration": 17,
    "start_time": "2022-01-06T18:41:50.494Z"
   },
   {
    "duration": 15,
    "start_time": "2022-01-06T18:41:50.513Z"
   },
   {
    "duration": 24,
    "start_time": "2022-01-06T18:41:50.529Z"
   },
   {
    "duration": 12,
    "start_time": "2022-01-06T18:41:50.554Z"
   },
   {
    "duration": 3,
    "start_time": "2022-01-06T18:41:50.568Z"
   },
   {
    "duration": 3891,
    "start_time": "2022-01-06T18:41:50.572Z"
   },
   {
    "duration": 4,
    "start_time": "2022-01-06T18:41:54.465Z"
   },
   {
    "duration": 8,
    "start_time": "2022-01-06T18:41:54.471Z"
   },
   {
    "duration": 205,
    "start_time": "2022-01-06T18:41:54.481Z"
   },
   {
    "duration": 8,
    "start_time": "2022-01-06T18:41:54.688Z"
   },
   {
    "duration": 6,
    "start_time": "2022-01-06T18:41:54.698Z"
   },
   {
    "duration": 8,
    "start_time": "2022-01-06T18:42:37.040Z"
   },
   {
    "duration": 10,
    "start_time": "2022-01-06T18:43:11.391Z"
   },
   {
    "duration": 7,
    "start_time": "2022-01-06T18:44:57.375Z"
   },
   {
    "duration": 3,
    "start_time": "2022-01-06T18:45:11.618Z"
   },
   {
    "duration": 4,
    "start_time": "2022-01-06T18:45:13.508Z"
   },
   {
    "duration": 567,
    "start_time": "2022-01-06T18:45:25.172Z"
   },
   {
    "duration": 69,
    "start_time": "2022-01-06T18:45:25.741Z"
   },
   {
    "duration": 4,
    "start_time": "2022-01-06T18:45:25.812Z"
   },
   {
    "duration": 15,
    "start_time": "2022-01-06T18:45:25.818Z"
   },
   {
    "duration": 12,
    "start_time": "2022-01-06T18:45:25.834Z"
   },
   {
    "duration": 6,
    "start_time": "2022-01-06T18:45:25.847Z"
   },
   {
    "duration": 34,
    "start_time": "2022-01-06T18:45:25.854Z"
   },
   {
    "duration": 19,
    "start_time": "2022-01-06T18:45:25.889Z"
   },
   {
    "duration": 33,
    "start_time": "2022-01-06T18:45:25.910Z"
   },
   {
    "duration": 7,
    "start_time": "2022-01-06T18:45:25.945Z"
   },
   {
    "duration": 3,
    "start_time": "2022-01-06T18:45:25.953Z"
   },
   {
    "duration": 13,
    "start_time": "2022-01-06T18:45:25.958Z"
   },
   {
    "duration": 3,
    "start_time": "2022-01-06T18:45:25.973Z"
   },
   {
    "duration": 3770,
    "start_time": "2022-01-06T18:45:25.978Z"
   },
   {
    "duration": 5,
    "start_time": "2022-01-06T18:45:29.750Z"
   },
   {
    "duration": 3,
    "start_time": "2022-01-06T18:45:29.757Z"
   },
   {
    "duration": 210,
    "start_time": "2022-01-06T18:45:29.761Z"
   },
   {
    "duration": 8,
    "start_time": "2022-01-06T18:45:29.972Z"
   },
   {
    "duration": 9,
    "start_time": "2022-01-06T18:45:29.981Z"
   },
   {
    "duration": 6,
    "start_time": "2022-01-06T18:46:43.775Z"
   },
   {
    "duration": 8,
    "start_time": "2022-01-06T18:46:52.255Z"
   },
   {
    "duration": 8,
    "start_time": "2022-01-06T18:47:06.495Z"
   },
   {
    "duration": 20,
    "start_time": "2022-01-06T18:47:36.550Z"
   },
   {
    "duration": 63,
    "start_time": "2022-01-06T18:47:36.571Z"
   },
   {
    "duration": 6,
    "start_time": "2022-01-06T18:47:36.636Z"
   },
   {
    "duration": 13,
    "start_time": "2022-01-06T18:47:36.644Z"
   },
   {
    "duration": 11,
    "start_time": "2022-01-06T18:47:36.658Z"
   },
   {
    "duration": 6,
    "start_time": "2022-01-06T18:47:36.670Z"
   },
   {
    "duration": 31,
    "start_time": "2022-01-06T18:47:36.677Z"
   },
   {
    "duration": 42,
    "start_time": "2022-01-06T18:47:36.710Z"
   },
   {
    "duration": 5,
    "start_time": "2022-01-06T18:47:36.754Z"
   },
   {
    "duration": 10,
    "start_time": "2022-01-06T18:47:36.761Z"
   },
   {
    "duration": 5,
    "start_time": "2022-01-06T18:47:36.773Z"
   },
   {
    "duration": 3,
    "start_time": "2022-01-06T18:47:36.780Z"
   },
   {
    "duration": 15,
    "start_time": "2022-01-06T18:47:36.784Z"
   },
   {
    "duration": 4,
    "start_time": "2022-01-06T18:47:36.801Z"
   },
   {
    "duration": 3611,
    "start_time": "2022-01-06T18:47:36.806Z"
   },
   {
    "duration": 4,
    "start_time": "2022-01-06T18:47:40.419Z"
   },
   {
    "duration": 17,
    "start_time": "2022-01-06T18:47:40.424Z"
   },
   {
    "duration": 204,
    "start_time": "2022-01-06T18:47:40.442Z"
   },
   {
    "duration": 8,
    "start_time": "2022-01-06T18:47:40.647Z"
   },
   {
    "duration": 6,
    "start_time": "2022-01-06T18:47:40.656Z"
   },
   {
    "duration": 248,
    "start_time": "2022-01-06T18:49:38.157Z"
   },
   {
    "duration": 548,
    "start_time": "2022-01-06T18:50:08.046Z"
   },
   {
    "duration": 70,
    "start_time": "2022-01-06T18:50:08.595Z"
   },
   {
    "duration": 4,
    "start_time": "2022-01-06T18:50:08.668Z"
   },
   {
    "duration": 22,
    "start_time": "2022-01-06T18:50:08.674Z"
   },
   {
    "duration": 12,
    "start_time": "2022-01-06T18:50:08.697Z"
   },
   {
    "duration": 5,
    "start_time": "2022-01-06T18:50:08.711Z"
   },
   {
    "duration": 42,
    "start_time": "2022-01-06T18:50:08.718Z"
   },
   {
    "duration": 16,
    "start_time": "2022-01-06T18:50:08.763Z"
   },
   {
    "duration": 11,
    "start_time": "2022-01-06T18:50:08.781Z"
   },
   {
    "duration": 10,
    "start_time": "2022-01-06T18:50:08.793Z"
   },
   {
    "duration": 8,
    "start_time": "2022-01-06T18:50:08.804Z"
   },
   {
    "duration": 3,
    "start_time": "2022-01-06T18:50:08.813Z"
   },
   {
    "duration": 31,
    "start_time": "2022-01-06T18:50:08.817Z"
   },
   {
    "duration": 3,
    "start_time": "2022-01-06T18:50:08.849Z"
   },
   {
    "duration": 3792,
    "start_time": "2022-01-06T18:50:08.854Z"
   },
   {
    "duration": 5,
    "start_time": "2022-01-06T18:50:12.647Z"
   },
   {
    "duration": 27,
    "start_time": "2022-01-06T18:50:12.653Z"
   },
   {
    "duration": 222,
    "start_time": "2022-01-06T18:50:12.682Z"
   },
   {
    "duration": 8,
    "start_time": "2022-01-06T18:50:12.905Z"
   },
   {
    "duration": 23,
    "start_time": "2022-01-06T18:50:12.914Z"
   },
   {
    "duration": 6,
    "start_time": "2022-01-06T18:53:54.709Z"
   },
   {
    "duration": 13,
    "start_time": "2022-01-06T18:56:14.859Z"
   },
   {
    "duration": 14,
    "start_time": "2022-01-06T18:56:29.260Z"
   },
   {
    "duration": 5,
    "start_time": "2022-01-06T18:57:08.377Z"
   },
   {
    "duration": 3,
    "start_time": "2022-01-06T19:00:56.222Z"
   },
   {
    "duration": 204,
    "start_time": "2022-01-06T19:02:26.468Z"
   },
   {
    "duration": 208,
    "start_time": "2022-01-06T19:02:29.151Z"
   },
   {
    "duration": 12,
    "start_time": "2022-01-06T19:08:50.756Z"
   },
   {
    "duration": 12,
    "start_time": "2022-01-06T19:08:56.237Z"
   },
   {
    "duration": 12,
    "start_time": "2022-01-06T19:09:18.630Z"
   },
   {
    "duration": 4,
    "start_time": "2022-01-06T19:40:46.861Z"
   },
   {
    "duration": 12,
    "start_time": "2022-01-06T19:40:51.622Z"
   },
   {
    "duration": 10,
    "start_time": "2022-01-06T19:40:57.827Z"
   },
   {
    "duration": 507,
    "start_time": "2022-01-06T19:41:13.293Z"
   },
   {
    "duration": 69,
    "start_time": "2022-01-06T19:41:13.802Z"
   },
   {
    "duration": 4,
    "start_time": "2022-01-06T19:41:13.873Z"
   },
   {
    "duration": 13,
    "start_time": "2022-01-06T19:41:13.878Z"
   },
   {
    "duration": 12,
    "start_time": "2022-01-06T19:41:13.892Z"
   },
   {
    "duration": 7,
    "start_time": "2022-01-06T19:41:13.905Z"
   },
   {
    "duration": 58,
    "start_time": "2022-01-06T19:41:13.913Z"
   },
   {
    "duration": 17,
    "start_time": "2022-01-06T19:41:13.973Z"
   },
   {
    "duration": 6,
    "start_time": "2022-01-06T19:41:13.992Z"
   },
   {
    "duration": 8,
    "start_time": "2022-01-06T19:41:14.000Z"
   },
   {
    "duration": 32,
    "start_time": "2022-01-06T19:41:14.010Z"
   },
   {
    "duration": 9,
    "start_time": "2022-01-06T19:41:14.043Z"
   },
   {
    "duration": 12,
    "start_time": "2022-01-06T19:41:14.053Z"
   },
   {
    "duration": 4,
    "start_time": "2022-01-06T19:41:14.067Z"
   },
   {
    "duration": 3932,
    "start_time": "2022-01-06T19:41:14.072Z"
   },
   {
    "duration": 6,
    "start_time": "2022-01-06T19:41:18.006Z"
   },
   {
    "duration": 4,
    "start_time": "2022-01-06T19:41:18.014Z"
   },
   {
    "duration": 222,
    "start_time": "2022-01-06T19:41:18.020Z"
   },
   {
    "duration": 7,
    "start_time": "2022-01-06T19:41:18.244Z"
   },
   {
    "duration": 6,
    "start_time": "2022-01-06T19:41:18.253Z"
   },
   {
    "duration": 5,
    "start_time": "2022-01-06T19:41:18.261Z"
   },
   {
    "duration": 4,
    "start_time": "2022-01-06T19:41:18.267Z"
   },
   {
    "duration": 237,
    "start_time": "2022-01-06T19:41:18.273Z"
   },
   {
    "duration": 13,
    "start_time": "2022-01-06T19:41:18.512Z"
   },
   {
    "duration": 5,
    "start_time": "2022-01-06T19:42:24.772Z"
   },
   {
    "duration": 461,
    "start_time": "2022-01-07T10:34:07.630Z"
   },
   {
    "duration": 554,
    "start_time": "2022-01-07T10:34:15.931Z"
   },
   {
    "duration": 66,
    "start_time": "2022-01-07T10:34:16.486Z"
   },
   {
    "duration": 3,
    "start_time": "2022-01-07T10:34:16.554Z"
   },
   {
    "duration": 12,
    "start_time": "2022-01-07T10:34:16.559Z"
   },
   {
    "duration": 12,
    "start_time": "2022-01-07T10:34:16.573Z"
   },
   {
    "duration": 7,
    "start_time": "2022-01-07T10:34:16.586Z"
   },
   {
    "duration": 54,
    "start_time": "2022-01-07T10:34:16.594Z"
   },
   {
    "duration": 17,
    "start_time": "2022-01-07T10:34:16.649Z"
   },
   {
    "duration": 6,
    "start_time": "2022-01-07T10:34:16.668Z"
   },
   {
    "duration": 12,
    "start_time": "2022-01-07T10:34:16.676Z"
   },
   {
    "duration": 7,
    "start_time": "2022-01-07T10:34:16.689Z"
   },
   {
    "duration": 33,
    "start_time": "2022-01-07T10:34:16.698Z"
   },
   {
    "duration": 11,
    "start_time": "2022-01-07T10:34:19.686Z"
   },
   {
    "duration": 10,
    "start_time": "2022-01-07T10:34:25.824Z"
   },
   {
    "duration": 13,
    "start_time": "2022-01-07T10:34:49.588Z"
   },
   {
    "duration": 17,
    "start_time": "2022-01-07T10:35:12.591Z"
   },
   {
    "duration": 85,
    "start_time": "2022-01-07T10:35:36.675Z"
   },
   {
    "duration": 310,
    "start_time": "2022-01-07T10:35:39.399Z"
   },
   {
    "duration": 18,
    "start_time": "2022-01-07T10:36:06.630Z"
   },
   {
    "duration": 14,
    "start_time": "2022-01-07T10:40:49.111Z"
   },
   {
    "duration": 3601,
    "start_time": "2022-01-07T10:42:05.070Z"
   },
   {
    "duration": 12,
    "start_time": "2022-01-07T10:42:16.734Z"
   },
   {
    "duration": 8,
    "start_time": "2022-01-07T10:45:00.050Z"
   },
   {
    "duration": 15,
    "start_time": "2022-01-07T10:48:05.558Z"
   },
   {
    "duration": 9,
    "start_time": "2022-01-07T10:48:26.970Z"
   },
   {
    "duration": 14,
    "start_time": "2022-01-07T10:48:53.372Z"
   },
   {
    "duration": 590,
    "start_time": "2022-01-07T10:49:06.008Z"
   },
   {
    "duration": 65,
    "start_time": "2022-01-07T10:49:06.600Z"
   },
   {
    "duration": 4,
    "start_time": "2022-01-07T10:49:06.667Z"
   },
   {
    "duration": 11,
    "start_time": "2022-01-07T10:49:06.673Z"
   },
   {
    "duration": 11,
    "start_time": "2022-01-07T10:49:06.686Z"
   },
   {
    "duration": 6,
    "start_time": "2022-01-07T10:49:06.699Z"
   },
   {
    "duration": 34,
    "start_time": "2022-01-07T10:49:07.594Z"
   },
   {
    "duration": 9,
    "start_time": "2022-01-07T10:49:20.369Z"
   },
   {
    "duration": 19,
    "start_time": "2022-01-07T10:50:10.856Z"
   },
   {
    "duration": 13,
    "start_time": "2022-01-07T10:50:20.828Z"
   },
   {
    "duration": 20,
    "start_time": "2022-01-07T10:50:26.233Z"
   },
   {
    "duration": 14,
    "start_time": "2022-01-07T10:50:44.747Z"
   },
   {
    "duration": 8,
    "start_time": "2022-01-07T10:50:47.366Z"
   },
   {
    "duration": 603,
    "start_time": "2022-01-07T10:54:09.658Z"
   },
   {
    "duration": 64,
    "start_time": "2022-01-07T10:54:10.262Z"
   },
   {
    "duration": 5,
    "start_time": "2022-01-07T10:54:10.328Z"
   },
   {
    "duration": 10,
    "start_time": "2022-01-07T10:54:10.334Z"
   },
   {
    "duration": 12,
    "start_time": "2022-01-07T10:54:10.345Z"
   },
   {
    "duration": 6,
    "start_time": "2022-01-07T10:54:10.358Z"
   },
   {
    "duration": 43,
    "start_time": "2022-01-07T10:54:11.219Z"
   },
   {
    "duration": 6,
    "start_time": "2022-01-07T10:54:19.075Z"
   },
   {
    "duration": 7,
    "start_time": "2022-01-07T10:54:21.033Z"
   },
   {
    "duration": 22,
    "start_time": "2022-01-07T10:54:24.089Z"
   },
   {
    "duration": 16,
    "start_time": "2022-01-07T10:54:40.041Z"
   },
   {
    "duration": 558,
    "start_time": "2022-01-07T10:55:44.425Z"
   },
   {
    "duration": 65,
    "start_time": "2022-01-07T10:55:44.985Z"
   },
   {
    "duration": 4,
    "start_time": "2022-01-07T10:55:45.052Z"
   },
   {
    "duration": 11,
    "start_time": "2022-01-07T10:55:45.057Z"
   },
   {
    "duration": 12,
    "start_time": "2022-01-07T10:55:45.070Z"
   },
   {
    "duration": 7,
    "start_time": "2022-01-07T10:55:45.083Z"
   },
   {
    "duration": 47,
    "start_time": "2022-01-07T10:55:45.826Z"
   },
   {
    "duration": 16,
    "start_time": "2022-01-07T10:55:54.076Z"
   },
   {
    "duration": 14,
    "start_time": "2022-01-07T10:55:58.191Z"
   },
   {
    "duration": 14,
    "start_time": "2022-01-07T10:56:07.539Z"
   },
   {
    "duration": 20,
    "start_time": "2022-01-07T10:56:12.906Z"
   },
   {
    "duration": 13,
    "start_time": "2022-01-07T10:56:16.990Z"
   },
   {
    "duration": 28,
    "start_time": "2022-01-07T10:57:45.216Z"
   },
   {
    "duration": 22,
    "start_time": "2022-01-07T10:57:53.762Z"
   },
   {
    "duration": 371,
    "start_time": "2022-01-07T11:03:59.055Z"
   },
   {
    "duration": 274,
    "start_time": "2022-01-07T11:04:08.306Z"
   },
   {
    "duration": 290,
    "start_time": "2022-01-07T11:04:24.751Z"
   },
   {
    "duration": 295,
    "start_time": "2022-01-07T11:07:14.760Z"
   },
   {
    "duration": 285,
    "start_time": "2022-01-07T11:07:26.378Z"
   },
   {
    "duration": 3,
    "start_time": "2022-01-07T11:07:31.256Z"
   },
   {
    "duration": 62,
    "start_time": "2022-01-07T11:07:31.261Z"
   },
   {
    "duration": 4,
    "start_time": "2022-01-07T11:07:31.325Z"
   },
   {
    "duration": 11,
    "start_time": "2022-01-07T11:07:31.330Z"
   },
   {
    "duration": 12,
    "start_time": "2022-01-07T11:07:31.343Z"
   },
   {
    "duration": 6,
    "start_time": "2022-01-07T11:07:31.356Z"
   },
   {
    "duration": 63,
    "start_time": "2022-01-07T11:07:31.364Z"
   },
   {
    "duration": 16,
    "start_time": "2022-01-07T11:07:31.428Z"
   },
   {
    "duration": 6,
    "start_time": "2022-01-07T11:07:31.445Z"
   },
   {
    "duration": 7,
    "start_time": "2022-01-07T11:07:31.453Z"
   },
   {
    "duration": 6,
    "start_time": "2022-01-07T11:07:31.462Z"
   },
   {
    "duration": 8,
    "start_time": "2022-01-07T11:07:31.470Z"
   },
   {
    "duration": 15,
    "start_time": "2022-01-07T11:07:31.479Z"
   },
   {
    "duration": 32,
    "start_time": "2022-01-07T11:07:31.495Z"
   },
   {
    "duration": 3804,
    "start_time": "2022-01-07T11:07:31.528Z"
   },
   {
    "duration": 4,
    "start_time": "2022-01-07T11:07:35.334Z"
   },
   {
    "duration": 3,
    "start_time": "2022-01-07T11:07:35.340Z"
   },
   {
    "duration": 218,
    "start_time": "2022-01-07T11:07:35.344Z"
   },
   {
    "duration": 7,
    "start_time": "2022-01-07T11:07:35.563Z"
   },
   {
    "duration": 7,
    "start_time": "2022-01-07T11:07:35.572Z"
   },
   {
    "duration": 4,
    "start_time": "2022-01-07T11:07:35.580Z"
   },
   {
    "duration": 3,
    "start_time": "2022-01-07T11:07:35.586Z"
   },
   {
    "duration": 331,
    "start_time": "2022-01-07T11:07:35.590Z"
   },
   {
    "duration": 13,
    "start_time": "2022-01-07T11:07:35.922Z"
   },
   {
    "duration": 3,
    "start_time": "2022-01-07T11:07:35.937Z"
   },
   {
    "duration": 7,
    "start_time": "2022-01-07T11:07:54.149Z"
   },
   {
    "duration": 16,
    "start_time": "2022-01-07T11:08:55.786Z"
   },
   {
    "duration": 22,
    "start_time": "2022-01-07T11:09:16.366Z"
   },
   {
    "duration": 304,
    "start_time": "2022-01-07T11:09:58.979Z"
   },
   {
    "duration": 595,
    "start_time": "2022-01-07T11:10:19.676Z"
   },
   {
    "duration": 402,
    "start_time": "2022-01-07T11:10:24.883Z"
   },
   {
    "duration": 26,
    "start_time": "2022-01-07T11:10:29.031Z"
   },
   {
    "duration": 13,
    "start_time": "2022-01-07T11:10:56.897Z"
   },
   {
    "duration": 13,
    "start_time": "2022-01-07T11:11:43.065Z"
   },
   {
    "duration": 217,
    "start_time": "2022-01-07T11:13:40.294Z"
   },
   {
    "duration": 199,
    "start_time": "2022-01-07T11:13:51.278Z"
   },
   {
    "duration": 98,
    "start_time": "2022-01-07T11:14:23.284Z"
   },
   {
    "duration": 320,
    "start_time": "2022-01-07T11:14:27.351Z"
   },
   {
    "duration": 17,
    "start_time": "2022-01-07T11:14:33.279Z"
   },
   {
    "duration": 17,
    "start_time": "2022-01-07T11:14:48.323Z"
   },
   {
    "duration": 21,
    "start_time": "2022-01-07T11:15:04.480Z"
   },
   {
    "duration": 202,
    "start_time": "2022-01-07T11:16:40.947Z"
   },
   {
    "duration": 244,
    "start_time": "2022-01-07T17:49:00.856Z"
   },
   {
    "duration": 567,
    "start_time": "2022-01-07T17:49:07.329Z"
   },
   {
    "duration": 67,
    "start_time": "2022-01-07T17:49:07.898Z"
   },
   {
    "duration": 4,
    "start_time": "2022-01-07T17:49:07.967Z"
   },
   {
    "duration": 13,
    "start_time": "2022-01-07T17:49:07.973Z"
   },
   {
    "duration": 12,
    "start_time": "2022-01-07T17:49:07.988Z"
   },
   {
    "duration": 6,
    "start_time": "2022-01-07T17:49:08.001Z"
   },
   {
    "duration": 77,
    "start_time": "2022-01-07T17:49:08.009Z"
   },
   {
    "duration": 16,
    "start_time": "2022-01-07T17:49:08.087Z"
   },
   {
    "duration": 6,
    "start_time": "2022-01-07T17:49:08.105Z"
   },
   {
    "duration": 30,
    "start_time": "2022-01-07T17:49:08.112Z"
   },
   {
    "duration": 6,
    "start_time": "2022-01-07T17:49:08.143Z"
   },
   {
    "duration": 9,
    "start_time": "2022-01-07T17:49:08.150Z"
   },
   {
    "duration": 19,
    "start_time": "2022-01-07T17:49:08.160Z"
   },
   {
    "duration": 3,
    "start_time": "2022-01-07T17:49:08.180Z"
   },
   {
    "duration": 4133,
    "start_time": "2022-01-07T17:49:08.185Z"
   },
   {
    "duration": 4,
    "start_time": "2022-01-07T17:49:12.320Z"
   },
   {
    "duration": 4,
    "start_time": "2022-01-07T17:49:12.325Z"
   },
   {
    "duration": 230,
    "start_time": "2022-01-07T17:49:12.330Z"
   },
   {
    "duration": 8,
    "start_time": "2022-01-07T17:49:12.562Z"
   },
   {
    "duration": 7,
    "start_time": "2022-01-07T17:49:12.571Z"
   },
   {
    "duration": 6,
    "start_time": "2022-01-07T17:49:12.579Z"
   },
   {
    "duration": 3,
    "start_time": "2022-01-07T17:49:12.587Z"
   },
   {
    "duration": 243,
    "start_time": "2022-01-07T17:49:12.591Z"
   },
   {
    "duration": 16,
    "start_time": "2022-01-07T17:49:12.836Z"
   },
   {
    "duration": 330,
    "start_time": "2022-01-07T17:49:12.853Z"
   },
   {
    "duration": 14,
    "start_time": "2022-01-07T17:49:13.185Z"
   },
   {
    "duration": 16,
    "start_time": "2022-01-07T17:49:23.156Z"
   },
   {
    "duration": 5041,
    "start_time": "2022-01-07T17:50:50.897Z"
   },
   {
    "duration": 5036,
    "start_time": "2022-01-07T17:51:16.338Z"
   },
   {
    "duration": 229,
    "start_time": "2022-01-07T17:51:45.129Z"
   },
   {
    "duration": 18,
    "start_time": "2022-01-07T17:52:20.283Z"
   },
   {
    "duration": 19,
    "start_time": "2022-01-07T17:52:25.383Z"
   },
   {
    "duration": 19,
    "start_time": "2022-01-07T17:53:44.156Z"
   },
   {
    "duration": 20,
    "start_time": "2022-01-07T17:54:06.459Z"
   },
   {
    "duration": 23,
    "start_time": "2022-01-07T17:55:25.880Z"
   },
   {
    "duration": 60,
    "start_time": "2022-01-07T17:55:54.691Z"
   },
   {
    "duration": 19,
    "start_time": "2022-01-07T17:56:01.272Z"
   },
   {
    "duration": 211,
    "start_time": "2022-01-07T17:58:46.987Z"
   },
   {
    "duration": 21,
    "start_time": "2022-01-07T17:59:07.613Z"
   },
   {
    "duration": 32,
    "start_time": "2022-01-07T17:59:11.730Z"
   },
   {
    "duration": 22,
    "start_time": "2022-01-07T18:00:50.281Z"
   },
   {
    "duration": 20,
    "start_time": "2022-01-07T18:00:52.899Z"
   },
   {
    "duration": 20,
    "start_time": "2022-01-07T18:01:49.042Z"
   },
   {
    "duration": 19,
    "start_time": "2022-01-07T18:01:49.064Z"
   },
   {
    "duration": 23,
    "start_time": "2022-01-07T18:02:11.890Z"
   },
   {
    "duration": 20,
    "start_time": "2022-01-07T18:02:27.591Z"
   },
   {
    "duration": 22,
    "start_time": "2022-01-07T18:04:03.749Z"
   },
   {
    "duration": 25,
    "start_time": "2022-01-07T18:06:24.710Z"
   },
   {
    "duration": 21,
    "start_time": "2022-01-07T18:06:40.641Z"
   },
   {
    "duration": 4,
    "start_time": "2022-01-07T18:08:40.785Z"
   },
   {
    "duration": 4,
    "start_time": "2022-01-07T18:09:57.754Z"
   },
   {
    "duration": 586,
    "start_time": "2022-01-07T18:10:26.060Z"
   },
   {
    "duration": 4,
    "start_time": "2022-01-07T18:12:28.315Z"
   },
   {
    "duration": 4,
    "start_time": "2022-01-07T18:12:38.777Z"
   },
   {
    "duration": 224,
    "start_time": "2022-01-07T18:56:39.269Z"
   },
   {
    "duration": 4,
    "start_time": "2022-01-07T18:56:44.221Z"
   },
   {
    "duration": 16,
    "start_time": "2022-01-07T18:56:46.618Z"
   },
   {
    "duration": 20,
    "start_time": "2022-01-07T18:56:53.559Z"
   },
   {
    "duration": 20,
    "start_time": "2022-01-07T18:57:34.204Z"
   },
   {
    "duration": 21,
    "start_time": "2022-01-07T18:58:18.157Z"
   },
   {
    "duration": 19,
    "start_time": "2022-01-07T18:58:38.779Z"
   },
   {
    "duration": 7,
    "start_time": "2022-01-07T19:01:27.813Z"
   },
   {
    "duration": 578,
    "start_time": "2022-01-07T19:01:40.010Z"
   },
   {
    "duration": 66,
    "start_time": "2022-01-07T19:01:40.590Z"
   },
   {
    "duration": 4,
    "start_time": "2022-01-07T19:01:40.658Z"
   },
   {
    "duration": 13,
    "start_time": "2022-01-07T19:01:40.664Z"
   },
   {
    "duration": 12,
    "start_time": "2022-01-07T19:01:40.678Z"
   },
   {
    "duration": 6,
    "start_time": "2022-01-07T19:01:40.691Z"
   },
   {
    "duration": 68,
    "start_time": "2022-01-07T19:01:40.698Z"
   },
   {
    "duration": 16,
    "start_time": "2022-01-07T19:01:40.769Z"
   },
   {
    "duration": 6,
    "start_time": "2022-01-07T19:01:40.787Z"
   },
   {
    "duration": 8,
    "start_time": "2022-01-07T19:01:40.794Z"
   },
   {
    "duration": 6,
    "start_time": "2022-01-07T19:01:40.803Z"
   },
   {
    "duration": 36,
    "start_time": "2022-01-07T19:01:40.811Z"
   },
   {
    "duration": 15,
    "start_time": "2022-01-07T19:01:40.849Z"
   },
   {
    "duration": 4,
    "start_time": "2022-01-07T19:01:40.865Z"
   },
   {
    "duration": 3941,
    "start_time": "2022-01-07T19:01:40.871Z"
   },
   {
    "duration": 4,
    "start_time": "2022-01-07T19:01:44.814Z"
   },
   {
    "duration": 5,
    "start_time": "2022-01-07T19:01:44.820Z"
   },
   {
    "duration": 230,
    "start_time": "2022-01-07T19:01:44.826Z"
   },
   {
    "duration": 8,
    "start_time": "2022-01-07T19:01:45.058Z"
   },
   {
    "duration": 8,
    "start_time": "2022-01-07T19:01:45.068Z"
   },
   {
    "duration": 6,
    "start_time": "2022-01-07T19:01:45.078Z"
   },
   {
    "duration": 4,
    "start_time": "2022-01-07T19:01:45.086Z"
   },
   {
    "duration": 274,
    "start_time": "2022-01-07T19:01:45.093Z"
   },
   {
    "duration": 15,
    "start_time": "2022-01-07T19:01:45.369Z"
   },
   {
    "duration": 241,
    "start_time": "2022-01-07T19:01:45.385Z"
   },
   {
    "duration": 4,
    "start_time": "2022-01-07T19:01:45.628Z"
   },
   {
    "duration": 4,
    "start_time": "2022-01-07T19:01:45.641Z"
   },
   {
    "duration": 23,
    "start_time": "2022-01-07T19:01:45.646Z"
   },
   {
    "duration": 18,
    "start_time": "2022-01-07T19:01:45.671Z"
   },
   {
    "duration": 17,
    "start_time": "2022-01-07T19:01:45.691Z"
   },
   {
    "duration": 48,
    "start_time": "2022-01-07T19:01:45.709Z"
   },
   {
    "duration": 628,
    "start_time": "2022-01-07T19:05:49.145Z"
   },
   {
    "duration": 78,
    "start_time": "2022-01-07T19:05:49.775Z"
   },
   {
    "duration": 5,
    "start_time": "2022-01-07T19:05:49.856Z"
   },
   {
    "duration": 15,
    "start_time": "2022-01-07T19:05:49.863Z"
   },
   {
    "duration": 13,
    "start_time": "2022-01-07T19:05:49.879Z"
   },
   {
    "duration": 6,
    "start_time": "2022-01-07T19:05:49.894Z"
   },
   {
    "duration": 87,
    "start_time": "2022-01-07T19:05:49.901Z"
   },
   {
    "duration": 20,
    "start_time": "2022-01-07T19:05:49.991Z"
   },
   {
    "duration": 8,
    "start_time": "2022-01-07T19:12:45.310Z"
   },
   {
    "duration": 8,
    "start_time": "2022-01-07T19:16:52.774Z"
   },
   {
    "duration": 584,
    "start_time": "2022-01-07T19:26:41.609Z"
   },
   {
    "duration": 75,
    "start_time": "2022-01-07T19:26:42.195Z"
   },
   {
    "duration": 5,
    "start_time": "2022-01-07T19:26:42.272Z"
   },
   {
    "duration": 14,
    "start_time": "2022-01-07T19:26:42.278Z"
   },
   {
    "duration": 11,
    "start_time": "2022-01-07T19:26:42.294Z"
   },
   {
    "duration": 6,
    "start_time": "2022-01-07T19:26:42.307Z"
   },
   {
    "duration": 80,
    "start_time": "2022-01-07T19:26:42.315Z"
   },
   {
    "duration": 17,
    "start_time": "2022-01-07T19:26:42.397Z"
   },
   {
    "duration": 24,
    "start_time": "2022-01-07T19:26:42.417Z"
   },
   {
    "duration": 10,
    "start_time": "2022-01-07T19:26:42.443Z"
   },
   {
    "duration": 13,
    "start_time": "2022-01-07T19:26:42.456Z"
   },
   {
    "duration": 11,
    "start_time": "2022-01-07T19:26:42.471Z"
   },
   {
    "duration": 17,
    "start_time": "2022-01-07T19:26:42.484Z"
   },
   {
    "duration": 5,
    "start_time": "2022-01-07T19:26:42.502Z"
   },
   {
    "duration": 4405,
    "start_time": "2022-01-07T19:26:42.509Z"
   },
   {
    "duration": 5,
    "start_time": "2022-01-07T19:26:46.916Z"
   },
   {
    "duration": 7,
    "start_time": "2022-01-07T19:26:46.922Z"
   },
   {
    "duration": 243,
    "start_time": "2022-01-07T19:26:46.941Z"
   },
   {
    "duration": 9,
    "start_time": "2022-01-07T19:26:47.186Z"
   },
   {
    "duration": 7,
    "start_time": "2022-01-07T19:26:47.196Z"
   },
   {
    "duration": 8,
    "start_time": "2022-01-07T19:26:47.204Z"
   },
   {
    "duration": 6,
    "start_time": "2022-01-07T19:26:47.213Z"
   },
   {
    "duration": 260,
    "start_time": "2022-01-07T19:26:47.243Z"
   },
   {
    "duration": 16,
    "start_time": "2022-01-07T19:26:47.505Z"
   },
   {
    "duration": 283,
    "start_time": "2022-01-07T19:26:47.523Z"
   },
   {
    "duration": 4,
    "start_time": "2022-01-07T19:26:47.809Z"
   },
   {
    "duration": 10,
    "start_time": "2022-01-07T19:26:47.815Z"
   },
   {
    "duration": 40,
    "start_time": "2022-01-07T19:26:47.827Z"
   },
   {
    "duration": 22,
    "start_time": "2022-01-07T19:26:47.869Z"
   },
   {
    "duration": 20,
    "start_time": "2022-01-07T19:26:47.893Z"
   },
   {
    "duration": 51,
    "start_time": "2022-01-07T19:26:47.914Z"
   },
   {
    "duration": 22,
    "start_time": "2022-01-07T19:28:55.805Z"
   },
   {
    "duration": 288,
    "start_time": "2022-01-07T19:30:26.006Z"
   },
   {
    "duration": 42,
    "start_time": "2022-01-07T19:32:00.703Z"
   },
   {
    "duration": 581,
    "start_time": "2022-01-07T19:33:58.524Z"
   },
   {
    "duration": 75,
    "start_time": "2022-01-07T19:33:59.107Z"
   },
   {
    "duration": 5,
    "start_time": "2022-01-07T19:33:59.184Z"
   },
   {
    "duration": 15,
    "start_time": "2022-01-07T19:33:59.190Z"
   },
   {
    "duration": 12,
    "start_time": "2022-01-07T19:33:59.207Z"
   },
   {
    "duration": 6,
    "start_time": "2022-01-07T19:33:59.220Z"
   },
   {
    "duration": 61,
    "start_time": "2022-01-07T19:33:59.241Z"
   },
   {
    "duration": 16,
    "start_time": "2022-01-07T19:33:59.304Z"
   },
   {
    "duration": 24,
    "start_time": "2022-01-07T19:33:59.322Z"
   },
   {
    "duration": 18,
    "start_time": "2022-01-07T19:33:59.349Z"
   },
   {
    "duration": 8,
    "start_time": "2022-01-07T19:33:59.370Z"
   },
   {
    "duration": 12,
    "start_time": "2022-01-07T19:33:59.379Z"
   },
   {
    "duration": 16,
    "start_time": "2022-01-07T19:33:59.392Z"
   },
   {
    "duration": 32,
    "start_time": "2022-01-07T19:33:59.409Z"
   },
   {
    "duration": 28,
    "start_time": "2022-01-07T19:33:59.443Z"
   },
   {
    "duration": 7,
    "start_time": "2022-01-07T19:33:59.473Z"
   },
   {
    "duration": 6,
    "start_time": "2022-01-07T19:33:59.481Z"
   },
   {
    "duration": 4188,
    "start_time": "2022-01-07T19:33:59.489Z"
   },
   {
    "duration": 6,
    "start_time": "2022-01-07T19:34:03.678Z"
   },
   {
    "duration": 4,
    "start_time": "2022-01-07T19:34:03.685Z"
   },
   {
    "duration": 231,
    "start_time": "2022-01-07T19:34:03.691Z"
   },
   {
    "duration": 7,
    "start_time": "2022-01-07T19:34:03.924Z"
   },
   {
    "duration": 9,
    "start_time": "2022-01-07T19:34:03.941Z"
   },
   {
    "duration": 18,
    "start_time": "2022-01-07T19:34:03.952Z"
   },
   {
    "duration": 5,
    "start_time": "2022-01-07T19:34:03.972Z"
   },
   {
    "duration": 227,
    "start_time": "2022-01-07T19:34:03.978Z"
   },
   {
    "duration": 12,
    "start_time": "2022-01-07T19:34:04.208Z"
   },
   {
    "duration": 231,
    "start_time": "2022-01-07T19:34:04.222Z"
   },
   {
    "duration": 4,
    "start_time": "2022-01-07T19:34:04.456Z"
   },
   {
    "duration": 8,
    "start_time": "2022-01-07T19:34:04.462Z"
   },
   {
    "duration": 27,
    "start_time": "2022-01-07T19:34:04.472Z"
   },
   {
    "duration": 17,
    "start_time": "2022-01-07T19:34:04.501Z"
   },
   {
    "duration": 45,
    "start_time": "2022-01-07T19:34:04.520Z"
   },
   {
    "duration": 19,
    "start_time": "2022-01-07T19:34:04.567Z"
   },
   {
    "duration": 295,
    "start_time": "2022-01-07T19:38:59.576Z"
   },
   {
    "duration": 21,
    "start_time": "2022-01-07T19:39:05.324Z"
   },
   {
    "duration": 280,
    "start_time": "2022-01-07T19:39:15.857Z"
   },
   {
    "duration": 558,
    "start_time": "2022-01-07T19:39:20.659Z"
   },
   {
    "duration": 79,
    "start_time": "2022-01-07T19:39:21.219Z"
   },
   {
    "duration": 4,
    "start_time": "2022-01-07T19:39:21.300Z"
   },
   {
    "duration": 12,
    "start_time": "2022-01-07T19:39:21.306Z"
   },
   {
    "duration": 32,
    "start_time": "2022-01-07T19:39:21.319Z"
   },
   {
    "duration": 9,
    "start_time": "2022-01-07T19:39:21.353Z"
   },
   {
    "duration": 57,
    "start_time": "2022-01-07T19:39:21.364Z"
   },
   {
    "duration": 42,
    "start_time": "2022-01-07T19:39:21.423Z"
   },
   {
    "duration": 6,
    "start_time": "2022-01-07T19:39:21.467Z"
   },
   {
    "duration": 13,
    "start_time": "2022-01-07T19:39:21.474Z"
   },
   {
    "duration": 8,
    "start_time": "2022-01-07T19:39:21.488Z"
   },
   {
    "duration": 16,
    "start_time": "2022-01-07T19:39:21.497Z"
   },
   {
    "duration": 17,
    "start_time": "2022-01-07T19:39:22.822Z"
   },
   {
    "duration": 216,
    "start_time": "2022-01-07T19:39:28.224Z"
   },
   {
    "duration": 18,
    "start_time": "2022-01-07T19:39:32.803Z"
   },
   {
    "duration": 209,
    "start_time": "2022-01-07T19:40:12.791Z"
   },
   {
    "duration": 21,
    "start_time": "2022-01-07T19:40:18.553Z"
   },
   {
    "duration": 14,
    "start_time": "2022-01-07T19:40:53.701Z"
   },
   {
    "duration": 12,
    "start_time": "2022-01-07T19:41:11.725Z"
   },
   {
    "duration": 16,
    "start_time": "2022-01-07T19:41:23.729Z"
   },
   {
    "duration": 13,
    "start_time": "2022-01-07T19:41:55.767Z"
   },
   {
    "duration": 8,
    "start_time": "2022-01-07T19:42:14.216Z"
   },
   {
    "duration": 18,
    "start_time": "2022-01-07T19:42:16.120Z"
   },
   {
    "duration": 8,
    "start_time": "2022-01-07T19:42:18.494Z"
   },
   {
    "duration": 18,
    "start_time": "2022-01-07T19:43:28.369Z"
   },
   {
    "duration": 4,
    "start_time": "2022-01-07T19:48:10.010Z"
   },
   {
    "duration": 4136,
    "start_time": "2022-01-07T19:48:31.069Z"
   },
   {
    "duration": 6,
    "start_time": "2022-01-07T19:49:08.483Z"
   },
   {
    "duration": 221,
    "start_time": "2022-01-07T19:51:24.901Z"
   },
   {
    "duration": 3,
    "start_time": "2022-01-07T19:54:14.806Z"
   },
   {
    "duration": 209,
    "start_time": "2022-01-07T19:54:42.424Z"
   },
   {
    "duration": 3,
    "start_time": "2022-01-07T20:00:36.848Z"
   },
   {
    "duration": 221,
    "start_time": "2022-01-07T20:01:01.282Z"
   },
   {
    "duration": 17,
    "start_time": "2022-01-07T20:01:25.019Z"
   },
   {
    "duration": 221,
    "start_time": "2022-01-07T20:03:30.506Z"
   },
   {
    "duration": 4,
    "start_time": "2022-01-07T20:09:51.567Z"
   },
   {
    "duration": 506,
    "start_time": "2022-01-07T20:12:43.176Z"
   },
   {
    "duration": 71,
    "start_time": "2022-01-07T20:12:43.684Z"
   },
   {
    "duration": 5,
    "start_time": "2022-01-07T20:12:43.757Z"
   },
   {
    "duration": 13,
    "start_time": "2022-01-07T20:12:43.764Z"
   },
   {
    "duration": 13,
    "start_time": "2022-01-07T20:12:43.778Z"
   },
   {
    "duration": 8,
    "start_time": "2022-01-07T20:12:43.792Z"
   },
   {
    "duration": 79,
    "start_time": "2022-01-07T20:12:43.802Z"
   },
   {
    "duration": 18,
    "start_time": "2022-01-07T20:12:43.883Z"
   },
   {
    "duration": 7,
    "start_time": "2022-01-07T20:12:43.904Z"
   },
   {
    "duration": 36,
    "start_time": "2022-01-07T20:12:43.912Z"
   },
   {
    "duration": 6,
    "start_time": "2022-01-07T20:12:43.949Z"
   },
   {
    "duration": 10,
    "start_time": "2022-01-07T20:12:43.957Z"
   },
   {
    "duration": 12,
    "start_time": "2022-01-07T20:12:43.968Z"
   },
   {
    "duration": 15,
    "start_time": "2022-01-07T20:12:43.982Z"
   },
   {
    "duration": 3,
    "start_time": "2022-01-07T20:12:43.999Z"
   },
   {
    "duration": 4066,
    "start_time": "2022-01-07T20:12:44.003Z"
   },
   {
    "duration": 5,
    "start_time": "2022-01-07T20:12:48.070Z"
   },
   {
    "duration": 6,
    "start_time": "2022-01-07T20:12:48.076Z"
   },
   {
    "duration": 229,
    "start_time": "2022-01-07T20:12:48.084Z"
   },
   {
    "duration": 8,
    "start_time": "2022-01-07T20:12:48.315Z"
   },
   {
    "duration": 18,
    "start_time": "2022-01-07T20:12:48.325Z"
   },
   {
    "duration": 10,
    "start_time": "2022-01-07T20:12:48.344Z"
   },
   {
    "duration": 5,
    "start_time": "2022-01-07T20:12:48.356Z"
   },
   {
    "duration": 236,
    "start_time": "2022-01-07T20:12:48.362Z"
   },
   {
    "duration": 15,
    "start_time": "2022-01-07T20:12:48.600Z"
   },
   {
    "duration": 237,
    "start_time": "2022-01-07T20:12:48.616Z"
   },
   {
    "duration": 3,
    "start_time": "2022-01-07T20:12:48.856Z"
   },
   {
    "duration": 9,
    "start_time": "2022-01-07T20:12:48.861Z"
   },
   {
    "duration": 24,
    "start_time": "2022-01-07T20:12:48.871Z"
   },
   {
    "duration": 17,
    "start_time": "2022-01-07T20:12:48.896Z"
   },
   {
    "duration": 37,
    "start_time": "2022-01-07T20:12:48.915Z"
   },
   {
    "duration": 17,
    "start_time": "2022-01-07T20:12:48.953Z"
   },
   {
    "duration": 684,
    "start_time": "2022-01-07T20:47:13.957Z"
   },
   {
    "duration": 99,
    "start_time": "2022-01-07T20:47:14.643Z"
   },
   {
    "duration": 5,
    "start_time": "2022-01-07T20:47:14.745Z"
   },
   {
    "duration": 15,
    "start_time": "2022-01-07T20:47:14.752Z"
   },
   {
    "duration": 16,
    "start_time": "2022-01-07T20:47:14.769Z"
   },
   {
    "duration": 8,
    "start_time": "2022-01-07T20:47:14.787Z"
   },
   {
    "duration": 93,
    "start_time": "2022-01-07T20:47:14.797Z"
   },
   {
    "duration": 20,
    "start_time": "2022-01-07T20:47:14.891Z"
   },
   {
    "duration": 6,
    "start_time": "2022-01-07T20:47:14.913Z"
   },
   {
    "duration": 6,
    "start_time": "2022-01-07T20:47:14.942Z"
   },
   {
    "duration": 7,
    "start_time": "2022-01-07T20:47:14.950Z"
   },
   {
    "duration": 12,
    "start_time": "2022-01-07T20:47:14.958Z"
   },
   {
    "duration": 12,
    "start_time": "2022-01-07T20:47:14.971Z"
   },
   {
    "duration": 15,
    "start_time": "2022-01-07T20:47:14.985Z"
   },
   {
    "duration": 3,
    "start_time": "2022-01-07T20:47:15.002Z"
   },
   {
    "duration": 4436,
    "start_time": "2022-01-07T20:47:15.006Z"
   },
   {
    "duration": 6,
    "start_time": "2022-01-07T20:47:19.444Z"
   },
   {
    "duration": 9,
    "start_time": "2022-01-07T20:47:19.451Z"
   },
   {
    "duration": 232,
    "start_time": "2022-01-07T20:47:19.461Z"
   },
   {
    "duration": 9,
    "start_time": "2022-01-07T20:47:19.694Z"
   },
   {
    "duration": 7,
    "start_time": "2022-01-07T20:47:19.704Z"
   },
   {
    "duration": 30,
    "start_time": "2022-01-07T20:47:19.713Z"
   },
   {
    "duration": 3,
    "start_time": "2022-01-07T20:47:19.745Z"
   },
   {
    "duration": 221,
    "start_time": "2022-01-07T20:47:19.749Z"
   },
   {
    "duration": 13,
    "start_time": "2022-01-07T20:47:19.972Z"
   },
   {
    "duration": 225,
    "start_time": "2022-01-07T20:47:19.987Z"
   },
   {
    "duration": 3,
    "start_time": "2022-01-07T20:47:20.215Z"
   },
   {
    "duration": 7,
    "start_time": "2022-01-07T20:47:20.220Z"
   },
   {
    "duration": 34,
    "start_time": "2022-01-07T20:47:20.228Z"
   },
   {
    "duration": 18,
    "start_time": "2022-01-07T20:47:20.264Z"
   },
   {
    "duration": 17,
    "start_time": "2022-01-07T20:47:20.283Z"
   },
   {
    "duration": 18,
    "start_time": "2022-01-07T20:47:20.301Z"
   },
   {
    "duration": 364,
    "start_time": "2022-01-09T09:36:29.276Z"
   },
   {
    "duration": 719,
    "start_time": "2022-01-09T09:36:36.213Z"
   },
   {
    "duration": 122,
    "start_time": "2022-01-09T09:36:37.647Z"
   },
   {
    "duration": 111,
    "start_time": "2022-01-09T09:37:52.690Z"
   },
   {
    "duration": 118,
    "start_time": "2022-01-09T09:38:31.809Z"
   },
   {
    "duration": 348,
    "start_time": "2022-01-09T17:38:53.957Z"
   },
   {
    "duration": 708,
    "start_time": "2022-01-09T17:38:56.957Z"
   },
   {
    "duration": 131,
    "start_time": "2022-01-09T17:38:58.615Z"
   },
   {
    "duration": 120,
    "start_time": "2022-01-09T17:41:06.598Z"
   },
   {
    "duration": 119,
    "start_time": "2022-01-09T17:41:14.709Z"
   },
   {
    "duration": 118,
    "start_time": "2022-01-09T17:41:20.193Z"
   },
   {
    "duration": 127,
    "start_time": "2022-01-09T19:19:16.954Z"
   },
   {
    "duration": 236,
    "start_time": "2022-01-10T17:18:09.772Z"
   },
   {
    "duration": 632,
    "start_time": "2022-01-10T17:18:13.848Z"
   },
   {
    "duration": 106,
    "start_time": "2022-01-10T17:18:14.482Z"
   },
   {
    "duration": 5,
    "start_time": "2022-01-10T17:18:14.590Z"
   },
   {
    "duration": 21,
    "start_time": "2022-01-10T17:18:14.596Z"
   },
   {
    "duration": 12,
    "start_time": "2022-01-10T17:18:14.618Z"
   },
   {
    "duration": 6,
    "start_time": "2022-01-10T17:18:14.632Z"
   },
   {
    "duration": 74,
    "start_time": "2022-01-10T17:18:14.640Z"
   },
   {
    "duration": 18,
    "start_time": "2022-01-10T17:18:14.717Z"
   },
   {
    "duration": 27,
    "start_time": "2022-01-10T17:18:14.737Z"
   },
   {
    "duration": 16,
    "start_time": "2022-01-10T17:18:14.766Z"
   },
   {
    "duration": 16,
    "start_time": "2022-01-10T17:18:14.783Z"
   },
   {
    "duration": 19,
    "start_time": "2022-01-10T17:18:14.800Z"
   },
   {
    "duration": 32,
    "start_time": "2022-01-10T17:18:14.821Z"
   },
   {
    "duration": 22,
    "start_time": "2022-01-10T17:18:14.855Z"
   },
   {
    "duration": 4,
    "start_time": "2022-01-10T17:18:14.878Z"
   },
   {
    "duration": 4628,
    "start_time": "2022-01-10T17:18:14.883Z"
   },
   {
    "duration": 5,
    "start_time": "2022-01-10T17:18:19.513Z"
   },
   {
    "duration": 9,
    "start_time": "2022-01-10T17:18:19.520Z"
   },
   {
    "duration": 280,
    "start_time": "2022-01-10T17:18:19.531Z"
   },
   {
    "duration": 9,
    "start_time": "2022-01-10T17:18:19.813Z"
   },
   {
    "duration": 29,
    "start_time": "2022-01-10T17:18:19.823Z"
   },
   {
    "duration": 28,
    "start_time": "2022-01-10T17:18:19.854Z"
   },
   {
    "duration": 41,
    "start_time": "2022-01-10T17:18:19.885Z"
   },
   {
    "duration": 297,
    "start_time": "2022-01-10T17:18:19.928Z"
   },
   {
    "duration": 16,
    "start_time": "2022-01-10T17:18:20.226Z"
   },
   {
    "duration": 364,
    "start_time": "2022-01-10T17:18:20.243Z"
   },
   {
    "duration": 4,
    "start_time": "2022-01-10T17:18:20.610Z"
   },
   {
    "duration": 25,
    "start_time": "2022-01-10T17:18:20.616Z"
   },
   {
    "duration": 57,
    "start_time": "2022-01-10T17:18:20.643Z"
   },
   {
    "duration": 26,
    "start_time": "2022-01-10T17:18:20.702Z"
   },
   {
    "duration": 50,
    "start_time": "2022-01-10T17:18:20.729Z"
   },
   {
    "duration": 47,
    "start_time": "2022-01-10T17:18:20.781Z"
   },
   {
    "duration": 9,
    "start_time": "2022-01-10T17:18:43.492Z"
   },
   {
    "duration": 568,
    "start_time": "2022-01-10T17:19:33.217Z"
   },
   {
    "duration": 101,
    "start_time": "2022-01-10T17:19:33.787Z"
   },
   {
    "duration": 5,
    "start_time": "2022-01-10T17:19:33.890Z"
   },
   {
    "duration": 12,
    "start_time": "2022-01-10T17:19:33.897Z"
   },
   {
    "duration": 12,
    "start_time": "2022-01-10T17:19:33.911Z"
   },
   {
    "duration": 7,
    "start_time": "2022-01-10T17:19:33.925Z"
   },
   {
    "duration": 83,
    "start_time": "2022-01-10T17:19:33.934Z"
   },
   {
    "duration": 20,
    "start_time": "2022-01-10T17:19:34.019Z"
   },
   {
    "duration": 7,
    "start_time": "2022-01-10T17:19:34.062Z"
   },
   {
    "duration": 17,
    "start_time": "2022-01-10T17:19:34.071Z"
   },
   {
    "duration": 7,
    "start_time": "2022-01-10T17:19:34.089Z"
   },
   {
    "duration": 10,
    "start_time": "2022-01-10T17:19:34.098Z"
   },
   {
    "duration": 13,
    "start_time": "2022-01-10T17:19:34.109Z"
   },
   {
    "duration": 46,
    "start_time": "2022-01-10T17:19:34.124Z"
   },
   {
    "duration": 3,
    "start_time": "2022-01-10T17:19:34.172Z"
   },
   {
    "duration": 4385,
    "start_time": "2022-01-10T17:19:34.177Z"
   },
   {
    "duration": 5,
    "start_time": "2022-01-10T17:19:38.564Z"
   },
   {
    "duration": 5,
    "start_time": "2022-01-10T17:19:38.570Z"
   },
   {
    "duration": 252,
    "start_time": "2022-01-10T17:19:38.577Z"
   },
   {
    "duration": 10,
    "start_time": "2022-01-10T17:19:38.831Z"
   },
   {
    "duration": 23,
    "start_time": "2022-01-10T17:19:38.843Z"
   },
   {
    "duration": 7,
    "start_time": "2022-01-10T17:19:38.868Z"
   },
   {
    "duration": 3,
    "start_time": "2022-01-10T17:19:38.879Z"
   },
   {
    "duration": 270,
    "start_time": "2022-01-10T17:19:38.885Z"
   },
   {
    "duration": 17,
    "start_time": "2022-01-10T17:19:39.157Z"
   },
   {
    "duration": 266,
    "start_time": "2022-01-10T17:19:39.176Z"
   },
   {
    "duration": 4,
    "start_time": "2022-01-10T17:19:39.445Z"
   },
   {
    "duration": 13,
    "start_time": "2022-01-10T17:19:39.451Z"
   },
   {
    "duration": 28,
    "start_time": "2022-01-10T17:19:39.466Z"
   },
   {
    "duration": 22,
    "start_time": "2022-01-10T17:19:39.496Z"
   },
   {
    "duration": 46,
    "start_time": "2022-01-10T17:19:39.521Z"
   },
   {
    "duration": 21,
    "start_time": "2022-01-10T17:19:39.569Z"
   },
   {
    "duration": 80,
    "start_time": "2022-01-10T18:29:57.444Z"
   },
   {
    "duration": 264,
    "start_time": "2022-01-10T18:32:04.571Z"
   },
   {
    "duration": 70,
    "start_time": "2022-01-10T18:32:11.012Z"
   },
   {
    "duration": 12,
    "start_time": "2022-01-10T18:33:07.669Z"
   },
   {
    "duration": 580,
    "start_time": "2022-01-10T18:34:46.183Z"
   },
   {
    "duration": 109,
    "start_time": "2022-01-10T18:34:46.765Z"
   },
   {
    "duration": 6,
    "start_time": "2022-01-10T18:34:46.877Z"
   },
   {
    "duration": 24,
    "start_time": "2022-01-10T18:34:46.885Z"
   },
   {
    "duration": 17,
    "start_time": "2022-01-10T18:34:46.911Z"
   },
   {
    "duration": 33,
    "start_time": "2022-01-10T18:34:46.932Z"
   },
   {
    "duration": 75,
    "start_time": "2022-01-10T18:34:46.967Z"
   },
   {
    "duration": 28,
    "start_time": "2022-01-10T18:34:47.045Z"
   },
   {
    "duration": 16,
    "start_time": "2022-01-10T18:34:47.075Z"
   },
   {
    "duration": 25,
    "start_time": "2022-01-10T18:34:47.093Z"
   },
   {
    "duration": 7,
    "start_time": "2022-01-10T18:34:47.120Z"
   },
   {
    "duration": 34,
    "start_time": "2022-01-10T18:34:49.387Z"
   },
   {
    "duration": 31,
    "start_time": "2022-01-10T18:35:13.176Z"
   },
   {
    "duration": 11,
    "start_time": "2022-01-10T18:35:17.974Z"
   },
   {
    "duration": 34,
    "start_time": "2022-01-10T18:35:21.264Z"
   },
   {
    "duration": 31,
    "start_time": "2022-01-10T18:35:51.523Z"
   },
   {
    "duration": 10,
    "start_time": "2022-01-10T18:37:47.025Z"
   },
   {
    "duration": 31,
    "start_time": "2022-01-10T18:37:51.185Z"
   },
   {
    "duration": 4,
    "start_time": "2022-01-10T18:40:34.999Z"
   },
   {
    "duration": 36,
    "start_time": "2022-01-10T18:40:38.236Z"
   },
   {
    "duration": 312,
    "start_time": "2022-01-10T18:42:56.169Z"
   },
   {
    "duration": 224,
    "start_time": "2022-01-10T18:43:07.327Z"
   },
   {
    "duration": 4,
    "start_time": "2022-01-10T18:44:53.808Z"
   },
   {
    "duration": 33,
    "start_time": "2022-01-10T18:44:56.199Z"
   },
   {
    "duration": 6,
    "start_time": "2022-01-10T18:45:45.124Z"
   },
   {
    "duration": 23,
    "start_time": "2022-01-10T18:45:47.464Z"
   },
   {
    "duration": 7,
    "start_time": "2022-01-10T18:46:22.755Z"
   },
   {
    "duration": 15,
    "start_time": "2022-01-10T18:46:24.560Z"
   },
   {
    "duration": 31,
    "start_time": "2022-01-10T18:46:41.733Z"
   },
   {
    "duration": 13,
    "start_time": "2022-01-10T18:46:49.149Z"
   },
   {
    "duration": 594,
    "start_time": "2022-01-10T18:52:43.349Z"
   },
   {
    "duration": 102,
    "start_time": "2022-01-10T18:52:43.945Z"
   },
   {
    "duration": 14,
    "start_time": "2022-01-10T18:52:44.049Z"
   },
   {
    "duration": 12,
    "start_time": "2022-01-10T18:52:44.065Z"
   },
   {
    "duration": 13,
    "start_time": "2022-01-10T18:52:44.079Z"
   },
   {
    "duration": 7,
    "start_time": "2022-01-10T18:52:44.093Z"
   },
   {
    "duration": 87,
    "start_time": "2022-01-10T18:52:44.101Z"
   },
   {
    "duration": 18,
    "start_time": "2022-01-10T18:52:44.190Z"
   },
   {
    "duration": 6,
    "start_time": "2022-01-10T18:52:44.211Z"
   },
   {
    "duration": 7,
    "start_time": "2022-01-10T18:52:44.218Z"
   },
   {
    "duration": 36,
    "start_time": "2022-01-10T18:52:44.227Z"
   },
   {
    "duration": 33,
    "start_time": "2022-01-10T18:52:44.265Z"
   },
   {
    "duration": 11,
    "start_time": "2022-01-10T18:52:44.300Z"
   },
   {
    "duration": 8,
    "start_time": "2022-01-10T18:52:44.313Z"
   },
   {
    "duration": 43,
    "start_time": "2022-01-10T18:52:44.323Z"
   },
   {
    "duration": 12,
    "start_time": "2022-01-10T18:52:44.368Z"
   },
   {
    "duration": 16,
    "start_time": "2022-01-10T18:52:44.382Z"
   },
   {
    "duration": 4,
    "start_time": "2022-01-10T18:52:44.400Z"
   },
   {
    "duration": 6959,
    "start_time": "2022-01-10T18:52:44.405Z"
   },
   {
    "duration": 5,
    "start_time": "2022-01-10T18:52:51.366Z"
   },
   {
    "duration": 5,
    "start_time": "2022-01-10T18:52:51.373Z"
   },
   {
    "duration": 370,
    "start_time": "2022-03-21T12:09:08.796Z"
   },
   {
    "duration": 123,
    "start_time": "2022-03-21T12:09:09.168Z"
   },
   {
    "duration": 5,
    "start_time": "2022-03-21T12:09:09.292Z"
   },
   {
    "duration": 13,
    "start_time": "2022-03-21T12:09:09.299Z"
   },
   {
    "duration": 27,
    "start_time": "2022-03-21T12:09:09.314Z"
   },
   {
    "duration": 8,
    "start_time": "2022-03-21T12:09:09.343Z"
   },
   {
    "duration": 58,
    "start_time": "2022-03-21T12:09:09.353Z"
   },
   {
    "duration": 20,
    "start_time": "2022-03-21T12:09:09.438Z"
   },
   {
    "duration": 7,
    "start_time": "2022-03-21T12:09:09.460Z"
   },
   {
    "duration": 8,
    "start_time": "2022-03-21T12:09:09.469Z"
   },
   {
    "duration": 8,
    "start_time": "2022-03-21T12:09:09.478Z"
   },
   {
    "duration": 12,
    "start_time": "2022-03-21T12:09:09.487Z"
   },
   {
    "duration": 48,
    "start_time": "2022-03-21T12:09:09.500Z"
   },
   {
    "duration": 10,
    "start_time": "2022-03-21T12:09:09.551Z"
   },
   {
    "duration": 11,
    "start_time": "2022-03-21T12:09:09.562Z"
   },
   {
    "duration": 15,
    "start_time": "2022-03-21T12:09:09.574Z"
   },
   {
    "duration": 21,
    "start_time": "2022-03-21T12:09:09.591Z"
   },
   {
    "duration": 25,
    "start_time": "2022-03-21T12:09:09.614Z"
   },
   {
    "duration": 3827,
    "start_time": "2022-03-21T12:09:09.640Z"
   },
   {
    "duration": 5,
    "start_time": "2022-03-21T12:09:13.469Z"
   },
   {
    "duration": 25,
    "start_time": "2022-03-21T12:09:13.475Z"
   },
   {
    "duration": 169,
    "start_time": "2022-03-21T12:09:13.502Z"
   },
   {
    "duration": 9,
    "start_time": "2022-03-21T12:09:13.672Z"
   },
   {
    "duration": 40,
    "start_time": "2022-03-21T12:09:13.682Z"
   },
   {
    "duration": 29,
    "start_time": "2022-03-21T12:09:13.724Z"
   },
   {
    "duration": 23,
    "start_time": "2022-03-21T12:09:13.754Z"
   },
   {
    "duration": 160,
    "start_time": "2022-03-21T12:09:13.778Z"
   },
   {
    "duration": 13,
    "start_time": "2022-03-21T12:09:13.939Z"
   },
   {
    "duration": 166,
    "start_time": "2022-03-21T12:09:13.953Z"
   },
   {
    "duration": 3,
    "start_time": "2022-03-21T12:09:14.121Z"
   },
   {
    "duration": 25,
    "start_time": "2022-03-21T12:09:14.126Z"
   },
   {
    "duration": 33,
    "start_time": "2022-03-21T12:09:14.152Z"
   },
   {
    "duration": 18,
    "start_time": "2022-03-21T12:09:14.186Z"
   },
   {
    "duration": 28,
    "start_time": "2022-03-21T12:09:14.206Z"
   },
   {
    "duration": 22,
    "start_time": "2022-03-21T12:09:14.236Z"
   }
  ],
  "kernelspec": {
   "display_name": "Python 3 (ipykernel)",
   "language": "python",
   "name": "python3"
  },
  "language_info": {
   "codemirror_mode": {
    "name": "ipython",
    "version": 3
   },
   "file_extension": ".py",
   "mimetype": "text/x-python",
   "name": "python",
   "nbconvert_exporter": "python",
   "pygments_lexer": "ipython3",
   "version": "3.9.7"
  },
  "toc": {
   "base_numbering": 1,
   "nav_menu": {},
   "number_sections": true,
   "sideBar": true,
   "skip_h1_title": true,
   "title_cell": "Table of Contents",
   "title_sidebar": "Contents",
   "toc_cell": false,
   "toc_position": {},
   "toc_section_display": true,
   "toc_window_display": false
  }
 },
 "nbformat": 4,
 "nbformat_minor": 2
}
