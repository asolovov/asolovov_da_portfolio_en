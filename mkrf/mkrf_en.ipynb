{
 "cells": [
  {
   "cell_type": "markdown",
   "metadata": {
    "id": "sIfNaMOxgFyK"
   },
   "source": [
    "# Russian film distribution data analysis"
   ]
  },
  {
   "cell_type": "markdown",
   "metadata": {},
   "source": [
    "The client of the research is the Russian Federation Ministry of Culture.\n",
    "\n",
    "It is necessary to study the Russian film distribution market and identify current trends. Pay attention to the films that have received government support. Try to answer the question of how interesting such films are to the viewer.\n",
    "\n",
    "The work takes place with the data published on the portal [open data of the Ministry of Culture] (https://opendata.mkrf.ru/). The data set contains information about distribution certificates, box office and government support for films, as well as information from the KinoPoisk website."
   ]
  },
  {
   "cell_type": "markdown",
   "metadata": {
    "toc": true
   },
   "source": [
    "<h1>Contents<span class=\"tocSkip\"></span></h1>\n",
    "<div class=\"toc\"><ul class=\"toc-item\"><li><span><a href=\"#Introduction-to-data\" data-toc-modified-id=\"Introduction-to-data-1\"><span class=\"toc-item-num\">1&nbsp;&nbsp;</span>Introduction to data</a></span><ul class=\"toc-item\"><li><span><a href=\"#Conclusion\" data-toc-modified-id=\"Conclusion-1.1\"><span class=\"toc-item-num\">1.1&nbsp;&nbsp;</span>Conclusion</a></span></li></ul></li><li><span><a href=\"#Data-preprocessing\" data-toc-modified-id=\"Data-preprocessing-2\"><span class=\"toc-item-num\">2&nbsp;&nbsp;</span>Data preprocessing</a></span><ul class=\"toc-item\"><li><span><a href=\"#Data-types\" data-toc-modified-id=\"Data-types-2.1\"><span class=\"toc-item-num\">2.1&nbsp;&nbsp;</span>Data types</a></span></li><li><span><a href=\"#Gaps\" data-toc-modified-id=\"Gaps-2.2\"><span class=\"toc-item-num\">2.2&nbsp;&nbsp;</span>Gaps</a></span></li><li><span><a href=\"#Duplicates\" data-toc-modified-id=\"Duplicates-2.3\"><span class=\"toc-item-num\">2.3&nbsp;&nbsp;</span>Duplicates</a></span></li><li><span><a href=\"#Categorical-columns\" data-toc-modified-id=\"Categorical-columns-2.4\"><span class=\"toc-item-num\">2.4&nbsp;&nbsp;</span>Categorical columns</a></span></li><li><span><a href=\"#Quantitative-clumns\" data-toc-modified-id=\"Quantitative-clumns-2.5\"><span class=\"toc-item-num\">2.5&nbsp;&nbsp;</span>Quantitative clumns</a></span></li><li><span><a href=\"#New-columns\" data-toc-modified-id=\"New-columns-2.6\"><span class=\"toc-item-num\">2.6&nbsp;&nbsp;</span>New columns</a></span></li><li><span><a href=\"#Conclusion\" data-toc-modified-id=\"Conclusion-2.7\"><span class=\"toc-item-num\">2.7&nbsp;&nbsp;</span>Conclusion</a></span></li></ul></li><li><span><a href=\"#Exploratory-data-analysis\" data-toc-modified-id=\"Exploratory-data-analysis-3\"><span class=\"toc-item-num\">3&nbsp;&nbsp;</span>Exploratory data analysis</a></span><ul class=\"toc-item\"><li><span><a href=\"#Number-of-films-and-data-quality\" data-toc-modified-id=\"Number-of-films-and-data-quality-3.1\"><span class=\"toc-item-num\">3.1&nbsp;&nbsp;</span>Number of films and data quality</a></span></li><li><span><a href=\"#Rental-dynamics-by-years\" data-toc-modified-id=\"Rental-dynamics-by-years-3.2\"><span class=\"toc-item-num\">3.2&nbsp;&nbsp;</span>Rental dynamics by years</a></span></li><li><span><a href=\"#Box-office-average-and-median-by-years\" data-toc-modified-id=\"Box-office-average-and-median-by-years-3.3\"><span class=\"toc-item-num\">3.3&nbsp;&nbsp;</span>Box office average and median by years</a></span></li><li><span><a href=\"#Study-of-the-age-restrictions-influence\" data-toc-modified-id=\"Study-of-the-age-restrictions-influence-3.4\"><span class=\"toc-item-num\">3.4&nbsp;&nbsp;</span>Study of the age restrictions influence</a></span></li><li><span><a href=\"#Conclusion\" data-toc-modified-id=\"Conclusion-3.5\"><span class=\"toc-item-num\">3.5&nbsp;&nbsp;</span>Conclusion</a></span></li></ul></li><li><span><a href=\"#Films-that-received-government-support\" data-toc-modified-id=\"Films-that-received-government-support-4\"><span class=\"toc-item-num\">4&nbsp;&nbsp;</span>Films that received government support</a></span><ul class=\"toc-item\"><li><span><a href=\"#Additional-data-processing\" data-toc-modified-id=\"Additional-data-processing-4.1\"><span class=\"toc-item-num\">4.1&nbsp;&nbsp;</span>Additional data processing</a></span></li><li><span><a href=\"#Exploratory-analysis\" data-toc-modified-id=\"Exploratory-analysis-4.2\"><span class=\"toc-item-num\">4.2&nbsp;&nbsp;</span>Exploratory analysis</a></span></li><li><span><a href=\"#Conclusion\" data-toc-modified-id=\"Conclusion-4.3\"><span class=\"toc-item-num\">4.3&nbsp;&nbsp;</span>Conclusion</a></span></li></ul></li><li><span><a href=\"#Research-results\" data-toc-modified-id=\"Research-results-5\"><span class=\"toc-item-num\">5&nbsp;&nbsp;</span>Research results</a></span></li></ul></div>"
   ]
  },
  {
   "cell_type": "markdown",
   "metadata": {
    "id": "3bSlkCsbgFyL"
   },
   "source": [
    "## Introduction to data "
   ]
  },
  {
   "cell_type": "code",
   "execution_count": 1,
   "metadata": {
    "id": "dw87FlzMgFyM"
   },
   "outputs": [],
   "source": [
    "import pandas as pd\n",
    "import matplotlib.pyplot as plt\n",
    "import numpy as np\n",
    "import warnings"
   ]
  },
  {
   "cell_type": "code",
   "execution_count": 2,
   "metadata": {},
   "outputs": [],
   "source": [
    "df_movies = pd.read_csv('mkrf_movies_en.csv')\n",
    "df_shows = pd.read_csv('mkrf_shows.csv')"
   ]
  },
  {
   "cell_type": "code",
   "execution_count": 3,
   "metadata": {},
   "outputs": [
    {
     "name": "stdout",
     "output_type": "stream",
     "text": [
      "<class 'pandas.core.frame.DataFrame'>\n",
      "RangeIndex: 7486 entries, 0 to 7485\n",
      "Data columns (total 15 columns):\n",
      " #   Column                 Non-Null Count  Dtype  \n",
      "---  ------                 --------------  -----  \n",
      " 0   title                  7486 non-null   object \n",
      " 1   puNumber               7486 non-null   object \n",
      " 2   show_start_date        7486 non-null   object \n",
      " 3   type                   7486 non-null   object \n",
      " 4   film_studio            7468 non-null   object \n",
      " 5   production_country     7484 non-null   object \n",
      " 6   director               7477 non-null   object \n",
      " 7   producer               6918 non-null   object \n",
      " 8   age_restriction        7486 non-null   object \n",
      " 9   refundable_support     332 non-null    float64\n",
      " 10  nonrefundable_support  332 non-null    float64\n",
      " 11  budget                 332 non-null    float64\n",
      " 12  financing_source       332 non-null    object \n",
      " 13  ratings                6519 non-null   object \n",
      " 14  genres                 6510 non-null   object \n",
      "dtypes: float64(3), object(12)\n",
      "memory usage: 877.4+ KB\n"
     ]
    },
    {
     "data": {
      "text/html": [
       "<div>\n",
       "<style scoped>\n",
       "    .dataframe tbody tr th:only-of-type {\n",
       "        vertical-align: middle;\n",
       "    }\n",
       "\n",
       "    .dataframe tbody tr th {\n",
       "        vertical-align: top;\n",
       "    }\n",
       "\n",
       "    .dataframe thead th {\n",
       "        text-align: right;\n",
       "    }\n",
       "</style>\n",
       "<table border=\"1\" class=\"dataframe\">\n",
       "  <thead>\n",
       "    <tr style=\"text-align: right;\">\n",
       "      <th></th>\n",
       "      <th>title</th>\n",
       "      <th>puNumber</th>\n",
       "      <th>show_start_date</th>\n",
       "      <th>type</th>\n",
       "      <th>film_studio</th>\n",
       "      <th>production_country</th>\n",
       "      <th>director</th>\n",
       "      <th>producer</th>\n",
       "      <th>age_restriction</th>\n",
       "      <th>refundable_support</th>\n",
       "      <th>nonrefundable_support</th>\n",
       "      <th>budget</th>\n",
       "      <th>financing_source</th>\n",
       "      <th>ratings</th>\n",
       "      <th>genres</th>\n",
       "    </tr>\n",
       "  </thead>\n",
       "  <tbody>\n",
       "    <tr>\n",
       "      <th>0</th>\n",
       "      <td>open space</td>\n",
       "      <td>221048915</td>\n",
       "      <td>2015-11-27T12:00:00.000Z</td>\n",
       "      <td>Art</td>\n",
       "      <td>Touchstone Pictures, Cobalt Pictures, Beacon P...</td>\n",
       "      <td>USA</td>\n",
       "      <td>Kevin Costner</td>\n",
       "      <td>David Valdes, Kevin Costner, Jake Eberts</td>\n",
       "      <td>\"18+\" - prohibited for children</td>\n",
       "      <td>NaN</td>\n",
       "      <td>NaN</td>\n",
       "      <td>NaN</td>\n",
       "      <td>NaN</td>\n",
       "      <td>7.2</td>\n",
       "      <td>Action, Drama, Melodrama</td>\n",
       "    </tr>\n",
       "    <tr>\n",
       "      <th>1</th>\n",
       "      <td>A very important task</td>\n",
       "      <td>111013716</td>\n",
       "      <td>2016-09-13T12:00:00.000Z</td>\n",
       "      <td>Art</td>\n",
       "      <td>Film studio \"Mosfilm\"</td>\n",
       "      <td>USSR</td>\n",
       "      <td>E.Matveev</td>\n",
       "      <td>NaN</td>\n",
       "      <td>\"6+\" - for children over 6 years old</td>\n",
       "      <td>NaN</td>\n",
       "      <td>NaN</td>\n",
       "      <td>NaN</td>\n",
       "      <td>NaN</td>\n",
       "      <td>6.6</td>\n",
       "      <td>drama, military</td>\n",
       "    </tr>\n",
       "    <tr>\n",
       "      <th>2</th>\n",
       "      <td>Extremely dangerous</td>\n",
       "      <td>221038416</td>\n",
       "      <td>2016-10-10T12:00:00.000Z</td>\n",
       "      <td>Art</td>\n",
       "      <td>Universal Pictures, Kickstart Productions, Mar...</td>\n",
       "      <td>USA</td>\n",
       "      <td>Timur Bekmambetov</td>\n",
       "      <td>Jim Lemley, Jason Noether, Mark E. Platt, Iain...</td>\n",
       "      <td>\"18+\" - prohibited for children</td>\n",
       "      <td>NaN</td>\n",
       "      <td>NaN</td>\n",
       "      <td>NaN</td>\n",
       "      <td>NaN</td>\n",
       "      <td>6.8</td>\n",
       "      <td>fantasy, action, thriller</td>\n",
       "    </tr>\n",
       "    <tr>\n",
       "      <th>3</th>\n",
       "      <td>Extremely dangerous</td>\n",
       "      <td>221026916</td>\n",
       "      <td>2016-06-10T12:00:00.000Z</td>\n",
       "      <td>Art</td>\n",
       "      <td>Universal Pictures, Kickstart Productions, Mar...</td>\n",
       "      <td>USA</td>\n",
       "      <td>Timur Bekmambetov</td>\n",
       "      <td>Jim Lemley, Jason Noether, Mark E. Platt, Iain...</td>\n",
       "      <td>\"18+\" - prohibited for children</td>\n",
       "      <td>NaN</td>\n",
       "      <td>NaN</td>\n",
       "      <td>NaN</td>\n",
       "      <td>NaN</td>\n",
       "      <td>6.8</td>\n",
       "      <td>fantasy, action, thriller</td>\n",
       "    </tr>\n",
       "    <tr>\n",
       "      <th>4</th>\n",
       "      <td>Extremely dangerous</td>\n",
       "      <td>221030815</td>\n",
       "      <td>2015-07-29T12:00:00.000Z</td>\n",
       "      <td>Art</td>\n",
       "      <td>Universal Pictures, Kickstart Productions, Mar...</td>\n",
       "      <td>USA</td>\n",
       "      <td>Timur Bekmambetov</td>\n",
       "      <td>Jim Lemley, Jason Noether, Mark E. Platt, Iain...</td>\n",
       "      <td>\"18+\" - prohibited for children</td>\n",
       "      <td>NaN</td>\n",
       "      <td>NaN</td>\n",
       "      <td>NaN</td>\n",
       "      <td>NaN</td>\n",
       "      <td>6.8</td>\n",
       "      <td>fantasy, action, thriller</td>\n",
       "    </tr>\n",
       "  </tbody>\n",
       "</table>\n",
       "</div>"
      ],
      "text/plain": [
       "                   title   puNumber           show_start_date type  \\\n",
       "0             open space  221048915  2015-11-27T12:00:00.000Z  Art   \n",
       "1  A very important task  111013716  2016-09-13T12:00:00.000Z  Art   \n",
       "2    Extremely dangerous  221038416  2016-10-10T12:00:00.000Z  Art   \n",
       "3    Extremely dangerous  221026916  2016-06-10T12:00:00.000Z  Art   \n",
       "4    Extremely dangerous  221030815  2015-07-29T12:00:00.000Z  Art   \n",
       "\n",
       "                                         film_studio production_country  \\\n",
       "0  Touchstone Pictures, Cobalt Pictures, Beacon P...                USA   \n",
       "1                              Film studio \"Mosfilm\"               USSR   \n",
       "2  Universal Pictures, Kickstart Productions, Mar...                USA   \n",
       "3  Universal Pictures, Kickstart Productions, Mar...                USA   \n",
       "4  Universal Pictures, Kickstart Productions, Mar...                USA   \n",
       "\n",
       "            director                                           producer  \\\n",
       "0      Kevin Costner           David Valdes, Kevin Costner, Jake Eberts   \n",
       "1          E.Matveev                                                NaN   \n",
       "2  Timur Bekmambetov  Jim Lemley, Jason Noether, Mark E. Platt, Iain...   \n",
       "3  Timur Bekmambetov  Jim Lemley, Jason Noether, Mark E. Platt, Iain...   \n",
       "4  Timur Bekmambetov  Jim Lemley, Jason Noether, Mark E. Platt, Iain...   \n",
       "\n",
       "                        age_restriction  refundable_support  \\\n",
       "0       \"18+\" - prohibited for children                 NaN   \n",
       "1  \"6+\" - for children over 6 years old                 NaN   \n",
       "2       \"18+\" - prohibited for children                 NaN   \n",
       "3       \"18+\" - prohibited for children                 NaN   \n",
       "4       \"18+\" - prohibited for children                 NaN   \n",
       "\n",
       "   nonrefundable_support  budget financing_source ratings  \\\n",
       "0                    NaN     NaN              NaN     7.2   \n",
       "1                    NaN     NaN              NaN     6.6   \n",
       "2                    NaN     NaN              NaN     6.8   \n",
       "3                    NaN     NaN              NaN     6.8   \n",
       "4                    NaN     NaN              NaN     6.8   \n",
       "\n",
       "                      genres  \n",
       "0   Action, Drama, Melodrama  \n",
       "1            drama, military  \n",
       "2  fantasy, action, thriller  \n",
       "3  fantasy, action, thriller  \n",
       "4  fantasy, action, thriller  "
      ]
     },
     "execution_count": 3,
     "metadata": {},
     "output_type": "execute_result"
    }
   ],
   "source": [
    "df_movies = df_movies.drop(columns='Unnamed: 0')\n",
    "df_movies.info()\n",
    "df_movies.head(5)"
   ]
  },
  {
   "cell_type": "code",
   "execution_count": 4,
   "metadata": {},
   "outputs": [
    {
     "name": "stdout",
     "output_type": "stream",
     "text": [
      "<class 'pandas.core.frame.DataFrame'>\n",
      "RangeIndex: 3158 entries, 0 to 3157\n",
      "Data columns (total 2 columns):\n",
      " #   Column      Non-Null Count  Dtype  \n",
      "---  ------      --------------  -----  \n",
      " 0   puNumber    3158 non-null   int64  \n",
      " 1   box_office  3158 non-null   float64\n",
      "dtypes: float64(1), int64(1)\n",
      "memory usage: 49.5 KB\n"
     ]
    },
    {
     "data": {
      "text/html": [
       "<div>\n",
       "<style scoped>\n",
       "    .dataframe tbody tr th:only-of-type {\n",
       "        vertical-align: middle;\n",
       "    }\n",
       "\n",
       "    .dataframe tbody tr th {\n",
       "        vertical-align: top;\n",
       "    }\n",
       "\n",
       "    .dataframe thead th {\n",
       "        text-align: right;\n",
       "    }\n",
       "</style>\n",
       "<table border=\"1\" class=\"dataframe\">\n",
       "  <thead>\n",
       "    <tr style=\"text-align: right;\">\n",
       "      <th></th>\n",
       "      <th>puNumber</th>\n",
       "      <th>box_office</th>\n",
       "    </tr>\n",
       "  </thead>\n",
       "  <tbody>\n",
       "    <tr>\n",
       "      <th>0</th>\n",
       "      <td>111000113</td>\n",
       "      <td>2.450000e+03</td>\n",
       "    </tr>\n",
       "    <tr>\n",
       "      <th>1</th>\n",
       "      <td>111000115</td>\n",
       "      <td>6.104000e+04</td>\n",
       "    </tr>\n",
       "    <tr>\n",
       "      <th>2</th>\n",
       "      <td>111000116</td>\n",
       "      <td>1.530300e+08</td>\n",
       "    </tr>\n",
       "    <tr>\n",
       "      <th>3</th>\n",
       "      <td>111000117</td>\n",
       "      <td>1.226096e+07</td>\n",
       "    </tr>\n",
       "    <tr>\n",
       "      <th>4</th>\n",
       "      <td>111000118</td>\n",
       "      <td>1.636841e+08</td>\n",
       "    </tr>\n",
       "  </tbody>\n",
       "</table>\n",
       "</div>"
      ],
      "text/plain": [
       "    puNumber    box_office\n",
       "0  111000113  2.450000e+03\n",
       "1  111000115  6.104000e+04\n",
       "2  111000116  1.530300e+08\n",
       "3  111000117  1.226096e+07\n",
       "4  111000118  1.636841e+08"
      ]
     },
     "execution_count": 4,
     "metadata": {},
     "output_type": "execute_result"
    }
   ],
   "source": [
    "df_shows.info()\n",
    "df_shows.head(5)"
   ]
  },
  {
   "cell_type": "markdown",
   "metadata": {},
   "source": [
    "We need to merge data on the `puNumber` column. In the `shows` df, the data type of this column is `int64`, and in the `movies` df - `srting`. Let's bring the columns to a single type and use the `merge` method."
   ]
  },
  {
   "cell_type": "code",
   "execution_count": 5,
   "metadata": {},
   "outputs": [],
   "source": [
    "df_shows['puNumber'] = df_shows['puNumber'].astype('str')\n",
    "df = df_movies.merge(df_shows, on = 'puNumber', how = 'left')"
   ]
  },
  {
   "cell_type": "markdown",
   "metadata": {},
   "source": [
    "It is required to check that the merging is done correctly. In the `df_shows` df, the number of rows is 3158. Let's look at the merged df, if everything is correct, the number of rows in the `box_office` column will be equal to `df_shows`."
   ]
  },
  {
   "cell_type": "code",
   "execution_count": 6,
   "metadata": {},
   "outputs": [
    {
     "name": "stdout",
     "output_type": "stream",
     "text": [
      "<class 'pandas.core.frame.DataFrame'>\n",
      "Int64Index: 7486 entries, 0 to 7485\n",
      "Data columns (total 16 columns):\n",
      " #   Column                 Non-Null Count  Dtype  \n",
      "---  ------                 --------------  -----  \n",
      " 0   title                  7486 non-null   object \n",
      " 1   puNumber               7486 non-null   object \n",
      " 2   show_start_date        7486 non-null   object \n",
      " 3   type                   7486 non-null   object \n",
      " 4   film_studio            7468 non-null   object \n",
      " 5   production_country     7484 non-null   object \n",
      " 6   director               7477 non-null   object \n",
      " 7   producer               6918 non-null   object \n",
      " 8   age_restriction        7486 non-null   object \n",
      " 9   refundable_support     332 non-null    float64\n",
      " 10  nonrefundable_support  332 non-null    float64\n",
      " 11  budget                 332 non-null    float64\n",
      " 12  financing_source       332 non-null    object \n",
      " 13  ratings                6519 non-null   object \n",
      " 14  genres                 6510 non-null   object \n",
      " 15  box_office             3158 non-null   float64\n",
      "dtypes: float64(4), object(12)\n",
      "memory usage: 994.2+ KB\n"
     ]
    }
   ],
   "source": [
    "df.info()"
   ]
  },
  {
   "cell_type": "markdown",
   "metadata": {},
   "source": [
    "The merging is done correctly."
   ]
  },
  {
   "cell_type": "markdown",
   "metadata": {},
   "source": [
    "### Conclusion"
   ]
  },
  {
   "cell_type": "markdown",
   "metadata": {},
   "source": [
    "- The data sample is small, we will have to delete and change the data very carefully\n",
    "- Sample is crilically low on data abour films that have received gouverment support\n",
    "- There is a lot of gaps in the information about the film fees. It is obvious that the data from the `shows` dataframe is incomplete\n",
    "- Categorial type columns will be difficult to parse, as the information there is presented as a single row with multiple values\n",
    "- There are two main indexes in the data - the number of the rental certificate and the title of the film, one of which must be identified as unique and further analysis should be based on it"
   ]
  },
  {
   "cell_type": "markdown",
   "metadata": {
    "id": "KLDGpPG0gFyM"
   },
   "source": [
    "## Data preprocessing"
   ]
  },
  {
   "cell_type": "markdown",
   "metadata": {
    "id": "ssWwKXsxgFyO"
   },
   "source": [
    "### Data types"
   ]
  },
  {
   "cell_type": "code",
   "execution_count": 7,
   "metadata": {
    "id": "kVGSplJOgFyO"
   },
   "outputs": [
    {
     "name": "stdout",
     "output_type": "stream",
     "text": [
      "<class 'pandas.core.frame.DataFrame'>\n",
      "Int64Index: 7486 entries, 0 to 7485\n",
      "Data columns (total 16 columns):\n",
      " #   Column                 Non-Null Count  Dtype  \n",
      "---  ------                 --------------  -----  \n",
      " 0   title                  7486 non-null   object \n",
      " 1   puNumber               7486 non-null   object \n",
      " 2   show_start_date        7486 non-null   object \n",
      " 3   type                   7486 non-null   object \n",
      " 4   film_studio            7468 non-null   object \n",
      " 5   production_country     7484 non-null   object \n",
      " 6   director               7477 non-null   object \n",
      " 7   producer               6918 non-null   object \n",
      " 8   age_restriction        7486 non-null   object \n",
      " 9   refundable_support     332 non-null    float64\n",
      " 10  nonrefundable_support  332 non-null    float64\n",
      " 11  budget                 332 non-null    float64\n",
      " 12  financing_source       332 non-null    object \n",
      " 13  ratings                6519 non-null   object \n",
      " 14  genres                 6510 non-null   object \n",
      " 15  box_office             3158 non-null   float64\n",
      "dtypes: float64(4), object(12)\n",
      "memory usage: 994.2+ KB\n"
     ]
    }
   ],
   "source": [
    "df.info()"
   ]
  },
  {
   "cell_type": "markdown",
   "metadata": {},
   "source": [
    "The first and most obvious is to change the data type in the `show_start_date` column from `object` to `datetime`"
   ]
  },
  {
   "cell_type": "code",
   "execution_count": 8,
   "metadata": {},
   "outputs": [
    {
     "data": {
      "text/html": [
       "<div>\n",
       "<style scoped>\n",
       "    .dataframe tbody tr th:only-of-type {\n",
       "        vertical-align: middle;\n",
       "    }\n",
       "\n",
       "    .dataframe tbody tr th {\n",
       "        vertical-align: top;\n",
       "    }\n",
       "\n",
       "    .dataframe thead th {\n",
       "        text-align: right;\n",
       "    }\n",
       "</style>\n",
       "<table border=\"1\" class=\"dataframe\">\n",
       "  <thead>\n",
       "    <tr style=\"text-align: right;\">\n",
       "      <th></th>\n",
       "      <th>title</th>\n",
       "      <th>puNumber</th>\n",
       "      <th>show_start_date</th>\n",
       "      <th>type</th>\n",
       "      <th>film_studio</th>\n",
       "      <th>production_country</th>\n",
       "      <th>director</th>\n",
       "      <th>producer</th>\n",
       "      <th>age_restriction</th>\n",
       "      <th>refundable_support</th>\n",
       "      <th>nonrefundable_support</th>\n",
       "      <th>budget</th>\n",
       "      <th>financing_source</th>\n",
       "      <th>ratings</th>\n",
       "      <th>genres</th>\n",
       "      <th>box_office</th>\n",
       "    </tr>\n",
       "  </thead>\n",
       "  <tbody>\n",
       "    <tr>\n",
       "      <th>0</th>\n",
       "      <td>open space</td>\n",
       "      <td>221048915</td>\n",
       "      <td>2015-11-27</td>\n",
       "      <td>Art</td>\n",
       "      <td>Touchstone Pictures, Cobalt Pictures, Beacon P...</td>\n",
       "      <td>USA</td>\n",
       "      <td>Kevin Costner</td>\n",
       "      <td>David Valdes, Kevin Costner, Jake Eberts</td>\n",
       "      <td>\"18+\" - prohibited for children</td>\n",
       "      <td>NaN</td>\n",
       "      <td>NaN</td>\n",
       "      <td>NaN</td>\n",
       "      <td>NaN</td>\n",
       "      <td>7.2</td>\n",
       "      <td>Action, Drama, Melodrama</td>\n",
       "      <td>NaN</td>\n",
       "    </tr>\n",
       "    <tr>\n",
       "      <th>1</th>\n",
       "      <td>A very important task</td>\n",
       "      <td>111013716</td>\n",
       "      <td>2016-09-13</td>\n",
       "      <td>Art</td>\n",
       "      <td>Film studio \"Mosfilm\"</td>\n",
       "      <td>USSR</td>\n",
       "      <td>E.Matveev</td>\n",
       "      <td>NaN</td>\n",
       "      <td>\"6+\" - for children over 6 years old</td>\n",
       "      <td>NaN</td>\n",
       "      <td>NaN</td>\n",
       "      <td>NaN</td>\n",
       "      <td>NaN</td>\n",
       "      <td>6.6</td>\n",
       "      <td>drama, military</td>\n",
       "      <td>NaN</td>\n",
       "    </tr>\n",
       "    <tr>\n",
       "      <th>2</th>\n",
       "      <td>Extremely dangerous</td>\n",
       "      <td>221038416</td>\n",
       "      <td>2016-10-10</td>\n",
       "      <td>Art</td>\n",
       "      <td>Universal Pictures, Kickstart Productions, Mar...</td>\n",
       "      <td>USA</td>\n",
       "      <td>Timur Bekmambetov</td>\n",
       "      <td>Jim Lemley, Jason Noether, Mark E. Platt, Iain...</td>\n",
       "      <td>\"18+\" - prohibited for children</td>\n",
       "      <td>NaN</td>\n",
       "      <td>NaN</td>\n",
       "      <td>NaN</td>\n",
       "      <td>NaN</td>\n",
       "      <td>6.8</td>\n",
       "      <td>fantasy, action, thriller</td>\n",
       "      <td>NaN</td>\n",
       "    </tr>\n",
       "    <tr>\n",
       "      <th>3</th>\n",
       "      <td>Extremely dangerous</td>\n",
       "      <td>221026916</td>\n",
       "      <td>2016-06-10</td>\n",
       "      <td>Art</td>\n",
       "      <td>Universal Pictures, Kickstart Productions, Mar...</td>\n",
       "      <td>USA</td>\n",
       "      <td>Timur Bekmambetov</td>\n",
       "      <td>Jim Lemley, Jason Noether, Mark E. Platt, Iain...</td>\n",
       "      <td>\"18+\" - prohibited for children</td>\n",
       "      <td>NaN</td>\n",
       "      <td>NaN</td>\n",
       "      <td>NaN</td>\n",
       "      <td>NaN</td>\n",
       "      <td>6.8</td>\n",
       "      <td>fantasy, action, thriller</td>\n",
       "      <td>NaN</td>\n",
       "    </tr>\n",
       "    <tr>\n",
       "      <th>4</th>\n",
       "      <td>Extremely dangerous</td>\n",
       "      <td>221030815</td>\n",
       "      <td>2015-07-29</td>\n",
       "      <td>Art</td>\n",
       "      <td>Universal Pictures, Kickstart Productions, Mar...</td>\n",
       "      <td>USA</td>\n",
       "      <td>Timur Bekmambetov</td>\n",
       "      <td>Jim Lemley, Jason Noether, Mark E. Platt, Iain...</td>\n",
       "      <td>\"18+\" - prohibited for children</td>\n",
       "      <td>NaN</td>\n",
       "      <td>NaN</td>\n",
       "      <td>NaN</td>\n",
       "      <td>NaN</td>\n",
       "      <td>6.8</td>\n",
       "      <td>fantasy, action, thriller</td>\n",
       "      <td>NaN</td>\n",
       "    </tr>\n",
       "  </tbody>\n",
       "</table>\n",
       "</div>"
      ],
      "text/plain": [
       "                   title   puNumber show_start_date type  \\\n",
       "0             open space  221048915      2015-11-27  Art   \n",
       "1  A very important task  111013716      2016-09-13  Art   \n",
       "2    Extremely dangerous  221038416      2016-10-10  Art   \n",
       "3    Extremely dangerous  221026916      2016-06-10  Art   \n",
       "4    Extremely dangerous  221030815      2015-07-29  Art   \n",
       "\n",
       "                                         film_studio production_country  \\\n",
       "0  Touchstone Pictures, Cobalt Pictures, Beacon P...                USA   \n",
       "1                              Film studio \"Mosfilm\"               USSR   \n",
       "2  Universal Pictures, Kickstart Productions, Mar...                USA   \n",
       "3  Universal Pictures, Kickstart Productions, Mar...                USA   \n",
       "4  Universal Pictures, Kickstart Productions, Mar...                USA   \n",
       "\n",
       "            director                                           producer  \\\n",
       "0      Kevin Costner           David Valdes, Kevin Costner, Jake Eberts   \n",
       "1          E.Matveev                                                NaN   \n",
       "2  Timur Bekmambetov  Jim Lemley, Jason Noether, Mark E. Platt, Iain...   \n",
       "3  Timur Bekmambetov  Jim Lemley, Jason Noether, Mark E. Platt, Iain...   \n",
       "4  Timur Bekmambetov  Jim Lemley, Jason Noether, Mark E. Platt, Iain...   \n",
       "\n",
       "                        age_restriction  refundable_support  \\\n",
       "0       \"18+\" - prohibited for children                 NaN   \n",
       "1  \"6+\" - for children over 6 years old                 NaN   \n",
       "2       \"18+\" - prohibited for children                 NaN   \n",
       "3       \"18+\" - prohibited for children                 NaN   \n",
       "4       \"18+\" - prohibited for children                 NaN   \n",
       "\n",
       "   nonrefundable_support  budget financing_source ratings  \\\n",
       "0                    NaN     NaN              NaN     7.2   \n",
       "1                    NaN     NaN              NaN     6.6   \n",
       "2                    NaN     NaN              NaN     6.8   \n",
       "3                    NaN     NaN              NaN     6.8   \n",
       "4                    NaN     NaN              NaN     6.8   \n",
       "\n",
       "                      genres  box_office  \n",
       "0   Action, Drama, Melodrama         NaN  \n",
       "1            drama, military         NaN  \n",
       "2  fantasy, action, thriller         NaN  \n",
       "3  fantasy, action, thriller         NaN  \n",
       "4  fantasy, action, thriller         NaN  "
      ]
     },
     "execution_count": 8,
     "metadata": {},
     "output_type": "execute_result"
    }
   ],
   "source": [
    "df['show_start_date'] = pd.to_datetime(df['show_start_date'], format = '%Y-%m-%dT12:00:00.000Z')\n",
    "df.head(5)"
   ]
  },
  {
   "cell_type": "markdown",
   "metadata": {},
   "source": [
    "In order to investigate the rating, we need to convert the data type to `float`. So we can calculate the average and / or median rating for the sample. Let's see why data has an  `object` type"
   ]
  },
  {
   "cell_type": "code",
   "execution_count": 9,
   "metadata": {},
   "outputs": [
    {
     "data": {
      "text/plain": [
       "array(['7.2', '6.6', '6.8', '7.7', '8.3', '8', '7.8', '8.1', '7.1', '6',\n",
       "       '7.4', '5.8', '8.7', '6.3', '6.9', '5', '4.3', '7.3', '7', '6.4',\n",
       "       nan, '8.2', '7.5', '6.7', '7.9', '5.9', '6.2', '5.6', '6.5', '2.4',\n",
       "       '7.6', '6.1', '8.6', '8.5', '8.8', '5.5', '5.1', '5.7', '5.4',\n",
       "       '99%', '4.4', '4.5', '5.3', '4.1', '8.4', '2.6', '3.8', '4.6',\n",
       "       '4.8', '4', '3', '1.6', '4.2', '5.2', '4.7', '4.9', '3.9', '2.7',\n",
       "       '3.3', '2.9', '28%', '3.7', '1.4', '3.1', '97%', '3.5', '3.2',\n",
       "       '2.8', '1.5', '2.1', '2.5', '9.2', '3.4', '1.1', '3.6', '83%',\n",
       "       '64%', '91%', '94%', '62%', '79%', '90%', '19%', '88%', '1', '89%',\n",
       "       '1.3', '1.9', '1.8', '1.2', '1.7', '9', '98%', '8.9', '9.1'],\n",
       "      dtype=object)"
      ]
     },
     "execution_count": 9,
     "metadata": {},
     "output_type": "execute_result"
    }
   ],
   "source": [
    "df['ratings'].unique()"
   ]
  },
  {
   "cell_type": "markdown",
   "metadata": {},
   "source": [
    "Part of the rating is indicated in numbers from 1 to 9.1, and part in percentages from 0.19 to 0.99. In this case, percentages are defined as `string`. The first assumption is that the percentage rating is the same rating in numbers, only not from 1 to 10, but from 0.1 to 1. Let's take a closer look at this data"
   ]
  },
  {
   "cell_type": "code",
   "execution_count": 10,
   "metadata": {
    "scrolled": false
   },
   "outputs": [
    {
     "data": {
      "text/html": [
       "<div>\n",
       "<style scoped>\n",
       "    .dataframe tbody tr th:only-of-type {\n",
       "        vertical-align: middle;\n",
       "    }\n",
       "\n",
       "    .dataframe tbody tr th {\n",
       "        vertical-align: top;\n",
       "    }\n",
       "\n",
       "    .dataframe thead th {\n",
       "        text-align: right;\n",
       "    }\n",
       "</style>\n",
       "<table border=\"1\" class=\"dataframe\">\n",
       "  <thead>\n",
       "    <tr style=\"text-align: right;\">\n",
       "      <th></th>\n",
       "      <th>title</th>\n",
       "      <th>puNumber</th>\n",
       "      <th>show_start_date</th>\n",
       "      <th>type</th>\n",
       "      <th>film_studio</th>\n",
       "      <th>production_country</th>\n",
       "      <th>director</th>\n",
       "      <th>producer</th>\n",
       "      <th>age_restriction</th>\n",
       "      <th>refundable_support</th>\n",
       "      <th>nonrefundable_support</th>\n",
       "      <th>budget</th>\n",
       "      <th>financing_source</th>\n",
       "      <th>ratings</th>\n",
       "      <th>genres</th>\n",
       "      <th>box_office</th>\n",
       "    </tr>\n",
       "  </thead>\n",
       "  <tbody>\n",
       "    <tr>\n",
       "      <th>259</th>\n",
       "      <td>Past</td>\n",
       "      <td>221030715</td>\n",
       "      <td>2015-07-29</td>\n",
       "      <td>Art</td>\n",
       "      <td>20 Century Fox de Argentina, Chemo, HB Films, ...</td>\n",
       "      <td>Argentina - Brazil</td>\n",
       "      <td>Hector Babenko</td>\n",
       "      <td>Hector Babenko, Oscar Kramer, Hugo Seedman</td>\n",
       "      <td>\"16+\" - for children over 16 years old</td>\n",
       "      <td>NaN</td>\n",
       "      <td>NaN</td>\n",
       "      <td>NaN</td>\n",
       "      <td>NaN</td>\n",
       "      <td>99%</td>\n",
       "      <td>horror, thriller, drama</td>\n",
       "      <td>NaN</td>\n",
       "    </tr>\n",
       "    <tr>\n",
       "      <th>811</th>\n",
       "      <td>By screws!</td>\n",
       "      <td>114000212</td>\n",
       "      <td>2012-08-06</td>\n",
       "      <td>Animated</td>\n",
       "      <td>CJSC \"Producer center \"Paradise\"</td>\n",
       "      <td>Russia</td>\n",
       "      <td>O. Lopato</td>\n",
       "      <td>G.Nersisyan, A.Manasaryan, A.Nersesyan</td>\n",
       "      <td>\"12+\" - for children over 12 years old</td>\n",
       "      <td>NaN</td>\n",
       "      <td>NaN</td>\n",
       "      <td>NaN</td>\n",
       "      <td>NaN</td>\n",
       "      <td>28%</td>\n",
       "      <td>children's, adventure, comedy</td>\n",
       "      <td>1.740000e+03</td>\n",
       "    </tr>\n",
       "    <tr>\n",
       "      <th>1053</th>\n",
       "      <td>Sandman</td>\n",
       "      <td>121029212</td>\n",
       "      <td>2012-11-29</td>\n",
       "      <td>Art</td>\n",
       "      <td>Spotlight Media Production</td>\n",
       "      <td>Switzerland</td>\n",
       "      <td>Peter Louisi</td>\n",
       "      <td>David Louisi, Peter Louisi</td>\n",
       "      <td>\"16+\" - for children over 16 years old</td>\n",
       "      <td>NaN</td>\n",
       "      <td>NaN</td>\n",
       "      <td>NaN</td>\n",
       "      <td>NaN</td>\n",
       "      <td>97%</td>\n",
       "      <td>horror, sci-fi, fantasy</td>\n",
       "      <td>NaN</td>\n",
       "    </tr>\n",
       "    <tr>\n",
       "      <th>1341</th>\n",
       "      <td>Tale of Good and Wre</td>\n",
       "      <td>111008913</td>\n",
       "      <td>2013-11-15</td>\n",
       "      <td>Art</td>\n",
       "      <td>Non-commercial partnership \"Studio of feature ...</td>\n",
       "      <td>Russia</td>\n",
       "      <td>E. Shilyaeva</td>\n",
       "      <td>K. Tereshchenko</td>\n",
       "      <td>\"6+\" - for children over 6 years old</td>\n",
       "      <td>NaN</td>\n",
       "      <td>NaN</td>\n",
       "      <td>NaN</td>\n",
       "      <td>NaN</td>\n",
       "      <td>99%</td>\n",
       "      <td>thriller, drama, detective</td>\n",
       "      <td>NaN</td>\n",
       "    </tr>\n",
       "    <tr>\n",
       "      <th>1805</th>\n",
       "      <td>Spiral.</td>\n",
       "      <td>111001014</td>\n",
       "      <td>2014-01-30</td>\n",
       "      <td>Art</td>\n",
       "      <td>LLC \"Company Piton\"</td>\n",
       "      <td>Russia</td>\n",
       "      <td>A.Volgin</td>\n",
       "      <td>E. Kovaleva</td>\n",
       "      <td>\"12+\" - for children over 12 years old</td>\n",
       "      <td>NaN</td>\n",
       "      <td>NaN</td>\n",
       "      <td>NaN</td>\n",
       "      <td>NaN</td>\n",
       "      <td>99%</td>\n",
       "      <td>anime, cartoon, horror</td>\n",
       "      <td>4.295000e+03</td>\n",
       "    </tr>\n",
       "    <tr>\n",
       "      <th>1874</th>\n",
       "      <td>Short Love Stories 2</td>\n",
       "      <td>121002615</td>\n",
       "      <td>2015-02-13</td>\n",
       "      <td>Art</td>\n",
       "      <td>Kaviar, Kurt 13, StreetLight Films, Nayer Deut...</td>\n",
       "      <td>Netherlands - USA - Germany - Canada - France ...</td>\n",
       "      <td>Matthew Auvro, Leo Bridle, Ben Brand, Den Clar...</td>\n",
       "      <td>Mary Pat Bentel, Ben Brand, Ciara Gillan, Jord...</td>\n",
       "      <td>\"18+\" - prohibited for children</td>\n",
       "      <td>NaN</td>\n",
       "      <td>NaN</td>\n",
       "      <td>NaN</td>\n",
       "      <td>NaN</td>\n",
       "      <td>83%</td>\n",
       "      <td>NaN</td>\n",
       "      <td>1.429859e+06</td>\n",
       "    </tr>\n",
       "    <tr>\n",
       "      <th>1899</th>\n",
       "      <td>Cinderella /According to the fairy tale by Cha...</td>\n",
       "      <td>121003615</td>\n",
       "      <td>2015-02-27</td>\n",
       "      <td>Art</td>\n",
       "      <td>Genre Films, Walt Disney Pictures</td>\n",
       "      <td>USA</td>\n",
       "      <td>Kenneth Branagh</td>\n",
       "      <td>David Barron, Simon Kinberg, Allison Shearmur</td>\n",
       "      <td>\"6+\" - for children over 6 years old</td>\n",
       "      <td>NaN</td>\n",
       "      <td>NaN</td>\n",
       "      <td>NaN</td>\n",
       "      <td>NaN</td>\n",
       "      <td>64%</td>\n",
       "      <td>musical, fantasy, melodrama</td>\n",
       "      <td>5.287326e+08</td>\n",
       "    </tr>\n",
       "    <tr>\n",
       "      <th>2126</th>\n",
       "      <td>trip to mother</td>\n",
       "      <td>111002015</td>\n",
       "      <td>2015-03-02</td>\n",
       "      <td>Art</td>\n",
       "      <td>CJSC Film Studio \"M\"-Film\"</td>\n",
       "      <td>Russia</td>\n",
       "      <td>M.Kosyrev-Nesterov</td>\n",
       "      <td>M.Kosyrev-Nesterov</td>\n",
       "      <td>\"16+\" - for children over 16 years old</td>\n",
       "      <td>NaN</td>\n",
       "      <td>NaN</td>\n",
       "      <td>NaN</td>\n",
       "      <td>NaN</td>\n",
       "      <td>91%</td>\n",
       "      <td>drama, family</td>\n",
       "      <td>0.000000e+00</td>\n",
       "    </tr>\n",
       "    <tr>\n",
       "      <th>2146</th>\n",
       "      <td>Main</td>\n",
       "      <td>111003415</td>\n",
       "      <td>2015-03-27</td>\n",
       "      <td>Art</td>\n",
       "      <td>LLC \"Film studio \"MASTER\"</td>\n",
       "      <td>Russia</td>\n",
       "      <td>Yu.Kara</td>\n",
       "      <td>Yu.Kara</td>\n",
       "      <td>\"6+\" - for children over 6 years old</td>\n",
       "      <td>0.0</td>\n",
       "      <td>10000000.0</td>\n",
       "      <td>40000000.0</td>\n",
       "      <td>Ministry of Culture</td>\n",
       "      <td>94%</td>\n",
       "      <td>fantasy, thriller, comedy</td>\n",
       "      <td>3.347500e+05</td>\n",
       "    </tr>\n",
       "    <tr>\n",
       "      <th>2438</th>\n",
       "      <td>The most red fox</td>\n",
       "      <td>111012715</td>\n",
       "      <td>2015-07-30</td>\n",
       "      <td>Art</td>\n",
       "      <td>LLC \"Producer Center \"Lenfilm\"</td>\n",
       "      <td>Russia</td>\n",
       "      <td>A. Strelyanaya</td>\n",
       "      <td>A. Kotelevsky, E. Pichugin</td>\n",
       "      <td>\"6+\" - for children over 6 years old</td>\n",
       "      <td>NaN</td>\n",
       "      <td>NaN</td>\n",
       "      <td>NaN</td>\n",
       "      <td>NaN</td>\n",
       "      <td>62%</td>\n",
       "      <td>fantasy, family</td>\n",
       "      <td>NaN</td>\n",
       "    </tr>\n",
       "    <tr>\n",
       "      <th>2680</th>\n",
       "      <td>Year of the White Elephant</td>\n",
       "      <td>111003915</td>\n",
       "      <td>2015-04-08</td>\n",
       "      <td>Art</td>\n",
       "      <td>LLC \"Creative Association YUG\"</td>\n",
       "      <td>Russia</td>\n",
       "      <td>Yu.Grymov</td>\n",
       "      <td>P.Polyakov</td>\n",
       "      <td>\"6+\" - for children over 6 years old</td>\n",
       "      <td>NaN</td>\n",
       "      <td>NaN</td>\n",
       "      <td>NaN</td>\n",
       "      <td>NaN</td>\n",
       "      <td>79%</td>\n",
       "      <td>family</td>\n",
       "      <td>NaN</td>\n",
       "    </tr>\n",
       "    <tr>\n",
       "      <th>3139</th>\n",
       "      <td>I can knit</td>\n",
       "      <td>111019615</td>\n",
       "      <td>2015-11-27</td>\n",
       "      <td>Art</td>\n",
       "      <td>LLC \"White Mirror\"</td>\n",
       "      <td>Russia</td>\n",
       "      <td>N. Stepanova with the participation of S. Ivanov</td>\n",
       "      <td>S. Kiknavelidze, D. Ulyukaev</td>\n",
       "      <td>\"16+\" - for children over 16 years old</td>\n",
       "      <td>0.0</td>\n",
       "      <td>4700000.0</td>\n",
       "      <td>14462464.0</td>\n",
       "      <td>Ministry of Culture</td>\n",
       "      <td>90%</td>\n",
       "      <td>drama</td>\n",
       "      <td>8.013700e+05</td>\n",
       "    </tr>\n",
       "    <tr>\n",
       "      <th>3431</th>\n",
       "      <td>Nauryz</td>\n",
       "      <td>131000217</td>\n",
       "      <td>2017-03-09</td>\n",
       "      <td>Art</td>\n",
       "      <td>Es G</td>\n",
       "      <td>The Republic of Kazakhstan</td>\n",
       "      <td>Askar Bisembin</td>\n",
       "      <td>Oleg Golovashkin, Almas Sultangazin</td>\n",
       "      <td>\"12+\" - for children over 12 years old</td>\n",
       "      <td>NaN</td>\n",
       "      <td>NaN</td>\n",
       "      <td>NaN</td>\n",
       "      <td>NaN</td>\n",
       "      <td>19%</td>\n",
       "      <td>comedy</td>\n",
       "      <td>3.796000e+04</td>\n",
       "    </tr>\n",
       "    <tr>\n",
       "      <th>3439</th>\n",
       "      <td>Seven Wild Stories</td>\n",
       "      <td>126005916</td>\n",
       "      <td>2016-11-28</td>\n",
       "      <td>Other</td>\n",
       "      <td>Max Baker, John E. Bryan, Pierre-Louis Garnon...</td>\n",
       "      <td>USA - Puerto Rico - France</td>\n",
       "      <td>M.Baker, D.E.Bryant, D.Rondot, J.Sersar, D.Spi...</td>\n",
       "      <td>M.Baker, D.E.Bryan, P.-L.Garnon, M.H.Delgado,...</td>\n",
       "      <td>\"18+\" - prohibited for children</td>\n",
       "      <td>NaN</td>\n",
       "      <td>NaN</td>\n",
       "      <td>NaN</td>\n",
       "      <td>NaN</td>\n",
       "      <td>88%</td>\n",
       "      <td>NaN</td>\n",
       "      <td>1.025937e+06</td>\n",
       "    </tr>\n",
       "    <tr>\n",
       "      <th>3446</th>\n",
       "      <td>Short love stories - 4</td>\n",
       "      <td>126006316</td>\n",
       "      <td>2016-12-30</td>\n",
       "      <td>Other</td>\n",
       "      <td>Network Island Television, Magnetfilm, Shortcu...</td>\n",
       "      <td>UK - Argentina - USA - France - Russia - Spain</td>\n",
       "      <td>D.Adar, P.Antokhin, M.Biasin, A.Burunova, K.Co...</td>\n",
       "      <td>D.Adar, D.Amson, P.Antohin, A.Armstrong, S.Bil...</td>\n",
       "      <td>\"18+\" - prohibited for children</td>\n",
       "      <td>NaN</td>\n",
       "      <td>NaN</td>\n",
       "      <td>NaN</td>\n",
       "      <td>NaN</td>\n",
       "      <td>83%</td>\n",
       "      <td>NaN</td>\n",
       "      <td>2.266408e+06</td>\n",
       "    </tr>\n",
       "    <tr>\n",
       "      <th>3514</th>\n",
       "      <td>someone else's house</td>\n",
       "      <td>111015516</td>\n",
       "      <td>2016-09-14</td>\n",
       "      <td>Art</td>\n",
       "      <td>LLC \"Liga Production\"</td>\n",
       "      <td>Russia, Georgia, Croatia, Spain</td>\n",
       "      <td>R. Glurdjidze</td>\n",
       "      <td>Z.Magalashvili, K.Gechmen-Waldeck, N.Gorshkova</td>\n",
       "      <td>\"12+\" - for children over 12 years old</td>\n",
       "      <td>NaN</td>\n",
       "      <td>NaN</td>\n",
       "      <td>NaN</td>\n",
       "      <td>NaN</td>\n",
       "      <td>91%</td>\n",
       "      <td>drama</td>\n",
       "      <td>NaN</td>\n",
       "    </tr>\n",
       "    <tr>\n",
       "      <th>3585</th>\n",
       "      <td>Horror cars. Series \"The most terrible tale of...</td>\n",
       "      <td>114003916</td>\n",
       "      <td>2016-12-09</td>\n",
       "      <td>Animated</td>\n",
       "      <td>OOO Studio \"ANIMAKKORD\", ANIMAKKORD LTD.</td>\n",
       "      <td>Russia, Republic of Cyprus</td>\n",
       "      <td>D. Chervyatsov</td>\n",
       "      <td>D.Loveiko, O.Kuzovkov</td>\n",
       "      <td>\"0+\" - for any audience</td>\n",
       "      <td>NaN</td>\n",
       "      <td>NaN</td>\n",
       "      <td>NaN</td>\n",
       "      <td>NaN</td>\n",
       "      <td>97%</td>\n",
       "      <td>cartoon, horror, fantasy</td>\n",
       "      <td>NaN</td>\n",
       "    </tr>\n",
       "    <tr>\n",
       "      <th>3786</th>\n",
       "      <td>Hunters</td>\n",
       "      <td>111017816</td>\n",
       "      <td>2016-02-06</td>\n",
       "      <td>Art</td>\n",
       "      <td>Seliverstov Alexander Alexandrovich</td>\n",
       "      <td>Russia</td>\n",
       "      <td>A.Seliverstov</td>\n",
       "      <td>E. Tarkovskaya, T. Lagoda, D. Stepanyan</td>\n",
       "      <td>\"16+\" - for children over 16 years old</td>\n",
       "      <td>NaN</td>\n",
       "      <td>NaN</td>\n",
       "      <td>NaN</td>\n",
       "      <td>NaN</td>\n",
       "      <td>89%</td>\n",
       "      <td>fantasy, comedy, thriller</td>\n",
       "      <td>8.284000e+04</td>\n",
       "    </tr>\n",
       "    <tr>\n",
       "      <th>3948</th>\n",
       "      <td>Cruise.</td>\n",
       "      <td>211038210</td>\n",
       "      <td>2010-09-03</td>\n",
       "      <td>Art</td>\n",
       "      <td>LLC \"UNITED MULTIMEDIA PROJECTS\"</td>\n",
       "      <td>Russia</td>\n",
       "      <td>I. Romashchenko</td>\n",
       "      <td>R.Atamalibekov</td>\n",
       "      <td>\"16+\" - for children over 16 years old</td>\n",
       "      <td>NaN</td>\n",
       "      <td>NaN</td>\n",
       "      <td>NaN</td>\n",
       "      <td>NaN</td>\n",
       "      <td>97%</td>\n",
       "      <td>adventure, comedy, fantasy</td>\n",
       "      <td>NaN</td>\n",
       "    </tr>\n",
       "    <tr>\n",
       "      <th>5332</th>\n",
       "      <td>Mining.</td>\n",
       "      <td>121009411</td>\n",
       "      <td>2011-06-15</td>\n",
       "      <td>Art</td>\n",
       "      <td>After Dark Films</td>\n",
       "      <td>USA</td>\n",
       "      <td>Patrick Siversen</td>\n",
       "      <td>Zachary T Bryan, Christopher</td>\n",
       "      <td>\"18+\" - prohibited for children</td>\n",
       "      <td>NaN</td>\n",
       "      <td>NaN</td>\n",
       "      <td>NaN</td>\n",
       "      <td>NaN</td>\n",
       "      <td>88%</td>\n",
       "      <td>fantasy, action, thriller</td>\n",
       "      <td>NaN</td>\n",
       "    </tr>\n",
       "    <tr>\n",
       "      <th>5455</th>\n",
       "      <td>Eternal cold</td>\n",
       "      <td>111006417</td>\n",
       "      <td>2017-08-28</td>\n",
       "      <td>Art</td>\n",
       "      <td>CJSC \"Production complex \"GLAVKINO\", LLC \"Luna...</td>\n",
       "      <td>Russia</td>\n",
       "      <td>A.Migachev</td>\n",
       "      <td>I. Bachurin</td>\n",
       "      <td>\"18+\" - prohibited for children</td>\n",
       "      <td>NaN</td>\n",
       "      <td>NaN</td>\n",
       "      <td>NaN</td>\n",
       "      <td>NaN</td>\n",
       "      <td>83%</td>\n",
       "      <td>fantasy, action, thriller</td>\n",
       "      <td>NaN</td>\n",
       "    </tr>\n",
       "    <tr>\n",
       "      <th>5821</th>\n",
       "      <td>Pig</td>\n",
       "      <td>121007018</td>\n",
       "      <td>2018-04-11</td>\n",
       "      <td>Art</td>\n",
       "      <td>Dark Precursor Production, Filmiran, Headate Film</td>\n",
       "      <td>Iran</td>\n",
       "      <td>Mani Hagigi</td>\n",
       "      <td>Mani Hagigi</td>\n",
       "      <td>\"18+\" - prohibited for children</td>\n",
       "      <td>NaN</td>\n",
       "      <td>NaN</td>\n",
       "      <td>NaN</td>\n",
       "      <td>NaN</td>\n",
       "      <td>94%</td>\n",
       "      <td>thriller, drama</td>\n",
       "      <td>1.587222e+06</td>\n",
       "    </tr>\n",
       "    <tr>\n",
       "      <th>5910</th>\n",
       "      <td>Mira</td>\n",
       "      <td>112000118</td>\n",
       "      <td>2018-06-04</td>\n",
       "      <td>Documentary</td>\n",
       "      <td>LLC \"Company \"New people\"</td>\n",
       "      <td>Russia</td>\n",
       "      <td>D.Shabaev</td>\n",
       "      <td>N. Mokritskaya</td>\n",
       "      <td>\"18+\" - prohibited for children</td>\n",
       "      <td>NaN</td>\n",
       "      <td>NaN</td>\n",
       "      <td>NaN</td>\n",
       "      <td>NaN</td>\n",
       "      <td>94%</td>\n",
       "      <td>drama</td>\n",
       "      <td>NaN</td>\n",
       "    </tr>\n",
       "    <tr>\n",
       "      <th>6426</th>\n",
       "      <td>Memorable dates in Russia. Partisans and under...</td>\n",
       "      <td>112013018</td>\n",
       "      <td>2018-11-28</td>\n",
       "      <td>Documentary</td>\n",
       "      <td>LLC Film company \"Vector\"</td>\n",
       "      <td>Russia</td>\n",
       "      <td>N.Ivanova, A.Kuznetsova</td>\n",
       "      <td>V. Kokhanovich</td>\n",
       "      <td>\"12+\" - for children over 12 years old</td>\n",
       "      <td>NaN</td>\n",
       "      <td>NaN</td>\n",
       "      <td>NaN</td>\n",
       "      <td>NaN</td>\n",
       "      <td>91%</td>\n",
       "      <td>drama, biography</td>\n",
       "      <td>NaN</td>\n",
       "    </tr>\n",
       "    <tr>\n",
       "      <th>6616</th>\n",
       "      <td>FROM WAR TO PRESENT</td>\n",
       "      <td>111026518</td>\n",
       "      <td>2019-01-21</td>\n",
       "      <td>Art</td>\n",
       "      <td>IP Vaysman Anatoly Aleksandrovich</td>\n",
       "      <td>Russia</td>\n",
       "      <td>A.Sazonov, E.Klimovich, A.Kolomeets, S.Chernik...</td>\n",
       "      <td>D. Ruyuezhin, L. Pyatnitskaya, D. Kolerov, E. ...</td>\n",
       "      <td>\"12+\" - for children over 12 years old</td>\n",
       "      <td>NaN</td>\n",
       "      <td>NaN</td>\n",
       "      <td>NaN</td>\n",
       "      <td>NaN</td>\n",
       "      <td>98%</td>\n",
       "      <td>fantasy, thriller</td>\n",
       "      <td>NaN</td>\n",
       "    </tr>\n",
       "    <tr>\n",
       "      <th>6737</th>\n",
       "      <td>Wheel of Time</td>\n",
       "      <td>111003219</td>\n",
       "      <td>2019-03-01</td>\n",
       "      <td>Art</td>\n",
       "      <td>LLC \"BestMedia\"</td>\n",
       "      <td>Russia</td>\n",
       "      <td>B.Kulomzin</td>\n",
       "      <td>B.Kulomzin</td>\n",
       "      <td>\"6+\" - for children over 6 years old</td>\n",
       "      <td>NaN</td>\n",
       "      <td>NaN</td>\n",
       "      <td>NaN</td>\n",
       "      <td>NaN</td>\n",
       "      <td>98%</td>\n",
       "      <td>fantasy, adventure</td>\n",
       "      <td>3.499200e+04</td>\n",
       "    </tr>\n",
       "    <tr>\n",
       "      <th>6882</th>\n",
       "      <td>Animals next to Saints</td>\n",
       "      <td>112003719</td>\n",
       "      <td>2019-05-03</td>\n",
       "      <td>Documentary</td>\n",
       "      <td>LLC \"Film program \"XXI century\"</td>\n",
       "      <td>Russia</td>\n",
       "      <td>T.Miroshnik</td>\n",
       "      <td>V.Esinov, E.Kalinina</td>\n",
       "      <td>\"0+\" - for any audience</td>\n",
       "      <td>NaN</td>\n",
       "      <td>NaN</td>\n",
       "      <td>NaN</td>\n",
       "      <td>NaN</td>\n",
       "      <td>99%</td>\n",
       "      <td>crime, drama</td>\n",
       "      <td>NaN</td>\n",
       "    </tr>\n",
       "    <tr>\n",
       "      <th>7159</th>\n",
       "      <td>Anna Karenina. intimate diary</td>\n",
       "      <td>111013919</td>\n",
       "      <td>2019-10-23</td>\n",
       "      <td>Art</td>\n",
       "      <td>LLC \"RTV\"</td>\n",
       "      <td>Russia</td>\n",
       "      <td>Yu.Grymov</td>\n",
       "      <td>Yu.Grymov</td>\n",
       "      <td>\"16+\" - for children over 16 years old</td>\n",
       "      <td>NaN</td>\n",
       "      <td>NaN</td>\n",
       "      <td>NaN</td>\n",
       "      <td>NaN</td>\n",
       "      <td>79%</td>\n",
       "      <td>drama</td>\n",
       "      <td>1.828825e+05</td>\n",
       "    </tr>\n",
       "    <tr>\n",
       "      <th>7277</th>\n",
       "      <td>Mining</td>\n",
       "      <td>121028319</td>\n",
       "      <td>2019-10-03</td>\n",
       "      <td>Art</td>\n",
       "      <td>Bloomhouse Productions, Hyde Park Entertainmen...</td>\n",
       "      <td>USA</td>\n",
       "      <td>Frank Khalfoun</td>\n",
       "      <td>Ashok Amritraj, Jason Blum, Travis Cluff</td>\n",
       "      <td>\"16+\" - for children over 16 years old</td>\n",
       "      <td>NaN</td>\n",
       "      <td>NaN</td>\n",
       "      <td>NaN</td>\n",
       "      <td>NaN</td>\n",
       "      <td>88%</td>\n",
       "      <td>fantasy, action, thriller</td>\n",
       "      <td>4.416590e+06</td>\n",
       "    </tr>\n",
       "  </tbody>\n",
       "</table>\n",
       "</div>"
      ],
      "text/plain": [
       "                                                  title   puNumber  \\\n",
       "259                                                Past  221030715   \n",
       "811                                          By screws!  114000212   \n",
       "1053                                            Sandman  121029212   \n",
       "1341                               Tale of Good and Wre  111008913   \n",
       "1805                                            Spiral.  111001014   \n",
       "1874                               Short Love Stories 2  121002615   \n",
       "1899  Cinderella /According to the fairy tale by Cha...  121003615   \n",
       "2126                                     trip to mother  111002015   \n",
       "2146                                               Main  111003415   \n",
       "2438                                   The most red fox  111012715   \n",
       "2680                         Year of the White Elephant  111003915   \n",
       "3139                                         I can knit  111019615   \n",
       "3431                                             Nauryz  131000217   \n",
       "3439                                 Seven Wild Stories  126005916   \n",
       "3446                             Short love stories - 4  126006316   \n",
       "3514                               someone else's house  111015516   \n",
       "3585  Horror cars. Series \"The most terrible tale of...  114003916   \n",
       "3786                                            Hunters  111017816   \n",
       "3948                                            Cruise.  211038210   \n",
       "5332                                            Mining.  121009411   \n",
       "5455                                       Eternal cold  111006417   \n",
       "5821                                                Pig  121007018   \n",
       "5910                                               Mira  112000118   \n",
       "6426  Memorable dates in Russia. Partisans and under...  112013018   \n",
       "6616                                FROM WAR TO PRESENT  111026518   \n",
       "6737                                      Wheel of Time  111003219   \n",
       "6882                             Animals next to Saints  112003719   \n",
       "7159                      Anna Karenina. intimate diary  111013919   \n",
       "7277                                             Mining  121028319   \n",
       "\n",
       "     show_start_date         type  \\\n",
       "259       2015-07-29          Art   \n",
       "811       2012-08-06     Animated   \n",
       "1053      2012-11-29          Art   \n",
       "1341      2013-11-15          Art   \n",
       "1805      2014-01-30          Art   \n",
       "1874      2015-02-13          Art   \n",
       "1899      2015-02-27          Art   \n",
       "2126      2015-03-02          Art   \n",
       "2146      2015-03-27          Art   \n",
       "2438      2015-07-30          Art   \n",
       "2680      2015-04-08          Art   \n",
       "3139      2015-11-27          Art   \n",
       "3431      2017-03-09          Art   \n",
       "3439      2016-11-28        Other   \n",
       "3446      2016-12-30        Other   \n",
       "3514      2016-09-14          Art   \n",
       "3585      2016-12-09     Animated   \n",
       "3786      2016-02-06          Art   \n",
       "3948      2010-09-03          Art   \n",
       "5332      2011-06-15          Art   \n",
       "5455      2017-08-28          Art   \n",
       "5821      2018-04-11          Art   \n",
       "5910      2018-06-04  Documentary   \n",
       "6426      2018-11-28  Documentary   \n",
       "6616      2019-01-21          Art   \n",
       "6737      2019-03-01          Art   \n",
       "6882      2019-05-03  Documentary   \n",
       "7159      2019-10-23          Art   \n",
       "7277      2019-10-03          Art   \n",
       "\n",
       "                                            film_studio  \\\n",
       "259   20 Century Fox de Argentina, Chemo, HB Films, ...   \n",
       "811                    CJSC \"Producer center \"Paradise\"   \n",
       "1053                         Spotlight Media Production   \n",
       "1341  Non-commercial partnership \"Studio of feature ...   \n",
       "1805                                LLC \"Company Piton\"   \n",
       "1874  Kaviar, Kurt 13, StreetLight Films, Nayer Deut...   \n",
       "1899                  Genre Films, Walt Disney Pictures   \n",
       "2126                         CJSC Film Studio \"M\"-Film\"   \n",
       "2146                          LLC \"Film studio \"MASTER\"   \n",
       "2438                     LLC \"Producer Center \"Lenfilm\"   \n",
       "2680                     LLC \"Creative Association YUG\"   \n",
       "3139                                 LLC \"White Mirror\"   \n",
       "3431                                               Es G   \n",
       "3439   Max Baker, John E. Bryan, Pierre-Louis Garnon...   \n",
       "3446  Network Island Television, Magnetfilm, Shortcu...   \n",
       "3514                              LLC \"Liga Production\"   \n",
       "3585           OOO Studio \"ANIMAKKORD\", ANIMAKKORD LTD.   \n",
       "3786                Seliverstov Alexander Alexandrovich   \n",
       "3948                   LLC \"UNITED MULTIMEDIA PROJECTS\"   \n",
       "5332                                   After Dark Films   \n",
       "5455  CJSC \"Production complex \"GLAVKINO\", LLC \"Luna...   \n",
       "5821  Dark Precursor Production, Filmiran, Headate Film   \n",
       "5910                          LLC \"Company \"New people\"   \n",
       "6426                          LLC Film company \"Vector\"   \n",
       "6616                  IP Vaysman Anatoly Aleksandrovich   \n",
       "6737                                    LLC \"BestMedia\"   \n",
       "6882                    LLC \"Film program \"XXI century\"   \n",
       "7159                                          LLC \"RTV\"   \n",
       "7277  Bloomhouse Productions, Hyde Park Entertainmen...   \n",
       "\n",
       "                                     production_country  \\\n",
       "259                                  Argentina - Brazil   \n",
       "811                                              Russia   \n",
       "1053                                        Switzerland   \n",
       "1341                                             Russia   \n",
       "1805                                             Russia   \n",
       "1874  Netherlands - USA - Germany - Canada - France ...   \n",
       "1899                                                USA   \n",
       "2126                                             Russia   \n",
       "2146                                             Russia   \n",
       "2438                                             Russia   \n",
       "2680                                             Russia   \n",
       "3139                                             Russia   \n",
       "3431                         The Republic of Kazakhstan   \n",
       "3439                         USA - Puerto Rico - France   \n",
       "3446     UK - Argentina - USA - France - Russia - Spain   \n",
       "3514                    Russia, Georgia, Croatia, Spain   \n",
       "3585                         Russia, Republic of Cyprus   \n",
       "3786                                             Russia   \n",
       "3948                                             Russia   \n",
       "5332                                                USA   \n",
       "5455                                             Russia   \n",
       "5821                                               Iran   \n",
       "5910                                             Russia   \n",
       "6426                                             Russia   \n",
       "6616                                             Russia   \n",
       "6737                                             Russia   \n",
       "6882                                             Russia   \n",
       "7159                                             Russia   \n",
       "7277                                                USA   \n",
       "\n",
       "                                               director  \\\n",
       "259                                      Hector Babenko   \n",
       "811                                           O. Lopato   \n",
       "1053                                       Peter Louisi   \n",
       "1341                                       E. Shilyaeva   \n",
       "1805                                           A.Volgin   \n",
       "1874  Matthew Auvro, Leo Bridle, Ben Brand, Den Clar...   \n",
       "1899                                    Kenneth Branagh   \n",
       "2126                                 M.Kosyrev-Nesterov   \n",
       "2146                                            Yu.Kara   \n",
       "2438                                     A. Strelyanaya   \n",
       "2680                                          Yu.Grymov   \n",
       "3139   N. Stepanova with the participation of S. Ivanov   \n",
       "3431                                     Askar Bisembin   \n",
       "3439  M.Baker, D.E.Bryant, D.Rondot, J.Sersar, D.Spi...   \n",
       "3446  D.Adar, P.Antokhin, M.Biasin, A.Burunova, K.Co...   \n",
       "3514                                      R. Glurdjidze   \n",
       "3585                                     D. Chervyatsov   \n",
       "3786                                      A.Seliverstov   \n",
       "3948                                    I. Romashchenko   \n",
       "5332                                   Patrick Siversen   \n",
       "5455                                         A.Migachev   \n",
       "5821                                        Mani Hagigi   \n",
       "5910                                          D.Shabaev   \n",
       "6426                            N.Ivanova, A.Kuznetsova   \n",
       "6616  A.Sazonov, E.Klimovich, A.Kolomeets, S.Chernik...   \n",
       "6737                                         B.Kulomzin   \n",
       "6882                                        T.Miroshnik   \n",
       "7159                                          Yu.Grymov   \n",
       "7277                                     Frank Khalfoun   \n",
       "\n",
       "                                               producer  \\\n",
       "259          Hector Babenko, Oscar Kramer, Hugo Seedman   \n",
       "811              G.Nersisyan, A.Manasaryan, A.Nersesyan   \n",
       "1053                         David Louisi, Peter Louisi   \n",
       "1341                                    K. Tereshchenko   \n",
       "1805                                        E. Kovaleva   \n",
       "1874  Mary Pat Bentel, Ben Brand, Ciara Gillan, Jord...   \n",
       "1899      David Barron, Simon Kinberg, Allison Shearmur   \n",
       "2126                                 M.Kosyrev-Nesterov   \n",
       "2146                                            Yu.Kara   \n",
       "2438                         A. Kotelevsky, E. Pichugin   \n",
       "2680                                         P.Polyakov   \n",
       "3139                       S. Kiknavelidze, D. Ulyukaev   \n",
       "3431                Oleg Golovashkin, Almas Sultangazin   \n",
       "3439   M.Baker, D.E.Bryan, P.-L.Garnon, M.H.Delgado,...   \n",
       "3446  D.Adar, D.Amson, P.Antohin, A.Armstrong, S.Bil...   \n",
       "3514     Z.Magalashvili, K.Gechmen-Waldeck, N.Gorshkova   \n",
       "3585                              D.Loveiko, O.Kuzovkov   \n",
       "3786            E. Tarkovskaya, T. Lagoda, D. Stepanyan   \n",
       "3948                                     R.Atamalibekov   \n",
       "5332                       Zachary T Bryan, Christopher   \n",
       "5455                                        I. Bachurin   \n",
       "5821                                        Mani Hagigi   \n",
       "5910                                     N. Mokritskaya   \n",
       "6426                                     V. Kokhanovich   \n",
       "6616  D. Ruyuezhin, L. Pyatnitskaya, D. Kolerov, E. ...   \n",
       "6737                                         B.Kulomzin   \n",
       "6882                               V.Esinov, E.Kalinina   \n",
       "7159                                          Yu.Grymov   \n",
       "7277           Ashok Amritraj, Jason Blum, Travis Cluff   \n",
       "\n",
       "                             age_restriction  refundable_support  \\\n",
       "259   \"16+\" - for children over 16 years old                 NaN   \n",
       "811   \"12+\" - for children over 12 years old                 NaN   \n",
       "1053  \"16+\" - for children over 16 years old                 NaN   \n",
       "1341    \"6+\" - for children over 6 years old                 NaN   \n",
       "1805  \"12+\" - for children over 12 years old                 NaN   \n",
       "1874         \"18+\" - prohibited for children                 NaN   \n",
       "1899    \"6+\" - for children over 6 years old                 NaN   \n",
       "2126  \"16+\" - for children over 16 years old                 NaN   \n",
       "2146    \"6+\" - for children over 6 years old                 0.0   \n",
       "2438    \"6+\" - for children over 6 years old                 NaN   \n",
       "2680    \"6+\" - for children over 6 years old                 NaN   \n",
       "3139  \"16+\" - for children over 16 years old                 0.0   \n",
       "3431  \"12+\" - for children over 12 years old                 NaN   \n",
       "3439         \"18+\" - prohibited for children                 NaN   \n",
       "3446         \"18+\" - prohibited for children                 NaN   \n",
       "3514  \"12+\" - for children over 12 years old                 NaN   \n",
       "3585                 \"0+\" - for any audience                 NaN   \n",
       "3786  \"16+\" - for children over 16 years old                 NaN   \n",
       "3948  \"16+\" - for children over 16 years old                 NaN   \n",
       "5332         \"18+\" - prohibited for children                 NaN   \n",
       "5455         \"18+\" - prohibited for children                 NaN   \n",
       "5821         \"18+\" - prohibited for children                 NaN   \n",
       "5910         \"18+\" - prohibited for children                 NaN   \n",
       "6426  \"12+\" - for children over 12 years old                 NaN   \n",
       "6616  \"12+\" - for children over 12 years old                 NaN   \n",
       "6737    \"6+\" - for children over 6 years old                 NaN   \n",
       "6882                 \"0+\" - for any audience                 NaN   \n",
       "7159  \"16+\" - for children over 16 years old                 NaN   \n",
       "7277  \"16+\" - for children over 16 years old                 NaN   \n",
       "\n",
       "      nonrefundable_support      budget     financing_source ratings  \\\n",
       "259                     NaN         NaN                  NaN     99%   \n",
       "811                     NaN         NaN                  NaN     28%   \n",
       "1053                    NaN         NaN                  NaN     97%   \n",
       "1341                    NaN         NaN                  NaN     99%   \n",
       "1805                    NaN         NaN                  NaN     99%   \n",
       "1874                    NaN         NaN                  NaN     83%   \n",
       "1899                    NaN         NaN                  NaN     64%   \n",
       "2126                    NaN         NaN                  NaN     91%   \n",
       "2146             10000000.0  40000000.0  Ministry of Culture     94%   \n",
       "2438                    NaN         NaN                  NaN     62%   \n",
       "2680                    NaN         NaN                  NaN     79%   \n",
       "3139              4700000.0  14462464.0  Ministry of Culture     90%   \n",
       "3431                    NaN         NaN                  NaN     19%   \n",
       "3439                    NaN         NaN                  NaN     88%   \n",
       "3446                    NaN         NaN                  NaN     83%   \n",
       "3514                    NaN         NaN                  NaN     91%   \n",
       "3585                    NaN         NaN                  NaN     97%   \n",
       "3786                    NaN         NaN                  NaN     89%   \n",
       "3948                    NaN         NaN                  NaN     97%   \n",
       "5332                    NaN         NaN                  NaN     88%   \n",
       "5455                    NaN         NaN                  NaN     83%   \n",
       "5821                    NaN         NaN                  NaN     94%   \n",
       "5910                    NaN         NaN                  NaN     94%   \n",
       "6426                    NaN         NaN                  NaN     91%   \n",
       "6616                    NaN         NaN                  NaN     98%   \n",
       "6737                    NaN         NaN                  NaN     98%   \n",
       "6882                    NaN         NaN                  NaN     99%   \n",
       "7159                    NaN         NaN                  NaN     79%   \n",
       "7277                    NaN         NaN                  NaN     88%   \n",
       "\n",
       "                             genres    box_office  \n",
       "259         horror, thriller, drama           NaN  \n",
       "811   children's, adventure, comedy  1.740000e+03  \n",
       "1053        horror, sci-fi, fantasy           NaN  \n",
       "1341     thriller, drama, detective           NaN  \n",
       "1805         anime, cartoon, horror  4.295000e+03  \n",
       "1874                            NaN  1.429859e+06  \n",
       "1899    musical, fantasy, melodrama  5.287326e+08  \n",
       "2126                  drama, family  0.000000e+00  \n",
       "2146      fantasy, thriller, comedy  3.347500e+05  \n",
       "2438                fantasy, family           NaN  \n",
       "2680                         family           NaN  \n",
       "3139                          drama  8.013700e+05  \n",
       "3431                         comedy  3.796000e+04  \n",
       "3439                            NaN  1.025937e+06  \n",
       "3446                            NaN  2.266408e+06  \n",
       "3514                          drama           NaN  \n",
       "3585       cartoon, horror, fantasy           NaN  \n",
       "3786      fantasy, comedy, thriller  8.284000e+04  \n",
       "3948     adventure, comedy, fantasy           NaN  \n",
       "5332      fantasy, action, thriller           NaN  \n",
       "5455      fantasy, action, thriller           NaN  \n",
       "5821                thriller, drama  1.587222e+06  \n",
       "5910                          drama           NaN  \n",
       "6426               drama, biography           NaN  \n",
       "6616              fantasy, thriller           NaN  \n",
       "6737             fantasy, adventure  3.499200e+04  \n",
       "6882                   crime, drama           NaN  \n",
       "7159                          drama  1.828825e+05  \n",
       "7277      fantasy, action, thriller  4.416590e+06  "
      ]
     },
     "execution_count": 10,
     "metadata": {},
     "output_type": "execute_result"
    }
   ],
   "source": [
    "df[df.ratings.str.contains('%') & df.ratings.notna()]"
   ]
  },
  {
   "cell_type": "markdown",
   "metadata": {},
   "source": [
    "Movies are little known and can hardly have a 9.9 from 10 rating, a short research showed that some of these films do not have a rating on Kinopoisk at all. The second hypothesis is that the rating data with percentages is technical data from the Kinopoisk algorithms. In any case, it is safest for analysis to replace it with `NaN`"
   ]
  },
  {
   "cell_type": "code",
   "execution_count": 11,
   "metadata": {},
   "outputs": [
    {
     "data": {
      "text/plain": [
       "count    6490.000000\n",
       "mean        6.479245\n",
       "std         1.101665\n",
       "min         1.000000\n",
       "25%         5.900000\n",
       "50%         6.600000\n",
       "75%         7.200000\n",
       "max         9.200000\n",
       "Name: ratings, dtype: float64"
      ]
     },
     "execution_count": 11,
     "metadata": {},
     "output_type": "execute_result"
    }
   ],
   "source": [
    "df['ratings'] = pd.to_numeric(df['ratings'], errors = 'coerce')\n",
    "df.ratings.describe()"
   ]
  },
  {
   "cell_type": "markdown",
   "metadata": {
    "id": "i0MOLbF-gFyP"
   },
   "source": [
    "### Gaps"
   ]
  },
  {
   "cell_type": "code",
   "execution_count": 12,
   "metadata": {
    "id": "8MJD_lkngFyP"
   },
   "outputs": [
    {
     "name": "stdout",
     "output_type": "stream",
     "text": [
      "<class 'pandas.core.frame.DataFrame'>\n",
      "Int64Index: 7486 entries, 0 to 7485\n",
      "Data columns (total 16 columns):\n",
      " #   Column                 Non-Null Count  Dtype         \n",
      "---  ------                 --------------  -----         \n",
      " 0   title                  7486 non-null   object        \n",
      " 1   puNumber               7486 non-null   object        \n",
      " 2   show_start_date        7486 non-null   datetime64[ns]\n",
      " 3   type                   7486 non-null   object        \n",
      " 4   film_studio            7468 non-null   object        \n",
      " 5   production_country     7484 non-null   object        \n",
      " 6   director               7477 non-null   object        \n",
      " 7   producer               6918 non-null   object        \n",
      " 8   age_restriction        7486 non-null   object        \n",
      " 9   refundable_support     332 non-null    float64       \n",
      " 10  nonrefundable_support  332 non-null    float64       \n",
      " 11  budget                 332 non-null    float64       \n",
      " 12  financing_source       332 non-null    object        \n",
      " 13  ratings                6490 non-null   float64       \n",
      " 14  genres                 6510 non-null   object        \n",
      " 15  box_office             3158 non-null   float64       \n",
      "dtypes: datetime64[ns](1), float64(5), object(10)\n",
      "memory usage: 994.2+ KB\n"
     ]
    }
   ],
   "source": [
    "df.info()"
   ]
  },
  {
   "cell_type": "markdown",
   "metadata": {},
   "source": [
    "There is quite a few gaps in the data, especially in the `box_office` column. It is not possible to delete it, since in this case there will be very little data for analysis. Substituting values is also not possible, each film is individual and there is no way to take statistics from a larger sample. Moreover, both the presence of data and its absence are of research interest for us.\n",
    "\n",
    "It makes sense to replace the `NaN` values in the categorical columns with `string` values, such as `no_info`. At the same time, we will leave the values in the `financing_source` column as it is, since the analysis by this column will be carried out only within the sample of films that received government support and, judging by the data, there are no gaps within this sample."
   ]
  },
  {
   "cell_type": "code",
   "execution_count": 13,
   "metadata": {},
   "outputs": [
    {
     "name": "stdout",
     "output_type": "stream",
     "text": [
      "<class 'pandas.core.frame.DataFrame'>\n",
      "Int64Index: 7486 entries, 0 to 7485\n",
      "Data columns (total 16 columns):\n",
      " #   Column                 Non-Null Count  Dtype         \n",
      "---  ------                 --------------  -----         \n",
      " 0   title                  7486 non-null   object        \n",
      " 1   puNumber               7486 non-null   object        \n",
      " 2   show_start_date        7486 non-null   datetime64[ns]\n",
      " 3   type                   7486 non-null   object        \n",
      " 4   film_studio            7486 non-null   object        \n",
      " 5   production_country     7486 non-null   object        \n",
      " 6   director               7486 non-null   object        \n",
      " 7   producer               7486 non-null   object        \n",
      " 8   age_restriction        7486 non-null   object        \n",
      " 9   refundable_support     332 non-null    float64       \n",
      " 10  nonrefundable_support  332 non-null    float64       \n",
      " 11  budget                 332 non-null    float64       \n",
      " 12  financing_source       332 non-null    object        \n",
      " 13  ratings                6490 non-null   float64       \n",
      " 14  genres                 7486 non-null   object        \n",
      " 15  box_office             3158 non-null   float64       \n",
      "dtypes: datetime64[ns](1), float64(5), object(10)\n",
      "memory usage: 994.2+ KB\n"
     ]
    }
   ],
   "source": [
    "df = df.fillna({\n",
    "    'film_studio': 'no_info',\n",
    "    'production_country': 'no_info',\n",
    "    'director': 'no_info',\n",
    "    'producer': 'no_info',\n",
    "    'genres': 'no_info'\n",
    "})\n",
    "df.info()"
   ]
  },
  {
   "cell_type": "markdown",
   "metadata": {
    "id": "4c6k1t9ygFyQ"
   },
   "source": [
    "### Duplicates"
   ]
  },
  {
   "cell_type": "code",
   "execution_count": 14,
   "metadata": {
    "id": "aKck8RIdgFyQ"
   },
   "outputs": [
    {
     "data": {
      "text/html": [
       "<div>\n",
       "<style scoped>\n",
       "    .dataframe tbody tr th:only-of-type {\n",
       "        vertical-align: middle;\n",
       "    }\n",
       "\n",
       "    .dataframe tbody tr th {\n",
       "        vertical-align: top;\n",
       "    }\n",
       "\n",
       "    .dataframe thead th {\n",
       "        text-align: right;\n",
       "    }\n",
       "</style>\n",
       "<table border=\"1\" class=\"dataframe\">\n",
       "  <thead>\n",
       "    <tr style=\"text-align: right;\">\n",
       "      <th></th>\n",
       "      <th>title</th>\n",
       "      <th>puNumber</th>\n",
       "      <th>show_start_date</th>\n",
       "      <th>type</th>\n",
       "      <th>film_studio</th>\n",
       "      <th>production_country</th>\n",
       "      <th>director</th>\n",
       "      <th>producer</th>\n",
       "      <th>age_restriction</th>\n",
       "      <th>refundable_support</th>\n",
       "      <th>nonrefundable_support</th>\n",
       "      <th>budget</th>\n",
       "      <th>financing_source</th>\n",
       "      <th>ratings</th>\n",
       "      <th>genres</th>\n",
       "      <th>box_office</th>\n",
       "    </tr>\n",
       "  </thead>\n",
       "  <tbody>\n",
       "  </tbody>\n",
       "</table>\n",
       "</div>"
      ],
      "text/plain": [
       "Empty DataFrame\n",
       "Columns: [title, puNumber, show_start_date, type, film_studio, production_country, director, producer, age_restriction, refundable_support, nonrefundable_support, budget, financing_source, ratings, genres, box_office]\n",
       "Index: []"
      ]
     },
     "execution_count": 14,
     "metadata": {},
     "output_type": "execute_result"
    }
   ],
   "source": [
    "df[df.duplicated()]"
   ]
  },
  {
   "cell_type": "markdown",
   "metadata": {},
   "source": [
    "There are no obvious duplicates. Let's check for implicit duplicates two columns that can potentially have unique values - the name of the film and the number of the rental certificate."
   ]
  },
  {
   "cell_type": "code",
   "execution_count": 15,
   "metadata": {},
   "outputs": [
    {
     "data": {
      "text/plain": [
       "Valentine's Day_                                             5\n",
       "Child of darkness                                            4\n",
       "time traveler's wife                                         4\n",
       "Where the monsters live                                      4\n",
       "Rapunzel: Tangled                                            4\n",
       "                                                            ..\n",
       "Mekhabbat - ul yorek eshe (Love is a matter of the heart)    1\n",
       "Ivan the Terrible - Episode 2 (Restored Version)             1\n",
       "Ivan the Terrible - 1 episode (restored version)             1\n",
       "The most true stories                                        1\n",
       "Song machines. Series \"When cacti bloom\"                     1\n",
       "Name: title, Length: 6745, dtype: int64"
      ]
     },
     "execution_count": 15,
     "metadata": {},
     "output_type": "execute_result"
    }
   ],
   "source": [
    "df.title.value_counts()"
   ]
  },
  {
   "cell_type": "markdown",
   "metadata": {},
   "source": [
    "There are a lot of duplicate movie titles. The description of the case says that one film can have several distribution certificates. It seems that because of this, duplicates appear in the `title` column. Let's check the data in the column with the name of the distribution certificate."
   ]
  },
  {
   "cell_type": "code",
   "execution_count": 16,
   "metadata": {},
   "outputs": [
    {
     "data": {
      "text/plain": [
       "221054410    2\n",
       "221154310    2\n",
       "221048915    1\n",
       "121004611    1\n",
       "121014411    1\n",
       "            ..\n",
       "121009015    1\n",
       "111004115    1\n",
       "211047015    1\n",
       "121011015    1\n",
       "124010719    1\n",
       "Name: puNumber, Length: 7484, dtype: int64"
      ]
     },
     "execution_count": 16,
     "metadata": {},
     "output_type": "execute_result"
    }
   ],
   "source": [
    "df.puNumber.value_counts()"
   ]
  },
  {
   "cell_type": "markdown",
   "metadata": {},
   "source": [
    "Only two duplicates and this is a clear mistake. Let's get rid of them and further we will base the analysis considering the value of the `puNumber` column as a unique ID, and we will consider `title` as a categorical column."
   ]
  },
  {
   "cell_type": "code",
   "execution_count": 17,
   "metadata": {},
   "outputs": [
    {
     "data": {
      "text/html": [
       "<div>\n",
       "<style scoped>\n",
       "    .dataframe tbody tr th:only-of-type {\n",
       "        vertical-align: middle;\n",
       "    }\n",
       "\n",
       "    .dataframe tbody tr th {\n",
       "        vertical-align: top;\n",
       "    }\n",
       "\n",
       "    .dataframe thead th {\n",
       "        text-align: right;\n",
       "    }\n",
       "</style>\n",
       "<table border=\"1\" class=\"dataframe\">\n",
       "  <thead>\n",
       "    <tr style=\"text-align: right;\">\n",
       "      <th></th>\n",
       "      <th>title</th>\n",
       "      <th>puNumber</th>\n",
       "      <th>show_start_date</th>\n",
       "      <th>type</th>\n",
       "      <th>film_studio</th>\n",
       "      <th>production_country</th>\n",
       "      <th>director</th>\n",
       "      <th>producer</th>\n",
       "      <th>age_restriction</th>\n",
       "      <th>refundable_support</th>\n",
       "      <th>nonrefundable_support</th>\n",
       "      <th>budget</th>\n",
       "      <th>financing_source</th>\n",
       "      <th>ratings</th>\n",
       "      <th>genres</th>\n",
       "      <th>box_office</th>\n",
       "    </tr>\n",
       "  </thead>\n",
       "  <tbody>\n",
       "    <tr>\n",
       "      <th>4638</th>\n",
       "      <td>How to get married and stay single</td>\n",
       "      <td>221154310</td>\n",
       "      <td>2010-12-17</td>\n",
       "      <td>Art</td>\n",
       "      <td>She Vam, Script Assosier, Tae Fe 1 Film Produc...</td>\n",
       "      <td>France</td>\n",
       "      <td>Eric Lartigo</td>\n",
       "      <td>Amandine Bilo, Alan Shaba</td>\n",
       "      <td>\"16+\" - for children over 16 years old</td>\n",
       "      <td>NaN</td>\n",
       "      <td>NaN</td>\n",
       "      <td>NaN</td>\n",
       "      <td>NaN</td>\n",
       "      <td>7.0</td>\n",
       "      <td>melodrama, comedy</td>\n",
       "      <td>NaN</td>\n",
       "    </tr>\n",
       "    <tr>\n",
       "      <th>4639</th>\n",
       "      <td>Joanna - a woman on the papal throne /Accordin...</td>\n",
       "      <td>221154310</td>\n",
       "      <td>2010-12-17</td>\n",
       "      <td>Art</td>\n",
       "      <td>Konstantin Film, A R D Degeto Film, Dune Phyl...</td>\n",
       "      <td>Germany - Great Britain - Italy - Spain</td>\n",
       "      <td>Zenke Wortmann</td>\n",
       "      <td>Oliver Berben, Doris D. Heinze, Faruk Eltan</td>\n",
       "      <td>\"16+\" - for children over 16 years old</td>\n",
       "      <td>NaN</td>\n",
       "      <td>NaN</td>\n",
       "      <td>NaN</td>\n",
       "      <td>NaN</td>\n",
       "      <td>7.6</td>\n",
       "      <td>drama, melodrama, history</td>\n",
       "      <td>NaN</td>\n",
       "    </tr>\n",
       "    <tr>\n",
       "      <th>5067</th>\n",
       "      <td>Analyze it!</td>\n",
       "      <td>221054410</td>\n",
       "      <td>2010-05-25</td>\n",
       "      <td>Art</td>\n",
       "      <td>Warner Bros. Village Roadshow Films LTD</td>\n",
       "      <td>USA-Australia</td>\n",
       "      <td>Harold Ramis</td>\n",
       "      <td>Jane Rosenthal, Paula Weinstein</td>\n",
       "      <td>\"16+\" - for children over 16 years old</td>\n",
       "      <td>NaN</td>\n",
       "      <td>NaN</td>\n",
       "      <td>NaN</td>\n",
       "      <td>NaN</td>\n",
       "      <td>7.4</td>\n",
       "      <td>comedy,crime</td>\n",
       "      <td>NaN</td>\n",
       "    </tr>\n",
       "    <tr>\n",
       "      <th>5068</th>\n",
       "      <td>Analyze it!</td>\n",
       "      <td>221054410</td>\n",
       "      <td>2010-05-25</td>\n",
       "      <td>Art</td>\n",
       "      <td>Warner Bros., Village Roadshow Pictures, NP En...</td>\n",
       "      <td>USA</td>\n",
       "      <td>Harold Reimis</td>\n",
       "      <td>Jane Rosenthal, Paul Weinstein</td>\n",
       "      <td>\"12+\" - for children over 12 years old</td>\n",
       "      <td>NaN</td>\n",
       "      <td>NaN</td>\n",
       "      <td>NaN</td>\n",
       "      <td>NaN</td>\n",
       "      <td>6.8</td>\n",
       "      <td>comedy,crime</td>\n",
       "      <td>NaN</td>\n",
       "    </tr>\n",
       "  </tbody>\n",
       "</table>\n",
       "</div>"
      ],
      "text/plain": [
       "                                                  title   puNumber  \\\n",
       "4638                 How to get married and stay single  221154310   \n",
       "4639  Joanna - a woman on the papal throne /Accordin...  221154310   \n",
       "5067                                        Analyze it!  221054410   \n",
       "5068                                        Analyze it!  221054410   \n",
       "\n",
       "     show_start_date type                                        film_studio  \\\n",
       "4638      2010-12-17  Art  She Vam, Script Assosier, Tae Fe 1 Film Produc...   \n",
       "4639      2010-12-17  Art   Konstantin Film, A R D Degeto Film, Dune Phyl...   \n",
       "5067      2010-05-25  Art            Warner Bros. Village Roadshow Films LTD   \n",
       "5068      2010-05-25  Art  Warner Bros., Village Roadshow Pictures, NP En...   \n",
       "\n",
       "                           production_country        director  \\\n",
       "4638                                   France    Eric Lartigo   \n",
       "4639  Germany - Great Britain - Italy - Spain  Zenke Wortmann   \n",
       "5067                            USA-Australia    Harold Ramis   \n",
       "5068                                      USA   Harold Reimis   \n",
       "\n",
       "                                         producer  \\\n",
       "4638                    Amandine Bilo, Alan Shaba   \n",
       "4639  Oliver Berben, Doris D. Heinze, Faruk Eltan   \n",
       "5067              Jane Rosenthal, Paula Weinstein   \n",
       "5068               Jane Rosenthal, Paul Weinstein   \n",
       "\n",
       "                             age_restriction  refundable_support  \\\n",
       "4638  \"16+\" - for children over 16 years old                 NaN   \n",
       "4639  \"16+\" - for children over 16 years old                 NaN   \n",
       "5067  \"16+\" - for children over 16 years old                 NaN   \n",
       "5068  \"12+\" - for children over 12 years old                 NaN   \n",
       "\n",
       "      nonrefundable_support  budget financing_source  ratings  \\\n",
       "4638                    NaN     NaN              NaN      7.0   \n",
       "4639                    NaN     NaN              NaN      7.6   \n",
       "5067                    NaN     NaN              NaN      7.4   \n",
       "5068                    NaN     NaN              NaN      6.8   \n",
       "\n",
       "                         genres  box_office  \n",
       "4638          melodrama, comedy         NaN  \n",
       "4639  drama, melodrama, history         NaN  \n",
       "5067               comedy,crime         NaN  \n",
       "5068               comedy,crime         NaN  "
      ]
     },
     "execution_count": 17,
     "metadata": {},
     "output_type": "execute_result"
    }
   ],
   "source": [
    "df.query('puNumber == \"221054410\" or puNumber == \"221154310\"')"
   ]
  },
  {
   "cell_type": "code",
   "execution_count": 18,
   "metadata": {},
   "outputs": [
    {
     "data": {
      "text/plain": [
       "221048915    1\n",
       "124000611    1\n",
       "121014511    1\n",
       "121014411    1\n",
       "121015211    1\n",
       "            ..\n",
       "121009015    1\n",
       "111004115    1\n",
       "211047015    1\n",
       "121011015    1\n",
       "124010719    1\n",
       "Name: puNumber, Length: 7484, dtype: int64"
      ]
     },
     "execution_count": 18,
     "metadata": {},
     "output_type": "execute_result"
    }
   ],
   "source": [
    "df = df.drop([4639, 5068])\n",
    "df.puNumber.value_counts()"
   ]
  },
  {
   "cell_type": "markdown",
   "metadata": {
    "id": "52fOPrEBgFyQ"
   },
   "source": [
    "### Categorical columns"
   ]
  },
  {
   "cell_type": "code",
   "execution_count": 19,
   "metadata": {},
   "outputs": [
    {
     "name": "stdout",
     "output_type": "stream",
     "text": [
      "<class 'pandas.core.frame.DataFrame'>\n",
      "Int64Index: 7484 entries, 0 to 7485\n",
      "Data columns (total 16 columns):\n",
      " #   Column                 Non-Null Count  Dtype         \n",
      "---  ------                 --------------  -----         \n",
      " 0   title                  7484 non-null   object        \n",
      " 1   puNumber               7484 non-null   object        \n",
      " 2   show_start_date        7484 non-null   datetime64[ns]\n",
      " 3   type                   7484 non-null   object        \n",
      " 4   film_studio            7484 non-null   object        \n",
      " 5   production_country     7484 non-null   object        \n",
      " 6   director               7484 non-null   object        \n",
      " 7   producer               7484 non-null   object        \n",
      " 8   age_restriction        7484 non-null   object        \n",
      " 9   refundable_support     332 non-null    float64       \n",
      " 10  nonrefundable_support  332 non-null    float64       \n",
      " 11  budget                 332 non-null    float64       \n",
      " 12  financing_source       332 non-null    object        \n",
      " 13  ratings                6488 non-null   float64       \n",
      " 14  genres                 7484 non-null   object        \n",
      " 15  box_office             3158 non-null   float64       \n",
      "dtypes: datetime64[ns](1), float64(5), object(10)\n",
      "memory usage: 994.0+ KB\n"
     ]
    }
   ],
   "source": [
    "df.info()"
   ]
  },
  {
   "cell_type": "markdown",
   "metadata": {},
   "source": [
    "The biggest problem with categorical values is that they are an array of many values in one cell. This makes them difficult for technical analysis. We need to analyze the data on the `age_restriction` column, we will change the values of this column to simpler ones, removing all unnecessary."
   ]
  },
  {
   "cell_type": "code",
   "execution_count": 20,
   "metadata": {
    "id": "PnXKIVdFgFyR"
   },
   "outputs": [
    {
     "data": {
      "text/plain": [
       "\"16+\" - for children over 16 years old    2850\n",
       "\"18+\" - prohibited for children           1605\n",
       "\"12+\" - for children over 12 years old    1592\n",
       "\"0+\" - for any audience                    811\n",
       "\"6+\" - for children over 6 years old       626\n",
       "Name: age_restriction, dtype: int64"
      ]
     },
     "execution_count": 20,
     "metadata": {},
     "output_type": "execute_result"
    }
   ],
   "source": [
    "df.age_restriction.value_counts()"
   ]
  },
  {
   "cell_type": "code",
   "execution_count": 21,
   "metadata": {},
   "outputs": [
    {
     "data": {
      "text/plain": [
       "16+    2850\n",
       "18+    1605\n",
       "12+    1592\n",
       "0+      811\n",
       "6+      626\n",
       "Name: age_restriction, dtype: int64"
      ]
     },
     "execution_count": 21,
     "metadata": {},
     "output_type": "execute_result"
    }
   ],
   "source": [
    "df = df.replace({\n",
    "    '\"16+\" - for children over 16 years old': '16+',\n",
    "    '\"18+\" - prohibited for children': '18+',\n",
    "    '\"12+\" - for children over 12 years old': '12+',\n",
    "    '\"0+\" - for any audience': '0+',\n",
    "    '\"6+\" - for children over 6 years old': '6+'\n",
    "})\n",
    "\n",
    "df.age_restriction.value_counts()"
   ]
  },
  {
   "cell_type": "markdown",
   "metadata": {},
   "source": [
    "Let's look at the `type` column "
   ]
  },
  {
   "cell_type": "code",
   "execution_count": 22,
   "metadata": {},
   "outputs": [
    {
     "data": {
      "text/plain": [
       "Art                        4518\n",
       " Art                       1389\n",
       "Animated                    828\n",
       "Other                       406\n",
       "Documentary                 288\n",
       "Popular science              53\n",
       " Animated                     1\n",
       "Music and entertainment       1\n",
       "Name: type, dtype: int64"
      ]
     },
     "execution_count": 22,
     "metadata": {},
     "output_type": "execute_result"
    }
   ],
   "source": [
    "df.type.value_counts()"
   ]
  },
  {
   "cell_type": "markdown",
   "metadata": {},
   "source": [
    "There are gaps in the category names, we will get rid of them."
   ]
  },
  {
   "cell_type": "code",
   "execution_count": 23,
   "metadata": {},
   "outputs": [
    {
     "data": {
      "text/plain": [
       "Art                        5907\n",
       "Animated                    829\n",
       "Other                       406\n",
       "Documentary                 288\n",
       "Popular science              53\n",
       "Music and entertainment       1\n",
       "Name: type, dtype: int64"
      ]
     },
     "execution_count": 23,
     "metadata": {},
     "output_type": "execute_result"
    }
   ],
   "source": [
    "df['type'] = df['type'].str.strip()\n",
    "df.type.value_counts()"
   ]
  },
  {
   "cell_type": "code",
   "execution_count": 24,
   "metadata": {},
   "outputs": [
    {
     "data": {
      "text/plain": [
       "Ministry of Culture                 164\n",
       "Cinema Fund                         146\n",
       "Ministry of Culture, Cinema Fund     22\n",
       "Name: financing_source, dtype: int64"
      ]
     },
     "execution_count": 24,
     "metadata": {},
     "output_type": "execute_result"
    }
   ],
   "source": [
    "df.financing_source.value_counts()"
   ]
  },
  {
   "cell_type": "markdown",
   "metadata": {},
   "source": [
    "The `financing_source` column is the only categorical column with almost no problems. The double mention of the Ministry of Culture and the Cinema Fund can be considered as \"*co-financing*\" category"
   ]
  },
  {
   "cell_type": "markdown",
   "metadata": {
    "id": "XFSN5lrEgFyR"
   },
   "source": [
    "### Quantitative clumns"
   ]
  },
  {
   "cell_type": "markdown",
   "metadata": {},
   "source": [
    "It is necessary to carefully examine the data on films that have received state support. The documentation also state that the film's budget should already contain the support amount. Let's check if this requirement is met."
   ]
  },
  {
   "cell_type": "code",
   "execution_count": 25,
   "metadata": {
    "id": "YbzClBxagFyS"
   },
   "outputs": [
    {
     "data": {
      "text/plain": [
       "False    7467\n",
       "True       17\n",
       "Name: wrong_budget, dtype: int64"
      ]
     },
     "execution_count": 25,
     "metadata": {},
     "output_type": "execute_result"
    }
   ],
   "source": [
    "df['wrong_budget'] = (df['refundable_support'] + df['nonrefundable_support']) > df['budget']\n",
    "df.wrong_budget.value_counts()"
   ]
  },
  {
   "cell_type": "markdown",
   "metadata": {},
   "source": [
    "17 rows were found where the budget is less than the state support, which is an obvious error. Let's look at these values"
   ]
  },
  {
   "cell_type": "code",
   "execution_count": 26,
   "metadata": {},
   "outputs": [
    {
     "data": {
      "text/html": [
       "<div>\n",
       "<style scoped>\n",
       "    .dataframe tbody tr th:only-of-type {\n",
       "        vertical-align: middle;\n",
       "    }\n",
       "\n",
       "    .dataframe tbody tr th {\n",
       "        vertical-align: top;\n",
       "    }\n",
       "\n",
       "    .dataframe thead th {\n",
       "        text-align: right;\n",
       "    }\n",
       "</style>\n",
       "<table border=\"1\" class=\"dataframe\">\n",
       "  <thead>\n",
       "    <tr style=\"text-align: right;\">\n",
       "      <th></th>\n",
       "      <th>title</th>\n",
       "      <th>puNumber</th>\n",
       "      <th>show_start_date</th>\n",
       "      <th>type</th>\n",
       "      <th>film_studio</th>\n",
       "      <th>production_country</th>\n",
       "      <th>director</th>\n",
       "      <th>producer</th>\n",
       "      <th>age_restriction</th>\n",
       "      <th>refundable_support</th>\n",
       "      <th>nonrefundable_support</th>\n",
       "      <th>budget</th>\n",
       "      <th>financing_source</th>\n",
       "      <th>ratings</th>\n",
       "      <th>genres</th>\n",
       "      <th>box_office</th>\n",
       "      <th>wrong_budget</th>\n",
       "    </tr>\n",
       "  </thead>\n",
       "  <tbody>\n",
       "    <tr>\n",
       "      <th>2053</th>\n",
       "      <td>14+</td>\n",
       "      <td>111023614</td>\n",
       "      <td>2014-12-19</td>\n",
       "      <td>Art</td>\n",
       "      <td>LLC Film Studio \"September\"</td>\n",
       "      <td>Russia</td>\n",
       "      <td>A.Zaitsev</td>\n",
       "      <td>O. Granina, A. Zaitsev</td>\n",
       "      <td>16+</td>\n",
       "      <td>0.0</td>\n",
       "      <td>23000000.0</td>\n",
       "      <td>0.0</td>\n",
       "      <td>Ministry of Culture, Cinema Fund</td>\n",
       "      <td>6.6</td>\n",
       "      <td>melodrama</td>\n",
       "      <td>1.023402e+07</td>\n",
       "      <td>True</td>\n",
       "    </tr>\n",
       "    <tr>\n",
       "      <th>2058</th>\n",
       "      <td>Duxless 2</td>\n",
       "      <td>111000415</td>\n",
       "      <td>2015-01-26</td>\n",
       "      <td>Art</td>\n",
       "      <td>\"Slovo Film Studio\" LLC, \"Art Pictures Studio\"...</td>\n",
       "      <td>Russia</td>\n",
       "      <td>R. Prygunov</td>\n",
       "      <td>P. Anurov, F. Bondarchuk, D. Rudovsky</td>\n",
       "      <td>16+</td>\n",
       "      <td>0.0</td>\n",
       "      <td>75000000.0</td>\n",
       "      <td>0.0</td>\n",
       "      <td>Cinema Fund</td>\n",
       "      <td>6.6</td>\n",
       "      <td>drama</td>\n",
       "      <td>4.461635e+08</td>\n",
       "      <td>True</td>\n",
       "    </tr>\n",
       "    <tr>\n",
       "      <th>2472</th>\n",
       "      <td>Warrior (2015)</td>\n",
       "      <td>111017315</td>\n",
       "      <td>2015-09-28</td>\n",
       "      <td>Art</td>\n",
       "      <td>OOO \"Forpost Production\", OOO \"Art Pictures St...</td>\n",
       "      <td>Russia</td>\n",
       "      <td>A.Andrianov</td>\n",
       "      <td>LLC \"Art Pictures Studio\"</td>\n",
       "      <td>12+</td>\n",
       "      <td>10000000.0</td>\n",
       "      <td>70000000.0</td>\n",
       "      <td>0.0</td>\n",
       "      <td>Cinema Fund</td>\n",
       "      <td>7.8</td>\n",
       "      <td>action, drama, crime</td>\n",
       "      <td>1.965724e+08</td>\n",
       "      <td>True</td>\n",
       "    </tr>\n",
       "    <tr>\n",
       "      <th>2532</th>\n",
       "      <td>Bartender.</td>\n",
       "      <td>111009615</td>\n",
       "      <td>2015-05-26</td>\n",
       "      <td>Art</td>\n",
       "      <td>JSC \"White Media\", LLC \"Art Pictures Studio\"</td>\n",
       "      <td>Russia</td>\n",
       "      <td>D. Shturmanova</td>\n",
       "      <td>T. Weinstein</td>\n",
       "      <td>16+</td>\n",
       "      <td>20000000.0</td>\n",
       "      <td>0.0</td>\n",
       "      <td>0.0</td>\n",
       "      <td>Cinema Fund</td>\n",
       "      <td>6.2</td>\n",
       "      <td>comedy, fantasy</td>\n",
       "      <td>6.741897e+07</td>\n",
       "      <td>True</td>\n",
       "    </tr>\n",
       "    <tr>\n",
       "      <th>2615</th>\n",
       "      <td>Savva. Warrior heart</td>\n",
       "      <td>114001715</td>\n",
       "      <td>2015-07-21</td>\n",
       "      <td>Animated</td>\n",
       "      <td>Glucose Production LLC, Art Pictures Studio LLC</td>\n",
       "      <td>Russia</td>\n",
       "      <td>M. Fadeev</td>\n",
       "      <td>A. Chistyakov</td>\n",
       "      <td>6+</td>\n",
       "      <td>60000000.0</td>\n",
       "      <td>100000000.0</td>\n",
       "      <td>0.0</td>\n",
       "      <td>Cinema Fund</td>\n",
       "      <td>4.6</td>\n",
       "      <td>cartoon, adventure, fantasy</td>\n",
       "      <td>1.844876e+08</td>\n",
       "      <td>True</td>\n",
       "    </tr>\n",
       "    <tr>\n",
       "      <th>2684</th>\n",
       "      <td>rag union</td>\n",
       "      <td>111010215</td>\n",
       "      <td>2015-06-08</td>\n",
       "      <td>Art</td>\n",
       "      <td>LLC \"Film company\" KOKTEBEL \"</td>\n",
       "      <td>Russia</td>\n",
       "      <td>M. Mestetskiy</td>\n",
       "      <td>R. Borisevich, A. Kushaev</td>\n",
       "      <td>18+</td>\n",
       "      <td>0.0</td>\n",
       "      <td>59000000.0</td>\n",
       "      <td>0.0</td>\n",
       "      <td>Cinema Fund</td>\n",
       "      <td>6.3</td>\n",
       "      <td>comedy, drama</td>\n",
       "      <td>1.957739e+06</td>\n",
       "      <td>True</td>\n",
       "    </tr>\n",
       "    <tr>\n",
       "      <th>2788</th>\n",
       "      <td>I will get married soon</td>\n",
       "      <td>111017115</td>\n",
       "      <td>2015-09-30</td>\n",
       "      <td>Art</td>\n",
       "      <td>JSC \"White Media\", LLC \"Art Pictures Studio\"</td>\n",
       "      <td>Russia</td>\n",
       "      <td>S Chekalov</td>\n",
       "      <td>F. Bondarchuk, T. Weinstein, D. Rudovsky</td>\n",
       "      <td>16+</td>\n",
       "      <td>0.0</td>\n",
       "      <td>35000000.0</td>\n",
       "      <td>0.0</td>\n",
       "      <td>Cinema Fund</td>\n",
       "      <td>5.1</td>\n",
       "      <td>comedy, melodrama</td>\n",
       "      <td>7.293778e+07</td>\n",
       "      <td>True</td>\n",
       "    </tr>\n",
       "    <tr>\n",
       "      <th>2874</th>\n",
       "      <td>I remember - I don't remember!</td>\n",
       "      <td>111004916</td>\n",
       "      <td>2016-03-01</td>\n",
       "      <td>Art</td>\n",
       "      <td>LLC \"KinoFirma\"</td>\n",
       "      <td>Russia</td>\n",
       "      <td>V. Rovensky</td>\n",
       "      <td>LLC \"KinoFirma\"</td>\n",
       "      <td>12+</td>\n",
       "      <td>0.0</td>\n",
       "      <td>6000000.0</td>\n",
       "      <td>0.0</td>\n",
       "      <td>Ministry of Culture</td>\n",
       "      <td>4.3</td>\n",
       "      <td>comedy</td>\n",
       "      <td>1.536293e+07</td>\n",
       "      <td>True</td>\n",
       "    </tr>\n",
       "    <tr>\n",
       "      <th>3047</th>\n",
       "      <td>Love with limits</td>\n",
       "      <td>111008216</td>\n",
       "      <td>2016-04-29</td>\n",
       "      <td>Art</td>\n",
       "      <td>JSC \"White Media\", LLC \"Art Pictures Studio\"</td>\n",
       "      <td>Russia</td>\n",
       "      <td>D. Tyurin</td>\n",
       "      <td>F. Bondarchuk, T. Weinstein, D. Rudovsky</td>\n",
       "      <td>16+</td>\n",
       "      <td>19000000.0</td>\n",
       "      <td>51000000.0</td>\n",
       "      <td>0.0</td>\n",
       "      <td>Cinema Fund</td>\n",
       "      <td>6.3</td>\n",
       "      <td>comedy, melodrama</td>\n",
       "      <td>7.029905e+07</td>\n",
       "      <td>True</td>\n",
       "    </tr>\n",
       "    <tr>\n",
       "      <th>3565</th>\n",
       "      <td>Attraction (2016)</td>\n",
       "      <td>111018116</td>\n",
       "      <td>2016-12-16</td>\n",
       "      <td>Art</td>\n",
       "      <td>Hydrogen 2011 LLC, Art Pictures Studio LLC</td>\n",
       "      <td>Russia</td>\n",
       "      <td>F. Bondarchuk</td>\n",
       "      <td>LLC \"Art Pictures Studio\"</td>\n",
       "      <td>12+</td>\n",
       "      <td>0.0</td>\n",
       "      <td>250000000.0</td>\n",
       "      <td>0.0</td>\n",
       "      <td>Cinema Fund</td>\n",
       "      <td>5.6</td>\n",
       "      <td>fiction</td>\n",
       "      <td>1.038321e+09</td>\n",
       "      <td>True</td>\n",
       "    </tr>\n",
       "    <tr>\n",
       "      <th>3675</th>\n",
       "      <td>Miracle Yudo</td>\n",
       "      <td>114001817</td>\n",
       "      <td>2017-06-27</td>\n",
       "      <td>Animated</td>\n",
       "      <td>LLC \"KinoFirma\"</td>\n",
       "      <td>Russia</td>\n",
       "      <td>A. Lukichev</td>\n",
       "      <td>LLC \"KinoFirma\"</td>\n",
       "      <td>6+</td>\n",
       "      <td>20000000.0</td>\n",
       "      <td>20000000.0</td>\n",
       "      <td>0.0</td>\n",
       "      <td>Cinema Fund</td>\n",
       "      <td>5.2</td>\n",
       "      <td>cartoon,fantasy,family</td>\n",
       "      <td>5.510801e+07</td>\n",
       "      <td>True</td>\n",
       "    </tr>\n",
       "    <tr>\n",
       "      <th>3739</th>\n",
       "      <td>myths</td>\n",
       "      <td>111004317</td>\n",
       "      <td>2017-06-07</td>\n",
       "      <td>Art</td>\n",
       "      <td>LLC \"HYPFILM\", LLC \"Art Pictures Studio\"</td>\n",
       "      <td>Russia</td>\n",
       "      <td>A.Molochnikov</td>\n",
       "      <td>F. Bondarchuk, D. Rudovsky, I. Stewart, M. Osm...</td>\n",
       "      <td>16+</td>\n",
       "      <td>25000000.0</td>\n",
       "      <td>20000000.0</td>\n",
       "      <td>0.0</td>\n",
       "      <td>Cinema Fund</td>\n",
       "      <td>4.8</td>\n",
       "      <td>comedy</td>\n",
       "      <td>5.045195e+07</td>\n",
       "      <td>True</td>\n",
       "    </tr>\n",
       "    <tr>\n",
       "      <th>5673</th>\n",
       "      <td>Selfie</td>\n",
       "      <td>111012117</td>\n",
       "      <td>2018-02-01</td>\n",
       "      <td>Art</td>\n",
       "      <td>\"Slovo Film Studio\" LLC, \"Art Pictures Studio\"...</td>\n",
       "      <td>Russia</td>\n",
       "      <td>N.Khomeriki</td>\n",
       "      <td>P. Anurov, F. Bondarchuk, D. Rudovsky</td>\n",
       "      <td>16+</td>\n",
       "      <td>20000000.0</td>\n",
       "      <td>40000000.0</td>\n",
       "      <td>0.0</td>\n",
       "      <td>Cinema Fund</td>\n",
       "      <td>5.8</td>\n",
       "      <td>thriller, drama</td>\n",
       "      <td>2.251964e+08</td>\n",
       "      <td>True</td>\n",
       "    </tr>\n",
       "    <tr>\n",
       "      <th>5806</th>\n",
       "      <td>two tails</td>\n",
       "      <td>114001018</td>\n",
       "      <td>2018-05-31</td>\n",
       "      <td>Animated</td>\n",
       "      <td>OOO \"LICENSED BRANDS\"</td>\n",
       "      <td>Russia</td>\n",
       "      <td>V. Rovensky, N. Lopato, V. Azeev</td>\n",
       "      <td>OOO \"LICENSED BRANDS\"</td>\n",
       "      <td>6+</td>\n",
       "      <td>10000000.0</td>\n",
       "      <td>60000000.0</td>\n",
       "      <td>0.0</td>\n",
       "      <td>Cinema Fund</td>\n",
       "      <td>5.0</td>\n",
       "      <td>cartoon,children</td>\n",
       "      <td>1.065143e+08</td>\n",
       "      <td>True</td>\n",
       "    </tr>\n",
       "    <tr>\n",
       "      <th>6008</th>\n",
       "      <td>princess and dragon</td>\n",
       "      <td>114003018</td>\n",
       "      <td>2018-08-23</td>\n",
       "      <td>Animated</td>\n",
       "      <td>OOO \"LICENSED BRANDS\"</td>\n",
       "      <td>Russia</td>\n",
       "      <td>M.Nefedova</td>\n",
       "      <td>OOO \"LICENSED BRANDS\"</td>\n",
       "      <td>6+</td>\n",
       "      <td>40000000.0</td>\n",
       "      <td>40000000.0</td>\n",
       "      <td>0.0</td>\n",
       "      <td>Cinema Fund</td>\n",
       "      <td>5.2</td>\n",
       "      <td>cartoon,fantasy,children</td>\n",
       "      <td>8.336633e+07</td>\n",
       "      <td>True</td>\n",
       "    </tr>\n",
       "    <tr>\n",
       "      <th>6323</th>\n",
       "      <td>Baba Yaga</td>\n",
       "      <td>114006518</td>\n",
       "      <td>2018-11-08</td>\n",
       "      <td>Animated</td>\n",
       "      <td>LLC \"Art Pictures Studio\"</td>\n",
       "      <td>Russia</td>\n",
       "      <td>V.Sakov</td>\n",
       "      <td>LLC \"Art Pictures Studio\", LLC \"CREATIVE ANIMA...</td>\n",
       "      <td>6+</td>\n",
       "      <td>0.0</td>\n",
       "      <td>138969465.0</td>\n",
       "      <td>0.0</td>\n",
       "      <td>Cinema Fund</td>\n",
       "      <td>NaN</td>\n",
       "      <td>no_info</td>\n",
       "      <td>1.334699e+06</td>\n",
       "      <td>True</td>\n",
       "    </tr>\n",
       "    <tr>\n",
       "      <th>6823</th>\n",
       "      <td>big Adventure</td>\n",
       "      <td>114002419</td>\n",
       "      <td>2019-04-20</td>\n",
       "      <td>Animated</td>\n",
       "      <td>OOO \"LICENSED BRANDS\"</td>\n",
       "      <td>Russia</td>\n",
       "      <td>N. Lopato, V. Rovensky</td>\n",
       "      <td>OOO \"LICENSED BRANDS\"</td>\n",
       "      <td>6+</td>\n",
       "      <td>60000000.0</td>\n",
       "      <td>120000000.0</td>\n",
       "      <td>0.0</td>\n",
       "      <td>Cinema Fund</td>\n",
       "      <td>6.2</td>\n",
       "      <td>cartoon, comedy, adventure</td>\n",
       "      <td>1.476068e+08</td>\n",
       "      <td>True</td>\n",
       "    </tr>\n",
       "  </tbody>\n",
       "</table>\n",
       "</div>"
      ],
      "text/plain": [
       "                               title   puNumber show_start_date      type  \\\n",
       "2053                             14+  111023614      2014-12-19       Art   \n",
       "2058                       Duxless 2  111000415      2015-01-26       Art   \n",
       "2472                  Warrior (2015)  111017315      2015-09-28       Art   \n",
       "2532                      Bartender.  111009615      2015-05-26       Art   \n",
       "2615            Savva. Warrior heart  114001715      2015-07-21  Animated   \n",
       "2684                       rag union  111010215      2015-06-08       Art   \n",
       "2788         I will get married soon  111017115      2015-09-30       Art   \n",
       "2874  I remember - I don't remember!  111004916      2016-03-01       Art   \n",
       "3047                Love with limits  111008216      2016-04-29       Art   \n",
       "3565               Attraction (2016)  111018116      2016-12-16       Art   \n",
       "3675                    Miracle Yudo  114001817      2017-06-27  Animated   \n",
       "3739                           myths  111004317      2017-06-07       Art   \n",
       "5673                          Selfie  111012117      2018-02-01       Art   \n",
       "5806                       two tails  114001018      2018-05-31  Animated   \n",
       "6008             princess and dragon  114003018      2018-08-23  Animated   \n",
       "6323                       Baba Yaga  114006518      2018-11-08  Animated   \n",
       "6823                   big Adventure  114002419      2019-04-20  Animated   \n",
       "\n",
       "                                            film_studio production_country  \\\n",
       "2053                        LLC Film Studio \"September\"             Russia   \n",
       "2058  \"Slovo Film Studio\" LLC, \"Art Pictures Studio\"...             Russia   \n",
       "2472  OOO \"Forpost Production\", OOO \"Art Pictures St...             Russia   \n",
       "2532       JSC \"White Media\", LLC \"Art Pictures Studio\"             Russia   \n",
       "2615    Glucose Production LLC, Art Pictures Studio LLC             Russia   \n",
       "2684                      LLC \"Film company\" KOKTEBEL \"             Russia   \n",
       "2788       JSC \"White Media\", LLC \"Art Pictures Studio\"             Russia   \n",
       "2874                                    LLC \"KinoFirma\"             Russia   \n",
       "3047       JSC \"White Media\", LLC \"Art Pictures Studio\"             Russia   \n",
       "3565         Hydrogen 2011 LLC, Art Pictures Studio LLC             Russia   \n",
       "3675                                    LLC \"KinoFirma\"             Russia   \n",
       "3739           LLC \"HYPFILM\", LLC \"Art Pictures Studio\"             Russia   \n",
       "5673  \"Slovo Film Studio\" LLC, \"Art Pictures Studio\"...             Russia   \n",
       "5806                              OOO \"LICENSED BRANDS\"             Russia   \n",
       "6008                              OOO \"LICENSED BRANDS\"             Russia   \n",
       "6323                          LLC \"Art Pictures Studio\"             Russia   \n",
       "6823                              OOO \"LICENSED BRANDS\"             Russia   \n",
       "\n",
       "                              director  \\\n",
       "2053                         A.Zaitsev   \n",
       "2058                       R. Prygunov   \n",
       "2472                       A.Andrianov   \n",
       "2532                    D. Shturmanova   \n",
       "2615                         M. Fadeev   \n",
       "2684                     M. Mestetskiy   \n",
       "2788                        S Chekalov   \n",
       "2874                       V. Rovensky   \n",
       "3047                         D. Tyurin   \n",
       "3565                     F. Bondarchuk   \n",
       "3675                       A. Lukichev   \n",
       "3739                     A.Molochnikov   \n",
       "5673                       N.Khomeriki   \n",
       "5806  V. Rovensky, N. Lopato, V. Azeev   \n",
       "6008                        M.Nefedova   \n",
       "6323                           V.Sakov   \n",
       "6823            N. Lopato, V. Rovensky   \n",
       "\n",
       "                                               producer age_restriction  \\\n",
       "2053                             O. Granina, A. Zaitsev             16+   \n",
       "2058              P. Anurov, F. Bondarchuk, D. Rudovsky             16+   \n",
       "2472                          LLC \"Art Pictures Studio\"             12+   \n",
       "2532                                       T. Weinstein             16+   \n",
       "2615                                      A. Chistyakov              6+   \n",
       "2684                          R. Borisevich, A. Kushaev             18+   \n",
       "2788           F. Bondarchuk, T. Weinstein, D. Rudovsky             16+   \n",
       "2874                                    LLC \"KinoFirma\"             12+   \n",
       "3047           F. Bondarchuk, T. Weinstein, D. Rudovsky             16+   \n",
       "3565                          LLC \"Art Pictures Studio\"             12+   \n",
       "3675                                    LLC \"KinoFirma\"              6+   \n",
       "3739  F. Bondarchuk, D. Rudovsky, I. Stewart, M. Osm...             16+   \n",
       "5673              P. Anurov, F. Bondarchuk, D. Rudovsky             16+   \n",
       "5806                              OOO \"LICENSED BRANDS\"              6+   \n",
       "6008                              OOO \"LICENSED BRANDS\"              6+   \n",
       "6323  LLC \"Art Pictures Studio\", LLC \"CREATIVE ANIMA...              6+   \n",
       "6823                              OOO \"LICENSED BRANDS\"              6+   \n",
       "\n",
       "      refundable_support  nonrefundable_support  budget  \\\n",
       "2053                 0.0             23000000.0     0.0   \n",
       "2058                 0.0             75000000.0     0.0   \n",
       "2472          10000000.0             70000000.0     0.0   \n",
       "2532          20000000.0                    0.0     0.0   \n",
       "2615          60000000.0            100000000.0     0.0   \n",
       "2684                 0.0             59000000.0     0.0   \n",
       "2788                 0.0             35000000.0     0.0   \n",
       "2874                 0.0              6000000.0     0.0   \n",
       "3047          19000000.0             51000000.0     0.0   \n",
       "3565                 0.0            250000000.0     0.0   \n",
       "3675          20000000.0             20000000.0     0.0   \n",
       "3739          25000000.0             20000000.0     0.0   \n",
       "5673          20000000.0             40000000.0     0.0   \n",
       "5806          10000000.0             60000000.0     0.0   \n",
       "6008          40000000.0             40000000.0     0.0   \n",
       "6323                 0.0            138969465.0     0.0   \n",
       "6823          60000000.0            120000000.0     0.0   \n",
       "\n",
       "                      financing_source  ratings                       genres  \\\n",
       "2053  Ministry of Culture, Cinema Fund      6.6                    melodrama   \n",
       "2058                       Cinema Fund      6.6                        drama   \n",
       "2472                       Cinema Fund      7.8         action, drama, crime   \n",
       "2532                       Cinema Fund      6.2              comedy, fantasy   \n",
       "2615                       Cinema Fund      4.6  cartoon, adventure, fantasy   \n",
       "2684                       Cinema Fund      6.3                comedy, drama   \n",
       "2788                       Cinema Fund      5.1            comedy, melodrama   \n",
       "2874               Ministry of Culture      4.3                       comedy   \n",
       "3047                       Cinema Fund      6.3            comedy, melodrama   \n",
       "3565                       Cinema Fund      5.6                      fiction   \n",
       "3675                       Cinema Fund      5.2       cartoon,fantasy,family   \n",
       "3739                       Cinema Fund      4.8                       comedy   \n",
       "5673                       Cinema Fund      5.8              thriller, drama   \n",
       "5806                       Cinema Fund      5.0             cartoon,children   \n",
       "6008                       Cinema Fund      5.2     cartoon,fantasy,children   \n",
       "6323                       Cinema Fund      NaN                      no_info   \n",
       "6823                       Cinema Fund      6.2   cartoon, comedy, adventure   \n",
       "\n",
       "        box_office  wrong_budget  \n",
       "2053  1.023402e+07          True  \n",
       "2058  4.461635e+08          True  \n",
       "2472  1.965724e+08          True  \n",
       "2532  6.741897e+07          True  \n",
       "2615  1.844876e+08          True  \n",
       "2684  1.957739e+06          True  \n",
       "2788  7.293778e+07          True  \n",
       "2874  1.536293e+07          True  \n",
       "3047  7.029905e+07          True  \n",
       "3565  1.038321e+09          True  \n",
       "3675  5.510801e+07          True  \n",
       "3739  5.045195e+07          True  \n",
       "5673  2.251964e+08          True  \n",
       "5806  1.065143e+08          True  \n",
       "6008  8.336633e+07          True  \n",
       "6323  1.334699e+06          True  \n",
       "6823  1.476068e+08          True  "
      ]
     },
     "execution_count": 26,
     "metadata": {},
     "output_type": "execute_result"
    }
   ],
   "source": [
    "df.query('wrong_budget == True')"
   ]
  },
  {
   "cell_type": "markdown",
   "metadata": {},
   "source": [
    "All values in the `budget` column are null. This is an error that looks like either a gap or a technical error, meaning that the film's budget is only government support. One way or another, it is best from the analysis point of view to fill the values with the sum of the column values `refundable_support` and `nonrefundable_support`"
   ]
  },
  {
   "cell_type": "code",
   "execution_count": 27,
   "metadata": {},
   "outputs": [
    {
     "data": {
      "text/html": [
       "<div>\n",
       "<style scoped>\n",
       "    .dataframe tbody tr th:only-of-type {\n",
       "        vertical-align: middle;\n",
       "    }\n",
       "\n",
       "    .dataframe tbody tr th {\n",
       "        vertical-align: top;\n",
       "    }\n",
       "\n",
       "    .dataframe thead th {\n",
       "        text-align: right;\n",
       "    }\n",
       "</style>\n",
       "<table border=\"1\" class=\"dataframe\">\n",
       "  <thead>\n",
       "    <tr style=\"text-align: right;\">\n",
       "      <th></th>\n",
       "      <th>title</th>\n",
       "      <th>puNumber</th>\n",
       "      <th>show_start_date</th>\n",
       "      <th>type</th>\n",
       "      <th>film_studio</th>\n",
       "      <th>production_country</th>\n",
       "      <th>director</th>\n",
       "      <th>producer</th>\n",
       "      <th>age_restriction</th>\n",
       "      <th>refundable_support</th>\n",
       "      <th>nonrefundable_support</th>\n",
       "      <th>budget</th>\n",
       "      <th>financing_source</th>\n",
       "      <th>ratings</th>\n",
       "      <th>genres</th>\n",
       "      <th>box_office</th>\n",
       "      <th>wrong_budget</th>\n",
       "    </tr>\n",
       "  </thead>\n",
       "  <tbody>\n",
       "    <tr>\n",
       "      <th>2053</th>\n",
       "      <td>14+</td>\n",
       "      <td>111023614</td>\n",
       "      <td>2014-12-19</td>\n",
       "      <td>Art</td>\n",
       "      <td>LLC Film Studio \"September\"</td>\n",
       "      <td>Russia</td>\n",
       "      <td>A.Zaitsev</td>\n",
       "      <td>O. Granina, A. Zaitsev</td>\n",
       "      <td>16+</td>\n",
       "      <td>0.0</td>\n",
       "      <td>23000000.0</td>\n",
       "      <td>23000000.0</td>\n",
       "      <td>Ministry of Culture, Cinema Fund</td>\n",
       "      <td>6.6</td>\n",
       "      <td>melodrama</td>\n",
       "      <td>1.023402e+07</td>\n",
       "      <td>True</td>\n",
       "    </tr>\n",
       "    <tr>\n",
       "      <th>2058</th>\n",
       "      <td>Duxless 2</td>\n",
       "      <td>111000415</td>\n",
       "      <td>2015-01-26</td>\n",
       "      <td>Art</td>\n",
       "      <td>\"Slovo Film Studio\" LLC, \"Art Pictures Studio\"...</td>\n",
       "      <td>Russia</td>\n",
       "      <td>R. Prygunov</td>\n",
       "      <td>P. Anurov, F. Bondarchuk, D. Rudovsky</td>\n",
       "      <td>16+</td>\n",
       "      <td>0.0</td>\n",
       "      <td>75000000.0</td>\n",
       "      <td>75000000.0</td>\n",
       "      <td>Cinema Fund</td>\n",
       "      <td>6.6</td>\n",
       "      <td>drama</td>\n",
       "      <td>4.461635e+08</td>\n",
       "      <td>True</td>\n",
       "    </tr>\n",
       "    <tr>\n",
       "      <th>2472</th>\n",
       "      <td>Warrior (2015)</td>\n",
       "      <td>111017315</td>\n",
       "      <td>2015-09-28</td>\n",
       "      <td>Art</td>\n",
       "      <td>OOO \"Forpost Production\", OOO \"Art Pictures St...</td>\n",
       "      <td>Russia</td>\n",
       "      <td>A.Andrianov</td>\n",
       "      <td>LLC \"Art Pictures Studio\"</td>\n",
       "      <td>12+</td>\n",
       "      <td>10000000.0</td>\n",
       "      <td>70000000.0</td>\n",
       "      <td>80000000.0</td>\n",
       "      <td>Cinema Fund</td>\n",
       "      <td>7.8</td>\n",
       "      <td>action, drama, crime</td>\n",
       "      <td>1.965724e+08</td>\n",
       "      <td>True</td>\n",
       "    </tr>\n",
       "    <tr>\n",
       "      <th>2532</th>\n",
       "      <td>Bartender.</td>\n",
       "      <td>111009615</td>\n",
       "      <td>2015-05-26</td>\n",
       "      <td>Art</td>\n",
       "      <td>JSC \"White Media\", LLC \"Art Pictures Studio\"</td>\n",
       "      <td>Russia</td>\n",
       "      <td>D. Shturmanova</td>\n",
       "      <td>T. Weinstein</td>\n",
       "      <td>16+</td>\n",
       "      <td>20000000.0</td>\n",
       "      <td>0.0</td>\n",
       "      <td>20000000.0</td>\n",
       "      <td>Cinema Fund</td>\n",
       "      <td>6.2</td>\n",
       "      <td>comedy, fantasy</td>\n",
       "      <td>6.741897e+07</td>\n",
       "      <td>True</td>\n",
       "    </tr>\n",
       "    <tr>\n",
       "      <th>2615</th>\n",
       "      <td>Savva. Warrior heart</td>\n",
       "      <td>114001715</td>\n",
       "      <td>2015-07-21</td>\n",
       "      <td>Animated</td>\n",
       "      <td>Glucose Production LLC, Art Pictures Studio LLC</td>\n",
       "      <td>Russia</td>\n",
       "      <td>M. Fadeev</td>\n",
       "      <td>A. Chistyakov</td>\n",
       "      <td>6+</td>\n",
       "      <td>60000000.0</td>\n",
       "      <td>100000000.0</td>\n",
       "      <td>160000000.0</td>\n",
       "      <td>Cinema Fund</td>\n",
       "      <td>4.6</td>\n",
       "      <td>cartoon, adventure, fantasy</td>\n",
       "      <td>1.844876e+08</td>\n",
       "      <td>True</td>\n",
       "    </tr>\n",
       "    <tr>\n",
       "      <th>2684</th>\n",
       "      <td>rag union</td>\n",
       "      <td>111010215</td>\n",
       "      <td>2015-06-08</td>\n",
       "      <td>Art</td>\n",
       "      <td>LLC \"Film company\" KOKTEBEL \"</td>\n",
       "      <td>Russia</td>\n",
       "      <td>M. Mestetskiy</td>\n",
       "      <td>R. Borisevich, A. Kushaev</td>\n",
       "      <td>18+</td>\n",
       "      <td>0.0</td>\n",
       "      <td>59000000.0</td>\n",
       "      <td>59000000.0</td>\n",
       "      <td>Cinema Fund</td>\n",
       "      <td>6.3</td>\n",
       "      <td>comedy, drama</td>\n",
       "      <td>1.957739e+06</td>\n",
       "      <td>True</td>\n",
       "    </tr>\n",
       "    <tr>\n",
       "      <th>2788</th>\n",
       "      <td>I will get married soon</td>\n",
       "      <td>111017115</td>\n",
       "      <td>2015-09-30</td>\n",
       "      <td>Art</td>\n",
       "      <td>JSC \"White Media\", LLC \"Art Pictures Studio\"</td>\n",
       "      <td>Russia</td>\n",
       "      <td>S Chekalov</td>\n",
       "      <td>F. Bondarchuk, T. Weinstein, D. Rudovsky</td>\n",
       "      <td>16+</td>\n",
       "      <td>0.0</td>\n",
       "      <td>35000000.0</td>\n",
       "      <td>35000000.0</td>\n",
       "      <td>Cinema Fund</td>\n",
       "      <td>5.1</td>\n",
       "      <td>comedy, melodrama</td>\n",
       "      <td>7.293778e+07</td>\n",
       "      <td>True</td>\n",
       "    </tr>\n",
       "    <tr>\n",
       "      <th>2874</th>\n",
       "      <td>I remember - I don't remember!</td>\n",
       "      <td>111004916</td>\n",
       "      <td>2016-03-01</td>\n",
       "      <td>Art</td>\n",
       "      <td>LLC \"KinoFirma\"</td>\n",
       "      <td>Russia</td>\n",
       "      <td>V. Rovensky</td>\n",
       "      <td>LLC \"KinoFirma\"</td>\n",
       "      <td>12+</td>\n",
       "      <td>0.0</td>\n",
       "      <td>6000000.0</td>\n",
       "      <td>6000000.0</td>\n",
       "      <td>Ministry of Culture</td>\n",
       "      <td>4.3</td>\n",
       "      <td>comedy</td>\n",
       "      <td>1.536293e+07</td>\n",
       "      <td>True</td>\n",
       "    </tr>\n",
       "    <tr>\n",
       "      <th>3047</th>\n",
       "      <td>Love with limits</td>\n",
       "      <td>111008216</td>\n",
       "      <td>2016-04-29</td>\n",
       "      <td>Art</td>\n",
       "      <td>JSC \"White Media\", LLC \"Art Pictures Studio\"</td>\n",
       "      <td>Russia</td>\n",
       "      <td>D. Tyurin</td>\n",
       "      <td>F. Bondarchuk, T. Weinstein, D. Rudovsky</td>\n",
       "      <td>16+</td>\n",
       "      <td>19000000.0</td>\n",
       "      <td>51000000.0</td>\n",
       "      <td>70000000.0</td>\n",
       "      <td>Cinema Fund</td>\n",
       "      <td>6.3</td>\n",
       "      <td>comedy, melodrama</td>\n",
       "      <td>7.029905e+07</td>\n",
       "      <td>True</td>\n",
       "    </tr>\n",
       "    <tr>\n",
       "      <th>3565</th>\n",
       "      <td>Attraction (2016)</td>\n",
       "      <td>111018116</td>\n",
       "      <td>2016-12-16</td>\n",
       "      <td>Art</td>\n",
       "      <td>Hydrogen 2011 LLC, Art Pictures Studio LLC</td>\n",
       "      <td>Russia</td>\n",
       "      <td>F. Bondarchuk</td>\n",
       "      <td>LLC \"Art Pictures Studio\"</td>\n",
       "      <td>12+</td>\n",
       "      <td>0.0</td>\n",
       "      <td>250000000.0</td>\n",
       "      <td>250000000.0</td>\n",
       "      <td>Cinema Fund</td>\n",
       "      <td>5.6</td>\n",
       "      <td>fiction</td>\n",
       "      <td>1.038321e+09</td>\n",
       "      <td>True</td>\n",
       "    </tr>\n",
       "    <tr>\n",
       "      <th>3675</th>\n",
       "      <td>Miracle Yudo</td>\n",
       "      <td>114001817</td>\n",
       "      <td>2017-06-27</td>\n",
       "      <td>Animated</td>\n",
       "      <td>LLC \"KinoFirma\"</td>\n",
       "      <td>Russia</td>\n",
       "      <td>A. Lukichev</td>\n",
       "      <td>LLC \"KinoFirma\"</td>\n",
       "      <td>6+</td>\n",
       "      <td>20000000.0</td>\n",
       "      <td>20000000.0</td>\n",
       "      <td>40000000.0</td>\n",
       "      <td>Cinema Fund</td>\n",
       "      <td>5.2</td>\n",
       "      <td>cartoon,fantasy,family</td>\n",
       "      <td>5.510801e+07</td>\n",
       "      <td>True</td>\n",
       "    </tr>\n",
       "    <tr>\n",
       "      <th>3739</th>\n",
       "      <td>myths</td>\n",
       "      <td>111004317</td>\n",
       "      <td>2017-06-07</td>\n",
       "      <td>Art</td>\n",
       "      <td>LLC \"HYPFILM\", LLC \"Art Pictures Studio\"</td>\n",
       "      <td>Russia</td>\n",
       "      <td>A.Molochnikov</td>\n",
       "      <td>F. Bondarchuk, D. Rudovsky, I. Stewart, M. Osm...</td>\n",
       "      <td>16+</td>\n",
       "      <td>25000000.0</td>\n",
       "      <td>20000000.0</td>\n",
       "      <td>45000000.0</td>\n",
       "      <td>Cinema Fund</td>\n",
       "      <td>4.8</td>\n",
       "      <td>comedy</td>\n",
       "      <td>5.045195e+07</td>\n",
       "      <td>True</td>\n",
       "    </tr>\n",
       "    <tr>\n",
       "      <th>5673</th>\n",
       "      <td>Selfie</td>\n",
       "      <td>111012117</td>\n",
       "      <td>2018-02-01</td>\n",
       "      <td>Art</td>\n",
       "      <td>\"Slovo Film Studio\" LLC, \"Art Pictures Studio\"...</td>\n",
       "      <td>Russia</td>\n",
       "      <td>N.Khomeriki</td>\n",
       "      <td>P. Anurov, F. Bondarchuk, D. Rudovsky</td>\n",
       "      <td>16+</td>\n",
       "      <td>20000000.0</td>\n",
       "      <td>40000000.0</td>\n",
       "      <td>60000000.0</td>\n",
       "      <td>Cinema Fund</td>\n",
       "      <td>5.8</td>\n",
       "      <td>thriller, drama</td>\n",
       "      <td>2.251964e+08</td>\n",
       "      <td>True</td>\n",
       "    </tr>\n",
       "    <tr>\n",
       "      <th>5806</th>\n",
       "      <td>two tails</td>\n",
       "      <td>114001018</td>\n",
       "      <td>2018-05-31</td>\n",
       "      <td>Animated</td>\n",
       "      <td>OOO \"LICENSED BRANDS\"</td>\n",
       "      <td>Russia</td>\n",
       "      <td>V. Rovensky, N. Lopato, V. Azeev</td>\n",
       "      <td>OOO \"LICENSED BRANDS\"</td>\n",
       "      <td>6+</td>\n",
       "      <td>10000000.0</td>\n",
       "      <td>60000000.0</td>\n",
       "      <td>70000000.0</td>\n",
       "      <td>Cinema Fund</td>\n",
       "      <td>5.0</td>\n",
       "      <td>cartoon,children</td>\n",
       "      <td>1.065143e+08</td>\n",
       "      <td>True</td>\n",
       "    </tr>\n",
       "    <tr>\n",
       "      <th>6008</th>\n",
       "      <td>princess and dragon</td>\n",
       "      <td>114003018</td>\n",
       "      <td>2018-08-23</td>\n",
       "      <td>Animated</td>\n",
       "      <td>OOO \"LICENSED BRANDS\"</td>\n",
       "      <td>Russia</td>\n",
       "      <td>M.Nefedova</td>\n",
       "      <td>OOO \"LICENSED BRANDS\"</td>\n",
       "      <td>6+</td>\n",
       "      <td>40000000.0</td>\n",
       "      <td>40000000.0</td>\n",
       "      <td>80000000.0</td>\n",
       "      <td>Cinema Fund</td>\n",
       "      <td>5.2</td>\n",
       "      <td>cartoon,fantasy,children</td>\n",
       "      <td>8.336633e+07</td>\n",
       "      <td>True</td>\n",
       "    </tr>\n",
       "    <tr>\n",
       "      <th>6323</th>\n",
       "      <td>Baba Yaga</td>\n",
       "      <td>114006518</td>\n",
       "      <td>2018-11-08</td>\n",
       "      <td>Animated</td>\n",
       "      <td>LLC \"Art Pictures Studio\"</td>\n",
       "      <td>Russia</td>\n",
       "      <td>V.Sakov</td>\n",
       "      <td>LLC \"Art Pictures Studio\", LLC \"CREATIVE ANIMA...</td>\n",
       "      <td>6+</td>\n",
       "      <td>0.0</td>\n",
       "      <td>138969465.0</td>\n",
       "      <td>138969465.0</td>\n",
       "      <td>Cinema Fund</td>\n",
       "      <td>NaN</td>\n",
       "      <td>no_info</td>\n",
       "      <td>1.334699e+06</td>\n",
       "      <td>True</td>\n",
       "    </tr>\n",
       "    <tr>\n",
       "      <th>6823</th>\n",
       "      <td>big Adventure</td>\n",
       "      <td>114002419</td>\n",
       "      <td>2019-04-20</td>\n",
       "      <td>Animated</td>\n",
       "      <td>OOO \"LICENSED BRANDS\"</td>\n",
       "      <td>Russia</td>\n",
       "      <td>N. Lopato, V. Rovensky</td>\n",
       "      <td>OOO \"LICENSED BRANDS\"</td>\n",
       "      <td>6+</td>\n",
       "      <td>60000000.0</td>\n",
       "      <td>120000000.0</td>\n",
       "      <td>180000000.0</td>\n",
       "      <td>Cinema Fund</td>\n",
       "      <td>6.2</td>\n",
       "      <td>cartoon, comedy, adventure</td>\n",
       "      <td>1.476068e+08</td>\n",
       "      <td>True</td>\n",
       "    </tr>\n",
       "  </tbody>\n",
       "</table>\n",
       "</div>"
      ],
      "text/plain": [
       "                               title   puNumber show_start_date      type  \\\n",
       "2053                             14+  111023614      2014-12-19       Art   \n",
       "2058                       Duxless 2  111000415      2015-01-26       Art   \n",
       "2472                  Warrior (2015)  111017315      2015-09-28       Art   \n",
       "2532                      Bartender.  111009615      2015-05-26       Art   \n",
       "2615            Savva. Warrior heart  114001715      2015-07-21  Animated   \n",
       "2684                       rag union  111010215      2015-06-08       Art   \n",
       "2788         I will get married soon  111017115      2015-09-30       Art   \n",
       "2874  I remember - I don't remember!  111004916      2016-03-01       Art   \n",
       "3047                Love with limits  111008216      2016-04-29       Art   \n",
       "3565               Attraction (2016)  111018116      2016-12-16       Art   \n",
       "3675                    Miracle Yudo  114001817      2017-06-27  Animated   \n",
       "3739                           myths  111004317      2017-06-07       Art   \n",
       "5673                          Selfie  111012117      2018-02-01       Art   \n",
       "5806                       two tails  114001018      2018-05-31  Animated   \n",
       "6008             princess and dragon  114003018      2018-08-23  Animated   \n",
       "6323                       Baba Yaga  114006518      2018-11-08  Animated   \n",
       "6823                   big Adventure  114002419      2019-04-20  Animated   \n",
       "\n",
       "                                            film_studio production_country  \\\n",
       "2053                        LLC Film Studio \"September\"             Russia   \n",
       "2058  \"Slovo Film Studio\" LLC, \"Art Pictures Studio\"...             Russia   \n",
       "2472  OOO \"Forpost Production\", OOO \"Art Pictures St...             Russia   \n",
       "2532       JSC \"White Media\", LLC \"Art Pictures Studio\"             Russia   \n",
       "2615    Glucose Production LLC, Art Pictures Studio LLC             Russia   \n",
       "2684                      LLC \"Film company\" KOKTEBEL \"             Russia   \n",
       "2788       JSC \"White Media\", LLC \"Art Pictures Studio\"             Russia   \n",
       "2874                                    LLC \"KinoFirma\"             Russia   \n",
       "3047       JSC \"White Media\", LLC \"Art Pictures Studio\"             Russia   \n",
       "3565         Hydrogen 2011 LLC, Art Pictures Studio LLC             Russia   \n",
       "3675                                    LLC \"KinoFirma\"             Russia   \n",
       "3739           LLC \"HYPFILM\", LLC \"Art Pictures Studio\"             Russia   \n",
       "5673  \"Slovo Film Studio\" LLC, \"Art Pictures Studio\"...             Russia   \n",
       "5806                              OOO \"LICENSED BRANDS\"             Russia   \n",
       "6008                              OOO \"LICENSED BRANDS\"             Russia   \n",
       "6323                          LLC \"Art Pictures Studio\"             Russia   \n",
       "6823                              OOO \"LICENSED BRANDS\"             Russia   \n",
       "\n",
       "                              director  \\\n",
       "2053                         A.Zaitsev   \n",
       "2058                       R. Prygunov   \n",
       "2472                       A.Andrianov   \n",
       "2532                    D. Shturmanova   \n",
       "2615                         M. Fadeev   \n",
       "2684                     M. Mestetskiy   \n",
       "2788                        S Chekalov   \n",
       "2874                       V. Rovensky   \n",
       "3047                         D. Tyurin   \n",
       "3565                     F. Bondarchuk   \n",
       "3675                       A. Lukichev   \n",
       "3739                     A.Molochnikov   \n",
       "5673                       N.Khomeriki   \n",
       "5806  V. Rovensky, N. Lopato, V. Azeev   \n",
       "6008                        M.Nefedova   \n",
       "6323                           V.Sakov   \n",
       "6823            N. Lopato, V. Rovensky   \n",
       "\n",
       "                                               producer age_restriction  \\\n",
       "2053                             O. Granina, A. Zaitsev             16+   \n",
       "2058              P. Anurov, F. Bondarchuk, D. Rudovsky             16+   \n",
       "2472                          LLC \"Art Pictures Studio\"             12+   \n",
       "2532                                       T. Weinstein             16+   \n",
       "2615                                      A. Chistyakov              6+   \n",
       "2684                          R. Borisevich, A. Kushaev             18+   \n",
       "2788           F. Bondarchuk, T. Weinstein, D. Rudovsky             16+   \n",
       "2874                                    LLC \"KinoFirma\"             12+   \n",
       "3047           F. Bondarchuk, T. Weinstein, D. Rudovsky             16+   \n",
       "3565                          LLC \"Art Pictures Studio\"             12+   \n",
       "3675                                    LLC \"KinoFirma\"              6+   \n",
       "3739  F. Bondarchuk, D. Rudovsky, I. Stewart, M. Osm...             16+   \n",
       "5673              P. Anurov, F. Bondarchuk, D. Rudovsky             16+   \n",
       "5806                              OOO \"LICENSED BRANDS\"              6+   \n",
       "6008                              OOO \"LICENSED BRANDS\"              6+   \n",
       "6323  LLC \"Art Pictures Studio\", LLC \"CREATIVE ANIMA...              6+   \n",
       "6823                              OOO \"LICENSED BRANDS\"              6+   \n",
       "\n",
       "      refundable_support  nonrefundable_support       budget  \\\n",
       "2053                 0.0             23000000.0   23000000.0   \n",
       "2058                 0.0             75000000.0   75000000.0   \n",
       "2472          10000000.0             70000000.0   80000000.0   \n",
       "2532          20000000.0                    0.0   20000000.0   \n",
       "2615          60000000.0            100000000.0  160000000.0   \n",
       "2684                 0.0             59000000.0   59000000.0   \n",
       "2788                 0.0             35000000.0   35000000.0   \n",
       "2874                 0.0              6000000.0    6000000.0   \n",
       "3047          19000000.0             51000000.0   70000000.0   \n",
       "3565                 0.0            250000000.0  250000000.0   \n",
       "3675          20000000.0             20000000.0   40000000.0   \n",
       "3739          25000000.0             20000000.0   45000000.0   \n",
       "5673          20000000.0             40000000.0   60000000.0   \n",
       "5806          10000000.0             60000000.0   70000000.0   \n",
       "6008          40000000.0             40000000.0   80000000.0   \n",
       "6323                 0.0            138969465.0  138969465.0   \n",
       "6823          60000000.0            120000000.0  180000000.0   \n",
       "\n",
       "                      financing_source  ratings                       genres  \\\n",
       "2053  Ministry of Culture, Cinema Fund      6.6                    melodrama   \n",
       "2058                       Cinema Fund      6.6                        drama   \n",
       "2472                       Cinema Fund      7.8         action, drama, crime   \n",
       "2532                       Cinema Fund      6.2              comedy, fantasy   \n",
       "2615                       Cinema Fund      4.6  cartoon, adventure, fantasy   \n",
       "2684                       Cinema Fund      6.3                comedy, drama   \n",
       "2788                       Cinema Fund      5.1            comedy, melodrama   \n",
       "2874               Ministry of Culture      4.3                       comedy   \n",
       "3047                       Cinema Fund      6.3            comedy, melodrama   \n",
       "3565                       Cinema Fund      5.6                      fiction   \n",
       "3675                       Cinema Fund      5.2       cartoon,fantasy,family   \n",
       "3739                       Cinema Fund      4.8                       comedy   \n",
       "5673                       Cinema Fund      5.8              thriller, drama   \n",
       "5806                       Cinema Fund      5.0             cartoon,children   \n",
       "6008                       Cinema Fund      5.2     cartoon,fantasy,children   \n",
       "6323                       Cinema Fund      NaN                      no_info   \n",
       "6823                       Cinema Fund      6.2   cartoon, comedy, adventure   \n",
       "\n",
       "        box_office  wrong_budget  \n",
       "2053  1.023402e+07          True  \n",
       "2058  4.461635e+08          True  \n",
       "2472  1.965724e+08          True  \n",
       "2532  6.741897e+07          True  \n",
       "2615  1.844876e+08          True  \n",
       "2684  1.957739e+06          True  \n",
       "2788  7.293778e+07          True  \n",
       "2874  1.536293e+07          True  \n",
       "3047  7.029905e+07          True  \n",
       "3565  1.038321e+09          True  \n",
       "3675  5.510801e+07          True  \n",
       "3739  5.045195e+07          True  \n",
       "5673  2.251964e+08          True  \n",
       "5806  1.065143e+08          True  \n",
       "6008  8.336633e+07          True  \n",
       "6323  1.334699e+06          True  \n",
       "6823  1.476068e+08          True  "
      ]
     },
     "execution_count": 27,
     "metadata": {},
     "output_type": "execute_result"
    }
   ],
   "source": [
    "df['budget'] = df['budget'].mask(df['budget'] == 0, df['refundable_support'] + df['nonrefundable_support'])\n",
    "df.query('wrong_budget == True')"
   ]
  },
  {
   "cell_type": "markdown",
   "metadata": {},
   "source": [
    "Now let's look at the rest of the quantitative values ​​(and remove the `wrong_budget` column since we don't need it anymore)"
   ]
  },
  {
   "cell_type": "code",
   "execution_count": 28,
   "metadata": {},
   "outputs": [
    {
     "data": {
      "text/html": [
       "<div>\n",
       "<style scoped>\n",
       "    .dataframe tbody tr th:only-of-type {\n",
       "        vertical-align: middle;\n",
       "    }\n",
       "\n",
       "    .dataframe tbody tr th {\n",
       "        vertical-align: top;\n",
       "    }\n",
       "\n",
       "    .dataframe thead th {\n",
       "        text-align: right;\n",
       "    }\n",
       "</style>\n",
       "<table border=\"1\" class=\"dataframe\">\n",
       "  <thead>\n",
       "    <tr style=\"text-align: right;\">\n",
       "      <th></th>\n",
       "      <th>count</th>\n",
       "      <th>mean</th>\n",
       "      <th>std</th>\n",
       "      <th>min</th>\n",
       "      <th>25%</th>\n",
       "      <th>50%</th>\n",
       "      <th>75%</th>\n",
       "      <th>max</th>\n",
       "    </tr>\n",
       "  </thead>\n",
       "  <tbody>\n",
       "    <tr>\n",
       "      <th>refundable_support</th>\n",
       "      <td>332.0</td>\n",
       "      <td>1.186446e+07</td>\n",
       "      <td>2.491656e+07</td>\n",
       "      <td>0.0</td>\n",
       "      <td>0.0</td>\n",
       "      <td>0.00</td>\n",
       "      <td>1.500000e+07</td>\n",
       "      <td>1.800000e+08</td>\n",
       "    </tr>\n",
       "    <tr>\n",
       "      <th>nonrefundable_support</th>\n",
       "      <td>332.0</td>\n",
       "      <td>4.898099e+07</td>\n",
       "      <td>5.998012e+07</td>\n",
       "      <td>0.0</td>\n",
       "      <td>25000000.0</td>\n",
       "      <td>30000000.00</td>\n",
       "      <td>4.037500e+07</td>\n",
       "      <td>4.000000e+08</td>\n",
       "    </tr>\n",
       "    <tr>\n",
       "      <th>budget</th>\n",
       "      <td>332.0</td>\n",
       "      <td>1.314224e+08</td>\n",
       "      <td>1.871482e+08</td>\n",
       "      <td>6000000.0</td>\n",
       "      <td>45524799.5</td>\n",
       "      <td>71196901.50</td>\n",
       "      <td>1.500000e+08</td>\n",
       "      <td>2.305074e+09</td>\n",
       "    </tr>\n",
       "    <tr>\n",
       "      <th>ratings</th>\n",
       "      <td>6488.0</td>\n",
       "      <td>6.479023e+00</td>\n",
       "      <td>1.101740e+00</td>\n",
       "      <td>1.0</td>\n",
       "      <td>5.9</td>\n",
       "      <td>6.60</td>\n",
       "      <td>7.200000e+00</td>\n",
       "      <td>9.200000e+00</td>\n",
       "    </tr>\n",
       "    <tr>\n",
       "      <th>box_office</th>\n",
       "      <td>3158.0</td>\n",
       "      <td>7.647870e+07</td>\n",
       "      <td>2.403531e+08</td>\n",
       "      <td>0.0</td>\n",
       "      <td>86239.0</td>\n",
       "      <td>2327987.55</td>\n",
       "      <td>2.397967e+07</td>\n",
       "      <td>3.073569e+09</td>\n",
       "    </tr>\n",
       "  </tbody>\n",
       "</table>\n",
       "</div>"
      ],
      "text/plain": [
       "                        count          mean           std        min  \\\n",
       "refundable_support      332.0  1.186446e+07  2.491656e+07        0.0   \n",
       "nonrefundable_support   332.0  4.898099e+07  5.998012e+07        0.0   \n",
       "budget                  332.0  1.314224e+08  1.871482e+08  6000000.0   \n",
       "ratings                6488.0  6.479023e+00  1.101740e+00        1.0   \n",
       "box_office             3158.0  7.647870e+07  2.403531e+08        0.0   \n",
       "\n",
       "                              25%          50%           75%           max  \n",
       "refundable_support            0.0         0.00  1.500000e+07  1.800000e+08  \n",
       "nonrefundable_support  25000000.0  30000000.00  4.037500e+07  4.000000e+08  \n",
       "budget                 45524799.5  71196901.50  1.500000e+08  2.305074e+09  \n",
       "ratings                       5.9         6.60  7.200000e+00  9.200000e+00  \n",
       "box_office                86239.0   2327987.55  2.397967e+07  3.073569e+09  "
      ]
     },
     "execution_count": 28,
     "metadata": {},
     "output_type": "execute_result"
    }
   ],
   "source": [
    "df = df.drop(columns = ['wrong_budget'])\n",
    "df.describe().T"
   ]
  },
  {
   "cell_type": "markdown",
   "metadata": {},
   "source": [
    "We don’t need a scientific way for numbers here, let’s change them"
   ]
  },
  {
   "cell_type": "code",
   "execution_count": 29,
   "metadata": {},
   "outputs": [
    {
     "data": {
      "text/html": [
       "<div>\n",
       "<style scoped>\n",
       "    .dataframe tbody tr th:only-of-type {\n",
       "        vertical-align: middle;\n",
       "    }\n",
       "\n",
       "    .dataframe tbody tr th {\n",
       "        vertical-align: top;\n",
       "    }\n",
       "\n",
       "    .dataframe thead th {\n",
       "        text-align: right;\n",
       "    }\n",
       "</style>\n",
       "<table border=\"1\" class=\"dataframe\">\n",
       "  <thead>\n",
       "    <tr style=\"text-align: right;\">\n",
       "      <th></th>\n",
       "      <th>count</th>\n",
       "      <th>mean</th>\n",
       "      <th>std</th>\n",
       "      <th>min</th>\n",
       "      <th>25%</th>\n",
       "      <th>50%</th>\n",
       "      <th>75%</th>\n",
       "      <th>max</th>\n",
       "    </tr>\n",
       "  </thead>\n",
       "  <tbody>\n",
       "    <tr>\n",
       "      <th>refundable_support</th>\n",
       "      <td>332.0</td>\n",
       "      <td>11,864,457.8</td>\n",
       "      <td>24,916,555.3</td>\n",
       "      <td>0.0</td>\n",
       "      <td>0.0</td>\n",
       "      <td>0.0</td>\n",
       "      <td>15,000,000.0</td>\n",
       "      <td>180,000,000.0</td>\n",
       "    </tr>\n",
       "    <tr>\n",
       "      <th>nonrefundable_support</th>\n",
       "      <td>332.0</td>\n",
       "      <td>48,980,988.9</td>\n",
       "      <td>59,980,117.9</td>\n",
       "      <td>0.0</td>\n",
       "      <td>25,000,000.0</td>\n",
       "      <td>30,000,000.0</td>\n",
       "      <td>40,375,000.0</td>\n",
       "      <td>400,000,000.0</td>\n",
       "    </tr>\n",
       "    <tr>\n",
       "      <th>budget</th>\n",
       "      <td>332.0</td>\n",
       "      <td>131,422,395.8</td>\n",
       "      <td>187,148,242.7</td>\n",
       "      <td>6,000,000.0</td>\n",
       "      <td>45,524,799.5</td>\n",
       "      <td>71,196,901.5</td>\n",
       "      <td>150,000,000.0</td>\n",
       "      <td>2,305,074,303.0</td>\n",
       "    </tr>\n",
       "    <tr>\n",
       "      <th>ratings</th>\n",
       "      <td>6,488.0</td>\n",
       "      <td>6.5</td>\n",
       "      <td>1.1</td>\n",
       "      <td>1.0</td>\n",
       "      <td>5.9</td>\n",
       "      <td>6.6</td>\n",
       "      <td>7.2</td>\n",
       "      <td>9.2</td>\n",
       "    </tr>\n",
       "    <tr>\n",
       "      <th>box_office</th>\n",
       "      <td>3,158.0</td>\n",
       "      <td>76,478,696.2</td>\n",
       "      <td>240,353,122.8</td>\n",
       "      <td>0.0</td>\n",
       "      <td>86,239.0</td>\n",
       "      <td>2,327,987.5</td>\n",
       "      <td>23,979,671.0</td>\n",
       "      <td>3,073,568,690.8</td>\n",
       "    </tr>\n",
       "  </tbody>\n",
       "</table>\n",
       "</div>"
      ],
      "text/plain": [
       "                        count          mean           std         min  \\\n",
       "refundable_support      332.0  11,864,457.8  24,916,555.3         0.0   \n",
       "nonrefundable_support   332.0  48,980,988.9  59,980,117.9         0.0   \n",
       "budget                  332.0 131,422,395.8 187,148,242.7 6,000,000.0   \n",
       "ratings               6,488.0           6.5           1.1         1.0   \n",
       "box_office            3,158.0  76,478,696.2 240,353,122.8         0.0   \n",
       "\n",
       "                               25%          50%           75%             max  \n",
       "refundable_support             0.0          0.0  15,000,000.0   180,000,000.0  \n",
       "nonrefundable_support 25,000,000.0 30,000,000.0  40,375,000.0   400,000,000.0  \n",
       "budget                45,524,799.5 71,196,901.5 150,000,000.0 2,305,074,303.0  \n",
       "ratings                        5.9          6.6           7.2             9.2  \n",
       "box_office                86,239.0  2,327,987.5  23,979,671.0 3,073,568,690.8  "
      ]
     },
     "execution_count": 29,
     "metadata": {},
     "output_type": "execute_result"
    }
   ],
   "source": [
    "pd.options.display.float_format = '{:,.1f}'.format\n",
    "df.describe().T"
   ]
  },
  {
   "cell_type": "markdown",
   "metadata": {},
   "source": [
    "Much better. We will take the state support columns as is, the column with ratings shows normal values. But the data in `box_office` behaves strangely.\n",
    "\n",
    "- Zero fees are indicated, this is strange, it looks like gaps\n",
    "- The mean differs from the median by more than 30 times\n",
    "\n",
    "Let's look at zero values"
   ]
  },
  {
   "cell_type": "code",
   "execution_count": 30,
   "metadata": {},
   "outputs": [
    {
     "data": {
      "text/html": [
       "<div>\n",
       "<style scoped>\n",
       "    .dataframe tbody tr th:only-of-type {\n",
       "        vertical-align: middle;\n",
       "    }\n",
       "\n",
       "    .dataframe tbody tr th {\n",
       "        vertical-align: top;\n",
       "    }\n",
       "\n",
       "    .dataframe thead th {\n",
       "        text-align: right;\n",
       "    }\n",
       "</style>\n",
       "<table border=\"1\" class=\"dataframe\">\n",
       "  <thead>\n",
       "    <tr style=\"text-align: right;\">\n",
       "      <th></th>\n",
       "      <th>title</th>\n",
       "      <th>puNumber</th>\n",
       "      <th>show_start_date</th>\n",
       "      <th>type</th>\n",
       "      <th>film_studio</th>\n",
       "      <th>production_country</th>\n",
       "      <th>director</th>\n",
       "      <th>producer</th>\n",
       "      <th>age_restriction</th>\n",
       "      <th>refundable_support</th>\n",
       "      <th>nonrefundable_support</th>\n",
       "      <th>budget</th>\n",
       "      <th>financing_source</th>\n",
       "      <th>ratings</th>\n",
       "      <th>genres</th>\n",
       "      <th>box_office</th>\n",
       "    </tr>\n",
       "  </thead>\n",
       "  <tbody>\n",
       "    <tr>\n",
       "      <th>66</th>\n",
       "      <td>Anna Pavlova</td>\n",
       "      <td>111011013</td>\n",
       "      <td>2013-12-19</td>\n",
       "      <td>Art</td>\n",
       "      <td>co-production Film studio \"Mosfilm\", \"Cosmos-f...</td>\n",
       "      <td>USSR, France, England, Cuba, East Germany</td>\n",
       "      <td>Emil Loteanu</td>\n",
       "      <td>no_info</td>\n",
       "      <td>6+</td>\n",
       "      <td>NaN</td>\n",
       "      <td>NaN</td>\n",
       "      <td>NaN</td>\n",
       "      <td>NaN</td>\n",
       "      <td>7.7</td>\n",
       "      <td>drama, biography, music</td>\n",
       "      <td>0.0</td>\n",
       "    </tr>\n",
       "    <tr>\n",
       "      <th>237</th>\n",
       "      <td>Wounded animals</td>\n",
       "      <td>111007613</td>\n",
       "      <td>2013-10-18</td>\n",
       "      <td>Art</td>\n",
       "      <td>Film studio \"Mosfilm\"</td>\n",
       "      <td>USSR</td>\n",
       "      <td>N. Gubenko</td>\n",
       "      <td>no_info</td>\n",
       "      <td>12+</td>\n",
       "      <td>NaN</td>\n",
       "      <td>NaN</td>\n",
       "      <td>NaN</td>\n",
       "      <td>NaN</td>\n",
       "      <td>8.2</td>\n",
       "      <td>drama</td>\n",
       "      <td>0.0</td>\n",
       "    </tr>\n",
       "    <tr>\n",
       "      <th>596</th>\n",
       "      <td>The smell of heather</td>\n",
       "      <td>111003012</td>\n",
       "      <td>2012-05-23</td>\n",
       "      <td>Art</td>\n",
       "      <td>OOO \"Studio RIM\"</td>\n",
       "      <td>Russia</td>\n",
       "      <td>A. Magomedov</td>\n",
       "      <td>M.Balashova, E.Mironov</td>\n",
       "      <td>16+</td>\n",
       "      <td>NaN</td>\n",
       "      <td>NaN</td>\n",
       "      <td>NaN</td>\n",
       "      <td>NaN</td>\n",
       "      <td>6.3</td>\n",
       "      <td>comedy</td>\n",
       "      <td>0.0</td>\n",
       "    </tr>\n",
       "    <tr>\n",
       "      <th>914</th>\n",
       "      <td>In the Fog /According to the story of the same...</td>\n",
       "      <td>121027712</td>\n",
       "      <td>2012-11-07</td>\n",
       "      <td>Art</td>\n",
       "      <td>Ma Ya De Fiction, Lemming Film, Belarusfilm, ...</td>\n",
       "      <td>Germany - Netherlands - Belarus - Russia - Latvia</td>\n",
       "      <td>Sergey Loznitsa</td>\n",
       "      <td>Heino Deckert</td>\n",
       "      <td>12+</td>\n",
       "      <td>NaN</td>\n",
       "      <td>NaN</td>\n",
       "      <td>NaN</td>\n",
       "      <td>NaN</td>\n",
       "      <td>6.5</td>\n",
       "      <td>drama, military, history</td>\n",
       "      <td>0.0</td>\n",
       "    </tr>\n",
       "    <tr>\n",
       "      <th>932</th>\n",
       "      <td>Letter to Momo</td>\n",
       "      <td>124002912</td>\n",
       "      <td>2012-10-25</td>\n",
       "      <td>Animated</td>\n",
       "      <td>Kadokawa Pictures, Productions I G, Tokyo Broa...</td>\n",
       "      <td>Japan</td>\n",
       "      <td>Okiura Hiroyuki</td>\n",
       "      <td>Hiroyuki Ikeda, Mitsuhisa Ishikawa, Kazuya Hamana</td>\n",
       "      <td>12+</td>\n",
       "      <td>NaN</td>\n",
       "      <td>NaN</td>\n",
       "      <td>NaN</td>\n",
       "      <td>NaN</td>\n",
       "      <td>7.4</td>\n",
       "      <td>anime,cartoon,drama</td>\n",
       "      <td>0.0</td>\n",
       "    </tr>\n",
       "    <tr>\n",
       "      <th>933</th>\n",
       "      <td>Summer Wars</td>\n",
       "      <td>124002812</td>\n",
       "      <td>2012-10-25</td>\n",
       "      <td>Animated</td>\n",
       "      <td>Medhouse, Nippon Television Network Corporatio...</td>\n",
       "      <td>Japan</td>\n",
       "      <td>Mamoru Hosoda</td>\n",
       "      <td>Takafumi Watanabe, Takuya Ito, Seiji Okuda, Y...</td>\n",
       "      <td>12+</td>\n",
       "      <td>NaN</td>\n",
       "      <td>NaN</td>\n",
       "      <td>NaN</td>\n",
       "      <td>NaN</td>\n",
       "      <td>7.7</td>\n",
       "      <td>anime,cartoon,fantasy</td>\n",
       "      <td>0.0</td>\n",
       "    </tr>\n",
       "    <tr>\n",
       "      <th>976</th>\n",
       "      <td>Garegin Nzhdeh</td>\n",
       "      <td>131000213</td>\n",
       "      <td>2013-04-23</td>\n",
       "      <td>Art</td>\n",
       "      <td>AJK Productions, Pan Armenian Media Group</td>\n",
       "      <td>Armenia</td>\n",
       "      <td>Hrach Keshishyan</td>\n",
       "      <td>Hrach Keshishyan</td>\n",
       "      <td>12+</td>\n",
       "      <td>NaN</td>\n",
       "      <td>NaN</td>\n",
       "      <td>NaN</td>\n",
       "      <td>NaN</td>\n",
       "      <td>7.9</td>\n",
       "      <td>biography</td>\n",
       "      <td>0.0</td>\n",
       "    </tr>\n",
       "    <tr>\n",
       "      <th>1126</th>\n",
       "      <td>Marathon</td>\n",
       "      <td>111006712</td>\n",
       "      <td>2012-12-18</td>\n",
       "      <td>Art</td>\n",
       "      <td>LLC \"Cinema Art Studio\"</td>\n",
       "      <td>Russia</td>\n",
       "      <td>K. Hovhannisyan</td>\n",
       "      <td>K. Hovhannisyan</td>\n",
       "      <td>16+</td>\n",
       "      <td>NaN</td>\n",
       "      <td>NaN</td>\n",
       "      <td>NaN</td>\n",
       "      <td>NaN</td>\n",
       "      <td>5.5</td>\n",
       "      <td>comedy, melodrama</td>\n",
       "      <td>0.0</td>\n",
       "    </tr>\n",
       "    <tr>\n",
       "      <th>1387</th>\n",
       "      <td>Exam for two /According to the novel by Jean H...</td>\n",
       "      <td>121014613</td>\n",
       "      <td>2013-06-11</td>\n",
       "      <td>Art</td>\n",
       "      <td>Depf of the Field</td>\n",
       "      <td>USA</td>\n",
       "      <td>Paul Weitz</td>\n",
       "      <td>Paul Weitz, Kerry Kohansky, Andrew Miano</td>\n",
       "      <td>12+</td>\n",
       "      <td>NaN</td>\n",
       "      <td>NaN</td>\n",
       "      <td>NaN</td>\n",
       "      <td>NaN</td>\n",
       "      <td>5.8</td>\n",
       "      <td>melodrama, comedy, drama</td>\n",
       "      <td>0.0</td>\n",
       "    </tr>\n",
       "    <tr>\n",
       "      <th>1559</th>\n",
       "      <td>Mr. Morgan's last love /Based on the novel \"Te...</td>\n",
       "      <td>121002614</td>\n",
       "      <td>2014-02-11</td>\n",
       "      <td>Art</td>\n",
       "      <td>Kaminsky Shtim Film, Bavaria Pictures, Senator...</td>\n",
       "      <td>Germany - Belgium - USA - France</td>\n",
       "      <td>Sandra Nettelbeck</td>\n",
       "      <td>Frank Kaminsky, Astrid Kamke, Philipp Kreuzer,...</td>\n",
       "      <td>16+</td>\n",
       "      <td>NaN</td>\n",
       "      <td>NaN</td>\n",
       "      <td>NaN</td>\n",
       "      <td>NaN</td>\n",
       "      <td>6.9</td>\n",
       "      <td>drama</td>\n",
       "      <td>0.0</td>\n",
       "    </tr>\n",
       "    <tr>\n",
       "      <th>1772</th>\n",
       "      <td>Funny boys ;)</td>\n",
       "      <td>111002414</td>\n",
       "      <td>2014-02-27</td>\n",
       "      <td>Art</td>\n",
       "      <td>CJSC \"PRODUCTION COMPANY OF VALERY TODOROVSKOY\"</td>\n",
       "      <td>Russia</td>\n",
       "      <td>A.Bobrov</td>\n",
       "      <td>V.Todorovsky</td>\n",
       "      <td>6+</td>\n",
       "      <td>NaN</td>\n",
       "      <td>NaN</td>\n",
       "      <td>NaN</td>\n",
       "      <td>NaN</td>\n",
       "      <td>NaN</td>\n",
       "      <td>no_info</td>\n",
       "      <td>0.0</td>\n",
       "    </tr>\n",
       "    <tr>\n",
       "      <th>1782</th>\n",
       "      <td>Angelica, Marchioness of the Angels</td>\n",
       "      <td>121031913</td>\n",
       "      <td>2013-12-12</td>\n",
       "      <td>Art</td>\n",
       "      <td>Europe Corp., MonaFilm, VilmaFilm</td>\n",
       "      <td>France</td>\n",
       "      <td>Ariel Zeitoun</td>\n",
       "      <td>Emmanuelle Jacqueline, Pavel Salk, Philipp Hering</td>\n",
       "      <td>16+</td>\n",
       "      <td>NaN</td>\n",
       "      <td>NaN</td>\n",
       "      <td>NaN</td>\n",
       "      <td>NaN</td>\n",
       "      <td>8.0</td>\n",
       "      <td>drama, melodrama, adventure</td>\n",
       "      <td>0.0</td>\n",
       "    </tr>\n",
       "    <tr>\n",
       "      <th>1978</th>\n",
       "      <td>I love your wife</td>\n",
       "      <td>121013014</td>\n",
       "      <td>2014-06-23</td>\n",
       "      <td>Art</td>\n",
       "      <td>Serendipity Point Film, Nomadic Pictures</td>\n",
       "      <td>Canada</td>\n",
       "      <td>Jeremiah S. Chechik</td>\n",
       "      <td>Stephen Alix, Ari Lantos, Robert Lantos</td>\n",
       "      <td>16+</td>\n",
       "      <td>NaN</td>\n",
       "      <td>NaN</td>\n",
       "      <td>NaN</td>\n",
       "      <td>NaN</td>\n",
       "      <td>6.0</td>\n",
       "      <td>melodrama, comedy</td>\n",
       "      <td>0.0</td>\n",
       "    </tr>\n",
       "    <tr>\n",
       "      <th>2037</th>\n",
       "      <td>Cinema about Alekseev</td>\n",
       "      <td>111007114</td>\n",
       "      <td>2014-07-18</td>\n",
       "      <td>Art</td>\n",
       "      <td>LLC \"Film Company \"New People\"</td>\n",
       "      <td>Russia</td>\n",
       "      <td>M.Segal</td>\n",
       "      <td>N. Mokritskaya</td>\n",
       "      <td>12+</td>\n",
       "      <td>NaN</td>\n",
       "      <td>NaN</td>\n",
       "      <td>NaN</td>\n",
       "      <td>NaN</td>\n",
       "      <td>6.9</td>\n",
       "      <td>drama</td>\n",
       "      <td>0.0</td>\n",
       "    </tr>\n",
       "    <tr>\n",
       "      <th>2078</th>\n",
       "      <td>Kurban novel. (The story of the victim).</td>\n",
       "      <td>111009614</td>\n",
       "      <td>2014-09-02</td>\n",
       "      <td>Art</td>\n",
       "      <td>FUND \"INNOVATION\"</td>\n",
       "      <td>Russia</td>\n",
       "      <td>S. Yuzeev</td>\n",
       "      <td>M.Galitskaya</td>\n",
       "      <td>12+</td>\n",
       "      <td>NaN</td>\n",
       "      <td>NaN</td>\n",
       "      <td>NaN</td>\n",
       "      <td>NaN</td>\n",
       "      <td>NaN</td>\n",
       "      <td>no_info</td>\n",
       "      <td>0.0</td>\n",
       "    </tr>\n",
       "    <tr>\n",
       "      <th>2126</th>\n",
       "      <td>trip to mother</td>\n",
       "      <td>111002015</td>\n",
       "      <td>2015-03-02</td>\n",
       "      <td>Art</td>\n",
       "      <td>CJSC Film Studio \"M\"-Film\"</td>\n",
       "      <td>Russia</td>\n",
       "      <td>M.Kosyrev-Nesterov</td>\n",
       "      <td>M.Kosyrev-Nesterov</td>\n",
       "      <td>16+</td>\n",
       "      <td>NaN</td>\n",
       "      <td>NaN</td>\n",
       "      <td>NaN</td>\n",
       "      <td>NaN</td>\n",
       "      <td>NaN</td>\n",
       "      <td>drama, family</td>\n",
       "      <td>0.0</td>\n",
       "    </tr>\n",
       "    <tr>\n",
       "      <th>2219</th>\n",
       "      <td>Walking in the sunshine</td>\n",
       "      <td>121011614</td>\n",
       "      <td>2014-06-11</td>\n",
       "      <td>Art</td>\n",
       "      <td>Vertigo Films, IM Global</td>\n",
       "      <td>Great Britain</td>\n",
       "      <td>Max Giva, Dania Pasquini</td>\n",
       "      <td>Caroline Levy, Ellan Niblo, James Richardson</td>\n",
       "      <td>12+</td>\n",
       "      <td>NaN</td>\n",
       "      <td>NaN</td>\n",
       "      <td>NaN</td>\n",
       "      <td>NaN</td>\n",
       "      <td>6.1</td>\n",
       "      <td>musical, drama, melodrama</td>\n",
       "      <td>0.0</td>\n",
       "    </tr>\n",
       "    <tr>\n",
       "      <th>2442</th>\n",
       "      <td>star boy</td>\n",
       "      <td>111013915</td>\n",
       "      <td>2015-08-25</td>\n",
       "      <td>Art</td>\n",
       "      <td>Film studio \"Mosfilm\"</td>\n",
       "      <td>USSR</td>\n",
       "      <td>E. Zilberstein, A. Dudorov</td>\n",
       "      <td>no_info</td>\n",
       "      <td>0+</td>\n",
       "      <td>NaN</td>\n",
       "      <td>NaN</td>\n",
       "      <td>NaN</td>\n",
       "      <td>NaN</td>\n",
       "      <td>7.5</td>\n",
       "      <td>drama</td>\n",
       "      <td>0.0</td>\n",
       "    </tr>\n",
       "    <tr>\n",
       "      <th>2685</th>\n",
       "      <td>LET IT BE SO</td>\n",
       "      <td>111009815</td>\n",
       "      <td>2015-06-01</td>\n",
       "      <td>Art</td>\n",
       "      <td>LLC PRODUCER COMPANY \"DERZHAVA\"</td>\n",
       "      <td>Russia</td>\n",
       "      <td>O. Smolnikov</td>\n",
       "      <td>K. Lavrov, Yu. Potapova, V. Buter, S. Prudniko...</td>\n",
       "      <td>12+</td>\n",
       "      <td>NaN</td>\n",
       "      <td>NaN</td>\n",
       "      <td>NaN</td>\n",
       "      <td>NaN</td>\n",
       "      <td>NaN</td>\n",
       "      <td>no_info</td>\n",
       "      <td>0.0</td>\n",
       "    </tr>\n",
       "    <tr>\n",
       "      <th>3595</th>\n",
       "      <td>pineapple</td>\n",
       "      <td>111017116</td>\n",
       "      <td>2016-11-10</td>\n",
       "      <td>Art</td>\n",
       "      <td>Rudak Vladimir Ivanovich</td>\n",
       "      <td>Russia</td>\n",
       "      <td>V. Rudak</td>\n",
       "      <td>V. Rudak, A. Babenko</td>\n",
       "      <td>16+</td>\n",
       "      <td>NaN</td>\n",
       "      <td>NaN</td>\n",
       "      <td>NaN</td>\n",
       "      <td>NaN</td>\n",
       "      <td>6.7</td>\n",
       "      <td>action, comedy, crime</td>\n",
       "      <td>0.0</td>\n",
       "    </tr>\n",
       "    <tr>\n",
       "      <th>3827</th>\n",
       "      <td>Moscow, I love you</td>\n",
       "      <td>111001610</td>\n",
       "      <td>2010-02-09</td>\n",
       "      <td>Art</td>\n",
       "      <td>LLC \"BFG-MEDIA-PRODUCTION\", LLC \"Yuri Ginzburg...</td>\n",
       "      <td>Russia</td>\n",
       "      <td>G.Mikhalkov, G.Natanson, V.Storozheva, A.Kasat...</td>\n",
       "      <td>Yu.Glotser, Yu.Ginzburg</td>\n",
       "      <td>16+</td>\n",
       "      <td>NaN</td>\n",
       "      <td>NaN</td>\n",
       "      <td>NaN</td>\n",
       "      <td>NaN</td>\n",
       "      <td>4.5</td>\n",
       "      <td>melodrama, comedy</td>\n",
       "      <td>0.0</td>\n",
       "    </tr>\n",
       "    <tr>\n",
       "      <th>3994</th>\n",
       "      <td>Become John Lennon</td>\n",
       "      <td>121008610</td>\n",
       "      <td>2010-05-05</td>\n",
       "      <td>Art</td>\n",
       "      <td>Aver Media, Ecossy Films, Film 4, North West V...</td>\n",
       "      <td>Canada-UK</td>\n",
       "      <td>Sam Taylor Wood</td>\n",
       "      <td>Robert Bernstein, Kevin Loader, Douglas Ray</td>\n",
       "      <td>16+</td>\n",
       "      <td>NaN</td>\n",
       "      <td>NaN</td>\n",
       "      <td>NaN</td>\n",
       "      <td>NaN</td>\n",
       "      <td>7.5</td>\n",
       "      <td>drama, melodrama, biography</td>\n",
       "      <td>0.0</td>\n",
       "    </tr>\n",
       "    <tr>\n",
       "      <th>4066</th>\n",
       "      <td>Wood.</td>\n",
       "      <td>121020210</td>\n",
       "      <td>2010-11-03</td>\n",
       "      <td>Art</td>\n",
       "      <td>Le Film Du Posion, Taylor Media, Screen Australia</td>\n",
       "      <td>France-Australia</td>\n",
       "      <td>Julie Bertucelli</td>\n",
       "      <td>no_info</td>\n",
       "      <td>16+</td>\n",
       "      <td>NaN</td>\n",
       "      <td>NaN</td>\n",
       "      <td>NaN</td>\n",
       "      <td>NaN</td>\n",
       "      <td>NaN</td>\n",
       "      <td>no_info</td>\n",
       "      <td>0.0</td>\n",
       "    </tr>\n",
       "    <tr>\n",
       "      <th>4790</th>\n",
       "      <td>RED ICE. Saga of the Khanty of Ugra</td>\n",
       "      <td>111005910</td>\n",
       "      <td>2010-06-04</td>\n",
       "      <td>Art</td>\n",
       "      <td>Department of Culture and Art of Khanty-Mansi ...</td>\n",
       "      <td>Russia</td>\n",
       "      <td>O. Fesenko</td>\n",
       "      <td>O. Urushev</td>\n",
       "      <td>16+</td>\n",
       "      <td>NaN</td>\n",
       "      <td>NaN</td>\n",
       "      <td>NaN</td>\n",
       "      <td>NaN</td>\n",
       "      <td>4.5</td>\n",
       "      <td>drama, history</td>\n",
       "      <td>0.0</td>\n",
       "    </tr>\n",
       "  </tbody>\n",
       "</table>\n",
       "</div>"
      ],
      "text/plain": [
       "                                                  title   puNumber  \\\n",
       "66                                         Anna Pavlova  111011013   \n",
       "237                                     Wounded animals  111007613   \n",
       "596                                The smell of heather  111003012   \n",
       "914   In the Fog /According to the story of the same...  121027712   \n",
       "932                                      Letter to Momo  124002912   \n",
       "933                                         Summer Wars  124002812   \n",
       "976                                      Garegin Nzhdeh  131000213   \n",
       "1126                                           Marathon  111006712   \n",
       "1387  Exam for two /According to the novel by Jean H...  121014613   \n",
       "1559  Mr. Morgan's last love /Based on the novel \"Te...  121002614   \n",
       "1772                                      Funny boys ;)  111002414   \n",
       "1782                Angelica, Marchioness of the Angels  121031913   \n",
       "1978                                   I love your wife  121013014   \n",
       "2037                              Cinema about Alekseev  111007114   \n",
       "2078           Kurban novel. (The story of the victim).  111009614   \n",
       "2126                                     trip to mother  111002015   \n",
       "2219                            Walking in the sunshine  121011614   \n",
       "2442                                           star boy  111013915   \n",
       "2685                                       LET IT BE SO  111009815   \n",
       "3595                                          pineapple  111017116   \n",
       "3827                                 Moscow, I love you  111001610   \n",
       "3994                                 Become John Lennon  121008610   \n",
       "4066                                              Wood.  121020210   \n",
       "4790                RED ICE. Saga of the Khanty of Ugra  111005910   \n",
       "\n",
       "     show_start_date      type  \\\n",
       "66        2013-12-19       Art   \n",
       "237       2013-10-18       Art   \n",
       "596       2012-05-23       Art   \n",
       "914       2012-11-07       Art   \n",
       "932       2012-10-25  Animated   \n",
       "933       2012-10-25  Animated   \n",
       "976       2013-04-23       Art   \n",
       "1126      2012-12-18       Art   \n",
       "1387      2013-06-11       Art   \n",
       "1559      2014-02-11       Art   \n",
       "1772      2014-02-27       Art   \n",
       "1782      2013-12-12       Art   \n",
       "1978      2014-06-23       Art   \n",
       "2037      2014-07-18       Art   \n",
       "2078      2014-09-02       Art   \n",
       "2126      2015-03-02       Art   \n",
       "2219      2014-06-11       Art   \n",
       "2442      2015-08-25       Art   \n",
       "2685      2015-06-01       Art   \n",
       "3595      2016-11-10       Art   \n",
       "3827      2010-02-09       Art   \n",
       "3994      2010-05-05       Art   \n",
       "4066      2010-11-03       Art   \n",
       "4790      2010-06-04       Art   \n",
       "\n",
       "                                            film_studio  \\\n",
       "66    co-production Film studio \"Mosfilm\", \"Cosmos-f...   \n",
       "237                               Film studio \"Mosfilm\"   \n",
       "596                                    OOO \"Studio RIM\"   \n",
       "914    Ma Ya De Fiction, Lemming Film, Belarusfilm, ...   \n",
       "932   Kadokawa Pictures, Productions I G, Tokyo Broa...   \n",
       "933   Medhouse, Nippon Television Network Corporatio...   \n",
       "976           AJK Productions, Pan Armenian Media Group   \n",
       "1126                            LLC \"Cinema Art Studio\"   \n",
       "1387                                  Depf of the Field   \n",
       "1559  Kaminsky Shtim Film, Bavaria Pictures, Senator...   \n",
       "1772    CJSC \"PRODUCTION COMPANY OF VALERY TODOROVSKOY\"   \n",
       "1782                  Europe Corp., MonaFilm, VilmaFilm   \n",
       "1978           Serendipity Point Film, Nomadic Pictures   \n",
       "2037                     LLC \"Film Company \"New People\"   \n",
       "2078                                  FUND \"INNOVATION\"   \n",
       "2126                         CJSC Film Studio \"M\"-Film\"   \n",
       "2219                           Vertigo Films, IM Global   \n",
       "2442                              Film studio \"Mosfilm\"   \n",
       "2685                    LLC PRODUCER COMPANY \"DERZHAVA\"   \n",
       "3595                           Rudak Vladimir Ivanovich   \n",
       "3827  LLC \"BFG-MEDIA-PRODUCTION\", LLC \"Yuri Ginzburg...   \n",
       "3994  Aver Media, Ecossy Films, Film 4, North West V...   \n",
       "4066  Le Film Du Posion, Taylor Media, Screen Australia   \n",
       "4790  Department of Culture and Art of Khanty-Mansi ...   \n",
       "\n",
       "                                     production_country  \\\n",
       "66            USSR, France, England, Cuba, East Germany   \n",
       "237                                                USSR   \n",
       "596                                              Russia   \n",
       "914   Germany - Netherlands - Belarus - Russia - Latvia   \n",
       "932                                               Japan   \n",
       "933                                               Japan   \n",
       "976                                             Armenia   \n",
       "1126                                             Russia   \n",
       "1387                                                USA   \n",
       "1559                   Germany - Belgium - USA - France   \n",
       "1772                                             Russia   \n",
       "1782                                             France   \n",
       "1978                                             Canada   \n",
       "2037                                             Russia   \n",
       "2078                                             Russia   \n",
       "2126                                             Russia   \n",
       "2219                                      Great Britain   \n",
       "2442                                               USSR   \n",
       "2685                                             Russia   \n",
       "3595                                             Russia   \n",
       "3827                                             Russia   \n",
       "3994                                          Canada-UK   \n",
       "4066                                   France-Australia   \n",
       "4790                                             Russia   \n",
       "\n",
       "                                               director  \\\n",
       "66                                         Emil Loteanu   \n",
       "237                                          N. Gubenko   \n",
       "596                                        A. Magomedov   \n",
       "914                                     Sergey Loznitsa   \n",
       "932                                     Okiura Hiroyuki   \n",
       "933                                       Mamoru Hosoda   \n",
       "976                                    Hrach Keshishyan   \n",
       "1126                                    K. Hovhannisyan   \n",
       "1387                                         Paul Weitz   \n",
       "1559                                  Sandra Nettelbeck   \n",
       "1772                                           A.Bobrov   \n",
       "1782                                      Ariel Zeitoun   \n",
       "1978                                Jeremiah S. Chechik   \n",
       "2037                                            M.Segal   \n",
       "2078                                          S. Yuzeev   \n",
       "2126                                 M.Kosyrev-Nesterov   \n",
       "2219                           Max Giva, Dania Pasquini   \n",
       "2442                         E. Zilberstein, A. Dudorov   \n",
       "2685                                       O. Smolnikov   \n",
       "3595                                           V. Rudak   \n",
       "3827  G.Mikhalkov, G.Natanson, V.Storozheva, A.Kasat...   \n",
       "3994                                    Sam Taylor Wood   \n",
       "4066                                   Julie Bertucelli   \n",
       "4790                                         O. Fesenko   \n",
       "\n",
       "                                               producer age_restriction  \\\n",
       "66                                              no_info              6+   \n",
       "237                                             no_info             12+   \n",
       "596                              M.Balashova, E.Mironov             16+   \n",
       "914                                       Heino Deckert             12+   \n",
       "932   Hiroyuki Ikeda, Mitsuhisa Ishikawa, Kazuya Hamana             12+   \n",
       "933    Takafumi Watanabe, Takuya Ito, Seiji Okuda, Y...             12+   \n",
       "976                                    Hrach Keshishyan             12+   \n",
       "1126                                    K. Hovhannisyan             16+   \n",
       "1387           Paul Weitz, Kerry Kohansky, Andrew Miano             12+   \n",
       "1559  Frank Kaminsky, Astrid Kamke, Philipp Kreuzer,...             16+   \n",
       "1772                                       V.Todorovsky              6+   \n",
       "1782  Emmanuelle Jacqueline, Pavel Salk, Philipp Hering             16+   \n",
       "1978            Stephen Alix, Ari Lantos, Robert Lantos             16+   \n",
       "2037                                     N. Mokritskaya             12+   \n",
       "2078                                       M.Galitskaya             12+   \n",
       "2126                                 M.Kosyrev-Nesterov             16+   \n",
       "2219       Caroline Levy, Ellan Niblo, James Richardson             12+   \n",
       "2442                                            no_info              0+   \n",
       "2685  K. Lavrov, Yu. Potapova, V. Buter, S. Prudniko...             12+   \n",
       "3595                               V. Rudak, A. Babenko             16+   \n",
       "3827                            Yu.Glotser, Yu.Ginzburg             16+   \n",
       "3994        Robert Bernstein, Kevin Loader, Douglas Ray             16+   \n",
       "4066                                            no_info             16+   \n",
       "4790                                         O. Urushev             16+   \n",
       "\n",
       "      refundable_support  nonrefundable_support  budget financing_source  \\\n",
       "66                   NaN                    NaN     NaN              NaN   \n",
       "237                  NaN                    NaN     NaN              NaN   \n",
       "596                  NaN                    NaN     NaN              NaN   \n",
       "914                  NaN                    NaN     NaN              NaN   \n",
       "932                  NaN                    NaN     NaN              NaN   \n",
       "933                  NaN                    NaN     NaN              NaN   \n",
       "976                  NaN                    NaN     NaN              NaN   \n",
       "1126                 NaN                    NaN     NaN              NaN   \n",
       "1387                 NaN                    NaN     NaN              NaN   \n",
       "1559                 NaN                    NaN     NaN              NaN   \n",
       "1772                 NaN                    NaN     NaN              NaN   \n",
       "1782                 NaN                    NaN     NaN              NaN   \n",
       "1978                 NaN                    NaN     NaN              NaN   \n",
       "2037                 NaN                    NaN     NaN              NaN   \n",
       "2078                 NaN                    NaN     NaN              NaN   \n",
       "2126                 NaN                    NaN     NaN              NaN   \n",
       "2219                 NaN                    NaN     NaN              NaN   \n",
       "2442                 NaN                    NaN     NaN              NaN   \n",
       "2685                 NaN                    NaN     NaN              NaN   \n",
       "3595                 NaN                    NaN     NaN              NaN   \n",
       "3827                 NaN                    NaN     NaN              NaN   \n",
       "3994                 NaN                    NaN     NaN              NaN   \n",
       "4066                 NaN                    NaN     NaN              NaN   \n",
       "4790                 NaN                    NaN     NaN              NaN   \n",
       "\n",
       "      ratings                       genres  box_office  \n",
       "66        7.7      drama, biography, music         0.0  \n",
       "237       8.2                        drama         0.0  \n",
       "596       6.3                       comedy         0.0  \n",
       "914       6.5     drama, military, history         0.0  \n",
       "932       7.4          anime,cartoon,drama         0.0  \n",
       "933       7.7        anime,cartoon,fantasy         0.0  \n",
       "976       7.9                    biography         0.0  \n",
       "1126      5.5            comedy, melodrama         0.0  \n",
       "1387      5.8     melodrama, comedy, drama         0.0  \n",
       "1559      6.9                        drama         0.0  \n",
       "1772      NaN                      no_info         0.0  \n",
       "1782      8.0  drama, melodrama, adventure         0.0  \n",
       "1978      6.0            melodrama, comedy         0.0  \n",
       "2037      6.9                        drama         0.0  \n",
       "2078      NaN                      no_info         0.0  \n",
       "2126      NaN                drama, family         0.0  \n",
       "2219      6.1    musical, drama, melodrama         0.0  \n",
       "2442      7.5                        drama         0.0  \n",
       "2685      NaN                      no_info         0.0  \n",
       "3595      6.7        action, comedy, crime         0.0  \n",
       "3827      4.5            melodrama, comedy         0.0  \n",
       "3994      7.5  drama, melodrama, biography         0.0  \n",
       "4066      NaN                      no_info         0.0  \n",
       "4790      4.5               drama, history         0.0  "
      ]
     },
     "execution_count": 30,
     "metadata": {},
     "output_type": "execute_result"
    }
   ],
   "source": [
    "df.query('box_office == 0')"
   ]
  },
  {
   "cell_type": "markdown",
   "metadata": {},
   "source": [
    "The films are little known, perhaps the rental certificates were not obtained for commercial use, or there is an data error. We will not delete the rows, since the rest of the data may be useful for the analysis. At the same time, it is impossible to replace zero values with `NaN`, this will distort the statistics. Let's dwell on the hypothesis that zero values indicate rental certificates received for non-commercial screenings."
   ]
  },
  {
   "cell_type": "code",
   "execution_count": 31,
   "metadata": {},
   "outputs": [
    {
     "data": {
      "text/html": [
       "<div>\n",
       "<style scoped>\n",
       "    .dataframe tbody tr th:only-of-type {\n",
       "        vertical-align: middle;\n",
       "    }\n",
       "\n",
       "    .dataframe tbody tr th {\n",
       "        vertical-align: top;\n",
       "    }\n",
       "\n",
       "    .dataframe thead th {\n",
       "        text-align: right;\n",
       "    }\n",
       "</style>\n",
       "<table border=\"1\" class=\"dataframe\">\n",
       "  <thead>\n",
       "    <tr style=\"text-align: right;\">\n",
       "      <th></th>\n",
       "      <th>count</th>\n",
       "      <th>mean</th>\n",
       "      <th>std</th>\n",
       "      <th>min</th>\n",
       "      <th>25%</th>\n",
       "      <th>50%</th>\n",
       "      <th>75%</th>\n",
       "      <th>max</th>\n",
       "    </tr>\n",
       "  </thead>\n",
       "  <tbody>\n",
       "    <tr>\n",
       "      <th>refundable_support</th>\n",
       "      <td>318.0</td>\n",
       "      <td>11,946,540.9</td>\n",
       "      <td>24,817,662.2</td>\n",
       "      <td>0.0</td>\n",
       "      <td>0.0</td>\n",
       "      <td>0.0</td>\n",
       "      <td>15,000,000.0</td>\n",
       "      <td>180,000,000.0</td>\n",
       "    </tr>\n",
       "    <tr>\n",
       "      <th>nonrefundable_support</th>\n",
       "      <td>318.0</td>\n",
       "      <td>48,780,403.5</td>\n",
       "      <td>57,792,390.6</td>\n",
       "      <td>0.0</td>\n",
       "      <td>25,000,000.0</td>\n",
       "      <td>30,000,000.0</td>\n",
       "      <td>44,125,000.0</td>\n",
       "      <td>400,000,000.0</td>\n",
       "    </tr>\n",
       "    <tr>\n",
       "      <th>budget</th>\n",
       "      <td>318.0</td>\n",
       "      <td>132,006,722.1</td>\n",
       "      <td>184,957,591.6</td>\n",
       "      <td>6,000,000.0</td>\n",
       "      <td>46,153,856.2</td>\n",
       "      <td>74,955,000.0</td>\n",
       "      <td>150,006,429.8</td>\n",
       "      <td>2,305,074,303.0</td>\n",
       "    </tr>\n",
       "    <tr>\n",
       "      <th>ratings</th>\n",
       "      <td>2,880.0</td>\n",
       "      <td>6.3</td>\n",
       "      <td>1.1</td>\n",
       "      <td>1.0</td>\n",
       "      <td>5.7</td>\n",
       "      <td>6.4</td>\n",
       "      <td>7.1</td>\n",
       "      <td>9.2</td>\n",
       "    </tr>\n",
       "    <tr>\n",
       "      <th>box_office</th>\n",
       "      <td>3,134.0</td>\n",
       "      <td>77,064,365.8</td>\n",
       "      <td>241,178,383.8</td>\n",
       "      <td>40.0</td>\n",
       "      <td>101,028.8</td>\n",
       "      <td>2,409,099.4</td>\n",
       "      <td>24,569,794.9</td>\n",
       "      <td>3,073,568,690.8</td>\n",
       "    </tr>\n",
       "  </tbody>\n",
       "</table>\n",
       "</div>"
      ],
      "text/plain": [
       "                        count          mean           std         min  \\\n",
       "refundable_support      318.0  11,946,540.9  24,817,662.2         0.0   \n",
       "nonrefundable_support   318.0  48,780,403.5  57,792,390.6         0.0   \n",
       "budget                  318.0 132,006,722.1 184,957,591.6 6,000,000.0   \n",
       "ratings               2,880.0           6.3           1.1         1.0   \n",
       "box_office            3,134.0  77,064,365.8 241,178,383.8        40.0   \n",
       "\n",
       "                               25%          50%           75%             max  \n",
       "refundable_support             0.0          0.0  15,000,000.0   180,000,000.0  \n",
       "nonrefundable_support 25,000,000.0 30,000,000.0  44,125,000.0   400,000,000.0  \n",
       "budget                46,153,856.2 74,955,000.0 150,006,429.8 2,305,074,303.0  \n",
       "ratings                        5.7          6.4           7.1             9.2  \n",
       "box_office               101,028.8  2,409,099.4  24,569,794.9 3,073,568,690.8  "
      ]
     },
     "execution_count": 31,
     "metadata": {},
     "output_type": "execute_result"
    }
   ],
   "source": [
    "df.query('box_office > 0').describe().T"
   ]
  },
  {
   "cell_type": "markdown",
   "metadata": {},
   "source": [
    "It didn't get any clearer. Box office range from 40 to 3 billion rubles. Let's look at the values in the first and last quantiles, try to understand why the data behaves this way"
   ]
  },
  {
   "cell_type": "code",
   "execution_count": 32,
   "metadata": {},
   "outputs": [
    {
     "data": {
      "text/html": [
       "<div>\n",
       "<style scoped>\n",
       "    .dataframe tbody tr th:only-of-type {\n",
       "        vertical-align: middle;\n",
       "    }\n",
       "\n",
       "    .dataframe tbody tr th {\n",
       "        vertical-align: top;\n",
       "    }\n",
       "\n",
       "    .dataframe thead th {\n",
       "        text-align: right;\n",
       "    }\n",
       "</style>\n",
       "<table border=\"1\" class=\"dataframe\">\n",
       "  <thead>\n",
       "    <tr style=\"text-align: right;\">\n",
       "      <th></th>\n",
       "      <th>title</th>\n",
       "      <th>puNumber</th>\n",
       "      <th>show_start_date</th>\n",
       "      <th>type</th>\n",
       "      <th>film_studio</th>\n",
       "      <th>production_country</th>\n",
       "      <th>director</th>\n",
       "      <th>producer</th>\n",
       "      <th>age_restriction</th>\n",
       "      <th>refundable_support</th>\n",
       "      <th>nonrefundable_support</th>\n",
       "      <th>budget</th>\n",
       "      <th>financing_source</th>\n",
       "      <th>ratings</th>\n",
       "      <th>genres</th>\n",
       "      <th>box_office</th>\n",
       "    </tr>\n",
       "  </thead>\n",
       "  <tbody>\n",
       "    <tr>\n",
       "      <th>6</th>\n",
       "      <td>Love and pigeons</td>\n",
       "      <td>111007013</td>\n",
       "      <td>2013-10-18</td>\n",
       "      <td>Art</td>\n",
       "      <td>Film studio \"Mosfilm\"</td>\n",
       "      <td>USSR</td>\n",
       "      <td>V. Menshov</td>\n",
       "      <td>no_info</td>\n",
       "      <td>12+</td>\n",
       "      <td>NaN</td>\n",
       "      <td>NaN</td>\n",
       "      <td>NaN</td>\n",
       "      <td>NaN</td>\n",
       "      <td>8.3</td>\n",
       "      <td>melodrama, comedy</td>\n",
       "      <td>2,700.0</td>\n",
       "    </tr>\n",
       "    <tr>\n",
       "      <th>18</th>\n",
       "      <td>Unyielding</td>\n",
       "      <td>111003616</td>\n",
       "      <td>2016-02-12</td>\n",
       "      <td>Art</td>\n",
       "      <td>Film studio \"Mosfilm\"</td>\n",
       "      <td>USSR</td>\n",
       "      <td>Y. Chulyukin</td>\n",
       "      <td>no_info</td>\n",
       "      <td>6+</td>\n",
       "      <td>NaN</td>\n",
       "      <td>NaN</td>\n",
       "      <td>NaN</td>\n",
       "      <td>NaN</td>\n",
       "      <td>8.0</td>\n",
       "      <td>melodrama, comedy</td>\n",
       "      <td>360.0</td>\n",
       "    </tr>\n",
       "    <tr>\n",
       "      <th>19</th>\n",
       "      <td>Out of jurisdiction</td>\n",
       "      <td>111003716</td>\n",
       "      <td>2016-02-12</td>\n",
       "      <td>Art</td>\n",
       "      <td>Film studio \"Mosfilm\"</td>\n",
       "      <td>USSR</td>\n",
       "      <td>V.Krasnopolsky, V.Uskov</td>\n",
       "      <td>no_info</td>\n",
       "      <td>6+</td>\n",
       "      <td>NaN</td>\n",
       "      <td>NaN</td>\n",
       "      <td>NaN</td>\n",
       "      <td>NaN</td>\n",
       "      <td>7.7</td>\n",
       "      <td>drama</td>\n",
       "      <td>420.0</td>\n",
       "    </tr>\n",
       "    <tr>\n",
       "      <th>22</th>\n",
       "      <td>Operation \"Y\" and Shurik's other adventures</td>\n",
       "      <td>111007413</td>\n",
       "      <td>2013-10-18</td>\n",
       "      <td>Art</td>\n",
       "      <td>Film studio \"Mosfilm\"</td>\n",
       "      <td>USSR</td>\n",
       "      <td>L. Gaidai</td>\n",
       "      <td>no_info</td>\n",
       "      <td>6+</td>\n",
       "      <td>NaN</td>\n",
       "      <td>NaN</td>\n",
       "      <td>NaN</td>\n",
       "      <td>NaN</td>\n",
       "      <td>8.7</td>\n",
       "      <td>comedy, melodrama, crime</td>\n",
       "      <td>380.0</td>\n",
       "    </tr>\n",
       "    <tr>\n",
       "      <th>38</th>\n",
       "      <td>Guys!..</td>\n",
       "      <td>111007213</td>\n",
       "      <td>2013-10-18</td>\n",
       "      <td>Art</td>\n",
       "      <td>Film studio \"Mosfilm\"</td>\n",
       "      <td>USSR</td>\n",
       "      <td>I. Babich</td>\n",
       "      <td>no_info</td>\n",
       "      <td>6+</td>\n",
       "      <td>NaN</td>\n",
       "      <td>NaN</td>\n",
       "      <td>NaN</td>\n",
       "      <td>NaN</td>\n",
       "      <td>8.1</td>\n",
       "      <td>drama</td>\n",
       "      <td>1,165.0</td>\n",
       "    </tr>\n",
       "    <tr>\n",
       "      <th>...</th>\n",
       "      <td>...</td>\n",
       "      <td>...</td>\n",
       "      <td>...</td>\n",
       "      <td>...</td>\n",
       "      <td>...</td>\n",
       "      <td>...</td>\n",
       "      <td>...</td>\n",
       "      <td>...</td>\n",
       "      <td>...</td>\n",
       "      <td>...</td>\n",
       "      <td>...</td>\n",
       "      <td>...</td>\n",
       "      <td>...</td>\n",
       "      <td>...</td>\n",
       "      <td>...</td>\n",
       "      <td>...</td>\n",
       "    </tr>\n",
       "    <tr>\n",
       "      <th>7154</th>\n",
       "      <td>Created in the Abyss - Rogue Twilight</td>\n",
       "      <td>124006219</td>\n",
       "      <td>2019-08-15</td>\n",
       "      <td>Animated</td>\n",
       "      <td>Kinema Citrus Co.</td>\n",
       "      <td>Japan</td>\n",
       "      <td>Masayuki Kojima</td>\n",
       "      <td>Muneki Ogasawara</td>\n",
       "      <td>18+</td>\n",
       "      <td>NaN</td>\n",
       "      <td>NaN</td>\n",
       "      <td>NaN</td>\n",
       "      <td>NaN</td>\n",
       "      <td>8.0</td>\n",
       "      <td>anime,cartoon,detective</td>\n",
       "      <td>73,700.0</td>\n",
       "    </tr>\n",
       "    <tr>\n",
       "      <th>7155</th>\n",
       "      <td>Created in the Abyss - Dawn of the Journey</td>\n",
       "      <td>124006319</td>\n",
       "      <td>2019-08-15</td>\n",
       "      <td>Animated</td>\n",
       "      <td>Kinema Citrus Co.</td>\n",
       "      <td>Japan</td>\n",
       "      <td>Masayuki Kojima</td>\n",
       "      <td>Muneki Ogasawara</td>\n",
       "      <td>16+</td>\n",
       "      <td>NaN</td>\n",
       "      <td>NaN</td>\n",
       "      <td>NaN</td>\n",
       "      <td>NaN</td>\n",
       "      <td>7.9</td>\n",
       "      <td>anime,cartoon,detective</td>\n",
       "      <td>75,300.0</td>\n",
       "    </tr>\n",
       "    <tr>\n",
       "      <th>7205</th>\n",
       "      <td>Diego Maradona</td>\n",
       "      <td>126003519</td>\n",
       "      <td>2019-09-14</td>\n",
       "      <td>Other</td>\n",
       "      <td>Film Fo, Lorton Entertainment, Corner Films</td>\n",
       "      <td>Great Britain</td>\n",
       "      <td>Asif Kapadia</td>\n",
       "      <td>James Gay-Rees, Paul Martin</td>\n",
       "      <td>16+</td>\n",
       "      <td>NaN</td>\n",
       "      <td>NaN</td>\n",
       "      <td>NaN</td>\n",
       "      <td>NaN</td>\n",
       "      <td>7.7</td>\n",
       "      <td>documentary, sports, biography</td>\n",
       "      <td>38,330.0</td>\n",
       "    </tr>\n",
       "    <tr>\n",
       "      <th>7421</th>\n",
       "      <td>Ballet today</td>\n",
       "      <td>126007219</td>\n",
       "      <td>2019-12-01</td>\n",
       "      <td>Other</td>\n",
       "      <td>Dogwoof Film Distribution, Lexicat Artists, St...</td>\n",
       "      <td>USA</td>\n",
       "      <td>Stephen Cantor</td>\n",
       "      <td>P.J.Allen, A.Blavatnik, O.Blavatnik, D.Gargi, ...</td>\n",
       "      <td>16+</td>\n",
       "      <td>NaN</td>\n",
       "      <td>NaN</td>\n",
       "      <td>NaN</td>\n",
       "      <td>NaN</td>\n",
       "      <td>NaN</td>\n",
       "      <td>no_info</td>\n",
       "      <td>59,829.0</td>\n",
       "    </tr>\n",
       "    <tr>\n",
       "      <th>7422</th>\n",
       "      <td>Lil Buck: Real Swan</td>\n",
       "      <td>126007319</td>\n",
       "      <td>2019-12-01</td>\n",
       "      <td>Other</td>\n",
       "      <td>Versatiy Film</td>\n",
       "      <td>France</td>\n",
       "      <td>Louis Vallekan</td>\n",
       "      <td>K. Armmer Jr., L. Buck, C. Riley, M. Heidelber...</td>\n",
       "      <td>16+</td>\n",
       "      <td>NaN</td>\n",
       "      <td>NaN</td>\n",
       "      <td>NaN</td>\n",
       "      <td>NaN</td>\n",
       "      <td>NaN</td>\n",
       "      <td>no_info</td>\n",
       "      <td>83,285.0</td>\n",
       "    </tr>\n",
       "  </tbody>\n",
       "</table>\n",
       "<p>806 rows × 16 columns</p>\n",
       "</div>"
      ],
      "text/plain": [
       "                                            title   puNumber show_start_date  \\\n",
       "6                                Love and pigeons  111007013      2013-10-18   \n",
       "18                                     Unyielding  111003616      2016-02-12   \n",
       "19                            Out of jurisdiction  111003716      2016-02-12   \n",
       "22    Operation \"Y\" and Shurik's other adventures  111007413      2013-10-18   \n",
       "38                                        Guys!..  111007213      2013-10-18   \n",
       "...                                           ...        ...             ...   \n",
       "7154        Created in the Abyss - Rogue Twilight  124006219      2019-08-15   \n",
       "7155   Created in the Abyss - Dawn of the Journey  124006319      2019-08-15   \n",
       "7205                               Diego Maradona  126003519      2019-09-14   \n",
       "7421                                 Ballet today  126007219      2019-12-01   \n",
       "7422                          Lil Buck: Real Swan  126007319      2019-12-01   \n",
       "\n",
       "          type                                        film_studio  \\\n",
       "6          Art                              Film studio \"Mosfilm\"   \n",
       "18         Art                              Film studio \"Mosfilm\"   \n",
       "19         Art                              Film studio \"Mosfilm\"   \n",
       "22         Art                              Film studio \"Mosfilm\"   \n",
       "38         Art                              Film studio \"Mosfilm\"   \n",
       "...        ...                                                ...   \n",
       "7154  Animated                                  Kinema Citrus Co.   \n",
       "7155  Animated                                  Kinema Citrus Co.   \n",
       "7205     Other        Film Fo, Lorton Entertainment, Corner Films   \n",
       "7421     Other  Dogwoof Film Distribution, Lexicat Artists, St...   \n",
       "7422     Other                                      Versatiy Film   \n",
       "\n",
       "     production_country                 director  \\\n",
       "6                  USSR               V. Menshov   \n",
       "18                 USSR             Y. Chulyukin   \n",
       "19                 USSR  V.Krasnopolsky, V.Uskov   \n",
       "22                 USSR                L. Gaidai   \n",
       "38                 USSR                I. Babich   \n",
       "...                 ...                      ...   \n",
       "7154              Japan          Masayuki Kojima   \n",
       "7155              Japan          Masayuki Kojima   \n",
       "7205      Great Britain             Asif Kapadia   \n",
       "7421                USA           Stephen Cantor   \n",
       "7422             France           Louis Vallekan   \n",
       "\n",
       "                                               producer age_restriction  \\\n",
       "6                                               no_info             12+   \n",
       "18                                              no_info              6+   \n",
       "19                                              no_info              6+   \n",
       "22                                              no_info              6+   \n",
       "38                                              no_info              6+   \n",
       "...                                                 ...             ...   \n",
       "7154                                   Muneki Ogasawara             18+   \n",
       "7155                                   Muneki Ogasawara             16+   \n",
       "7205                        James Gay-Rees, Paul Martin             16+   \n",
       "7421  P.J.Allen, A.Blavatnik, O.Blavatnik, D.Gargi, ...             16+   \n",
       "7422  K. Armmer Jr., L. Buck, C. Riley, M. Heidelber...             16+   \n",
       "\n",
       "      refundable_support  nonrefundable_support  budget financing_source  \\\n",
       "6                    NaN                    NaN     NaN              NaN   \n",
       "18                   NaN                    NaN     NaN              NaN   \n",
       "19                   NaN                    NaN     NaN              NaN   \n",
       "22                   NaN                    NaN     NaN              NaN   \n",
       "38                   NaN                    NaN     NaN              NaN   \n",
       "...                  ...                    ...     ...              ...   \n",
       "7154                 NaN                    NaN     NaN              NaN   \n",
       "7155                 NaN                    NaN     NaN              NaN   \n",
       "7205                 NaN                    NaN     NaN              NaN   \n",
       "7421                 NaN                    NaN     NaN              NaN   \n",
       "7422                 NaN                    NaN     NaN              NaN   \n",
       "\n",
       "      ratings                          genres  box_office  \n",
       "6         8.3               melodrama, comedy     2,700.0  \n",
       "18        8.0               melodrama, comedy       360.0  \n",
       "19        7.7                           drama       420.0  \n",
       "22        8.7        comedy, melodrama, crime       380.0  \n",
       "38        8.1                           drama     1,165.0  \n",
       "...       ...                             ...         ...  \n",
       "7154      8.0         anime,cartoon,detective    73,700.0  \n",
       "7155      7.9         anime,cartoon,detective    75,300.0  \n",
       "7205      7.7  documentary, sports, biography    38,330.0  \n",
       "7421      NaN                         no_info    59,829.0  \n",
       "7422      NaN                         no_info    83,285.0  \n",
       "\n",
       "[806 rows x 16 columns]"
      ]
     },
     "execution_count": 32,
     "metadata": {},
     "output_type": "execute_result"
    }
   ],
   "source": [
    "df.query('box_office < 100000')"
   ]
  },
  {
   "cell_type": "code",
   "execution_count": 33,
   "metadata": {},
   "outputs": [
    {
     "data": {
      "text/html": [
       "<div>\n",
       "<style scoped>\n",
       "    .dataframe tbody tr th:only-of-type {\n",
       "        vertical-align: middle;\n",
       "    }\n",
       "\n",
       "    .dataframe tbody tr th {\n",
       "        vertical-align: top;\n",
       "    }\n",
       "\n",
       "    .dataframe thead th {\n",
       "        text-align: right;\n",
       "    }\n",
       "</style>\n",
       "<table border=\"1\" class=\"dataframe\">\n",
       "  <thead>\n",
       "    <tr style=\"text-align: right;\">\n",
       "      <th></th>\n",
       "      <th>title</th>\n",
       "      <th>puNumber</th>\n",
       "      <th>show_start_date</th>\n",
       "      <th>type</th>\n",
       "      <th>film_studio</th>\n",
       "      <th>production_country</th>\n",
       "      <th>director</th>\n",
       "      <th>producer</th>\n",
       "      <th>age_restriction</th>\n",
       "      <th>refundable_support</th>\n",
       "      <th>nonrefundable_support</th>\n",
       "      <th>budget</th>\n",
       "      <th>financing_source</th>\n",
       "      <th>ratings</th>\n",
       "      <th>genres</th>\n",
       "      <th>box_office</th>\n",
       "    </tr>\n",
       "  </thead>\n",
       "  <tbody>\n",
       "    <tr>\n",
       "      <th>1857</th>\n",
       "      <td>Shaun the sheep.</td>\n",
       "      <td>124000815</td>\n",
       "      <td>2015-02-17</td>\n",
       "      <td>Animated</td>\n",
       "      <td>Ardman Animation, Anton Capital Entertainment,...</td>\n",
       "      <td>UK - France</td>\n",
       "      <td>Mark Burton</td>\n",
       "      <td>Julie Lockhart, Peter Lord, Nick Park</td>\n",
       "      <td>6+</td>\n",
       "      <td>NaN</td>\n",
       "      <td>NaN</td>\n",
       "      <td>NaN</td>\n",
       "      <td>NaN</td>\n",
       "      <td>7.4</td>\n",
       "      <td>cartoon,fantasy,comedy</td>\n",
       "      <td>57,395,723.1</td>\n",
       "    </tr>\n",
       "    <tr>\n",
       "      <th>1865</th>\n",
       "      <td>The universe of Stephen Hawking /According to ...</td>\n",
       "      <td>121002415</td>\n",
       "      <td>2015-02-11</td>\n",
       "      <td>Art</td>\n",
       "      <td>Working Title Films</td>\n",
       "      <td>Great Britain</td>\n",
       "      <td>James Marsh</td>\n",
       "      <td>Tim Bevan, Lisa Bruce</td>\n",
       "      <td>16+</td>\n",
       "      <td>NaN</td>\n",
       "      <td>NaN</td>\n",
       "      <td>NaN</td>\n",
       "      <td>NaN</td>\n",
       "      <td>7.9</td>\n",
       "      <td>biography, melodrama, drama</td>\n",
       "      <td>39,229,270.6</td>\n",
       "    </tr>\n",
       "    <tr>\n",
       "      <th>1869</th>\n",
       "      <td>Women versus men</td>\n",
       "      <td>111002415</td>\n",
       "      <td>2015-03-12</td>\n",
       "      <td>Art</td>\n",
       "      <td>OOO \"Enjoy Movies\"</td>\n",
       "      <td>Russia</td>\n",
       "      <td>T.Mammadov, S.Andreasyan</td>\n",
       "      <td>G. Andreasyan, S. Andreasyan, V. Polyakov</td>\n",
       "      <td>18+</td>\n",
       "      <td>NaN</td>\n",
       "      <td>NaN</td>\n",
       "      <td>NaN</td>\n",
       "      <td>NaN</td>\n",
       "      <td>3.7</td>\n",
       "      <td>comedy</td>\n",
       "      <td>126,148,703.6</td>\n",
       "    </tr>\n",
       "    <tr>\n",
       "      <th>1870</th>\n",
       "      <td>And the dawns here are quiet..._</td>\n",
       "      <td>111002915</td>\n",
       "      <td>2015-03-16</td>\n",
       "      <td>Art</td>\n",
       "      <td>LLC \"Company \"Real-Dakota\"</td>\n",
       "      <td>Russia</td>\n",
       "      <td>R. Davletyarov</td>\n",
       "      <td>no_info</td>\n",
       "      <td>12+</td>\n",
       "      <td>50,000,000.0</td>\n",
       "      <td>100,000,000.0</td>\n",
       "      <td>220,588,394.0</td>\n",
       "      <td>Cinema Fund</td>\n",
       "      <td>8.5</td>\n",
       "      <td>drama, military, history</td>\n",
       "      <td>249,166,767.7</td>\n",
       "    </tr>\n",
       "    <tr>\n",
       "      <th>1877</th>\n",
       "      <td>Sniper /Based on the book by Chris Kyle, Scott...</td>\n",
       "      <td>121003115</td>\n",
       "      <td>2015-02-20</td>\n",
       "      <td>Art</td>\n",
       "      <td>Warner Bros., Village Roadshow Pictures, Mad C...</td>\n",
       "      <td>USA</td>\n",
       "      <td>Clint Eastwood</td>\n",
       "      <td>Clint Eastwood, Andrew Lazar, PJ A</td>\n",
       "      <td>18+</td>\n",
       "      <td>NaN</td>\n",
       "      <td>NaN</td>\n",
       "      <td>NaN</td>\n",
       "      <td>NaN</td>\n",
       "      <td>7.0</td>\n",
       "      <td>Action, Drama, War</td>\n",
       "      <td>44,279,440.2</td>\n",
       "    </tr>\n",
       "    <tr>\n",
       "      <th>...</th>\n",
       "      <td>...</td>\n",
       "      <td>...</td>\n",
       "      <td>...</td>\n",
       "      <td>...</td>\n",
       "      <td>...</td>\n",
       "      <td>...</td>\n",
       "      <td>...</td>\n",
       "      <td>...</td>\n",
       "      <td>...</td>\n",
       "      <td>...</td>\n",
       "      <td>...</td>\n",
       "      <td>...</td>\n",
       "      <td>...</td>\n",
       "      <td>...</td>\n",
       "      <td>...</td>\n",
       "      <td>...</td>\n",
       "    </tr>\n",
       "    <tr>\n",
       "      <th>7435</th>\n",
       "      <td>Motherless Brooklyn</td>\n",
       "      <td>121036119</td>\n",
       "      <td>2019-12-05</td>\n",
       "      <td>Art</td>\n",
       "      <td>Class 5 Films, MD Double You AM Studios, Warne...</td>\n",
       "      <td>USA</td>\n",
       "      <td>Edward Norton</td>\n",
       "      <td>Michael Bederman, Bill Miglior, Edward Norton,...</td>\n",
       "      <td>18+</td>\n",
       "      <td>NaN</td>\n",
       "      <td>NaN</td>\n",
       "      <td>NaN</td>\n",
       "      <td>NaN</td>\n",
       "      <td>7.0</td>\n",
       "      <td>drama, crime, detective</td>\n",
       "      <td>64,137,345.0</td>\n",
       "    </tr>\n",
       "    <tr>\n",
       "      <th>7453</th>\n",
       "      <td>Fixies against crabs</td>\n",
       "      <td>114004819</td>\n",
       "      <td>2019-12-21</td>\n",
       "      <td>Animated</td>\n",
       "      <td>JSC \"Airplane\"</td>\n",
       "      <td>Russia</td>\n",
       "      <td>V.Bedoshvili, O.Uzhinov, I.Pshonkin, D.Tsybulkin</td>\n",
       "      <td>G.Vasiliev, S.Sarkisov, I.Popov</td>\n",
       "      <td>6+</td>\n",
       "      <td>80,000,000.0</td>\n",
       "      <td>40,000,000.0</td>\n",
       "      <td>270,000,000.0</td>\n",
       "      <td>Cinema Fund</td>\n",
       "      <td>7.5</td>\n",
       "      <td>cartoon, children's, adventure</td>\n",
       "      <td>387,590,521.7</td>\n",
       "    </tr>\n",
       "    <tr>\n",
       "      <th>7456</th>\n",
       "      <td>serf</td>\n",
       "      <td>111021719</td>\n",
       "      <td>2019-12-19</td>\n",
       "      <td>Art</td>\n",
       "      <td>LLC \"MEM-MEDIA\" by order of JSC \"WBD Group\"</td>\n",
       "      <td>Russia</td>\n",
       "      <td>K. Shipenko</td>\n",
       "      <td>E. Iloyan, D. Zhalinsky, V. Dusmukhametov, T. ...</td>\n",
       "      <td>12+</td>\n",
       "      <td>25,000,000.0</td>\n",
       "      <td>35,000,000.0</td>\n",
       "      <td>160,000,000.0</td>\n",
       "      <td>Cinema Fund</td>\n",
       "      <td>6.8</td>\n",
       "      <td>comedy</td>\n",
       "      <td>3,073,568,690.8</td>\n",
       "    </tr>\n",
       "    <tr>\n",
       "      <th>7464</th>\n",
       "      <td>Union of Salvation</td>\n",
       "      <td>111022019</td>\n",
       "      <td>2019-12-26</td>\n",
       "      <td>Art</td>\n",
       "      <td>CJSC Cinema Directorate</td>\n",
       "      <td>Russia</td>\n",
       "      <td>A.Kravchuk</td>\n",
       "      <td>A.Maximov, K.Ernst</td>\n",
       "      <td>12+</td>\n",
       "      <td>100,000,000.0</td>\n",
       "      <td>400,000,000.0</td>\n",
       "      <td>980,000,000.0</td>\n",
       "      <td>Cinema Fund</td>\n",
       "      <td>6.0</td>\n",
       "      <td>history, biography, drama</td>\n",
       "      <td>717,703,185.5</td>\n",
       "    </tr>\n",
       "    <tr>\n",
       "      <th>7466</th>\n",
       "      <td>Ivan Tsarevich and the Gray Wolf 4</td>\n",
       "      <td>114005019</td>\n",
       "      <td>2019-12-20</td>\n",
       "      <td>Animated</td>\n",
       "      <td>OOO \"Animation Film Studio \"Melnitsa\"</td>\n",
       "      <td>Russia</td>\n",
       "      <td>D. Schmidt, K. Feoktistov</td>\n",
       "      <td>S. Selyanov, A. Boyarsky</td>\n",
       "      <td>6+</td>\n",
       "      <td>100,000,000.0</td>\n",
       "      <td>0.0</td>\n",
       "      <td>190,000,000.0</td>\n",
       "      <td>Cinema Fund</td>\n",
       "      <td>6.7</td>\n",
       "      <td>cartoon, adventure, family</td>\n",
       "      <td>501,069,235.0</td>\n",
       "    </tr>\n",
       "  </tbody>\n",
       "</table>\n",
       "<p>738 rows × 16 columns</p>\n",
       "</div>"
      ],
      "text/plain": [
       "                                                  title   puNumber  \\\n",
       "1857                                   Shaun the sheep.  124000815   \n",
       "1865  The universe of Stephen Hawking /According to ...  121002415   \n",
       "1869                                   Women versus men  111002415   \n",
       "1870                   And the dawns here are quiet..._  111002915   \n",
       "1877  Sniper /Based on the book by Chris Kyle, Scott...  121003115   \n",
       "...                                                 ...        ...   \n",
       "7435                                Motherless Brooklyn  121036119   \n",
       "7453                               Fixies against crabs  114004819   \n",
       "7456                                               serf  111021719   \n",
       "7464                                 Union of Salvation  111022019   \n",
       "7466                 Ivan Tsarevich and the Gray Wolf 4  114005019   \n",
       "\n",
       "     show_start_date      type  \\\n",
       "1857      2015-02-17  Animated   \n",
       "1865      2015-02-11       Art   \n",
       "1869      2015-03-12       Art   \n",
       "1870      2015-03-16       Art   \n",
       "1877      2015-02-20       Art   \n",
       "...              ...       ...   \n",
       "7435      2019-12-05       Art   \n",
       "7453      2019-12-21  Animated   \n",
       "7456      2019-12-19       Art   \n",
       "7464      2019-12-26       Art   \n",
       "7466      2019-12-20  Animated   \n",
       "\n",
       "                                            film_studio production_country  \\\n",
       "1857  Ardman Animation, Anton Capital Entertainment,...        UK - France   \n",
       "1865                                Working Title Films      Great Britain   \n",
       "1869                                 OOO \"Enjoy Movies\"             Russia   \n",
       "1870                         LLC \"Company \"Real-Dakota\"             Russia   \n",
       "1877  Warner Bros., Village Roadshow Pictures, Mad C...                USA   \n",
       "...                                                 ...                ...   \n",
       "7435  Class 5 Films, MD Double You AM Studios, Warne...                USA   \n",
       "7453                                     JSC \"Airplane\"             Russia   \n",
       "7456        LLC \"MEM-MEDIA\" by order of JSC \"WBD Group\"             Russia   \n",
       "7464                            CJSC Cinema Directorate             Russia   \n",
       "7466              OOO \"Animation Film Studio \"Melnitsa\"             Russia   \n",
       "\n",
       "                                              director  \\\n",
       "1857                                       Mark Burton   \n",
       "1865                                       James Marsh   \n",
       "1869                          T.Mammadov, S.Andreasyan   \n",
       "1870                                    R. Davletyarov   \n",
       "1877                                    Clint Eastwood   \n",
       "...                                                ...   \n",
       "7435                                     Edward Norton   \n",
       "7453  V.Bedoshvili, O.Uzhinov, I.Pshonkin, D.Tsybulkin   \n",
       "7456                                       K. Shipenko   \n",
       "7464                                        A.Kravchuk   \n",
       "7466                         D. Schmidt, K. Feoktistov   \n",
       "\n",
       "                                               producer age_restriction  \\\n",
       "1857              Julie Lockhart, Peter Lord, Nick Park              6+   \n",
       "1865                              Tim Bevan, Lisa Bruce             16+   \n",
       "1869          G. Andreasyan, S. Andreasyan, V. Polyakov             18+   \n",
       "1870                                            no_info             12+   \n",
       "1877                 Clint Eastwood, Andrew Lazar, PJ A             18+   \n",
       "...                                                 ...             ...   \n",
       "7435  Michael Bederman, Bill Miglior, Edward Norton,...             18+   \n",
       "7453                    G.Vasiliev, S.Sarkisov, I.Popov              6+   \n",
       "7456  E. Iloyan, D. Zhalinsky, V. Dusmukhametov, T. ...             12+   \n",
       "7464                                 A.Maximov, K.Ernst             12+   \n",
       "7466                           S. Selyanov, A. Boyarsky              6+   \n",
       "\n",
       "      refundable_support  nonrefundable_support        budget  \\\n",
       "1857                 NaN                    NaN           NaN   \n",
       "1865                 NaN                    NaN           NaN   \n",
       "1869                 NaN                    NaN           NaN   \n",
       "1870        50,000,000.0          100,000,000.0 220,588,394.0   \n",
       "1877                 NaN                    NaN           NaN   \n",
       "...                  ...                    ...           ...   \n",
       "7435                 NaN                    NaN           NaN   \n",
       "7453        80,000,000.0           40,000,000.0 270,000,000.0   \n",
       "7456        25,000,000.0           35,000,000.0 160,000,000.0   \n",
       "7464       100,000,000.0          400,000,000.0 980,000,000.0   \n",
       "7466       100,000,000.0                    0.0 190,000,000.0   \n",
       "\n",
       "     financing_source  ratings                          genres      box_office  \n",
       "1857              NaN      7.4          cartoon,fantasy,comedy    57,395,723.1  \n",
       "1865              NaN      7.9     biography, melodrama, drama    39,229,270.6  \n",
       "1869              NaN      3.7                          comedy   126,148,703.6  \n",
       "1870      Cinema Fund      8.5        drama, military, history   249,166,767.7  \n",
       "1877              NaN      7.0              Action, Drama, War    44,279,440.2  \n",
       "...               ...      ...                             ...             ...  \n",
       "7435              NaN      7.0         drama, crime, detective    64,137,345.0  \n",
       "7453      Cinema Fund      7.5  cartoon, children's, adventure   387,590,521.7  \n",
       "7456      Cinema Fund      6.8                          comedy 3,073,568,690.8  \n",
       "7464      Cinema Fund      6.0       history, biography, drama   717,703,185.5  \n",
       "7466      Cinema Fund      6.7      cartoon, adventure, family   501,069,235.0  \n",
       "\n",
       "[738 rows x 16 columns]"
      ]
     },
     "execution_count": 33,
     "metadata": {},
     "output_type": "execute_result"
    }
   ],
   "source": [
    "df.query('box_office > 30000000')"
   ]
  },
  {
   "cell_type": "markdown",
   "metadata": {},
   "source": [
    "That makes sens, in the first quintile there are old and little-known films, in the last - modern and popular ones. Apparently, there are rental market rules and categories of films that are unknown to us, it is safer to leave the data as it is and continue to analyze this indicator further."
   ]
  },
  {
   "cell_type": "markdown",
   "metadata": {
    "id": "Eu6oWp2CgFyS"
   },
   "source": [
    "### New columns"
   ]
  },
  {
   "cell_type": "markdown",
   "metadata": {},
   "source": [
    "Adding a column with the year"
   ]
  },
  {
   "cell_type": "code",
   "execution_count": 34,
   "metadata": {
    "id": "I-yd1DkWgFyT"
   },
   "outputs": [
    {
     "data": {
      "text/html": [
       "<div>\n",
       "<style scoped>\n",
       "    .dataframe tbody tr th:only-of-type {\n",
       "        vertical-align: middle;\n",
       "    }\n",
       "\n",
       "    .dataframe tbody tr th {\n",
       "        vertical-align: top;\n",
       "    }\n",
       "\n",
       "    .dataframe thead th {\n",
       "        text-align: right;\n",
       "    }\n",
       "</style>\n",
       "<table border=\"1\" class=\"dataframe\">\n",
       "  <thead>\n",
       "    <tr style=\"text-align: right;\">\n",
       "      <th></th>\n",
       "      <th>title</th>\n",
       "      <th>puNumber</th>\n",
       "      <th>show_start_date</th>\n",
       "      <th>type</th>\n",
       "      <th>film_studio</th>\n",
       "      <th>production_country</th>\n",
       "      <th>director</th>\n",
       "      <th>producer</th>\n",
       "      <th>age_restriction</th>\n",
       "      <th>refundable_support</th>\n",
       "      <th>nonrefundable_support</th>\n",
       "      <th>budget</th>\n",
       "      <th>financing_source</th>\n",
       "      <th>ratings</th>\n",
       "      <th>genres</th>\n",
       "      <th>box_office</th>\n",
       "      <th>year</th>\n",
       "    </tr>\n",
       "  </thead>\n",
       "  <tbody>\n",
       "    <tr>\n",
       "      <th>0</th>\n",
       "      <td>open space</td>\n",
       "      <td>221048915</td>\n",
       "      <td>2015-11-27</td>\n",
       "      <td>Art</td>\n",
       "      <td>Touchstone Pictures, Cobalt Pictures, Beacon P...</td>\n",
       "      <td>USA</td>\n",
       "      <td>Kevin Costner</td>\n",
       "      <td>David Valdes, Kevin Costner, Jake Eberts</td>\n",
       "      <td>18+</td>\n",
       "      <td>NaN</td>\n",
       "      <td>NaN</td>\n",
       "      <td>NaN</td>\n",
       "      <td>NaN</td>\n",
       "      <td>7.2</td>\n",
       "      <td>Action, Drama, Melodrama</td>\n",
       "      <td>NaN</td>\n",
       "      <td>2015</td>\n",
       "    </tr>\n",
       "    <tr>\n",
       "      <th>1</th>\n",
       "      <td>A very important task</td>\n",
       "      <td>111013716</td>\n",
       "      <td>2016-09-13</td>\n",
       "      <td>Art</td>\n",
       "      <td>Film studio \"Mosfilm\"</td>\n",
       "      <td>USSR</td>\n",
       "      <td>E.Matveev</td>\n",
       "      <td>no_info</td>\n",
       "      <td>6+</td>\n",
       "      <td>NaN</td>\n",
       "      <td>NaN</td>\n",
       "      <td>NaN</td>\n",
       "      <td>NaN</td>\n",
       "      <td>6.6</td>\n",
       "      <td>drama, military</td>\n",
       "      <td>NaN</td>\n",
       "      <td>2016</td>\n",
       "    </tr>\n",
       "    <tr>\n",
       "      <th>2</th>\n",
       "      <td>Extremely dangerous</td>\n",
       "      <td>221038416</td>\n",
       "      <td>2016-10-10</td>\n",
       "      <td>Art</td>\n",
       "      <td>Universal Pictures, Kickstart Productions, Mar...</td>\n",
       "      <td>USA</td>\n",
       "      <td>Timur Bekmambetov</td>\n",
       "      <td>Jim Lemley, Jason Noether, Mark E. Platt, Iain...</td>\n",
       "      <td>18+</td>\n",
       "      <td>NaN</td>\n",
       "      <td>NaN</td>\n",
       "      <td>NaN</td>\n",
       "      <td>NaN</td>\n",
       "      <td>6.8</td>\n",
       "      <td>fantasy, action, thriller</td>\n",
       "      <td>NaN</td>\n",
       "      <td>2016</td>\n",
       "    </tr>\n",
       "    <tr>\n",
       "      <th>3</th>\n",
       "      <td>Extremely dangerous</td>\n",
       "      <td>221026916</td>\n",
       "      <td>2016-06-10</td>\n",
       "      <td>Art</td>\n",
       "      <td>Universal Pictures, Kickstart Productions, Mar...</td>\n",
       "      <td>USA</td>\n",
       "      <td>Timur Bekmambetov</td>\n",
       "      <td>Jim Lemley, Jason Noether, Mark E. Platt, Iain...</td>\n",
       "      <td>18+</td>\n",
       "      <td>NaN</td>\n",
       "      <td>NaN</td>\n",
       "      <td>NaN</td>\n",
       "      <td>NaN</td>\n",
       "      <td>6.8</td>\n",
       "      <td>fantasy, action, thriller</td>\n",
       "      <td>NaN</td>\n",
       "      <td>2016</td>\n",
       "    </tr>\n",
       "    <tr>\n",
       "      <th>4</th>\n",
       "      <td>Extremely dangerous</td>\n",
       "      <td>221030815</td>\n",
       "      <td>2015-07-29</td>\n",
       "      <td>Art</td>\n",
       "      <td>Universal Pictures, Kickstart Productions, Mar...</td>\n",
       "      <td>USA</td>\n",
       "      <td>Timur Bekmambetov</td>\n",
       "      <td>Jim Lemley, Jason Noether, Mark E. Platt, Iain...</td>\n",
       "      <td>18+</td>\n",
       "      <td>NaN</td>\n",
       "      <td>NaN</td>\n",
       "      <td>NaN</td>\n",
       "      <td>NaN</td>\n",
       "      <td>6.8</td>\n",
       "      <td>fantasy, action, thriller</td>\n",
       "      <td>NaN</td>\n",
       "      <td>2015</td>\n",
       "    </tr>\n",
       "  </tbody>\n",
       "</table>\n",
       "</div>"
      ],
      "text/plain": [
       "                   title   puNumber show_start_date type  \\\n",
       "0             open space  221048915      2015-11-27  Art   \n",
       "1  A very important task  111013716      2016-09-13  Art   \n",
       "2    Extremely dangerous  221038416      2016-10-10  Art   \n",
       "3    Extremely dangerous  221026916      2016-06-10  Art   \n",
       "4    Extremely dangerous  221030815      2015-07-29  Art   \n",
       "\n",
       "                                         film_studio production_country  \\\n",
       "0  Touchstone Pictures, Cobalt Pictures, Beacon P...                USA   \n",
       "1                              Film studio \"Mosfilm\"               USSR   \n",
       "2  Universal Pictures, Kickstart Productions, Mar...                USA   \n",
       "3  Universal Pictures, Kickstart Productions, Mar...                USA   \n",
       "4  Universal Pictures, Kickstart Productions, Mar...                USA   \n",
       "\n",
       "            director                                           producer  \\\n",
       "0      Kevin Costner           David Valdes, Kevin Costner, Jake Eberts   \n",
       "1          E.Matveev                                            no_info   \n",
       "2  Timur Bekmambetov  Jim Lemley, Jason Noether, Mark E. Platt, Iain...   \n",
       "3  Timur Bekmambetov  Jim Lemley, Jason Noether, Mark E. Platt, Iain...   \n",
       "4  Timur Bekmambetov  Jim Lemley, Jason Noether, Mark E. Platt, Iain...   \n",
       "\n",
       "  age_restriction  refundable_support  nonrefundable_support  budget  \\\n",
       "0             18+                 NaN                    NaN     NaN   \n",
       "1              6+                 NaN                    NaN     NaN   \n",
       "2             18+                 NaN                    NaN     NaN   \n",
       "3             18+                 NaN                    NaN     NaN   \n",
       "4             18+                 NaN                    NaN     NaN   \n",
       "\n",
       "  financing_source  ratings                     genres  box_office  year  \n",
       "0              NaN      7.2   Action, Drama, Melodrama         NaN  2015  \n",
       "1              NaN      6.6            drama, military         NaN  2016  \n",
       "2              NaN      6.8  fantasy, action, thriller         NaN  2016  \n",
       "3              NaN      6.8  fantasy, action, thriller         NaN  2016  \n",
       "4              NaN      6.8  fantasy, action, thriller         NaN  2015  "
      ]
     },
     "execution_count": 34,
     "metadata": {},
     "output_type": "execute_result"
    }
   ],
   "source": [
    "df['year'] = df['show_start_date'].dt.year\n",
    "df.head(5)"
   ]
  },
  {
   "cell_type": "markdown",
   "metadata": {},
   "source": [
    "Adding columns with main genre and director"
   ]
  },
  {
   "cell_type": "code",
   "execution_count": 35,
   "metadata": {},
   "outputs": [
    {
     "data": {
      "text/html": [
       "<div>\n",
       "<style scoped>\n",
       "    .dataframe tbody tr th:only-of-type {\n",
       "        vertical-align: middle;\n",
       "    }\n",
       "\n",
       "    .dataframe tbody tr th {\n",
       "        vertical-align: top;\n",
       "    }\n",
       "\n",
       "    .dataframe thead th {\n",
       "        text-align: right;\n",
       "    }\n",
       "</style>\n",
       "<table border=\"1\" class=\"dataframe\">\n",
       "  <thead>\n",
       "    <tr style=\"text-align: right;\">\n",
       "      <th></th>\n",
       "      <th>title</th>\n",
       "      <th>puNumber</th>\n",
       "      <th>show_start_date</th>\n",
       "      <th>type</th>\n",
       "      <th>film_studio</th>\n",
       "      <th>production_country</th>\n",
       "      <th>director</th>\n",
       "      <th>producer</th>\n",
       "      <th>age_restriction</th>\n",
       "      <th>refundable_support</th>\n",
       "      <th>nonrefundable_support</th>\n",
       "      <th>budget</th>\n",
       "      <th>financing_source</th>\n",
       "      <th>ratings</th>\n",
       "      <th>genres</th>\n",
       "      <th>box_office</th>\n",
       "      <th>year</th>\n",
       "      <th>main_genre</th>\n",
       "      <th>main_director</th>\n",
       "    </tr>\n",
       "  </thead>\n",
       "  <tbody>\n",
       "    <tr>\n",
       "      <th>0</th>\n",
       "      <td>open space</td>\n",
       "      <td>221048915</td>\n",
       "      <td>2015-11-27</td>\n",
       "      <td>Art</td>\n",
       "      <td>Touchstone Pictures, Cobalt Pictures, Beacon P...</td>\n",
       "      <td>USA</td>\n",
       "      <td>Kevin Costner</td>\n",
       "      <td>David Valdes, Kevin Costner, Jake Eberts</td>\n",
       "      <td>18+</td>\n",
       "      <td>NaN</td>\n",
       "      <td>NaN</td>\n",
       "      <td>NaN</td>\n",
       "      <td>NaN</td>\n",
       "      <td>7.2</td>\n",
       "      <td>Action, Drama, Melodrama</td>\n",
       "      <td>NaN</td>\n",
       "      <td>2015</td>\n",
       "      <td>Action</td>\n",
       "      <td>Kevin Costner</td>\n",
       "    </tr>\n",
       "    <tr>\n",
       "      <th>1</th>\n",
       "      <td>A very important task</td>\n",
       "      <td>111013716</td>\n",
       "      <td>2016-09-13</td>\n",
       "      <td>Art</td>\n",
       "      <td>Film studio \"Mosfilm\"</td>\n",
       "      <td>USSR</td>\n",
       "      <td>E.Matveev</td>\n",
       "      <td>no_info</td>\n",
       "      <td>6+</td>\n",
       "      <td>NaN</td>\n",
       "      <td>NaN</td>\n",
       "      <td>NaN</td>\n",
       "      <td>NaN</td>\n",
       "      <td>6.6</td>\n",
       "      <td>drama, military</td>\n",
       "      <td>NaN</td>\n",
       "      <td>2016</td>\n",
       "      <td>drama</td>\n",
       "      <td>E.Matveev</td>\n",
       "    </tr>\n",
       "    <tr>\n",
       "      <th>2</th>\n",
       "      <td>Extremely dangerous</td>\n",
       "      <td>221038416</td>\n",
       "      <td>2016-10-10</td>\n",
       "      <td>Art</td>\n",
       "      <td>Universal Pictures, Kickstart Productions, Mar...</td>\n",
       "      <td>USA</td>\n",
       "      <td>Timur Bekmambetov</td>\n",
       "      <td>Jim Lemley, Jason Noether, Mark E. Platt, Iain...</td>\n",
       "      <td>18+</td>\n",
       "      <td>NaN</td>\n",
       "      <td>NaN</td>\n",
       "      <td>NaN</td>\n",
       "      <td>NaN</td>\n",
       "      <td>6.8</td>\n",
       "      <td>fantasy, action, thriller</td>\n",
       "      <td>NaN</td>\n",
       "      <td>2016</td>\n",
       "      <td>fantasy</td>\n",
       "      <td>Timur Bekmambetov</td>\n",
       "    </tr>\n",
       "    <tr>\n",
       "      <th>3</th>\n",
       "      <td>Extremely dangerous</td>\n",
       "      <td>221026916</td>\n",
       "      <td>2016-06-10</td>\n",
       "      <td>Art</td>\n",
       "      <td>Universal Pictures, Kickstart Productions, Mar...</td>\n",
       "      <td>USA</td>\n",
       "      <td>Timur Bekmambetov</td>\n",
       "      <td>Jim Lemley, Jason Noether, Mark E. Platt, Iain...</td>\n",
       "      <td>18+</td>\n",
       "      <td>NaN</td>\n",
       "      <td>NaN</td>\n",
       "      <td>NaN</td>\n",
       "      <td>NaN</td>\n",
       "      <td>6.8</td>\n",
       "      <td>fantasy, action, thriller</td>\n",
       "      <td>NaN</td>\n",
       "      <td>2016</td>\n",
       "      <td>fantasy</td>\n",
       "      <td>Timur Bekmambetov</td>\n",
       "    </tr>\n",
       "    <tr>\n",
       "      <th>4</th>\n",
       "      <td>Extremely dangerous</td>\n",
       "      <td>221030815</td>\n",
       "      <td>2015-07-29</td>\n",
       "      <td>Art</td>\n",
       "      <td>Universal Pictures, Kickstart Productions, Mar...</td>\n",
       "      <td>USA</td>\n",
       "      <td>Timur Bekmambetov</td>\n",
       "      <td>Jim Lemley, Jason Noether, Mark E. Platt, Iain...</td>\n",
       "      <td>18+</td>\n",
       "      <td>NaN</td>\n",
       "      <td>NaN</td>\n",
       "      <td>NaN</td>\n",
       "      <td>NaN</td>\n",
       "      <td>6.8</td>\n",
       "      <td>fantasy, action, thriller</td>\n",
       "      <td>NaN</td>\n",
       "      <td>2015</td>\n",
       "      <td>fantasy</td>\n",
       "      <td>Timur Bekmambetov</td>\n",
       "    </tr>\n",
       "  </tbody>\n",
       "</table>\n",
       "</div>"
      ],
      "text/plain": [
       "                   title   puNumber show_start_date type  \\\n",
       "0             open space  221048915      2015-11-27  Art   \n",
       "1  A very important task  111013716      2016-09-13  Art   \n",
       "2    Extremely dangerous  221038416      2016-10-10  Art   \n",
       "3    Extremely dangerous  221026916      2016-06-10  Art   \n",
       "4    Extremely dangerous  221030815      2015-07-29  Art   \n",
       "\n",
       "                                         film_studio production_country  \\\n",
       "0  Touchstone Pictures, Cobalt Pictures, Beacon P...                USA   \n",
       "1                              Film studio \"Mosfilm\"               USSR   \n",
       "2  Universal Pictures, Kickstart Productions, Mar...                USA   \n",
       "3  Universal Pictures, Kickstart Productions, Mar...                USA   \n",
       "4  Universal Pictures, Kickstart Productions, Mar...                USA   \n",
       "\n",
       "            director                                           producer  \\\n",
       "0      Kevin Costner           David Valdes, Kevin Costner, Jake Eberts   \n",
       "1          E.Matveev                                            no_info   \n",
       "2  Timur Bekmambetov  Jim Lemley, Jason Noether, Mark E. Platt, Iain...   \n",
       "3  Timur Bekmambetov  Jim Lemley, Jason Noether, Mark E. Platt, Iain...   \n",
       "4  Timur Bekmambetov  Jim Lemley, Jason Noether, Mark E. Platt, Iain...   \n",
       "\n",
       "  age_restriction  refundable_support  nonrefundable_support  budget  \\\n",
       "0             18+                 NaN                    NaN     NaN   \n",
       "1              6+                 NaN                    NaN     NaN   \n",
       "2             18+                 NaN                    NaN     NaN   \n",
       "3             18+                 NaN                    NaN     NaN   \n",
       "4             18+                 NaN                    NaN     NaN   \n",
       "\n",
       "  financing_source  ratings                     genres  box_office  year  \\\n",
       "0              NaN      7.2   Action, Drama, Melodrama         NaN  2015   \n",
       "1              NaN      6.6            drama, military         NaN  2016   \n",
       "2              NaN      6.8  fantasy, action, thriller         NaN  2016   \n",
       "3              NaN      6.8  fantasy, action, thriller         NaN  2016   \n",
       "4              NaN      6.8  fantasy, action, thriller         NaN  2015   \n",
       "\n",
       "  main_genre      main_director  \n",
       "0     Action      Kevin Costner  \n",
       "1      drama          E.Matveev  \n",
       "2    fantasy  Timur Bekmambetov  \n",
       "3    fantasy  Timur Bekmambetov  \n",
       "4    fantasy  Timur Bekmambetov  "
      ]
     },
     "execution_count": 35,
     "metadata": {},
     "output_type": "execute_result"
    }
   ],
   "source": [
    "df['main_genre'] = df['genres'].apply(lambda x: x.split(r',')[0])\n",
    "df['main_director'] = df['director'].apply(lambda x: x.split(r',')[0])\n",
    "df.head(5)"
   ]
  },
  {
   "cell_type": "markdown",
   "metadata": {
    "id": "1FsCXHwdgFyU"
   },
   "source": [
    "Let's calculate government support share of total film budget."
   ]
  },
  {
   "cell_type": "code",
   "execution_count": 36,
   "metadata": {
    "id": "LV6qFuZLgFyV"
   },
   "outputs": [
    {
     "data": {
      "text/html": [
       "<div>\n",
       "<style scoped>\n",
       "    .dataframe tbody tr th:only-of-type {\n",
       "        vertical-align: middle;\n",
       "    }\n",
       "\n",
       "    .dataframe tbody tr th {\n",
       "        vertical-align: top;\n",
       "    }\n",
       "\n",
       "    .dataframe thead th {\n",
       "        text-align: right;\n",
       "    }\n",
       "</style>\n",
       "<table border=\"1\" class=\"dataframe\">\n",
       "  <thead>\n",
       "    <tr style=\"text-align: right;\">\n",
       "      <th></th>\n",
       "      <th>title</th>\n",
       "      <th>puNumber</th>\n",
       "      <th>show_start_date</th>\n",
       "      <th>type</th>\n",
       "      <th>film_studio</th>\n",
       "      <th>production_country</th>\n",
       "      <th>director</th>\n",
       "      <th>producer</th>\n",
       "      <th>age_restriction</th>\n",
       "      <th>refundable_support</th>\n",
       "      <th>nonrefundable_support</th>\n",
       "      <th>budget</th>\n",
       "      <th>financing_source</th>\n",
       "      <th>ratings</th>\n",
       "      <th>genres</th>\n",
       "      <th>box_office</th>\n",
       "      <th>year</th>\n",
       "      <th>main_genre</th>\n",
       "      <th>main_director</th>\n",
       "      <th>support_ratio</th>\n",
       "    </tr>\n",
       "  </thead>\n",
       "  <tbody>\n",
       "    <tr>\n",
       "      <th>1281</th>\n",
       "      <td>While still alive</td>\n",
       "      <td>111005313</td>\n",
       "      <td>2013-10-11</td>\n",
       "      <td>Art</td>\n",
       "      <td>ANO promoting the development of cinematograph...</td>\n",
       "      <td>Russia</td>\n",
       "      <td>A. Atanesyan</td>\n",
       "      <td>A.Atanesyan, M.Babakhanov, R.Butko</td>\n",
       "      <td>16+</td>\n",
       "      <td>0.0</td>\n",
       "      <td>26,500,000.0</td>\n",
       "      <td>79,411,900.0</td>\n",
       "      <td>Ministry of Culture</td>\n",
       "      <td>8.1</td>\n",
       "      <td>drama, melodrama</td>\n",
       "      <td>365,353.6</td>\n",
       "      <td>2013</td>\n",
       "      <td>drama</td>\n",
       "      <td>A. Atanesyan</td>\n",
       "      <td>33.4</td>\n",
       "    </tr>\n",
       "    <tr>\n",
       "      <th>1448</th>\n",
       "      <td>Inglourious assholes</td>\n",
       "      <td>111003314</td>\n",
       "      <td>2014-03-28</td>\n",
       "      <td>Art</td>\n",
       "      <td>OOO \"Company\" ATK-Studio \"</td>\n",
       "      <td>Russia</td>\n",
       "      <td>A.Yakimchuk</td>\n",
       "      <td>A. Tyutryumov</td>\n",
       "      <td>12+</td>\n",
       "      <td>0.0</td>\n",
       "      <td>26,000,000.0</td>\n",
       "      <td>37,142,857.0</td>\n",
       "      <td>Ministry of Culture</td>\n",
       "      <td>NaN</td>\n",
       "      <td>no_info</td>\n",
       "      <td>28,140.0</td>\n",
       "      <td>2014</td>\n",
       "      <td>no_info</td>\n",
       "      <td>A.Yakimchuk</td>\n",
       "      <td>70.0</td>\n",
       "    </tr>\n",
       "    <tr>\n",
       "      <th>1498</th>\n",
       "      <td>Invisibles</td>\n",
       "      <td>111004213</td>\n",
       "      <td>2013-09-10</td>\n",
       "      <td>Art</td>\n",
       "      <td>LLC \"Company \"REAL-DAKOTA\"</td>\n",
       "      <td>Russia</td>\n",
       "      <td>R.Davletyarov, S.Komarov</td>\n",
       "      <td>R.Davletyarov, A.Kotelevsky, A.Oleynikov</td>\n",
       "      <td>12+</td>\n",
       "      <td>0.0</td>\n",
       "      <td>107,847,945.0</td>\n",
       "      <td>176,023,490.0</td>\n",
       "      <td>Cinema Fund</td>\n",
       "      <td>5.3</td>\n",
       "      <td>comedy, fantasy</td>\n",
       "      <td>19,957,031.5</td>\n",
       "      <td>2013</td>\n",
       "      <td>comedy</td>\n",
       "      <td>R.Davletyarov</td>\n",
       "      <td>61.3</td>\n",
       "    </tr>\n",
       "    <tr>\n",
       "      <th>1524</th>\n",
       "      <td>BELTS</td>\n",
       "      <td>111004314</td>\n",
       "      <td>2014-05-05</td>\n",
       "      <td>Art</td>\n",
       "      <td>OOO \"Studio \"Passenger\"</td>\n",
       "      <td>Russia</td>\n",
       "      <td>E. Mindadze (pseudonym Katya Shagalova)</td>\n",
       "      <td>L.Antonova</td>\n",
       "      <td>16+</td>\n",
       "      <td>0.0</td>\n",
       "      <td>28,000,000.0</td>\n",
       "      <td>40,574,140.0</td>\n",
       "      <td>Ministry of Culture</td>\n",
       "      <td>4.2</td>\n",
       "      <td>drama</td>\n",
       "      <td>55,917.5</td>\n",
       "      <td>2014</td>\n",
       "      <td>drama</td>\n",
       "      <td>E. Mindadze (pseudonym Katya Shagalova)</td>\n",
       "      <td>69.0</td>\n",
       "    </tr>\n",
       "    <tr>\n",
       "      <th>1792</th>\n",
       "      <td>Brothers Ch</td>\n",
       "      <td>111004414</td>\n",
       "      <td>2014-04-23</td>\n",
       "      <td>Art</td>\n",
       "      <td>OOO \"Studio \"Passenger\"</td>\n",
       "      <td>Russia</td>\n",
       "      <td>M.Ugarov</td>\n",
       "      <td>A.Mindadze, L.Antonova</td>\n",
       "      <td>16+</td>\n",
       "      <td>0.0</td>\n",
       "      <td>25,000,000.0</td>\n",
       "      <td>40,015,122.0</td>\n",
       "      <td>Ministry of Culture</td>\n",
       "      <td>6.4</td>\n",
       "      <td>drama</td>\n",
       "      <td>232,100.0</td>\n",
       "      <td>2014</td>\n",
       "      <td>drama</td>\n",
       "      <td>M.Ugarov</td>\n",
       "      <td>62.5</td>\n",
       "    </tr>\n",
       "  </tbody>\n",
       "</table>\n",
       "</div>"
      ],
      "text/plain": [
       "                     title   puNumber show_start_date type  \\\n",
       "1281     While still alive  111005313      2013-10-11  Art   \n",
       "1448  Inglourious assholes  111003314      2014-03-28  Art   \n",
       "1498            Invisibles  111004213      2013-09-10  Art   \n",
       "1524                 BELTS  111004314      2014-05-05  Art   \n",
       "1792           Brothers Ch  111004414      2014-04-23  Art   \n",
       "\n",
       "                                            film_studio production_country  \\\n",
       "1281  ANO promoting the development of cinematograph...             Russia   \n",
       "1448                         OOO \"Company\" ATK-Studio \"             Russia   \n",
       "1498                         LLC \"Company \"REAL-DAKOTA\"             Russia   \n",
       "1524                            OOO \"Studio \"Passenger\"             Russia   \n",
       "1792                            OOO \"Studio \"Passenger\"             Russia   \n",
       "\n",
       "                                     director  \\\n",
       "1281                             A. Atanesyan   \n",
       "1448                              A.Yakimchuk   \n",
       "1498                 R.Davletyarov, S.Komarov   \n",
       "1524  E. Mindadze (pseudonym Katya Shagalova)   \n",
       "1792                                 M.Ugarov   \n",
       "\n",
       "                                      producer age_restriction  \\\n",
       "1281        A.Atanesyan, M.Babakhanov, R.Butko             16+   \n",
       "1448                             A. Tyutryumov             12+   \n",
       "1498  R.Davletyarov, A.Kotelevsky, A.Oleynikov             12+   \n",
       "1524                                L.Antonova             16+   \n",
       "1792                    A.Mindadze, L.Antonova             16+   \n",
       "\n",
       "      refundable_support  nonrefundable_support        budget  \\\n",
       "1281                 0.0           26,500,000.0  79,411,900.0   \n",
       "1448                 0.0           26,000,000.0  37,142,857.0   \n",
       "1498                 0.0          107,847,945.0 176,023,490.0   \n",
       "1524                 0.0           28,000,000.0  40,574,140.0   \n",
       "1792                 0.0           25,000,000.0  40,015,122.0   \n",
       "\n",
       "         financing_source  ratings            genres   box_office  year  \\\n",
       "1281  Ministry of Culture      8.1  drama, melodrama    365,353.6  2013   \n",
       "1448  Ministry of Culture      NaN           no_info     28,140.0  2014   \n",
       "1498          Cinema Fund      5.3   comedy, fantasy 19,957,031.5  2013   \n",
       "1524  Ministry of Culture      4.2             drama     55,917.5  2014   \n",
       "1792  Ministry of Culture      6.4             drama    232,100.0  2014   \n",
       "\n",
       "     main_genre                            main_director  support_ratio  \n",
       "1281      drama                             A. Atanesyan           33.4  \n",
       "1448    no_info                              A.Yakimchuk           70.0  \n",
       "1498     comedy                            R.Davletyarov           61.3  \n",
       "1524      drama  E. Mindadze (pseudonym Katya Shagalova)           69.0  \n",
       "1792      drama                                 M.Ugarov           62.5  "
      ]
     },
     "execution_count": 36,
     "metadata": {},
     "output_type": "execute_result"
    }
   ],
   "source": [
    "df['support_ratio'] = (df['refundable_support'] + df['nonrefundable_support']) / df['budget'] * 100\n",
    "df['support_ratio'] = df['support_ratio'].round(1)\n",
    "df[df['budget'].notna()].head(5)"
   ]
  },
  {
   "cell_type": "markdown",
   "metadata": {},
   "source": [
    "### Conclusion"
   ]
  },
  {
   "cell_type": "markdown",
   "metadata": {},
   "source": [
    "- Changed data type to `datetime` in `show_start_date` column\n",
    "- Weird data with percentages in the `ratings` column was found. Decided to delete values ​​without deleting rows\n",
    "- Replaced gaps in `film_studio` `production_country` `director producer` `genres` columns with `no_info`. Gaps in quantitative columns are left by `NaN` values\n",
    "- The `title` column has duplicates due to the fact that one movie can have multiple distribution licenses. Decided to consider this column categorical\n",
    "- The `puNumber` column is treated as a column with a unique rental identifier. Removed two duplicates.\n",
    "- In the `age_restriction` column, the data has been replaced with a shortened version\n",
    "- Removed spaces in `type` column in category names\n",
    "- In the `budget` column, zero values ​​are replaced by the sum of the value from the government support columns\n",
    "- Strange values ​​found in `box_office` column. It was not possible to find the reasons for this behavior of the data, it was decided to continue the analysis in Step 3\n",
    "- Added `year` column - with the year the rental started\n",
    "- Added `main_director` column - with the first director's first and last names\n",
    "- Added `main_genre` column - with first movie genre title\n",
    "- Added column `support_ratio` - the share of state support in the total budget of the film"
   ]
  },
  {
   "cell_type": "markdown",
   "metadata": {
    "id": "6t4EukPLgFyV"
   },
   "source": [
    "## Exploratory data analysis"
   ]
  },
  {
   "cell_type": "markdown",
   "metadata": {
    "id": "vAH8WCzugFyV"
   },
   "source": [
    "### Number of films and data quality"
   ]
  },
  {
   "cell_type": "markdown",
   "metadata": {},
   "source": [
    "We need to look at how many films were released each year. Release data is not available for all films. It is also necessary to calculate the proportion of films with the specified rental information\n",
    "\n",
    "Let's complete the task by building a bar plot"
   ]
  },
  {
   "cell_type": "code",
   "execution_count": 37,
   "metadata": {},
   "outputs": [
    {
     "data": {
      "image/png": "[encoded data removed]",
      "text/plain": [
       "<Figure size 720x360 with 1 Axes>"
      ]
     },
     "metadata": {
      "needs_background": "light"
     },
     "output_type": "display_data"
    }
   ],
   "source": [
    "warnings.filterwarnings(action='ignore', category=FutureWarning)\n",
    "\n",
    "df_for_barplot = df[['year', 'film_studio', 'production_country', 'director', 'producer', 'ratings', 'genres', 'box_office']].copy()\n",
    "\n",
    "df_for_barplot['check'] = df_for_barplot.apply(lambda x: x.isna() if x.dtype == 'float64' else x == 'no_info').sum(axis = 1)\n",
    "\n",
    "df_for_barplot.loc[df_for_barplot.check == 0, 'good_info'] = 1\n",
    "df_for_barplot.loc[df_for_barplot.check > 0, 'bad_info'] = 1\n",
    "\n",
    "df_for_barplot.pivot_table(index = 'year', values = ['good_info', 'bad_info'], aggfunc = 'sum').plot.bar(stacked=True, figsize = (10, 5), title =  'The number of rental certificates by year, divided by the number of complete and incomplete rental data')\n",
    "plt.show()"
   ]
  },
  {
   "cell_type": "markdown",
   "metadata": {},
   "source": [
    "- Most rental certificates were issued in 2010, the least in 2017\n",
    "- Since 2014, a leap in the quality of film data is obvious, more than half of the rentals in the range from 2015 to 2019 have complete data, until 2015 this figure is less than 25%"
   ]
  },
  {
   "cell_type": "markdown",
   "metadata": {},
   "source": [
    "It is require to calculate how many films were released each year, let's do it. Since the absence of data does not mean that the film has not been released, the number of lines for each year can be counted."
   ]
  },
  {
   "cell_type": "code",
   "execution_count": 38,
   "metadata": {},
   "outputs": [
    {
     "data": {
      "text/html": [
       "<div>\n",
       "<style scoped>\n",
       "    .dataframe tbody tr th:only-of-type {\n",
       "        vertical-align: middle;\n",
       "    }\n",
       "\n",
       "    .dataframe tbody tr th {\n",
       "        vertical-align: top;\n",
       "    }\n",
       "\n",
       "    .dataframe thead th {\n",
       "        text-align: right;\n",
       "    }\n",
       "</style>\n",
       "<table border=\"1\" class=\"dataframe\">\n",
       "  <thead>\n",
       "    <tr style=\"text-align: right;\">\n",
       "      <th>year</th>\n",
       "      <th>2010</th>\n",
       "      <th>2011</th>\n",
       "      <th>2012</th>\n",
       "      <th>2013</th>\n",
       "      <th>2014</th>\n",
       "      <th>2015</th>\n",
       "      <th>2016</th>\n",
       "      <th>2017</th>\n",
       "      <th>2018</th>\n",
       "      <th>2019</th>\n",
       "    </tr>\n",
       "  </thead>\n",
       "  <tbody>\n",
       "    <tr>\n",
       "      <th>title</th>\n",
       "      <td>983</td>\n",
       "      <td>622</td>\n",
       "      <td>593</td>\n",
       "      <td>630</td>\n",
       "      <td>807</td>\n",
       "      <td>705</td>\n",
       "      <td>818</td>\n",
       "      <td>505</td>\n",
       "      <td>891</td>\n",
       "      <td>930</td>\n",
       "    </tr>\n",
       "  </tbody>\n",
       "</table>\n",
       "</div>"
      ],
      "text/plain": [
       "year   2010  2011  2012  2013  2014  2015  2016  2017  2018  2019\n",
       "title   983   622   593   630   807   705   818   505   891   930"
      ]
     },
     "execution_count": 38,
     "metadata": {},
     "output_type": "execute_result"
    }
   ],
   "source": [
    "df.pivot_table(index = 'year', values = 'title', aggfunc = 'count').T"
   ]
  },
  {
   "cell_type": "markdown",
   "metadata": {},
   "source": [
    "We also need to calculate how many films had box office for each year, for this we will count the number of rows by year, where the `box_office` indicator is more than 0"
   ]
  },
  {
   "cell_type": "code",
   "execution_count": 39,
   "metadata": {},
   "outputs": [
    {
     "data": {
      "text/html": [
       "<div>\n",
       "<style scoped>\n",
       "    .dataframe tbody tr th:only-of-type {\n",
       "        vertical-align: middle;\n",
       "    }\n",
       "\n",
       "    .dataframe tbody tr th {\n",
       "        vertical-align: top;\n",
       "    }\n",
       "\n",
       "    .dataframe thead th {\n",
       "        text-align: right;\n",
       "    }\n",
       "</style>\n",
       "<table border=\"1\" class=\"dataframe\">\n",
       "  <thead>\n",
       "    <tr style=\"text-align: right;\">\n",
       "      <th>year</th>\n",
       "      <th>2010</th>\n",
       "      <th>2011</th>\n",
       "      <th>2012</th>\n",
       "      <th>2013</th>\n",
       "      <th>2014</th>\n",
       "      <th>2015</th>\n",
       "      <th>2016</th>\n",
       "      <th>2017</th>\n",
       "      <th>2018</th>\n",
       "      <th>2019</th>\n",
       "    </tr>\n",
       "  </thead>\n",
       "  <tbody>\n",
       "    <tr>\n",
       "      <th>title</th>\n",
       "      <td>101</td>\n",
       "      <td>109</td>\n",
       "      <td>123</td>\n",
       "      <td>179</td>\n",
       "      <td>273</td>\n",
       "      <td>462</td>\n",
       "      <td>525</td>\n",
       "      <td>357</td>\n",
       "      <td>475</td>\n",
       "      <td>530</td>\n",
       "    </tr>\n",
       "  </tbody>\n",
       "</table>\n",
       "</div>"
      ],
      "text/plain": [
       "year   2010  2011  2012  2013  2014  2015  2016  2017  2018  2019\n",
       "title   101   109   123   179   273   462   525   357   475   530"
      ]
     },
     "metadata": {},
     "output_type": "display_data"
    },
    {
     "data": {
      "text/plain": [
       "<AxesSubplot:xlabel='year'>"
      ]
     },
     "execution_count": 39,
     "metadata": {},
     "output_type": "execute_result"
    },
    {
     "data": {
      "image/png": "[encoded data removed]",
      "text/plain": [
       "<Figure size 432x288 with 1 Axes>"
      ]
     },
     "metadata": {
      "needs_background": "light"
     },
     "output_type": "display_data"
    }
   ],
   "source": [
    "display(df.query('box_office > 0').pivot_table(index = 'year', values = 'title', aggfunc = 'count').T)\n",
    "df.query('box_office > 0').pivot_table(index = 'year', values = 'title', aggfunc = 'count').plot.bar()"
   ]
  },
  {
   "cell_type": "markdown",
   "metadata": {},
   "source": [
    "Least of all films that received a rental certificate and had not zero box office were in 2010-2012. From 2010 to 2016 from 101 films to 525 respectively we see an increase."
   ]
  },
  {
   "cell_type": "markdown",
   "metadata": {
    "id": "BEOdcIrIgFyW"
   },
   "source": [
    "### Rental dynamics by years"
   ]
  },
  {
   "cell_type": "markdown",
   "metadata": {},
   "source": [
    "It is necessary to study how the dynamics of rental has changed over the years. In what year was the minimum and maximum box office.\n",
    "\n",
    "Let's build a bar plot "
   ]
  },
  {
   "cell_type": "code",
   "execution_count": 40,
   "metadata": {
    "id": "tfEhofYvgFyX"
   },
   "outputs": [
    {
     "data": {
      "text/plain": [
       "<AxesSubplot:title={'center':'Box office by year'}, xlabel='year'>"
      ]
     },
     "execution_count": 40,
     "metadata": {},
     "output_type": "execute_result"
    },
    {
     "data": {
      "image/png": "[encoded data removed]",
      "text/plain": [
       "<Figure size 720x360 with 1 Axes>"
      ]
     },
     "metadata": {
      "needs_background": "light"
     },
     "output_type": "display_data"
    }
   ],
   "source": [
    "df.pivot_table(index = 'year', values = 'box_office', aggfunc = 'sum').plot.bar(figsize = (10, 5), title = 'Box office by year')"
   ]
  },
  {
   "cell_type": "markdown",
   "metadata": {},
   "source": [
    "Given the previous research results, it looks like the answer to the question about the strange `box_office` data has been found. Until 2014, the data is bad, there are a lot of gaps and the box office data shows the same dynamics. Let's study the data before 2014 and after."
   ]
  },
  {
   "cell_type": "code",
   "execution_count": 41,
   "metadata": {},
   "outputs": [
    {
     "data": {
      "text/plain": [
       "count             785.0\n",
       "mean        9,551,896.1\n",
       "std        73,209,935.8\n",
       "min                40.0\n",
       "25%             1,000.0\n",
       "50%             5,250.0\n",
       "75%            37,985.0\n",
       "max     1,016,410,635.3\n",
       "Name: box_office, dtype: float64"
      ]
     },
     "execution_count": 41,
     "metadata": {},
     "output_type": "execute_result"
    }
   ],
   "source": [
    "df.query('year < 2015 and box_office > 0').box_office.describe()"
   ]
  },
  {
   "cell_type": "code",
   "execution_count": 42,
   "metadata": {},
   "outputs": [
    {
     "data": {
      "text/plain": [
       "count           2,349.0\n",
       "mean       99,626,004.3\n",
       "std       271,645,223.2\n",
       "min               100.0\n",
       "25%         1,255,719.0\n",
       "50%         5,872,718.3\n",
       "75%        46,319,097.4\n",
       "max     3,073,568,690.8\n",
       "Name: box_office, dtype: float64"
      ]
     },
     "execution_count": 42,
     "metadata": {},
     "output_type": "execute_result"
    }
   ],
   "source": [
    "df.query('year > 2014 and box_office > 0').box_office.describe()"
   ]
  },
  {
   "cell_type": "markdown",
   "metadata": {},
   "source": [
    "It seems that somewhere during 2014 there was a change in the way of collecting information and data that was indicated in thousands began to be indicated in numbers. But that doesn't explain the unusually low box office. It looks like some of the rental certificates were not used or the screenings were not commercial. One way or another, this does not affect the amount of fees that we are currently studying.\n",
    "\n",
    "Let's look at the data on box office from 2015 to 2019"
   ]
  },
  {
   "cell_type": "code",
   "execution_count": 43,
   "metadata": {},
   "outputs": [
    {
     "data": {
      "text/html": [
       "<div>\n",
       "<style scoped>\n",
       "    .dataframe tbody tr th:only-of-type {\n",
       "        vertical-align: middle;\n",
       "    }\n",
       "\n",
       "    .dataframe tbody tr th {\n",
       "        vertical-align: top;\n",
       "    }\n",
       "\n",
       "    .dataframe thead th {\n",
       "        text-align: right;\n",
       "    }\n",
       "</style>\n",
       "<table border=\"1\" class=\"dataframe\">\n",
       "  <thead>\n",
       "    <tr style=\"text-align: right;\">\n",
       "      <th></th>\n",
       "      <th>box_office</th>\n",
       "    </tr>\n",
       "    <tr>\n",
       "      <th>year</th>\n",
       "      <th></th>\n",
       "    </tr>\n",
       "  </thead>\n",
       "  <tbody>\n",
       "    <tr>\n",
       "      <th>2015</th>\n",
       "      <td>39,497,365,196.4</td>\n",
       "    </tr>\n",
       "    <tr>\n",
       "      <th>2016</th>\n",
       "      <td>47,866,299,741.9</td>\n",
       "    </tr>\n",
       "    <tr>\n",
       "      <th>2017</th>\n",
       "      <td>48,563,707,217.5</td>\n",
       "    </tr>\n",
       "    <tr>\n",
       "      <th>2018</th>\n",
       "      <td>49,668,403,134.3</td>\n",
       "    </tr>\n",
       "    <tr>\n",
       "      <th>2019</th>\n",
       "      <td>48,425,708,779.6</td>\n",
       "    </tr>\n",
       "  </tbody>\n",
       "</table>\n",
       "</div>"
      ],
      "text/plain": [
       "           box_office\n",
       "year                 \n",
       "2015 39,497,365,196.4\n",
       "2016 47,866,299,741.9\n",
       "2017 48,563,707,217.5\n",
       "2018 49,668,403,134.3\n",
       "2019 48,425,708,779.6"
      ]
     },
     "execution_count": 43,
     "metadata": {},
     "output_type": "execute_result"
    }
   ],
   "source": [
    "df.query('year > 2014').pivot_table(index = 'year', values = 'box_office', aggfunc = 'sum')"
   ]
  },
  {
   "cell_type": "markdown",
   "metadata": {},
   "source": [
    "The minimum box office is observed in 2015, maximum in 2018."
   ]
  },
  {
   "cell_type": "markdown",
   "metadata": {
    "id": "G-7qS-N-gFyY"
   },
   "source": [
    "### Box office average and median by years"
   ]
  },
  {
   "cell_type": "markdown",
   "metadata": {},
   "source": [
    "With a pivot table, we need to calculate the average and median amount of fees for each year."
   ]
  },
  {
   "cell_type": "code",
   "execution_count": 44,
   "metadata": {
    "id": "jmp-rgg9gFyY"
   },
   "outputs": [
    {
     "data": {
      "text/html": [
       "<div>\n",
       "<style scoped>\n",
       "    .dataframe tbody tr th:only-of-type {\n",
       "        vertical-align: middle;\n",
       "    }\n",
       "\n",
       "    .dataframe tbody tr th {\n",
       "        vertical-align: top;\n",
       "    }\n",
       "\n",
       "    .dataframe thead th {\n",
       "        text-align: right;\n",
       "    }\n",
       "</style>\n",
       "<table border=\"1\" class=\"dataframe\">\n",
       "  <thead>\n",
       "    <tr style=\"text-align: right;\">\n",
       "      <th></th>\n",
       "      <th>mean_box_office</th>\n",
       "      <th>median_box_office</th>\n",
       "      <th>dev</th>\n",
       "      <th>dev%</th>\n",
       "    </tr>\n",
       "    <tr>\n",
       "      <th>year</th>\n",
       "      <th></th>\n",
       "      <th></th>\n",
       "      <th></th>\n",
       "      <th></th>\n",
       "    </tr>\n",
       "  </thead>\n",
       "  <tbody>\n",
       "    <tr>\n",
       "      <th>2010</th>\n",
       "      <td>23,130.0</td>\n",
       "      <td>1,700.0</td>\n",
       "      <td>21,430.0</td>\n",
       "      <td>92.7</td>\n",
       "    </tr>\n",
       "    <tr>\n",
       "      <th>2011</th>\n",
       "      <td>129,383.2</td>\n",
       "      <td>3,000.0</td>\n",
       "      <td>126,383.2</td>\n",
       "      <td>97.7</td>\n",
       "    </tr>\n",
       "    <tr>\n",
       "      <th>2012</th>\n",
       "      <td>54,339.2</td>\n",
       "      <td>5,660.0</td>\n",
       "      <td>48,679.2</td>\n",
       "      <td>89.6</td>\n",
       "    </tr>\n",
       "    <tr>\n",
       "      <th>2013</th>\n",
       "      <td>161,954.9</td>\n",
       "      <td>3,522.5</td>\n",
       "      <td>158,432.4</td>\n",
       "      <td>97.8</td>\n",
       "    </tr>\n",
       "    <tr>\n",
       "      <th>2014</th>\n",
       "      <td>26,684,415.3</td>\n",
       "      <td>18,160.0</td>\n",
       "      <td>26,666,255.3</td>\n",
       "      <td>99.9</td>\n",
       "    </tr>\n",
       "    <tr>\n",
       "      <th>2015</th>\n",
       "      <td>84,940,570.3</td>\n",
       "      <td>4,920,933.0</td>\n",
       "      <td>80,019,637.3</td>\n",
       "      <td>94.2</td>\n",
       "    </tr>\n",
       "    <tr>\n",
       "      <th>2016</th>\n",
       "      <td>91,000,569.9</td>\n",
       "      <td>3,846,679.4</td>\n",
       "      <td>87,153,890.4</td>\n",
       "      <td>95.8</td>\n",
       "    </tr>\n",
       "    <tr>\n",
       "      <th>2017</th>\n",
       "      <td>136,032,793.3</td>\n",
       "      <td>9,968,340.0</td>\n",
       "      <td>126,064,453.3</td>\n",
       "      <td>92.7</td>\n",
       "    </tr>\n",
       "    <tr>\n",
       "      <th>2018</th>\n",
       "      <td>104,565,059.2</td>\n",
       "      <td>8,891,102.2</td>\n",
       "      <td>95,673,957.0</td>\n",
       "      <td>91.5</td>\n",
       "    </tr>\n",
       "    <tr>\n",
       "      <th>2019</th>\n",
       "      <td>91,369,261.8</td>\n",
       "      <td>4,627,798.3</td>\n",
       "      <td>86,741,463.5</td>\n",
       "      <td>94.9</td>\n",
       "    </tr>\n",
       "  </tbody>\n",
       "</table>\n",
       "</div>"
      ],
      "text/plain": [
       "      mean_box_office  median_box_office           dev  dev%\n",
       "year                                                        \n",
       "2010         23,130.0            1,700.0      21,430.0  92.7\n",
       "2011        129,383.2            3,000.0     126,383.2  97.7\n",
       "2012         54,339.2            5,660.0      48,679.2  89.6\n",
       "2013        161,954.9            3,522.5     158,432.4  97.8\n",
       "2014     26,684,415.3           18,160.0  26,666,255.3  99.9\n",
       "2015     84,940,570.3        4,920,933.0  80,019,637.3  94.2\n",
       "2016     91,000,569.9        3,846,679.4  87,153,890.4  95.8\n",
       "2017    136,032,793.3        9,968,340.0 126,064,453.3  92.7\n",
       "2018    104,565,059.2        8,891,102.2  95,673,957.0  91.5\n",
       "2019     91,369,261.8        4,627,798.3  86,741,463.5  94.9"
      ]
     },
     "execution_count": 44,
     "metadata": {},
     "output_type": "execute_result"
    }
   ],
   "source": [
    "df_box_office = df.pivot_table(index = 'year', values = 'box_office', aggfunc = ['mean', 'median'])\n",
    "df_box_office.columns = ['mean_box_office', 'median_box_office']\n",
    "df_box_office['dev'] = df_box_office['mean_box_office'] - df_box_office['median_box_office']\n",
    "df_box_office['dev%'] = df_box_office['dev'] / df_box_office['mean_box_office'] * 100\n",
    "df_box_office"
   ]
  },
  {
   "cell_type": "markdown",
   "metadata": {},
   "source": [
    "The percentage deviation of the median from the mean for each year is very similar, which confirms the hypothesis that the method of data entry changed during 2014. This knowledge will be useful to us in the study of films that received government support. From the data, there are still different types of rental licenses and their uses that we don't know about.\n",
    "\n",
    "According to the average and median, the economic efficiency of rolled products can be graded as follows:\n",
    "\n",
    "1st place 2017\n",
    "\n",
    "2nd place 2018\n",
    "\n",
    "3rd place 2016 and 2019\n",
    "\n",
    "4th place 2015"
   ]
  },
  {
   "cell_type": "markdown",
   "metadata": {
    "id": "Ok89WFwJgFyZ"
   },
   "source": [
    "### Study of the age restrictions influence"
   ]
  },
  {
   "cell_type": "markdown",
   "metadata": {},
   "source": [
    "It is necessary to determine whether the age restrictions (“6+”, “12+”, “16+”, “18+”, etc.) affects the box office of the film in the period from 2015 to 2019. Also, films with what age restrictions have the most box office, does the picture change depending on the year and if so, guess what this might be connected with."
   ]
  },
  {
   "cell_type": "code",
   "execution_count": 45,
   "metadata": {},
   "outputs": [
    {
     "data": {
      "text/html": [
       "<div>\n",
       "<style scoped>\n",
       "    .dataframe tbody tr th:only-of-type {\n",
       "        vertical-align: middle;\n",
       "    }\n",
       "\n",
       "    .dataframe tbody tr th {\n",
       "        vertical-align: top;\n",
       "    }\n",
       "\n",
       "    .dataframe thead th {\n",
       "        text-align: right;\n",
       "    }\n",
       "</style>\n",
       "<table border=\"1\" class=\"dataframe\">\n",
       "  <thead>\n",
       "    <tr style=\"text-align: right;\">\n",
       "      <th></th>\n",
       "      <th>box_office</th>\n",
       "      <th>ratio</th>\n",
       "    </tr>\n",
       "    <tr>\n",
       "      <th>age_restriction</th>\n",
       "      <th></th>\n",
       "      <th></th>\n",
       "    </tr>\n",
       "  </thead>\n",
       "  <tbody>\n",
       "    <tr>\n",
       "      <th>0+</th>\n",
       "      <td>809,077,426.0</td>\n",
       "      <td>0.3</td>\n",
       "    </tr>\n",
       "    <tr>\n",
       "      <th>18+</th>\n",
       "      <td>40,759,615,572.1</td>\n",
       "      <td>17.4</td>\n",
       "    </tr>\n",
       "    <tr>\n",
       "      <th>6+</th>\n",
       "      <td>55,798,610,799.7</td>\n",
       "      <td>23.8</td>\n",
       "    </tr>\n",
       "    <tr>\n",
       "      <th>12+</th>\n",
       "      <td>60,619,446,628.3</td>\n",
       "      <td>25.9</td>\n",
       "    </tr>\n",
       "    <tr>\n",
       "      <th>16+</th>\n",
       "      <td>76,034,733,643.6</td>\n",
       "      <td>32.5</td>\n",
       "    </tr>\n",
       "  </tbody>\n",
       "</table>\n",
       "</div>"
      ],
      "text/plain": [
       "                      box_office  ratio\n",
       "age_restriction                        \n",
       "0+                 809,077,426.0    0.3\n",
       "18+             40,759,615,572.1   17.4\n",
       "6+              55,798,610,799.7   23.8\n",
       "12+             60,619,446,628.3   25.9\n",
       "16+             76,034,733,643.6   32.5"
      ]
     },
     "execution_count": 45,
     "metadata": {},
     "output_type": "execute_result"
    },
    {
     "data": {
      "image/png": "[encoded data removed]",
      "text/plain": [
       "<Figure size 504x504 with 1 Axes>"
      ]
     },
     "metadata": {},
     "output_type": "display_data"
    }
   ],
   "source": [
    "df_age = df.query('year > 2014').pivot_table(index = 'age_restriction', values = 'box_office', aggfunc = sum).sort_values(by = 'box_office')\n",
    "df_age.plot.pie(y = 'box_office', figsize = (7, 7), title = 'Box office by age restricion from 2015 to 2019')\n",
    "df_age['ratio'] = df_age['box_office'] / df_age.box_office.sum() * 100\n",
    "df_age"
   ]
  },
  {
   "cell_type": "markdown",
   "metadata": {},
   "source": [
    "From 2015 to 2019, films with a 16+ age restriction have collected the most - 76 billion or 32% of total box office, and films with a 0+ limit have only 0.3%. Films rated 6+ and 12+ have similar box office numbers of 24% and 26% respectively. Movies rated 18+ made 17.4% or 40 billion.\n",
    "\n",
    "This distribution is explained quite logically. Movies 16+ are the most popular, since it is a restriction that all creators of \"adult\" content are trying to get in order not to get 18+ restriction. For the same reason, 18+ films have rather small box office. Films 6+ and 12+ belong to the categories of films that can be shown to children who already can and love to go to the cinema. Films 0+ have a small target audience in cinemas and are therefore the least popular."
   ]
  },
  {
   "cell_type": "code",
   "execution_count": 46,
   "metadata": {
    "id": "jsSbEqfjgFya"
   },
   "outputs": [
    {
     "data": {
      "text/html": [
       "<div>\n",
       "<style scoped>\n",
       "    .dataframe tbody tr th:only-of-type {\n",
       "        vertical-align: middle;\n",
       "    }\n",
       "\n",
       "    .dataframe tbody tr th {\n",
       "        vertical-align: top;\n",
       "    }\n",
       "\n",
       "    .dataframe thead th {\n",
       "        text-align: right;\n",
       "    }\n",
       "</style>\n",
       "<table border=\"1\" class=\"dataframe\">\n",
       "  <thead>\n",
       "    <tr style=\"text-align: right;\">\n",
       "      <th></th>\n",
       "      <th>2015 sum</th>\n",
       "      <th>2015 %</th>\n",
       "      <th>2016 sum</th>\n",
       "      <th>2016 %</th>\n",
       "      <th>2017 sum</th>\n",
       "      <th>2017 %</th>\n",
       "      <th>2018 sum</th>\n",
       "      <th>2018 %</th>\n",
       "      <th>2019 sum</th>\n",
       "      <th>2019 %</th>\n",
       "    </tr>\n",
       "    <tr>\n",
       "      <th>age_restriction</th>\n",
       "      <th></th>\n",
       "      <th></th>\n",
       "      <th></th>\n",
       "      <th></th>\n",
       "      <th></th>\n",
       "      <th></th>\n",
       "      <th></th>\n",
       "      <th></th>\n",
       "      <th></th>\n",
       "      <th></th>\n",
       "    </tr>\n",
       "  </thead>\n",
       "  <tbody>\n",
       "    <tr>\n",
       "      <th>0+</th>\n",
       "      <td>379,054,578.4</td>\n",
       "      <td>1.0</td>\n",
       "      <td>150,228,848.7</td>\n",
       "      <td>0.3</td>\n",
       "      <td>229,598,930.0</td>\n",
       "      <td>0.5</td>\n",
       "      <td>32,449,002.1</td>\n",
       "      <td>0.1</td>\n",
       "      <td>17,746,066.8</td>\n",
       "      <td>0.0</td>\n",
       "    </tr>\n",
       "    <tr>\n",
       "      <th>12+</th>\n",
       "      <td>13,616,082,008.9</td>\n",
       "      <td>34.5</td>\n",
       "      <td>12,204,446,524.4</td>\n",
       "      <td>25.5</td>\n",
       "      <td>7,851,427,660.7</td>\n",
       "      <td>16.2</td>\n",
       "      <td>14,267,291,660.7</td>\n",
       "      <td>28.7</td>\n",
       "      <td>12,680,198,773.7</td>\n",
       "      <td>26.2</td>\n",
       "    </tr>\n",
       "    <tr>\n",
       "      <th>16+</th>\n",
       "      <td>11,368,120,870.3</td>\n",
       "      <td>28.8</td>\n",
       "      <td>16,664,548,541.7</td>\n",
       "      <td>34.8</td>\n",
       "      <td>18,745,042,900.1</td>\n",
       "      <td>38.6</td>\n",
       "      <td>16,503,602,347.0</td>\n",
       "      <td>33.2</td>\n",
       "      <td>12,753,418,984.6</td>\n",
       "      <td>26.3</td>\n",
       "    </tr>\n",
       "    <tr>\n",
       "      <th>18+</th>\n",
       "      <td>5,432,308,367.4</td>\n",
       "      <td>13.8</td>\n",
       "      <td>6,793,929,818.9</td>\n",
       "      <td>14.2</td>\n",
       "      <td>9,651,495,581.0</td>\n",
       "      <td>19.9</td>\n",
       "      <td>8,760,085,501.1</td>\n",
       "      <td>17.6</td>\n",
       "      <td>10,121,796,303.6</td>\n",
       "      <td>20.9</td>\n",
       "    </tr>\n",
       "    <tr>\n",
       "      <th>6+</th>\n",
       "      <td>8,701,799,371.4</td>\n",
       "      <td>22.0</td>\n",
       "      <td>12,053,146,008.2</td>\n",
       "      <td>25.2</td>\n",
       "      <td>12,086,142,145.8</td>\n",
       "      <td>24.9</td>\n",
       "      <td>10,104,974,623.4</td>\n",
       "      <td>20.3</td>\n",
       "      <td>12,852,548,650.9</td>\n",
       "      <td>26.5</td>\n",
       "    </tr>\n",
       "  </tbody>\n",
       "</table>\n",
       "</div>"
      ],
      "text/plain": [
       "                        2015 sum  2015 %         2016 sum  2016 %  \\\n",
       "age_restriction                                                     \n",
       "0+                 379,054,578.4     1.0    150,228,848.7     0.3   \n",
       "12+             13,616,082,008.9    34.5 12,204,446,524.4    25.5   \n",
       "16+             11,368,120,870.3    28.8 16,664,548,541.7    34.8   \n",
       "18+              5,432,308,367.4    13.8  6,793,929,818.9    14.2   \n",
       "6+               8,701,799,371.4    22.0 12,053,146,008.2    25.2   \n",
       "\n",
       "                        2017 sum  2017 %         2018 sum  2018 %  \\\n",
       "age_restriction                                                     \n",
       "0+                 229,598,930.0     0.5     32,449,002.1     0.1   \n",
       "12+              7,851,427,660.7    16.2 14,267,291,660.7    28.7   \n",
       "16+             18,745,042,900.1    38.6 16,503,602,347.0    33.2   \n",
       "18+              9,651,495,581.0    19.9  8,760,085,501.1    17.6   \n",
       "6+              12,086,142,145.8    24.9 10,104,974,623.4    20.3   \n",
       "\n",
       "                        2019 sum  2019 %  \n",
       "age_restriction                           \n",
       "0+                  17,746,066.8     0.0  \n",
       "12+             12,680,198,773.7    26.2  \n",
       "16+             12,753,418,984.6    26.3  \n",
       "18+             10,121,796,303.6    20.9  \n",
       "6+              12,852,548,650.9    26.5  "
      ]
     },
     "execution_count": 46,
     "metadata": {},
     "output_type": "execute_result"
    },
    {
     "data": {
      "image/png": "[encoded data removed]",
      "text/plain": [
       "<Figure size 720x360 with 1 Axes>"
      ]
     },
     "metadata": {
      "needs_background": "light"
     },
     "output_type": "display_data"
    }
   ],
   "source": [
    "df_age_year = df.query('year > 2014').pivot_table(index = 'age_restriction', columns = 'year', values = 'box_office', aggfunc = sum)\n",
    "df_age_year.T.plot.bar(stacked=True, figsize = (10, 5), title = 'Total box office by year and box office')\n",
    "df_age_year.columns = ['2015 sum', '2016 sum', '2017 sum', '2018 sum', '2019 sum']\n",
    "\n",
    "for y in range(2015, 2020):\n",
    "    name1 = str(y) + ' %'\n",
    "    name2 = str(y) + ' sum'\n",
    "    df_age_year[name1] = df_age_year[name2] / df_age_year[name2].sum() * 100\n",
    "    \n",
    "df_age_year = df_age_year[['2015 sum', \n",
    "                           '2015 %', \n",
    "                           '2016 sum', \n",
    "                           '2016 %',\n",
    "                           '2017 sum', \n",
    "                           '2017 %',\n",
    "                           '2018 sum', \n",
    "                           '2018 %',\n",
    "                           '2019 sum', \n",
    "                           '2019 %']]\n",
    "df_age_year"
   ]
  },
  {
   "cell_type": "markdown",
   "metadata": {},
   "source": [
    "- The 6+ restriction turned out to be the most stable category. Since 2016, fees have never fallen below 10 billion and they have been at the level of 10-12 billion throughout the years.\n",
    "- 18+ films are steadily growing from 5 billion in 2015 to 10 billion in 2019\n",
    "- The box office of 0+ films, on the contrary, is steadily falling. From almost 400 million in 2015 to 17 million in 2019\n",
    "- Films with 12+ restriction have a more or less stable box office of 12 - 14 billion a year, with the exception of 2017, where the amount is 7 billion\n",
    "- Films in the 16+ category had the highest box office in the period from 2016 to 2018, while this category showed the largest figure of the entire data sample of almost 19 billion in 2017. Perhaps we are dealing with a series like The Avengers or The Pirates of the Caribbean where one of the films had received a different age restriction than usual"
   ]
  },
  {
   "cell_type": "markdown",
   "metadata": {},
   "source": [
    "### Conclusion"
   ]
  },
  {
   "cell_type": "markdown",
   "metadata": {},
   "source": [
    "- Most rental certificates were issued in 2010, the least in 2017\n",
    "- Since 2014, a jump in the quality of film data is obvious, more than half of the rentals in the range from 2015 to 2019 have complete data, until 2015 this figure is less than 25%\n",
    "- It seems that somewhere during 2014 there was a change in the way information was collected and data that was indicated in thousands began to be indicated in numbers\n",
    "- The economic efficiency of rolled products can be graded as follows:\n",
    "\n",
    "1st place 2017\n",
    "\n",
    "2nd place 2018\n",
    "\n",
    "3rd place 2016 and 2019\n",
    "\n",
    "4th place 2015\n",
    "- The maximum amount of box office was observed in 2018, 49.6 billion, and the minimum in 2015, 39.5 billion\n",
    "- From 2015 to 2019, films with a 16+ age restriction have collected the most - 76 billion or 32% of total, and films with a 0+ limit had only 0.3%. Films rated 6+ and 12+ have similar box office numbers of 24% and 26% respectively. Movies rated 18+ made 17.4% or 40 billion.\n",
    "- The category 6+ turned out to be the most stable category. Since 2016, fees have never fallen below 10 billion and they have been at the level of 10-12 billion throughout the years.\n",
    "- 18+ films are steadily growing from 5 billion in 2015 to 10 billion in 2019\n",
    "- The box office of 0+ films, on the contrary, is steadily falling. From almost 400 million in 2015 to 17 million in 2019\n",
    "- Films in the 12+ category have a more or less stable figure of 12 - 14 billion a year, with the exception of 2017, where the figure is 7 billion\n",
    "- Films in the 16+ category had the highest box office in the period from 2016 to 2018, while this category showed the largest figure of the entire sample of almost 19 billion in 2017. Perhaps we are dealing with a series like The Avengers or The Pirates of the Caribbean where one of the films received a different age restricion than usual"
   ]
  },
  {
   "cell_type": "markdown",
   "metadata": {
    "id": "l_Kg6Ku4gFya"
   },
   "source": [
    "## Films that received government support"
   ]
  },
  {
   "cell_type": "markdown",
   "metadata": {},
   "source": [
    "### Additional data processing"
   ]
  },
  {
   "cell_type": "code",
   "execution_count": 47,
   "metadata": {
    "id": "W9QKpjUdgFyb"
   },
   "outputs": [
    {
     "name": "stdout",
     "output_type": "stream",
     "text": [
      "<class 'pandas.core.frame.DataFrame'>\n",
      "Int64Index: 332 entries, 1281 to 7478\n",
      "Data columns (total 20 columns):\n",
      " #   Column                 Non-Null Count  Dtype         \n",
      "---  ------                 --------------  -----         \n",
      " 0   title                  332 non-null    object        \n",
      " 1   puNumber               332 non-null    object        \n",
      " 2   show_start_date        332 non-null    datetime64[ns]\n",
      " 3   type                   332 non-null    object        \n",
      " 4   film_studio            332 non-null    object        \n",
      " 5   production_country     332 non-null    object        \n",
      " 6   director               332 non-null    object        \n",
      " 7   producer               332 non-null    object        \n",
      " 8   age_restriction        332 non-null    object        \n",
      " 9   refundable_support     332 non-null    float64       \n",
      " 10  nonrefundable_support  332 non-null    float64       \n",
      " 11  budget                 332 non-null    float64       \n",
      " 12  financing_source       332 non-null    object        \n",
      " 13  ratings                314 non-null    float64       \n",
      " 14  genres                 332 non-null    object        \n",
      " 15  box_office             318 non-null    float64       \n",
      " 16  year                   332 non-null    int64         \n",
      " 17  main_genre             332 non-null    object        \n",
      " 18  main_director          332 non-null    object        \n",
      " 19  support_ratio          332 non-null    float64       \n",
      "dtypes: datetime64[ns](1), float64(6), int64(1), object(12)\n",
      "memory usage: 54.5+ KB\n"
     ]
    }
   ],
   "source": [
    "df_mk = df[df['budget'].notna()].copy()\n",
    "df_mk.info()"
   ]
  },
  {
   "cell_type": "markdown",
   "metadata": {},
   "source": [
    "Let's start with a research by years. We know that between 2010 and 2014 the data is most likely corrupted"
   ]
  },
  {
   "cell_type": "code",
   "execution_count": 48,
   "metadata": {},
   "outputs": [
    {
     "data": {
      "text/plain": [
       "2015    86\n",
       "2019    70\n",
       "2016    61\n",
       "2018    56\n",
       "2017    41\n",
       "2014    16\n",
       "2013     2\n",
       "Name: year, dtype: int64"
      ]
     },
     "execution_count": 48,
     "metadata": {},
     "output_type": "execute_result"
    }
   ],
   "source": [
    "df_mk.year.value_counts()"
   ]
  },
  {
   "cell_type": "markdown",
   "metadata": {},
   "source": [
    "Only 18 films in 2013 and 2014. Let's get rid of them and continue the analysis"
   ]
  },
  {
   "cell_type": "code",
   "execution_count": 49,
   "metadata": {},
   "outputs": [],
   "source": [
    "df_mk = df_mk.query('year > 2014')"
   ]
  },
  {
   "cell_type": "markdown",
   "metadata": {},
   "source": [
    "In this study, we are interested in films, not rental certificates. Let's see if there are duplicates in the list"
   ]
  },
  {
   "cell_type": "code",
   "execution_count": 50,
   "metadata": {},
   "outputs": [
    {
     "data": {
      "text/plain": [
       "The Secret of the Sukharev Tower. Wizard of Balance    1\n",
       "Anna's War                                             1\n",
       "Movie almanac \"Witnesses\"                              1\n",
       "Two                                                    1\n",
       "MY LIFE                                                1\n",
       "                                                      ..\n",
       "autumn memory                                          1\n",
       "Tomorrow morning                                       1\n",
       "Secret of the Snow Queen                               1\n",
       "I can knit                                             1\n",
       "(Not) perfect man                                      1\n",
       "Name: title, Length: 314, dtype: int64"
      ]
     },
     "execution_count": 50,
     "metadata": {},
     "output_type": "execute_result"
    }
   ],
   "source": [
    "df_mk.title.value_counts()"
   ]
  },
  {
   "cell_type": "markdown",
   "metadata": {},
   "source": [
    "No duplicates found. Let's add columns with profit and profitability and remove the others"
   ]
  },
  {
   "cell_type": "code",
   "execution_count": 51,
   "metadata": {},
   "outputs": [
    {
     "data": {
      "text/html": [
       "<div>\n",
       "<style scoped>\n",
       "    .dataframe tbody tr th:only-of-type {\n",
       "        vertical-align: middle;\n",
       "    }\n",
       "\n",
       "    .dataframe tbody tr th {\n",
       "        vertical-align: top;\n",
       "    }\n",
       "\n",
       "    .dataframe thead th {\n",
       "        text-align: right;\n",
       "    }\n",
       "</style>\n",
       "<table border=\"1\" class=\"dataframe\">\n",
       "  <thead>\n",
       "    <tr style=\"text-align: right;\">\n",
       "      <th></th>\n",
       "      <th>title</th>\n",
       "      <th>type</th>\n",
       "      <th>film_studio</th>\n",
       "      <th>producer</th>\n",
       "      <th>age_restriction</th>\n",
       "      <th>refundable_support</th>\n",
       "      <th>nonrefundable_support</th>\n",
       "      <th>budget</th>\n",
       "      <th>financing_source</th>\n",
       "      <th>ratings</th>\n",
       "      <th>box_office</th>\n",
       "      <th>year</th>\n",
       "      <th>main_genre</th>\n",
       "      <th>main_director</th>\n",
       "      <th>support_ratio</th>\n",
       "      <th>profit</th>\n",
       "      <th>profit%</th>\n",
       "    </tr>\n",
       "  </thead>\n",
       "  <tbody>\n",
       "    <tr>\n",
       "      <th>1854</th>\n",
       "      <td>The Secret of the Sukharev Tower. Wizard of Ba...</td>\n",
       "      <td>Animated</td>\n",
       "      <td>OOO \"Studio \"Master-Film\"</td>\n",
       "      <td>A. Gerasimov</td>\n",
       "      <td>6+</td>\n",
       "      <td>0.0</td>\n",
       "      <td>25,000,000.0</td>\n",
       "      <td>51,850,000.0</td>\n",
       "      <td>Ministry of Culture</td>\n",
       "      <td>6.1</td>\n",
       "      <td>15,078,858.6</td>\n",
       "      <td>2015</td>\n",
       "      <td>cartoon</td>\n",
       "      <td>S.Seregin</td>\n",
       "      <td>48.2</td>\n",
       "      <td>-36,771,141.4</td>\n",
       "      <td>-243.9</td>\n",
       "    </tr>\n",
       "    <tr>\n",
       "      <th>1870</th>\n",
       "      <td>And the dawns here are quiet..._</td>\n",
       "      <td>Art</td>\n",
       "      <td>LLC \"Company \"Real-Dakota\"</td>\n",
       "      <td>no_info</td>\n",
       "      <td>12+</td>\n",
       "      <td>50,000,000.0</td>\n",
       "      <td>100,000,000.0</td>\n",
       "      <td>220,588,394.0</td>\n",
       "      <td>Cinema Fund</td>\n",
       "      <td>8.5</td>\n",
       "      <td>249,166,767.7</td>\n",
       "      <td>2015</td>\n",
       "      <td>drama</td>\n",
       "      <td>R. Davletyarov</td>\n",
       "      <td>68.0</td>\n",
       "      <td>28,578,373.7</td>\n",
       "      <td>11.5</td>\n",
       "    </tr>\n",
       "    <tr>\n",
       "      <th>1903</th>\n",
       "      <td>Ghost_.</td>\n",
       "      <td>Art</td>\n",
       "      <td>Hydrogen 2011 LLC</td>\n",
       "      <td>S.Selyanov</td>\n",
       "      <td>6+</td>\n",
       "      <td>0.0</td>\n",
       "      <td>75,000,000.0</td>\n",
       "      <td>139,551,503.0</td>\n",
       "      <td>Cinema Fund</td>\n",
       "      <td>7.0</td>\n",
       "      <td>352,804,320.4</td>\n",
       "      <td>2015</td>\n",
       "      <td>thriller</td>\n",
       "      <td>A. Voitinsky</td>\n",
       "      <td>53.7</td>\n",
       "      <td>213,252,817.4</td>\n",
       "      <td>60.4</td>\n",
       "    </tr>\n",
       "    <tr>\n",
       "      <th>1912</th>\n",
       "      <td>Witch .</td>\n",
       "      <td>Art</td>\n",
       "      <td>LLC \"Film Company \"Rakurs\"</td>\n",
       "      <td>V. Sidorenko</td>\n",
       "      <td>16+</td>\n",
       "      <td>0.0</td>\n",
       "      <td>34,000,000.0</td>\n",
       "      <td>48,571,430.0</td>\n",
       "      <td>Ministry of Culture</td>\n",
       "      <td>7.4</td>\n",
       "      <td>51,907.5</td>\n",
       "      <td>2015</td>\n",
       "      <td>fantasy</td>\n",
       "      <td>D. Fedorov</td>\n",
       "      <td>70.0</td>\n",
       "      <td>-48,519,522.5</td>\n",
       "      <td>-93,473.0</td>\n",
       "    </tr>\n",
       "    <tr>\n",
       "      <th>2058</th>\n",
       "      <td>Duxless 2</td>\n",
       "      <td>Art</td>\n",
       "      <td>\"Slovo Film Studio\" LLC, \"Art Pictures Studio\"...</td>\n",
       "      <td>P. Anurov, F. Bondarchuk, D. Rudovsky</td>\n",
       "      <td>16+</td>\n",
       "      <td>0.0</td>\n",
       "      <td>75,000,000.0</td>\n",
       "      <td>75,000,000.0</td>\n",
       "      <td>Cinema Fund</td>\n",
       "      <td>6.6</td>\n",
       "      <td>446,163,511.0</td>\n",
       "      <td>2015</td>\n",
       "      <td>drama</td>\n",
       "      <td>R. Prygunov</td>\n",
       "      <td>100.0</td>\n",
       "      <td>371,163,511.0</td>\n",
       "      <td>83.2</td>\n",
       "    </tr>\n",
       "  </tbody>\n",
       "</table>\n",
       "</div>"
      ],
      "text/plain": [
       "                                                  title      type  \\\n",
       "1854  The Secret of the Sukharev Tower. Wizard of Ba...  Animated   \n",
       "1870                   And the dawns here are quiet..._       Art   \n",
       "1903                                            Ghost_.       Art   \n",
       "1912                                            Witch .       Art   \n",
       "2058                                          Duxless 2       Art   \n",
       "\n",
       "                                            film_studio  \\\n",
       "1854                          OOO \"Studio \"Master-Film\"   \n",
       "1870                         LLC \"Company \"Real-Dakota\"   \n",
       "1903                                  Hydrogen 2011 LLC   \n",
       "1912                         LLC \"Film Company \"Rakurs\"   \n",
       "2058  \"Slovo Film Studio\" LLC, \"Art Pictures Studio\"...   \n",
       "\n",
       "                                   producer age_restriction  \\\n",
       "1854                           A. Gerasimov              6+   \n",
       "1870                                no_info             12+   \n",
       "1903                             S.Selyanov              6+   \n",
       "1912                           V. Sidorenko             16+   \n",
       "2058  P. Anurov, F. Bondarchuk, D. Rudovsky             16+   \n",
       "\n",
       "      refundable_support  nonrefundable_support        budget  \\\n",
       "1854                 0.0           25,000,000.0  51,850,000.0   \n",
       "1870        50,000,000.0          100,000,000.0 220,588,394.0   \n",
       "1903                 0.0           75,000,000.0 139,551,503.0   \n",
       "1912                 0.0           34,000,000.0  48,571,430.0   \n",
       "2058                 0.0           75,000,000.0  75,000,000.0   \n",
       "\n",
       "         financing_source  ratings    box_office  year main_genre  \\\n",
       "1854  Ministry of Culture      6.1  15,078,858.6  2015    cartoon   \n",
       "1870          Cinema Fund      8.5 249,166,767.7  2015      drama   \n",
       "1903          Cinema Fund      7.0 352,804,320.4  2015   thriller   \n",
       "1912  Ministry of Culture      7.4      51,907.5  2015    fantasy   \n",
       "2058          Cinema Fund      6.6 446,163,511.0  2015      drama   \n",
       "\n",
       "       main_director  support_ratio        profit   profit%  \n",
       "1854       S.Seregin           48.2 -36,771,141.4    -243.9  \n",
       "1870  R. Davletyarov           68.0  28,578,373.7      11.5  \n",
       "1903    A. Voitinsky           53.7 213,252,817.4      60.4  \n",
       "1912      D. Fedorov           70.0 -48,519,522.5 -93,473.0  \n",
       "2058     R. Prygunov          100.0 371,163,511.0      83.2  "
      ]
     },
     "execution_count": 51,
     "metadata": {},
     "output_type": "execute_result"
    }
   ],
   "source": [
    "df_mk['profit'] = df_mk['box_office'] - df_mk['budget']\n",
    "df_mk['profit%'] = df_mk['profit'] / df_mk['box_office'] * 100\n",
    "df_mk = df_mk.drop(columns = ['puNumber', 'show_start_date', 'genres', 'director', 'production_country'])\n",
    "df_mk.head(5)"
   ]
  },
  {
   "cell_type": "markdown",
   "metadata": {},
   "source": [
    "### Exploratory analysis"
   ]
  },
  {
   "cell_type": "markdown",
   "metadata": {},
   "source": [
    "From the the films effectiveness point of view, we may be interested in the following indicators:\n",
    "- Amount of revenue (box office)\n",
    "- Amount of expenses (budget)\n",
    "- Amount of profit\n",
    "- Average rating\n",
    "- Number of films"
   ]
  },
  {
   "cell_type": "code",
   "execution_count": 52,
   "metadata": {},
   "outputs": [
    {
     "data": {
      "text/html": [
       "<div>\n",
       "<style scoped>\n",
       "    .dataframe tbody tr th:only-of-type {\n",
       "        vertical-align: middle;\n",
       "    }\n",
       "\n",
       "    .dataframe tbody tr th {\n",
       "        vertical-align: top;\n",
       "    }\n",
       "\n",
       "    .dataframe thead th {\n",
       "        text-align: right;\n",
       "    }\n",
       "</style>\n",
       "<table border=\"1\" class=\"dataframe\">\n",
       "  <thead>\n",
       "    <tr style=\"text-align: right;\">\n",
       "      <th></th>\n",
       "      <th>box_office</th>\n",
       "      <th>budget</th>\n",
       "      <th>profit</th>\n",
       "      <th>ratings</th>\n",
       "      <th>title</th>\n",
       "    </tr>\n",
       "    <tr>\n",
       "      <th>year</th>\n",
       "      <th></th>\n",
       "      <th></th>\n",
       "      <th></th>\n",
       "      <th></th>\n",
       "      <th></th>\n",
       "    </tr>\n",
       "  </thead>\n",
       "  <tbody>\n",
       "    <tr>\n",
       "      <th>2015</th>\n",
       "      <td>5,785,285,418.1</td>\n",
       "      <td>7,738,669,207.0</td>\n",
       "      <td>-1,911,384,804.9</td>\n",
       "      <td>6.1</td>\n",
       "      <td>86</td>\n",
       "    </tr>\n",
       "    <tr>\n",
       "      <th>2016</th>\n",
       "      <td>6,081,707,839.1</td>\n",
       "      <td>7,554,942,748.0</td>\n",
       "      <td>-1,454,528,828.9</td>\n",
       "      <td>5.7</td>\n",
       "      <td>61</td>\n",
       "    </tr>\n",
       "    <tr>\n",
       "      <th>2017</th>\n",
       "      <td>10,865,075,301.0</td>\n",
       "      <td>7,057,172,568.0</td>\n",
       "      <td>3,913,502,733.0</td>\n",
       "      <td>6.0</td>\n",
       "      <td>41</td>\n",
       "    </tr>\n",
       "    <tr>\n",
       "      <th>2018</th>\n",
       "      <td>9,934,069,010.2</td>\n",
       "      <td>7,000,664,099.0</td>\n",
       "      <td>2,933,404,911.2</td>\n",
       "      <td>6.0</td>\n",
       "      <td>56</td>\n",
       "    </tr>\n",
       "    <tr>\n",
       "      <th>2019</th>\n",
       "      <td>8,409,627,454.6</td>\n",
       "      <td>12,722,866,609.0</td>\n",
       "      <td>-2,825,446,437.4</td>\n",
       "      <td>6.2</td>\n",
       "      <td>70</td>\n",
       "    </tr>\n",
       "    <tr>\n",
       "      <th>TOTAL</th>\n",
       "      <td>39,592,908,318.4</td>\n",
       "      <td>39,368,700,974.0</td>\n",
       "      <td>224,207,344.4</td>\n",
       "      <td>6.0</td>\n",
       "      <td>284</td>\n",
       "    </tr>\n",
       "  </tbody>\n",
       "</table>\n",
       "</div>"
      ],
      "text/plain": [
       "            box_office           budget           profit  ratings  title\n",
       "year                                                                    \n",
       "2015   5,785,285,418.1  7,738,669,207.0 -1,911,384,804.9      6.1     86\n",
       "2016   6,081,707,839.1  7,554,942,748.0 -1,454,528,828.9      5.7     61\n",
       "2017  10,865,075,301.0  7,057,172,568.0  3,913,502,733.0      6.0     41\n",
       "2018   9,934,069,010.2  7,000,664,099.0  2,933,404,911.2      6.0     56\n",
       "2019   8,409,627,454.6 12,722,866,609.0 -2,825,446,437.4      6.2     70\n",
       "TOTAL 39,592,908,318.4 39,368,700,974.0    224,207,344.4      6.0    284"
      ]
     },
     "execution_count": 52,
     "metadata": {},
     "output_type": "execute_result"
    }
   ],
   "source": [
    "df_mk.pivot_table(index = 'year',\n",
    "                  values = ['box_office', 'budget', 'profit', 'ratings', 'title'],\n",
    "                  margins = True,\n",
    "                  margins_name = 'TOTAL',\n",
    "                  aggfunc = {\n",
    "                      'box_office': sum,\n",
    "                      'budget': sum,\n",
    "                      'profit': sum,\n",
    "                      'ratings': 'mean',\n",
    "                      'title': 'count'\n",
    "                  })"
   ]
  },
  {
   "cell_type": "markdown",
   "metadata": {},
   "source": [
    "As can be seen, only 2017 and 2018 showed a profit, the rest were unprofitable. Total profit result for the entire period, is close to zero, profitability below 1%. The average rating of films is kept at the level of 6 out of 10 for the entire period. Most films were supported in 2015, the same year there is the largest loss, the least in 2017 and the same year there is the largest profit.\n",
    "\n",
    "Let's look at efficiency in terms of funding sources"
   ]
  },
  {
   "cell_type": "code",
   "execution_count": 53,
   "metadata": {},
   "outputs": [
    {
     "data": {
      "text/html": [
       "<div>\n",
       "<style scoped>\n",
       "    .dataframe tbody tr th:only-of-type {\n",
       "        vertical-align: middle;\n",
       "    }\n",
       "\n",
       "    .dataframe tbody tr th {\n",
       "        vertical-align: top;\n",
       "    }\n",
       "\n",
       "    .dataframe thead th {\n",
       "        text-align: right;\n",
       "    }\n",
       "</style>\n",
       "<table border=\"1\" class=\"dataframe\">\n",
       "  <thead>\n",
       "    <tr style=\"text-align: right;\">\n",
       "      <th></th>\n",
       "      <th>box_office</th>\n",
       "      <th>budget</th>\n",
       "      <th>profit</th>\n",
       "      <th>ratings</th>\n",
       "      <th>title</th>\n",
       "    </tr>\n",
       "    <tr>\n",
       "      <th>financing_source</th>\n",
       "      <th></th>\n",
       "      <th></th>\n",
       "      <th></th>\n",
       "      <th></th>\n",
       "      <th></th>\n",
       "    </tr>\n",
       "  </thead>\n",
       "  <tbody>\n",
       "    <tr>\n",
       "      <th>Cinema Fund</th>\n",
       "      <td>35,062,356,033.4</td>\n",
       "      <td>28,760,811,053.0</td>\n",
       "      <td>7,395,692,482.4</td>\n",
       "      <td>5.8</td>\n",
       "      <td>140</td>\n",
       "    </tr>\n",
       "    <tr>\n",
       "      <th>Ministry of Culture</th>\n",
       "      <td>5,311,155,868.1</td>\n",
       "      <td>11,040,693,528.0</td>\n",
       "      <td>-5,169,587,380.9</td>\n",
       "      <td>6.1</td>\n",
       "      <td>155</td>\n",
       "    </tr>\n",
       "    <tr>\n",
       "      <th>Ministry of Culture, Cinema Fund</th>\n",
       "      <td>702,253,121.6</td>\n",
       "      <td>2,272,810,650.0</td>\n",
       "      <td>-1,570,557,528.4</td>\n",
       "      <td>6.4</td>\n",
       "      <td>19</td>\n",
       "    </tr>\n",
       "    <tr>\n",
       "      <th>TOTAL</th>\n",
       "      <td>39,592,908,318.4</td>\n",
       "      <td>39,368,700,974.0</td>\n",
       "      <td>224,207,344.4</td>\n",
       "      <td>6.0</td>\n",
       "      <td>284</td>\n",
       "    </tr>\n",
       "  </tbody>\n",
       "</table>\n",
       "</div>"
      ],
      "text/plain": [
       "                                       box_office           budget  \\\n",
       "financing_source                                                     \n",
       "Cinema Fund                      35,062,356,033.4 28,760,811,053.0   \n",
       "Ministry of Culture               5,311,155,868.1 11,040,693,528.0   \n",
       "Ministry of Culture, Cinema Fund    702,253,121.6  2,272,810,650.0   \n",
       "TOTAL                            39,592,908,318.4 39,368,700,974.0   \n",
       "\n",
       "                                           profit  ratings  title  \n",
       "financing_source                                                   \n",
       "Cinema Fund                       7,395,692,482.4      5.8    140  \n",
       "Ministry of Culture              -5,169,587,380.9      6.1    155  \n",
       "Ministry of Culture, Cinema Fund -1,570,557,528.4      6.4     19  \n",
       "TOTAL                               224,207,344.4      6.0    284  "
      ]
     },
     "execution_count": 53,
     "metadata": {},
     "output_type": "execute_result"
    }
   ],
   "source": [
    "df_mk.pivot_table(index = 'financing_source',\n",
    "                  values = ['box_office', 'budget', 'profit', 'ratings', 'title'],\n",
    "                  margins = True,\n",
    "                  margins_name = 'TOTAL',\n",
    "                  aggfunc = {\n",
    "                      'box_office': sum,\n",
    "                      'budget': sum,\n",
    "                      'profit': sum,\n",
    "                      'ratings': 'mean',\n",
    "                      'title': 'count'\n",
    "                  })"
   ]
  },
  {
   "cell_type": "markdown",
   "metadata": {},
   "source": [
    "The Cinema Fund and the Ministry of Culture subsidized approximately the same number of films between 2015 and 2019. At the same time, films that received support from the Ministry of Culture have a slightly higher average rating - 6.1, while they are very unprofitable - 5 billion box office against 11 billion budget (expenditures).\n",
    "\n",
    "Films supported by the Cinema Fonod have an average rating of 5.8, while their economic efficiency is much higher. Such films have earned 7.4 billion for all time, which is 21% of total.\n",
    "\n",
    "Let's make a top 10 list of the most successful films in terms of profit and average movie rating"
   ]
  },
  {
   "cell_type": "code",
   "execution_count": 54,
   "metadata": {},
   "outputs": [
    {
     "name": "stdout",
     "output_type": "stream",
     "text": [
      "Top-10 by the revenue\n"
     ]
    },
    {
     "data": {
      "text/html": [
       "<div>\n",
       "<style scoped>\n",
       "    .dataframe tbody tr th:only-of-type {\n",
       "        vertical-align: middle;\n",
       "    }\n",
       "\n",
       "    .dataframe tbody tr th {\n",
       "        vertical-align: top;\n",
       "    }\n",
       "\n",
       "    .dataframe thead th {\n",
       "        text-align: right;\n",
       "    }\n",
       "</style>\n",
       "<table border=\"1\" class=\"dataframe\">\n",
       "  <thead>\n",
       "    <tr style=\"text-align: right;\">\n",
       "      <th></th>\n",
       "      <th>title</th>\n",
       "      <th>type</th>\n",
       "      <th>film_studio</th>\n",
       "      <th>producer</th>\n",
       "      <th>age_restriction</th>\n",
       "      <th>refundable_support</th>\n",
       "      <th>nonrefundable_support</th>\n",
       "      <th>budget</th>\n",
       "      <th>financing_source</th>\n",
       "      <th>ratings</th>\n",
       "      <th>box_office</th>\n",
       "      <th>year</th>\n",
       "      <th>main_genre</th>\n",
       "      <th>main_director</th>\n",
       "      <th>support_ratio</th>\n",
       "      <th>profit</th>\n",
       "      <th>profit%</th>\n",
       "    </tr>\n",
       "  </thead>\n",
       "  <tbody>\n",
       "    <tr>\n",
       "      <th>7456</th>\n",
       "      <td>serf</td>\n",
       "      <td>Art</td>\n",
       "      <td>LLC \"MEM-MEDIA\" by order of JSC \"WBD Group\"</td>\n",
       "      <td>E. Iloyan, D. Zhalinsky, V. Dusmukhametov, T. ...</td>\n",
       "      <td>12+</td>\n",
       "      <td>25,000,000.0</td>\n",
       "      <td>35,000,000.0</td>\n",
       "      <td>160,000,000.0</td>\n",
       "      <td>Cinema Fund</td>\n",
       "      <td>6.8</td>\n",
       "      <td>3,073,568,690.8</td>\n",
       "      <td>2019</td>\n",
       "      <td>comedy</td>\n",
       "      <td>K. Shipenko</td>\n",
       "      <td>37.5</td>\n",
       "      <td>2,913,568,690.8</td>\n",
       "      <td>94.8</td>\n",
       "    </tr>\n",
       "    <tr>\n",
       "      <th>5653</th>\n",
       "      <td>Upward movement</td>\n",
       "      <td>Art</td>\n",
       "      <td>OOO \"Studio \"TRITE\" by Nikita Mikhalkov\"</td>\n",
       "      <td>L.Vereshchagin, A.Zlatopolsky, N.Mikhalkov, St...</td>\n",
       "      <td>6+</td>\n",
       "      <td>0.0</td>\n",
       "      <td>400,000,000.0</td>\n",
       "      <td>590,192,191.0</td>\n",
       "      <td>Cinema Fund</td>\n",
       "      <td>7.5</td>\n",
       "      <td>2,779,686,144.0</td>\n",
       "      <td>2017</td>\n",
       "      <td>sports</td>\n",
       "      <td>A. Megerdichev</td>\n",
       "      <td>67.8</td>\n",
       "      <td>2,189,493,953.0</td>\n",
       "      <td>78.8</td>\n",
       "    </tr>\n",
       "    <tr>\n",
       "      <th>6549</th>\n",
       "      <td>T-34</td>\n",
       "      <td>Art</td>\n",
       "      <td>MARS-Film Film Company LLC, commissioned by MM...</td>\n",
       "      <td>A. Zlatopolsky, R. Dishdishyan, L. Blavatnik, ...</td>\n",
       "      <td>12+</td>\n",
       "      <td>60,000,000.0</td>\n",
       "      <td>120,000,000.0</td>\n",
       "      <td>563,784,717.0</td>\n",
       "      <td>Cinema Fund</td>\n",
       "      <td>6.5</td>\n",
       "      <td>2,271,754,004.5</td>\n",
       "      <td>2018</td>\n",
       "      <td>drama</td>\n",
       "      <td>A.Sidorov</td>\n",
       "      <td>31.9</td>\n",
       "      <td>1,707,969,287.5</td>\n",
       "      <td>75.2</td>\n",
       "    </tr>\n",
       "    <tr>\n",
       "      <th>5505</th>\n",
       "      <td>The last hero</td>\n",
       "      <td>Art</td>\n",
       "      <td>Slovo Film Studio LLC, commissioned by Walt Di...</td>\n",
       "      <td>E. Iloyan, D. Zhalinsky, M. Ozkan, A. Trotsyuk...</td>\n",
       "      <td>12+</td>\n",
       "      <td>50,000,000.0</td>\n",
       "      <td>50,000,000.0</td>\n",
       "      <td>352,477,575.0</td>\n",
       "      <td>Cinema Fund</td>\n",
       "      <td>6.8</td>\n",
       "      <td>1,655,037,688.0</td>\n",
       "      <td>2017</td>\n",
       "      <td>comedy</td>\n",
       "      <td>D.Dyachenko</td>\n",
       "      <td>28.4</td>\n",
       "      <td>1,302,560,113.0</td>\n",
       "      <td>78.7</td>\n",
       "    </tr>\n",
       "    <tr>\n",
       "      <th>5708</th>\n",
       "      <td>Ice</td>\n",
       "      <td>Art</td>\n",
       "      <td>\"Hydrogen 2011\" LLC, \"Art Pictures Studio\" LLC...</td>\n",
       "      <td>M. Vrubel, A. Andryushchenko, F. Bondarchuk, D...</td>\n",
       "      <td>12+</td>\n",
       "      <td>25,000,000.0</td>\n",
       "      <td>60,000,000.0</td>\n",
       "      <td>148,585,222.0</td>\n",
       "      <td>Cinema Fund</td>\n",
       "      <td>NaN</td>\n",
       "      <td>1,445,731,797.9</td>\n",
       "      <td>2018</td>\n",
       "      <td>no_info</td>\n",
       "      <td>O. Trofim</td>\n",
       "      <td>57.2</td>\n",
       "      <td>1,297,146,575.9</td>\n",
       "      <td>89.7</td>\n",
       "    </tr>\n",
       "    <tr>\n",
       "      <th>3565</th>\n",
       "      <td>Attraction (2016)</td>\n",
       "      <td>Art</td>\n",
       "      <td>Hydrogen 2011 LLC, Art Pictures Studio LLC</td>\n",
       "      <td>LLC \"Art Pictures Studio\"</td>\n",
       "      <td>12+</td>\n",
       "      <td>0.0</td>\n",
       "      <td>250,000,000.0</td>\n",
       "      <td>250,000,000.0</td>\n",
       "      <td>Cinema Fund</td>\n",
       "      <td>5.6</td>\n",
       "      <td>1,038,321,489.0</td>\n",
       "      <td>2016</td>\n",
       "      <td>fiction</td>\n",
       "      <td>F. Bondarchuk</td>\n",
       "      <td>100.0</td>\n",
       "      <td>788,321,489.0</td>\n",
       "      <td>75.9</td>\n",
       "    </tr>\n",
       "    <tr>\n",
       "      <th>2920</th>\n",
       "      <td>Crew.</td>\n",
       "      <td>Art</td>\n",
       "      <td>OOO \"Studio \"TRITE\" by Nikita Mikhalkov\"</td>\n",
       "      <td>L.Vereshchagin, A.Zlatopolsky, N.Mikhalkov, St...</td>\n",
       "      <td>6+</td>\n",
       "      <td>50,000,000.0</td>\n",
       "      <td>392,104,482.0</td>\n",
       "      <td>635,283,867.0</td>\n",
       "      <td>Cinema Fund</td>\n",
       "      <td>7.6</td>\n",
       "      <td>1,402,255,390.0</td>\n",
       "      <td>2016</td>\n",
       "      <td>drama</td>\n",
       "      <td>N. Lebedev</td>\n",
       "      <td>69.6</td>\n",
       "      <td>766,971,523.0</td>\n",
       "      <td>54.7</td>\n",
       "    </tr>\n",
       "    <tr>\n",
       "      <th>5641</th>\n",
       "      <td>Trees New</td>\n",
       "      <td>Art</td>\n",
       "      <td>LLC \"TaBBaK\"</td>\n",
       "      <td>T. Bekmambetov, G. Strizhevskaya</td>\n",
       "      <td>6+</td>\n",
       "      <td>50,000,000.0</td>\n",
       "      <td>50,000,000.0</td>\n",
       "      <td>174,381,922.0</td>\n",
       "      <td>Cinema Fund</td>\n",
       "      <td>5.8</td>\n",
       "      <td>855,451,052.0</td>\n",
       "      <td>2017</td>\n",
       "      <td>comedy</td>\n",
       "      <td>D.Kiselev</td>\n",
       "      <td>57.3</td>\n",
       "      <td>681,069,130.0</td>\n",
       "      <td>79.6</td>\n",
       "    </tr>\n",
       "    <tr>\n",
       "      <th>5659</th>\n",
       "      <td>Three heroes and princess of Egypt</td>\n",
       "      <td>Animated</td>\n",
       "      <td>OOO \"Animation Film Studio \"Melnitsa\"</td>\n",
       "      <td>S. Selyanov, A. Boyarsky</td>\n",
       "      <td>6+</td>\n",
       "      <td>50,000,000.0</td>\n",
       "      <td>0.0</td>\n",
       "      <td>174,464,395.0</td>\n",
       "      <td>Cinema Fund</td>\n",
       "      <td>5.5</td>\n",
       "      <td>759,226,773.0</td>\n",
       "      <td>2017</td>\n",
       "      <td>cartoon</td>\n",
       "      <td>K. Feoktistov</td>\n",
       "      <td>28.7</td>\n",
       "      <td>584,762,378.0</td>\n",
       "      <td>77.0</td>\n",
       "    </tr>\n",
       "    <tr>\n",
       "      <th>2701</th>\n",
       "      <td>The best day</td>\n",
       "      <td>Art</td>\n",
       "      <td>LLC \"TaBBaK\"</td>\n",
       "      <td>T. Bekmambetov, A. Pershin (pseudonym Zh. Kryz...</td>\n",
       "      <td>16+</td>\n",
       "      <td>29,000,000.0</td>\n",
       "      <td>34,000,000.0</td>\n",
       "      <td>130,619,336.0</td>\n",
       "      <td>Cinema Fund</td>\n",
       "      <td>4.7</td>\n",
       "      <td>683,029,061.4</td>\n",
       "      <td>2015</td>\n",
       "      <td>comedy</td>\n",
       "      <td>A. Pershin (pseudonym Zh. Kryzhovnikov)</td>\n",
       "      <td>48.2</td>\n",
       "      <td>552,409,725.4</td>\n",
       "      <td>80.9</td>\n",
       "    </tr>\n",
       "  </tbody>\n",
       "</table>\n",
       "</div>"
      ],
      "text/plain": [
       "                                   title      type  \\\n",
       "7456                                serf       Art   \n",
       "5653                     Upward movement       Art   \n",
       "6549                                T-34       Art   \n",
       "5505                       The last hero       Art   \n",
       "5708                                 Ice       Art   \n",
       "3565                   Attraction (2016)       Art   \n",
       "2920                               Crew.       Art   \n",
       "5641                           Trees New       Art   \n",
       "5659  Three heroes and princess of Egypt  Animated   \n",
       "2701                        The best day       Art   \n",
       "\n",
       "                                            film_studio  \\\n",
       "7456        LLC \"MEM-MEDIA\" by order of JSC \"WBD Group\"   \n",
       "5653           OOO \"Studio \"TRITE\" by Nikita Mikhalkov\"   \n",
       "6549  MARS-Film Film Company LLC, commissioned by MM...   \n",
       "5505  Slovo Film Studio LLC, commissioned by Walt Di...   \n",
       "5708  \"Hydrogen 2011\" LLC, \"Art Pictures Studio\" LLC...   \n",
       "3565         Hydrogen 2011 LLC, Art Pictures Studio LLC   \n",
       "2920           OOO \"Studio \"TRITE\" by Nikita Mikhalkov\"   \n",
       "5641                                       LLC \"TaBBaK\"   \n",
       "5659              OOO \"Animation Film Studio \"Melnitsa\"   \n",
       "2701                                       LLC \"TaBBaK\"   \n",
       "\n",
       "                                               producer age_restriction  \\\n",
       "7456  E. Iloyan, D. Zhalinsky, V. Dusmukhametov, T. ...             12+   \n",
       "5653  L.Vereshchagin, A.Zlatopolsky, N.Mikhalkov, St...              6+   \n",
       "6549  A. Zlatopolsky, R. Dishdishyan, L. Blavatnik, ...             12+   \n",
       "5505  E. Iloyan, D. Zhalinsky, M. Ozkan, A. Trotsyuk...             12+   \n",
       "5708  M. Vrubel, A. Andryushchenko, F. Bondarchuk, D...             12+   \n",
       "3565                          LLC \"Art Pictures Studio\"             12+   \n",
       "2920  L.Vereshchagin, A.Zlatopolsky, N.Mikhalkov, St...              6+   \n",
       "5641                   T. Bekmambetov, G. Strizhevskaya              6+   \n",
       "5659                           S. Selyanov, A. Boyarsky              6+   \n",
       "2701  T. Bekmambetov, A. Pershin (pseudonym Zh. Kryz...             16+   \n",
       "\n",
       "      refundable_support  nonrefundable_support        budget  \\\n",
       "7456        25,000,000.0           35,000,000.0 160,000,000.0   \n",
       "5653                 0.0          400,000,000.0 590,192,191.0   \n",
       "6549        60,000,000.0          120,000,000.0 563,784,717.0   \n",
       "5505        50,000,000.0           50,000,000.0 352,477,575.0   \n",
       "5708        25,000,000.0           60,000,000.0 148,585,222.0   \n",
       "3565                 0.0          250,000,000.0 250,000,000.0   \n",
       "2920        50,000,000.0          392,104,482.0 635,283,867.0   \n",
       "5641        50,000,000.0           50,000,000.0 174,381,922.0   \n",
       "5659        50,000,000.0                    0.0 174,464,395.0   \n",
       "2701        29,000,000.0           34,000,000.0 130,619,336.0   \n",
       "\n",
       "     financing_source  ratings      box_office  year main_genre  \\\n",
       "7456      Cinema Fund      6.8 3,073,568,690.8  2019     comedy   \n",
       "5653      Cinema Fund      7.5 2,779,686,144.0  2017     sports   \n",
       "6549      Cinema Fund      6.5 2,271,754,004.5  2018      drama   \n",
       "5505      Cinema Fund      6.8 1,655,037,688.0  2017     comedy   \n",
       "5708      Cinema Fund      NaN 1,445,731,797.9  2018    no_info   \n",
       "3565      Cinema Fund      5.6 1,038,321,489.0  2016    fiction   \n",
       "2920      Cinema Fund      7.6 1,402,255,390.0  2016      drama   \n",
       "5641      Cinema Fund      5.8   855,451,052.0  2017     comedy   \n",
       "5659      Cinema Fund      5.5   759,226,773.0  2017    cartoon   \n",
       "2701      Cinema Fund      4.7   683,029,061.4  2015     comedy   \n",
       "\n",
       "                                main_director  support_ratio          profit  \\\n",
       "7456                              K. Shipenko           37.5 2,913,568,690.8   \n",
       "5653                           A. Megerdichev           67.8 2,189,493,953.0   \n",
       "6549                                A.Sidorov           31.9 1,707,969,287.5   \n",
       "5505                              D.Dyachenko           28.4 1,302,560,113.0   \n",
       "5708                                O. Trofim           57.2 1,297,146,575.9   \n",
       "3565                            F. Bondarchuk          100.0   788,321,489.0   \n",
       "2920                               N. Lebedev           69.6   766,971,523.0   \n",
       "5641                                D.Kiselev           57.3   681,069,130.0   \n",
       "5659                            K. Feoktistov           28.7   584,762,378.0   \n",
       "2701  A. Pershin (pseudonym Zh. Kryzhovnikov)           48.2   552,409,725.4   \n",
       "\n",
       "      profit%  \n",
       "7456     94.8  \n",
       "5653     78.8  \n",
       "6549     75.2  \n",
       "5505     78.7  \n",
       "5708     89.7  \n",
       "3565     75.9  \n",
       "2920     54.7  \n",
       "5641     79.6  \n",
       "5659     77.0  \n",
       "2701     80.9  "
      ]
     },
     "metadata": {},
     "output_type": "display_data"
    },
    {
     "name": "stdout",
     "output_type": "stream",
     "text": [
      "Top-10 by the raiting\n"
     ]
    },
    {
     "data": {
      "text/html": [
       "<div>\n",
       "<style scoped>\n",
       "    .dataframe tbody tr th:only-of-type {\n",
       "        vertical-align: middle;\n",
       "    }\n",
       "\n",
       "    .dataframe tbody tr th {\n",
       "        vertical-align: top;\n",
       "    }\n",
       "\n",
       "    .dataframe thead th {\n",
       "        text-align: right;\n",
       "    }\n",
       "</style>\n",
       "<table border=\"1\" class=\"dataframe\">\n",
       "  <thead>\n",
       "    <tr style=\"text-align: right;\">\n",
       "      <th></th>\n",
       "      <th>title</th>\n",
       "      <th>type</th>\n",
       "      <th>film_studio</th>\n",
       "      <th>producer</th>\n",
       "      <th>age_restriction</th>\n",
       "      <th>refundable_support</th>\n",
       "      <th>nonrefundable_support</th>\n",
       "      <th>budget</th>\n",
       "      <th>financing_source</th>\n",
       "      <th>ratings</th>\n",
       "      <th>box_office</th>\n",
       "      <th>year</th>\n",
       "      <th>main_genre</th>\n",
       "      <th>main_director</th>\n",
       "      <th>support_ratio</th>\n",
       "      <th>profit</th>\n",
       "      <th>profit%</th>\n",
       "    </tr>\n",
       "  </thead>\n",
       "  <tbody>\n",
       "    <tr>\n",
       "      <th>3627</th>\n",
       "      <td>BIG</td>\n",
       "      <td>Art</td>\n",
       "      <td>CJSC \"PRODUCTION COMPANY OF VALERY TODOROVSKOY\"</td>\n",
       "      <td>V. Todorovsky, A. Zlatopolsky</td>\n",
       "      <td>12+</td>\n",
       "      <td>10,000,000.0</td>\n",
       "      <td>200,000,000.0</td>\n",
       "      <td>320,000,000.0</td>\n",
       "      <td>Cinema Fund</td>\n",
       "      <td>8.5</td>\n",
       "      <td>228,578,204.0</td>\n",
       "      <td>2016</td>\n",
       "      <td>crime</td>\n",
       "      <td>V.Todorovsky</td>\n",
       "      <td>65.6</td>\n",
       "      <td>-91,421,796.0</td>\n",
       "      <td>-40.0</td>\n",
       "    </tr>\n",
       "    <tr>\n",
       "      <th>1870</th>\n",
       "      <td>And the dawns here are quiet..._</td>\n",
       "      <td>Art</td>\n",
       "      <td>LLC \"Company \"Real-Dakota\"</td>\n",
       "      <td>no_info</td>\n",
       "      <td>12+</td>\n",
       "      <td>50,000,000.0</td>\n",
       "      <td>100,000,000.0</td>\n",
       "      <td>220,588,394.0</td>\n",
       "      <td>Cinema Fund</td>\n",
       "      <td>8.5</td>\n",
       "      <td>249,166,767.7</td>\n",
       "      <td>2015</td>\n",
       "      <td>drama</td>\n",
       "      <td>R. Davletyarov</td>\n",
       "      <td>68.0</td>\n",
       "      <td>28,578,373.7</td>\n",
       "      <td>11.5</td>\n",
       "    </tr>\n",
       "    <tr>\n",
       "      <th>6855</th>\n",
       "      <td>Billion</td>\n",
       "      <td>Art</td>\n",
       "      <td>LLC \"Media Universal Event\"</td>\n",
       "      <td>V. Maslov, V. Vereshchagin, B. Anisimov</td>\n",
       "      <td>12+</td>\n",
       "      <td>0.0</td>\n",
       "      <td>140,000,000.0</td>\n",
       "      <td>240,041,307.0</td>\n",
       "      <td>Cinema Fund</td>\n",
       "      <td>8.2</td>\n",
       "      <td>408,646,665.7</td>\n",
       "      <td>2019</td>\n",
       "      <td>drama</td>\n",
       "      <td>R. Prygunov</td>\n",
       "      <td>58.3</td>\n",
       "      <td>168,605,358.7</td>\n",
       "      <td>41.3</td>\n",
       "    </tr>\n",
       "    <tr>\n",
       "      <th>7180</th>\n",
       "      <td>Baikal - Heart of the World 3D</td>\n",
       "      <td>Documentary</td>\n",
       "      <td>LLC \"Producer Center \"New Time\"</td>\n",
       "      <td>I.Dobrovolsky, A.Razuvaeva, Y.Perkul</td>\n",
       "      <td>0+</td>\n",
       "      <td>0.0</td>\n",
       "      <td>3,000,000.0</td>\n",
       "      <td>33,000,000.0</td>\n",
       "      <td>Ministry of Culture</td>\n",
       "      <td>8.0</td>\n",
       "      <td>NaN</td>\n",
       "      <td>2019</td>\n",
       "      <td>family</td>\n",
       "      <td>A. Popova</td>\n",
       "      <td>9.1</td>\n",
       "      <td>NaN</td>\n",
       "      <td>NaN</td>\n",
       "    </tr>\n",
       "    <tr>\n",
       "      <th>3782</th>\n",
       "      <td>Butterfly.</td>\n",
       "      <td>Art</td>\n",
       "      <td>LLC \"Film Company KIT\"</td>\n",
       "      <td>E. Babenko, V. Remizov</td>\n",
       "      <td>18+</td>\n",
       "      <td>7,346,881.0</td>\n",
       "      <td>30,000,000.0</td>\n",
       "      <td>63,170,000.0</td>\n",
       "      <td>Ministry of Culture, Cinema Fund</td>\n",
       "      <td>8.0</td>\n",
       "      <td>410,058.0</td>\n",
       "      <td>2017</td>\n",
       "      <td>drama</td>\n",
       "      <td>K. Khudyakov</td>\n",
       "      <td>59.1</td>\n",
       "      <td>-62,759,942.0</td>\n",
       "      <td>-15,305.1</td>\n",
       "    </tr>\n",
       "    <tr>\n",
       "      <th>2482</th>\n",
       "      <td>One day._</td>\n",
       "      <td>Art</td>\n",
       "      <td>LLC \"Company \"REAL-DAKOTA\", NP \"Interfest\"</td>\n",
       "      <td>R. Davletyarov, A. Kotelevsky</td>\n",
       "      <td>16+</td>\n",
       "      <td>0.0</td>\n",
       "      <td>97,000,000.0</td>\n",
       "      <td>156,360,666.0</td>\n",
       "      <td>Cinema Fund</td>\n",
       "      <td>7.9</td>\n",
       "      <td>12,748,398.3</td>\n",
       "      <td>2015</td>\n",
       "      <td>drama</td>\n",
       "      <td>R. Davletyarov</td>\n",
       "      <td>62.0</td>\n",
       "      <td>-143,612,267.7</td>\n",
       "      <td>-1,126.5</td>\n",
       "    </tr>\n",
       "    <tr>\n",
       "      <th>7254</th>\n",
       "      <td>Hero</td>\n",
       "      <td>Art</td>\n",
       "      <td>LLC \"Cargo\"</td>\n",
       "      <td>K. Hovhannisyan</td>\n",
       "      <td>12+</td>\n",
       "      <td>20,000,000.0</td>\n",
       "      <td>100,000,000.0</td>\n",
       "      <td>250,000,000.0</td>\n",
       "      <td>Cinema Fund</td>\n",
       "      <td>7.9</td>\n",
       "      <td>172,871,342.0</td>\n",
       "      <td>2019</td>\n",
       "      <td>fantasy</td>\n",
       "      <td>K. Hovhannisyan</td>\n",
       "      <td>48.0</td>\n",
       "      <td>-77,128,658.0</td>\n",
       "      <td>-44.6</td>\n",
       "    </tr>\n",
       "    <tr>\n",
       "      <th>3657</th>\n",
       "      <td>Simple Story.</td>\n",
       "      <td>Art</td>\n",
       "      <td>OOO \"KINOBYURO\"</td>\n",
       "      <td>Y. Bakhshiev</td>\n",
       "      <td>16+</td>\n",
       "      <td>0.0</td>\n",
       "      <td>64,000,000.0</td>\n",
       "      <td>180,000,000.0</td>\n",
       "      <td>Cinema Fund</td>\n",
       "      <td>7.8</td>\n",
       "      <td>58,720.0</td>\n",
       "      <td>2016</td>\n",
       "      <td>drama</td>\n",
       "      <td>V.Tatarsky</td>\n",
       "      <td>35.6</td>\n",
       "      <td>-179,941,280.0</td>\n",
       "      <td>-306,439.5</td>\n",
       "    </tr>\n",
       "    <tr>\n",
       "      <th>7322</th>\n",
       "      <td>Success</td>\n",
       "      <td>Art</td>\n",
       "      <td>LLC \"Kinodom\"</td>\n",
       "      <td>S.Bobza, G.Malkov, V.Polyakov, M.Kuchment</td>\n",
       "      <td>12+</td>\n",
       "      <td>5,000,000.0</td>\n",
       "      <td>20,000,000.0</td>\n",
       "      <td>75,000,000.0</td>\n",
       "      <td>Cinema Fund</td>\n",
       "      <td>7.8</td>\n",
       "      <td>3,181,218.0</td>\n",
       "      <td>2019</td>\n",
       "      <td>drama</td>\n",
       "      <td>P. Ruminov</td>\n",
       "      <td>33.3</td>\n",
       "      <td>-71,818,782.0</td>\n",
       "      <td>-2,257.6</td>\n",
       "    </tr>\n",
       "    <tr>\n",
       "      <th>2472</th>\n",
       "      <td>Warrior (2015)</td>\n",
       "      <td>Art</td>\n",
       "      <td>OOO \"Forpost Production\", OOO \"Art Pictures St...</td>\n",
       "      <td>LLC \"Art Pictures Studio\"</td>\n",
       "      <td>12+</td>\n",
       "      <td>10,000,000.0</td>\n",
       "      <td>70,000,000.0</td>\n",
       "      <td>80,000,000.0</td>\n",
       "      <td>Cinema Fund</td>\n",
       "      <td>7.8</td>\n",
       "      <td>196,572,438.4</td>\n",
       "      <td>2015</td>\n",
       "      <td>action</td>\n",
       "      <td>A.Andrianov</td>\n",
       "      <td>100.0</td>\n",
       "      <td>116,572,438.4</td>\n",
       "      <td>59.3</td>\n",
       "    </tr>\n",
       "  </tbody>\n",
       "</table>\n",
       "</div>"
      ],
      "text/plain": [
       "                                 title         type  \\\n",
       "3627                               BIG          Art   \n",
       "1870  And the dawns here are quiet..._          Art   \n",
       "6855                           Billion          Art   \n",
       "7180    Baikal - Heart of the World 3D  Documentary   \n",
       "3782                        Butterfly.          Art   \n",
       "2482                         One day._          Art   \n",
       "7254                              Hero          Art   \n",
       "3657                     Simple Story.          Art   \n",
       "7322                           Success          Art   \n",
       "2472                    Warrior (2015)          Art   \n",
       "\n",
       "                                            film_studio  \\\n",
       "3627    CJSC \"PRODUCTION COMPANY OF VALERY TODOROVSKOY\"   \n",
       "1870                         LLC \"Company \"Real-Dakota\"   \n",
       "6855                        LLC \"Media Universal Event\"   \n",
       "7180                    LLC \"Producer Center \"New Time\"   \n",
       "3782                             LLC \"Film Company KIT\"   \n",
       "2482         LLC \"Company \"REAL-DAKOTA\", NP \"Interfest\"   \n",
       "7254                                        LLC \"Cargo\"   \n",
       "3657                                    OOO \"KINOBYURO\"   \n",
       "7322                                      LLC \"Kinodom\"   \n",
       "2472  OOO \"Forpost Production\", OOO \"Art Pictures St...   \n",
       "\n",
       "                                       producer age_restriction  \\\n",
       "3627              V. Todorovsky, A. Zlatopolsky             12+   \n",
       "1870                                    no_info             12+   \n",
       "6855    V. Maslov, V. Vereshchagin, B. Anisimov             12+   \n",
       "7180       I.Dobrovolsky, A.Razuvaeva, Y.Perkul              0+   \n",
       "3782                     E. Babenko, V. Remizov             18+   \n",
       "2482              R. Davletyarov, A. Kotelevsky             16+   \n",
       "7254                            K. Hovhannisyan             12+   \n",
       "3657                               Y. Bakhshiev             16+   \n",
       "7322  S.Bobza, G.Malkov, V.Polyakov, M.Kuchment             12+   \n",
       "2472                  LLC \"Art Pictures Studio\"             12+   \n",
       "\n",
       "      refundable_support  nonrefundable_support        budget  \\\n",
       "3627        10,000,000.0          200,000,000.0 320,000,000.0   \n",
       "1870        50,000,000.0          100,000,000.0 220,588,394.0   \n",
       "6855                 0.0          140,000,000.0 240,041,307.0   \n",
       "7180                 0.0            3,000,000.0  33,000,000.0   \n",
       "3782         7,346,881.0           30,000,000.0  63,170,000.0   \n",
       "2482                 0.0           97,000,000.0 156,360,666.0   \n",
       "7254        20,000,000.0          100,000,000.0 250,000,000.0   \n",
       "3657                 0.0           64,000,000.0 180,000,000.0   \n",
       "7322         5,000,000.0           20,000,000.0  75,000,000.0   \n",
       "2472        10,000,000.0           70,000,000.0  80,000,000.0   \n",
       "\n",
       "                      financing_source  ratings    box_office  year  \\\n",
       "3627                       Cinema Fund      8.5 228,578,204.0  2016   \n",
       "1870                       Cinema Fund      8.5 249,166,767.7  2015   \n",
       "6855                       Cinema Fund      8.2 408,646,665.7  2019   \n",
       "7180               Ministry of Culture      8.0           NaN  2019   \n",
       "3782  Ministry of Culture, Cinema Fund      8.0     410,058.0  2017   \n",
       "2482                       Cinema Fund      7.9  12,748,398.3  2015   \n",
       "7254                       Cinema Fund      7.9 172,871,342.0  2019   \n",
       "3657                       Cinema Fund      7.8      58,720.0  2016   \n",
       "7322                       Cinema Fund      7.8   3,181,218.0  2019   \n",
       "2472                       Cinema Fund      7.8 196,572,438.4  2015   \n",
       "\n",
       "     main_genre    main_director  support_ratio         profit    profit%  \n",
       "3627      crime     V.Todorovsky           65.6  -91,421,796.0      -40.0  \n",
       "1870      drama   R. Davletyarov           68.0   28,578,373.7       11.5  \n",
       "6855      drama      R. Prygunov           58.3  168,605,358.7       41.3  \n",
       "7180     family        A. Popova            9.1            NaN        NaN  \n",
       "3782      drama     K. Khudyakov           59.1  -62,759,942.0  -15,305.1  \n",
       "2482      drama   R. Davletyarov           62.0 -143,612,267.7   -1,126.5  \n",
       "7254    fantasy  K. Hovhannisyan           48.0  -77,128,658.0      -44.6  \n",
       "3657      drama       V.Tatarsky           35.6 -179,941,280.0 -306,439.5  \n",
       "7322      drama       P. Ruminov           33.3  -71,818,782.0   -2,257.6  \n",
       "2472     action      A.Andrianov          100.0  116,572,438.4       59.3  "
      ]
     },
     "execution_count": 54,
     "metadata": {},
     "output_type": "execute_result"
    }
   ],
   "source": [
    "print('Top-10 by the revenue')\n",
    "display(df_mk.sort_values(by = 'profit', ascending = False).head(10))\n",
    "print('Top-10 by the raiting')\n",
    "df_mk.sort_values(by = 'ratings', ascending = False).head(10)"
   ]
  },
  {
   "cell_type": "markdown",
   "metadata": {},
   "source": [
    "In both lists, the top 3 films are supported by the Cinema Fund. In the top 10 list by revenue there are no films supported by the Ministry of Culture. In the top 10 list by rating, only one film is supported by the Ministry of Culture, and another one has joint support.\n",
    "\n",
    "In the top 10 by revenue, films in the comedy genre are most often found, in the top 10 by rating - dramas.\n",
    "\n",
    "Let's examine the data for correlations."
   ]
  },
  {
   "cell_type": "code",
   "execution_count": 55,
   "metadata": {},
   "outputs": [
    {
     "data": {
      "text/html": [
       "<div>\n",
       "<style scoped>\n",
       "    .dataframe tbody tr th:only-of-type {\n",
       "        vertical-align: middle;\n",
       "    }\n",
       "\n",
       "    .dataframe tbody tr th {\n",
       "        vertical-align: top;\n",
       "    }\n",
       "\n",
       "    .dataframe thead th {\n",
       "        text-align: right;\n",
       "    }\n",
       "</style>\n",
       "<table border=\"1\" class=\"dataframe\">\n",
       "  <thead>\n",
       "    <tr style=\"text-align: right;\">\n",
       "      <th></th>\n",
       "      <th>budget</th>\n",
       "      <th>box_office</th>\n",
       "      <th>ratings</th>\n",
       "      <th>profit</th>\n",
       "    </tr>\n",
       "  </thead>\n",
       "  <tbody>\n",
       "    <tr>\n",
       "      <th>budget</th>\n",
       "      <td>1.0</td>\n",
       "      <td>0.4</td>\n",
       "      <td>0.1</td>\n",
       "      <td>-0.2</td>\n",
       "    </tr>\n",
       "    <tr>\n",
       "      <th>box_office</th>\n",
       "      <td>0.4</td>\n",
       "      <td>1.0</td>\n",
       "      <td>0.2</td>\n",
       "      <td>0.8</td>\n",
       "    </tr>\n",
       "    <tr>\n",
       "      <th>ratings</th>\n",
       "      <td>0.1</td>\n",
       "      <td>0.2</td>\n",
       "      <td>1.0</td>\n",
       "      <td>0.1</td>\n",
       "    </tr>\n",
       "    <tr>\n",
       "      <th>profit</th>\n",
       "      <td>-0.2</td>\n",
       "      <td>0.8</td>\n",
       "      <td>0.1</td>\n",
       "      <td>1.0</td>\n",
       "    </tr>\n",
       "  </tbody>\n",
       "</table>\n",
       "</div>"
      ],
      "text/plain": [
       "            budget  box_office  ratings  profit\n",
       "budget         1.0         0.4      0.1    -0.2\n",
       "box_office     0.4         1.0      0.2     0.8\n",
       "ratings        0.1         0.2      1.0     0.1\n",
       "profit        -0.2         0.8      0.1     1.0"
      ]
     },
     "metadata": {},
     "output_type": "display_data"
    },
    {
     "data": {
      "image/png": "[encoded data removed]",
      "text/plain": [
       "<Figure size 648x648 with 16 Axes>"
      ]
     },
     "metadata": {
      "needs_background": "light"
     },
     "output_type": "display_data"
    }
   ],
   "source": [
    "display(df_mk[['budget', 'box_office', 'ratings', 'profit']].corr())\n",
    "pd.plotting.scatter_matrix(df_mk[['budget', 'box_office', 'ratings', 'profit']], figsize=(9, 9)) \n",
    "plt.show()"
   ]
  },
  {
   "cell_type": "markdown",
   "metadata": {},
   "source": [
    "No significant correlation was found between the data. The fact that the rating has nothing to do with the box office and profit of the film is important. The higher the fees, the higher the profit, this is the expected output.\n",
    "\n",
    "Let's look at what type and genre is most often found in the sample."
   ]
  },
  {
   "cell_type": "code",
   "execution_count": 56,
   "metadata": {},
   "outputs": [
    {
     "name": "stdout",
     "output_type": "stream",
     "text": [
      "Film types\n"
     ]
    },
    {
     "data": {
      "text/html": [
       "<div>\n",
       "<style scoped>\n",
       "    .dataframe tbody tr th:only-of-type {\n",
       "        vertical-align: middle;\n",
       "    }\n",
       "\n",
       "    .dataframe tbody tr th {\n",
       "        vertical-align: top;\n",
       "    }\n",
       "\n",
       "    .dataframe thead th {\n",
       "        text-align: right;\n",
       "    }\n",
       "</style>\n",
       "<table border=\"1\" class=\"dataframe\">\n",
       "  <thead>\n",
       "    <tr style=\"text-align: right;\">\n",
       "      <th></th>\n",
       "      <th>box_office</th>\n",
       "      <th>budget</th>\n",
       "      <th>profit</th>\n",
       "      <th>ratings</th>\n",
       "      <th>title</th>\n",
       "      <th>profit%</th>\n",
       "      <th>count_ratio</th>\n",
       "    </tr>\n",
       "    <tr>\n",
       "      <th>type</th>\n",
       "      <th></th>\n",
       "      <th></th>\n",
       "      <th></th>\n",
       "      <th></th>\n",
       "      <th></th>\n",
       "      <th></th>\n",
       "      <th></th>\n",
       "    </tr>\n",
       "  </thead>\n",
       "  <tbody>\n",
       "    <tr>\n",
       "      <th>Art</th>\n",
       "      <td>35,765,961,720.5</td>\n",
       "      <td>36,384,380,920.0</td>\n",
       "      <td>983,972,501.5</td>\n",
       "      <td>6.0</td>\n",
       "      <td>283</td>\n",
       "      <td>2.8</td>\n",
       "      <td>90.1</td>\n",
       "    </tr>\n",
       "    <tr>\n",
       "      <th>Animated</th>\n",
       "      <td>5,309,803,302.6</td>\n",
       "      <td>5,656,934,311.0</td>\n",
       "      <td>-328,424,928.4</td>\n",
       "      <td>5.7</td>\n",
       "      <td>30</td>\n",
       "      <td>-6.2</td>\n",
       "      <td>9.6</td>\n",
       "    </tr>\n",
       "    <tr>\n",
       "      <th>Documentary</th>\n",
       "      <td>0.0</td>\n",
       "      <td>33,000,000.0</td>\n",
       "      <td>0.0</td>\n",
       "      <td>8.0</td>\n",
       "      <td>1</td>\n",
       "      <td>NaN</td>\n",
       "      <td>0.3</td>\n",
       "    </tr>\n",
       "  </tbody>\n",
       "</table>\n",
       "</div>"
      ],
      "text/plain": [
       "                  box_office           budget         profit  ratings  title  \\\n",
       "type                                                                           \n",
       "Art         35,765,961,720.5 36,384,380,920.0  983,972,501.5      6.0    283   \n",
       "Animated     5,309,803,302.6  5,656,934,311.0 -328,424,928.4      5.7     30   \n",
       "Documentary              0.0     33,000,000.0            0.0      8.0      1   \n",
       "\n",
       "             profit%  count_ratio  \n",
       "type                               \n",
       "Art              2.8         90.1  \n",
       "Animated        -6.2          9.6  \n",
       "Documentary      NaN          0.3  "
      ]
     },
     "metadata": {},
     "output_type": "display_data"
    },
    {
     "name": "stdout",
     "output_type": "stream",
     "text": [
      "\n",
      "Film genres\n"
     ]
    },
    {
     "data": {
      "text/html": [
       "<div>\n",
       "<style scoped>\n",
       "    .dataframe tbody tr th:only-of-type {\n",
       "        vertical-align: middle;\n",
       "    }\n",
       "\n",
       "    .dataframe tbody tr th {\n",
       "        vertical-align: top;\n",
       "    }\n",
       "\n",
       "    .dataframe thead th {\n",
       "        text-align: right;\n",
       "    }\n",
       "</style>\n",
       "<table border=\"1\" class=\"dataframe\">\n",
       "  <thead>\n",
       "    <tr style=\"text-align: right;\">\n",
       "      <th></th>\n",
       "      <th>box_office</th>\n",
       "      <th>budget</th>\n",
       "      <th>profit</th>\n",
       "      <th>ratings</th>\n",
       "      <th>title</th>\n",
       "      <th>profit%</th>\n",
       "      <th>count_ratio</th>\n",
       "    </tr>\n",
       "    <tr>\n",
       "      <th>main_genre</th>\n",
       "      <th></th>\n",
       "      <th></th>\n",
       "      <th></th>\n",
       "      <th></th>\n",
       "      <th></th>\n",
       "      <th></th>\n",
       "      <th></th>\n",
       "    </tr>\n",
       "  </thead>\n",
       "  <tbody>\n",
       "    <tr>\n",
       "      <th>drama</th>\n",
       "      <td>9,393,990,547.8</td>\n",
       "      <td>10,487,189,856.0</td>\n",
       "      <td>-796,165,159.2</td>\n",
       "      <td>6.4</td>\n",
       "      <td>85</td>\n",
       "      <td>-8.5</td>\n",
       "      <td>27.1</td>\n",
       "    </tr>\n",
       "    <tr>\n",
       "      <th>comedy</th>\n",
       "      <td>12,060,398,000.3</td>\n",
       "      <td>5,822,251,639.0</td>\n",
       "      <td>6,388,293,863.3</td>\n",
       "      <td>5.5</td>\n",
       "      <td>71</td>\n",
       "      <td>53.0</td>\n",
       "      <td>22.6</td>\n",
       "    </tr>\n",
       "    <tr>\n",
       "      <th>cartoon</th>\n",
       "      <td>5,308,524,288.2</td>\n",
       "      <td>5,563,009,896.0</td>\n",
       "      <td>-235,779,527.8</td>\n",
       "      <td>5.8</td>\n",
       "      <td>30</td>\n",
       "      <td>-4.4</td>\n",
       "      <td>9.6</td>\n",
       "    </tr>\n",
       "    <tr>\n",
       "      <th>fantasy</th>\n",
       "      <td>1,156,182,549.7</td>\n",
       "      <td>3,794,561,187.0</td>\n",
       "      <td>-1,694,378,637.3</td>\n",
       "      <td>6.3</td>\n",
       "      <td>16</td>\n",
       "      <td>-146.5</td>\n",
       "      <td>5.1</td>\n",
       "    </tr>\n",
       "    <tr>\n",
       "      <th>no_info</th>\n",
       "      <td>1,481,720,584.6</td>\n",
       "      <td>1,044,788,062.0</td>\n",
       "      <td>484,666,572.6</td>\n",
       "      <td>NaN</td>\n",
       "      <td>15</td>\n",
       "      <td>32.7</td>\n",
       "      <td>4.8</td>\n",
       "    </tr>\n",
       "    <tr>\n",
       "      <th>thriller</th>\n",
       "      <td>700,450,190.1</td>\n",
       "      <td>1,350,960,940.0</td>\n",
       "      <td>-650,510,749.9</td>\n",
       "      <td>5.7</td>\n",
       "      <td>15</td>\n",
       "      <td>-92.9</td>\n",
       "      <td>4.8</td>\n",
       "    </tr>\n",
       "    <tr>\n",
       "      <th>melodrama</th>\n",
       "      <td>44,000,699.1</td>\n",
       "      <td>881,745,834.0</td>\n",
       "      <td>-776,745,134.9</td>\n",
       "      <td>5.8</td>\n",
       "      <td>13</td>\n",
       "      <td>-1,765.3</td>\n",
       "      <td>4.1</td>\n",
       "    </tr>\n",
       "    <tr>\n",
       "      <th>horror</th>\n",
       "      <td>710,123,189.4</td>\n",
       "      <td>563,877,625.0</td>\n",
       "      <td>146,245,564.4</td>\n",
       "      <td>5.2</td>\n",
       "      <td>10</td>\n",
       "      <td>20.6</td>\n",
       "      <td>3.2</td>\n",
       "    </tr>\n",
       "    <tr>\n",
       "      <th>military</th>\n",
       "      <td>1,017,670,471.8</td>\n",
       "      <td>1,285,906,825.0</td>\n",
       "      <td>-268,236,353.2</td>\n",
       "      <td>6.5</td>\n",
       "      <td>9</td>\n",
       "      <td>-26.4</td>\n",
       "      <td>2.9</td>\n",
       "    </tr>\n",
       "    <tr>\n",
       "      <th>adventure</th>\n",
       "      <td>1,205,596,976.6</td>\n",
       "      <td>3,374,742,189.0</td>\n",
       "      <td>-2,111,269,212.4</td>\n",
       "      <td>5.9</td>\n",
       "      <td>7</td>\n",
       "      <td>-175.1</td>\n",
       "      <td>2.2</td>\n",
       "    </tr>\n",
       "    <tr>\n",
       "      <th>detective</th>\n",
       "      <td>138,547,511.4</td>\n",
       "      <td>1,198,222,297.0</td>\n",
       "      <td>-1,059,674,785.6</td>\n",
       "      <td>6.8</td>\n",
       "      <td>5</td>\n",
       "      <td>-764.8</td>\n",
       "      <td>1.6</td>\n",
       "    </tr>\n",
       "    <tr>\n",
       "      <th>family</th>\n",
       "      <td>430,954,305.9</td>\n",
       "      <td>466,679,787.0</td>\n",
       "      <td>-2,725,481.2</td>\n",
       "      <td>5.8</td>\n",
       "      <td>5</td>\n",
       "      <td>-0.6</td>\n",
       "      <td>1.6</td>\n",
       "    </tr>\n",
       "    <tr>\n",
       "      <th>action</th>\n",
       "      <td>595,121,923.0</td>\n",
       "      <td>502,134,082.0</td>\n",
       "      <td>92,987,841.0</td>\n",
       "      <td>6.7</td>\n",
       "      <td>5</td>\n",
       "      <td>15.6</td>\n",
       "      <td>1.6</td>\n",
       "    </tr>\n",
       "    <tr>\n",
       "      <th>history</th>\n",
       "      <td>1,455,468,234.6</td>\n",
       "      <td>2,145,062,206.0</td>\n",
       "      <td>-689,593,971.4</td>\n",
       "      <td>5.3</td>\n",
       "      <td>4</td>\n",
       "      <td>-47.4</td>\n",
       "      <td>1.3</td>\n",
       "    </tr>\n",
       "    <tr>\n",
       "      <th>musical</th>\n",
       "      <td>101,705,005.0</td>\n",
       "      <td>564,197,472.0</td>\n",
       "      <td>-462,492,467.0</td>\n",
       "      <td>6.5</td>\n",
       "      <td>4</td>\n",
       "      <td>-454.7</td>\n",
       "      <td>1.3</td>\n",
       "    </tr>\n",
       "    <tr>\n",
       "      <th>crime</th>\n",
       "      <td>239,793,863.0</td>\n",
       "      <td>426,594,781.0</td>\n",
       "      <td>-186,800,918.0</td>\n",
       "      <td>7.5</td>\n",
       "      <td>3</td>\n",
       "      <td>-77.9</td>\n",
       "      <td>1.0</td>\n",
       "    </tr>\n",
       "    <tr>\n",
       "      <th>biography</th>\n",
       "      <td>516,883,037.6</td>\n",
       "      <td>528,933,637.0</td>\n",
       "      <td>-12,050,599.4</td>\n",
       "      <td>6.9</td>\n",
       "      <td>3</td>\n",
       "      <td>-2.3</td>\n",
       "      <td>1.0</td>\n",
       "    </tr>\n",
       "    <tr>\n",
       "      <th>fiction</th>\n",
       "      <td>1,252,160,650.0</td>\n",
       "      <td>540,345,455.0</td>\n",
       "      <td>711,815,195.0</td>\n",
       "      <td>4.8</td>\n",
       "      <td>3</td>\n",
       "      <td>56.8</td>\n",
       "      <td>1.0</td>\n",
       "    </tr>\n",
       "    <tr>\n",
       "      <th>children</th>\n",
       "      <td>3,013,652.0</td>\n",
       "      <td>139,298,004.0</td>\n",
       "      <td>-136,284,352.0</td>\n",
       "      <td>7.1</td>\n",
       "      <td>3</td>\n",
       "      <td>-4,522.2</td>\n",
       "      <td>1.0</td>\n",
       "    </tr>\n",
       "    <tr>\n",
       "      <th>sports</th>\n",
       "      <td>2,967,768,387.4</td>\n",
       "      <td>710,468,965.0</td>\n",
       "      <td>2,257,299,422.4</td>\n",
       "      <td>6.9</td>\n",
       "      <td>3</td>\n",
       "      <td>76.1</td>\n",
       "      <td>1.0</td>\n",
       "    </tr>\n",
       "    <tr>\n",
       "      <th>science fiction</th>\n",
       "      <td>262,162,840.5</td>\n",
       "      <td>377,441,766.0</td>\n",
       "      <td>-115,278,925.5</td>\n",
       "      <td>5.2</td>\n",
       "      <td>2</td>\n",
       "      <td>-44.0</td>\n",
       "      <td>0.6</td>\n",
       "    </tr>\n",
       "    <tr>\n",
       "      <th>children's</th>\n",
       "      <td>0.0</td>\n",
       "      <td>44,600,000.0</td>\n",
       "      <td>0.0</td>\n",
       "      <td>7.2</td>\n",
       "      <td>1</td>\n",
       "      <td>NaN</td>\n",
       "      <td>0.3</td>\n",
       "    </tr>\n",
       "    <tr>\n",
       "      <th>real tv</th>\n",
       "      <td>32,721,103.4</td>\n",
       "      <td>80,000,000.0</td>\n",
       "      <td>-47,278,896.6</td>\n",
       "      <td>5.6</td>\n",
       "      <td>1</td>\n",
       "      <td>-144.5</td>\n",
       "      <td>0.3</td>\n",
       "    </tr>\n",
       "    <tr>\n",
       "      <th>Action</th>\n",
       "      <td>807,011.5</td>\n",
       "      <td>181,302,726.0</td>\n",
       "      <td>-180,495,714.5</td>\n",
       "      <td>5.9</td>\n",
       "      <td>1</td>\n",
       "      <td>-22,365.9</td>\n",
       "      <td>0.3</td>\n",
       "    </tr>\n",
       "  </tbody>\n",
       "</table>\n",
       "</div>"
      ],
      "text/plain": [
       "                      box_office           budget           profit  ratings  \\\n",
       "main_genre                                                                    \n",
       "drama            9,393,990,547.8 10,487,189,856.0   -796,165,159.2      6.4   \n",
       "comedy          12,060,398,000.3  5,822,251,639.0  6,388,293,863.3      5.5   \n",
       "cartoon          5,308,524,288.2  5,563,009,896.0   -235,779,527.8      5.8   \n",
       "fantasy          1,156,182,549.7  3,794,561,187.0 -1,694,378,637.3      6.3   \n",
       "no_info          1,481,720,584.6  1,044,788,062.0    484,666,572.6      NaN   \n",
       "thriller           700,450,190.1  1,350,960,940.0   -650,510,749.9      5.7   \n",
       "melodrama           44,000,699.1    881,745,834.0   -776,745,134.9      5.8   \n",
       "horror             710,123,189.4    563,877,625.0    146,245,564.4      5.2   \n",
       "military         1,017,670,471.8  1,285,906,825.0   -268,236,353.2      6.5   \n",
       "adventure        1,205,596,976.6  3,374,742,189.0 -2,111,269,212.4      5.9   \n",
       "detective          138,547,511.4  1,198,222,297.0 -1,059,674,785.6      6.8   \n",
       "family             430,954,305.9    466,679,787.0     -2,725,481.2      5.8   \n",
       "action             595,121,923.0    502,134,082.0     92,987,841.0      6.7   \n",
       "history          1,455,468,234.6  2,145,062,206.0   -689,593,971.4      5.3   \n",
       "musical            101,705,005.0    564,197,472.0   -462,492,467.0      6.5   \n",
       "crime              239,793,863.0    426,594,781.0   -186,800,918.0      7.5   \n",
       "biography          516,883,037.6    528,933,637.0    -12,050,599.4      6.9   \n",
       "fiction          1,252,160,650.0    540,345,455.0    711,815,195.0      4.8   \n",
       "children             3,013,652.0    139,298,004.0   -136,284,352.0      7.1   \n",
       "sports           2,967,768,387.4    710,468,965.0  2,257,299,422.4      6.9   \n",
       "science fiction    262,162,840.5    377,441,766.0   -115,278,925.5      5.2   \n",
       "children's                   0.0     44,600,000.0              0.0      7.2   \n",
       "real tv             32,721,103.4     80,000,000.0    -47,278,896.6      5.6   \n",
       "Action                 807,011.5    181,302,726.0   -180,495,714.5      5.9   \n",
       "\n",
       "                 title   profit%  count_ratio  \n",
       "main_genre                                     \n",
       "drama               85      -8.5         27.1  \n",
       "comedy              71      53.0         22.6  \n",
       "cartoon             30      -4.4          9.6  \n",
       "fantasy             16    -146.5          5.1  \n",
       "no_info             15      32.7          4.8  \n",
       "thriller            15     -92.9          4.8  \n",
       "melodrama           13  -1,765.3          4.1  \n",
       "horror              10      20.6          3.2  \n",
       "military             9     -26.4          2.9  \n",
       "adventure            7    -175.1          2.2  \n",
       "detective            5    -764.8          1.6  \n",
       "family               5      -0.6          1.6  \n",
       "action               5      15.6          1.6  \n",
       "history              4     -47.4          1.3  \n",
       "musical              4    -454.7          1.3  \n",
       "crime                3     -77.9          1.0  \n",
       "biography            3      -2.3          1.0  \n",
       "fiction              3      56.8          1.0  \n",
       "children             3  -4,522.2          1.0  \n",
       "sports               3      76.1          1.0  \n",
       "science fiction      2     -44.0          0.6  \n",
       "children's           1       NaN          0.3  \n",
       "real tv              1    -144.5          0.3  \n",
       "Action               1 -22,365.9          0.3  "
      ]
     },
     "execution_count": 56,
     "metadata": {},
     "output_type": "execute_result"
    }
   ],
   "source": [
    "print('Film types')\n",
    "\n",
    "df_type = df_mk.pivot_table(index = 'type', values = ['box_office', 'budget', 'profit', 'title', 'ratings'], aggfunc = {\n",
    "    'box_office': sum,\n",
    "    'budget': sum,\n",
    "    'profit': sum,\n",
    "    'ratings': 'mean',\n",
    "    'title': 'count'\n",
    "})\n",
    "df_type['profit%'] = df_type['profit'] / df_type['box_office'] * 100\n",
    "df_type['count_ratio'] = df_type['title'] / df_type['title'].sum() * 100\n",
    "display(df_type.sort_values(by = 'title', ascending = False))\n",
    "\n",
    "print()\n",
    "\n",
    "df_genre = df_mk.pivot_table(index = 'main_genre', values = ['box_office', 'budget', 'profit', 'title', 'ratings'], aggfunc = {\n",
    "    'box_office': sum,\n",
    "    'budget': sum,\n",
    "    'profit': sum,\n",
    "    'ratings': 'mean',\n",
    "    'title': 'count'\n",
    "})\n",
    "df_genre['profit%'] = df_genre['profit'] / df_genre['box_office'] * 100\n",
    "df_genre['count_ratio'] = df_genre['title'] / df_genre['title'].sum() * 100\n",
    "\n",
    "print('Film genres')\n",
    "df_genre.sort_values(by = 'title', ascending = False)"
   ]
  },
  {
   "cell_type": "markdown",
   "metadata": {},
   "source": [
    "Comedies have the lowest (second from the bottom) rating and the highest profits and revenues. Comedies also make up 22.6% of all supported films. Dramas are unprofitable, but have a rating slightly above the average, and drama is the most frequently occurring genre in the sample - 27.1%. There are only three films supported in the sports genre and all of them have proved to be extremely successful both in terms of profits and ratings.\n",
    "\n",
    "Art films are the most common, making up 90% of the entire sample. Animated films are slightly less than 10% and their performance is below average, they are unprofitable and have a rating below average - 5.7"
   ]
  },
  {
   "cell_type": "markdown",
   "metadata": {},
   "source": [
    "### Conclusion"
   ]
  },
  {
   "cell_type": "markdown",
   "metadata": {},
   "source": [
    "- Only 2017 and 2018 showed a profit, the rest were unprofitable. Total profit result for the entire period, is close to zero, profitability below 1%.\n",
    "- The average film rating is kept at the level of 6 out of 10 for the entire period. Most films were supported in 2015, the same year there is the largest loss, the least in 2017 and the same year there is the largest profit.\n",
    "- The Cinema Fund and the Ministry of Culture subsidized approximately the same number of films from 2015 to 2019. At the same time, films that received support from the Ministry of Culture have a slightly higher average rating - 6.1, while they are very unprofitable - 5 billion box office against 11 billion of the budget (expenditures).\n",
    "- Films supported by the Cinema Fund have an average rating of 5.8, while their economic efficiency is much higher. Such films have earned 7.4 billion in profits for all time, which is 21% of the total\n",
    "- There are no films supported by the Ministry of Culture in the top 10 list by profit. In the top 10 list by rating only one film is supported by the Ministry of Culture, and another one has joint support.\n",
    "- In the top 10 by profit, films in the comedy genre are most often found, in the top 10 by rating - dramas.\n",
    "- No significant correlation was found between the data. The rating has nothing to do with the box office and profit of the film.\n",
    "- The smallest (second from the bottom) rating and the highest profits and revenues are seen for comedies. Comedies also make up 22.6% of all supported films.\n",
    "- Dramas are unprofitable, but they have a rating slightly above the average, and drama is the most common genre in the sample - 27.1%.\n",
    "- There are only three films supported in the sports genre and all of them have been extremely successful both in terms of profits and in terms of ratings.\n",
    "- Feature films are the most common, 90% of the entire sample. Animated films are slightly less than 10% and their performance is below average, they are unprofitable and have a rating below average - 5.7"
   ]
  },
  {
   "cell_type": "markdown",
   "metadata": {
    "id": "V2gYwMcPgFyd"
   },
   "source": [
    "## Research results"
   ]
  },
  {
   "cell_type": "markdown",
   "metadata": {
    "id": "AYRg3dzXgFye"
   },
   "source": [
    "**Important information:**\n",
    "- Apparently, the data before 2014 is corrupted. Only 25% of films have full release information versus 50% for films after 2014. Also, apparently, different methods were used to take into account the fees, until 2014, the fees were indicated in thousands, after that in numbers. Most of the analysis is based on data from 2015 to 2019\n",
    "\n",
    "**Study of the entire sample:**\n",
    "- Most rental certificates were issued in 2010, the least in 2017\n",
    "- The economic efficiency of rolled products can be graded as follows:\n",
    "\n",
    "1st place 2017\n",
    "\n",
    "2nd place 2018\n",
    "\n",
    "3rd place 2016 and 2019\n",
    "\n",
    "4th place 2015\n",
    "- The maximum amount of fees was observed in 2018, 49.6 billion, and the minimum in 2015, 39.5 billion\n",
    "- From 2015 to 2019, films with a 16+ age restriction have collected the most - 76 billion or 32% of all box office, and films with a 0+ restriction only 0.3%. Films rated 6+ and 12+ have similar box office numbers of 24% and 26% respectively. Movies rated 18+ made 17.4% or 40 billion.\n",
    "- The category 6+ turned out to be the most stable. Since 2016, fees have never fallen below 10 billion and they have been at the level of 10-12 billion throughout the years.\n",
    "- 18+ films are steadily growing from 5 billion in 2015 to 10 billion in 2019\n",
    "- The box office of 0+ films, on the contrary, is steadily falling. From almost 400 million in 2015 to 17 million in 2019\n",
    "- Films in the 12+ category have a more or less stable figure of 12 - 14 billion a year, with the exception of 2017, where the figure is 7 billion\n",
    "- Films in the 16+ category had the highest box office in the period from 2016 to 2018, while this category showed the largest figure of the entire sample of almost 19 billion in 2017. Perhaps we are dealing with a series like The Avengers or The Pirates of the Caribbean where one of the films received a different age restriction than usual\n",
    "\n",
    "**Study of supported films:**\n",
    "- Only 2017 and 2018 showed a profit, the rest were unprofitable. Total profit result for the entire period, is close to zero, profitability below 1%.\n",
    "- The average film rating is kept at the level of 6 out of 10 for the entire period. Most films were supported in 2015, the same year there is the largest loss, the least in 2017 and the same year there is the largest profit.\n",
    "- The Cinema Fund and the Ministry of Culture subsidized approximately the same number of films from 2015 to 2019. At the same time, films that received support from the Ministry of Culture have a slightly higher average rating - 6.1, while they are very unprofitable - 5 billion box office against 11 billion of the budget (expenditures).\n",
    "- Films supported by the Cinema Fund have an average rating of 5.8, while their economic efficiency is much higher. Such films have earned 7.4 billion in profits for all time, which is 21% of the total\n",
    "- There are no films supported by the Ministry of Culture in the top 10 list by profit. In the top 10 list by rating only one film is supported by the Ministry of Culture, and another one has joint support.\n",
    "- In the top 10 by profit, films in the comedy genre are most often found, in the top 10 by rating - dramas.\n",
    "- No significant correlation was found between the data. The rating has nothing to do with the box office and profit of the film.\n",
    "- The smallest (second from the bottom) rating and the highest profits and revenues are seen for comedies. Comedies also make up 22.6% of all supported films.\n",
    "- Dramas are unprofitable, but they have a rating slightly above the average, and drama is the most common genre in the sample - 27.1%.\n",
    "- There are only three films supported in the sports genre and all of them have been extremely successful both in terms of profits and in terms of ratings.\n",
    "- Feature films are the most common, 90% of the entire sample. Animated films are slightly less than 10% and their performance is below average, they are unprofitable and have a rating below average - 5.7"
   ]
  }
 ],
 "metadata": {
  "ExecuteTimeLog": [
   {
    "duration": 537,
    "start_time": "2021-07-07T10:12:08.634Z"
   },
   {
    "duration": 206,
    "start_time": "2021-07-07T10:12:30.191Z"
   },
   {
    "duration": 227,
    "start_time": "2021-07-07T10:12:33.078Z"
   },
   {
    "duration": 153,
    "start_time": "2021-07-07T10:13:42.146Z"
   },
   {
    "duration": 233,
    "start_time": "2021-07-07T10:30:09.252Z"
   },
   {
    "duration": 19,
    "start_time": "2021-07-07T10:30:15.577Z"
   },
   {
    "duration": 18,
    "start_time": "2021-07-07T10:30:57.348Z"
   },
   {
    "duration": 19,
    "start_time": "2021-07-07T10:31:17.452Z"
   },
   {
    "duration": 21,
    "start_time": "2021-07-07T10:31:32.227Z"
   },
   {
    "duration": 27,
    "start_time": "2021-07-07T10:32:06.588Z"
   },
   {
    "duration": 23,
    "start_time": "2021-07-07T10:32:43.645Z"
   },
   {
    "duration": 24,
    "start_time": "2021-07-07T10:33:06.948Z"
   },
   {
    "duration": 7,
    "start_time": "2021-07-07T10:33:28.558Z"
   },
   {
    "duration": 23,
    "start_time": "2021-07-07T10:33:43.761Z"
   },
   {
    "duration": 28,
    "start_time": "2021-07-07T10:34:13.466Z"
   },
   {
    "duration": 23,
    "start_time": "2021-07-07T10:35:56.187Z"
   },
   {
    "duration": 6,
    "start_time": "2021-07-07T10:36:48.182Z"
   },
   {
    "duration": 14,
    "start_time": "2021-07-07T10:37:49.641Z"
   },
   {
    "duration": 6,
    "start_time": "2021-07-07T10:38:06.694Z"
   },
   {
    "duration": 6,
    "start_time": "2021-07-07T10:38:13.493Z"
   },
   {
    "duration": 19,
    "start_time": "2021-07-07T10:38:44.056Z"
   },
   {
    "duration": 186,
    "start_time": "2021-07-07T10:48:35.618Z"
   },
   {
    "duration": 24,
    "start_time": "2021-07-07T10:48:51.498Z"
   },
   {
    "duration": 20,
    "start_time": "2021-07-07T10:48:59.415Z"
   },
   {
    "duration": 20,
    "start_time": "2021-07-07T10:53:02.195Z"
   },
   {
    "duration": 188,
    "start_time": "2021-07-07T10:54:40.486Z"
   },
   {
    "duration": 115,
    "start_time": "2021-07-07T10:54:52.552Z"
   },
   {
    "duration": 214,
    "start_time": "2021-07-07T10:54:56.354Z"
   },
   {
    "duration": 47,
    "start_time": "2021-07-07T10:54:58.282Z"
   },
   {
    "duration": 217,
    "start_time": "2021-07-07T10:59:16.075Z"
   },
   {
    "duration": 51,
    "start_time": "2021-07-07T10:59:16.243Z"
   },
   {
    "duration": 578,
    "start_time": "2021-07-07T10:59:18.774Z"
   },
   {
    "duration": 161,
    "start_time": "2021-07-07T10:59:21.238Z"
   },
   {
    "duration": 59,
    "start_time": "2021-07-07T10:59:21.453Z"
   },
   {
    "duration": 3,
    "start_time": "2021-07-07T11:02:10.786Z"
   },
   {
    "duration": 13,
    "start_time": "2021-07-07T11:07:07.722Z"
   },
   {
    "duration": 26,
    "start_time": "2021-07-07T11:07:17.958Z"
   },
   {
    "duration": 22,
    "start_time": "2021-07-07T11:08:17.939Z"
   },
   {
    "duration": 212,
    "start_time": "2021-07-07T11:08:19.665Z"
   },
   {
    "duration": 21,
    "start_time": "2021-07-07T11:08:29.945Z"
   },
   {
    "duration": 31,
    "start_time": "2021-07-07T11:08:38.899Z"
   },
   {
    "duration": 23,
    "start_time": "2021-07-07T11:08:54.527Z"
   },
   {
    "duration": 8,
    "start_time": "2021-07-07T11:18:55.974Z"
   },
   {
    "duration": 7,
    "start_time": "2021-07-07T11:19:03.639Z"
   },
   {
    "duration": 7,
    "start_time": "2021-07-07T11:19:06.444Z"
   },
   {
    "duration": 578,
    "start_time": "2021-07-07T12:09:59.576Z"
   },
   {
    "duration": 195,
    "start_time": "2021-07-07T12:10:00.156Z"
   },
   {
    "duration": 115,
    "start_time": "2021-07-07T12:10:00.353Z"
   },
   {
    "duration": 3,
    "start_time": "2021-07-07T12:10:00.470Z"
   },
   {
    "duration": 32,
    "start_time": "2021-07-07T12:10:00.474Z"
   },
   {
    "duration": 23,
    "start_time": "2021-07-07T12:10:00.508Z"
   },
   {
    "duration": 19,
    "start_time": "2021-07-07T12:10:00.533Z"
   },
   {
    "duration": 44,
    "start_time": "2021-07-07T12:10:00.553Z"
   },
   {
    "duration": 7,
    "start_time": "2021-07-07T12:10:00.600Z"
   },
   {
    "duration": 7,
    "start_time": "2021-07-07T12:19:45.761Z"
   },
   {
    "duration": 21,
    "start_time": "2021-07-07T12:21:35.482Z"
   },
   {
    "duration": 21,
    "start_time": "2021-07-07T12:29:23.569Z"
   },
   {
    "duration": 525,
    "start_time": "2021-07-07T12:29:44.542Z"
   },
   {
    "duration": 214,
    "start_time": "2021-07-07T12:29:45.069Z"
   },
   {
    "duration": 92,
    "start_time": "2021-07-07T12:29:45.285Z"
   },
   {
    "duration": 3,
    "start_time": "2021-07-07T12:29:45.379Z"
   },
   {
    "duration": 28,
    "start_time": "2021-07-07T12:29:45.384Z"
   },
   {
    "duration": 23,
    "start_time": "2021-07-07T12:29:45.413Z"
   },
   {
    "duration": 21,
    "start_time": "2021-07-07T12:29:45.437Z"
   },
   {
    "duration": 41,
    "start_time": "2021-07-07T12:29:45.460Z"
   },
   {
    "duration": 7,
    "start_time": "2021-07-07T12:29:45.502Z"
   },
   {
    "duration": 20,
    "start_time": "2021-07-07T12:29:45.511Z"
   },
   {
    "duration": 12,
    "start_time": "2021-07-07T12:34:02.800Z"
   },
   {
    "duration": 7,
    "start_time": "2021-07-07T12:35:10.479Z"
   },
   {
    "duration": 8,
    "start_time": "2021-07-07T12:35:22.440Z"
   },
   {
    "duration": 6,
    "start_time": "2021-07-07T12:35:35.649Z"
   },
   {
    "duration": 6,
    "start_time": "2021-07-07T12:35:43.107Z"
   },
   {
    "duration": 22,
    "start_time": "2021-07-07T12:38:03.029Z"
   },
   {
    "duration": 10,
    "start_time": "2021-07-07T12:38:06.592Z"
   },
   {
    "duration": 563,
    "start_time": "2021-07-07T12:38:46.493Z"
   },
   {
    "duration": 265,
    "start_time": "2021-07-07T12:38:47.058Z"
   },
   {
    "duration": 94,
    "start_time": "2021-07-07T12:38:47.325Z"
   },
   {
    "duration": 3,
    "start_time": "2021-07-07T12:38:47.422Z"
   },
   {
    "duration": 30,
    "start_time": "2021-07-07T12:38:47.427Z"
   },
   {
    "duration": 16,
    "start_time": "2021-07-07T12:38:53.305Z"
   },
   {
    "duration": 10,
    "start_time": "2021-07-07T12:38:53.499Z"
   },
   {
    "duration": 8,
    "start_time": "2021-07-07T12:39:48.161Z"
   },
   {
    "duration": 27,
    "start_time": "2021-07-07T12:41:17.629Z"
   },
   {
    "duration": 17,
    "start_time": "2021-07-07T12:41:17.867Z"
   },
   {
    "duration": 21,
    "start_time": "2021-07-07T12:41:19.310Z"
   },
   {
    "duration": 7,
    "start_time": "2021-07-07T12:41:19.544Z"
   },
   {
    "duration": 20,
    "start_time": "2021-07-07T12:41:20.504Z"
   },
   {
    "duration": 554,
    "start_time": "2021-07-07T12:56:23.696Z"
   },
   {
    "duration": 200,
    "start_time": "2021-07-07T12:56:25.234Z"
   },
   {
    "duration": 119,
    "start_time": "2021-07-07T12:56:25.480Z"
   },
   {
    "duration": 4,
    "start_time": "2021-07-07T12:56:25.762Z"
   },
   {
    "duration": 26,
    "start_time": "2021-07-07T12:56:27.172Z"
   },
   {
    "duration": 12,
    "start_time": "2021-07-07T12:56:29.051Z"
   },
   {
    "duration": 10,
    "start_time": "2021-07-07T12:56:29.291Z"
   },
   {
    "duration": 8,
    "start_time": "2021-07-07T12:56:29.623Z"
   },
   {
    "duration": 28,
    "start_time": "2021-07-07T12:56:32.137Z"
   },
   {
    "duration": 19,
    "start_time": "2021-07-07T12:56:39.785Z"
   },
   {
    "duration": 20,
    "start_time": "2021-07-07T12:56:44.297Z"
   },
   {
    "duration": 7,
    "start_time": "2021-07-07T12:56:45.392Z"
   },
   {
    "duration": 23,
    "start_time": "2021-07-07T12:56:46.615Z"
   },
   {
    "duration": 4,
    "start_time": "2021-07-07T12:57:06.625Z"
   },
   {
    "duration": 32,
    "start_time": "2021-07-07T12:57:36.690Z"
   },
   {
    "duration": 18,
    "start_time": "2021-07-07T12:58:00.149Z"
   },
   {
    "duration": 15,
    "start_time": "2021-07-07T12:59:16.793Z"
   },
   {
    "duration": 7,
    "start_time": "2021-07-07T13:19:22.624Z"
   },
   {
    "duration": 6,
    "start_time": "2021-07-07T14:17:33.527Z"
   },
   {
    "duration": 9,
    "start_time": "2021-07-07T14:17:48.409Z"
   },
   {
    "duration": 8,
    "start_time": "2021-07-07T14:20:13.060Z"
   },
   {
    "duration": 8,
    "start_time": "2021-07-07T14:20:37.957Z"
   },
   {
    "duration": 8,
    "start_time": "2021-07-07T14:20:47.470Z"
   },
   {
    "duration": 9,
    "start_time": "2021-07-07T14:20:54.503Z"
   },
   {
    "duration": 10,
    "start_time": "2021-07-07T14:28:57.763Z"
   },
   {
    "duration": 3,
    "start_time": "2021-07-07T14:30:23.377Z"
   },
   {
    "duration": 3,
    "start_time": "2021-07-07T14:30:36.489Z"
   },
   {
    "duration": 103,
    "start_time": "2021-07-07T14:30:52.351Z"
   },
   {
    "duration": 8,
    "start_time": "2021-07-07T14:30:54.763Z"
   },
   {
    "duration": 8,
    "start_time": "2021-07-07T14:31:29.301Z"
   },
   {
    "duration": 13,
    "start_time": "2021-07-07T14:31:44.516Z"
   },
   {
    "duration": 7,
    "start_time": "2021-07-07T14:33:10.972Z"
   },
   {
    "duration": 11,
    "start_time": "2021-07-07T14:33:27.780Z"
   },
   {
    "duration": 8,
    "start_time": "2021-07-07T14:34:44.588Z"
   },
   {
    "duration": 57,
    "start_time": "2021-07-07T14:35:59.042Z"
   },
   {
    "duration": 3,
    "start_time": "2021-07-07T14:36:28.168Z"
   },
   {
    "duration": 5,
    "start_time": "2021-07-07T14:36:46.254Z"
   },
   {
    "duration": 4,
    "start_time": "2021-07-07T14:36:52.714Z"
   },
   {
    "duration": 3,
    "start_time": "2021-07-07T14:36:56.612Z"
   },
   {
    "duration": 4,
    "start_time": "2021-07-07T14:36:57.049Z"
   },
   {
    "duration": 3,
    "start_time": "2021-07-07T14:39:21.214Z"
   },
   {
    "duration": 7,
    "start_time": "2021-07-07T14:39:52.406Z"
   },
   {
    "duration": 11,
    "start_time": "2021-07-07T14:39:58.576Z"
   },
   {
    "duration": 9,
    "start_time": "2021-07-07T14:40:26.301Z"
   },
   {
    "duration": 10,
    "start_time": "2021-07-07T14:40:31.704Z"
   },
   {
    "duration": 11,
    "start_time": "2021-07-07T14:40:36.249Z"
   },
   {
    "duration": 10,
    "start_time": "2021-07-07T14:40:39.783Z"
   },
   {
    "duration": 9,
    "start_time": "2021-07-07T14:40:48.558Z"
   },
   {
    "duration": 10,
    "start_time": "2021-07-07T14:40:57.143Z"
   },
   {
    "duration": 9,
    "start_time": "2021-07-07T14:41:06.074Z"
   },
   {
    "duration": 4324,
    "start_time": "2021-07-07T14:41:22.004Z"
   },
   {
    "duration": 11,
    "start_time": "2021-07-07T14:41:33.392Z"
   },
   {
    "duration": 9,
    "start_time": "2021-07-07T14:41:39.288Z"
   },
   {
    "duration": 569,
    "start_time": "2021-07-07T14:42:14.387Z"
   },
   {
    "duration": 197,
    "start_time": "2021-07-07T14:42:14.959Z"
   },
   {
    "duration": 84,
    "start_time": "2021-07-07T14:42:16.052Z"
   },
   {
    "duration": 4,
    "start_time": "2021-07-07T14:42:16.900Z"
   },
   {
    "duration": 27,
    "start_time": "2021-07-07T14:42:19.898Z"
   },
   {
    "duration": 12,
    "start_time": "2021-07-07T14:42:21.577Z"
   },
   {
    "duration": 9,
    "start_time": "2021-07-07T14:42:21.813Z"
   },
   {
    "duration": 9,
    "start_time": "2021-07-07T14:42:22.569Z"
   },
   {
    "duration": 29,
    "start_time": "2021-07-07T14:42:25.837Z"
   },
   {
    "duration": 20,
    "start_time": "2021-07-07T14:42:27.003Z"
   },
   {
    "duration": 21,
    "start_time": "2021-07-07T14:42:28.767Z"
   },
   {
    "duration": 7,
    "start_time": "2021-07-07T14:42:29.838Z"
   },
   {
    "duration": 4,
    "start_time": "2021-07-07T14:43:25.493Z"
   },
   {
    "duration": 7,
    "start_time": "2021-07-07T14:43:26.573Z"
   },
   {
    "duration": 10,
    "start_time": "2021-07-07T14:43:31.639Z"
   },
   {
    "duration": 9,
    "start_time": "2021-07-07T14:43:32.046Z"
   },
   {
    "duration": 10,
    "start_time": "2021-07-07T14:43:33.301Z"
   },
   {
    "duration": 12,
    "start_time": "2021-07-07T14:43:33.658Z"
   },
   {
    "duration": 8,
    "start_time": "2021-07-07T14:43:34.552Z"
   },
   {
    "duration": 9,
    "start_time": "2021-07-07T14:43:35.058Z"
   },
   {
    "duration": 12,
    "start_time": "2021-07-07T14:43:35.914Z"
   },
   {
    "duration": 17,
    "start_time": "2021-07-07T14:45:34.368Z"
   },
   {
    "duration": 512,
    "start_time": "2021-07-07T14:51:58.236Z"
   },
   {
    "duration": 223,
    "start_time": "2021-07-07T14:51:58.750Z"
   },
   {
    "duration": 93,
    "start_time": "2021-07-07T14:51:58.977Z"
   },
   {
    "duration": 4,
    "start_time": "2021-07-07T14:51:59.071Z"
   },
   {
    "duration": 37,
    "start_time": "2021-07-07T14:51:59.077Z"
   },
   {
    "duration": 18,
    "start_time": "2021-07-07T14:51:59.116Z"
   },
   {
    "duration": 10,
    "start_time": "2021-07-07T14:51:59.137Z"
   },
   {
    "duration": 8,
    "start_time": "2021-07-07T14:51:59.149Z"
   },
   {
    "duration": 54,
    "start_time": "2021-07-07T14:51:59.158Z"
   },
   {
    "duration": 18,
    "start_time": "2021-07-07T14:51:59.213Z"
   },
   {
    "duration": 22,
    "start_time": "2021-07-07T14:51:59.232Z"
   },
   {
    "duration": 36,
    "start_time": "2021-07-07T14:51:59.255Z"
   },
   {
    "duration": 7,
    "start_time": "2021-07-07T14:51:59.293Z"
   },
   {
    "duration": 10,
    "start_time": "2021-07-07T14:51:59.302Z"
   },
   {
    "duration": 9,
    "start_time": "2021-07-07T14:51:59.313Z"
   },
   {
    "duration": 11,
    "start_time": "2021-07-07T14:51:59.324Z"
   },
   {
    "duration": 8,
    "start_time": "2021-07-07T14:51:59.337Z"
   },
   {
    "duration": 46,
    "start_time": "2021-07-07T14:51:59.347Z"
   },
   {
    "duration": 22,
    "start_time": "2021-07-07T14:51:59.395Z"
   },
   {
    "duration": 24,
    "start_time": "2021-07-07T14:57:32.911Z"
   },
   {
    "duration": 7,
    "start_time": "2021-07-07T14:58:22.070Z"
   },
   {
    "duration": 4,
    "start_time": "2021-07-07T14:59:11.239Z"
   },
   {
    "duration": 25,
    "start_time": "2021-07-07T15:07:22.208Z"
   },
   {
    "duration": 16,
    "start_time": "2021-07-07T15:08:25.560Z"
   },
   {
    "duration": 15,
    "start_time": "2021-07-07T15:08:40.647Z"
   },
   {
    "duration": 14,
    "start_time": "2021-07-07T15:08:46.669Z"
   },
   {
    "duration": 533,
    "start_time": "2021-07-07T15:18:07.440Z"
   },
   {
    "duration": 173,
    "start_time": "2021-07-07T15:18:07.974Z"
   },
   {
    "duration": 84,
    "start_time": "2021-07-07T15:18:08.149Z"
   },
   {
    "duration": 3,
    "start_time": "2021-07-07T15:18:08.235Z"
   },
   {
    "duration": 30,
    "start_time": "2021-07-07T15:18:08.240Z"
   },
   {
    "duration": 22,
    "start_time": "2021-07-07T15:18:08.272Z"
   },
   {
    "duration": 11,
    "start_time": "2021-07-07T15:18:08.295Z"
   },
   {
    "duration": 11,
    "start_time": "2021-07-07T15:18:08.309Z"
   },
   {
    "duration": 40,
    "start_time": "2021-07-07T15:18:08.322Z"
   },
   {
    "duration": 42,
    "start_time": "2021-07-07T15:18:08.364Z"
   },
   {
    "duration": 22,
    "start_time": "2021-07-07T15:18:08.408Z"
   },
   {
    "duration": 5,
    "start_time": "2021-07-07T15:18:08.432Z"
   },
   {
    "duration": 13,
    "start_time": "2021-07-07T15:18:08.439Z"
   },
   {
    "duration": 9,
    "start_time": "2021-07-07T15:18:08.454Z"
   },
   {
    "duration": 32,
    "start_time": "2021-07-07T15:18:08.465Z"
   },
   {
    "duration": 10,
    "start_time": "2021-07-07T15:18:08.501Z"
   },
   {
    "duration": 7,
    "start_time": "2021-07-07T15:18:08.513Z"
   },
   {
    "duration": 11,
    "start_time": "2021-07-07T15:18:08.521Z"
   },
   {
    "duration": 17,
    "start_time": "2021-07-07T15:18:08.534Z"
   },
   {
    "duration": 44,
    "start_time": "2021-07-07T15:18:08.553Z"
   },
   {
    "duration": 22,
    "start_time": "2021-07-07T15:18:08.599Z"
   },
   {
    "duration": 61,
    "start_time": "2021-07-07T15:18:08.622Z"
   },
   {
    "duration": 7,
    "start_time": "2021-07-07T15:18:39.457Z"
   },
   {
    "duration": 5,
    "start_time": "2021-07-07T16:05:17.020Z"
   },
   {
    "duration": 5,
    "start_time": "2021-07-07T16:51:28.794Z"
   },
   {
    "duration": 546,
    "start_time": "2021-07-07T16:52:26.306Z"
   },
   {
    "duration": 203,
    "start_time": "2021-07-07T16:52:27.523Z"
   },
   {
    "duration": 85,
    "start_time": "2021-07-07T16:52:27.736Z"
   },
   {
    "duration": 4,
    "start_time": "2021-07-07T16:52:27.899Z"
   },
   {
    "duration": 25,
    "start_time": "2021-07-07T16:52:28.674Z"
   },
   {
    "duration": 8,
    "start_time": "2021-07-07T16:52:32.956Z"
   },
   {
    "duration": 18,
    "start_time": "2021-07-07T16:52:35.616Z"
   },
   {
    "duration": 6,
    "start_time": "2021-07-07T16:52:36.913Z"
   },
   {
    "duration": 11,
    "start_time": "2021-07-07T16:52:40.258Z"
   },
   {
    "duration": 10,
    "start_time": "2021-07-07T16:52:46.251Z"
   },
   {
    "duration": 8,
    "start_time": "2021-07-07T16:52:47.182Z"
   },
   {
    "duration": 27,
    "start_time": "2021-07-07T16:53:20.391Z"
   },
   {
    "duration": 20,
    "start_time": "2021-07-07T16:53:22.022Z"
   },
   {
    "duration": 23,
    "start_time": "2021-07-07T16:53:23.690Z"
   },
   {
    "duration": 8,
    "start_time": "2021-07-07T16:53:24.261Z"
   },
   {
    "duration": 4,
    "start_time": "2021-07-07T16:53:38.733Z"
   },
   {
    "duration": 7,
    "start_time": "2021-07-07T16:53:40.445Z"
   },
   {
    "duration": 11,
    "start_time": "2021-07-07T16:53:41.348Z"
   },
   {
    "duration": 13,
    "start_time": "2021-07-07T16:53:45.250Z"
   },
   {
    "duration": 12,
    "start_time": "2021-07-07T16:53:45.467Z"
   },
   {
    "duration": 4,
    "start_time": "2021-07-07T16:55:32.704Z"
   },
   {
    "duration": 12,
    "start_time": "2021-07-07T16:55:49.012Z"
   },
   {
    "duration": 18,
    "start_time": "2021-07-07T16:55:49.547Z"
   },
   {
    "duration": 611,
    "start_time": "2021-07-07T16:58:35.156Z"
   },
   {
    "duration": 200,
    "start_time": "2021-07-07T16:58:35.770Z"
   },
   {
    "duration": 86,
    "start_time": "2021-07-07T16:58:35.972Z"
   },
   {
    "duration": 3,
    "start_time": "2021-07-07T16:58:36.060Z"
   },
   {
    "duration": 27,
    "start_time": "2021-07-07T16:58:36.065Z"
   },
   {
    "duration": 8,
    "start_time": "2021-07-07T16:58:36.094Z"
   },
   {
    "duration": 17,
    "start_time": "2021-07-07T16:58:36.103Z"
   },
   {
    "duration": 5,
    "start_time": "2021-07-07T16:58:36.123Z"
   },
   {
    "duration": 11,
    "start_time": "2021-07-07T16:58:36.130Z"
   },
   {
    "duration": 7,
    "start_time": "2021-07-07T16:58:36.143Z"
   },
   {
    "duration": 37,
    "start_time": "2021-07-07T16:58:36.152Z"
   },
   {
    "duration": 27,
    "start_time": "2021-07-07T16:58:36.191Z"
   },
   {
    "duration": 19,
    "start_time": "2021-07-07T16:58:36.219Z"
   },
   {
    "duration": 49,
    "start_time": "2021-07-07T16:58:36.240Z"
   },
   {
    "duration": 6,
    "start_time": "2021-07-07T16:58:36.291Z"
   },
   {
    "duration": 3,
    "start_time": "2021-07-07T16:58:36.299Z"
   },
   {
    "duration": 13,
    "start_time": "2021-07-07T16:58:36.304Z"
   },
   {
    "duration": 10,
    "start_time": "2021-07-07T16:58:36.319Z"
   },
   {
    "duration": 10,
    "start_time": "2021-07-07T16:58:36.331Z"
   },
   {
    "duration": 44,
    "start_time": "2021-07-07T16:58:36.343Z"
   },
   {
    "duration": 4,
    "start_time": "2021-07-07T16:58:36.388Z"
   },
   {
    "duration": 13,
    "start_time": "2021-07-07T16:58:36.394Z"
   },
   {
    "duration": 16,
    "start_time": "2021-07-07T16:58:36.410Z"
   },
   {
    "duration": 8,
    "start_time": "2021-07-07T17:02:31.629Z"
   },
   {
    "duration": 8,
    "start_time": "2021-07-07T17:02:34.308Z"
   },
   {
    "duration": 6,
    "start_time": "2021-07-07T17:05:13.483Z"
   },
   {
    "duration": 17,
    "start_time": "2021-07-07T17:05:20.606Z"
   },
   {
    "duration": 7,
    "start_time": "2021-07-07T17:05:34.638Z"
   },
   {
    "duration": 3,
    "start_time": "2021-07-07T17:06:31.883Z"
   },
   {
    "duration": 570,
    "start_time": "2021-07-07T17:06:37.165Z"
   },
   {
    "duration": 174,
    "start_time": "2021-07-07T17:06:37.737Z"
   },
   {
    "duration": 47,
    "start_time": "2021-07-07T17:06:37.913Z"
   },
   {
    "duration": 3,
    "start_time": "2021-07-07T17:06:37.962Z"
   },
   {
    "duration": 27,
    "start_time": "2021-07-07T17:06:37.967Z"
   },
   {
    "duration": 7,
    "start_time": "2021-07-07T17:06:37.996Z"
   },
   {
    "duration": 16,
    "start_time": "2021-07-07T17:06:38.005Z"
   },
   {
    "duration": 6,
    "start_time": "2021-07-07T17:06:38.024Z"
   },
   {
    "duration": 12,
    "start_time": "2021-07-07T17:06:38.031Z"
   },
   {
    "duration": 41,
    "start_time": "2021-07-07T17:06:38.045Z"
   },
   {
    "duration": 8,
    "start_time": "2021-07-07T17:06:38.088Z"
   },
   {
    "duration": 26,
    "start_time": "2021-07-07T17:06:38.098Z"
   },
   {
    "duration": 17,
    "start_time": "2021-07-07T17:06:38.126Z"
   },
   {
    "duration": 43,
    "start_time": "2021-07-07T17:06:38.144Z"
   },
   {
    "duration": 6,
    "start_time": "2021-07-07T17:06:38.188Z"
   },
   {
    "duration": 5,
    "start_time": "2021-07-07T17:06:38.195Z"
   },
   {
    "duration": 9,
    "start_time": "2021-07-07T17:06:38.201Z"
   },
   {
    "duration": 12,
    "start_time": "2021-07-07T17:06:38.212Z"
   },
   {
    "duration": 11,
    "start_time": "2021-07-07T17:06:38.226Z"
   },
   {
    "duration": 47,
    "start_time": "2021-07-07T17:06:38.239Z"
   },
   {
    "duration": 4,
    "start_time": "2021-07-07T17:06:38.288Z"
   },
   {
    "duration": 13,
    "start_time": "2021-07-07T17:06:38.293Z"
   },
   {
    "duration": 5,
    "start_time": "2021-07-07T17:06:38.309Z"
   },
   {
    "duration": 18,
    "start_time": "2021-07-07T17:06:38.325Z"
   },
   {
    "duration": 20,
    "start_time": "2021-07-07T17:07:02.805Z"
   },
   {
    "duration": 19,
    "start_time": "2021-07-07T17:07:08.527Z"
   },
   {
    "duration": 19,
    "start_time": "2021-07-07T17:07:12.758Z"
   },
   {
    "duration": 22,
    "start_time": "2021-07-07T17:07:17.497Z"
   },
   {
    "duration": 19,
    "start_time": "2021-07-07T17:07:19.645Z"
   },
   {
    "duration": 10,
    "start_time": "2021-07-07T17:07:34.239Z"
   },
   {
    "duration": 17,
    "start_time": "2021-07-07T17:07:54.144Z"
   },
   {
    "duration": 14,
    "start_time": "2021-07-07T17:08:14.357Z"
   },
   {
    "duration": 616,
    "start_time": "2021-07-07T17:08:45.254Z"
   },
   {
    "duration": 178,
    "start_time": "2021-07-07T17:08:45.872Z"
   },
   {
    "duration": 60,
    "start_time": "2021-07-07T17:08:46.054Z"
   },
   {
    "duration": 3,
    "start_time": "2021-07-07T17:08:46.116Z"
   },
   {
    "duration": 26,
    "start_time": "2021-07-07T17:08:46.121Z"
   },
   {
    "duration": 7,
    "start_time": "2021-07-07T17:08:46.149Z"
   },
   {
    "duration": 17,
    "start_time": "2021-07-07T17:08:46.158Z"
   },
   {
    "duration": 14,
    "start_time": "2021-07-07T17:08:46.176Z"
   },
   {
    "duration": 17,
    "start_time": "2021-07-07T17:08:46.193Z"
   },
   {
    "duration": 9,
    "start_time": "2021-07-07T17:08:46.211Z"
   },
   {
    "duration": 21,
    "start_time": "2021-07-07T17:08:46.221Z"
   },
   {
    "duration": 49,
    "start_time": "2021-07-07T17:08:46.244Z"
   },
   {
    "duration": 24,
    "start_time": "2021-07-07T17:08:46.295Z"
   },
   {
    "duration": 22,
    "start_time": "2021-07-07T17:08:46.321Z"
   },
   {
    "duration": 6,
    "start_time": "2021-07-07T17:08:46.345Z"
   },
   {
    "duration": 5,
    "start_time": "2021-07-07T17:08:46.353Z"
   },
   {
    "duration": 13,
    "start_time": "2021-07-07T17:08:46.386Z"
   },
   {
    "duration": 12,
    "start_time": "2021-07-07T17:08:46.402Z"
   },
   {
    "duration": 10,
    "start_time": "2021-07-07T17:08:46.415Z"
   },
   {
    "duration": 7,
    "start_time": "2021-07-07T17:08:46.427Z"
   },
   {
    "duration": 8,
    "start_time": "2021-07-07T17:08:46.435Z"
   },
   {
    "duration": 68,
    "start_time": "2021-07-07T17:08:46.446Z"
   },
   {
    "duration": 13,
    "start_time": "2021-07-07T17:08:46.516Z"
   },
   {
    "duration": 78,
    "start_time": "2021-07-07T17:08:46.530Z"
   },
   {
    "duration": 40,
    "start_time": "2021-07-07T17:09:08.185Z"
   },
   {
    "duration": 16,
    "start_time": "2021-07-07T17:09:19.324Z"
   },
   {
    "duration": 21,
    "start_time": "2021-07-07T17:09:23.290Z"
   },
   {
    "duration": 13,
    "start_time": "2021-07-07T17:09:54.812Z"
   },
   {
    "duration": 13,
    "start_time": "2021-07-07T17:10:02.039Z"
   },
   {
    "duration": 10,
    "start_time": "2021-07-07T17:10:29.632Z"
   },
   {
    "duration": 13,
    "start_time": "2021-07-07T17:10:52.372Z"
   },
   {
    "duration": 13,
    "start_time": "2021-07-07T17:11:17.270Z"
   },
   {
    "duration": 13,
    "start_time": "2021-07-07T17:14:59.284Z"
   },
   {
    "duration": 547,
    "start_time": "2021-07-07T17:18:52.403Z"
   },
   {
    "duration": 163,
    "start_time": "2021-07-07T17:18:52.952Z"
   },
   {
    "duration": 44,
    "start_time": "2021-07-07T17:18:53.117Z"
   },
   {
    "duration": 3,
    "start_time": "2021-07-07T17:18:53.162Z"
   },
   {
    "duration": 26,
    "start_time": "2021-07-07T17:18:53.167Z"
   },
   {
    "duration": 6,
    "start_time": "2021-07-07T17:18:53.195Z"
   },
   {
    "duration": 15,
    "start_time": "2021-07-07T17:18:53.203Z"
   },
   {
    "duration": 5,
    "start_time": "2021-07-07T17:18:53.220Z"
   },
   {
    "duration": 11,
    "start_time": "2021-07-07T17:18:53.228Z"
   },
   {
    "duration": 9,
    "start_time": "2021-07-07T17:18:53.241Z"
   },
   {
    "duration": 41,
    "start_time": "2021-07-07T17:18:53.252Z"
   },
   {
    "duration": 33,
    "start_time": "2021-07-07T17:18:53.295Z"
   },
   {
    "duration": 19,
    "start_time": "2021-07-07T17:18:53.330Z"
   },
   {
    "duration": 49,
    "start_time": "2021-07-07T17:18:53.350Z"
   },
   {
    "duration": 5,
    "start_time": "2021-07-07T17:18:53.401Z"
   },
   {
    "duration": 5,
    "start_time": "2021-07-07T17:18:53.408Z"
   },
   {
    "duration": 11,
    "start_time": "2021-07-07T17:18:53.414Z"
   },
   {
    "duration": 9,
    "start_time": "2021-07-07T17:18:53.427Z"
   },
   {
    "duration": 10,
    "start_time": "2021-07-07T17:18:53.437Z"
   },
   {
    "duration": 39,
    "start_time": "2021-07-07T17:18:53.448Z"
   },
   {
    "duration": 26,
    "start_time": "2021-07-07T17:18:55.799Z"
   },
   {
    "duration": 598,
    "start_time": "2021-07-07T17:20:17.862Z"
   },
   {
    "duration": 161,
    "start_time": "2021-07-07T17:20:18.462Z"
   },
   {
    "duration": 45,
    "start_time": "2021-07-07T17:20:18.626Z"
   },
   {
    "duration": 4,
    "start_time": "2021-07-07T17:20:18.673Z"
   },
   {
    "duration": 38,
    "start_time": "2021-07-07T17:20:26.877Z"
   },
   {
    "duration": 7,
    "start_time": "2021-07-07T17:20:37.405Z"
   },
   {
    "duration": 19,
    "start_time": "2021-07-07T17:20:51.534Z"
   },
   {
    "duration": 5,
    "start_time": "2021-07-07T17:20:57.228Z"
   },
   {
    "duration": 7,
    "start_time": "2021-07-07T17:21:08.235Z"
   },
   {
    "duration": 19,
    "start_time": "2021-07-07T17:21:42.158Z"
   },
   {
    "duration": 14,
    "start_time": "2021-07-07T17:21:50.225Z"
   },
   {
    "duration": 22,
    "start_time": "2021-07-07T17:22:54.104Z"
   },
   {
    "duration": 5,
    "start_time": "2021-07-07T17:22:56.371Z"
   },
   {
    "duration": 14,
    "start_time": "2021-07-07T17:22:58.316Z"
   },
   {
    "duration": 5,
    "start_time": "2021-07-07T17:22:58.493Z"
   },
   {
    "duration": 35,
    "start_time": "2021-07-07T17:22:59.666Z"
   },
   {
    "duration": 6,
    "start_time": "2021-07-07T17:23:02.410Z"
   },
   {
    "duration": 611,
    "start_time": "2021-07-07T17:24:59.664Z"
   },
   {
    "duration": 178,
    "start_time": "2021-07-07T17:25:01.945Z"
   },
   {
    "duration": 47,
    "start_time": "2021-07-07T17:25:02.125Z"
   },
   {
    "duration": 2,
    "start_time": "2021-07-07T17:25:07.903Z"
   },
   {
    "duration": 254,
    "start_time": "2021-07-07T17:25:08.232Z"
   },
   {
    "duration": 182,
    "start_time": "2021-07-07T17:25:08.671Z"
   },
   {
    "duration": 6,
    "start_time": "2021-07-07T17:25:13.104Z"
   },
   {
    "duration": 36,
    "start_time": "2021-07-07T17:25:13.662Z"
   },
   {
    "duration": 7,
    "start_time": "2021-07-07T17:25:14.528Z"
   },
   {
    "duration": 24,
    "start_time": "2021-07-07T17:25:27.982Z"
   },
   {
    "duration": 3,
    "start_time": "2021-07-07T17:25:48.982Z"
   },
   {
    "duration": 165,
    "start_time": "2021-07-07T17:25:48.987Z"
   },
   {
    "duration": 50,
    "start_time": "2021-07-07T17:25:49.154Z"
   },
   {
    "duration": 4,
    "start_time": "2021-07-07T17:25:49.206Z"
   },
   {
    "duration": 26,
    "start_time": "2021-07-07T17:25:49.212Z"
   },
   {
    "duration": 7,
    "start_time": "2021-07-07T17:25:49.240Z"
   },
   {
    "duration": 16,
    "start_time": "2021-07-07T17:25:49.249Z"
   },
   {
    "duration": 22,
    "start_time": "2021-07-07T17:25:49.266Z"
   },
   {
    "duration": 16,
    "start_time": "2021-07-07T17:25:49.291Z"
   },
   {
    "duration": 9,
    "start_time": "2021-07-07T17:25:49.309Z"
   },
   {
    "duration": 7,
    "start_time": "2021-07-07T17:25:49.319Z"
   },
   {
    "duration": 28,
    "start_time": "2021-07-07T17:25:49.328Z"
   },
   {
    "duration": 44,
    "start_time": "2021-07-07T17:25:49.357Z"
   },
   {
    "duration": 22,
    "start_time": "2021-07-07T17:25:49.403Z"
   },
   {
    "duration": 7,
    "start_time": "2021-07-07T17:25:49.427Z"
   },
   {
    "duration": 3,
    "start_time": "2021-07-07T17:25:49.436Z"
   },
   {
    "duration": 44,
    "start_time": "2021-07-07T17:25:49.441Z"
   },
   {
    "duration": 12,
    "start_time": "2021-07-07T17:25:49.488Z"
   },
   {
    "duration": 13,
    "start_time": "2021-07-07T17:25:49.502Z"
   },
   {
    "duration": 10,
    "start_time": "2021-07-07T17:25:49.516Z"
   },
   {
    "duration": 62,
    "start_time": "2021-07-07T17:25:49.527Z"
   },
   {
    "duration": 26,
    "start_time": "2021-07-07T17:26:51.809Z"
   },
   {
    "duration": 26,
    "start_time": "2021-07-07T17:26:55.759Z"
   },
   {
    "duration": 26,
    "start_time": "2021-07-07T17:27:04.501Z"
   },
   {
    "duration": 25,
    "start_time": "2021-07-07T17:28:24.859Z"
   },
   {
    "duration": 21,
    "start_time": "2021-07-07T17:28:55.250Z"
   },
   {
    "duration": 21,
    "start_time": "2021-07-07T17:28:58.885Z"
   },
   {
    "duration": 7,
    "start_time": "2021-07-07T17:45:40.972Z"
   },
   {
    "duration": 13,
    "start_time": "2021-07-07T17:45:42.529Z"
   },
   {
    "duration": 27,
    "start_time": "2021-07-07T17:45:51.026Z"
   },
   {
    "duration": 518,
    "start_time": "2021-07-07T17:46:15.532Z"
   },
   {
    "duration": 235,
    "start_time": "2021-07-07T17:46:16.053Z"
   },
   {
    "duration": 80,
    "start_time": "2021-07-07T17:46:16.292Z"
   },
   {
    "duration": 5,
    "start_time": "2021-07-07T17:46:16.373Z"
   },
   {
    "duration": 26,
    "start_time": "2021-07-07T17:46:16.380Z"
   },
   {
    "duration": 7,
    "start_time": "2021-07-07T17:46:16.408Z"
   },
   {
    "duration": 16,
    "start_time": "2021-07-07T17:46:16.418Z"
   },
   {
    "duration": 5,
    "start_time": "2021-07-07T17:46:16.436Z"
   },
   {
    "duration": 13,
    "start_time": "2021-07-07T17:46:16.442Z"
   },
   {
    "duration": 35,
    "start_time": "2021-07-07T17:46:16.456Z"
   },
   {
    "duration": 8,
    "start_time": "2021-07-07T17:46:16.493Z"
   },
   {
    "duration": 28,
    "start_time": "2021-07-07T17:46:16.502Z"
   },
   {
    "duration": 17,
    "start_time": "2021-07-07T17:46:16.532Z"
   },
   {
    "duration": 44,
    "start_time": "2021-07-07T17:46:16.551Z"
   },
   {
    "duration": 6,
    "start_time": "2021-07-07T17:46:16.597Z"
   },
   {
    "duration": 4,
    "start_time": "2021-07-07T17:46:16.605Z"
   },
   {
    "duration": 9,
    "start_time": "2021-07-07T17:46:16.610Z"
   },
   {
    "duration": 9,
    "start_time": "2021-07-07T17:46:16.621Z"
   },
   {
    "duration": 10,
    "start_time": "2021-07-07T17:46:16.632Z"
   },
   {
    "duration": 43,
    "start_time": "2021-07-07T17:46:16.644Z"
   },
   {
    "duration": 26,
    "start_time": "2021-07-07T17:46:16.689Z"
   },
   {
    "duration": 19,
    "start_time": "2021-07-07T17:46:16.718Z"
   },
   {
    "duration": 8,
    "start_time": "2021-07-07T17:46:16.738Z"
   },
   {
    "duration": 43,
    "start_time": "2021-07-07T17:46:16.747Z"
   },
   {
    "duration": 19,
    "start_time": "2021-07-07T17:46:16.791Z"
   },
   {
    "duration": 9,
    "start_time": "2021-07-07T17:46:16.812Z"
   },
   {
    "duration": 60,
    "start_time": "2021-07-07T17:46:16.822Z"
   },
   {
    "duration": -8,
    "start_time": "2021-07-07T17:46:16.892Z"
   },
   {
    "duration": 12,
    "start_time": "2021-07-07T17:48:47.707Z"
   },
   {
    "duration": 553,
    "start_time": "2021-07-07T18:10:09.350Z"
   },
   {
    "duration": 230,
    "start_time": "2021-07-07T18:10:09.905Z"
   },
   {
    "duration": 97,
    "start_time": "2021-07-07T18:10:10.137Z"
   },
   {
    "duration": 5,
    "start_time": "2021-07-07T18:10:10.236Z"
   },
   {
    "duration": 29,
    "start_time": "2021-07-07T18:10:10.242Z"
   },
   {
    "duration": 7,
    "start_time": "2021-07-07T18:10:10.272Z"
   },
   {
    "duration": 15,
    "start_time": "2021-07-07T18:10:10.281Z"
   },
   {
    "duration": 4,
    "start_time": "2021-07-07T18:10:10.299Z"
   },
   {
    "duration": 14,
    "start_time": "2021-07-07T18:10:10.305Z"
   },
   {
    "duration": 8,
    "start_time": "2021-07-07T18:10:10.321Z"
   },
   {
    "duration": 8,
    "start_time": "2021-07-07T18:10:10.331Z"
   },
   {
    "duration": 56,
    "start_time": "2021-07-07T18:10:10.341Z"
   },
   {
    "duration": 19,
    "start_time": "2021-07-07T18:10:10.399Z"
   },
   {
    "duration": 23,
    "start_time": "2021-07-07T18:10:10.419Z"
   },
   {
    "duration": 6,
    "start_time": "2021-07-07T18:10:10.444Z"
   },
   {
    "duration": 9,
    "start_time": "2021-07-07T18:10:10.451Z"
   },
   {
    "duration": 30,
    "start_time": "2021-07-07T18:10:10.462Z"
   },
   {
    "duration": 9,
    "start_time": "2021-07-07T18:10:10.494Z"
   },
   {
    "duration": 14,
    "start_time": "2021-07-07T18:10:10.505Z"
   },
   {
    "duration": 7,
    "start_time": "2021-07-07T18:10:10.521Z"
   },
   {
    "duration": 26,
    "start_time": "2021-07-07T18:10:10.530Z"
   },
   {
    "duration": 44,
    "start_time": "2021-07-07T18:10:10.558Z"
   },
   {
    "duration": 7,
    "start_time": "2021-07-07T18:10:10.605Z"
   },
   {
    "duration": 11,
    "start_time": "2021-07-07T18:10:10.614Z"
   },
   {
    "duration": 19,
    "start_time": "2021-07-07T18:10:10.626Z"
   },
   {
    "duration": 44,
    "start_time": "2021-07-07T18:10:10.646Z"
   },
   {
    "duration": 516,
    "start_time": "2021-07-07T18:14:00.826Z"
   },
   {
    "duration": 230,
    "start_time": "2021-07-07T18:14:01.344Z"
   },
   {
    "duration": 105,
    "start_time": "2021-07-07T18:14:01.576Z"
   },
   {
    "duration": 5,
    "start_time": "2021-07-07T18:14:01.683Z"
   },
   {
    "duration": 46,
    "start_time": "2021-07-07T18:14:01.690Z"
   },
   {
    "duration": 7,
    "start_time": "2021-07-07T18:14:01.738Z"
   },
   {
    "duration": 20,
    "start_time": "2021-07-07T18:14:01.747Z"
   },
   {
    "duration": 16,
    "start_time": "2021-07-07T18:14:01.769Z"
   },
   {
    "duration": 14,
    "start_time": "2021-07-07T18:14:01.787Z"
   },
   {
    "duration": 15,
    "start_time": "2021-07-07T18:14:01.803Z"
   },
   {
    "duration": 12,
    "start_time": "2021-07-07T18:14:01.820Z"
   },
   {
    "duration": 35,
    "start_time": "2021-07-07T18:14:01.833Z"
   },
   {
    "duration": 31,
    "start_time": "2021-07-07T18:14:01.869Z"
   },
   {
    "duration": 37,
    "start_time": "2021-07-07T18:14:01.902Z"
   },
   {
    "duration": 8,
    "start_time": "2021-07-07T18:14:01.942Z"
   },
   {
    "duration": 16,
    "start_time": "2021-07-07T18:14:01.952Z"
   },
   {
    "duration": 13,
    "start_time": "2021-07-07T18:14:01.970Z"
   },
   {
    "duration": 32,
    "start_time": "2021-07-07T18:14:01.985Z"
   },
   {
    "duration": 11,
    "start_time": "2021-07-07T18:14:02.019Z"
   },
   {
    "duration": 22,
    "start_time": "2021-07-07T18:14:02.031Z"
   },
   {
    "duration": 27,
    "start_time": "2021-07-07T18:14:02.055Z"
   },
   {
    "duration": 18,
    "start_time": "2021-07-07T18:14:02.084Z"
   },
   {
    "duration": 18,
    "start_time": "2021-07-07T18:14:02.106Z"
   },
   {
    "duration": 11,
    "start_time": "2021-07-07T18:14:02.126Z"
   },
   {
    "duration": 21,
    "start_time": "2021-07-07T18:14:02.138Z"
   },
   {
    "duration": 32,
    "start_time": "2021-07-07T18:14:02.161Z"
   },
   {
    "duration": 28,
    "start_time": "2021-07-07T18:14:44.295Z"
   },
   {
    "duration": 6,
    "start_time": "2021-07-07T18:15:05.834Z"
   },
   {
    "duration": 511,
    "start_time": "2021-07-07T18:15:41.541Z"
   },
   {
    "duration": 183,
    "start_time": "2021-07-07T18:15:42.054Z"
   },
   {
    "duration": 50,
    "start_time": "2021-07-07T18:15:42.239Z"
   },
   {
    "duration": 5,
    "start_time": "2021-07-07T18:15:42.291Z"
   },
   {
    "duration": 48,
    "start_time": "2021-07-07T18:15:42.297Z"
   },
   {
    "duration": 8,
    "start_time": "2021-07-07T18:15:42.346Z"
   },
   {
    "duration": 17,
    "start_time": "2021-07-07T18:15:42.356Z"
   },
   {
    "duration": 15,
    "start_time": "2021-07-07T18:15:42.375Z"
   },
   {
    "duration": 12,
    "start_time": "2021-07-07T18:15:42.392Z"
   },
   {
    "duration": 7,
    "start_time": "2021-07-07T18:15:42.406Z"
   },
   {
    "duration": 7,
    "start_time": "2021-07-07T18:15:42.415Z"
   },
   {
    "duration": 29,
    "start_time": "2021-07-07T18:15:42.423Z"
   },
   {
    "duration": 43,
    "start_time": "2021-07-07T18:15:42.453Z"
   },
   {
    "duration": 18,
    "start_time": "2021-07-07T18:15:42.497Z"
   },
   {
    "duration": 6,
    "start_time": "2021-07-07T18:15:42.516Z"
   },
   {
    "duration": 3,
    "start_time": "2021-07-07T18:15:42.523Z"
   },
   {
    "duration": 18,
    "start_time": "2021-07-07T18:15:42.528Z"
   },
   {
    "duration": 10,
    "start_time": "2021-07-07T18:15:42.547Z"
   },
   {
    "duration": 36,
    "start_time": "2021-07-07T18:15:42.559Z"
   },
   {
    "duration": 8,
    "start_time": "2021-07-07T18:15:42.597Z"
   },
   {
    "duration": 28,
    "start_time": "2021-07-07T18:15:42.606Z"
   },
   {
    "duration": 52,
    "start_time": "2021-07-07T18:15:42.635Z"
   },
   {
    "duration": 7,
    "start_time": "2021-07-07T18:15:42.690Z"
   },
   {
    "duration": 10,
    "start_time": "2021-07-07T18:15:42.699Z"
   },
   {
    "duration": 19,
    "start_time": "2021-07-07T18:15:42.711Z"
   },
   {
    "duration": 9,
    "start_time": "2021-07-07T18:15:42.732Z"
   },
   {
    "duration": 5,
    "start_time": "2021-07-07T18:15:42.743Z"
   },
   {
    "duration": 1450,
    "start_time": "2021-07-07T18:15:51.984Z"
   },
   {
    "duration": 161,
    "start_time": "2021-07-07T18:15:53.435Z"
   },
   {
    "duration": 124,
    "start_time": "2021-07-07T18:15:53.598Z"
   },
   {
    "duration": 5,
    "start_time": "2021-07-07T18:15:53.724Z"
   },
   {
    "duration": 34,
    "start_time": "2021-07-07T18:15:53.730Z"
   },
   {
    "duration": 7,
    "start_time": "2021-07-07T18:15:53.765Z"
   },
   {
    "duration": 15,
    "start_time": "2021-07-07T18:15:53.773Z"
   },
   {
    "duration": 5,
    "start_time": "2021-07-07T18:15:53.791Z"
   },
   {
    "duration": 19,
    "start_time": "2021-07-07T18:15:53.798Z"
   },
   {
    "duration": 9,
    "start_time": "2021-07-07T18:15:53.818Z"
   },
   {
    "duration": 19,
    "start_time": "2021-07-07T18:15:53.828Z"
   },
   {
    "duration": 27,
    "start_time": "2021-07-07T18:15:53.848Z"
   },
   {
    "duration": 16,
    "start_time": "2021-07-07T18:15:53.884Z"
   },
   {
    "duration": 29,
    "start_time": "2021-07-07T18:15:53.901Z"
   },
   {
    "duration": 5,
    "start_time": "2021-07-07T18:15:53.932Z"
   },
   {
    "duration": 15,
    "start_time": "2021-07-07T18:15:53.939Z"
   },
   {
    "duration": 13,
    "start_time": "2021-07-07T18:15:53.956Z"
   },
   {
    "duration": 20,
    "start_time": "2021-07-07T18:15:53.971Z"
   },
   {
    "duration": 14,
    "start_time": "2021-07-07T18:15:53.992Z"
   },
   {
    "duration": 9,
    "start_time": "2021-07-07T18:15:54.009Z"
   },
   {
    "duration": 28,
    "start_time": "2021-07-07T18:15:54.020Z"
   },
   {
    "duration": 50,
    "start_time": "2021-07-07T18:15:54.051Z"
   },
   {
    "duration": 8,
    "start_time": "2021-07-07T18:15:54.105Z"
   },
   {
    "duration": 11,
    "start_time": "2021-07-07T18:15:54.115Z"
   },
   {
    "duration": 20,
    "start_time": "2021-07-07T18:15:54.128Z"
   },
   {
    "duration": 13,
    "start_time": "2021-07-07T18:15:54.184Z"
   },
   {
    "duration": 7,
    "start_time": "2021-07-07T18:15:54.199Z"
   },
   {
    "duration": 7,
    "start_time": "2021-07-07T18:17:08.042Z"
   },
   {
    "duration": 8,
    "start_time": "2021-07-07T18:17:21.008Z"
   },
   {
    "duration": 7,
    "start_time": "2021-07-07T18:17:29.003Z"
   },
   {
    "duration": 8,
    "start_time": "2021-07-07T18:17:32.492Z"
   },
   {
    "duration": 9,
    "start_time": "2021-07-07T18:17:41.758Z"
   },
   {
    "duration": 255,
    "start_time": "2021-07-07T18:20:20.897Z"
   },
   {
    "duration": 173,
    "start_time": "2021-07-07T18:20:26.636Z"
   },
   {
    "duration": 7,
    "start_time": "2021-07-07T18:21:47.164Z"
   },
   {
    "duration": 254,
    "start_time": "2021-07-07T18:23:08.703Z"
   },
   {
    "duration": 21,
    "start_time": "2021-07-07T18:23:22.506Z"
   },
   {
    "duration": 315,
    "start_time": "2021-07-07T18:25:54.801Z"
   },
   {
    "duration": 34,
    "start_time": "2021-07-07T18:26:51.817Z"
   },
   {
    "duration": 327,
    "start_time": "2021-07-07T18:26:56.147Z"
   },
   {
    "duration": 342,
    "start_time": "2021-07-07T18:27:15.887Z"
   },
   {
    "duration": 302,
    "start_time": "2021-07-07T18:28:18.569Z"
   },
   {
    "duration": 226,
    "start_time": "2021-07-07T18:29:20.879Z"
   },
   {
    "duration": 207,
    "start_time": "2021-07-07T18:29:58.114Z"
   },
   {
    "duration": 140,
    "start_time": "2021-07-07T18:32:04.372Z"
   },
   {
    "duration": 158,
    "start_time": "2021-07-07T18:32:32.508Z"
   },
   {
    "duration": 145,
    "start_time": "2021-07-07T18:32:41.365Z"
   },
   {
    "duration": 132,
    "start_time": "2021-07-07T18:32:45.199Z"
   },
   {
    "duration": 11,
    "start_time": "2021-07-07T18:35:24.679Z"
   },
   {
    "duration": 268,
    "start_time": "2021-07-07T18:36:16.145Z"
   },
   {
    "duration": 227,
    "start_time": "2021-07-07T18:37:04.918Z"
   },
   {
    "duration": 3,
    "start_time": "2021-07-07T18:37:33.012Z"
   },
   {
    "duration": 671,
    "start_time": "2021-07-07T18:37:38.295Z"
   },
   {
    "duration": 54,
    "start_time": "2021-07-07T18:37:53.406Z"
   },
   {
    "duration": 631,
    "start_time": "2021-07-07T18:37:56.463Z"
   },
   {
    "duration": 19,
    "start_time": "2021-07-07T18:39:40.535Z"
   },
   {
    "duration": 20,
    "start_time": "2021-07-07T18:40:12.236Z"
   },
   {
    "duration": 633,
    "start_time": "2021-07-07T18:42:00.398Z"
   },
   {
    "duration": 218,
    "start_time": "2021-07-07T18:42:01.033Z"
   },
   {
    "duration": 49,
    "start_time": "2021-07-07T18:42:01.253Z"
   },
   {
    "duration": 5,
    "start_time": "2021-07-07T18:42:01.303Z"
   },
   {
    "duration": 27,
    "start_time": "2021-07-07T18:42:01.310Z"
   },
   {
    "duration": 8,
    "start_time": "2021-07-07T18:42:01.339Z"
   },
   {
    "duration": 20,
    "start_time": "2021-07-07T18:42:01.348Z"
   },
   {
    "duration": 6,
    "start_time": "2021-07-07T18:42:01.386Z"
   },
   {
    "duration": 16,
    "start_time": "2021-07-07T18:42:01.394Z"
   },
   {
    "duration": 9,
    "start_time": "2021-07-07T18:42:01.411Z"
   },
   {
    "duration": 11,
    "start_time": "2021-07-07T18:42:01.421Z"
   },
   {
    "duration": 31,
    "start_time": "2021-07-07T18:42:01.434Z"
   },
   {
    "duration": 18,
    "start_time": "2021-07-07T18:42:01.485Z"
   },
   {
    "duration": 23,
    "start_time": "2021-07-07T18:42:01.505Z"
   },
   {
    "duration": 6,
    "start_time": "2021-07-07T18:42:01.530Z"
   },
   {
    "duration": 10,
    "start_time": "2021-07-07T18:42:01.538Z"
   },
   {
    "duration": 13,
    "start_time": "2021-07-07T18:42:01.550Z"
   },
   {
    "duration": 24,
    "start_time": "2021-07-07T18:42:01.564Z"
   },
   {
    "duration": 20,
    "start_time": "2021-07-07T18:42:01.590Z"
   },
   {
    "duration": 8,
    "start_time": "2021-07-07T18:42:01.611Z"
   },
   {
    "duration": 31,
    "start_time": "2021-07-07T18:42:01.620Z"
   },
   {
    "duration": 39,
    "start_time": "2021-07-07T18:42:01.653Z"
   },
   {
    "duration": 8,
    "start_time": "2021-07-07T18:42:01.696Z"
   },
   {
    "duration": 13,
    "start_time": "2021-07-07T18:42:01.705Z"
   },
   {
    "duration": 20,
    "start_time": "2021-07-07T18:42:01.720Z"
   },
   {
    "duration": 12,
    "start_time": "2021-07-07T18:42:01.741Z"
   },
   {
    "duration": 35,
    "start_time": "2021-07-07T18:42:01.755Z"
   },
   {
    "duration": 14,
    "start_time": "2021-07-07T18:42:01.792Z"
   },
   {
    "duration": 188,
    "start_time": "2021-07-07T18:42:01.808Z"
   },
   {
    "duration": 19,
    "start_time": "2021-07-07T18:42:01.998Z"
   },
   {
    "duration": 175,
    "start_time": "2021-07-07T18:42:02.019Z"
   },
   {
    "duration": 134,
    "start_time": "2021-07-07T18:42:02.196Z"
   },
   {
    "duration": 10,
    "start_time": "2021-07-07T18:42:02.331Z"
   },
   {
    "duration": 19,
    "start_time": "2021-07-07T18:42:02.343Z"
   },
   {
    "duration": 628,
    "start_time": "2021-07-07T18:46:30.701Z"
   },
   {
    "duration": 183,
    "start_time": "2021-07-07T18:46:31.331Z"
   },
   {
    "duration": 48,
    "start_time": "2021-07-07T18:46:31.516Z"
   },
   {
    "duration": 5,
    "start_time": "2021-07-07T18:46:31.566Z"
   },
   {
    "duration": 28,
    "start_time": "2021-07-07T18:46:31.572Z"
   },
   {
    "duration": 8,
    "start_time": "2021-07-07T18:46:31.602Z"
   },
   {
    "duration": 19,
    "start_time": "2021-07-07T18:46:31.611Z"
   },
   {
    "duration": 6,
    "start_time": "2021-07-07T18:46:31.633Z"
   },
   {
    "duration": 17,
    "start_time": "2021-07-07T18:46:31.642Z"
   },
   {
    "duration": 10,
    "start_time": "2021-07-07T18:46:31.684Z"
   },
   {
    "duration": 9,
    "start_time": "2021-07-07T18:46:31.695Z"
   },
   {
    "duration": 28,
    "start_time": "2021-07-07T18:46:31.705Z"
   },
   {
    "duration": 18,
    "start_time": "2021-07-07T18:46:31.735Z"
   },
   {
    "duration": 48,
    "start_time": "2021-07-07T18:46:31.755Z"
   },
   {
    "duration": 6,
    "start_time": "2021-07-07T18:46:31.804Z"
   },
   {
    "duration": 4,
    "start_time": "2021-07-07T18:46:31.812Z"
   },
   {
    "duration": 9,
    "start_time": "2021-07-07T18:46:31.817Z"
   },
   {
    "duration": 10,
    "start_time": "2021-07-07T18:46:31.827Z"
   },
   {
    "duration": 12,
    "start_time": "2021-07-07T18:46:31.838Z"
   },
   {
    "duration": 39,
    "start_time": "2021-07-07T18:46:31.851Z"
   },
   {
    "duration": 24,
    "start_time": "2021-07-07T18:46:31.892Z"
   },
   {
    "duration": 15,
    "start_time": "2021-07-07T18:46:31.918Z"
   },
   {
    "duration": 7,
    "start_time": "2021-07-07T18:46:31.936Z"
   },
   {
    "duration": 8,
    "start_time": "2021-07-07T18:46:31.944Z"
   },
   {
    "duration": 19,
    "start_time": "2021-07-07T18:46:31.984Z"
   },
   {
    "duration": 10,
    "start_time": "2021-07-07T18:46:32.004Z"
   },
   {
    "duration": 5,
    "start_time": "2021-07-07T18:46:32.016Z"
   },
   {
    "duration": 9,
    "start_time": "2021-07-07T18:46:32.023Z"
   },
   {
    "duration": 199,
    "start_time": "2021-07-07T18:46:32.033Z"
   },
   {
    "duration": 19,
    "start_time": "2021-07-07T18:46:32.234Z"
   },
   {
    "duration": 159,
    "start_time": "2021-07-07T18:46:32.255Z"
   },
   {
    "duration": 134,
    "start_time": "2021-07-07T18:46:32.416Z"
   },
   {
    "duration": 10,
    "start_time": "2021-07-07T18:46:32.552Z"
   },
   {
    "duration": 34,
    "start_time": "2021-07-07T18:46:32.563Z"
   },
   {
    "duration": 1039,
    "start_time": "2021-07-08T08:41:09.419Z"
   },
   {
    "duration": 333,
    "start_time": "2021-07-08T08:41:10.459Z"
   },
   {
    "duration": 173,
    "start_time": "2021-07-08T08:41:10.794Z"
   },
   {
    "duration": 5,
    "start_time": "2021-07-08T08:41:10.968Z"
   },
   {
    "duration": 25,
    "start_time": "2021-07-08T08:41:10.975Z"
   },
   {
    "duration": 9,
    "start_time": "2021-07-08T08:41:11.002Z"
   },
   {
    "duration": 18,
    "start_time": "2021-07-08T08:41:11.013Z"
   },
   {
    "duration": 6,
    "start_time": "2021-07-08T08:41:11.033Z"
   },
   {
    "duration": 44,
    "start_time": "2021-07-08T08:41:11.042Z"
   },
   {
    "duration": 10,
    "start_time": "2021-07-08T08:41:11.088Z"
   },
   {
    "duration": 9,
    "start_time": "2021-07-08T08:41:11.100Z"
   },
   {
    "duration": 27,
    "start_time": "2021-07-08T08:41:11.111Z"
   },
   {
    "duration": 46,
    "start_time": "2021-07-08T08:41:11.140Z"
   },
   {
    "duration": 17,
    "start_time": "2021-07-08T08:41:11.187Z"
   },
   {
    "duration": 6,
    "start_time": "2021-07-08T08:41:11.206Z"
   },
   {
    "duration": 5,
    "start_time": "2021-07-08T08:41:11.213Z"
   },
   {
    "duration": 10,
    "start_time": "2021-07-08T08:41:11.219Z"
   },
   {
    "duration": 9,
    "start_time": "2021-07-08T08:41:11.230Z"
   },
   {
    "duration": 45,
    "start_time": "2021-07-08T08:41:11.241Z"
   },
   {
    "duration": 7,
    "start_time": "2021-07-08T08:41:11.287Z"
   },
   {
    "duration": 24,
    "start_time": "2021-07-08T08:41:11.296Z"
   },
   {
    "duration": 16,
    "start_time": "2021-07-08T08:41:11.322Z"
   },
   {
    "duration": 7,
    "start_time": "2021-07-08T08:41:11.341Z"
   },
   {
    "duration": 41,
    "start_time": "2021-07-08T08:41:11.349Z"
   },
   {
    "duration": 17,
    "start_time": "2021-07-08T08:41:11.391Z"
   },
   {
    "duration": 9,
    "start_time": "2021-07-08T08:41:11.410Z"
   },
   {
    "duration": 5,
    "start_time": "2021-07-08T08:41:11.421Z"
   },
   {
    "duration": 6,
    "start_time": "2021-07-08T08:41:11.428Z"
   },
   {
    "duration": 198,
    "start_time": "2021-07-08T08:41:11.435Z"
   },
   {
    "duration": 18,
    "start_time": "2021-07-08T08:41:11.635Z"
   },
   {
    "duration": 155,
    "start_time": "2021-07-08T08:41:11.655Z"
   },
   {
    "duration": 138,
    "start_time": "2021-07-08T08:41:11.811Z"
   },
   {
    "duration": 10,
    "start_time": "2021-07-08T08:41:11.950Z"
   },
   {
    "duration": 29,
    "start_time": "2021-07-08T08:41:11.961Z"
   },
   {
    "duration": 171,
    "start_time": "2021-07-08T08:47:44.522Z"
   },
   {
    "duration": 124,
    "start_time": "2021-07-08T08:47:46.872Z"
   },
   {
    "duration": 191,
    "start_time": "2021-07-08T08:47:58.148Z"
   },
   {
    "duration": 191,
    "start_time": "2021-07-08T08:48:07.412Z"
   },
   {
    "duration": 261,
    "start_time": "2021-07-08T08:48:10.385Z"
   },
   {
    "duration": 255,
    "start_time": "2021-07-08T08:48:14.494Z"
   },
   {
    "duration": 219,
    "start_time": "2021-07-08T08:48:22.752Z"
   },
   {
    "duration": 173,
    "start_time": "2021-07-08T08:49:06.395Z"
   },
   {
    "duration": 180,
    "start_time": "2021-07-08T08:49:21.011Z"
   },
   {
    "duration": 6,
    "start_time": "2021-07-08T08:50:31.697Z"
   },
   {
    "duration": 10,
    "start_time": "2021-07-08T08:50:47.394Z"
   },
   {
    "duration": 11,
    "start_time": "2021-07-08T08:53:49.332Z"
   },
   {
    "duration": 171,
    "start_time": "2021-07-08T08:54:28.408Z"
   },
   {
    "duration": 636,
    "start_time": "2021-07-08T09:02:48.385Z"
   },
   {
    "duration": 227,
    "start_time": "2021-07-08T09:02:49.023Z"
   },
   {
    "duration": 104,
    "start_time": "2021-07-08T09:02:49.252Z"
   },
   {
    "duration": 5,
    "start_time": "2021-07-08T09:02:49.358Z"
   },
   {
    "duration": 27,
    "start_time": "2021-07-08T09:02:49.365Z"
   },
   {
    "duration": 8,
    "start_time": "2021-07-08T09:02:49.394Z"
   },
   {
    "duration": 18,
    "start_time": "2021-07-08T09:02:49.404Z"
   },
   {
    "duration": 6,
    "start_time": "2021-07-08T09:02:49.424Z"
   },
   {
    "duration": 11,
    "start_time": "2021-07-08T09:02:49.433Z"
   },
   {
    "duration": 13,
    "start_time": "2021-07-08T09:02:49.485Z"
   },
   {
    "duration": 9,
    "start_time": "2021-07-08T09:02:49.500Z"
   },
   {
    "duration": 38,
    "start_time": "2021-07-08T09:02:49.511Z"
   },
   {
    "duration": 42,
    "start_time": "2021-07-08T09:02:49.551Z"
   },
   {
    "duration": 21,
    "start_time": "2021-07-08T09:02:49.594Z"
   },
   {
    "duration": 6,
    "start_time": "2021-07-08T09:02:49.616Z"
   },
   {
    "duration": 3,
    "start_time": "2021-07-08T09:02:49.623Z"
   },
   {
    "duration": 9,
    "start_time": "2021-07-08T09:02:49.628Z"
   },
   {
    "duration": 52,
    "start_time": "2021-07-08T09:02:49.638Z"
   },
   {
    "duration": 11,
    "start_time": "2021-07-08T09:02:49.692Z"
   },
   {
    "duration": 8,
    "start_time": "2021-07-08T09:02:49.704Z"
   },
   {
    "duration": 27,
    "start_time": "2021-07-08T09:02:49.713Z"
   },
   {
    "duration": 59,
    "start_time": "2021-07-08T09:02:49.741Z"
   },
   {
    "duration": 8,
    "start_time": "2021-07-08T09:02:49.803Z"
   },
   {
    "duration": 14,
    "start_time": "2021-07-08T09:02:49.813Z"
   },
   {
    "duration": 20,
    "start_time": "2021-07-08T09:02:49.829Z"
   },
   {
    "duration": 44,
    "start_time": "2021-07-08T09:02:49.851Z"
   },
   {
    "duration": 14,
    "start_time": "2021-07-08T09:02:49.896Z"
   },
   {
    "duration": 221,
    "start_time": "2021-07-08T09:02:49.912Z"
   },
   {
    "duration": 6,
    "start_time": "2021-07-08T09:02:50.134Z"
   },
   {
    "duration": 206,
    "start_time": "2021-07-08T09:02:50.142Z"
   },
   {
    "duration": 19,
    "start_time": "2021-07-08T09:02:50.350Z"
   },
   {
    "duration": 21,
    "start_time": "2021-07-08T09:02:50.370Z"
   },
   {
    "duration": 20,
    "start_time": "2021-07-08T09:02:50.393Z"
   },
   {
    "duration": 5,
    "start_time": "2021-07-08T09:02:50.414Z"
   },
   {
    "duration": 5,
    "start_time": "2021-07-08T09:03:34.173Z"
   },
   {
    "duration": 6,
    "start_time": "2021-07-08T09:04:49.062Z"
   },
   {
    "duration": 9,
    "start_time": "2021-07-08T09:04:50.118Z"
   },
   {
    "duration": 14,
    "start_time": "2021-07-08T09:04:58.512Z"
   },
   {
    "duration": 9,
    "start_time": "2021-07-08T09:05:10.988Z"
   },
   {
    "duration": 11,
    "start_time": "2021-07-08T09:05:11.743Z"
   },
   {
    "duration": 7,
    "start_time": "2021-07-08T09:05:25.677Z"
   },
   {
    "duration": 13,
    "start_time": "2021-07-08T09:05:47.189Z"
   },
   {
    "duration": 13,
    "start_time": "2021-07-08T09:05:54.755Z"
   },
   {
    "duration": 4,
    "start_time": "2021-07-08T09:06:29.189Z"
   },
   {
    "duration": 244,
    "start_time": "2021-07-08T09:06:29.195Z"
   },
   {
    "duration": 91,
    "start_time": "2021-07-08T09:06:29.441Z"
   },
   {
    "duration": 4,
    "start_time": "2021-07-08T09:06:29.534Z"
   },
   {
    "duration": 28,
    "start_time": "2021-07-08T09:06:29.540Z"
   },
   {
    "duration": 6,
    "start_time": "2021-07-08T09:06:29.570Z"
   },
   {
    "duration": 18,
    "start_time": "2021-07-08T09:06:29.578Z"
   },
   {
    "duration": 5,
    "start_time": "2021-07-08T09:06:29.597Z"
   },
   {
    "duration": 13,
    "start_time": "2021-07-08T09:06:29.605Z"
   },
   {
    "duration": 8,
    "start_time": "2021-07-08T09:06:29.620Z"
   },
   {
    "duration": 7,
    "start_time": "2021-07-08T09:06:29.630Z"
   },
   {
    "duration": 63,
    "start_time": "2021-07-08T09:06:29.639Z"
   },
   {
    "duration": 17,
    "start_time": "2021-07-08T09:06:29.704Z"
   },
   {
    "duration": 20,
    "start_time": "2021-07-08T09:06:29.723Z"
   },
   {
    "duration": 6,
    "start_time": "2021-07-08T09:06:29.745Z"
   },
   {
    "duration": 3,
    "start_time": "2021-07-08T09:06:29.752Z"
   },
   {
    "duration": 7,
    "start_time": "2021-07-08T09:06:29.785Z"
   },
   {
    "duration": 11,
    "start_time": "2021-07-08T09:06:29.794Z"
   },
   {
    "duration": 15,
    "start_time": "2021-07-08T09:06:29.807Z"
   },
   {
    "duration": 8,
    "start_time": "2021-07-08T09:06:29.823Z"
   },
   {
    "duration": 70,
    "start_time": "2021-07-08T09:06:29.832Z"
   },
   {
    "duration": 17,
    "start_time": "2021-07-08T09:06:29.903Z"
   },
   {
    "duration": 9,
    "start_time": "2021-07-08T09:06:29.921Z"
   },
   {
    "duration": 9,
    "start_time": "2021-07-08T09:06:29.932Z"
   },
   {
    "duration": 57,
    "start_time": "2021-07-08T09:06:29.942Z"
   },
   {
    "duration": 11,
    "start_time": "2021-07-08T09:06:30.001Z"
   },
   {
    "duration": 19,
    "start_time": "2021-07-08T09:06:30.016Z"
   },
   {
    "duration": 217,
    "start_time": "2021-07-08T09:06:30.037Z"
   },
   {
    "duration": 6,
    "start_time": "2021-07-08T09:06:30.255Z"
   },
   {
    "duration": 205,
    "start_time": "2021-07-08T09:06:30.263Z"
   },
   {
    "duration": 27,
    "start_time": "2021-07-08T09:06:30.470Z"
   },
   {
    "duration": 11,
    "start_time": "2021-07-08T09:06:30.500Z"
   },
   {
    "duration": 31,
    "start_time": "2021-07-08T09:06:30.513Z"
   },
   {
    "duration": 18,
    "start_time": "2021-07-08T09:06:30.546Z"
   },
   {
    "duration": 11,
    "start_time": "2021-07-08T09:06:30.566Z"
   },
   {
    "duration": 19,
    "start_time": "2021-07-08T09:06:30.579Z"
   },
   {
    "duration": 20,
    "start_time": "2021-07-08T09:06:49.466Z"
   },
   {
    "duration": 9,
    "start_time": "2021-07-08T09:06:51.994Z"
   },
   {
    "duration": 20,
    "start_time": "2021-07-08T09:06:52.273Z"
   },
   {
    "duration": 246,
    "start_time": "2021-07-08T09:10:21.272Z"
   },
   {
    "duration": 84,
    "start_time": "2021-07-08T09:10:21.436Z"
   },
   {
    "duration": 7,
    "start_time": "2021-07-08T09:10:37.608Z"
   },
   {
    "duration": 189,
    "start_time": "2021-07-08T09:10:38.573Z"
   },
   {
    "duration": 185,
    "start_time": "2021-07-08T09:10:53.181Z"
   },
   {
    "duration": 11,
    "start_time": "2021-07-08T09:10:59.549Z"
   },
   {
    "duration": 42,
    "start_time": "2021-07-08T09:10:59.709Z"
   },
   {
    "duration": 12,
    "start_time": "2021-07-08T09:11:02.857Z"
   },
   {
    "duration": 28,
    "start_time": "2021-07-08T09:11:10.062Z"
   },
   {
    "duration": 249,
    "start_time": "2021-07-08T09:11:37.388Z"
   },
   {
    "duration": 232,
    "start_time": "2021-07-08T09:11:49.485Z"
   },
   {
    "duration": 453,
    "start_time": "2021-07-08T09:12:01.546Z"
   },
   {
    "duration": 440,
    "start_time": "2021-07-08T09:12:12.347Z"
   },
   {
    "duration": 213,
    "start_time": "2021-07-08T09:13:32.196Z"
   },
   {
    "duration": 172,
    "start_time": "2021-07-08T09:14:07.400Z"
   },
   {
    "duration": 185,
    "start_time": "2021-07-08T09:14:14.905Z"
   },
   {
    "duration": 209,
    "start_time": "2021-07-08T09:14:40.109Z"
   },
   {
    "duration": 201,
    "start_time": "2021-07-08T09:14:54.506Z"
   },
   {
    "duration": 622,
    "start_time": "2021-07-08T09:18:14.497Z"
   },
   {
    "duration": 220,
    "start_time": "2021-07-08T09:18:15.121Z"
   },
   {
    "duration": 79,
    "start_time": "2021-07-08T09:18:15.343Z"
   },
   {
    "duration": 4,
    "start_time": "2021-07-08T09:18:15.425Z"
   },
   {
    "duration": 24,
    "start_time": "2021-07-08T09:18:15.431Z"
   },
   {
    "duration": 8,
    "start_time": "2021-07-08T09:18:15.457Z"
   },
   {
    "duration": 16,
    "start_time": "2021-07-08T09:18:15.466Z"
   },
   {
    "duration": 5,
    "start_time": "2021-07-08T09:18:15.484Z"
   },
   {
    "duration": 10,
    "start_time": "2021-07-08T09:18:15.493Z"
   },
   {
    "duration": 8,
    "start_time": "2021-07-08T09:18:15.504Z"
   },
   {
    "duration": 7,
    "start_time": "2021-07-08T09:18:15.513Z"
   },
   {
    "duration": 26,
    "start_time": "2021-07-08T09:18:15.522Z"
   },
   {
    "duration": 49,
    "start_time": "2021-07-08T09:18:15.550Z"
   },
   {
    "duration": 21,
    "start_time": "2021-07-08T09:18:15.601Z"
   },
   {
    "duration": 8,
    "start_time": "2021-07-08T09:18:15.624Z"
   },
   {
    "duration": 3,
    "start_time": "2021-07-08T09:18:15.634Z"
   },
   {
    "duration": 8,
    "start_time": "2021-07-08T09:18:15.639Z"
   },
   {
    "duration": 45,
    "start_time": "2021-07-08T09:18:15.649Z"
   },
   {
    "duration": 13,
    "start_time": "2021-07-08T09:18:15.696Z"
   },
   {
    "duration": 10,
    "start_time": "2021-07-08T09:18:15.711Z"
   },
   {
    "duration": 64,
    "start_time": "2021-07-08T09:18:15.722Z"
   },
   {
    "duration": 19,
    "start_time": "2021-07-08T09:18:15.788Z"
   },
   {
    "duration": 9,
    "start_time": "2021-07-08T09:18:15.809Z"
   },
   {
    "duration": 9,
    "start_time": "2021-07-08T09:18:15.820Z"
   },
   {
    "duration": 18,
    "start_time": "2021-07-08T09:18:15.831Z"
   },
   {
    "duration": 43,
    "start_time": "2021-07-08T09:18:15.851Z"
   },
   {
    "duration": 12,
    "start_time": "2021-07-08T09:18:15.897Z"
   },
   {
    "duration": 219,
    "start_time": "2021-07-08T09:18:15.911Z"
   },
   {
    "duration": 8,
    "start_time": "2021-07-08T09:18:16.132Z"
   },
   {
    "duration": 199,
    "start_time": "2021-07-08T09:18:16.141Z"
   },
   {
    "duration": 18,
    "start_time": "2021-07-08T09:18:16.341Z"
   },
   {
    "duration": 24,
    "start_time": "2021-07-08T09:18:16.361Z"
   },
   {
    "duration": 24,
    "start_time": "2021-07-08T09:18:16.387Z"
   },
   {
    "duration": 211,
    "start_time": "2021-07-08T09:18:16.413Z"
   },
   {
    "duration": 18,
    "start_time": "2021-07-08T09:18:16.626Z"
   },
   {
    "duration": 596,
    "start_time": "2021-07-08T10:06:33.623Z"
   },
   {
    "duration": 181,
    "start_time": "2021-07-08T10:06:34.221Z"
   },
   {
    "duration": 176,
    "start_time": "2021-07-08T10:06:34.635Z"
   },
   {
    "duration": 239,
    "start_time": "2021-07-08T10:06:55.572Z"
   },
   {
    "duration": 6,
    "start_time": "2021-07-08T10:06:57.687Z"
   },
   {
    "duration": 4,
    "start_time": "2021-07-08T10:07:03.956Z"
   },
   {
    "duration": 4,
    "start_time": "2021-07-08T10:07:10.376Z"
   },
   {
    "duration": 4,
    "start_time": "2021-07-08T10:17:19.889Z"
   },
   {
    "duration": 3,
    "start_time": "2021-07-08T10:19:19.407Z"
   },
   {
    "duration": 197,
    "start_time": "2021-07-08T10:19:19.412Z"
   },
   {
    "duration": 127,
    "start_time": "2021-07-08T10:19:19.611Z"
   },
   {
    "duration": 4,
    "start_time": "2021-07-08T10:19:19.740Z"
   },
   {
    "duration": 27,
    "start_time": "2021-07-08T10:19:19.746Z"
   },
   {
    "duration": 7,
    "start_time": "2021-07-08T10:19:19.775Z"
   },
   {
    "duration": 30,
    "start_time": "2021-07-08T10:19:19.784Z"
   },
   {
    "duration": 7,
    "start_time": "2021-07-08T10:19:19.817Z"
   },
   {
    "duration": 26,
    "start_time": "2021-07-08T10:19:19.826Z"
   },
   {
    "duration": 18,
    "start_time": "2021-07-08T10:19:19.854Z"
   },
   {
    "duration": 14,
    "start_time": "2021-07-08T10:19:19.874Z"
   },
   {
    "duration": 48,
    "start_time": "2021-07-08T10:19:19.890Z"
   },
   {
    "duration": 17,
    "start_time": "2021-07-08T10:19:19.940Z"
   },
   {
    "duration": 38,
    "start_time": "2021-07-08T10:19:19.959Z"
   },
   {
    "duration": 8,
    "start_time": "2021-07-08T10:19:19.999Z"
   },
   {
    "duration": 15,
    "start_time": "2021-07-08T10:19:20.009Z"
   },
   {
    "duration": 22,
    "start_time": "2021-07-08T10:19:20.026Z"
   },
   {
    "duration": 10,
    "start_time": "2021-07-08T10:19:20.050Z"
   },
   {
    "duration": 10,
    "start_time": "2021-07-08T10:19:20.062Z"
   },
   {
    "duration": 20,
    "start_time": "2021-07-08T10:19:20.073Z"
   },
   {
    "duration": 29,
    "start_time": "2021-07-08T10:19:20.095Z"
   },
   {
    "duration": 17,
    "start_time": "2021-07-08T10:19:20.126Z"
   },
   {
    "duration": 40,
    "start_time": "2021-07-08T10:19:20.146Z"
   },
   {
    "duration": 15,
    "start_time": "2021-07-08T10:19:20.189Z"
   },
   {
    "duration": 19,
    "start_time": "2021-07-08T10:19:20.206Z"
   },
   {
    "duration": 10,
    "start_time": "2021-07-08T10:19:20.226Z"
   },
   {
    "duration": 11,
    "start_time": "2021-07-08T10:19:20.238Z"
   },
   {
    "duration": 297,
    "start_time": "2021-07-08T10:19:20.250Z"
   },
   {
    "duration": 6,
    "start_time": "2021-07-08T10:19:20.549Z"
   },
   {
    "duration": 191,
    "start_time": "2021-07-08T10:19:20.557Z"
   },
   {
    "duration": 19,
    "start_time": "2021-07-08T10:19:20.750Z"
   },
   {
    "duration": 20,
    "start_time": "2021-07-08T10:19:20.771Z"
   },
   {
    "duration": 15,
    "start_time": "2021-07-08T10:19:20.793Z"
   },
   {
    "duration": 222,
    "start_time": "2021-07-08T10:19:20.809Z"
   },
   {
    "duration": 20,
    "start_time": "2021-07-08T10:19:21.033Z"
   },
   {
    "duration": 27,
    "start_time": "2021-07-08T10:45:04.055Z"
   },
   {
    "duration": 8,
    "start_time": "2021-07-08T10:45:08.478Z"
   },
   {
    "duration": 8,
    "start_time": "2021-07-08T10:45:31.982Z"
   },
   {
    "duration": 10,
    "start_time": "2021-07-08T10:46:01.221Z"
   },
   {
    "duration": 17,
    "start_time": "2021-07-08T10:46:40.011Z"
   },
   {
    "duration": 193,
    "start_time": "2021-07-08T10:48:19.471Z"
   },
   {
    "duration": 225,
    "start_time": "2021-07-08T10:49:26.480Z"
   },
   {
    "duration": 204,
    "start_time": "2021-07-08T10:49:59.992Z"
   },
   {
    "duration": 435,
    "start_time": "2021-07-08T10:50:06.779Z"
   },
   {
    "duration": 199,
    "start_time": "2021-07-08T10:50:14.891Z"
   },
   {
    "duration": 204,
    "start_time": "2021-07-08T10:50:18.501Z"
   },
   {
    "duration": 244,
    "start_time": "2021-07-08T10:50:23.359Z"
   },
   {
    "duration": 192,
    "start_time": "2021-07-08T10:50:29.135Z"
   },
   {
    "duration": 218,
    "start_time": "2021-07-08T10:50:33.092Z"
   },
   {
    "duration": 207,
    "start_time": "2021-07-08T10:52:45.381Z"
   },
   {
    "duration": 5,
    "start_time": "2021-07-08T10:53:34.641Z"
   },
   {
    "duration": 196,
    "start_time": "2021-07-08T10:53:41.478Z"
   },
   {
    "duration": 43,
    "start_time": "2021-07-08T10:53:50.335Z"
   },
   {
    "duration": 32,
    "start_time": "2021-07-08T10:53:55.294Z"
   },
   {
    "duration": 55,
    "start_time": "2021-07-08T10:54:09.675Z"
   },
   {
    "duration": 16,
    "start_time": "2021-07-08T10:54:12.260Z"
   },
   {
    "duration": 15,
    "start_time": "2021-07-08T10:54:49.150Z"
   },
   {
    "duration": 20,
    "start_time": "2021-07-08T10:56:07.596Z"
   },
   {
    "duration": 16,
    "start_time": "2021-07-08T10:58:26.276Z"
   },
   {
    "duration": 22,
    "start_time": "2021-07-08T10:59:00.486Z"
   },
   {
    "duration": 18,
    "start_time": "2021-07-08T11:02:09.653Z"
   },
   {
    "duration": 10,
    "start_time": "2021-07-08T11:03:44.331Z"
   },
   {
    "duration": 10,
    "start_time": "2021-07-08T11:03:54.055Z"
   },
   {
    "duration": 12,
    "start_time": "2021-07-08T11:04:41.967Z"
   },
   {
    "duration": 24,
    "start_time": "2021-07-08T11:07:30.732Z"
   },
   {
    "duration": 6,
    "start_time": "2021-07-08T11:07:37.364Z"
   },
   {
    "duration": 16,
    "start_time": "2021-07-08T11:08:01.819Z"
   },
   {
    "duration": 17,
    "start_time": "2021-07-08T11:09:47.488Z"
   },
   {
    "duration": 246,
    "start_time": "2021-07-08T11:10:00.830Z"
   },
   {
    "duration": 18,
    "start_time": "2021-07-08T11:13:55.195Z"
   },
   {
    "duration": 204,
    "start_time": "2021-07-08T11:14:04.951Z"
   },
   {
    "duration": 19,
    "start_time": "2021-07-08T11:15:10.613Z"
   },
   {
    "duration": 680,
    "start_time": "2021-07-08T11:16:25.793Z"
   },
   {
    "duration": 451,
    "start_time": "2021-07-08T11:16:40.313Z"
   },
   {
    "duration": 469,
    "start_time": "2021-07-08T11:17:21.286Z"
   },
   {
    "duration": 20,
    "start_time": "2021-07-08T11:19:12.554Z"
   },
   {
    "duration": 35,
    "start_time": "2021-07-08T11:20:05.484Z"
   },
   {
    "duration": 53,
    "start_time": "2021-07-08T11:21:40.050Z"
   },
   {
    "duration": 13,
    "start_time": "2021-07-08T11:22:26.059Z"
   },
   {
    "duration": 19,
    "start_time": "2021-07-08T11:22:47.419Z"
   },
   {
    "duration": 25,
    "start_time": "2021-07-08T11:23:19.958Z"
   },
   {
    "duration": 29,
    "start_time": "2021-07-08T11:23:25.415Z"
   },
   {
    "duration": 10,
    "start_time": "2021-07-08T11:24:45.138Z"
   },
   {
    "duration": 19,
    "start_time": "2021-07-08T11:24:54.498Z"
   },
   {
    "duration": 12,
    "start_time": "2021-07-08T11:25:32.225Z"
   },
   {
    "duration": 19,
    "start_time": "2021-07-08T11:25:37.092Z"
   },
   {
    "duration": 17,
    "start_time": "2021-07-08T11:25:58.116Z"
   },
   {
    "duration": 15,
    "start_time": "2021-07-08T11:26:02.258Z"
   },
   {
    "duration": 8,
    "start_time": "2021-07-08T11:26:59.682Z"
   },
   {
    "duration": 184,
    "start_time": "2021-07-08T11:27:21.894Z"
   },
   {
    "duration": 8,
    "start_time": "2021-07-08T11:27:23.824Z"
   },
   {
    "duration": 202,
    "start_time": "2021-07-08T11:27:23.962Z"
   },
   {
    "duration": 360,
    "start_time": "2021-07-08T11:28:33.215Z"
   },
   {
    "duration": 231,
    "start_time": "2021-07-08T11:32:05.542Z"
   },
   {
    "duration": 607,
    "start_time": "2021-07-08T11:36:27.854Z"
   },
   {
    "duration": 241,
    "start_time": "2021-07-08T11:36:28.463Z"
   },
   {
    "duration": 67,
    "start_time": "2021-07-08T11:36:28.709Z"
   },
   {
    "duration": 5,
    "start_time": "2021-07-08T11:36:28.778Z"
   },
   {
    "duration": 32,
    "start_time": "2021-07-08T11:36:28.784Z"
   },
   {
    "duration": 11,
    "start_time": "2021-07-08T11:36:28.819Z"
   },
   {
    "duration": 20,
    "start_time": "2021-07-08T11:36:28.834Z"
   },
   {
    "duration": 36,
    "start_time": "2021-07-08T11:36:28.857Z"
   },
   {
    "duration": 16,
    "start_time": "2021-07-08T11:36:28.895Z"
   },
   {
    "duration": 14,
    "start_time": "2021-07-08T11:36:28.913Z"
   },
   {
    "duration": 9,
    "start_time": "2021-07-08T11:36:28.930Z"
   },
   {
    "duration": 55,
    "start_time": "2021-07-08T11:36:28.941Z"
   },
   {
    "duration": 27,
    "start_time": "2021-07-08T11:36:28.999Z"
   },
   {
    "duration": 30,
    "start_time": "2021-07-08T11:36:29.028Z"
   },
   {
    "duration": 31,
    "start_time": "2021-07-08T11:36:29.060Z"
   },
   {
    "duration": 3,
    "start_time": "2021-07-08T11:36:29.093Z"
   },
   {
    "duration": 12,
    "start_time": "2021-07-08T11:36:29.099Z"
   },
   {
    "duration": 11,
    "start_time": "2021-07-08T11:36:29.112Z"
   },
   {
    "duration": 12,
    "start_time": "2021-07-08T11:36:29.125Z"
   },
   {
    "duration": 9,
    "start_time": "2021-07-08T11:36:29.139Z"
   },
   {
    "duration": 31,
    "start_time": "2021-07-08T11:36:29.191Z"
   },
   {
    "duration": 17,
    "start_time": "2021-07-08T11:36:29.226Z"
   },
   {
    "duration": 7,
    "start_time": "2021-07-08T11:36:29.245Z"
   },
   {
    "duration": 10,
    "start_time": "2021-07-08T11:36:29.254Z"
   },
   {
    "duration": 30,
    "start_time": "2021-07-08T11:36:29.292Z"
   },
   {
    "duration": 11,
    "start_time": "2021-07-08T11:36:29.324Z"
   },
   {
    "duration": 11,
    "start_time": "2021-07-08T11:36:29.337Z"
   },
   {
    "duration": 230,
    "start_time": "2021-07-08T11:36:29.349Z"
   },
   {
    "duration": 13,
    "start_time": "2021-07-08T11:36:29.588Z"
   },
   {
    "duration": 205,
    "start_time": "2021-07-08T11:36:29.603Z"
   },
   {
    "duration": 20,
    "start_time": "2021-07-08T11:36:29.810Z"
   },
   {
    "duration": 9,
    "start_time": "2021-07-08T11:36:29.832Z"
   },
   {
    "duration": 16,
    "start_time": "2021-07-08T11:36:29.843Z"
   },
   {
    "duration": 283,
    "start_time": "2021-07-08T11:36:29.861Z"
   },
   {
    "duration": 50,
    "start_time": "2021-07-08T11:36:30.146Z"
   },
   {
    "duration": 14,
    "start_time": "2021-07-08T11:36:30.198Z"
   },
   {
    "duration": 11,
    "start_time": "2021-07-08T11:36:30.214Z"
   },
   {
    "duration": 245,
    "start_time": "2021-07-08T11:36:30.227Z"
   },
   {
    "duration": 439,
    "start_time": "2021-07-08T11:36:30.474Z"
   },
   {
    "duration": 210,
    "start_time": "2021-07-08T11:36:30.915Z"
   },
   {
    "duration": 15,
    "start_time": "2021-07-08T11:36:31.127Z"
   },
   {
    "duration": 17,
    "start_time": "2021-07-08T11:38:20.451Z"
   },
   {
    "duration": 642,
    "start_time": "2021-07-08T11:46:17.881Z"
   },
   {
    "duration": 210,
    "start_time": "2021-07-08T11:46:18.525Z"
   },
   {
    "duration": 104,
    "start_time": "2021-07-08T11:46:18.741Z"
   },
   {
    "duration": 8,
    "start_time": "2021-07-08T11:46:18.847Z"
   },
   {
    "duration": 25,
    "start_time": "2021-07-08T11:46:18.857Z"
   },
   {
    "duration": 14,
    "start_time": "2021-07-08T11:46:18.884Z"
   },
   {
    "duration": 22,
    "start_time": "2021-07-08T11:46:18.900Z"
   },
   {
    "duration": 5,
    "start_time": "2021-07-08T11:46:18.924Z"
   },
   {
    "duration": 13,
    "start_time": "2021-07-08T11:46:18.931Z"
   },
   {
    "duration": 45,
    "start_time": "2021-07-08T11:46:18.946Z"
   },
   {
    "duration": 12,
    "start_time": "2021-07-08T11:46:18.993Z"
   },
   {
    "duration": 38,
    "start_time": "2021-07-08T11:46:19.006Z"
   },
   {
    "duration": 50,
    "start_time": "2021-07-08T11:46:19.046Z"
   },
   {
    "duration": 29,
    "start_time": "2021-07-08T11:46:19.099Z"
   },
   {
    "duration": 7,
    "start_time": "2021-07-08T11:46:19.130Z"
   },
   {
    "duration": 3,
    "start_time": "2021-07-08T11:46:19.139Z"
   },
   {
    "duration": 11,
    "start_time": "2021-07-08T11:46:19.144Z"
   },
   {
    "duration": 40,
    "start_time": "2021-07-08T11:46:19.157Z"
   },
   {
    "duration": 15,
    "start_time": "2021-07-08T11:46:19.199Z"
   },
   {
    "duration": 10,
    "start_time": "2021-07-08T11:46:19.217Z"
   },
   {
    "duration": 68,
    "start_time": "2021-07-08T11:46:19.230Z"
   },
   {
    "duration": 17,
    "start_time": "2021-07-08T11:46:19.301Z"
   },
   {
    "duration": 7,
    "start_time": "2021-07-08T11:46:19.321Z"
   },
   {
    "duration": 11,
    "start_time": "2021-07-08T11:46:19.330Z"
   },
   {
    "duration": 59,
    "start_time": "2021-07-08T11:46:19.343Z"
   },
   {
    "duration": 17,
    "start_time": "2021-07-08T11:46:19.405Z"
   },
   {
    "duration": 16,
    "start_time": "2021-07-08T11:46:19.424Z"
   },
   {
    "duration": 252,
    "start_time": "2021-07-08T11:46:19.443Z"
   },
   {
    "duration": 9,
    "start_time": "2021-07-08T11:46:19.697Z"
   },
   {
    "duration": 224,
    "start_time": "2021-07-08T11:46:19.708Z"
   },
   {
    "duration": 21,
    "start_time": "2021-07-08T11:46:19.934Z"
   },
   {
    "duration": 9,
    "start_time": "2021-07-08T11:46:19.956Z"
   },
   {
    "duration": 32,
    "start_time": "2021-07-08T11:46:19.967Z"
   },
   {
    "duration": 288,
    "start_time": "2021-07-08T11:46:20.004Z"
   },
   {
    "duration": 23,
    "start_time": "2021-07-08T11:46:20.300Z"
   },
   {
    "duration": 11,
    "start_time": "2021-07-08T11:46:20.325Z"
   },
   {
    "duration": 11,
    "start_time": "2021-07-08T11:46:20.339Z"
   },
   {
    "duration": 259,
    "start_time": "2021-07-08T11:46:20.352Z"
   },
   {
    "duration": 438,
    "start_time": "2021-07-08T11:46:20.613Z"
   },
   {
    "duration": 207,
    "start_time": "2021-07-08T11:46:21.054Z"
   },
   {
    "duration": 27,
    "start_time": "2021-07-08T11:46:21.262Z"
   },
   {
    "duration": 19,
    "start_time": "2021-07-08T11:46:21.291Z"
   },
   {
    "duration": 820,
    "start_time": "2021-07-08T11:49:01.655Z"
   },
   {
    "duration": 372,
    "start_time": "2021-07-08T11:49:02.478Z"
   },
   {
    "duration": 98,
    "start_time": "2021-07-08T11:49:02.853Z"
   },
   {
    "duration": 6,
    "start_time": "2021-07-08T11:49:02.953Z"
   },
   {
    "duration": 39,
    "start_time": "2021-07-08T11:49:02.960Z"
   },
   {
    "duration": 9,
    "start_time": "2021-07-08T11:49:03.003Z"
   },
   {
    "duration": 23,
    "start_time": "2021-07-08T11:49:03.014Z"
   },
   {
    "duration": 6,
    "start_time": "2021-07-08T11:49:03.041Z"
   },
   {
    "duration": 20,
    "start_time": "2021-07-08T11:49:03.049Z"
   },
   {
    "duration": 18,
    "start_time": "2021-07-08T11:49:03.084Z"
   },
   {
    "duration": 14,
    "start_time": "2021-07-08T11:49:03.104Z"
   },
   {
    "duration": 39,
    "start_time": "2021-07-08T11:49:03.119Z"
   },
   {
    "duration": 38,
    "start_time": "2021-07-08T11:49:03.160Z"
   },
   {
    "duration": 26,
    "start_time": "2021-07-08T11:49:03.200Z"
   },
   {
    "duration": 7,
    "start_time": "2021-07-08T11:49:03.227Z"
   },
   {
    "duration": 4,
    "start_time": "2021-07-08T11:49:03.236Z"
   },
   {
    "duration": 15,
    "start_time": "2021-07-08T11:49:03.243Z"
   },
   {
    "duration": 21,
    "start_time": "2021-07-08T11:49:03.285Z"
   },
   {
    "duration": 17,
    "start_time": "2021-07-08T11:49:03.309Z"
   },
   {
    "duration": 10,
    "start_time": "2021-07-08T11:49:03.328Z"
   },
   {
    "duration": 65,
    "start_time": "2021-07-08T11:49:03.340Z"
   },
   {
    "duration": 18,
    "start_time": "2021-07-08T11:49:03.407Z"
   },
   {
    "duration": 8,
    "start_time": "2021-07-08T11:49:03.428Z"
   },
   {
    "duration": 15,
    "start_time": "2021-07-08T11:49:03.438Z"
   },
   {
    "duration": 40,
    "start_time": "2021-07-08T11:49:03.455Z"
   },
   {
    "duration": 12,
    "start_time": "2021-07-08T11:49:03.497Z"
   },
   {
    "duration": 29,
    "start_time": "2021-07-08T11:49:03.511Z"
   },
   {
    "duration": 285,
    "start_time": "2021-07-08T11:49:03.542Z"
   },
   {
    "duration": 8,
    "start_time": "2021-07-08T11:49:03.829Z"
   },
   {
    "duration": 227,
    "start_time": "2021-07-08T11:49:03.838Z"
   },
   {
    "duration": 40,
    "start_time": "2021-07-08T11:49:04.066Z"
   },
   {
    "duration": 10,
    "start_time": "2021-07-08T11:49:04.108Z"
   },
   {
    "duration": 26,
    "start_time": "2021-07-08T11:49:04.121Z"
   },
   {
    "duration": 290,
    "start_time": "2021-07-08T11:49:04.149Z"
   },
   {
    "duration": 26,
    "start_time": "2021-07-08T11:49:04.441Z"
   },
   {
    "duration": 31,
    "start_time": "2021-07-08T11:49:04.470Z"
   },
   {
    "duration": 14,
    "start_time": "2021-07-08T11:49:04.503Z"
   },
   {
    "duration": 259,
    "start_time": "2021-07-08T11:49:04.521Z"
   },
   {
    "duration": 480,
    "start_time": "2021-07-08T11:49:04.782Z"
   },
   {
    "duration": 225,
    "start_time": "2021-07-08T11:49:05.264Z"
   },
   {
    "duration": 22,
    "start_time": "2021-07-08T11:49:05.491Z"
   },
   {
    "duration": 24,
    "start_time": "2021-07-08T11:49:05.515Z"
   },
   {
    "duration": 634,
    "start_time": "2021-07-08T11:52:24.960Z"
   },
   {
    "duration": 199,
    "start_time": "2021-07-08T11:52:25.599Z"
   },
   {
    "duration": 106,
    "start_time": "2021-07-08T11:52:25.803Z"
   },
   {
    "duration": 7,
    "start_time": "2021-07-08T11:52:25.911Z"
   },
   {
    "duration": 29,
    "start_time": "2021-07-08T11:52:25.920Z"
   },
   {
    "duration": 7,
    "start_time": "2021-07-08T11:52:25.951Z"
   },
   {
    "duration": 26,
    "start_time": "2021-07-08T11:52:25.961Z"
   },
   {
    "duration": 11,
    "start_time": "2021-07-08T11:52:25.990Z"
   },
   {
    "duration": 29,
    "start_time": "2021-07-08T11:52:26.005Z"
   },
   {
    "duration": 9,
    "start_time": "2021-07-08T11:52:26.036Z"
   },
   {
    "duration": 8,
    "start_time": "2021-07-08T11:52:26.047Z"
   },
   {
    "duration": 63,
    "start_time": "2021-07-08T11:52:26.057Z"
   },
   {
    "duration": 17,
    "start_time": "2021-07-08T11:52:26.122Z"
   },
   {
    "duration": 43,
    "start_time": "2021-07-08T11:52:26.142Z"
   },
   {
    "duration": 17,
    "start_time": "2021-07-08T11:52:26.187Z"
   },
   {
    "duration": 5,
    "start_time": "2021-07-08T11:52:26.206Z"
   },
   {
    "duration": 12,
    "start_time": "2021-07-08T11:52:26.212Z"
   },
   {
    "duration": 11,
    "start_time": "2021-07-08T11:52:26.226Z"
   },
   {
    "duration": 12,
    "start_time": "2021-07-08T11:52:26.238Z"
   },
   {
    "duration": 38,
    "start_time": "2021-07-08T11:52:26.252Z"
   },
   {
    "duration": 40,
    "start_time": "2021-07-08T11:52:26.292Z"
   },
   {
    "duration": 17,
    "start_time": "2021-07-08T11:52:26.336Z"
   },
   {
    "duration": 39,
    "start_time": "2021-07-08T11:52:26.355Z"
   },
   {
    "duration": 11,
    "start_time": "2021-07-08T11:52:26.395Z"
   },
   {
    "duration": 23,
    "start_time": "2021-07-08T11:52:26.408Z"
   },
   {
    "duration": 12,
    "start_time": "2021-07-08T11:52:26.432Z"
   },
   {
    "duration": 41,
    "start_time": "2021-07-08T11:52:26.446Z"
   },
   {
    "duration": 215,
    "start_time": "2021-07-08T11:52:26.493Z"
   },
   {
    "duration": 8,
    "start_time": "2021-07-08T11:52:26.710Z"
   },
   {
    "duration": 228,
    "start_time": "2021-07-08T11:52:26.720Z"
   },
   {
    "duration": 18,
    "start_time": "2021-07-08T11:52:26.950Z"
   },
   {
    "duration": 35,
    "start_time": "2021-07-08T11:52:26.969Z"
   },
   {
    "duration": 23,
    "start_time": "2021-07-08T11:52:27.006Z"
   },
   {
    "duration": 258,
    "start_time": "2021-07-08T11:52:27.030Z"
   },
   {
    "duration": 24,
    "start_time": "2021-07-08T11:52:27.290Z"
   },
   {
    "duration": 12,
    "start_time": "2021-07-08T11:52:27.316Z"
   },
   {
    "duration": 10,
    "start_time": "2021-07-08T11:52:27.329Z"
   },
   {
    "duration": 298,
    "start_time": "2021-07-08T11:52:27.341Z"
   },
   {
    "duration": 436,
    "start_time": "2021-07-08T11:52:27.641Z"
   },
   {
    "duration": 216,
    "start_time": "2021-07-08T11:52:28.079Z"
   },
   {
    "duration": 20,
    "start_time": "2021-07-08T11:52:28.297Z"
   },
   {
    "duration": 17,
    "start_time": "2021-07-08T11:52:28.319Z"
   },
   {
    "duration": 734,
    "start_time": "2022-02-19T07:55:05.408Z"
   },
   {
    "duration": 760,
    "start_time": "2022-02-19T07:57:11.594Z"
   },
   {
    "duration": 27,
    "start_time": "2022-02-19T07:57:50.360Z"
   },
   {
    "duration": 8,
    "start_time": "2022-02-19T07:58:10.118Z"
   },
   {
    "duration": 14,
    "start_time": "2022-02-19T08:02:10.059Z"
   },
   {
    "duration": 11,
    "start_time": "2022-02-19T08:02:25.073Z"
   },
   {
    "duration": 21,
    "start_time": "2022-02-19T08:02:46.652Z"
   },
   {
    "duration": 22,
    "start_time": "2022-02-19T08:14:45.421Z"
   },
   {
    "duration": 6,
    "start_time": "2022-02-19T08:15:18.936Z"
   },
   {
    "duration": 56,
    "start_time": "2022-02-19T08:15:40.714Z"
   },
   {
    "duration": 15,
    "start_time": "2022-02-19T08:16:00.688Z"
   },
   {
    "duration": 9,
    "start_time": "2022-02-19T08:17:13.053Z"
   },
   {
    "duration": 244,
    "start_time": "2022-02-19T19:08:27.350Z"
   },
   {
    "duration": 661,
    "start_time": "2022-02-19T19:08:32.661Z"
   },
   {
    "duration": 121,
    "start_time": "2022-02-19T19:08:33.324Z"
   },
   {
    "duration": 30,
    "start_time": "2022-02-19T19:08:33.448Z"
   },
   {
    "duration": 11,
    "start_time": "2022-02-19T19:08:33.480Z"
   },
   {
    "duration": 19,
    "start_time": "2022-02-19T19:08:33.493Z"
   },
   {
    "duration": 13,
    "start_time": "2022-02-19T19:08:33.514Z"
   },
   {
    "duration": 25,
    "start_time": "2022-02-19T19:08:33.529Z"
   },
   {
    "duration": 7,
    "start_time": "2022-02-19T19:08:33.556Z"
   },
   {
    "duration": 21,
    "start_time": "2022-02-19T19:08:33.565Z"
   },
   {
    "duration": 17,
    "start_time": "2022-02-19T19:08:33.588Z"
   },
   {
    "duration": 14,
    "start_time": "2022-02-19T19:08:33.606Z"
   },
   {
    "duration": 22,
    "start_time": "2022-02-19T19:08:33.621Z"
   },
   {
    "duration": 23,
    "start_time": "2022-02-19T19:08:51.980Z"
   },
   {
    "duration": 19,
    "start_time": "2022-02-19T19:09:24.652Z"
   },
   {
    "duration": 21,
    "start_time": "2022-02-19T19:09:32.937Z"
   },
   {
    "duration": 18,
    "start_time": "2022-02-19T19:09:37.119Z"
   },
   {
    "duration": 24,
    "start_time": "2022-02-19T19:10:22.274Z"
   },
   {
    "duration": 10,
    "start_time": "2022-02-19T19:11:00.472Z"
   },
   {
    "duration": 77,
    "start_time": "2022-02-19T19:11:54.602Z"
   },
   {
    "duration": 68,
    "start_time": "2022-02-19T19:12:05.933Z"
   },
   {
    "duration": 79,
    "start_time": "2022-02-19T19:12:07.972Z"
   },
   {
    "duration": 87,
    "start_time": "2022-02-19T19:12:16.634Z"
   },
   {
    "duration": 64,
    "start_time": "2022-02-19T19:12:20.246Z"
   },
   {
    "duration": 65,
    "start_time": "2022-02-19T19:12:27.239Z"
   },
   {
    "duration": 67,
    "start_time": "2022-02-19T19:13:01.050Z"
   },
   {
    "duration": 18,
    "start_time": "2022-02-19T19:13:20.517Z"
   },
   {
    "duration": 14,
    "start_time": "2022-02-19T19:13:41.858Z"
   },
   {
    "duration": 20,
    "start_time": "2022-02-19T19:13:50.090Z"
   },
   {
    "duration": 22,
    "start_time": "2022-02-19T19:14:01.512Z"
   },
   {
    "duration": 6,
    "start_time": "2022-02-19T19:36:28.007Z"
   },
   {
    "duration": 64,
    "start_time": "2022-02-19T19:36:43.637Z"
   },
   {
    "duration": 7,
    "start_time": "2022-02-19T19:37:38.694Z"
   },
   {
    "duration": 9,
    "start_time": "2022-02-19T19:38:47.948Z"
   },
   {
    "duration": 10,
    "start_time": "2022-02-19T19:38:54.479Z"
   },
   {
    "duration": 10,
    "start_time": "2022-02-19T19:47:57.283Z"
   },
   {
    "duration": 9,
    "start_time": "2022-02-19T19:48:17.081Z"
   },
   {
    "duration": 8,
    "start_time": "2022-02-19T19:48:20.697Z"
   },
   {
    "duration": 7,
    "start_time": "2022-02-19T19:48:51.257Z"
   },
   {
    "duration": 32,
    "start_time": "2022-02-19T19:50:43.011Z"
   },
   {
    "duration": 14,
    "start_time": "2022-02-19T19:50:57.329Z"
   },
   {
    "duration": 12,
    "start_time": "2022-02-19T19:51:11.760Z"
   },
   {
    "duration": 30,
    "start_time": "2022-02-19T19:51:26.493Z"
   },
   {
    "duration": 272,
    "start_time": "2022-02-20T08:23:45.091Z"
   },
   {
    "duration": 570,
    "start_time": "2022-02-20T08:23:51.635Z"
   },
   {
    "duration": 202,
    "start_time": "2022-02-20T08:23:52.207Z"
   },
   {
    "duration": 29,
    "start_time": "2022-02-20T08:23:52.411Z"
   },
   {
    "duration": 10,
    "start_time": "2022-02-20T08:23:52.442Z"
   },
   {
    "duration": 25,
    "start_time": "2022-02-20T08:23:52.454Z"
   },
   {
    "duration": 11,
    "start_time": "2022-02-20T08:23:52.481Z"
   },
   {
    "duration": 40,
    "start_time": "2022-02-20T08:23:52.494Z"
   },
   {
    "duration": 4,
    "start_time": "2022-02-20T08:23:52.537Z"
   },
   {
    "duration": 18,
    "start_time": "2022-02-20T08:23:52.543Z"
   },
   {
    "duration": 14,
    "start_time": "2022-02-20T08:23:52.563Z"
   },
   {
    "duration": 9,
    "start_time": "2022-02-20T08:23:52.579Z"
   },
   {
    "duration": 24,
    "start_time": "2022-02-20T08:23:52.618Z"
   },
   {
    "duration": 9,
    "start_time": "2022-02-20T08:23:52.644Z"
   },
   {
    "duration": 17,
    "start_time": "2022-02-20T08:23:52.654Z"
   },
   {
    "duration": 6,
    "start_time": "2022-02-20T08:23:52.673Z"
   },
   {
    "duration": 89,
    "start_time": "2022-02-20T08:23:52.681Z"
   },
   {
    "duration": 6,
    "start_time": "2022-02-20T08:23:52.772Z"
   },
   {
    "duration": 11,
    "start_time": "2022-02-20T08:23:52.780Z"
   },
   {
    "duration": 7,
    "start_time": "2022-02-20T08:23:52.792Z"
   },
   {
    "duration": 29,
    "start_time": "2022-02-20T08:23:52.818Z"
   },
   {
    "duration": 662,
    "start_time": "2022-02-20T08:26:34.023Z"
   },
   {
    "duration": 80,
    "start_time": "2022-02-20T08:26:34.687Z"
   },
   {
    "duration": 30,
    "start_time": "2022-02-20T08:26:34.769Z"
   },
   {
    "duration": 10,
    "start_time": "2022-02-20T08:26:34.802Z"
   },
   {
    "duration": 18,
    "start_time": "2022-02-20T08:26:34.814Z"
   },
   {
    "duration": 12,
    "start_time": "2022-02-20T08:26:34.834Z"
   },
   {
    "duration": 5,
    "start_time": "2022-02-20T08:26:38.116Z"
   },
   {
    "duration": 26,
    "start_time": "2022-02-20T08:26:48.739Z"
   },
   {
    "duration": 6,
    "start_time": "2022-02-20T08:26:50.859Z"
   },
   {
    "duration": 53,
    "start_time": "2022-02-20T08:32:10.263Z"
   },
   {
    "duration": 10,
    "start_time": "2022-02-20T08:32:49.469Z"
   },
   {
    "duration": 27,
    "start_time": "2022-02-20T08:33:11.097Z"
   },
   {
    "duration": 277,
    "start_time": "2022-02-20T08:39:40.871Z"
   },
   {
    "duration": 293,
    "start_time": "2022-02-20T08:39:45.449Z"
   },
   {
    "duration": 19,
    "start_time": "2022-02-20T08:49:19.954Z"
   },
   {
    "duration": 22,
    "start_time": "2022-02-20T08:50:26.265Z"
   },
   {
    "duration": 10,
    "start_time": "2022-02-20T09:01:57.445Z"
   },
   {
    "duration": 27,
    "start_time": "2022-02-20T09:01:59.294Z"
   },
   {
    "duration": 9,
    "start_time": "2022-02-20T09:06:00.222Z"
   },
   {
    "duration": 33,
    "start_time": "2022-02-20T09:06:18.288Z"
   },
   {
    "duration": 8,
    "start_time": "2022-02-20T09:07:35.897Z"
   },
   {
    "duration": 7,
    "start_time": "2022-02-20T09:08:46.040Z"
   },
   {
    "duration": 25,
    "start_time": "2022-02-20T09:12:18.011Z"
   },
   {
    "duration": 9,
    "start_time": "2022-02-20T09:12:54.811Z"
   },
   {
    "duration": 5208,
    "start_time": "2022-02-20T09:14:24.127Z"
   },
   {
    "duration": 29,
    "start_time": "2022-02-20T09:14:48.471Z"
   },
   {
    "duration": 27,
    "start_time": "2022-02-20T09:15:07.383Z"
   },
   {
    "duration": 7,
    "start_time": "2022-02-20T09:15:33.034Z"
   },
   {
    "duration": 17,
    "start_time": "2022-02-20T09:16:15.176Z"
   },
   {
    "duration": 7,
    "start_time": "2022-02-20T09:17:06.086Z"
   },
   {
    "duration": 7,
    "start_time": "2022-02-20T09:17:22.419Z"
   },
   {
    "duration": 8,
    "start_time": "2022-02-20T09:17:29.158Z"
   },
   {
    "duration": 4,
    "start_time": "2022-02-20T09:17:55.600Z"
   },
   {
    "duration": 5,
    "start_time": "2022-02-20T09:18:21.587Z"
   },
   {
    "duration": 267,
    "start_time": "2022-02-20T09:18:40.153Z"
   },
   {
    "duration": 187,
    "start_time": "2022-02-20T09:18:50.547Z"
   },
   {
    "duration": 165,
    "start_time": "2022-02-20T09:18:53.287Z"
   },
   {
    "duration": 220,
    "start_time": "2022-02-20T09:18:59.545Z"
   },
   {
    "duration": 175,
    "start_time": "2022-02-20T09:19:02.504Z"
   },
   {
    "duration": 177,
    "start_time": "2022-02-20T09:19:22.331Z"
   },
   {
    "duration": 4,
    "start_time": "2022-02-20T09:19:37.897Z"
   },
   {
    "duration": 6,
    "start_time": "2022-02-20T09:19:49.567Z"
   },
   {
    "duration": 5,
    "start_time": "2022-02-20T09:20:00.962Z"
   },
   {
    "duration": 8,
    "start_time": "2022-02-20T09:54:00.940Z"
   },
   {
    "duration": 133,
    "start_time": "2022-02-20T09:54:29.613Z"
   },
   {
    "duration": 121,
    "start_time": "2022-02-20T09:54:31.331Z"
   },
   {
    "duration": 5,
    "start_time": "2022-02-20T09:54:38.584Z"
   },
   {
    "duration": 7,
    "start_time": "2022-02-20T09:56:14.745Z"
   },
   {
    "duration": 11,
    "start_time": "2022-02-20T09:56:30.245Z"
   },
   {
    "duration": 9,
    "start_time": "2022-02-20T09:56:39.679Z"
   },
   {
    "duration": 11,
    "start_time": "2022-02-20T09:57:21.818Z"
   },
   {
    "duration": 202,
    "start_time": "2022-02-20T09:57:46.705Z"
   },
   {
    "duration": 191,
    "start_time": "2022-02-20T09:58:04.384Z"
   },
   {
    "duration": 206,
    "start_time": "2022-02-20T09:58:09.880Z"
   },
   {
    "duration": 186,
    "start_time": "2022-02-20T09:58:16.651Z"
   },
   {
    "duration": 186,
    "start_time": "2022-02-20T09:58:21.530Z"
   },
   {
    "duration": 373,
    "start_time": "2022-02-20T09:58:28.403Z"
   },
   {
    "duration": 261,
    "start_time": "2022-02-20T09:58:32.707Z"
   },
   {
    "duration": 253,
    "start_time": "2022-02-20T09:58:56.910Z"
   },
   {
    "duration": 318,
    "start_time": "2022-02-20T09:59:17.105Z"
   },
   {
    "duration": 268,
    "start_time": "2022-02-20T09:59:36.615Z"
   },
   {
    "duration": 264,
    "start_time": "2022-02-20T09:59:41.647Z"
   },
   {
    "duration": 437,
    "start_time": "2022-02-20T18:58:09.269Z"
   },
   {
    "duration": 1031,
    "start_time": "2022-02-20T18:58:14.795Z"
   },
   {
    "duration": 233,
    "start_time": "2022-02-20T18:58:15.830Z"
   },
   {
    "duration": 49,
    "start_time": "2022-02-20T18:58:16.068Z"
   },
   {
    "duration": 15,
    "start_time": "2022-02-20T18:58:16.120Z"
   },
   {
    "duration": 37,
    "start_time": "2022-02-20T18:58:16.138Z"
   },
   {
    "duration": 21,
    "start_time": "2022-02-20T18:58:16.179Z"
   },
   {
    "duration": 66,
    "start_time": "2022-02-20T18:58:16.203Z"
   },
   {
    "duration": 8,
    "start_time": "2022-02-20T18:58:16.271Z"
   },
   {
    "duration": 58,
    "start_time": "2022-02-20T18:58:16.285Z"
   },
   {
    "duration": 30,
    "start_time": "2022-02-20T18:58:16.348Z"
   },
   {
    "duration": 46,
    "start_time": "2022-02-20T18:58:16.381Z"
   },
   {
    "duration": 57,
    "start_time": "2022-02-20T18:58:16.431Z"
   },
   {
    "duration": 44,
    "start_time": "2022-02-20T18:58:16.491Z"
   },
   {
    "duration": 40,
    "start_time": "2022-02-20T18:58:16.538Z"
   },
   {
    "duration": 73,
    "start_time": "2022-02-20T18:58:16.581Z"
   },
   {
    "duration": 47,
    "start_time": "2022-02-20T18:58:16.657Z"
   },
   {
    "duration": 68,
    "start_time": "2022-02-20T18:58:16.707Z"
   },
   {
    "duration": 62,
    "start_time": "2022-02-20T18:58:16.779Z"
   },
   {
    "duration": 12,
    "start_time": "2022-02-20T18:58:16.844Z"
   },
   {
    "duration": 124,
    "start_time": "2022-02-20T18:58:16.859Z"
   },
   {
    "duration": 10,
    "start_time": "2022-02-20T18:58:16.986Z"
   },
   {
    "duration": 37,
    "start_time": "2022-02-20T18:58:16.999Z"
   },
   {
    "duration": 14,
    "start_time": "2022-02-20T18:58:17.039Z"
   },
   {
    "duration": 70,
    "start_time": "2022-02-20T18:58:17.056Z"
   },
   {
    "duration": 41,
    "start_time": "2022-02-20T18:58:17.129Z"
   },
   {
    "duration": 23,
    "start_time": "2022-02-20T18:58:17.173Z"
   },
   {
    "duration": 14,
    "start_time": "2022-02-20T18:58:17.231Z"
   },
   {
    "duration": 47,
    "start_time": "2022-02-20T19:00:27.670Z"
   },
   {
    "duration": 19,
    "start_time": "2022-02-20T19:03:18.218Z"
   },
   {
    "duration": 13,
    "start_time": "2022-02-20T19:03:35.173Z"
   },
   {
    "duration": 46,
    "start_time": "2022-02-20T19:04:06.153Z"
   },
   {
    "duration": 110,
    "start_time": "2022-02-20T19:07:05.916Z"
   },
   {
    "duration": 117,
    "start_time": "2022-02-20T19:07:13.210Z"
   },
   {
    "duration": 250,
    "start_time": "2022-02-20T19:08:05.222Z"
   },
   {
    "duration": 233,
    "start_time": "2022-02-20T19:09:13.679Z"
   },
   {
    "duration": 286,
    "start_time": "2022-02-20T19:09:18.778Z"
   },
   {
    "duration": 228,
    "start_time": "2022-02-20T19:09:26.400Z"
   },
   {
    "duration": 230,
    "start_time": "2022-02-20T19:09:37.339Z"
   },
   {
    "duration": 260,
    "start_time": "2022-02-20T19:09:43.409Z"
   },
   {
    "duration": 230,
    "start_time": "2022-02-20T19:09:52.272Z"
   },
   {
    "duration": 218,
    "start_time": "2022-02-20T19:09:56.057Z"
   },
   {
    "duration": 225,
    "start_time": "2022-02-20T19:10:00.349Z"
   },
   {
    "duration": 245,
    "start_time": "2022-02-20T19:10:10.283Z"
   },
   {
    "duration": 308,
    "start_time": "2022-02-20T19:10:13.699Z"
   },
   {
    "duration": 238,
    "start_time": "2022-02-20T19:10:17.429Z"
   },
   {
    "duration": 64,
    "start_time": "2022-02-20T19:13:35.231Z"
   },
   {
    "duration": 18,
    "start_time": "2022-02-20T19:13:53.351Z"
   },
   {
    "duration": 18,
    "start_time": "2022-02-20T19:14:17.052Z"
   },
   {
    "duration": 55,
    "start_time": "2022-02-20T19:14:26.663Z"
   },
   {
    "duration": 40,
    "start_time": "2022-02-20T19:25:03.365Z"
   },
   {
    "duration": 6,
    "start_time": "2022-02-20T19:29:16.316Z"
   },
   {
    "duration": 363,
    "start_time": "2022-02-20T19:29:52.912Z"
   },
   {
    "duration": 8,
    "start_time": "2022-02-20T19:30:55.399Z"
   },
   {
    "duration": 6,
    "start_time": "2022-02-20T19:31:04.226Z"
   },
   {
    "duration": 7,
    "start_time": "2022-02-20T19:31:39.614Z"
   },
   {
    "duration": 6,
    "start_time": "2022-02-20T19:31:48.618Z"
   },
   {
    "duration": 13,
    "start_time": "2022-02-20T19:32:37.502Z"
   },
   {
    "duration": 315,
    "start_time": "2022-02-20T19:35:00.849Z"
   },
   {
    "duration": 1375,
    "start_time": "2022-02-20T19:57:16.423Z"
   },
   {
    "duration": 1403,
    "start_time": "2022-02-20T19:58:40.902Z"
   },
   {
    "duration": 1372,
    "start_time": "2022-02-20T20:03:50.136Z"
   },
   {
    "duration": 1773,
    "start_time": "2022-02-20T20:04:24.593Z"
   },
   {
    "duration": 126,
    "start_time": "2022-02-20T20:05:39.866Z"
   },
   {
    "duration": 106,
    "start_time": "2022-02-20T20:05:43.870Z"
   },
   {
    "duration": 1403,
    "start_time": "2022-02-20T20:06:35.216Z"
   },
   {
    "duration": 315,
    "start_time": "2022-02-20T20:07:12.528Z"
   },
   {
    "duration": 32,
    "start_time": "2022-02-20T20:07:19.149Z"
   },
   {
    "duration": 24,
    "start_time": "2022-02-20T20:11:21.667Z"
   },
   {
    "duration": 10,
    "start_time": "2022-02-20T20:12:04.258Z"
   },
   {
    "duration": 28,
    "start_time": "2022-02-20T20:12:15.785Z"
   },
   {
    "duration": 33,
    "start_time": "2022-02-20T20:13:37.782Z"
   },
   {
    "duration": 120,
    "start_time": "2022-02-20T20:15:54.560Z"
   },
   {
    "duration": 6,
    "start_time": "2022-02-20T20:16:02.710Z"
   },
   {
    "duration": 53,
    "start_time": "2022-02-20T20:16:30.004Z"
   },
   {
    "duration": 47,
    "start_time": "2022-02-20T20:16:38.209Z"
   },
   {
    "duration": 48,
    "start_time": "2022-02-20T20:17:41.821Z"
   },
   {
    "duration": 7,
    "start_time": "2022-02-20T20:19:31.333Z"
   },
   {
    "duration": 34,
    "start_time": "2022-02-20T20:19:56.128Z"
   },
   {
    "duration": 535,
    "start_time": "2022-02-20T20:21:23.652Z"
   },
   {
    "duration": 316,
    "start_time": "2022-02-20T20:21:36.540Z"
   },
   {
    "duration": 8,
    "start_time": "2022-02-20T20:21:56.010Z"
   },
   {
    "duration": 293,
    "start_time": "2022-02-20T20:22:06.682Z"
   },
   {
    "duration": 298,
    "start_time": "2022-02-20T20:22:10.803Z"
   },
   {
    "duration": 356,
    "start_time": "2022-02-20T20:22:24.362Z"
   },
   {
    "duration": 347,
    "start_time": "2022-02-20T20:22:30.274Z"
   },
   {
    "duration": 303,
    "start_time": "2022-02-20T20:23:18.013Z"
   },
   {
    "duration": 360,
    "start_time": "2022-02-20T20:23:26.543Z"
   },
   {
    "duration": 6,
    "start_time": "2022-02-20T20:23:49.380Z"
   },
   {
    "duration": 17,
    "start_time": "2022-02-20T20:43:08.081Z"
   },
   {
    "duration": 363,
    "start_time": "2022-02-20T20:51:49.608Z"
   },
   {
    "duration": 338,
    "start_time": "2022-02-20T20:52:48.181Z"
   },
   {
    "duration": 21,
    "start_time": "2022-02-20T20:53:32.762Z"
   },
   {
    "duration": 322,
    "start_time": "2022-02-20T20:53:48.577Z"
   },
   {
    "duration": 13,
    "start_time": "2022-02-20T20:53:56.893Z"
   },
   {
    "duration": 14,
    "start_time": "2022-02-20T20:54:20.759Z"
   },
   {
    "duration": 13,
    "start_time": "2022-02-20T20:54:40.925Z"
   },
   {
    "duration": 11,
    "start_time": "2022-02-20T20:55:31.566Z"
   },
   {
    "duration": 12,
    "start_time": "2022-02-20T20:56:45.710Z"
   },
   {
    "duration": 12,
    "start_time": "2022-02-20T20:56:52.979Z"
   },
   {
    "duration": 12,
    "start_time": "2022-02-20T20:57:44.755Z"
   },
   {
    "duration": 15,
    "start_time": "2022-02-20T20:58:16.828Z"
   },
   {
    "duration": 13,
    "start_time": "2022-02-20T20:58:38.712Z"
   },
   {
    "duration": 347,
    "start_time": "2022-02-20T20:58:52.829Z"
   },
   {
    "duration": 298,
    "start_time": "2022-02-20T20:58:55.794Z"
   },
   {
    "duration": 36,
    "start_time": "2022-02-20T20:59:11.942Z"
   },
   {
    "duration": 40,
    "start_time": "2022-02-20T20:59:29.135Z"
   },
   {
    "duration": 21,
    "start_time": "2022-02-20T20:59:40.198Z"
   },
   {
    "duration": 1052,
    "start_time": "2022-02-20T21:00:01.810Z"
   },
   {
    "duration": 135,
    "start_time": "2022-02-20T21:00:02.865Z"
   },
   {
    "duration": 45,
    "start_time": "2022-02-20T21:00:03.003Z"
   },
   {
    "duration": 16,
    "start_time": "2022-02-20T21:00:03.051Z"
   },
   {
    "duration": 29,
    "start_time": "2022-02-20T21:00:03.069Z"
   },
   {
    "duration": 41,
    "start_time": "2022-02-20T21:00:03.102Z"
   },
   {
    "duration": 45,
    "start_time": "2022-02-20T21:00:03.146Z"
   },
   {
    "duration": 8,
    "start_time": "2022-02-20T21:00:03.195Z"
   },
   {
    "duration": 52,
    "start_time": "2022-02-20T21:00:03.226Z"
   },
   {
    "duration": 25,
    "start_time": "2022-02-20T21:00:03.280Z"
   },
   {
    "duration": 39,
    "start_time": "2022-02-20T21:00:03.308Z"
   },
   {
    "duration": 25,
    "start_time": "2022-02-20T21:00:03.350Z"
   },
   {
    "duration": 75,
    "start_time": "2022-02-20T21:00:03.377Z"
   },
   {
    "duration": 15,
    "start_time": "2022-02-20T21:00:03.454Z"
   },
   {
    "duration": 56,
    "start_time": "2022-02-20T21:00:03.471Z"
   },
   {
    "duration": 42,
    "start_time": "2022-02-20T21:00:03.530Z"
   },
   {
    "duration": 53,
    "start_time": "2022-02-20T21:00:03.575Z"
   },
   {
    "duration": 98,
    "start_time": "2022-02-20T21:00:03.631Z"
   },
   {
    "duration": 42,
    "start_time": "2022-02-20T21:00:03.731Z"
   },
   {
    "duration": 10,
    "start_time": "2022-02-20T21:00:03.775Z"
   },
   {
    "duration": 117,
    "start_time": "2022-02-20T21:00:03.787Z"
   },
   {
    "duration": 21,
    "start_time": "2022-02-20T21:00:03.906Z"
   },
   {
    "duration": 20,
    "start_time": "2022-02-20T21:00:03.932Z"
   },
   {
    "duration": 62,
    "start_time": "2022-02-20T21:00:03.954Z"
   },
   {
    "duration": 50,
    "start_time": "2022-02-20T21:00:04.019Z"
   },
   {
    "duration": 83,
    "start_time": "2022-02-20T21:00:04.071Z"
   },
   {
    "duration": 24,
    "start_time": "2022-02-20T21:00:04.157Z"
   },
   {
    "duration": 78,
    "start_time": "2022-02-20T21:00:04.183Z"
   },
   {
    "duration": 433,
    "start_time": "2022-02-20T21:00:04.265Z"
   },
   {
    "duration": -1379,
    "start_time": "2022-02-20T21:00:06.080Z"
   },
   {
    "duration": -1379,
    "start_time": "2022-02-20T21:00:06.082Z"
   },
   {
    "duration": -1383,
    "start_time": "2022-02-20T21:00:06.087Z"
   },
   {
    "duration": -1384,
    "start_time": "2022-02-20T21:00:06.090Z"
   },
   {
    "duration": -1386,
    "start_time": "2022-02-20T21:00:06.094Z"
   },
   {
    "duration": 343,
    "start_time": "2022-02-20T21:00:13.751Z"
   },
   {
    "duration": 320,
    "start_time": "2022-02-20T21:00:30.264Z"
   },
   {
    "duration": 15,
    "start_time": "2022-02-20T21:00:38.629Z"
   },
   {
    "duration": 898,
    "start_time": "2022-02-20T21:01:12.760Z"
   },
   {
    "duration": 109,
    "start_time": "2022-02-20T21:01:13.661Z"
   },
   {
    "duration": 42,
    "start_time": "2022-02-20T21:01:13.774Z"
   },
   {
    "duration": 13,
    "start_time": "2022-02-20T21:01:13.819Z"
   },
   {
    "duration": 25,
    "start_time": "2022-02-20T21:01:13.836Z"
   },
   {
    "duration": 19,
    "start_time": "2022-02-20T21:01:13.863Z"
   },
   {
    "duration": 69,
    "start_time": "2022-02-20T21:01:13.885Z"
   },
   {
    "duration": 7,
    "start_time": "2022-02-20T21:01:13.956Z"
   },
   {
    "duration": 37,
    "start_time": "2022-02-20T21:01:13.967Z"
   },
   {
    "duration": 34,
    "start_time": "2022-02-20T21:01:14.008Z"
   },
   {
    "duration": 14,
    "start_time": "2022-02-20T21:01:14.045Z"
   },
   {
    "duration": 21,
    "start_time": "2022-02-20T21:01:14.062Z"
   },
   {
    "duration": 79,
    "start_time": "2022-02-20T21:01:14.085Z"
   },
   {
    "duration": 14,
    "start_time": "2022-02-20T21:01:14.166Z"
   },
   {
    "duration": 51,
    "start_time": "2022-02-20T21:01:14.182Z"
   },
   {
    "duration": 36,
    "start_time": "2022-02-20T21:01:14.235Z"
   },
   {
    "duration": 53,
    "start_time": "2022-02-20T21:01:14.273Z"
   },
   {
    "duration": 34,
    "start_time": "2022-02-20T21:01:14.328Z"
   },
   {
    "duration": 64,
    "start_time": "2022-02-20T21:01:14.364Z"
   },
   {
    "duration": 9,
    "start_time": "2022-02-20T21:01:14.430Z"
   },
   {
    "duration": 103,
    "start_time": "2022-02-20T21:01:14.441Z"
   },
   {
    "duration": 9,
    "start_time": "2022-02-20T21:01:14.546Z"
   },
   {
    "duration": 20,
    "start_time": "2022-02-20T21:01:14.558Z"
   },
   {
    "duration": 16,
    "start_time": "2022-02-20T21:01:14.582Z"
   },
   {
    "duration": 41,
    "start_time": "2022-02-20T21:01:14.627Z"
   },
   {
    "duration": 66,
    "start_time": "2022-02-20T21:01:14.671Z"
   },
   {
    "duration": 18,
    "start_time": "2022-02-20T21:01:14.741Z"
   },
   {
    "duration": 67,
    "start_time": "2022-02-20T21:01:14.762Z"
   },
   {
    "duration": 3,
    "start_time": "2022-02-20T21:01:14.832Z"
   },
   {
    "duration": 48,
    "start_time": "2022-02-20T21:01:14.837Z"
   },
   {
    "duration": 46,
    "start_time": "2022-02-20T21:01:14.887Z"
   },
   {
    "duration": 53,
    "start_time": "2022-02-20T21:01:14.935Z"
   },
   {
    "duration": 36,
    "start_time": "2022-02-20T21:01:14.990Z"
   },
   {
    "duration": 30,
    "start_time": "2022-02-20T21:01:15.029Z"
   },
   {
    "duration": 29,
    "start_time": "2022-02-20T21:01:32.311Z"
   },
   {
    "duration": 12,
    "start_time": "2022-02-20T21:01:53.782Z"
   },
   {
    "duration": 412,
    "start_time": "2022-02-20T21:02:01.260Z"
   },
   {
    "duration": 36,
    "start_time": "2022-02-20T21:02:19.209Z"
   },
   {
    "duration": 19,
    "start_time": "2022-02-20T21:02:35.875Z"
   },
   {
    "duration": 32,
    "start_time": "2022-02-20T21:02:40.381Z"
   },
   {
    "duration": 8527,
    "start_time": "2022-02-20T21:02:47.387Z"
   },
   {
    "duration": 26,
    "start_time": "2022-02-20T21:02:57.076Z"
   },
   {
    "duration": 27,
    "start_time": "2022-02-20T21:03:10.784Z"
   },
   {
    "duration": 33,
    "start_time": "2022-02-20T21:03:22.014Z"
   },
   {
    "duration": 20,
    "start_time": "2022-02-20T21:04:41.967Z"
   },
   {
    "duration": 390,
    "start_time": "2022-02-20T21:05:49.786Z"
   },
   {
    "duration": 544,
    "start_time": "2022-02-20T21:08:26.475Z"
   },
   {
    "duration": 53,
    "start_time": "2022-02-20T21:09:12.607Z"
   },
   {
    "duration": 45,
    "start_time": "2022-02-20T21:09:24.480Z"
   },
   {
    "duration": 13,
    "start_time": "2022-02-20T21:10:09.890Z"
   },
   {
    "duration": 340,
    "start_time": "2022-02-20T21:10:43.363Z"
   },
   {
    "duration": 916,
    "start_time": "2022-02-20T21:10:48.717Z"
   },
   {
    "duration": 97,
    "start_time": "2022-02-20T21:10:49.636Z"
   },
   {
    "duration": 39,
    "start_time": "2022-02-20T21:10:49.736Z"
   },
   {
    "duration": 14,
    "start_time": "2022-02-20T21:10:49.778Z"
   },
   {
    "duration": 53,
    "start_time": "2022-02-20T21:10:49.795Z"
   },
   {
    "duration": 19,
    "start_time": "2022-02-20T21:10:49.851Z"
   },
   {
    "duration": 65,
    "start_time": "2022-02-20T21:10:49.873Z"
   },
   {
    "duration": 6,
    "start_time": "2022-02-20T21:10:49.940Z"
   },
   {
    "duration": 21,
    "start_time": "2022-02-20T21:10:49.953Z"
   },
   {
    "duration": 55,
    "start_time": "2022-02-20T21:10:49.979Z"
   },
   {
    "duration": 23,
    "start_time": "2022-02-20T21:10:50.036Z"
   },
   {
    "duration": 21,
    "start_time": "2022-02-20T21:10:50.062Z"
   },
   {
    "duration": 71,
    "start_time": "2022-02-20T21:10:50.086Z"
   },
   {
    "duration": 15,
    "start_time": "2022-02-20T21:10:50.159Z"
   },
   {
    "duration": 53,
    "start_time": "2022-02-20T21:10:50.176Z"
   },
   {
    "duration": 35,
    "start_time": "2022-02-20T21:10:50.232Z"
   },
   {
    "duration": 59,
    "start_time": "2022-02-20T21:10:50.269Z"
   },
   {
    "duration": 34,
    "start_time": "2022-02-20T21:10:50.330Z"
   },
   {
    "duration": 62,
    "start_time": "2022-02-20T21:10:50.366Z"
   },
   {
    "duration": 9,
    "start_time": "2022-02-20T21:10:50.430Z"
   },
   {
    "duration": 106,
    "start_time": "2022-02-20T21:10:50.441Z"
   },
   {
    "duration": 8,
    "start_time": "2022-02-20T21:10:50.549Z"
   },
   {
    "duration": 13,
    "start_time": "2022-02-20T21:10:50.559Z"
   },
   {
    "duration": 11,
    "start_time": "2022-02-20T21:10:50.574Z"
   },
   {
    "duration": 72,
    "start_time": "2022-02-20T21:10:50.587Z"
   },
   {
    "duration": 41,
    "start_time": "2022-02-20T21:10:50.661Z"
   },
   {
    "duration": 18,
    "start_time": "2022-02-20T21:10:50.730Z"
   },
   {
    "duration": 45,
    "start_time": "2022-02-20T21:10:50.750Z"
   },
   {
    "duration": 30,
    "start_time": "2022-02-20T21:10:50.797Z"
   },
   {
    "duration": 32,
    "start_time": "2022-02-20T21:10:50.830Z"
   },
   {
    "duration": 65,
    "start_time": "2022-02-20T21:10:50.864Z"
   },
   {
    "duration": 42,
    "start_time": "2022-02-20T21:10:50.932Z"
   },
   {
    "duration": 16,
    "start_time": "2022-02-20T21:10:50.977Z"
   },
   {
    "duration": 19,
    "start_time": "2022-02-20T21:10:51.027Z"
   },
   {
    "duration": 30,
    "start_time": "2022-02-20T21:11:45.572Z"
   },
   {
    "duration": 361,
    "start_time": "2022-02-20T21:12:00.356Z"
   },
   {
    "duration": 325,
    "start_time": "2022-02-20T21:12:07.451Z"
   },
   {
    "duration": 20,
    "start_time": "2022-02-20T21:12:12.292Z"
   },
   {
    "duration": 8,
    "start_time": "2022-02-20T21:19:44.430Z"
   },
   {
    "duration": 853,
    "start_time": "2022-02-21T09:17:48.110Z"
   },
   {
    "duration": 151,
    "start_time": "2022-02-21T09:17:48.965Z"
   },
   {
    "duration": 36,
    "start_time": "2022-02-21T09:17:49.119Z"
   },
   {
    "duration": 13,
    "start_time": "2022-02-21T09:17:49.158Z"
   },
   {
    "duration": 29,
    "start_time": "2022-02-21T09:17:49.173Z"
   },
   {
    "duration": 17,
    "start_time": "2022-02-21T09:17:49.205Z"
   },
   {
    "duration": 35,
    "start_time": "2022-02-21T09:17:49.225Z"
   },
   {
    "duration": 33,
    "start_time": "2022-02-21T09:17:49.263Z"
   },
   {
    "duration": 20,
    "start_time": "2022-02-21T09:17:49.299Z"
   },
   {
    "duration": 21,
    "start_time": "2022-02-21T09:17:49.321Z"
   },
   {
    "duration": 14,
    "start_time": "2022-02-21T09:17:49.344Z"
   },
   {
    "duration": 53,
    "start_time": "2022-02-21T09:17:49.360Z"
   },
   {
    "duration": 40,
    "start_time": "2022-02-21T09:17:49.416Z"
   },
   {
    "duration": 40,
    "start_time": "2022-02-21T09:17:49.459Z"
   },
   {
    "duration": 28,
    "start_time": "2022-02-21T09:17:49.501Z"
   },
   {
    "duration": 32,
    "start_time": "2022-02-21T09:17:49.531Z"
   },
   {
    "duration": 31,
    "start_time": "2022-02-21T09:17:49.593Z"
   },
   {
    "duration": 34,
    "start_time": "2022-02-21T09:17:49.627Z"
   },
   {
    "duration": 63,
    "start_time": "2022-02-21T09:17:49.663Z"
   },
   {
    "duration": 9,
    "start_time": "2022-02-21T09:17:49.729Z"
   },
   {
    "duration": 117,
    "start_time": "2022-02-21T09:17:49.741Z"
   },
   {
    "duration": 9,
    "start_time": "2022-02-21T09:17:49.860Z"
   },
   {
    "duration": 24,
    "start_time": "2022-02-21T09:17:49.873Z"
   },
   {
    "duration": 17,
    "start_time": "2022-02-21T09:17:49.900Z"
   },
   {
    "duration": 40,
    "start_time": "2022-02-21T09:17:49.920Z"
   },
   {
    "duration": 64,
    "start_time": "2022-02-21T09:17:49.962Z"
   },
   {
    "duration": 16,
    "start_time": "2022-02-21T09:17:50.028Z"
   },
   {
    "duration": 67,
    "start_time": "2022-02-21T09:17:50.046Z"
   },
   {
    "duration": 4,
    "start_time": "2022-02-21T09:17:50.116Z"
   },
   {
    "duration": 38,
    "start_time": "2022-02-21T09:17:50.123Z"
   },
   {
    "duration": 64,
    "start_time": "2022-02-21T09:17:50.164Z"
   },
   {
    "duration": 64,
    "start_time": "2022-02-21T09:17:50.231Z"
   },
   {
    "duration": 16,
    "start_time": "2022-02-21T09:17:50.297Z"
   },
   {
    "duration": 5,
    "start_time": "2022-02-21T09:19:54.000Z"
   },
   {
    "duration": 436,
    "start_time": "2022-02-21T09:20:00.650Z"
   },
   {
    "duration": 5,
    "start_time": "2022-02-21T09:20:29.754Z"
   },
   {
    "duration": 12,
    "start_time": "2022-02-21T09:42:40.546Z"
   },
   {
    "duration": 10,
    "start_time": "2022-02-21T09:46:23.094Z"
   },
   {
    "duration": 369,
    "start_time": "2022-02-21T09:48:30.857Z"
   },
   {
    "duration": 3,
    "start_time": "2022-02-21T09:48:35.094Z"
   },
   {
    "duration": 180,
    "start_time": "2022-02-21T09:48:36.606Z"
   },
   {
    "duration": 117,
    "start_time": "2022-02-21T09:49:02.758Z"
   },
   {
    "duration": 97,
    "start_time": "2022-02-21T09:49:14.987Z"
   },
   {
    "duration": 5,
    "start_time": "2022-02-21T10:53:07.025Z"
   },
   {
    "duration": 5,
    "start_time": "2022-02-21T10:53:11.907Z"
   },
   {
    "duration": 22,
    "start_time": "2022-02-21T10:59:17.598Z"
   },
   {
    "duration": 20,
    "start_time": "2022-02-21T10:59:34.907Z"
   },
   {
    "duration": 21,
    "start_time": "2022-02-21T10:59:53.172Z"
   },
   {
    "duration": 20,
    "start_time": "2022-02-21T11:00:06.894Z"
   },
   {
    "duration": 7174,
    "start_time": "2022-02-21T11:00:33.142Z"
   },
   {
    "duration": 292,
    "start_time": "2022-02-21T11:00:59.144Z"
   },
   {
    "duration": 17,
    "start_time": "2022-02-21T11:01:08.250Z"
   },
   {
    "duration": 471,
    "start_time": "2022-02-21T11:01:40.505Z"
   },
   {
    "duration": 19,
    "start_time": "2022-02-21T11:02:52.301Z"
   },
   {
    "duration": 7,
    "start_time": "2022-02-21T11:03:21.567Z"
   },
   {
    "duration": 5,
    "start_time": "2022-02-21T11:03:25.951Z"
   },
   {
    "duration": 6,
    "start_time": "2022-02-21T11:03:29.775Z"
   },
   {
    "duration": 5,
    "start_time": "2022-02-21T11:03:33.595Z"
   },
   {
    "duration": 6,
    "start_time": "2022-02-21T11:03:36.601Z"
   },
   {
    "duration": 6,
    "start_time": "2022-02-21T11:03:40.421Z"
   },
   {
    "duration": 301,
    "start_time": "2022-02-21T11:03:43.647Z"
   },
   {
    "duration": 6,
    "start_time": "2022-02-21T11:03:48.394Z"
   },
   {
    "duration": 6,
    "start_time": "2022-02-21T11:03:55.659Z"
   },
   {
    "duration": 6,
    "start_time": "2022-02-21T11:04:02.398Z"
   },
   {
    "duration": 6,
    "start_time": "2022-02-21T11:04:12.679Z"
   },
   {
    "duration": 349,
    "start_time": "2022-02-21T11:04:23.297Z"
   },
   {
    "duration": 7,
    "start_time": "2022-02-21T11:04:28.221Z"
   },
   {
    "duration": 14,
    "start_time": "2022-02-21T12:51:12.187Z"
   },
   {
    "duration": 7,
    "start_time": "2022-02-21T12:51:23.636Z"
   },
   {
    "duration": 7,
    "start_time": "2022-02-21T12:51:41.699Z"
   },
   {
    "duration": 334,
    "start_time": "2022-02-21T12:52:03.542Z"
   },
   {
    "duration": 7,
    "start_time": "2022-02-21T12:52:14.419Z"
   },
   {
    "duration": 14,
    "start_time": "2022-02-21T12:52:19.603Z"
   },
   {
    "duration": 11,
    "start_time": "2022-02-21T12:52:52.083Z"
   },
   {
    "duration": 7,
    "start_time": "2022-02-21T12:53:18.171Z"
   },
   {
    "duration": 15,
    "start_time": "2022-02-21T12:53:21.518Z"
   },
   {
    "duration": 11,
    "start_time": "2022-02-21T12:53:41.472Z"
   },
   {
    "duration": 14,
    "start_time": "2022-02-21T12:53:44.117Z"
   },
   {
    "duration": 17,
    "start_time": "2022-02-21T12:56:00.856Z"
   },
   {
    "duration": 18,
    "start_time": "2022-02-21T12:56:22.397Z"
   },
   {
    "duration": 19,
    "start_time": "2022-02-21T12:56:26.369Z"
   },
   {
    "duration": 29,
    "start_time": "2022-02-21T12:59:11.377Z"
   },
   {
    "duration": 26,
    "start_time": "2022-02-21T12:59:54.582Z"
   },
   {
    "duration": 26,
    "start_time": "2022-02-21T13:00:28.583Z"
   },
   {
    "duration": 6901,
    "start_time": "2022-02-21T13:01:23.243Z"
   },
   {
    "duration": 6635,
    "start_time": "2022-02-21T14:08:06.884Z"
   },
   {
    "duration": 17,
    "start_time": "2022-02-21T14:08:18.911Z"
   },
   {
    "duration": 13,
    "start_time": "2022-02-21T14:08:49.597Z"
   },
   {
    "duration": 17,
    "start_time": "2022-02-21T14:09:02.403Z"
   },
   {
    "duration": 14,
    "start_time": "2022-02-21T14:26:05.060Z"
   },
   {
    "duration": 20,
    "start_time": "2022-02-21T14:26:15.741Z"
   },
   {
    "duration": 13,
    "start_time": "2022-02-21T14:26:34.283Z"
   },
   {
    "duration": 12,
    "start_time": "2022-02-21T14:26:40.719Z"
   },
   {
    "duration": 15,
    "start_time": "2022-02-21T14:26:44.974Z"
   },
   {
    "duration": 22,
    "start_time": "2022-02-21T14:27:27.469Z"
   },
   {
    "duration": 24,
    "start_time": "2022-02-21T14:27:36.723Z"
   },
   {
    "duration": 24,
    "start_time": "2022-02-21T14:27:43.119Z"
   },
   {
    "duration": 18,
    "start_time": "2022-02-21T14:28:17.442Z"
   },
   {
    "duration": 28,
    "start_time": "2022-02-21T14:28:23.277Z"
   },
   {
    "duration": 26,
    "start_time": "2022-02-21T14:28:28.845Z"
   },
   {
    "duration": 20,
    "start_time": "2022-02-21T14:29:48.665Z"
   },
   {
    "duration": 45,
    "start_time": "2022-02-21T14:30:00.320Z"
   },
   {
    "duration": 29,
    "start_time": "2022-02-21T14:30:11.800Z"
   },
   {
    "duration": 395,
    "start_time": "2022-02-21T14:34:22.551Z"
   },
   {
    "duration": 9,
    "start_time": "2022-02-21T14:34:31.186Z"
   },
   {
    "duration": 34,
    "start_time": "2022-02-21T14:35:01.899Z"
   },
   {
    "duration": 18,
    "start_time": "2022-02-21T14:35:09.855Z"
   },
   {
    "duration": 356,
    "start_time": "2022-02-21T14:35:23.309Z"
   },
   {
    "duration": 35,
    "start_time": "2022-02-21T14:35:30.608Z"
   },
   {
    "duration": 35,
    "start_time": "2022-02-21T14:36:11.343Z"
   },
   {
    "duration": 304,
    "start_time": "2022-02-21T14:36:37.752Z"
   },
   {
    "duration": 303,
    "start_time": "2022-02-21T14:37:30.358Z"
   },
   {
    "duration": 36,
    "start_time": "2022-02-21T14:57:06.224Z"
   },
   {
    "duration": 54,
    "start_time": "2022-02-21T14:57:12.425Z"
   },
   {
    "duration": 320,
    "start_time": "2022-02-21T14:57:44.284Z"
   },
   {
    "duration": 659,
    "start_time": "2022-02-21T14:58:02.354Z"
   },
   {
    "duration": 60213,
    "start_time": "2022-02-21T14:58:10.425Z"
   },
   {
    "duration": 74528,
    "start_time": "2022-02-21T15:00:25.636Z"
   },
   {
    "duration": 317,
    "start_time": "2022-02-21T15:02:36.562Z"
   },
   {
    "duration": 34,
    "start_time": "2022-02-21T15:02:45.400Z"
   },
   {
    "duration": 289,
    "start_time": "2022-02-21T15:02:57.559Z"
   },
   {
    "duration": 59,
    "start_time": "2022-02-21T15:03:21.975Z"
   },
   {
    "duration": 422,
    "start_time": "2022-02-21T15:03:36.609Z"
   },
   {
    "duration": 435,
    "start_time": "2022-02-21T15:03:50.103Z"
   },
   {
    "duration": 637,
    "start_time": "2022-02-21T15:04:18.486Z"
   },
   {
    "duration": 554,
    "start_time": "2022-02-21T15:04:23.403Z"
   },
   {
    "duration": 717,
    "start_time": "2022-02-21T15:06:44.396Z"
   },
   {
    "duration": 701,
    "start_time": "2022-02-21T15:07:23.306Z"
   },
   {
    "duration": 599,
    "start_time": "2022-02-21T15:07:50.457Z"
   },
   {
    "duration": 609,
    "start_time": "2022-02-21T15:08:21.630Z"
   },
   {
    "duration": 406,
    "start_time": "2022-02-21T15:08:52.694Z"
   },
   {
    "duration": 442,
    "start_time": "2022-02-21T15:13:23.741Z"
   },
   {
    "duration": 418,
    "start_time": "2022-02-21T15:13:39.029Z"
   },
   {
    "duration": 359,
    "start_time": "2022-02-21T15:15:13.624Z"
   },
   {
    "duration": 379,
    "start_time": "2022-02-21T15:15:18.989Z"
   },
   {
    "duration": 376,
    "start_time": "2022-02-21T15:16:03.288Z"
   },
   {
    "duration": 358,
    "start_time": "2022-02-21T15:16:40.117Z"
   },
   {
    "duration": 192,
    "start_time": "2022-02-21T17:11:24.373Z"
   },
   {
    "duration": 628,
    "start_time": "2022-02-21T17:11:32.268Z"
   },
   {
    "duration": 81,
    "start_time": "2022-02-21T17:11:32.898Z"
   },
   {
    "duration": 27,
    "start_time": "2022-02-21T17:11:32.982Z"
   },
   {
    "duration": 10,
    "start_time": "2022-02-21T17:11:33.010Z"
   },
   {
    "duration": 38,
    "start_time": "2022-02-21T17:11:33.022Z"
   },
   {
    "duration": 12,
    "start_time": "2022-02-21T17:11:33.062Z"
   },
   {
    "duration": 25,
    "start_time": "2022-02-21T17:11:33.076Z"
   },
   {
    "duration": 5,
    "start_time": "2022-02-21T17:11:33.105Z"
   },
   {
    "duration": 14,
    "start_time": "2022-02-21T17:11:33.113Z"
   },
   {
    "duration": 44,
    "start_time": "2022-02-21T17:11:33.128Z"
   },
   {
    "duration": 12,
    "start_time": "2022-02-21T17:11:33.174Z"
   },
   {
    "duration": 16,
    "start_time": "2022-02-21T17:11:33.188Z"
   },
   {
    "duration": 60,
    "start_time": "2022-02-21T17:11:33.205Z"
   },
   {
    "duration": 9,
    "start_time": "2022-02-21T17:11:33.266Z"
   },
   {
    "duration": 26,
    "start_time": "2022-02-21T17:11:33.277Z"
   },
   {
    "duration": 20,
    "start_time": "2022-02-21T17:11:33.304Z"
   },
   {
    "duration": 37,
    "start_time": "2022-02-21T17:11:33.326Z"
   },
   {
    "duration": 22,
    "start_time": "2022-02-21T17:11:33.365Z"
   },
   {
    "duration": 26,
    "start_time": "2022-02-21T17:11:33.389Z"
   },
   {
    "duration": 6,
    "start_time": "2022-02-21T17:11:33.417Z"
   },
   {
    "duration": 83,
    "start_time": "2022-02-21T17:11:33.424Z"
   },
   {
    "duration": 6,
    "start_time": "2022-02-21T17:11:33.509Z"
   },
   {
    "duration": 11,
    "start_time": "2022-02-21T17:11:33.517Z"
   },
   {
    "duration": 11,
    "start_time": "2022-02-21T17:11:33.530Z"
   },
   {
    "duration": 37,
    "start_time": "2022-02-21T17:11:33.543Z"
   },
   {
    "duration": 28,
    "start_time": "2022-02-21T17:11:33.582Z"
   },
   {
    "duration": 11,
    "start_time": "2022-02-21T17:11:33.612Z"
   },
   {
    "duration": 53,
    "start_time": "2022-02-21T17:11:33.625Z"
   },
   {
    "duration": 2,
    "start_time": "2022-02-21T17:11:33.679Z"
   },
   {
    "duration": 19,
    "start_time": "2022-02-21T17:11:33.683Z"
   },
   {
    "duration": 25,
    "start_time": "2022-02-21T17:11:33.704Z"
   },
   {
    "duration": 56,
    "start_time": "2022-02-21T17:11:33.730Z"
   },
   {
    "duration": 288,
    "start_time": "2022-02-21T17:11:33.788Z"
   },
   {
    "duration": 237,
    "start_time": "2022-02-21T17:11:34.077Z"
   },
   {
    "duration": 234,
    "start_time": "2022-02-21T17:11:34.316Z"
   },
   {
    "duration": 21,
    "start_time": "2022-02-21T17:11:53.186Z"
   },
   {
    "duration": 32,
    "start_time": "2022-02-21T17:14:06.450Z"
   },
   {
    "duration": 312,
    "start_time": "2022-02-21T17:15:23.419Z"
   },
   {
    "duration": 10,
    "start_time": "2022-02-21T17:17:47.056Z"
   },
   {
    "duration": 9,
    "start_time": "2022-02-21T17:20:22.402Z"
   },
   {
    "duration": 10,
    "start_time": "2022-02-21T17:21:14.550Z"
   },
   {
    "duration": 187,
    "start_time": "2022-02-21T17:21:35.562Z"
   },
   {
    "duration": 196,
    "start_time": "2022-02-21T17:21:54.928Z"
   },
   {
    "duration": 205,
    "start_time": "2022-02-21T17:21:58.858Z"
   },
   {
    "duration": 10,
    "start_time": "2022-02-21T17:22:10.172Z"
   },
   {
    "duration": 657,
    "start_time": "2022-02-21T17:22:30.660Z"
   },
   {
    "duration": 79,
    "start_time": "2022-02-21T17:22:31.319Z"
   },
   {
    "duration": 27,
    "start_time": "2022-02-21T17:22:31.400Z"
   },
   {
    "duration": 10,
    "start_time": "2022-02-21T17:22:31.429Z"
   },
   {
    "duration": 24,
    "start_time": "2022-02-21T17:22:31.441Z"
   },
   {
    "duration": 20,
    "start_time": "2022-02-21T17:22:31.467Z"
   },
   {
    "duration": 50,
    "start_time": "2022-02-21T17:22:31.489Z"
   },
   {
    "duration": 6,
    "start_time": "2022-02-21T17:22:31.541Z"
   },
   {
    "duration": 15,
    "start_time": "2022-02-21T17:22:31.551Z"
   },
   {
    "duration": 18,
    "start_time": "2022-02-21T17:22:31.568Z"
   },
   {
    "duration": 24,
    "start_time": "2022-02-21T17:22:31.588Z"
   },
   {
    "duration": 37,
    "start_time": "2022-02-21T17:22:31.615Z"
   },
   {
    "duration": 31,
    "start_time": "2022-02-21T17:22:31.655Z"
   },
   {
    "duration": 11,
    "start_time": "2022-02-21T17:22:31.688Z"
   },
   {
    "duration": 34,
    "start_time": "2022-02-21T17:22:31.702Z"
   },
   {
    "duration": 36,
    "start_time": "2022-02-21T17:22:31.739Z"
   },
   {
    "duration": 21,
    "start_time": "2022-02-21T17:22:31.776Z"
   },
   {
    "duration": 21,
    "start_time": "2022-02-21T17:22:31.799Z"
   },
   {
    "duration": 47,
    "start_time": "2022-02-21T17:22:31.822Z"
   },
   {
    "duration": 8,
    "start_time": "2022-02-21T17:22:31.871Z"
   },
   {
    "duration": 80,
    "start_time": "2022-02-21T17:22:31.880Z"
   },
   {
    "duration": 7,
    "start_time": "2022-02-21T17:22:31.962Z"
   },
   {
    "duration": 19,
    "start_time": "2022-02-21T17:22:31.970Z"
   },
   {
    "duration": 14,
    "start_time": "2022-02-21T17:22:31.991Z"
   },
   {
    "duration": 26,
    "start_time": "2022-02-21T17:22:32.007Z"
   },
   {
    "duration": 47,
    "start_time": "2022-02-21T17:22:32.035Z"
   },
   {
    "duration": 16,
    "start_time": "2022-02-21T17:22:32.085Z"
   },
   {
    "duration": 8,
    "start_time": "2022-02-21T17:22:38.854Z"
   },
   {
    "duration": 182,
    "start_time": "2022-02-21T17:22:51.982Z"
   },
   {
    "duration": 198,
    "start_time": "2022-02-21T17:23:26.287Z"
   },
   {
    "duration": 194,
    "start_time": "2022-02-21T17:23:37.005Z"
   },
   {
    "duration": 245,
    "start_time": "2022-02-21T17:23:58.788Z"
   },
   {
    "duration": 226,
    "start_time": "2022-02-21T17:24:01.562Z"
   },
   {
    "duration": 223,
    "start_time": "2022-02-21T17:24:11.858Z"
   },
   {
    "duration": 281,
    "start_time": "2022-02-21T17:24:20.757Z"
   },
   {
    "duration": 231,
    "start_time": "2022-02-21T17:24:24.997Z"
   },
   {
    "duration": 211,
    "start_time": "2022-02-21T17:24:30.767Z"
   },
   {
    "duration": 224,
    "start_time": "2022-02-21T17:24:39.025Z"
   },
   {
    "duration": 208,
    "start_time": "2022-02-21T17:24:43.329Z"
   },
   {
    "duration": 251,
    "start_time": "2022-02-21T17:25:21.564Z"
   },
   {
    "duration": 10,
    "start_time": "2022-02-21T17:26:00.370Z"
   },
   {
    "duration": 8,
    "start_time": "2022-02-21T17:26:07.809Z"
   },
   {
    "duration": 30,
    "start_time": "2022-02-21T17:27:49.866Z"
   },
   {
    "duration": 27,
    "start_time": "2022-02-21T17:32:24.475Z"
   },
   {
    "duration": 909,
    "start_time": "2022-02-21T18:56:39.587Z"
   },
   {
    "duration": 426,
    "start_time": "2022-02-21T18:56:40.499Z"
   },
   {
    "duration": 38,
    "start_time": "2022-02-21T18:56:40.927Z"
   },
   {
    "duration": 14,
    "start_time": "2022-02-21T18:56:40.968Z"
   },
   {
    "duration": 43,
    "start_time": "2022-02-21T18:56:40.985Z"
   },
   {
    "duration": 16,
    "start_time": "2022-02-21T18:56:41.031Z"
   },
   {
    "duration": 61,
    "start_time": "2022-02-21T18:56:41.050Z"
   },
   {
    "duration": 7,
    "start_time": "2022-02-21T18:56:41.115Z"
   },
   {
    "duration": 23,
    "start_time": "2022-02-21T18:56:41.125Z"
   },
   {
    "duration": 24,
    "start_time": "2022-02-21T18:56:41.150Z"
   },
   {
    "duration": 42,
    "start_time": "2022-02-21T18:56:41.177Z"
   },
   {
    "duration": 19,
    "start_time": "2022-02-21T18:56:41.222Z"
   },
   {
    "duration": 69,
    "start_time": "2022-02-21T18:56:41.244Z"
   },
   {
    "duration": 13,
    "start_time": "2022-02-21T18:56:41.316Z"
   },
   {
    "duration": 28,
    "start_time": "2022-02-21T18:56:41.331Z"
   },
   {
    "duration": 65,
    "start_time": "2022-02-21T18:56:41.361Z"
   },
   {
    "duration": 31,
    "start_time": "2022-02-21T18:56:41.428Z"
   },
   {
    "duration": 58,
    "start_time": "2022-02-21T18:56:41.462Z"
   },
   {
    "duration": 35,
    "start_time": "2022-02-21T18:56:41.522Z"
   },
   {
    "duration": 9,
    "start_time": "2022-02-21T18:56:41.560Z"
   },
   {
    "duration": 116,
    "start_time": "2022-02-21T18:56:41.571Z"
   },
   {
    "duration": 20,
    "start_time": "2022-02-21T18:56:41.690Z"
   },
   {
    "duration": 13,
    "start_time": "2022-02-21T18:56:41.714Z"
   },
   {
    "duration": 16,
    "start_time": "2022-02-21T18:56:41.729Z"
   },
   {
    "duration": 38,
    "start_time": "2022-02-21T18:56:41.747Z"
   },
   {
    "duration": 63,
    "start_time": "2022-02-21T18:56:41.787Z"
   },
   {
    "duration": 16,
    "start_time": "2022-02-21T18:56:41.852Z"
   },
   {
    "duration": 100,
    "start_time": "2022-02-21T18:56:41.871Z"
   },
   {
    "duration": 61,
    "start_time": "2022-02-21T18:56:41.974Z"
   },
   {
    "duration": 35,
    "start_time": "2022-02-21T18:56:42.037Z"
   },
   {
    "duration": 63,
    "start_time": "2022-02-21T18:56:42.074Z"
   },
   {
    "duration": 43,
    "start_time": "2022-02-21T18:56:42.140Z"
   },
   {
    "duration": 433,
    "start_time": "2022-02-21T18:56:42.185Z"
   },
   {
    "duration": 3765,
    "start_time": "2022-02-21T18:56:38.856Z"
   },
   {
    "duration": 3762,
    "start_time": "2022-02-21T18:56:38.861Z"
   },
   {
    "duration": 884,
    "start_time": "2022-02-21T18:57:30.260Z"
   },
   {
    "duration": 120,
    "start_time": "2022-02-21T18:57:31.147Z"
   },
   {
    "duration": 39,
    "start_time": "2022-02-21T18:57:31.270Z"
   },
   {
    "duration": 14,
    "start_time": "2022-02-21T18:57:31.311Z"
   },
   {
    "duration": 27,
    "start_time": "2022-02-21T18:57:31.328Z"
   },
   {
    "duration": 28,
    "start_time": "2022-02-21T18:57:31.357Z"
   },
   {
    "duration": 57,
    "start_time": "2022-02-21T18:57:31.388Z"
   },
   {
    "duration": 7,
    "start_time": "2022-02-21T18:57:31.449Z"
   },
   {
    "duration": 24,
    "start_time": "2022-02-21T18:57:31.460Z"
   },
   {
    "duration": 22,
    "start_time": "2022-02-21T18:57:31.511Z"
   },
   {
    "duration": 18,
    "start_time": "2022-02-21T18:57:31.536Z"
   },
   {
    "duration": 55,
    "start_time": "2022-02-21T18:57:31.556Z"
   },
   {
    "duration": 46,
    "start_time": "2022-02-21T18:57:31.613Z"
   },
   {
    "duration": 14,
    "start_time": "2022-02-21T18:57:31.662Z"
   },
   {
    "duration": 59,
    "start_time": "2022-02-21T18:57:31.678Z"
   },
   {
    "duration": 36,
    "start_time": "2022-02-21T18:57:31.739Z"
   },
   {
    "duration": 57,
    "start_time": "2022-02-21T18:57:31.778Z"
   },
   {
    "duration": 35,
    "start_time": "2022-02-21T18:57:31.837Z"
   },
   {
    "duration": 63,
    "start_time": "2022-02-21T18:57:31.874Z"
   },
   {
    "duration": 8,
    "start_time": "2022-02-21T18:57:31.939Z"
   },
   {
    "duration": 112,
    "start_time": "2022-02-21T18:57:31.949Z"
   },
   {
    "duration": 8,
    "start_time": "2022-02-21T18:57:32.063Z"
   },
   {
    "duration": 34,
    "start_time": "2022-02-21T18:57:32.075Z"
   },
   {
    "duration": 13,
    "start_time": "2022-02-21T18:57:32.113Z"
   },
   {
    "duration": 37,
    "start_time": "2022-02-21T18:57:32.129Z"
   },
   {
    "duration": 117,
    "start_time": "2022-02-21T18:57:32.169Z"
   },
   {
    "duration": 80,
    "start_time": "2022-02-21T18:57:32.295Z"
   },
   {
    "duration": 96,
    "start_time": "2022-02-21T18:57:32.378Z"
   },
   {
    "duration": 75,
    "start_time": "2022-02-21T18:57:32.477Z"
   },
   {
    "duration": 49,
    "start_time": "2022-02-21T18:57:32.556Z"
   },
   {
    "duration": 118,
    "start_time": "2022-02-21T18:57:32.608Z"
   },
   {
    "duration": 111,
    "start_time": "2022-02-21T18:57:32.729Z"
   },
   {
    "duration": 477,
    "start_time": "2022-02-21T18:57:32.843Z"
   },
   {
    "duration": 367,
    "start_time": "2022-02-21T18:57:33.323Z"
   },
   {
    "duration": 64,
    "start_time": "2022-02-21T18:57:33.693Z"
   },
   {
    "duration": 57,
    "start_time": "2022-02-21T19:00:36.280Z"
   },
   {
    "duration": 884,
    "start_time": "2022-02-21T19:01:38.733Z"
   },
   {
    "duration": 117,
    "start_time": "2022-02-21T19:01:39.620Z"
   },
   {
    "duration": 37,
    "start_time": "2022-02-21T19:01:39.740Z"
   },
   {
    "duration": 14,
    "start_time": "2022-02-21T19:01:39.781Z"
   },
   {
    "duration": 32,
    "start_time": "2022-02-21T19:01:39.797Z"
   },
   {
    "duration": 18,
    "start_time": "2022-02-21T19:01:39.831Z"
   },
   {
    "duration": 65,
    "start_time": "2022-02-21T19:01:39.852Z"
   },
   {
    "duration": 7,
    "start_time": "2022-02-21T19:01:39.922Z"
   },
   {
    "duration": 27,
    "start_time": "2022-02-21T19:01:39.933Z"
   },
   {
    "duration": 59,
    "start_time": "2022-02-21T19:01:39.963Z"
   },
   {
    "duration": 17,
    "start_time": "2022-02-21T19:01:40.025Z"
   },
   {
    "duration": 22,
    "start_time": "2022-02-21T19:01:40.045Z"
   },
   {
    "duration": 80,
    "start_time": "2022-02-21T19:01:40.071Z"
   },
   {
    "duration": 46,
    "start_time": "2022-02-21T19:01:54.719Z"
   },
   {
    "duration": 17,
    "start_time": "2022-02-21T19:02:54.124Z"
   },
   {
    "duration": 7,
    "start_time": "2022-02-21T19:10:11.756Z"
   },
   {
    "duration": 7,
    "start_time": "2022-02-21T19:10:33.358Z"
   },
   {
    "duration": 110,
    "start_time": "2022-02-21T19:16:05.436Z"
   },
   {
    "duration": 108,
    "start_time": "2022-02-21T19:17:14.628Z"
   },
   {
    "duration": 113,
    "start_time": "2022-02-21T19:17:36.794Z"
   },
   {
    "duration": 429,
    "start_time": "2022-02-21T19:17:49.433Z"
   },
   {
    "duration": 9863,
    "start_time": "2022-02-21T19:18:30.169Z"
   },
   {
    "duration": 3335,
    "start_time": "2022-02-21T19:20:12.103Z"
   },
   {
    "duration": 5,
    "start_time": "2022-02-21T19:22:26.376Z"
   },
   {
    "duration": 4,
    "start_time": "2022-02-21T19:22:36.020Z"
   },
   {
    "duration": 6,
    "start_time": "2022-02-21T19:22:38.324Z"
   },
   {
    "duration": 33,
    "start_time": "2022-02-21T19:25:23.441Z"
   },
   {
    "duration": 2267,
    "start_time": "2022-02-21T19:25:55.055Z"
   },
   {
    "duration": 8520,
    "start_time": "2022-02-21T19:26:21.583Z"
   },
   {
    "duration": 94,
    "start_time": "2022-02-21T19:26:43.363Z"
   },
   {
    "duration": 65,
    "start_time": "2022-02-21T19:27:44.880Z"
   },
   {
    "duration": 66,
    "start_time": "2022-02-21T19:28:51.733Z"
   },
   {
    "duration": 94,
    "start_time": "2022-02-21T19:28:57.260Z"
   },
   {
    "duration": 520,
    "start_time": "2022-02-21T19:29:21.774Z"
   },
   {
    "duration": 64,
    "start_time": "2022-02-21T19:29:30.188Z"
   },
   {
    "duration": 98,
    "start_time": "2022-02-21T19:29:35.240Z"
   },
   {
    "duration": 85,
    "start_time": "2022-02-21T19:30:02.897Z"
   },
   {
    "duration": 86,
    "start_time": "2022-02-21T19:30:27.959Z"
   },
   {
    "duration": 9,
    "start_time": "2022-02-21T19:31:16.306Z"
   },
   {
    "duration": 89,
    "start_time": "2022-02-21T19:31:18.973Z"
   },
   {
    "duration": 10,
    "start_time": "2022-02-21T19:31:22.661Z"
   },
   {
    "duration": 13,
    "start_time": "2022-02-21T19:31:25.109Z"
   },
   {
    "duration": 11,
    "start_time": "2022-02-21T19:31:30.057Z"
   },
   {
    "duration": 38,
    "start_time": "2022-02-21T19:31:36.080Z"
   },
   {
    "duration": 42,
    "start_time": "2022-02-21T19:31:45.841Z"
   },
   {
    "duration": 4,
    "start_time": "2022-02-21T19:52:48.053Z"
   },
   {
    "duration": 121,
    "start_time": "2022-02-21T19:52:48.061Z"
   },
   {
    "duration": 51,
    "start_time": "2022-02-21T19:52:48.187Z"
   },
   {
    "duration": 19,
    "start_time": "2022-02-21T19:52:48.241Z"
   },
   {
    "duration": 52,
    "start_time": "2022-02-21T19:52:48.263Z"
   },
   {
    "duration": 20,
    "start_time": "2022-02-21T19:52:48.318Z"
   },
   {
    "duration": 39,
    "start_time": "2022-02-21T19:52:48.341Z"
   },
   {
    "duration": 31,
    "start_time": "2022-02-21T19:52:48.384Z"
   },
   {
    "duration": 23,
    "start_time": "2022-02-21T19:52:48.419Z"
   },
   {
    "duration": 22,
    "start_time": "2022-02-21T19:52:48.445Z"
   },
   {
    "duration": 58,
    "start_time": "2022-02-21T19:52:48.469Z"
   },
   {
    "duration": 22,
    "start_time": "2022-02-21T19:52:48.531Z"
   },
   {
    "duration": 84,
    "start_time": "2022-02-21T19:52:48.556Z"
   },
   {
    "duration": 17,
    "start_time": "2022-02-21T19:52:48.644Z"
   },
   {
    "duration": 452,
    "start_time": "2022-02-21T19:52:50.832Z"
   },
   {
    "duration": 844,
    "start_time": "2022-02-21T19:53:02.750Z"
   },
   {
    "duration": 119,
    "start_time": "2022-02-21T19:53:03.596Z"
   },
   {
    "duration": 38,
    "start_time": "2022-02-21T19:53:03.718Z"
   },
   {
    "duration": 13,
    "start_time": "2022-02-21T19:53:03.759Z"
   },
   {
    "duration": 53,
    "start_time": "2022-02-21T19:53:03.775Z"
   },
   {
    "duration": 16,
    "start_time": "2022-02-21T19:53:03.831Z"
   },
   {
    "duration": 37,
    "start_time": "2022-02-21T19:53:03.849Z"
   },
   {
    "duration": 27,
    "start_time": "2022-02-21T19:53:03.889Z"
   },
   {
    "duration": 25,
    "start_time": "2022-02-21T19:53:03.919Z"
   },
   {
    "duration": 22,
    "start_time": "2022-02-21T19:53:03.947Z"
   },
   {
    "duration": 48,
    "start_time": "2022-02-21T19:53:03.971Z"
   },
   {
    "duration": 23,
    "start_time": "2022-02-21T19:53:04.021Z"
   },
   {
    "duration": 67,
    "start_time": "2022-02-21T19:53:04.047Z"
   },
   {
    "duration": 16,
    "start_time": "2022-02-21T19:53:04.116Z"
   },
   {
    "duration": 514,
    "start_time": "2022-02-21T19:53:05.487Z"
   },
   {
    "duration": 86,
    "start_time": "2022-02-21T19:53:28.618Z"
   },
   {
    "duration": 866,
    "start_time": "2022-02-21T19:53:55.544Z"
   },
   {
    "duration": 122,
    "start_time": "2022-02-21T19:53:56.413Z"
   },
   {
    "duration": 47,
    "start_time": "2022-02-21T19:53:56.538Z"
   },
   {
    "duration": 15,
    "start_time": "2022-02-21T19:53:56.588Z"
   },
   {
    "duration": 28,
    "start_time": "2022-02-21T19:53:56.611Z"
   },
   {
    "duration": 19,
    "start_time": "2022-02-21T19:53:56.642Z"
   },
   {
    "duration": 68,
    "start_time": "2022-02-21T19:53:56.664Z"
   },
   {
    "duration": 7,
    "start_time": "2022-02-21T19:53:56.735Z"
   },
   {
    "duration": 29,
    "start_time": "2022-02-21T19:53:56.744Z"
   },
   {
    "duration": 43,
    "start_time": "2022-02-21T19:53:56.776Z"
   },
   {
    "duration": 16,
    "start_time": "2022-02-21T19:53:56.822Z"
   },
   {
    "duration": 22,
    "start_time": "2022-02-21T19:53:56.841Z"
   },
   {
    "duration": 79,
    "start_time": "2022-02-21T19:53:56.865Z"
   },
   {
    "duration": 16,
    "start_time": "2022-02-21T19:53:56.947Z"
   },
   {
    "duration": 87,
    "start_time": "2022-02-21T19:53:58.796Z"
   },
   {
    "duration": 447,
    "start_time": "2022-02-21T19:57:21.643Z"
   },
   {
    "duration": 875,
    "start_time": "2022-02-21T19:57:44.867Z"
   },
   {
    "duration": 117,
    "start_time": "2022-02-21T19:57:45.745Z"
   },
   {
    "duration": 38,
    "start_time": "2022-02-21T19:57:45.865Z"
   },
   {
    "duration": 14,
    "start_time": "2022-02-21T19:57:45.906Z"
   },
   {
    "duration": 22,
    "start_time": "2022-02-21T19:57:45.923Z"
   },
   {
    "duration": 17,
    "start_time": "2022-02-21T19:57:45.948Z"
   },
   {
    "duration": 66,
    "start_time": "2022-02-21T19:57:45.968Z"
   },
   {
    "duration": 8,
    "start_time": "2022-02-21T19:57:46.037Z"
   },
   {
    "duration": 21,
    "start_time": "2022-02-21T19:57:46.050Z"
   },
   {
    "duration": 55,
    "start_time": "2022-02-21T19:57:46.075Z"
   },
   {
    "duration": 14,
    "start_time": "2022-02-21T19:57:46.132Z"
   },
   {
    "duration": 20,
    "start_time": "2022-02-21T19:57:46.149Z"
   },
   {
    "duration": 76,
    "start_time": "2022-02-21T19:57:46.171Z"
   },
   {
    "duration": 15,
    "start_time": "2022-02-21T19:57:46.250Z"
   },
   {
    "duration": 89,
    "start_time": "2022-02-21T19:57:48.147Z"
   },
   {
    "duration": 17,
    "start_time": "2022-02-21T19:58:44.943Z"
   },
   {
    "duration": 895,
    "start_time": "2022-02-21T20:00:03.487Z"
   },
   {
    "duration": 120,
    "start_time": "2022-02-21T20:00:04.385Z"
   },
   {
    "duration": 40,
    "start_time": "2022-02-21T20:00:04.508Z"
   },
   {
    "duration": 15,
    "start_time": "2022-02-21T20:00:04.552Z"
   },
   {
    "duration": 59,
    "start_time": "2022-02-21T20:00:04.570Z"
   },
   {
    "duration": 17,
    "start_time": "2022-02-21T20:00:04.631Z"
   },
   {
    "duration": 60,
    "start_time": "2022-02-21T20:00:04.650Z"
   },
   {
    "duration": 8,
    "start_time": "2022-02-21T20:00:04.715Z"
   },
   {
    "duration": 22,
    "start_time": "2022-02-21T20:00:04.726Z"
   },
   {
    "duration": 61,
    "start_time": "2022-02-21T20:00:04.751Z"
   },
   {
    "duration": 17,
    "start_time": "2022-02-21T20:00:04.814Z"
   },
   {
    "duration": 23,
    "start_time": "2022-02-21T20:00:04.833Z"
   },
   {
    "duration": 80,
    "start_time": "2022-02-21T20:00:04.859Z"
   },
   {
    "duration": 18,
    "start_time": "2022-02-21T20:00:04.941Z"
   },
   {
    "duration": 99,
    "start_time": "2022-02-21T20:00:05.842Z"
   },
   {
    "duration": 102,
    "start_time": "2022-02-21T20:00:39.513Z"
   },
   {
    "duration": 78,
    "start_time": "2022-02-21T20:01:06.458Z"
   },
   {
    "duration": 75,
    "start_time": "2022-02-21T20:01:41.665Z"
   },
   {
    "duration": 10,
    "start_time": "2022-02-21T20:01:51.768Z"
   },
   {
    "duration": 117,
    "start_time": "2022-02-21T20:01:53.118Z"
   },
   {
    "duration": 10,
    "start_time": "2022-02-21T20:01:55.938Z"
   },
   {
    "duration": 14,
    "start_time": "2022-02-21T20:01:56.994Z"
   },
   {
    "duration": 10,
    "start_time": "2022-02-21T20:01:59.354Z"
   },
   {
    "duration": 51,
    "start_time": "2022-02-21T20:02:03.581Z"
   },
   {
    "duration": 44,
    "start_time": "2022-02-21T20:02:09.372Z"
   },
   {
    "duration": 20,
    "start_time": "2022-02-21T20:02:17.518Z"
   },
   {
    "duration": 54,
    "start_time": "2022-02-21T20:02:23.541Z"
   },
   {
    "duration": 48,
    "start_time": "2022-02-21T20:02:57.690Z"
   },
   {
    "duration": 45,
    "start_time": "2022-02-21T20:03:16.739Z"
   },
   {
    "duration": 56,
    "start_time": "2022-02-21T20:03:30.862Z"
   },
   {
    "duration": 29,
    "start_time": "2022-02-21T20:03:33.870Z"
   },
   {
    "duration": 43,
    "start_time": "2022-02-21T20:03:48.283Z"
   },
   {
    "duration": 35,
    "start_time": "2022-02-21T20:04:14.397Z"
   },
   {
    "duration": 419,
    "start_time": "2022-02-21T20:04:32.353Z"
   },
   {
    "duration": 1039,
    "start_time": "2022-02-21T20:08:33.164Z"
   },
   {
    "duration": 116,
    "start_time": "2022-02-21T20:08:34.210Z"
   },
   {
    "duration": 37,
    "start_time": "2022-02-21T20:08:34.329Z"
   },
   {
    "duration": 14,
    "start_time": "2022-02-21T20:08:34.369Z"
   },
   {
    "duration": 41,
    "start_time": "2022-02-21T20:08:34.385Z"
   },
   {
    "duration": 26,
    "start_time": "2022-02-21T20:08:34.429Z"
   },
   {
    "duration": 70,
    "start_time": "2022-02-21T20:08:34.459Z"
   },
   {
    "duration": 7,
    "start_time": "2022-02-21T20:08:34.532Z"
   },
   {
    "duration": 27,
    "start_time": "2022-02-21T20:08:34.542Z"
   },
   {
    "duration": 43,
    "start_time": "2022-02-21T20:08:34.572Z"
   },
   {
    "duration": 14,
    "start_time": "2022-02-21T20:08:34.618Z"
   },
   {
    "duration": 19,
    "start_time": "2022-02-21T20:08:34.634Z"
   },
   {
    "duration": 78,
    "start_time": "2022-02-21T20:08:34.656Z"
   },
   {
    "duration": 15,
    "start_time": "2022-02-21T20:08:34.737Z"
   },
   {
    "duration": 76,
    "start_time": "2022-02-21T20:08:36.417Z"
   },
   {
    "duration": 41,
    "start_time": "2022-02-21T20:08:43.980Z"
   },
   {
    "duration": 42,
    "start_time": "2022-02-21T20:08:55.092Z"
   },
   {
    "duration": 40,
    "start_time": "2022-02-21T20:09:13.340Z"
   },
   {
    "duration": 1076,
    "start_time": "2022-02-21T20:11:35.654Z"
   },
   {
    "duration": 17,
    "start_time": "2022-02-21T20:12:17.789Z"
   },
   {
    "duration": 78,
    "start_time": "2022-02-21T20:12:34.026Z"
   },
   {
    "duration": 42,
    "start_time": "2022-02-21T20:12:37.569Z"
   },
   {
    "duration": 18,
    "start_time": "2022-02-21T20:13:32.011Z"
   },
   {
    "duration": 326,
    "start_time": "2022-02-21T20:14:03.379Z"
   },
   {
    "duration": 14,
    "start_time": "2022-02-21T20:14:11.084Z"
   },
   {
    "duration": 18,
    "start_time": "2022-02-21T20:14:37.434Z"
   },
   {
    "duration": 4,
    "start_time": "2022-02-21T20:15:31.404Z"
   },
   {
    "duration": 28,
    "start_time": "2022-02-21T20:15:51.540Z"
   },
   {
    "duration": 26,
    "start_time": "2022-02-21T20:16:08.159Z"
   },
   {
    "duration": 26,
    "start_time": "2022-02-21T20:16:15.213Z"
   },
   {
    "duration": 24,
    "start_time": "2022-02-21T20:16:29.881Z"
   },
   {
    "duration": 39,
    "start_time": "2022-02-21T20:16:37.940Z"
   },
   {
    "duration": 50,
    "start_time": "2022-02-21T20:16:41.354Z"
   },
   {
    "duration": 45,
    "start_time": "2022-02-21T20:17:38.959Z"
   },
   {
    "duration": 423,
    "start_time": "2022-02-21T20:18:20.000Z"
   },
   {
    "duration": 355,
    "start_time": "2022-02-21T20:18:28.075Z"
   },
   {
    "duration": 6,
    "start_time": "2022-02-21T20:18:51.283Z"
   },
   {
    "duration": 6,
    "start_time": "2022-02-21T20:18:57.754Z"
   },
   {
    "duration": 6,
    "start_time": "2022-02-21T20:19:01.601Z"
   },
   {
    "duration": 6,
    "start_time": "2022-02-21T20:19:06.089Z"
   },
   {
    "duration": 6,
    "start_time": "2022-02-21T20:19:10.449Z"
   },
   {
    "duration": 8,
    "start_time": "2022-02-21T20:19:14.621Z"
   },
   {
    "duration": 44,
    "start_time": "2022-02-21T20:19:44.464Z"
   },
   {
    "duration": 44,
    "start_time": "2022-02-21T20:23:31.061Z"
   },
   {
    "duration": 1132,
    "start_time": "2022-02-21T20:23:52.910Z"
   },
   {
    "duration": 46,
    "start_time": "2022-02-21T20:24:03.516Z"
   },
   {
    "duration": 55,
    "start_time": "2022-02-21T20:24:35.583Z"
   },
   {
    "duration": 21,
    "start_time": "2022-02-21T20:25:01.683Z"
   },
   {
    "duration": 563,
    "start_time": "2022-02-21T20:25:16.494Z"
   },
   {
    "duration": 16,
    "start_time": "2022-02-21T20:25:33.999Z"
   },
   {
    "duration": 15,
    "start_time": "2022-02-21T20:26:13.072Z"
   },
   {
    "duration": 4,
    "start_time": "2022-02-21T20:42:21.634Z"
   },
   {
    "duration": 1028,
    "start_time": "2022-02-21T20:42:27.329Z"
   },
   {
    "duration": 131,
    "start_time": "2022-02-21T20:42:28.968Z"
   },
   {
    "duration": 38,
    "start_time": "2022-02-21T20:42:31.638Z"
   },
   {
    "duration": 15,
    "start_time": "2022-02-21T20:42:37.368Z"
   },
   {
    "duration": 23,
    "start_time": "2022-02-21T20:42:41.870Z"
   },
   {
    "duration": 19,
    "start_time": "2022-02-21T20:42:44.741Z"
   },
   {
    "duration": 39,
    "start_time": "2022-02-21T20:42:46.887Z"
   },
   {
    "duration": 9,
    "start_time": "2022-02-21T20:42:50.178Z"
   },
   {
    "duration": 24,
    "start_time": "2022-02-21T20:42:52.880Z"
   },
   {
    "duration": 23,
    "start_time": "2022-02-21T20:42:55.281Z"
   },
   {
    "duration": 14,
    "start_time": "2022-02-21T20:42:59.832Z"
   },
   {
    "duration": 21,
    "start_time": "2022-02-21T20:43:02.263Z"
   },
   {
    "duration": 45,
    "start_time": "2022-02-21T20:43:08.415Z"
   },
   {
    "duration": 15,
    "start_time": "2022-02-21T20:43:36.602Z"
   },
   {
    "duration": 15,
    "start_time": "2022-02-21T20:43:46.529Z"
   },
   {
    "duration": 13,
    "start_time": "2022-02-21T20:43:52.380Z"
   },
   {
    "duration": 15,
    "start_time": "2022-02-21T20:43:56.153Z"
   },
   {
    "duration": 263,
    "start_time": "2022-02-21T20:44:31.738Z"
   },
   {
    "duration": 42,
    "start_time": "2022-02-21T20:44:39.813Z"
   },
   {
    "duration": 28,
    "start_time": "2022-02-21T20:45:13.518Z"
   },
   {
    "duration": 28,
    "start_time": "2022-02-21T20:45:34.121Z"
   },
   {
    "duration": 18,
    "start_time": "2022-02-21T20:46:28.652Z"
   },
   {
    "duration": 40,
    "start_time": "2022-02-21T20:47:48.898Z"
   },
   {
    "duration": 18,
    "start_time": "2022-02-21T20:48:20.140Z"
   },
   {
    "duration": 28,
    "start_time": "2022-02-21T20:48:27.335Z"
   },
   {
    "duration": 18,
    "start_time": "2022-02-21T20:49:21.622Z"
   },
   {
    "duration": 24,
    "start_time": "2022-02-21T20:49:25.758Z"
   },
   {
    "duration": 9,
    "start_time": "2022-02-21T20:49:38.280Z"
   },
   {
    "duration": 150,
    "start_time": "2022-02-21T20:49:47.944Z"
   },
   {
    "duration": 9,
    "start_time": "2022-02-21T20:50:00.164Z"
   },
   {
    "duration": 13,
    "start_time": "2022-02-21T20:50:11.243Z"
   },
   {
    "duration": 11,
    "start_time": "2022-02-21T20:50:19.904Z"
   },
   {
    "duration": 42,
    "start_time": "2022-02-21T20:50:24.277Z"
   },
   {
    "duration": 43,
    "start_time": "2022-02-21T20:50:30.532Z"
   },
   {
    "duration": 17,
    "start_time": "2022-02-21T20:50:36.072Z"
   },
   {
    "duration": 47,
    "start_time": "2022-02-21T20:50:57.715Z"
   },
   {
    "duration": 44,
    "start_time": "2022-02-21T20:51:13.015Z"
   },
   {
    "duration": 862,
    "start_time": "2022-02-21T20:53:38.242Z"
   },
   {
    "duration": 864,
    "start_time": "2022-02-21T20:54:03.436Z"
   },
   {
    "duration": 896,
    "start_time": "2022-02-21T20:54:13.741Z"
   },
   {
    "duration": 42,
    "start_time": "2022-02-21T20:54:52.892Z"
   },
   {
    "duration": 284,
    "start_time": "2022-02-21T20:55:04.389Z"
   },
   {
    "duration": 35392,
    "start_time": "2022-02-21T20:55:10.834Z"
   },
   {
    "duration": 42,
    "start_time": "2022-02-21T20:56:12.602Z"
   },
   {
    "duration": 30,
    "start_time": "2022-02-21T20:57:17.914Z"
   },
   {
    "duration": 29,
    "start_time": "2022-02-21T20:57:58.597Z"
   },
   {
    "duration": 449,
    "start_time": "2022-02-21T20:58:07.848Z"
   },
   {
    "duration": 36,
    "start_time": "2022-02-21T20:58:10.587Z"
   },
   {
    "duration": 40,
    "start_time": "2022-02-21T20:58:28.102Z"
   },
   {
    "duration": 350,
    "start_time": "2022-02-21T20:59:40.405Z"
   },
   {
    "duration": 41,
    "start_time": "2022-02-21T20:59:47.037Z"
   },
   {
    "duration": 45,
    "start_time": "2022-02-21T20:59:58.563Z"
   },
   {
    "duration": 427,
    "start_time": "2022-02-21T21:02:06.866Z"
   },
   {
    "duration": 44,
    "start_time": "2022-02-21T21:02:19.495Z"
   },
   {
    "duration": 361,
    "start_time": "2022-02-21T21:03:42.954Z"
   },
   {
    "duration": 9848,
    "start_time": "2022-02-21T21:04:29.594Z"
   },
   {
    "duration": 387,
    "start_time": "2022-02-21T21:05:51.893Z"
   },
   {
    "duration": 43,
    "start_time": "2022-02-21T21:06:10.149Z"
   },
   {
    "duration": 27,
    "start_time": "2022-02-21T21:06:44.670Z"
   },
   {
    "duration": 63,
    "start_time": "2022-02-21T21:06:48.583Z"
   },
   {
    "duration": 46,
    "start_time": "2022-02-21T21:06:53.359Z"
   },
   {
    "duration": 437,
    "start_time": "2022-02-21T21:07:01.236Z"
   },
   {
    "duration": 659,
    "start_time": "2022-02-21T21:07:11.401Z"
   },
   {
    "duration": 555,
    "start_time": "2022-02-21T21:07:22.698Z"
   },
   {
    "duration": 318,
    "start_time": "2022-02-21T21:08:06.563Z"
   },
   {
    "duration": 318,
    "start_time": "2022-02-21T21:08:27.315Z"
   },
   {
    "duration": 565,
    "start_time": "2022-02-21T21:09:00.191Z"
   },
   {
    "duration": 353,
    "start_time": "2022-02-21T21:09:08.900Z"
   },
   {
    "duration": 376,
    "start_time": "2022-02-21T21:09:22.737Z"
   },
   {
    "duration": 340,
    "start_time": "2022-02-21T21:09:28.777Z"
   },
   {
    "duration": 552,
    "start_time": "2022-02-21T21:09:38.127Z"
   },
   {
    "duration": 45,
    "start_time": "2022-02-21T21:10:31.645Z"
   },
   {
    "duration": 554,
    "start_time": "2022-02-21T21:12:03.528Z"
   },
   {
    "duration": 31,
    "start_time": "2022-02-21T21:12:21.296Z"
   },
   {
    "duration": 857,
    "start_time": "2022-02-21T21:15:53.660Z"
   },
   {
    "duration": 335,
    "start_time": "2022-02-21T21:16:21.858Z"
   },
   {
    "duration": 533,
    "start_time": "2022-02-21T21:16:32.963Z"
   },
   {
    "duration": 513,
    "start_time": "2022-02-22T16:42:18.934Z"
   },
   {
    "duration": 618,
    "start_time": "2022-02-22T16:42:26.627Z"
   },
   {
    "duration": 128,
    "start_time": "2022-02-22T16:42:27.246Z"
   },
   {
    "duration": 21,
    "start_time": "2022-02-22T16:42:27.376Z"
   },
   {
    "duration": 10,
    "start_time": "2022-02-22T16:42:27.399Z"
   },
   {
    "duration": 15,
    "start_time": "2022-02-22T16:42:27.410Z"
   },
   {
    "duration": 12,
    "start_time": "2022-02-22T16:42:27.426Z"
   },
   {
    "duration": 19,
    "start_time": "2022-02-22T16:42:27.440Z"
   },
   {
    "duration": 4,
    "start_time": "2022-02-22T16:42:27.462Z"
   },
   {
    "duration": 11,
    "start_time": "2022-02-22T16:42:27.467Z"
   },
   {
    "duration": 11,
    "start_time": "2022-02-22T16:42:27.480Z"
   },
   {
    "duration": 8,
    "start_time": "2022-02-22T16:42:27.492Z"
   },
   {
    "duration": 11,
    "start_time": "2022-02-22T16:42:27.502Z"
   },
   {
    "duration": 51,
    "start_time": "2022-02-22T16:42:27.514Z"
   },
   {
    "duration": 10,
    "start_time": "2022-02-22T16:42:31.437Z"
   },
   {
    "duration": 8,
    "start_time": "2022-02-22T16:42:35.696Z"
   },
   {
    "duration": 8,
    "start_time": "2022-02-22T16:42:42.553Z"
   },
   {
    "duration": 9,
    "start_time": "2022-02-22T16:42:57.124Z"
   },
   {
    "duration": 8,
    "start_time": "2022-02-22T16:43:03.009Z"
   },
   {
    "duration": 9,
    "start_time": "2022-02-22T16:43:06.141Z"
   },
   {
    "duration": 9,
    "start_time": "2022-02-22T16:43:18.010Z"
   },
   {
    "duration": 12,
    "start_time": "2022-02-22T16:43:37.520Z"
   },
   {
    "duration": 315,
    "start_time": "2022-02-22T16:43:59.069Z"
   },
   {
    "duration": 12,
    "start_time": "2022-02-22T16:44:01.959Z"
   },
   {
    "duration": 12,
    "start_time": "2022-02-22T16:44:09.460Z"
   },
   {
    "duration": 12,
    "start_time": "2022-02-22T16:44:15.467Z"
   },
   {
    "duration": 95,
    "start_time": "2022-02-22T16:44:22.289Z"
   },
   {
    "duration": 16,
    "start_time": "2022-02-22T16:44:24.617Z"
   },
   {
    "duration": 281,
    "start_time": "2022-02-22T16:45:49.162Z"
   },
   {
    "duration": 13,
    "start_time": "2022-02-22T16:46:01.158Z"
   },
   {
    "duration": 13,
    "start_time": "2022-02-22T16:46:22.246Z"
   },
   {
    "duration": 8,
    "start_time": "2022-02-22T16:48:53.952Z"
   },
   {
    "duration": 17,
    "start_time": "2022-02-22T16:50:46.627Z"
   },
   {
    "duration": 589,
    "start_time": "2022-02-22T16:51:16.186Z"
   },
   {
    "duration": 119,
    "start_time": "2022-02-22T16:51:16.777Z"
   },
   {
    "duration": 21,
    "start_time": "2022-02-22T16:51:16.898Z"
   },
   {
    "duration": 7,
    "start_time": "2022-02-22T16:51:16.921Z"
   },
   {
    "duration": 15,
    "start_time": "2022-02-22T16:51:16.929Z"
   },
   {
    "duration": 10,
    "start_time": "2022-02-22T16:51:16.946Z"
   },
   {
    "duration": 20,
    "start_time": "2022-02-22T16:51:16.957Z"
   },
   {
    "duration": 4,
    "start_time": "2022-02-22T16:51:16.978Z"
   },
   {
    "duration": 10,
    "start_time": "2022-02-22T16:51:16.984Z"
   },
   {
    "duration": 12,
    "start_time": "2022-02-22T16:51:16.996Z"
   },
   {
    "duration": 37,
    "start_time": "2022-02-22T16:51:17.009Z"
   },
   {
    "duration": 12,
    "start_time": "2022-02-22T16:51:17.047Z"
   },
   {
    "duration": 24,
    "start_time": "2022-02-22T16:51:17.061Z"
   },
   {
    "duration": 8,
    "start_time": "2022-02-22T16:51:17.087Z"
   },
   {
    "duration": 17,
    "start_time": "2022-02-22T16:51:17.096Z"
   },
   {
    "duration": 33,
    "start_time": "2022-02-22T16:51:17.114Z"
   },
   {
    "duration": 17,
    "start_time": "2022-02-22T16:51:17.148Z"
   },
   {
    "duration": 10,
    "start_time": "2022-02-22T16:51:17.166Z"
   },
   {
    "duration": 5,
    "start_time": "2022-02-22T16:51:17.177Z"
   },
   {
    "duration": 77,
    "start_time": "2022-02-22T16:51:17.183Z"
   },
   {
    "duration": 5,
    "start_time": "2022-02-22T16:51:17.262Z"
   },
   {
    "duration": 11,
    "start_time": "2022-02-22T16:51:17.268Z"
   },
   {
    "duration": 16,
    "start_time": "2022-02-22T16:51:17.280Z"
   },
   {
    "duration": 26,
    "start_time": "2022-02-22T16:51:17.297Z"
   },
   {
    "duration": 24,
    "start_time": "2022-02-22T16:51:17.325Z"
   },
   {
    "duration": 11,
    "start_time": "2022-02-22T16:51:17.351Z"
   },
   {
    "duration": 30,
    "start_time": "2022-02-22T16:51:17.364Z"
   },
   {
    "duration": 21,
    "start_time": "2022-02-22T16:51:17.396Z"
   },
   {
    "duration": 37,
    "start_time": "2022-02-22T16:51:17.418Z"
   },
   {
    "duration": 14,
    "start_time": "2022-02-22T16:51:17.456Z"
   },
   {
    "duration": 20,
    "start_time": "2022-02-22T16:51:17.471Z"
   },
   {
    "duration": 31,
    "start_time": "2022-02-22T16:51:17.492Z"
   },
   {
    "duration": 245,
    "start_time": "2022-02-22T16:51:17.524Z"
   },
   {
    "duration": 201,
    "start_time": "2022-02-22T16:51:17.770Z"
   },
   {
    "duration": 209,
    "start_time": "2022-02-22T16:51:17.972Z"
   },
   {
    "duration": 19,
    "start_time": "2022-02-22T16:51:18.183Z"
   },
   {
    "duration": 243,
    "start_time": "2022-02-22T16:51:18.203Z"
   },
   {
    "duration": 4,
    "start_time": "2022-02-22T16:53:10.880Z"
   },
   {
    "duration": 5,
    "start_time": "2022-02-22T16:53:23.361Z"
   },
   {
    "duration": 91,
    "start_time": "2022-02-22T16:53:39.519Z"
   },
   {
    "duration": 3,
    "start_time": "2022-02-22T16:53:44.685Z"
   },
   {
    "duration": 11,
    "start_time": "2022-02-22T16:54:37.853Z"
   },
   {
    "duration": 554,
    "start_time": "2022-02-22T16:55:41.030Z"
   },
   {
    "duration": 12,
    "start_time": "2022-02-22T16:56:10.994Z"
   },
   {
    "duration": 11,
    "start_time": "2022-02-22T16:56:55.758Z"
   },
   {
    "duration": 8,
    "start_time": "2022-02-22T16:57:12.022Z"
   },
   {
    "duration": 11,
    "start_time": "2022-02-22T16:57:16.028Z"
   },
   {
    "duration": 479,
    "start_time": "2022-02-22T16:57:26.852Z"
   },
   {
    "duration": 61,
    "start_time": "2022-02-22T16:57:49.178Z"
   },
   {
    "duration": 43,
    "start_time": "2022-02-22T16:58:59.071Z"
   },
   {
    "duration": 2161,
    "start_time": "2022-02-22T17:03:01.767Z"
   },
   {
    "duration": 324,
    "start_time": "2022-02-22T17:03:59.054Z"
   },
   {
    "duration": 43,
    "start_time": "2022-02-22T17:04:07.533Z"
   },
   {
    "duration": 48,
    "start_time": "2022-02-22T17:05:40.269Z"
   },
   {
    "duration": 262,
    "start_time": "2022-02-22T17:05:51.245Z"
   },
   {
    "duration": 277,
    "start_time": "2022-02-22T17:06:58.584Z"
   },
   {
    "duration": 210,
    "start_time": "2022-02-22T17:08:21.357Z"
   },
   {
    "duration": 1725,
    "start_time": "2022-02-22T17:24:49.231Z"
   },
   {
    "duration": 1204,
    "start_time": "2022-02-22T17:25:14.714Z"
   },
   {
    "duration": 1310,
    "start_time": "2022-02-22T17:25:50.783Z"
   },
   {
    "duration": 1147,
    "start_time": "2022-02-22T17:26:02.783Z"
   },
   {
    "duration": 19,
    "start_time": "2022-02-22T17:26:20.933Z"
   },
   {
    "duration": 302,
    "start_time": "2022-02-22T17:26:30.564Z"
   },
   {
    "duration": 480,
    "start_time": "2022-02-22T17:26:48.117Z"
   },
   {
    "duration": 298,
    "start_time": "2022-02-22T17:27:00.160Z"
   },
   {
    "duration": 18,
    "start_time": "2022-02-22T17:27:27.590Z"
   },
   {
    "duration": 652,
    "start_time": "2022-02-23T14:29:48.907Z"
   },
   {
    "duration": 370,
    "start_time": "2022-02-23T14:29:49.560Z"
   },
   {
    "duration": 22,
    "start_time": "2022-02-23T14:29:49.932Z"
   },
   {
    "duration": 8,
    "start_time": "2022-02-23T14:29:49.955Z"
   },
   {
    "duration": 15,
    "start_time": "2022-02-23T14:29:49.965Z"
   },
   {
    "duration": 10,
    "start_time": "2022-02-23T14:29:49.981Z"
   },
   {
    "duration": 20,
    "start_time": "2022-02-23T14:29:49.992Z"
   },
   {
    "duration": 33,
    "start_time": "2022-02-23T14:29:50.013Z"
   },
   {
    "duration": 19,
    "start_time": "2022-02-23T14:30:08.090Z"
   },
   {
    "duration": 14,
    "start_time": "2022-02-23T14:30:44.091Z"
   },
   {
    "duration": 14,
    "start_time": "2022-02-23T14:31:00.200Z"
   },
   {
    "duration": 10,
    "start_time": "2022-02-23T14:31:23.275Z"
   },
   {
    "duration": 343,
    "start_time": "2022-02-23T14:32:10.022Z"
   },
   {
    "duration": 276,
    "start_time": "2022-02-23T14:32:45.614Z"
   },
   {
    "duration": 288,
    "start_time": "2022-02-23T14:32:52.116Z"
   },
   {
    "duration": 90,
    "start_time": "2022-02-23T14:33:17.414Z"
   },
   {
    "duration": 295,
    "start_time": "2022-02-23T14:33:21.375Z"
   },
   {
    "duration": 4,
    "start_time": "2022-02-23T14:37:21.628Z"
   },
   {
    "duration": 4,
    "start_time": "2022-02-23T14:37:27.740Z"
   },
   {
    "duration": 1309,
    "start_time": "2022-02-23T14:38:05.146Z"
   },
   {
    "duration": 1433,
    "start_time": "2022-02-23T14:38:35.809Z"
   },
   {
    "duration": 259,
    "start_time": "2022-02-23T14:39:14.014Z"
   },
   {
    "duration": 3,
    "start_time": "2022-02-23T14:39:21.692Z"
   },
   {
    "duration": 3,
    "start_time": "2022-02-23T14:39:28.076Z"
   },
   {
    "duration": 6,
    "start_time": "2022-02-23T14:39:46.593Z"
   },
   {
    "duration": 4,
    "start_time": "2022-02-23T14:39:51.740Z"
   },
   {
    "duration": 340,
    "start_time": "2022-02-23T14:41:56.853Z"
   },
   {
    "duration": 8,
    "start_time": "2022-02-23T14:42:04.152Z"
   },
   {
    "duration": 313,
    "start_time": "2022-02-23T14:42:19.028Z"
   },
   {
    "duration": 279,
    "start_time": "2022-02-23T14:43:02.962Z"
   },
   {
    "duration": 8,
    "start_time": "2022-02-23T14:43:15.846Z"
   },
   {
    "duration": 28,
    "start_time": "2022-02-23T14:44:08.252Z"
   },
   {
    "duration": 28,
    "start_time": "2022-02-23T14:51:34.517Z"
   },
   {
    "duration": 87,
    "start_time": "2022-02-23T14:58:06.180Z"
   },
   {
    "duration": 16,
    "start_time": "2022-02-23T14:58:26.626Z"
   },
   {
    "duration": 14,
    "start_time": "2022-02-23T15:05:18.384Z"
   },
   {
    "duration": 14,
    "start_time": "2022-02-23T15:05:23.016Z"
   },
   {
    "duration": 9,
    "start_time": "2022-02-23T15:39:54.421Z"
   },
   {
    "duration": 9,
    "start_time": "2022-02-23T15:40:18.574Z"
   },
   {
    "duration": 8,
    "start_time": "2022-02-23T15:40:28.935Z"
   },
   {
    "duration": 5,
    "start_time": "2022-02-23T15:40:45.593Z"
   },
   {
    "duration": 621,
    "start_time": "2022-02-23T15:58:37.387Z"
   },
   {
    "duration": 399,
    "start_time": "2022-02-23T15:58:38.010Z"
   },
   {
    "duration": 25,
    "start_time": "2022-02-23T15:58:38.411Z"
   },
   {
    "duration": 9,
    "start_time": "2022-02-23T15:58:38.437Z"
   },
   {
    "duration": 16,
    "start_time": "2022-02-23T15:58:38.447Z"
   },
   {
    "duration": 11,
    "start_time": "2022-02-23T15:58:38.465Z"
   },
   {
    "duration": 22,
    "start_time": "2022-02-23T15:58:38.478Z"
   },
   {
    "duration": 4,
    "start_time": "2022-02-23T15:58:38.503Z"
   },
   {
    "duration": 54,
    "start_time": "2022-02-23T15:58:38.509Z"
   },
   {
    "duration": 17,
    "start_time": "2022-02-23T15:58:38.565Z"
   },
   {
    "duration": 9,
    "start_time": "2022-02-23T15:58:38.583Z"
   },
   {
    "duration": 12,
    "start_time": "2022-02-23T15:58:38.594Z"
   },
   {
    "duration": 54,
    "start_time": "2022-02-23T15:58:38.608Z"
   },
   {
    "duration": 8,
    "start_time": "2022-02-23T15:58:38.664Z"
   },
   {
    "duration": 11,
    "start_time": "2022-02-23T15:58:38.673Z"
   },
   {
    "duration": 19,
    "start_time": "2022-02-23T15:58:38.685Z"
   },
   {
    "duration": 9,
    "start_time": "2022-02-23T15:58:38.706Z"
   },
   {
    "duration": 30,
    "start_time": "2022-02-23T15:58:38.716Z"
   },
   {
    "duration": 5,
    "start_time": "2022-02-23T15:58:38.747Z"
   },
   {
    "duration": 58,
    "start_time": "2022-02-23T15:58:38.754Z"
   },
   {
    "duration": 6,
    "start_time": "2022-02-23T15:58:38.813Z"
   },
   {
    "duration": 30,
    "start_time": "2022-02-23T15:58:38.821Z"
   },
   {
    "duration": 7,
    "start_time": "2022-02-23T15:58:38.853Z"
   },
   {
    "duration": 21,
    "start_time": "2022-02-23T15:58:38.862Z"
   },
   {
    "duration": 24,
    "start_time": "2022-02-23T15:58:38.884Z"
   },
   {
    "duration": 27,
    "start_time": "2022-02-23T15:58:41.597Z"
   },
   {
    "duration": 21,
    "start_time": "2022-02-23T16:03:04.041Z"
   },
   {
    "duration": 34,
    "start_time": "2022-02-23T16:09:32.029Z"
   },
   {
    "duration": 22,
    "start_time": "2022-02-23T16:13:32.338Z"
   },
   {
    "duration": 184,
    "start_time": "2022-02-23T16:15:45.358Z"
   },
   {
    "duration": 150,
    "start_time": "2022-02-23T16:16:07.121Z"
   },
   {
    "duration": 525,
    "start_time": "2022-02-23T16:16:47.985Z"
   },
   {
    "duration": 176,
    "start_time": "2022-02-23T16:17:02.127Z"
   },
   {
    "duration": 178,
    "start_time": "2022-02-23T16:17:37.300Z"
   },
   {
    "duration": 181,
    "start_time": "2022-02-23T16:17:53.415Z"
   },
   {
    "duration": 24,
    "start_time": "2022-02-23T16:19:14.087Z"
   },
   {
    "duration": 22,
    "start_time": "2022-02-23T16:20:49.935Z"
   },
   {
    "duration": 22,
    "start_time": "2022-02-23T16:29:32.293Z"
   },
   {
    "duration": 646,
    "start_time": "2022-02-23T16:29:58.614Z"
   },
   {
    "duration": 1029,
    "start_time": "2022-02-23T16:29:59.262Z"
   },
   {
    "duration": 26,
    "start_time": "2022-02-23T16:30:00.293Z"
   },
   {
    "duration": 9,
    "start_time": "2022-02-23T16:30:00.321Z"
   },
   {
    "duration": 16,
    "start_time": "2022-02-23T16:30:00.331Z"
   },
   {
    "duration": 11,
    "start_time": "2022-02-23T16:30:00.349Z"
   },
   {
    "duration": 21,
    "start_time": "2022-02-23T16:30:00.362Z"
   },
   {
    "duration": 4,
    "start_time": "2022-02-23T16:30:00.385Z"
   },
   {
    "duration": 33,
    "start_time": "2022-02-23T16:30:00.392Z"
   },
   {
    "duration": 32,
    "start_time": "2022-02-23T16:30:00.427Z"
   },
   {
    "duration": 34,
    "start_time": "2022-02-23T16:30:00.461Z"
   },
   {
    "duration": 16,
    "start_time": "2022-02-23T16:30:00.497Z"
   },
   {
    "duration": 40,
    "start_time": "2022-02-23T16:30:00.515Z"
   },
   {
    "duration": 12,
    "start_time": "2022-02-23T16:30:00.557Z"
   },
   {
    "duration": 20,
    "start_time": "2022-02-23T16:30:00.571Z"
   },
   {
    "duration": 34,
    "start_time": "2022-02-23T16:30:00.593Z"
   },
   {
    "duration": 21,
    "start_time": "2022-02-23T16:30:00.629Z"
   },
   {
    "duration": 10,
    "start_time": "2022-02-23T16:30:00.652Z"
   },
   {
    "duration": 9,
    "start_time": "2022-02-23T16:30:00.664Z"
   },
   {
    "duration": 90,
    "start_time": "2022-02-23T16:30:00.674Z"
   },
   {
    "duration": 8,
    "start_time": "2022-02-23T16:30:00.766Z"
   },
   {
    "duration": 20,
    "start_time": "2022-02-23T16:30:00.776Z"
   },
   {
    "duration": 10,
    "start_time": "2022-02-23T16:30:00.798Z"
   },
   {
    "duration": 40,
    "start_time": "2022-02-23T16:30:00.810Z"
   },
   {
    "duration": 36,
    "start_time": "2022-02-23T16:30:00.852Z"
   },
   {
    "duration": 29,
    "start_time": "2022-02-23T16:30:00.890Z"
   },
   {
    "duration": 52,
    "start_time": "2022-02-23T16:30:00.924Z"
   },
   {
    "duration": 40,
    "start_time": "2022-02-23T16:30:00.978Z"
   },
   {
    "duration": 57,
    "start_time": "2022-02-23T16:30:01.020Z"
   },
   {
    "duration": 27,
    "start_time": "2022-02-23T16:30:01.078Z"
   },
   {
    "duration": 580,
    "start_time": "2022-02-23T16:34:49.190Z"
   },
   {
    "duration": 107,
    "start_time": "2022-02-23T16:34:49.772Z"
   },
   {
    "duration": 23,
    "start_time": "2022-02-23T16:34:49.881Z"
   },
   {
    "duration": 9,
    "start_time": "2022-02-23T16:34:49.905Z"
   },
   {
    "duration": 16,
    "start_time": "2022-02-23T16:34:49.915Z"
   },
   {
    "duration": 10,
    "start_time": "2022-02-23T16:34:49.933Z"
   },
   {
    "duration": 20,
    "start_time": "2022-02-23T16:34:49.944Z"
   },
   {
    "duration": 5,
    "start_time": "2022-02-23T16:34:49.966Z"
   },
   {
    "duration": 33,
    "start_time": "2022-02-23T16:34:49.972Z"
   },
   {
    "duration": 15,
    "start_time": "2022-02-23T16:34:50.007Z"
   },
   {
    "duration": 29,
    "start_time": "2022-02-23T16:34:50.023Z"
   },
   {
    "duration": 13,
    "start_time": "2022-02-23T16:34:50.054Z"
   },
   {
    "duration": 29,
    "start_time": "2022-02-23T16:34:50.069Z"
   },
   {
    "duration": 9,
    "start_time": "2022-02-23T16:34:50.100Z"
   },
   {
    "duration": 15,
    "start_time": "2022-02-23T16:34:50.111Z"
   },
   {
    "duration": 31,
    "start_time": "2022-02-23T16:34:50.127Z"
   },
   {
    "duration": 11,
    "start_time": "2022-02-23T16:34:50.159Z"
   },
   {
    "duration": 8,
    "start_time": "2022-02-23T16:34:50.171Z"
   },
   {
    "duration": 5,
    "start_time": "2022-02-23T16:34:50.181Z"
   },
   {
    "duration": 84,
    "start_time": "2022-02-23T16:34:50.188Z"
   },
   {
    "duration": 5,
    "start_time": "2022-02-23T16:34:50.274Z"
   },
   {
    "duration": 10,
    "start_time": "2022-02-23T16:34:50.280Z"
   },
   {
    "duration": 7,
    "start_time": "2022-02-23T16:34:50.293Z"
   },
   {
    "duration": 21,
    "start_time": "2022-02-23T16:34:50.301Z"
   },
   {
    "duration": 42,
    "start_time": "2022-02-23T16:34:50.323Z"
   },
   {
    "duration": 27,
    "start_time": "2022-02-23T16:34:50.367Z"
   },
   {
    "duration": 19,
    "start_time": "2022-02-23T16:34:50.395Z"
   },
   {
    "duration": 43,
    "start_time": "2022-02-23T16:34:50.416Z"
   },
   {
    "duration": 21,
    "start_time": "2022-02-23T16:34:50.461Z"
   },
   {
    "duration": 22,
    "start_time": "2022-02-23T16:34:50.483Z"
   },
   {
    "duration": 13,
    "start_time": "2022-02-23T16:34:50.506Z"
   },
   {
    "duration": 22,
    "start_time": "2022-02-23T16:34:50.546Z"
   },
   {
    "duration": 24,
    "start_time": "2022-02-23T16:34:51.634Z"
   },
   {
    "duration": 11,
    "start_time": "2022-02-23T16:38:15.103Z"
   },
   {
    "duration": 91,
    "start_time": "2022-02-23T16:39:42.925Z"
   },
   {
    "duration": 639,
    "start_time": "2022-02-23T16:50:17.349Z"
   },
   {
    "duration": 149,
    "start_time": "2022-02-23T16:50:17.990Z"
   },
   {
    "duration": 22,
    "start_time": "2022-02-23T16:50:18.141Z"
   },
   {
    "duration": 8,
    "start_time": "2022-02-23T16:50:18.165Z"
   },
   {
    "duration": 15,
    "start_time": "2022-02-23T16:50:18.174Z"
   },
   {
    "duration": 10,
    "start_time": "2022-02-23T16:50:18.191Z"
   },
   {
    "duration": 21,
    "start_time": "2022-02-23T16:50:18.202Z"
   },
   {
    "duration": 23,
    "start_time": "2022-02-23T16:50:18.225Z"
   },
   {
    "duration": 28,
    "start_time": "2022-02-23T16:50:18.250Z"
   },
   {
    "duration": 15,
    "start_time": "2022-02-23T16:50:18.280Z"
   },
   {
    "duration": 10,
    "start_time": "2022-02-23T16:50:18.296Z"
   },
   {
    "duration": 44,
    "start_time": "2022-02-23T16:50:18.307Z"
   },
   {
    "duration": 27,
    "start_time": "2022-02-23T16:50:18.353Z"
   },
   {
    "duration": 10,
    "start_time": "2022-02-23T16:50:18.381Z"
   },
   {
    "duration": 29,
    "start_time": "2022-02-23T16:50:18.392Z"
   },
   {
    "duration": 30,
    "start_time": "2022-02-23T16:50:18.422Z"
   },
   {
    "duration": 10,
    "start_time": "2022-02-23T16:50:18.454Z"
   },
   {
    "duration": 22,
    "start_time": "2022-02-23T16:50:18.465Z"
   },
   {
    "duration": 16,
    "start_time": "2022-02-23T16:50:18.489Z"
   },
   {
    "duration": 62,
    "start_time": "2022-02-23T16:50:18.507Z"
   },
   {
    "duration": 5,
    "start_time": "2022-02-23T16:50:18.571Z"
   },
   {
    "duration": 31,
    "start_time": "2022-02-23T16:50:18.578Z"
   },
   {
    "duration": 16,
    "start_time": "2022-02-23T16:50:18.610Z"
   },
   {
    "duration": 41,
    "start_time": "2022-02-23T16:50:18.628Z"
   },
   {
    "duration": 36,
    "start_time": "2022-02-23T16:50:18.671Z"
   },
   {
    "duration": 25,
    "start_time": "2022-02-23T16:50:18.709Z"
   },
   {
    "duration": 22,
    "start_time": "2022-02-23T16:50:18.736Z"
   },
   {
    "duration": 22,
    "start_time": "2022-02-23T16:50:18.759Z"
   },
   {
    "duration": 19,
    "start_time": "2022-02-23T16:50:18.782Z"
   },
   {
    "duration": 33,
    "start_time": "2022-02-23T16:50:18.802Z"
   },
   {
    "duration": 21,
    "start_time": "2022-02-23T16:50:18.836Z"
   },
   {
    "duration": 19,
    "start_time": "2022-02-23T16:50:18.859Z"
   },
   {
    "duration": 24,
    "start_time": "2022-02-23T16:50:18.879Z"
   },
   {
    "duration": 248,
    "start_time": "2022-02-23T16:50:18.904Z"
   },
   {
    "duration": 198,
    "start_time": "2022-02-23T16:50:19.154Z"
   },
   {
    "duration": 10,
    "start_time": "2022-02-23T16:51:05.227Z"
   },
   {
    "duration": 93,
    "start_time": "2022-02-23T16:51:44.473Z"
   },
   {
    "duration": 207,
    "start_time": "2022-02-23T16:51:53.975Z"
   },
   {
    "duration": 162,
    "start_time": "2022-02-23T16:51:57.034Z"
   },
   {
    "duration": 11,
    "start_time": "2022-02-23T16:52:29.378Z"
   },
   {
    "duration": 11,
    "start_time": "2022-02-23T16:52:56.856Z"
   },
   {
    "duration": 11,
    "start_time": "2022-02-23T16:53:12.507Z"
   },
   {
    "duration": 10,
    "start_time": "2022-02-23T16:53:26.836Z"
   },
   {
    "duration": 204,
    "start_time": "2022-02-23T16:54:09.509Z"
   },
   {
    "duration": 164,
    "start_time": "2022-02-23T16:54:18.071Z"
   },
   {
    "duration": 220,
    "start_time": "2022-02-23T16:55:00.865Z"
   },
   {
    "duration": 696,
    "start_time": "2022-02-23T16:55:51.492Z"
   },
   {
    "duration": 693,
    "start_time": "2022-02-23T16:56:02.507Z"
   },
   {
    "duration": 249,
    "start_time": "2022-02-23T16:56:13.643Z"
   },
   {
    "duration": 236,
    "start_time": "2022-02-23T16:56:46.817Z"
   },
   {
    "duration": 26,
    "start_time": "2022-02-23T16:58:33.494Z"
   },
   {
    "duration": 25,
    "start_time": "2022-02-23T16:59:03.312Z"
   },
   {
    "duration": 10,
    "start_time": "2022-02-23T16:59:14.918Z"
   },
   {
    "duration": 28,
    "start_time": "2022-02-23T17:06:46.923Z"
   },
   {
    "duration": 26,
    "start_time": "2022-02-23T17:07:08.627Z"
   },
   {
    "duration": 28,
    "start_time": "2022-02-23T17:07:25.984Z"
   },
   {
    "duration": 36,
    "start_time": "2022-02-23T17:07:51.030Z"
   },
   {
    "duration": 334,
    "start_time": "2022-02-23T17:11:32.261Z"
   },
   {
    "duration": 30,
    "start_time": "2022-02-23T17:11:41.834Z"
   },
   {
    "duration": 31,
    "start_time": "2022-02-23T17:12:05.052Z"
   },
   {
    "duration": 32,
    "start_time": "2022-02-23T17:12:30.685Z"
   },
   {
    "duration": 151,
    "start_time": "2022-02-23T17:14:05.608Z"
   },
   {
    "duration": 162,
    "start_time": "2022-02-23T17:14:27.105Z"
   },
   {
    "duration": 157,
    "start_time": "2022-02-23T17:14:41.504Z"
   },
   {
    "duration": 165,
    "start_time": "2022-02-23T17:14:55.340Z"
   },
   {
    "duration": 210,
    "start_time": "2022-02-23T17:15:05.895Z"
   },
   {
    "duration": 168,
    "start_time": "2022-02-23T17:15:24.908Z"
   },
   {
    "duration": 210,
    "start_time": "2022-02-23T17:15:42.442Z"
   },
   {
    "duration": 479,
    "start_time": "2022-02-23T17:16:24.257Z"
   },
   {
    "duration": 188,
    "start_time": "2022-02-23T17:16:34.046Z"
   },
   {
    "duration": 187,
    "start_time": "2022-02-23T17:16:43.889Z"
   },
   {
    "duration": 184,
    "start_time": "2022-02-23T17:16:59.113Z"
   },
   {
    "duration": 183,
    "start_time": "2022-02-23T17:17:04.629Z"
   },
   {
    "duration": 167,
    "start_time": "2022-02-23T17:19:47.037Z"
   },
   {
    "duration": 14,
    "start_time": "2022-02-23T17:21:05.665Z"
   },
   {
    "duration": 17,
    "start_time": "2022-02-23T17:22:04.301Z"
   },
   {
    "duration": 19,
    "start_time": "2022-02-23T17:23:23.534Z"
   },
   {
    "duration": 22,
    "start_time": "2022-02-23T17:23:53.567Z"
   },
   {
    "duration": 18,
    "start_time": "2022-02-23T17:24:25.570Z"
   },
   {
    "duration": 20,
    "start_time": "2022-02-23T17:26:37.978Z"
   },
   {
    "duration": 19,
    "start_time": "2022-02-23T17:26:48.078Z"
   },
   {
    "duration": 16,
    "start_time": "2022-02-23T17:27:21.630Z"
   },
   {
    "duration": 20,
    "start_time": "2022-02-23T17:27:31.685Z"
   },
   {
    "duration": 20,
    "start_time": "2022-02-23T17:27:59.487Z"
   },
   {
    "duration": 16,
    "start_time": "2022-02-23T17:35:28.700Z"
   },
   {
    "duration": 616,
    "start_time": "2022-02-23T19:28:16.844Z"
   },
   {
    "duration": 368,
    "start_time": "2022-02-23T19:28:17.462Z"
   },
   {
    "duration": 25,
    "start_time": "2022-02-23T19:28:17.833Z"
   },
   {
    "duration": 9,
    "start_time": "2022-02-23T19:28:17.860Z"
   },
   {
    "duration": 17,
    "start_time": "2022-02-23T19:28:17.871Z"
   },
   {
    "duration": 41,
    "start_time": "2022-02-23T19:28:17.889Z"
   },
   {
    "duration": 23,
    "start_time": "2022-02-23T19:28:17.932Z"
   },
   {
    "duration": 5,
    "start_time": "2022-02-23T19:28:17.957Z"
   },
   {
    "duration": 32,
    "start_time": "2022-02-23T19:28:17.964Z"
   },
   {
    "duration": 45,
    "start_time": "2022-02-23T19:28:17.998Z"
   },
   {
    "duration": 10,
    "start_time": "2022-02-23T19:28:18.044Z"
   },
   {
    "duration": 18,
    "start_time": "2022-02-23T19:28:18.056Z"
   },
   {
    "duration": 29,
    "start_time": "2022-02-23T19:28:18.076Z"
   },
   {
    "duration": 10,
    "start_time": "2022-02-23T19:28:18.131Z"
   },
   {
    "duration": 17,
    "start_time": "2022-02-23T19:28:18.143Z"
   },
   {
    "duration": 25,
    "start_time": "2022-02-23T19:28:18.162Z"
   },
   {
    "duration": 11,
    "start_time": "2022-02-23T19:28:18.188Z"
   },
   {
    "duration": 35,
    "start_time": "2022-02-23T19:28:18.201Z"
   },
   {
    "duration": 8,
    "start_time": "2022-02-23T19:28:18.238Z"
   },
   {
    "duration": 112,
    "start_time": "2022-02-23T19:28:18.247Z"
   },
   {
    "duration": 8,
    "start_time": "2022-02-23T19:28:18.360Z"
   },
   {
    "duration": 10,
    "start_time": "2022-02-23T19:28:18.370Z"
   },
   {
    "duration": 7,
    "start_time": "2022-02-23T19:28:18.383Z"
   },
   {
    "duration": 50,
    "start_time": "2022-02-23T19:28:18.392Z"
   },
   {
    "duration": 29,
    "start_time": "2022-02-23T19:28:18.443Z"
   },
   {
    "duration": 26,
    "start_time": "2022-02-23T19:28:18.474Z"
   },
   {
    "duration": 43,
    "start_time": "2022-02-23T19:28:18.501Z"
   },
   {
    "duration": 24,
    "start_time": "2022-02-23T19:28:18.545Z"
   },
   {
    "duration": 22,
    "start_time": "2022-02-23T19:28:18.570Z"
   },
   {
    "duration": 55,
    "start_time": "2022-02-23T19:28:18.593Z"
   },
   {
    "duration": 14,
    "start_time": "2022-02-23T19:28:18.649Z"
   },
   {
    "duration": 22,
    "start_time": "2022-02-23T19:28:18.665Z"
   },
   {
    "duration": 46,
    "start_time": "2022-02-23T19:28:18.688Z"
   },
   {
    "duration": 288,
    "start_time": "2022-02-23T19:28:18.736Z"
   },
   {
    "duration": 216,
    "start_time": "2022-02-23T19:28:19.025Z"
   },
   {
    "duration": 11,
    "start_time": "2022-02-23T19:28:19.243Z"
   },
   {
    "duration": 11,
    "start_time": "2022-02-23T19:28:19.255Z"
   },
   {
    "duration": 16,
    "start_time": "2022-02-23T19:28:19.267Z"
   },
   {
    "duration": 90,
    "start_time": "2022-02-23T19:28:19.284Z"
   },
   {
    "duration": 253,
    "start_time": "2022-02-23T19:29:42.917Z"
   },
   {
    "duration": 110,
    "start_time": "2022-02-23T19:32:10.181Z"
   },
   {
    "duration": 41,
    "start_time": "2022-02-23T19:32:42.693Z"
   },
   {
    "duration": 182,
    "start_time": "2022-02-23T19:32:46.215Z"
   },
   {
    "duration": 107,
    "start_time": "2022-02-23T19:32:55.553Z"
   },
   {
    "duration": 147,
    "start_time": "2022-02-23T19:33:07.526Z"
   },
   {
    "duration": 150,
    "start_time": "2022-02-23T19:34:49.983Z"
   },
   {
    "duration": 154,
    "start_time": "2022-02-23T19:36:34.088Z"
   },
   {
    "duration": 157,
    "start_time": "2022-02-23T19:36:54.943Z"
   },
   {
    "duration": 156,
    "start_time": "2022-02-23T19:37:39.054Z"
   },
   {
    "duration": 149,
    "start_time": "2022-02-23T19:39:29.014Z"
   },
   {
    "duration": 289,
    "start_time": "2022-02-23T19:40:09.756Z"
   },
   {
    "duration": 148,
    "start_time": "2022-02-23T19:40:13.012Z"
   },
   {
    "duration": 206,
    "start_time": "2022-02-23T19:40:18.581Z"
   },
   {
    "duration": 259,
    "start_time": "2022-02-23T19:50:30.971Z"
   },
   {
    "duration": 258,
    "start_time": "2022-02-23T19:50:52.941Z"
   },
   {
    "duration": 265,
    "start_time": "2022-02-23T19:51:02.225Z"
   },
   {
    "duration": 249,
    "start_time": "2022-02-23T19:52:03.741Z"
   },
   {
    "duration": 250,
    "start_time": "2022-02-23T19:54:20.297Z"
   },
   {
    "duration": 263,
    "start_time": "2022-02-23T19:54:29.889Z"
   },
   {
    "duration": 257,
    "start_time": "2022-02-23T19:54:48.428Z"
   },
   {
    "duration": 370,
    "start_time": "2022-02-23T19:56:54.635Z"
   },
   {
    "duration": 291,
    "start_time": "2022-02-23T19:57:01.230Z"
   },
   {
    "duration": 264,
    "start_time": "2022-02-23T19:57:17.719Z"
   },
   {
    "duration": 335,
    "start_time": "2022-02-23T19:57:47.679Z"
   },
   {
    "duration": 266,
    "start_time": "2022-02-23T19:58:10.824Z"
   },
   {
    "duration": 248,
    "start_time": "2022-02-23T19:59:01.047Z"
   },
   {
    "duration": 263,
    "start_time": "2022-02-23T19:59:08.369Z"
   },
   {
    "duration": 260,
    "start_time": "2022-02-23T19:59:14.252Z"
   },
   {
    "duration": 4,
    "start_time": "2022-02-23T20:00:14.505Z"
   },
   {
    "duration": 3,
    "start_time": "2022-02-23T20:00:42.558Z"
   },
   {
    "duration": 272,
    "start_time": "2022-02-23T20:02:01.260Z"
   },
   {
    "duration": 271,
    "start_time": "2022-02-23T20:02:10.052Z"
   },
   {
    "duration": 259,
    "start_time": "2022-02-23T20:04:36.291Z"
   },
   {
    "duration": 256,
    "start_time": "2022-02-23T20:04:45.664Z"
   },
   {
    "duration": 49,
    "start_time": "2022-02-23T20:12:32.667Z"
   },
   {
    "duration": 41,
    "start_time": "2022-02-23T20:12:35.035Z"
   },
   {
    "duration": 30,
    "start_time": "2022-02-23T20:12:41.352Z"
   },
   {
    "duration": 30,
    "start_time": "2022-02-23T20:13:01.694Z"
   },
   {
    "duration": 31,
    "start_time": "2022-02-23T20:13:18.851Z"
   },
   {
    "duration": 20,
    "start_time": "2022-02-23T20:13:30.137Z"
   },
   {
    "duration": 29,
    "start_time": "2022-02-23T20:14:17.150Z"
   },
   {
    "duration": 23,
    "start_time": "2022-02-23T20:14:48.656Z"
   },
   {
    "duration": 29,
    "start_time": "2022-02-23T20:15:39.533Z"
   },
   {
    "duration": 24,
    "start_time": "2022-02-23T20:16:13.841Z"
   },
   {
    "duration": 14,
    "start_time": "2022-02-23T20:17:08.061Z"
   },
   {
    "duration": 12,
    "start_time": "2022-02-23T20:37:11.758Z"
   },
   {
    "duration": 5,
    "start_time": "2022-02-23T20:38:59.450Z"
   },
   {
    "duration": 6,
    "start_time": "2022-02-23T20:39:30.720Z"
   },
   {
    "duration": 5,
    "start_time": "2022-02-23T20:40:14.471Z"
   },
   {
    "duration": 4,
    "start_time": "2022-02-23T20:40:35.801Z"
   },
   {
    "duration": 7,
    "start_time": "2022-02-23T20:40:55.937Z"
   },
   {
    "duration": 151,
    "start_time": "2022-02-23T20:41:04.531Z"
   },
   {
    "duration": 8,
    "start_time": "2022-02-23T20:41:12.585Z"
   },
   {
    "duration": 7,
    "start_time": "2022-02-23T20:41:17.723Z"
   },
   {
    "duration": 7,
    "start_time": "2022-02-23T20:41:49.526Z"
   },
   {
    "duration": 132,
    "start_time": "2022-02-23T20:44:38.930Z"
   },
   {
    "duration": 6,
    "start_time": "2022-02-23T20:44:51.210Z"
   },
   {
    "duration": 607,
    "start_time": "2022-02-24T07:29:17.396Z"
   },
   {
    "duration": 75,
    "start_time": "2022-02-24T07:29:18.005Z"
   },
   {
    "duration": 26,
    "start_time": "2022-02-24T07:29:18.082Z"
   },
   {
    "duration": 8,
    "start_time": "2022-02-24T07:29:18.109Z"
   },
   {
    "duration": 21,
    "start_time": "2022-02-24T07:29:18.119Z"
   },
   {
    "duration": 13,
    "start_time": "2022-02-24T07:29:18.141Z"
   },
   {
    "duration": 24,
    "start_time": "2022-02-24T07:29:18.156Z"
   },
   {
    "duration": 5,
    "start_time": "2022-02-24T07:29:18.183Z"
   },
   {
    "duration": 56,
    "start_time": "2022-02-24T07:29:18.190Z"
   },
   {
    "duration": 17,
    "start_time": "2022-02-24T07:29:18.247Z"
   },
   {
    "duration": 9,
    "start_time": "2022-02-24T07:29:18.266Z"
   },
   {
    "duration": 14,
    "start_time": "2022-02-24T07:29:18.277Z"
   },
   {
    "duration": 55,
    "start_time": "2022-02-24T07:29:18.293Z"
   },
   {
    "duration": 9,
    "start_time": "2022-02-24T07:29:18.350Z"
   },
   {
    "duration": 8,
    "start_time": "2022-02-24T07:29:18.361Z"
   },
   {
    "duration": 16,
    "start_time": "2022-02-24T07:29:18.371Z"
   },
   {
    "duration": 42,
    "start_time": "2022-02-24T07:29:18.389Z"
   },
   {
    "duration": 12,
    "start_time": "2022-02-24T07:29:18.433Z"
   },
   {
    "duration": 6,
    "start_time": "2022-02-24T07:29:18.447Z"
   },
   {
    "duration": 59,
    "start_time": "2022-02-24T07:29:18.454Z"
   },
   {
    "duration": 6,
    "start_time": "2022-02-24T07:29:18.530Z"
   },
   {
    "duration": 9,
    "start_time": "2022-02-24T07:29:18.538Z"
   },
   {
    "duration": 7,
    "start_time": "2022-02-24T07:29:18.551Z"
   },
   {
    "duration": 23,
    "start_time": "2022-02-24T07:29:18.560Z"
   },
   {
    "duration": 55,
    "start_time": "2022-02-24T07:29:18.584Z"
   },
   {
    "duration": 28,
    "start_time": "2022-02-24T07:29:18.641Z"
   },
   {
    "duration": 24,
    "start_time": "2022-02-24T07:29:18.671Z"
   },
   {
    "duration": 49,
    "start_time": "2022-02-24T07:29:18.697Z"
   },
   {
    "duration": 24,
    "start_time": "2022-02-24T07:29:18.748Z"
   },
   {
    "duration": 23,
    "start_time": "2022-02-24T07:29:18.774Z"
   },
   {
    "duration": 43,
    "start_time": "2022-02-24T07:29:18.799Z"
   },
   {
    "duration": 23,
    "start_time": "2022-02-24T07:29:18.843Z"
   },
   {
    "duration": 28,
    "start_time": "2022-02-24T07:29:18.868Z"
   },
   {
    "duration": 303,
    "start_time": "2022-02-24T07:29:18.898Z"
   },
   {
    "duration": 221,
    "start_time": "2022-02-24T07:29:19.203Z"
   },
   {
    "duration": 12,
    "start_time": "2022-02-24T07:29:19.429Z"
   },
   {
    "duration": 13,
    "start_time": "2022-02-24T07:29:19.442Z"
   },
   {
    "duration": 14,
    "start_time": "2022-02-24T07:29:19.457Z"
   },
   {
    "duration": 73,
    "start_time": "2022-02-24T07:29:19.473Z"
   },
   {
    "duration": 160,
    "start_time": "2022-02-24T07:29:19.548Z"
   },
   {
    "duration": 273,
    "start_time": "2022-02-24T07:29:19.710Z"
   },
   {
    "duration": 11,
    "start_time": "2022-02-24T07:29:19.984Z"
   },
   {
    "duration": 5,
    "start_time": "2022-02-24T07:29:19.996Z"
   },
   {
    "duration": 27,
    "start_time": "2022-02-24T07:29:20.003Z"
   },
   {
    "duration": 11,
    "start_time": "2022-02-24T07:29:20.032Z"
   },
   {
    "duration": 11,
    "start_time": "2022-02-24T07:29:20.044Z"
   },
   {
    "duration": 16,
    "start_time": "2022-02-24T07:29:20.057Z"
   },
   {
    "duration": 6,
    "start_time": "2022-02-24T07:30:18.683Z"
   },
   {
    "duration": 25,
    "start_time": "2022-02-24T07:36:20.185Z"
   },
   {
    "duration": 10,
    "start_time": "2022-02-24T07:37:12.725Z"
   },
   {
    "duration": 198,
    "start_time": "2022-02-24T07:40:22.689Z"
   },
   {
    "duration": 18,
    "start_time": "2022-02-24T07:40:38.743Z"
   },
   {
    "duration": 141,
    "start_time": "2022-02-24T07:46:30.857Z"
   },
   {
    "duration": 68,
    "start_time": "2022-02-24T07:46:42.661Z"
   },
   {
    "duration": 23,
    "start_time": "2022-02-24T07:47:11.165Z"
   },
   {
    "duration": 634,
    "start_time": "2022-02-24T09:49:54.982Z"
   },
   {
    "duration": 766,
    "start_time": "2022-02-24T09:49:55.617Z"
   },
   {
    "duration": 23,
    "start_time": "2022-02-24T09:49:56.386Z"
   },
   {
    "duration": 8,
    "start_time": "2022-02-24T09:49:56.411Z"
   },
   {
    "duration": 15,
    "start_time": "2022-02-24T09:49:56.421Z"
   },
   {
    "duration": 10,
    "start_time": "2022-02-24T09:49:56.437Z"
   },
   {
    "duration": 21,
    "start_time": "2022-02-24T09:49:56.448Z"
   },
   {
    "duration": 4,
    "start_time": "2022-02-24T09:49:56.472Z"
   },
   {
    "duration": 55,
    "start_time": "2022-02-24T09:49:56.478Z"
   },
   {
    "duration": 16,
    "start_time": "2022-02-24T09:49:56.535Z"
   },
   {
    "duration": 9,
    "start_time": "2022-02-24T09:49:56.552Z"
   },
   {
    "duration": 12,
    "start_time": "2022-02-24T09:49:56.562Z"
   },
   {
    "duration": 56,
    "start_time": "2022-02-24T09:49:56.575Z"
   },
   {
    "duration": 10,
    "start_time": "2022-02-24T09:49:56.633Z"
   },
   {
    "duration": 9,
    "start_time": "2022-02-24T09:49:56.645Z"
   },
   {
    "duration": 116,
    "start_time": "2022-02-24T09:49:56.655Z"
   },
   {
    "duration": 11,
    "start_time": "2022-02-24T09:49:56.772Z"
   },
   {
    "duration": 9,
    "start_time": "2022-02-24T09:49:56.784Z"
   },
   {
    "duration": 6,
    "start_time": "2022-02-24T09:49:56.794Z"
   },
   {
    "duration": 54,
    "start_time": "2022-02-24T09:49:56.802Z"
   },
   {
    "duration": 6,
    "start_time": "2022-02-24T09:49:56.857Z"
   },
   {
    "duration": 9,
    "start_time": "2022-02-24T09:49:56.864Z"
   },
   {
    "duration": 6,
    "start_time": "2022-02-24T09:49:56.876Z"
   },
   {
    "duration": 22,
    "start_time": "2022-02-24T09:49:56.884Z"
   },
   {
    "duration": 24,
    "start_time": "2022-02-24T09:49:56.932Z"
   },
   {
    "duration": 29,
    "start_time": "2022-02-24T09:49:56.957Z"
   },
   {
    "duration": 46,
    "start_time": "2022-02-24T09:49:56.987Z"
   },
   {
    "duration": 24,
    "start_time": "2022-02-24T09:49:57.034Z"
   },
   {
    "duration": 21,
    "start_time": "2022-02-24T09:49:57.060Z"
   },
   {
    "duration": 21,
    "start_time": "2022-02-24T09:49:57.083Z"
   },
   {
    "duration": 38,
    "start_time": "2022-02-24T09:49:57.106Z"
   },
   {
    "duration": 22,
    "start_time": "2022-02-24T09:49:57.146Z"
   },
   {
    "duration": 21,
    "start_time": "2022-02-24T09:49:57.170Z"
   },
   {
    "duration": 295,
    "start_time": "2022-02-24T09:49:57.193Z"
   },
   {
    "duration": 206,
    "start_time": "2022-02-24T09:49:57.490Z"
   },
   {
    "duration": 11,
    "start_time": "2022-02-24T09:49:57.698Z"
   },
   {
    "duration": 21,
    "start_time": "2022-02-24T09:49:57.711Z"
   },
   {
    "duration": 13,
    "start_time": "2022-02-24T09:49:57.734Z"
   },
   {
    "duration": 56,
    "start_time": "2022-02-24T09:49:57.748Z"
   },
   {
    "duration": 160,
    "start_time": "2022-02-24T09:49:57.805Z"
   },
   {
    "duration": 278,
    "start_time": "2022-02-24T09:49:57.966Z"
   },
   {
    "duration": 10,
    "start_time": "2022-02-24T09:49:58.247Z"
   },
   {
    "duration": 6,
    "start_time": "2022-02-24T09:49:58.259Z"
   },
   {
    "duration": 9,
    "start_time": "2022-02-24T09:49:58.267Z"
   },
   {
    "duration": 9,
    "start_time": "2022-02-24T09:49:58.278Z"
   },
   {
    "duration": 20,
    "start_time": "2022-02-24T09:49:58.288Z"
   },
   {
    "duration": 45,
    "start_time": "2022-02-24T09:49:58.309Z"
   },
   {
    "duration": 5,
    "start_time": "2022-02-24T09:49:58.355Z"
   },
   {
    "duration": 9,
    "start_time": "2022-02-24T09:49:58.362Z"
   },
   {
    "duration": 7,
    "start_time": "2022-02-24T09:49:58.372Z"
   },
   {
    "duration": 20,
    "start_time": "2022-02-24T09:51:19.746Z"
   },
   {
    "duration": 706,
    "start_time": "2022-02-24T09:54:03.799Z"
   },
   {
    "duration": 479,
    "start_time": "2022-02-24T09:54:48.947Z"
   },
   {
    "duration": 619,
    "start_time": "2022-02-24T09:54:57.971Z"
   },
   {
    "duration": 28,
    "start_time": "2022-02-24T09:56:07.004Z"
   },
   {
    "duration": 27,
    "start_time": "2022-02-24T09:59:33.783Z"
   },
   {
    "duration": 279,
    "start_time": "2022-02-24T11:48:40.982Z"
   },
   {
    "duration": 637,
    "start_time": "2022-02-24T11:48:47.772Z"
   },
   {
    "duration": 85,
    "start_time": "2022-02-24T11:48:48.410Z"
   },
   {
    "duration": 25,
    "start_time": "2022-02-24T11:48:48.497Z"
   },
   {
    "duration": 9,
    "start_time": "2022-02-24T11:48:48.524Z"
   },
   {
    "duration": 16,
    "start_time": "2022-02-24T11:48:48.535Z"
   },
   {
    "duration": 11,
    "start_time": "2022-02-24T11:48:48.553Z"
   },
   {
    "duration": 23,
    "start_time": "2022-02-24T11:48:48.566Z"
   },
   {
    "duration": 30,
    "start_time": "2022-02-24T11:48:48.591Z"
   },
   {
    "duration": 33,
    "start_time": "2022-02-24T11:48:48.624Z"
   },
   {
    "duration": 18,
    "start_time": "2022-02-24T11:48:48.659Z"
   },
   {
    "duration": 41,
    "start_time": "2022-02-24T11:48:48.679Z"
   },
   {
    "duration": 15,
    "start_time": "2022-02-24T11:48:48.722Z"
   },
   {
    "duration": 29,
    "start_time": "2022-02-24T11:48:48.738Z"
   },
   {
    "duration": 9,
    "start_time": "2022-02-24T11:48:48.769Z"
   },
   {
    "duration": 40,
    "start_time": "2022-02-24T11:48:48.780Z"
   },
   {
    "duration": 21,
    "start_time": "2022-02-24T11:48:48.822Z"
   },
   {
    "duration": 12,
    "start_time": "2022-02-24T11:48:48.845Z"
   },
   {
    "duration": 11,
    "start_time": "2022-02-24T11:48:48.859Z"
   },
   {
    "duration": 5,
    "start_time": "2022-02-24T11:48:48.872Z"
   },
   {
    "duration": 93,
    "start_time": "2022-02-24T11:48:48.879Z"
   },
   {
    "duration": 7,
    "start_time": "2022-02-24T11:48:48.973Z"
   },
   {
    "duration": 10,
    "start_time": "2022-02-24T11:48:48.982Z"
   },
   {
    "duration": 29,
    "start_time": "2022-02-24T11:48:48.996Z"
   },
   {
    "duration": 25,
    "start_time": "2022-02-24T11:48:49.027Z"
   },
   {
    "duration": 26,
    "start_time": "2022-02-24T11:48:49.054Z"
   },
   {
    "duration": 64,
    "start_time": "2022-02-24T11:48:49.082Z"
   },
   {
    "duration": 24,
    "start_time": "2022-02-24T11:48:49.148Z"
   },
   {
    "duration": 46,
    "start_time": "2022-02-24T11:48:49.174Z"
   },
   {
    "duration": 23,
    "start_time": "2022-02-24T11:48:49.221Z"
   },
   {
    "duration": 23,
    "start_time": "2022-02-24T11:48:49.245Z"
   },
   {
    "duration": 14,
    "start_time": "2022-02-24T11:48:49.270Z"
   },
   {
    "duration": 59,
    "start_time": "2022-02-24T11:48:49.286Z"
   },
   {
    "duration": 25,
    "start_time": "2022-02-24T11:48:49.347Z"
   },
   {
    "duration": 334,
    "start_time": "2022-02-24T11:48:49.373Z"
   },
   {
    "duration": 263,
    "start_time": "2022-02-24T11:48:49.709Z"
   },
   {
    "duration": 12,
    "start_time": "2022-02-24T11:48:49.974Z"
   },
   {
    "duration": 11,
    "start_time": "2022-02-24T11:48:49.987Z"
   },
   {
    "duration": 33,
    "start_time": "2022-02-24T11:48:50.000Z"
   },
   {
    "duration": 72,
    "start_time": "2022-02-24T11:48:50.035Z"
   },
   {
    "duration": 178,
    "start_time": "2022-02-24T11:48:50.108Z"
   },
   {
    "duration": 337,
    "start_time": "2022-02-24T11:48:50.288Z"
   },
   {
    "duration": 15,
    "start_time": "2022-02-24T11:48:50.627Z"
   },
   {
    "duration": 6,
    "start_time": "2022-02-24T11:48:50.645Z"
   },
   {
    "duration": 8,
    "start_time": "2022-02-24T11:48:50.653Z"
   },
   {
    "duration": 9,
    "start_time": "2022-02-24T11:48:50.663Z"
   },
   {
    "duration": 53,
    "start_time": "2022-02-24T11:48:50.673Z"
   },
   {
    "duration": 27,
    "start_time": "2022-02-24T11:48:50.728Z"
   },
   {
    "duration": 28,
    "start_time": "2022-02-24T11:48:50.757Z"
   },
   {
    "duration": 15,
    "start_time": "2022-02-24T11:48:51.572Z"
   },
   {
    "duration": 16,
    "start_time": "2022-02-24T11:49:04.544Z"
   },
   {
    "duration": 83,
    "start_time": "2022-02-24T11:49:10.807Z"
   },
   {
    "duration": 16,
    "start_time": "2022-02-24T11:49:18.763Z"
   },
   {
    "duration": 14,
    "start_time": "2022-02-24T11:49:23.729Z"
   },
   {
    "duration": 14,
    "start_time": "2022-02-24T11:49:29.523Z"
   },
   {
    "duration": 318,
    "start_time": "2022-02-24T11:49:50.025Z"
   },
   {
    "duration": 14,
    "start_time": "2022-02-24T11:49:56.099Z"
   },
   {
    "duration": 15,
    "start_time": "2022-02-24T11:50:03.128Z"
   },
   {
    "duration": 14,
    "start_time": "2022-02-24T11:50:31.143Z"
   },
   {
    "duration": 17,
    "start_time": "2022-02-24T11:51:07.082Z"
   },
   {
    "duration": 15,
    "start_time": "2022-02-24T11:51:37.511Z"
   },
   {
    "duration": 24,
    "start_time": "2022-02-24T11:52:55.871Z"
   },
   {
    "duration": 17,
    "start_time": "2022-02-24T11:53:08.850Z"
   },
   {
    "duration": 20,
    "start_time": "2022-02-24T11:53:12.902Z"
   },
   {
    "duration": 31,
    "start_time": "2022-02-24T11:56:31.290Z"
   },
   {
    "duration": 291,
    "start_time": "2022-02-24T12:01:44.504Z"
   },
   {
    "duration": 666,
    "start_time": "2022-02-24T12:01:55.165Z"
   },
   {
    "duration": 78,
    "start_time": "2022-02-24T12:01:55.832Z"
   },
   {
    "duration": 26,
    "start_time": "2022-02-24T12:01:55.912Z"
   },
   {
    "duration": 10,
    "start_time": "2022-02-24T12:01:55.940Z"
   },
   {
    "duration": 17,
    "start_time": "2022-02-24T12:01:55.951Z"
   },
   {
    "duration": 13,
    "start_time": "2022-02-24T12:01:55.970Z"
   },
   {
    "duration": 51,
    "start_time": "2022-02-24T12:01:55.984Z"
   },
   {
    "duration": 5,
    "start_time": "2022-02-24T12:01:56.038Z"
   },
   {
    "duration": 35,
    "start_time": "2022-02-24T12:01:56.045Z"
   },
   {
    "duration": 38,
    "start_time": "2022-02-24T12:01:56.082Z"
   },
   {
    "duration": 11,
    "start_time": "2022-02-24T12:01:56.122Z"
   },
   {
    "duration": 15,
    "start_time": "2022-02-24T12:01:56.135Z"
   },
   {
    "duration": 29,
    "start_time": "2022-02-24T12:01:56.152Z"
   },
   {
    "duration": 37,
    "start_time": "2022-02-24T12:01:56.183Z"
   },
   {
    "duration": 9,
    "start_time": "2022-02-24T12:01:56.222Z"
   },
   {
    "duration": 19,
    "start_time": "2022-02-24T12:01:56.233Z"
   },
   {
    "duration": 12,
    "start_time": "2022-02-24T12:01:56.254Z"
   },
   {
    "duration": 10,
    "start_time": "2022-02-24T12:01:56.268Z"
   },
   {
    "duration": 44,
    "start_time": "2022-02-24T12:01:56.280Z"
   },
   {
    "duration": 70,
    "start_time": "2022-02-24T12:01:56.326Z"
   },
   {
    "duration": 6,
    "start_time": "2022-02-24T12:01:56.398Z"
   },
   {
    "duration": 28,
    "start_time": "2022-02-24T12:01:56.405Z"
   },
   {
    "duration": 15,
    "start_time": "2022-02-24T12:01:56.436Z"
   },
   {
    "duration": 24,
    "start_time": "2022-02-24T12:01:56.453Z"
   },
   {
    "duration": 30,
    "start_time": "2022-02-24T12:01:56.479Z"
   },
   {
    "duration": 30,
    "start_time": "2022-02-24T12:01:56.518Z"
   },
   {
    "duration": 28,
    "start_time": "2022-02-24T12:01:56.549Z"
   },
   {
    "duration": 47,
    "start_time": "2022-02-24T12:01:56.579Z"
   },
   {
    "duration": 26,
    "start_time": "2022-02-24T12:01:56.630Z"
   },
   {
    "duration": 44,
    "start_time": "2022-02-24T12:01:56.658Z"
   },
   {
    "duration": 32,
    "start_time": "2022-02-24T12:01:56.704Z"
   },
   {
    "duration": 38,
    "start_time": "2022-02-24T12:01:56.737Z"
   },
   {
    "duration": 40,
    "start_time": "2022-02-24T12:01:56.777Z"
   },
   {
    "duration": 321,
    "start_time": "2022-02-24T12:01:56.818Z"
   },
   {
    "duration": 336,
    "start_time": "2022-02-24T12:01:57.141Z"
   },
   {
    "duration": 10,
    "start_time": "2022-02-24T12:01:57.479Z"
   },
   {
    "duration": 10,
    "start_time": "2022-02-24T12:01:57.491Z"
   },
   {
    "duration": 55,
    "start_time": "2022-02-24T12:01:57.503Z"
   },
   {
    "duration": 62,
    "start_time": "2022-02-24T12:01:57.559Z"
   },
   {
    "duration": 168,
    "start_time": "2022-02-24T12:01:57.622Z"
   },
   {
    "duration": 309,
    "start_time": "2022-02-24T12:01:57.791Z"
   },
   {
    "duration": 17,
    "start_time": "2022-02-24T12:01:58.102Z"
   },
   {
    "duration": 7,
    "start_time": "2022-02-24T12:01:58.121Z"
   },
   {
    "duration": 5,
    "start_time": "2022-02-24T12:01:58.130Z"
   },
   {
    "duration": 7,
    "start_time": "2022-02-24T12:01:58.137Z"
   },
   {
    "duration": 20,
    "start_time": "2022-02-24T12:01:58.146Z"
   },
   {
    "duration": 27,
    "start_time": "2022-02-24T12:01:58.168Z"
   },
   {
    "duration": 28,
    "start_time": "2022-02-24T12:01:58.197Z"
   },
   {
    "duration": 33,
    "start_time": "2022-02-24T12:01:58.227Z"
   },
   {
    "duration": 5,
    "start_time": "2022-02-24T12:01:58.262Z"
   },
   {
    "duration": 7,
    "start_time": "2022-02-24T12:01:58.269Z"
   },
   {
    "duration": 7,
    "start_time": "2022-02-24T12:01:58.278Z"
   },
   {
    "duration": 737,
    "start_time": "2022-02-25T20:55:37.954Z"
   },
   {
    "duration": 137,
    "start_time": "2022-02-25T20:55:38.693Z"
   },
   {
    "duration": 27,
    "start_time": "2022-02-25T20:55:38.832Z"
   },
   {
    "duration": 16,
    "start_time": "2022-02-25T20:55:38.861Z"
   },
   {
    "duration": 24,
    "start_time": "2022-02-25T20:55:38.878Z"
   },
   {
    "duration": 20,
    "start_time": "2022-02-25T20:55:38.904Z"
   },
   {
    "duration": 27,
    "start_time": "2022-02-25T20:55:38.926Z"
   },
   {
    "duration": 16,
    "start_time": "2022-02-25T20:55:38.956Z"
   },
   {
    "duration": 47,
    "start_time": "2022-02-25T20:55:38.974Z"
   },
   {
    "duration": 19,
    "start_time": "2022-02-25T20:55:39.023Z"
   },
   {
    "duration": 28,
    "start_time": "2022-02-25T20:55:39.043Z"
   },
   {
    "duration": 16,
    "start_time": "2022-02-25T20:55:39.073Z"
   },
   {
    "duration": 40,
    "start_time": "2022-02-25T20:55:39.091Z"
   },
   {
    "duration": 11,
    "start_time": "2022-02-25T20:55:39.133Z"
   },
   {
    "duration": 31,
    "start_time": "2022-02-25T20:55:39.146Z"
   },
   {
    "duration": 38,
    "start_time": "2022-02-25T20:55:39.179Z"
   },
   {
    "duration": 14,
    "start_time": "2022-02-25T20:55:39.219Z"
   },
   {
    "duration": 12,
    "start_time": "2022-02-25T20:55:39.235Z"
   },
   {
    "duration": 23,
    "start_time": "2022-02-25T20:55:39.249Z"
   },
   {
    "duration": 83,
    "start_time": "2022-02-25T20:55:39.274Z"
   },
   {
    "duration": 7,
    "start_time": "2022-02-25T20:55:39.358Z"
   },
   {
    "duration": 39,
    "start_time": "2022-02-25T20:55:39.367Z"
   },
   {
    "duration": 16,
    "start_time": "2022-02-25T20:55:39.410Z"
   },
   {
    "duration": 54,
    "start_time": "2022-02-25T20:55:39.428Z"
   },
   {
    "duration": 35,
    "start_time": "2022-02-25T20:55:39.484Z"
   },
   {
    "duration": 31,
    "start_time": "2022-02-25T20:55:39.521Z"
   },
   {
    "duration": 43,
    "start_time": "2022-02-25T20:55:39.554Z"
   },
   {
    "duration": 38,
    "start_time": "2022-02-25T20:55:39.599Z"
   },
   {
    "duration": 32,
    "start_time": "2022-02-25T20:55:39.638Z"
   },
   {
    "duration": 28,
    "start_time": "2022-02-25T20:55:39.672Z"
   },
   {
    "duration": 17,
    "start_time": "2022-02-25T20:55:39.702Z"
   },
   {
    "duration": 53,
    "start_time": "2022-02-25T20:55:39.722Z"
   },
   {
    "duration": 28,
    "start_time": "2022-02-25T20:55:39.777Z"
   },
   {
    "duration": 390,
    "start_time": "2022-02-25T20:55:39.807Z"
   },
   {
    "duration": 290,
    "start_time": "2022-02-25T20:55:40.199Z"
   },
   {
    "duration": 14,
    "start_time": "2022-02-25T20:55:40.491Z"
   },
   {
    "duration": 35,
    "start_time": "2022-02-25T20:55:40.508Z"
   },
   {
    "duration": 20,
    "start_time": "2022-02-25T20:55:40.546Z"
   },
   {
    "duration": 85,
    "start_time": "2022-02-25T20:55:40.569Z"
   },
   {
    "duration": 178,
    "start_time": "2022-02-25T20:55:40.656Z"
   },
   {
    "duration": 341,
    "start_time": "2022-02-25T20:55:40.836Z"
   },
   {
    "duration": 12,
    "start_time": "2022-02-25T20:55:41.179Z"
   },
   {
    "duration": 20,
    "start_time": "2022-02-25T20:55:41.193Z"
   },
   {
    "duration": 10,
    "start_time": "2022-02-25T20:55:41.215Z"
   },
   {
    "duration": 24,
    "start_time": "2022-02-25T20:55:41.226Z"
   },
   {
    "duration": 28,
    "start_time": "2022-02-25T20:55:41.252Z"
   },
   {
    "duration": 47,
    "start_time": "2022-02-25T20:55:41.281Z"
   },
   {
    "duration": 29,
    "start_time": "2022-02-25T20:55:41.330Z"
   },
   {
    "duration": 36,
    "start_time": "2022-02-25T20:55:41.361Z"
   },
   {
    "duration": 7,
    "start_time": "2022-02-25T20:55:41.400Z"
   },
   {
    "duration": 27,
    "start_time": "2022-02-25T20:55:41.408Z"
   },
   {
    "duration": 32,
    "start_time": "2022-02-25T20:55:41.437Z"
   },
   {
    "duration": 11,
    "start_time": "2022-02-25T20:55:49.252Z"
   },
   {
    "duration": 9,
    "start_time": "2022-02-25T20:57:13.212Z"
   },
   {
    "duration": 11,
    "start_time": "2022-02-25T20:57:24.365Z"
   },
   {
    "duration": 5764,
    "start_time": "2022-02-25T20:58:57.540Z"
   },
   {
    "duration": 7,
    "start_time": "2022-02-25T20:59:32.461Z"
   },
   {
    "duration": 12,
    "start_time": "2022-02-25T20:59:41.049Z"
   },
   {
    "duration": 14,
    "start_time": "2022-02-25T21:00:04.771Z"
   },
   {
    "duration": 11,
    "start_time": "2022-02-25T21:00:08.154Z"
   },
   {
    "duration": 1589,
    "start_time": "2022-02-25T21:00:15.691Z"
   },
   {
    "duration": 1723,
    "start_time": "2022-02-25T21:00:28.727Z"
   },
   {
    "duration": 23,
    "start_time": "2022-02-25T21:09:37.874Z"
   },
   {
    "duration": 24,
    "start_time": "2022-02-25T21:10:34.917Z"
   },
   {
    "duration": 99,
    "start_time": "2022-02-25T21:11:58.936Z"
   },
   {
    "duration": 326,
    "start_time": "2022-02-25T21:12:03.377Z"
   },
   {
    "duration": 54,
    "start_time": "2022-02-25T21:12:19.390Z"
   },
   {
    "duration": 45,
    "start_time": "2022-02-25T21:12:34.086Z"
   },
   {
    "duration": 224,
    "start_time": "2022-02-25T21:14:39.312Z"
   },
   {
    "duration": 47,
    "start_time": "2022-02-25T21:14:52.977Z"
   },
   {
    "duration": 338,
    "start_time": "2022-02-25T21:31:01.456Z"
   },
   {
    "duration": 722,
    "start_time": "2022-02-27T11:20:40.826Z"
   },
   {
    "duration": 72,
    "start_time": "2022-02-27T11:20:41.550Z"
   },
   {
    "duration": 26,
    "start_time": "2022-02-27T11:20:41.624Z"
   },
   {
    "duration": 13,
    "start_time": "2022-02-27T11:20:41.652Z"
   },
   {
    "duration": 17,
    "start_time": "2022-02-27T11:20:41.667Z"
   },
   {
    "duration": 12,
    "start_time": "2022-02-27T11:20:41.686Z"
   },
   {
    "duration": 25,
    "start_time": "2022-02-27T11:20:41.699Z"
   },
   {
    "duration": 5,
    "start_time": "2022-02-27T11:20:41.725Z"
   },
   {
    "duration": 60,
    "start_time": "2022-02-27T11:20:41.732Z"
   },
   {
    "duration": 16,
    "start_time": "2022-02-27T11:20:41.795Z"
   },
   {
    "duration": 9,
    "start_time": "2022-02-27T11:20:41.813Z"
   },
   {
    "duration": 42,
    "start_time": "2022-02-27T11:20:41.824Z"
   },
   {
    "duration": 29,
    "start_time": "2022-02-27T11:20:41.868Z"
   },
   {
    "duration": 9,
    "start_time": "2022-02-27T11:20:41.898Z"
   },
   {
    "duration": 12,
    "start_time": "2022-02-27T11:20:41.909Z"
   },
   {
    "duration": 44,
    "start_time": "2022-02-27T11:20:41.923Z"
   },
   {
    "duration": 12,
    "start_time": "2022-02-27T11:20:41.969Z"
   },
   {
    "duration": 9,
    "start_time": "2022-02-27T11:20:41.983Z"
   },
   {
    "duration": 6,
    "start_time": "2022-02-27T11:20:41.994Z"
   },
   {
    "duration": 89,
    "start_time": "2022-02-27T11:20:42.002Z"
   },
   {
    "duration": 6,
    "start_time": "2022-02-27T11:20:42.093Z"
   },
   {
    "duration": 10,
    "start_time": "2022-02-27T11:20:42.101Z"
   },
   {
    "duration": 10,
    "start_time": "2022-02-27T11:20:42.113Z"
   },
   {
    "duration": 49,
    "start_time": "2022-02-27T11:20:42.124Z"
   },
   {
    "duration": 30,
    "start_time": "2022-02-27T11:20:42.174Z"
   },
   {
    "duration": 29,
    "start_time": "2022-02-27T11:20:42.205Z"
   },
   {
    "duration": 43,
    "start_time": "2022-02-27T11:20:42.238Z"
   },
   {
    "duration": 23,
    "start_time": "2022-02-27T11:20:42.284Z"
   },
   {
    "duration": 22,
    "start_time": "2022-02-27T11:20:42.309Z"
   },
   {
    "duration": 48,
    "start_time": "2022-02-27T11:20:42.333Z"
   },
   {
    "duration": 16,
    "start_time": "2022-02-27T11:20:42.383Z"
   },
   {
    "duration": 23,
    "start_time": "2022-02-27T11:20:42.401Z"
   },
   {
    "duration": 54,
    "start_time": "2022-02-27T11:20:42.426Z"
   },
   {
    "duration": 294,
    "start_time": "2022-02-27T11:20:42.482Z"
   },
   {
    "duration": 225,
    "start_time": "2022-02-27T11:20:42.778Z"
   },
   {
    "duration": 12,
    "start_time": "2022-02-27T11:20:43.004Z"
   },
   {
    "duration": 10,
    "start_time": "2022-02-27T11:20:43.018Z"
   },
   {
    "duration": 35,
    "start_time": "2022-02-27T11:20:43.030Z"
   },
   {
    "duration": 65,
    "start_time": "2022-02-27T11:20:43.066Z"
   },
   {
    "duration": 164,
    "start_time": "2022-02-27T11:20:43.132Z"
   },
   {
    "duration": 284,
    "start_time": "2022-02-27T11:20:43.297Z"
   },
   {
    "duration": 11,
    "start_time": "2022-02-27T11:20:43.583Z"
   },
   {
    "duration": 6,
    "start_time": "2022-02-27T11:20:43.596Z"
   },
   {
    "duration": 10,
    "start_time": "2022-02-27T11:20:43.603Z"
   },
   {
    "duration": 8,
    "start_time": "2022-02-27T11:20:43.617Z"
   },
   {
    "duration": 37,
    "start_time": "2022-02-27T11:20:43.627Z"
   },
   {
    "duration": 26,
    "start_time": "2022-02-27T11:20:43.666Z"
   },
   {
    "duration": 26,
    "start_time": "2022-02-27T11:20:43.693Z"
   },
   {
    "duration": 50,
    "start_time": "2022-02-27T11:20:43.721Z"
   },
   {
    "duration": 1487,
    "start_time": "2022-02-27T11:20:43.772Z"
   },
   {
    "duration": 43,
    "start_time": "2022-02-27T11:20:45.260Z"
   },
   {
    "duration": 31,
    "start_time": "2022-02-27T12:35:19.637Z"
   },
   {
    "duration": 30,
    "start_time": "2022-02-27T12:35:34.681Z"
   },
   {
    "duration": 301,
    "start_time": "2022-02-28T06:55:33.540Z"
   },
   {
    "duration": 636,
    "start_time": "2022-02-28T06:55:43.192Z"
   },
   {
    "duration": 447,
    "start_time": "2022-02-28T06:55:43.830Z"
   },
   {
    "duration": 22,
    "start_time": "2022-02-28T06:55:44.279Z"
   },
   {
    "duration": 8,
    "start_time": "2022-02-28T06:55:44.302Z"
   },
   {
    "duration": 14,
    "start_time": "2022-02-28T06:55:44.311Z"
   },
   {
    "duration": 10,
    "start_time": "2022-02-28T06:55:44.326Z"
   },
   {
    "duration": 19,
    "start_time": "2022-02-28T06:55:44.337Z"
   },
   {
    "duration": 4,
    "start_time": "2022-02-28T06:55:44.358Z"
   },
   {
    "duration": 48,
    "start_time": "2022-02-28T06:55:44.364Z"
   },
   {
    "duration": 14,
    "start_time": "2022-02-28T06:55:44.413Z"
   },
   {
    "duration": 8,
    "start_time": "2022-02-28T06:55:44.429Z"
   },
   {
    "duration": 12,
    "start_time": "2022-02-28T06:55:44.439Z"
   },
   {
    "duration": 23,
    "start_time": "2022-02-28T06:55:44.452Z"
   },
   {
    "duration": 34,
    "start_time": "2022-02-28T06:55:44.477Z"
   },
   {
    "duration": 8,
    "start_time": "2022-02-28T06:55:44.512Z"
   },
   {
    "duration": 17,
    "start_time": "2022-02-28T06:55:44.521Z"
   },
   {
    "duration": 10,
    "start_time": "2022-02-28T06:55:44.539Z"
   },
   {
    "duration": 8,
    "start_time": "2022-02-28T06:55:44.550Z"
   },
   {
    "duration": 5,
    "start_time": "2022-02-28T06:55:44.559Z"
   },
   {
    "duration": 84,
    "start_time": "2022-02-28T06:55:44.566Z"
   },
   {
    "duration": 5,
    "start_time": "2022-02-28T06:55:44.652Z"
   },
   {
    "duration": 9,
    "start_time": "2022-02-28T06:55:44.658Z"
   },
   {
    "duration": 6,
    "start_time": "2022-02-28T06:55:44.669Z"
   },
   {
    "duration": 40,
    "start_time": "2022-02-28T06:55:44.677Z"
   },
   {
    "duration": 21,
    "start_time": "2022-02-28T06:55:44.718Z"
   },
   {
    "duration": 23,
    "start_time": "2022-02-28T06:55:44.741Z"
   },
   {
    "duration": 40,
    "start_time": "2022-02-28T06:55:44.766Z"
   },
   {
    "duration": 22,
    "start_time": "2022-02-28T06:55:44.807Z"
   },
   {
    "duration": 20,
    "start_time": "2022-02-28T06:55:44.830Z"
   },
   {
    "duration": 21,
    "start_time": "2022-02-28T06:55:44.851Z"
   },
   {
    "duration": 41,
    "start_time": "2022-02-28T06:55:44.873Z"
   },
   {
    "duration": 20,
    "start_time": "2022-02-28T06:55:44.915Z"
   },
   {
    "duration": 21,
    "start_time": "2022-02-28T06:55:44.937Z"
   },
   {
    "duration": 11,
    "start_time": "2022-02-28T06:55:44.959Z"
   },
   {
    "duration": 272,
    "start_time": "2022-02-28T06:55:44.972Z"
   },
   {
    "duration": 197,
    "start_time": "2022-02-28T06:55:45.247Z"
   },
   {
    "duration": 9,
    "start_time": "2022-02-28T06:55:45.445Z"
   },
   {
    "duration": 12,
    "start_time": "2022-02-28T06:55:45.456Z"
   },
   {
    "duration": 16,
    "start_time": "2022-02-28T06:55:45.469Z"
   },
   {
    "duration": 62,
    "start_time": "2022-02-28T06:55:45.487Z"
   },
   {
    "duration": 134,
    "start_time": "2022-02-28T06:55:45.551Z"
   },
   {
    "duration": 242,
    "start_time": "2022-02-28T06:55:45.686Z"
   },
   {
    "duration": 9,
    "start_time": "2022-02-28T06:55:45.929Z"
   },
   {
    "duration": 6,
    "start_time": "2022-02-28T06:55:45.939Z"
   },
   {
    "duration": 6,
    "start_time": "2022-02-28T06:55:45.946Z"
   },
   {
    "duration": 9,
    "start_time": "2022-02-28T06:55:45.953Z"
   },
   {
    "duration": 14,
    "start_time": "2022-02-28T06:55:45.963Z"
   },
   {
    "duration": 45,
    "start_time": "2022-02-28T06:55:45.979Z"
   },
   {
    "duration": 21,
    "start_time": "2022-02-28T06:55:46.026Z"
   },
   {
    "duration": 25,
    "start_time": "2022-02-28T06:55:46.050Z"
   },
   {
    "duration": 1110,
    "start_time": "2022-02-28T06:55:46.076Z"
   },
   {
    "duration": 41,
    "start_time": "2022-02-28T06:55:47.188Z"
   },
   {
    "duration": 4,
    "start_time": "2022-02-28T07:01:30.453Z"
   },
   {
    "duration": 18,
    "start_time": "2022-02-28T07:03:16.381Z"
   },
   {
    "duration": 18,
    "start_time": "2022-02-28T07:05:08.357Z"
   },
   {
    "duration": 17,
    "start_time": "2022-02-28T07:05:46.924Z"
   },
   {
    "duration": 584,
    "start_time": "2022-02-28T08:48:54.764Z"
   },
   {
    "duration": 129,
    "start_time": "2022-02-28T08:48:55.350Z"
   },
   {
    "duration": 21,
    "start_time": "2022-02-28T08:48:55.481Z"
   },
   {
    "duration": 8,
    "start_time": "2022-02-28T08:48:55.503Z"
   },
   {
    "duration": 13,
    "start_time": "2022-02-28T08:48:55.513Z"
   },
   {
    "duration": 10,
    "start_time": "2022-02-28T08:48:55.528Z"
   },
   {
    "duration": 18,
    "start_time": "2022-02-28T08:48:55.539Z"
   },
   {
    "duration": 4,
    "start_time": "2022-02-28T08:48:55.559Z"
   },
   {
    "duration": 56,
    "start_time": "2022-02-28T08:48:55.565Z"
   },
   {
    "duration": 16,
    "start_time": "2022-02-28T08:48:55.622Z"
   },
   {
    "duration": 8,
    "start_time": "2022-02-28T08:48:55.639Z"
   },
   {
    "duration": 12,
    "start_time": "2022-02-28T08:48:55.649Z"
   },
   {
    "duration": 49,
    "start_time": "2022-02-28T08:48:55.663Z"
   },
   {
    "duration": 9,
    "start_time": "2022-02-28T08:48:55.713Z"
   },
   {
    "duration": 8,
    "start_time": "2022-02-28T08:48:55.723Z"
   },
   {
    "duration": 16,
    "start_time": "2022-02-28T08:48:55.733Z"
   },
   {
    "duration": 10,
    "start_time": "2022-02-28T08:48:55.750Z"
   },
   {
    "duration": 7,
    "start_time": "2022-02-28T08:48:55.762Z"
   },
   {
    "duration": 38,
    "start_time": "2022-02-28T08:48:55.771Z"
   },
   {
    "duration": 52,
    "start_time": "2022-02-28T08:48:55.811Z"
   },
   {
    "duration": 6,
    "start_time": "2022-02-28T08:48:55.865Z"
   },
   {
    "duration": 15,
    "start_time": "2022-02-28T08:48:55.872Z"
   },
   {
    "duration": 6,
    "start_time": "2022-02-28T08:48:55.907Z"
   },
   {
    "duration": 21,
    "start_time": "2022-02-28T08:48:55.915Z"
   },
   {
    "duration": 23,
    "start_time": "2022-02-28T08:48:55.938Z"
   },
   {
    "duration": 54,
    "start_time": "2022-02-28T08:48:55.962Z"
   },
   {
    "duration": 20,
    "start_time": "2022-02-28T08:48:56.018Z"
   },
   {
    "duration": 22,
    "start_time": "2022-02-28T08:48:56.039Z"
   },
   {
    "duration": 21,
    "start_time": "2022-02-28T08:48:56.062Z"
   },
   {
    "duration": 22,
    "start_time": "2022-02-28T08:48:56.106Z"
   },
   {
    "duration": 13,
    "start_time": "2022-02-28T08:48:56.129Z"
   },
   {
    "duration": 20,
    "start_time": "2022-02-28T08:48:56.143Z"
   },
   {
    "duration": 46,
    "start_time": "2022-02-28T08:48:56.165Z"
   },
   {
    "duration": 258,
    "start_time": "2022-02-28T08:48:56.212Z"
   },
   {
    "duration": 195,
    "start_time": "2022-02-28T08:48:56.472Z"
   },
   {
    "duration": 10,
    "start_time": "2022-02-28T08:48:56.669Z"
   },
   {
    "duration": 9,
    "start_time": "2022-02-28T08:48:56.680Z"
   },
   {
    "duration": 23,
    "start_time": "2022-02-28T08:48:56.690Z"
   },
   {
    "duration": 58,
    "start_time": "2022-02-28T08:48:56.714Z"
   },
   {
    "duration": 154,
    "start_time": "2022-02-28T08:48:56.774Z"
   },
   {
    "duration": 260,
    "start_time": "2022-02-28T08:48:56.930Z"
   },
   {
    "duration": 15,
    "start_time": "2022-02-28T08:48:57.191Z"
   },
   {
    "duration": 12,
    "start_time": "2022-02-28T08:48:57.208Z"
   },
   {
    "duration": 5,
    "start_time": "2022-02-28T08:48:57.222Z"
   },
   {
    "duration": 7,
    "start_time": "2022-02-28T08:48:57.228Z"
   },
   {
    "duration": 15,
    "start_time": "2022-02-28T08:48:57.236Z"
   },
   {
    "duration": 22,
    "start_time": "2022-02-28T08:48:57.253Z"
   },
   {
    "duration": 50,
    "start_time": "2022-02-28T08:48:57.277Z"
   },
   {
    "duration": 26,
    "start_time": "2022-02-28T08:48:57.328Z"
   },
   {
    "duration": 1446,
    "start_time": "2022-02-28T08:48:57.355Z"
   },
   {
    "duration": 39,
    "start_time": "2022-02-28T08:48:58.803Z"
   },
   {
    "duration": 332,
    "start_time": "2022-02-28T19:38:42.512Z"
   },
   {
    "duration": 1164,
    "start_time": "2022-02-28T19:38:47.058Z"
   },
   {
    "duration": 170,
    "start_time": "2022-02-28T19:38:48.224Z"
   },
   {
    "duration": 36,
    "start_time": "2022-02-28T19:38:48.397Z"
   },
   {
    "duration": 14,
    "start_time": "2022-02-28T19:38:48.435Z"
   },
   {
    "duration": 29,
    "start_time": "2022-02-28T19:38:48.451Z"
   },
   {
    "duration": 16,
    "start_time": "2022-02-28T19:38:48.483Z"
   },
   {
    "duration": 12,
    "start_time": "2022-02-28T19:38:48.501Z"
   },
   {
    "duration": 35,
    "start_time": "2022-02-28T19:38:48.553Z"
   },
   {
    "duration": 6,
    "start_time": "2022-02-28T19:38:48.591Z"
   },
   {
    "duration": 75,
    "start_time": "2022-02-28T19:38:48.600Z"
   },
   {
    "duration": 25,
    "start_time": "2022-02-28T19:38:48.677Z"
   },
   {
    "duration": 14,
    "start_time": "2022-02-28T19:38:48.704Z"
   },
   {
    "duration": 20,
    "start_time": "2022-02-28T19:38:48.752Z"
   },
   {
    "duration": 45,
    "start_time": "2022-02-28T19:38:48.774Z"
   },
   {
    "duration": 35,
    "start_time": "2022-02-28T19:38:48.821Z"
   },
   {
    "duration": 14,
    "start_time": "2022-02-28T19:38:48.858Z"
   },
   {
    "duration": 31,
    "start_time": "2022-02-28T19:38:48.875Z"
   },
   {
    "duration": 54,
    "start_time": "2022-02-28T19:38:48.908Z"
   },
   {
    "duration": 14,
    "start_time": "2022-02-28T19:38:48.965Z"
   },
   {
    "duration": 11,
    "start_time": "2022-02-28T19:38:48.981Z"
   },
   {
    "duration": 118,
    "start_time": "2022-02-28T19:38:48.994Z"
   },
   {
    "duration": 8,
    "start_time": "2022-02-28T19:38:49.115Z"
   },
   {
    "duration": 30,
    "start_time": "2022-02-28T19:38:49.129Z"
   },
   {
    "duration": 11,
    "start_time": "2022-02-28T19:38:49.162Z"
   },
   {
    "duration": 41,
    "start_time": "2022-02-28T19:38:49.175Z"
   },
   {
    "duration": 68,
    "start_time": "2022-02-28T19:38:49.218Z"
   },
   {
    "duration": 64,
    "start_time": "2022-02-28T19:38:49.288Z"
   },
   {
    "duration": 35,
    "start_time": "2022-02-28T19:38:49.354Z"
   },
   {
    "duration": 38,
    "start_time": "2022-02-28T19:38:49.391Z"
   },
   {
    "duration": 37,
    "start_time": "2022-02-28T19:38:49.451Z"
   },
   {
    "duration": 63,
    "start_time": "2022-02-28T19:38:49.490Z"
   },
   {
    "duration": 22,
    "start_time": "2022-02-28T19:38:49.555Z"
   },
   {
    "duration": 36,
    "start_time": "2022-02-28T19:38:49.580Z"
   },
   {
    "duration": 66,
    "start_time": "2022-02-28T19:38:49.618Z"
   },
   {
    "duration": 828,
    "start_time": "2022-02-28T19:38:49.687Z"
   },
   {
    "duration": 374,
    "start_time": "2022-02-28T19:38:50.518Z"
   },
   {
    "duration": 15,
    "start_time": "2022-02-28T19:38:50.895Z"
   },
   {
    "duration": 41,
    "start_time": "2022-02-28T19:38:50.913Z"
   },
   {
    "duration": 24,
    "start_time": "2022-02-28T19:38:50.957Z"
   },
   {
    "duration": 84,
    "start_time": "2022-02-28T19:38:50.983Z"
   },
   {
    "duration": 357,
    "start_time": "2022-02-28T19:38:51.071Z"
   },
   {
    "duration": 485,
    "start_time": "2022-02-28T19:38:51.431Z"
   },
   {
    "duration": 15,
    "start_time": "2022-02-28T19:38:51.919Z"
   },
   {
    "duration": 21,
    "start_time": "2022-02-28T19:38:51.953Z"
   },
   {
    "duration": 17,
    "start_time": "2022-02-28T19:38:51.976Z"
   },
   {
    "duration": 26,
    "start_time": "2022-02-28T19:38:51.995Z"
   },
   {
    "duration": 60,
    "start_time": "2022-02-28T19:38:52.024Z"
   },
   {
    "duration": 53,
    "start_time": "2022-02-28T19:38:52.086Z"
   },
   {
    "duration": 54,
    "start_time": "2022-02-28T19:38:52.142Z"
   },
   {
    "duration": 70,
    "start_time": "2022-02-28T19:38:52.199Z"
   },
   {
    "duration": 2387,
    "start_time": "2022-02-28T19:38:52.272Z"
   },
   {
    "duration": 95,
    "start_time": "2022-02-28T19:38:54.662Z"
   },
   {
    "duration": 832,
    "start_time": "2022-03-01T16:39:53.532Z"
   },
   {
    "duration": 233,
    "start_time": "2022-03-01T16:39:54.366Z"
   },
   {
    "duration": 43,
    "start_time": "2022-03-01T16:39:54.603Z"
   },
   {
    "duration": 15,
    "start_time": "2022-03-01T16:39:54.648Z"
   },
   {
    "duration": 41,
    "start_time": "2022-03-01T16:39:54.665Z"
   },
   {
    "duration": 20,
    "start_time": "2022-03-01T16:39:54.709Z"
   },
   {
    "duration": 15,
    "start_time": "2022-03-01T16:39:54.732Z"
   },
   {
    "duration": 42,
    "start_time": "2022-03-01T16:39:54.785Z"
   },
   {
    "duration": 6,
    "start_time": "2022-03-01T16:39:54.830Z"
   },
   {
    "duration": 88,
    "start_time": "2022-03-01T16:39:54.839Z"
   },
   {
    "duration": 26,
    "start_time": "2022-03-01T16:39:54.930Z"
   },
   {
    "duration": 39,
    "start_time": "2022-03-01T16:39:54.959Z"
   },
   {
    "duration": 25,
    "start_time": "2022-03-01T16:39:55.001Z"
   },
   {
    "duration": 79,
    "start_time": "2022-03-01T16:39:55.028Z"
   },
   {
    "duration": 17,
    "start_time": "2022-03-01T16:39:55.110Z"
   },
   {
    "duration": 15,
    "start_time": "2022-03-01T16:39:55.130Z"
   },
   {
    "duration": 62,
    "start_time": "2022-03-01T16:39:55.148Z"
   },
   {
    "duration": 18,
    "start_time": "2022-03-01T16:39:55.212Z"
   },
   {
    "duration": 12,
    "start_time": "2022-03-01T16:39:55.232Z"
   },
   {
    "duration": 43,
    "start_time": "2022-03-01T16:39:55.246Z"
   },
   {
    "duration": 111,
    "start_time": "2022-03-01T16:39:55.292Z"
   },
   {
    "duration": 9,
    "start_time": "2022-03-01T16:39:55.406Z"
   },
   {
    "duration": 19,
    "start_time": "2022-03-01T16:39:55.422Z"
   },
   {
    "duration": 12,
    "start_time": "2022-03-01T16:39:55.444Z"
   },
   {
    "duration": 46,
    "start_time": "2022-03-01T16:39:55.483Z"
   },
   {
    "duration": 67,
    "start_time": "2022-03-01T16:39:55.532Z"
   },
   {
    "duration": 48,
    "start_time": "2022-03-01T16:39:55.601Z"
   },
   {
    "duration": 65,
    "start_time": "2022-03-01T16:39:55.651Z"
   },
   {
    "duration": 42,
    "start_time": "2022-03-01T16:39:55.719Z"
   },
   {
    "duration": 61,
    "start_time": "2022-03-01T16:39:55.763Z"
   },
   {
    "duration": 72,
    "start_time": "2022-03-01T16:39:55.827Z"
   },
   {
    "duration": 28,
    "start_time": "2022-03-01T16:39:55.902Z"
   },
   {
    "duration": 58,
    "start_time": "2022-03-01T16:39:55.932Z"
   },
   {
    "duration": 44,
    "start_time": "2022-03-01T16:39:55.993Z"
   },
   {
    "duration": 965,
    "start_time": "2022-03-01T16:39:56.039Z"
   },
   {
    "duration": 437,
    "start_time": "2022-03-01T16:39:57.008Z"
   },
   {
    "duration": 36,
    "start_time": "2022-03-01T16:39:57.448Z"
   },
   {
    "duration": 19,
    "start_time": "2022-03-01T16:39:57.487Z"
   },
   {
    "duration": 28,
    "start_time": "2022-03-01T16:39:57.509Z"
   },
   {
    "duration": 103,
    "start_time": "2022-03-01T16:39:57.539Z"
   },
   {
    "duration": 274,
    "start_time": "2022-03-01T16:39:57.645Z"
   },
   {
    "duration": 489,
    "start_time": "2022-03-01T16:39:57.922Z"
   },
   {
    "duration": 19,
    "start_time": "2022-03-01T16:39:58.414Z"
   },
   {
    "duration": 11,
    "start_time": "2022-03-01T16:39:58.436Z"
   },
   {
    "duration": 38,
    "start_time": "2022-03-01T16:39:58.449Z"
   },
   {
    "duration": 17,
    "start_time": "2022-03-01T16:39:58.490Z"
   },
   {
    "duration": 32,
    "start_time": "2022-03-01T16:39:58.510Z"
   },
   {
    "duration": 76,
    "start_time": "2022-03-01T16:39:58.544Z"
   },
   {
    "duration": 61,
    "start_time": "2022-03-01T16:39:58.623Z"
   },
   {
    "duration": 56,
    "start_time": "2022-03-01T16:39:58.687Z"
   },
   {
    "duration": 2261,
    "start_time": "2022-03-01T16:39:58.746Z"
   },
   {
    "duration": 86,
    "start_time": "2022-03-01T16:40:01.011Z"
   },
   {
    "duration": 833,
    "start_time": "2022-03-01T16:43:23.435Z"
   },
   {
    "duration": 94,
    "start_time": "2022-03-01T16:43:24.270Z"
   },
   {
    "duration": 39,
    "start_time": "2022-03-01T16:43:24.367Z"
   },
   {
    "duration": 17,
    "start_time": "2022-03-01T16:43:24.410Z"
   },
   {
    "duration": 27,
    "start_time": "2022-03-01T16:43:24.429Z"
   },
   {
    "duration": 43,
    "start_time": "2022-03-01T16:43:24.458Z"
   },
   {
    "duration": 16,
    "start_time": "2022-03-01T16:43:24.504Z"
   },
   {
    "duration": 63,
    "start_time": "2022-03-01T16:43:24.524Z"
   },
   {
    "duration": 8,
    "start_time": "2022-03-01T16:43:24.590Z"
   },
   {
    "duration": 57,
    "start_time": "2022-03-01T16:43:24.601Z"
   },
   {
    "duration": 19,
    "start_time": "2022-03-01T16:43:26.398Z"
   },
   {
    "duration": 894,
    "start_time": "2022-03-01T16:46:01.200Z"
   },
   {
    "duration": 110,
    "start_time": "2022-03-01T16:46:02.097Z"
   },
   {
    "duration": 42,
    "start_time": "2022-03-01T16:46:02.215Z"
   },
   {
    "duration": 24,
    "start_time": "2022-03-01T16:46:02.261Z"
   },
   {
    "duration": 61,
    "start_time": "2022-03-01T16:46:02.288Z"
   },
   {
    "duration": 48,
    "start_time": "2022-03-01T16:46:02.352Z"
   },
   {
    "duration": 50,
    "start_time": "2022-03-01T16:46:02.404Z"
   },
   {
    "duration": 74,
    "start_time": "2022-03-01T16:46:02.458Z"
   },
   {
    "duration": 8,
    "start_time": "2022-03-01T16:46:02.536Z"
   },
   {
    "duration": 87,
    "start_time": "2022-03-01T16:46:02.547Z"
   },
   {
    "duration": 17,
    "start_time": "2022-03-01T16:46:02.637Z"
   },
   {
    "duration": 61,
    "start_time": "2022-03-01T16:46:02.656Z"
   },
   {
    "duration": 61,
    "start_time": "2022-03-01T16:46:02.720Z"
   },
   {
    "duration": 53,
    "start_time": "2022-03-01T16:46:02.784Z"
   },
   {
    "duration": 13,
    "start_time": "2022-03-01T16:46:02.840Z"
   },
   {
    "duration": 45,
    "start_time": "2022-03-01T16:46:02.856Z"
   },
   {
    "duration": 37,
    "start_time": "2022-03-01T16:46:02.904Z"
   },
   {
    "duration": 40,
    "start_time": "2022-03-01T16:46:02.944Z"
   },
   {
    "duration": 21,
    "start_time": "2022-03-01T16:46:02.987Z"
   },
   {
    "duration": 15,
    "start_time": "2022-03-01T16:46:03.011Z"
   },
   {
    "duration": 120,
    "start_time": "2022-03-01T16:46:03.029Z"
   },
   {
    "duration": 9,
    "start_time": "2022-03-01T16:46:03.151Z"
   },
   {
    "duration": 9,
    "start_time": "2022-03-01T16:51:02.347Z"
   },
   {
    "duration": 12,
    "start_time": "2022-03-01T16:51:36.960Z"
   },
   {
    "duration": 13,
    "start_time": "2022-03-01T16:51:44.247Z"
   },
   {
    "duration": 11,
    "start_time": "2022-03-01T16:52:01.021Z"
   },
   {
    "duration": 12,
    "start_time": "2022-03-01T16:52:15.957Z"
   },
   {
    "duration": 14,
    "start_time": "2022-03-01T16:52:28.644Z"
   },
   {
    "duration": 8,
    "start_time": "2022-03-01T16:52:38.040Z"
   },
   {
    "duration": 787,
    "start_time": "2022-03-01T16:59:27.938Z"
   },
   {
    "duration": 98,
    "start_time": "2022-03-01T16:59:28.727Z"
   },
   {
    "duration": 54,
    "start_time": "2022-03-01T16:59:28.828Z"
   },
   {
    "duration": 17,
    "start_time": "2022-03-01T16:59:28.885Z"
   },
   {
    "duration": 28,
    "start_time": "2022-03-01T16:59:28.905Z"
   },
   {
    "duration": 50,
    "start_time": "2022-03-01T16:59:28.935Z"
   },
   {
    "duration": 16,
    "start_time": "2022-03-01T16:59:28.988Z"
   },
   {
    "duration": 34,
    "start_time": "2022-03-01T16:59:29.007Z"
   },
   {
    "duration": 40,
    "start_time": "2022-03-01T16:59:29.044Z"
   },
   {
    "duration": 63,
    "start_time": "2022-03-01T16:59:29.088Z"
   },
   {
    "duration": 44,
    "start_time": "2022-03-01T16:59:29.155Z"
   },
   {
    "duration": 14,
    "start_time": "2022-03-01T16:59:29.202Z"
   },
   {
    "duration": 19,
    "start_time": "2022-03-01T16:59:29.218Z"
   },
   {
    "duration": 72,
    "start_time": "2022-03-01T16:59:29.239Z"
   },
   {
    "duration": 13,
    "start_time": "2022-03-01T16:59:29.314Z"
   },
   {
    "duration": 14,
    "start_time": "2022-03-01T16:59:29.330Z"
   },
   {
    "duration": 54,
    "start_time": "2022-03-01T16:59:29.347Z"
   },
   {
    "duration": 16,
    "start_time": "2022-03-01T16:59:29.403Z"
   },
   {
    "duration": 15,
    "start_time": "2022-03-01T16:59:29.421Z"
   },
   {
    "duration": 8,
    "start_time": "2022-03-01T16:59:29.439Z"
   },
   {
    "duration": 113,
    "start_time": "2022-03-01T16:59:29.449Z"
   },
   {
    "duration": 11,
    "start_time": "2022-03-01T16:59:29.581Z"
   },
   {
    "duration": 12,
    "start_time": "2022-03-01T16:59:29.597Z"
   },
   {
    "duration": 9,
    "start_time": "2022-03-01T16:59:29.611Z"
   },
   {
    "duration": 11,
    "start_time": "2022-03-01T16:59:29.622Z"
   },
   {
    "duration": 54,
    "start_time": "2022-03-01T16:59:29.635Z"
   },
   {
    "duration": 57,
    "start_time": "2022-03-01T16:59:29.692Z"
   },
   {
    "duration": 63,
    "start_time": "2022-03-01T16:59:29.753Z"
   },
   {
    "duration": 67,
    "start_time": "2022-03-01T16:59:29.819Z"
   },
   {
    "duration": 36,
    "start_time": "2022-03-01T16:59:29.889Z"
   },
   {
    "duration": 70,
    "start_time": "2022-03-01T16:59:29.928Z"
   },
   {
    "duration": 42,
    "start_time": "2022-03-01T16:59:30.000Z"
   },
   {
    "duration": 70,
    "start_time": "2022-03-01T16:59:30.044Z"
   },
   {
    "duration": 24,
    "start_time": "2022-03-01T16:59:30.116Z"
   },
   {
    "duration": 79,
    "start_time": "2022-03-01T16:59:30.142Z"
   },
   {
    "duration": 61,
    "start_time": "2022-03-01T16:59:30.225Z"
   },
   {
    "duration": 456,
    "start_time": "2022-03-01T16:59:32.033Z"
   },
   {
    "duration": 4,
    "start_time": "2022-03-01T17:01:47.226Z"
   },
   {
    "duration": 438,
    "start_time": "2022-03-01T17:02:30.939Z"
   },
   {
    "duration": 273,
    "start_time": "2022-03-01T17:13:16.982Z"
   },
   {
    "duration": 18,
    "start_time": "2022-03-01T17:13:27.609Z"
   },
   {
    "duration": 350,
    "start_time": "2022-03-01T17:13:47.015Z"
   },
   {
    "duration": 58,
    "start_time": "2022-03-01T17:14:12.877Z"
   },
   {
    "duration": 485,
    "start_time": "2022-03-01T17:14:15.557Z"
   },
   {
    "duration": 19,
    "start_time": "2022-03-01T17:14:23.894Z"
   },
   {
    "duration": 22,
    "start_time": "2022-03-01T17:14:28.411Z"
   },
   {
    "duration": 345,
    "start_time": "2022-03-01T17:19:15.624Z"
   },
   {
    "duration": 348,
    "start_time": "2022-03-01T17:19:37.065Z"
   },
   {
    "duration": 349,
    "start_time": "2022-03-01T17:20:09.227Z"
   },
   {
    "duration": 462,
    "start_time": "2022-03-01T17:20:21.083Z"
   },
   {
    "duration": 63,
    "start_time": "2022-03-01T17:20:45.551Z"
   },
   {
    "duration": 44,
    "start_time": "2022-03-01T17:21:43.028Z"
   },
   {
    "duration": 195,
    "start_time": "2022-03-01T17:22:07.603Z"
   },
   {
    "duration": 12,
    "start_time": "2022-03-01T17:22:22.666Z"
   },
   {
    "duration": 47,
    "start_time": "2022-03-01T17:23:06.930Z"
   },
   {
    "duration": 43,
    "start_time": "2022-03-01T17:24:06.434Z"
   },
   {
    "duration": 33,
    "start_time": "2022-03-01T17:24:19.819Z"
   },
   {
    "duration": 46,
    "start_time": "2022-03-01T17:27:35.169Z"
   },
   {
    "duration": 789,
    "start_time": "2022-03-01T21:07:53.718Z"
   },
   {
    "duration": 78,
    "start_time": "2022-03-01T21:07:54.509Z"
   },
   {
    "duration": 29,
    "start_time": "2022-03-01T21:07:54.589Z"
   },
   {
    "duration": 9,
    "start_time": "2022-03-01T21:07:54.620Z"
   },
   {
    "duration": 20,
    "start_time": "2022-03-01T21:07:54.631Z"
   },
   {
    "duration": 14,
    "start_time": "2022-03-01T21:07:54.653Z"
   },
   {
    "duration": 37,
    "start_time": "2022-03-01T21:07:54.668Z"
   },
   {
    "duration": 25,
    "start_time": "2022-03-01T21:07:54.708Z"
   },
   {
    "duration": 6,
    "start_time": "2022-03-01T21:07:54.736Z"
   },
   {
    "duration": 63,
    "start_time": "2022-03-01T21:07:54.744Z"
   },
   {
    "duration": 11,
    "start_time": "2022-03-01T21:07:54.809Z"
   },
   {
    "duration": 10,
    "start_time": "2022-03-01T21:07:54.822Z"
   },
   {
    "duration": 16,
    "start_time": "2022-03-01T21:07:54.834Z"
   },
   {
    "duration": 61,
    "start_time": "2022-03-01T21:07:54.852Z"
   },
   {
    "duration": 11,
    "start_time": "2022-03-01T21:07:54.914Z"
   },
   {
    "duration": 12,
    "start_time": "2022-03-01T21:07:54.927Z"
   },
   {
    "duration": 23,
    "start_time": "2022-03-01T21:07:54.941Z"
   },
   {
    "duration": 37,
    "start_time": "2022-03-01T21:07:54.966Z"
   },
   {
    "duration": 12,
    "start_time": "2022-03-01T21:07:55.005Z"
   },
   {
    "duration": 7,
    "start_time": "2022-03-01T21:07:55.019Z"
   },
   {
    "duration": 88,
    "start_time": "2022-03-01T21:07:55.028Z"
   },
   {
    "duration": 7,
    "start_time": "2022-03-01T21:07:55.118Z"
   },
   {
    "duration": 9,
    "start_time": "2022-03-01T21:07:55.129Z"
   },
   {
    "duration": 9,
    "start_time": "2022-03-01T21:07:55.141Z"
   },
   {
    "duration": 8,
    "start_time": "2022-03-01T21:07:55.152Z"
   },
   {
    "duration": 43,
    "start_time": "2022-03-01T21:07:55.162Z"
   },
   {
    "duration": 27,
    "start_time": "2022-03-01T21:07:55.207Z"
   },
   {
    "duration": 31,
    "start_time": "2022-03-01T21:07:55.236Z"
   },
   {
    "duration": 59,
    "start_time": "2022-03-01T21:07:55.269Z"
   },
   {
    "duration": 25,
    "start_time": "2022-03-01T21:07:55.330Z"
   },
   {
    "duration": 48,
    "start_time": "2022-03-01T21:07:55.357Z"
   },
   {
    "duration": 24,
    "start_time": "2022-03-01T21:07:55.407Z"
   },
   {
    "duration": 26,
    "start_time": "2022-03-01T21:07:55.433Z"
   },
   {
    "duration": 50,
    "start_time": "2022-03-01T21:07:55.461Z"
   },
   {
    "duration": 25,
    "start_time": "2022-03-01T21:07:55.512Z"
   },
   {
    "duration": 26,
    "start_time": "2022-03-01T21:07:55.538Z"
   },
   {
    "duration": 312,
    "start_time": "2022-03-01T21:07:55.566Z"
   },
   {
    "duration": 27,
    "start_time": "2022-03-01T21:07:55.880Z"
   },
   {
    "duration": 235,
    "start_time": "2022-03-01T21:07:55.909Z"
   },
   {
    "duration": 13,
    "start_time": "2022-03-01T21:07:56.146Z"
   },
   {
    "duration": 11,
    "start_time": "2022-03-01T21:07:56.161Z"
   },
   {
    "duration": 36,
    "start_time": "2022-03-01T21:07:56.174Z"
   },
   {
    "duration": 70,
    "start_time": "2022-03-01T21:07:56.212Z"
   },
   {
    "duration": 177,
    "start_time": "2022-03-01T21:07:56.284Z"
   },
   {
    "duration": 302,
    "start_time": "2022-03-01T21:07:56.463Z"
   },
   {
    "duration": 12,
    "start_time": "2022-03-01T21:07:56.767Z"
   },
   {
    "duration": 28,
    "start_time": "2022-03-01T21:07:56.781Z"
   },
   {
    "duration": 24,
    "start_time": "2022-03-01T21:07:56.810Z"
   },
   {
    "duration": 24,
    "start_time": "2022-03-01T21:07:56.836Z"
   },
   {
    "duration": 30,
    "start_time": "2022-03-01T21:07:56.862Z"
   },
   {
    "duration": 43,
    "start_time": "2022-03-01T21:07:56.894Z"
   },
   {
    "duration": 29,
    "start_time": "2022-03-01T21:07:56.939Z"
   },
   {
    "duration": 41,
    "start_time": "2022-03-01T21:07:56.970Z"
   },
   {
    "duration": 1515,
    "start_time": "2022-03-01T21:07:57.013Z"
   },
   {
    "duration": 43,
    "start_time": "2022-03-01T21:07:58.530Z"
   },
   {
    "duration": 680,
    "start_time": "2022-03-03T14:40:39.157Z"
   },
   {
    "duration": 848,
    "start_time": "2022-03-03T14:40:43.146Z"
   },
   {
    "duration": 121,
    "start_time": "2022-03-03T14:40:43.997Z"
   },
   {
    "duration": 41,
    "start_time": "2022-03-03T14:40:44.121Z"
   },
   {
    "duration": 15,
    "start_time": "2022-03-03T14:40:44.165Z"
   },
   {
    "duration": 50,
    "start_time": "2022-03-03T14:40:44.183Z"
   },
   {
    "duration": 20,
    "start_time": "2022-03-03T14:40:44.236Z"
   },
   {
    "duration": 17,
    "start_time": "2022-03-03T14:40:44.259Z"
   },
   {
    "duration": 84,
    "start_time": "2022-03-03T14:40:44.281Z"
   },
   {
    "duration": 8,
    "start_time": "2022-03-03T14:40:44.369Z"
   },
   {
    "duration": 96,
    "start_time": "2022-03-03T14:40:44.380Z"
   },
   {
    "duration": 15,
    "start_time": "2022-03-03T14:40:44.478Z"
   },
   {
    "duration": 49,
    "start_time": "2022-03-03T14:40:44.495Z"
   },
   {
    "duration": 32,
    "start_time": "2022-03-03T14:40:44.547Z"
   },
   {
    "duration": 54,
    "start_time": "2022-03-03T14:40:44.582Z"
   },
   {
    "duration": 18,
    "start_time": "2022-03-03T14:40:44.639Z"
   },
   {
    "duration": 18,
    "start_time": "2022-03-03T14:40:44.660Z"
   },
   {
    "duration": 76,
    "start_time": "2022-03-03T14:40:44.680Z"
   },
   {
    "duration": 18,
    "start_time": "2022-03-03T14:40:44.758Z"
   },
   {
    "duration": 15,
    "start_time": "2022-03-03T14:40:44.779Z"
   },
   {
    "duration": 45,
    "start_time": "2022-03-03T14:40:44.796Z"
   },
   {
    "duration": 151,
    "start_time": "2022-03-03T14:40:44.844Z"
   },
   {
    "duration": 8,
    "start_time": "2022-03-03T14:40:44.998Z"
   },
   {
    "duration": 37,
    "start_time": "2022-03-03T14:40:45.011Z"
   },
   {
    "duration": 32,
    "start_time": "2022-03-03T14:40:45.051Z"
   },
   {
    "duration": 29,
    "start_time": "2022-03-03T14:40:45.087Z"
   },
   {
    "duration": 22,
    "start_time": "2022-03-03T14:40:45.119Z"
   },
   {
    "duration": 57,
    "start_time": "2022-03-03T14:40:45.144Z"
   },
   {
    "duration": 57,
    "start_time": "2022-03-03T14:40:45.204Z"
   },
   {
    "duration": 48,
    "start_time": "2022-03-03T14:40:45.264Z"
   },
   {
    "duration": 57,
    "start_time": "2022-03-03T14:40:45.315Z"
   },
   {
    "duration": 39,
    "start_time": "2022-03-03T14:40:45.374Z"
   },
   {
    "duration": 40,
    "start_time": "2022-03-03T14:40:45.433Z"
   },
   {
    "duration": 77,
    "start_time": "2022-03-03T14:40:45.475Z"
   },
   {
    "duration": 37,
    "start_time": "2022-03-03T14:40:45.555Z"
   },
   {
    "duration": 61,
    "start_time": "2022-03-03T14:40:45.595Z"
   },
   {
    "duration": 56,
    "start_time": "2022-03-03T14:40:45.661Z"
   },
   {
    "duration": 741,
    "start_time": "2022-03-03T14:40:45.720Z"
   },
   {
    "duration": 33,
    "start_time": "2022-03-03T14:40:46.464Z"
   },
   {
    "duration": 44,
    "start_time": "2022-03-03T14:40:47.098Z"
   },
   {
    "duration": 26,
    "start_time": "2022-03-03T14:41:05.970Z"
   },
   {
    "duration": 322,
    "start_time": "2022-03-03T14:42:17.427Z"
   },
   {
    "duration": 23,
    "start_time": "2022-03-03T14:42:31.861Z"
   },
   {
    "duration": 27,
    "start_time": "2022-03-03T14:42:34.284Z"
   },
   {
    "duration": 538,
    "start_time": "2022-03-03T14:42:47.841Z"
   },
   {
    "duration": 336,
    "start_time": "2022-03-03T14:42:56.300Z"
   },
   {
    "duration": 954,
    "start_time": "2022-03-03T14:45:38.458Z"
   },
   {
    "duration": 134,
    "start_time": "2022-03-03T14:45:39.415Z"
   },
   {
    "duration": 38,
    "start_time": "2022-03-03T14:45:39.552Z"
   },
   {
    "duration": 14,
    "start_time": "2022-03-03T14:45:39.593Z"
   },
   {
    "duration": 46,
    "start_time": "2022-03-03T14:45:39.609Z"
   },
   {
    "duration": 26,
    "start_time": "2022-03-03T14:45:39.659Z"
   },
   {
    "duration": 13,
    "start_time": "2022-03-03T14:45:39.688Z"
   },
   {
    "duration": 78,
    "start_time": "2022-03-03T14:45:39.704Z"
   },
   {
    "duration": 7,
    "start_time": "2022-03-03T14:45:39.787Z"
   },
   {
    "duration": 90,
    "start_time": "2022-03-03T14:45:39.797Z"
   },
   {
    "duration": 24,
    "start_time": "2022-03-03T14:45:39.890Z"
   },
   {
    "duration": 43,
    "start_time": "2022-03-03T14:45:39.917Z"
   },
   {
    "duration": 31,
    "start_time": "2022-03-03T14:45:39.963Z"
   },
   {
    "duration": 75,
    "start_time": "2022-03-03T14:45:39.997Z"
   },
   {
    "duration": 20,
    "start_time": "2022-03-03T14:45:40.077Z"
   },
   {
    "duration": 13,
    "start_time": "2022-03-03T14:45:40.099Z"
   },
   {
    "duration": 63,
    "start_time": "2022-03-03T14:45:40.114Z"
   },
   {
    "duration": 22,
    "start_time": "2022-03-03T14:45:40.181Z"
   },
   {
    "duration": 44,
    "start_time": "2022-03-03T14:45:40.206Z"
   },
   {
    "duration": 12,
    "start_time": "2022-03-03T14:45:40.253Z"
   },
   {
    "duration": 109,
    "start_time": "2022-03-03T14:45:40.268Z"
   },
   {
    "duration": 9,
    "start_time": "2022-03-03T14:45:40.379Z"
   },
   {
    "duration": 41,
    "start_time": "2022-03-03T14:45:40.391Z"
   },
   {
    "duration": 9,
    "start_time": "2022-03-03T14:45:40.435Z"
   },
   {
    "duration": 20,
    "start_time": "2022-03-03T14:45:40.446Z"
   },
   {
    "duration": 11,
    "start_time": "2022-03-03T14:45:40.468Z"
   },
   {
    "duration": 84,
    "start_time": "2022-03-03T14:45:40.493Z"
   },
   {
    "duration": 92,
    "start_time": "2022-03-03T14:45:40.580Z"
   },
   {
    "duration": 101,
    "start_time": "2022-03-03T14:45:40.674Z"
   },
   {
    "duration": 53,
    "start_time": "2022-03-03T14:45:40.832Z"
   },
   {
    "duration": 99,
    "start_time": "2022-03-03T14:45:40.887Z"
   },
   {
    "duration": 86,
    "start_time": "2022-03-03T14:45:40.988Z"
   },
   {
    "duration": 170,
    "start_time": "2022-03-03T14:45:41.076Z"
   },
   {
    "duration": 90,
    "start_time": "2022-03-03T14:45:41.253Z"
   },
   {
    "duration": 112,
    "start_time": "2022-03-03T14:45:41.346Z"
   },
   {
    "duration": 108,
    "start_time": "2022-03-03T14:45:41.461Z"
   },
   {
    "duration": 617,
    "start_time": "2022-03-03T14:45:41.572Z"
   },
   {
    "duration": 22,
    "start_time": "2022-03-03T14:45:42.192Z"
   },
   {
    "duration": 366,
    "start_time": "2022-03-03T14:45:42.233Z"
   },
   {
    "duration": 444,
    "start_time": "2022-03-03T14:45:42.601Z"
   },
   {
    "duration": 22,
    "start_time": "2022-03-03T14:45:43.049Z"
   },
   {
    "duration": 21,
    "start_time": "2022-03-03T14:45:43.074Z"
   },
   {
    "duration": 69,
    "start_time": "2022-03-03T14:45:43.097Z"
   },
   {
    "duration": 33,
    "start_time": "2022-03-03T14:45:43.169Z"
   },
   {
    "duration": 355,
    "start_time": "2022-03-03T14:45:43.204Z"
   },
   {
    "duration": 645,
    "start_time": "2022-03-03T14:45:43.562Z"
   },
   {
    "duration": 37,
    "start_time": "2022-03-03T14:45:44.210Z"
   },
   {
    "duration": 29,
    "start_time": "2022-03-03T14:45:44.249Z"
   },
   {
    "duration": 28,
    "start_time": "2022-03-03T14:45:44.281Z"
   },
   {
    "duration": 21,
    "start_time": "2022-03-03T14:45:44.311Z"
   },
   {
    "duration": 43,
    "start_time": "2022-03-03T14:45:44.334Z"
   },
   {
    "duration": 41,
    "start_time": "2022-03-03T14:45:44.380Z"
   },
   {
    "duration": 47,
    "start_time": "2022-03-03T14:45:44.424Z"
   },
   {
    "duration": 83,
    "start_time": "2022-03-03T14:45:44.474Z"
   },
   {
    "duration": 3089,
    "start_time": "2022-03-03T14:45:44.561Z"
   },
   {
    "duration": 100,
    "start_time": "2022-03-03T14:45:47.653Z"
   }
  ],
  "colab": {
   "name": "DA+. Сборный проект 1. Шаблон (1).ipynb",
   "provenance": []
  },
  "kernelspec": {
   "display_name": "Python 3 (ipykernel)",
   "language": "python",
   "name": "python3"
  },
  "language_info": {
   "codemirror_mode": {
    "name": "ipython",
    "version": 3
   },
   "file_extension": ".py",
   "mimetype": "text/x-python",
   "name": "python",
   "nbconvert_exporter": "python",
   "pygments_lexer": "ipython3",
   "version": "3.9.7"
  },
  "toc": {
   "base_numbering": "1",
   "nav_menu": {
    "height": "295px",
    "width": "502px"
   },
   "number_sections": true,
   "sideBar": true,
   "skip_h1_title": true,
   "title_cell": "Contents",
   "title_sidebar": "Contents",
   "toc_cell": true,
   "toc_position": {
    "height": "calc(100% - 180px)",
    "left": "10px",
    "top": "150px",
    "width": "269px"
   },
   "toc_section_display": true,
   "toc_window_display": true
  }
 },
 "nbformat": 4,
 "nbformat_minor": 1
}
