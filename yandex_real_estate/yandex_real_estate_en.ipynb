{
 "cells": [
  {
   "cell_type": "markdown",
   "metadata": {},
   "source": [
    "# Apartment sale advertisements research \n",
    "\n",
    "We have at our disposal Yandex.Realty service data - an sale ads archive for the apartments in St. Petersburg and neighboring settlements for several years. We need to learn how to determine the real estate market value. Our task is to set the parameters. This will allow to build an automated system: it will track anomalies and fraudulent activity.\n",
    "\n",
    "Two types of data are available for each apartment for sale. The first ones are entered by the user, the second ones are obtained automatically on the basis of cartographic data. For example, the distance to the center, airport, nearest park and pond."
   ]
  },
  {
   "cell_type": "markdown",
   "metadata": {
    "toc": true
   },
   "source": [
    "<h1>Contents<span class=\"tocSkip\"></span></h1>\n",
    "<div class=\"toc\"><ul class=\"toc-item\"><li><span><a href=\"#Introduction-to-data\" data-toc-modified-id=\"Introduction-to-data-1\"><span class=\"toc-item-num\">1&nbsp;&nbsp;</span>Introduction to data</a></span><ul class=\"toc-item\"><li><span><a href=\"#Conclusion\" data-toc-modified-id=\"Conclusion-1.1\"><span class=\"toc-item-num\">1.1&nbsp;&nbsp;</span>Conclusion</a></span></li></ul></li><li><span><a href=\"#Data-preprocessing\" data-toc-modified-id=\"Data-preprocessing-2\"><span class=\"toc-item-num\">2&nbsp;&nbsp;</span>Data preprocessing</a></span><ul class=\"toc-item\"><li><span><a href=\"#Deleting-columns\" data-toc-modified-id=\"Deleting-columns-2.1\"><span class=\"toc-item-num\">2.1&nbsp;&nbsp;</span>Deleting columns</a></span></li><li><span><a href=\"#Gaps\" data-toc-modified-id=\"Gaps-2.2\"><span class=\"toc-item-num\">2.2&nbsp;&nbsp;</span>Gaps</a></span></li><li><span><a href=\"#Changing-the-data-types\" data-toc-modified-id=\"Changing-the-data-types-2.3\"><span class=\"toc-item-num\">2.3&nbsp;&nbsp;</span>Changing the data types</a></span></li><li><span><a href=\"#Duplicates\" data-toc-modified-id=\"Duplicates-2.4\"><span class=\"toc-item-num\">2.4&nbsp;&nbsp;</span>Duplicates</a></span></li><li><span><a href=\"#Conclusion\" data-toc-modified-id=\"Conclusion-2.5\"><span class=\"toc-item-num\">2.5&nbsp;&nbsp;</span>Conclusion</a></span></li></ul></li><li><span><a href=\"#Adding-data\" data-toc-modified-id=\"Adding-data-3\"><span class=\"toc-item-num\">3&nbsp;&nbsp;</span>Adding data</a></span><ul class=\"toc-item\"><li><span><a href=\"#Conclusion\" data-toc-modified-id=\"Conclusion-3.1\"><span class=\"toc-item-num\">3.1&nbsp;&nbsp;</span>Conclusion</a></span></li></ul></li><li><span><a href=\"#Exploratory-data-analysis\" data-toc-modified-id=\"Exploratory-data-analysis-4\"><span class=\"toc-item-num\">4&nbsp;&nbsp;</span>Exploratory data analysis</a></span><ul class=\"toc-item\"><li><span><a href=\"#Statistical-outliers-processing\" data-toc-modified-id=\"Statistical-outliers-processing-4.1\"><span class=\"toc-item-num\">4.1&nbsp;&nbsp;</span>Statistical outliers processing</a></span><ul class=\"toc-item\"><li><span><a href=\"#Conclusion\" data-toc-modified-id=\"Conclusion-4.1.1\"><span class=\"toc-item-num\">4.1.1&nbsp;&nbsp;</span>Conclusion</a></span></li></ul></li><li><span><a href=\"#Indicators-research\" data-toc-modified-id=\"Indicators-research-4.2\"><span class=\"toc-item-num\">4.2&nbsp;&nbsp;</span>Indicators research</a></span><ul class=\"toc-item\"><li><span><a href=\"#Price\" data-toc-modified-id=\"Price-4.2.1\"><span class=\"toc-item-num\">4.2.1&nbsp;&nbsp;</span>Price</a></span></li><li><span><a href=\"#Area\" data-toc-modified-id=\"Area-4.2.2\"><span class=\"toc-item-num\">4.2.2&nbsp;&nbsp;</span>Area</a></span></li><li><span><a href=\"#Rooms\" data-toc-modified-id=\"Rooms-4.2.3\"><span class=\"toc-item-num\">4.2.3&nbsp;&nbsp;</span>Rooms</a></span></li><li><span><a href=\"#Ceiling-height\" data-toc-modified-id=\"Ceiling-height-4.2.4\"><span class=\"toc-item-num\">4.2.4&nbsp;&nbsp;</span>Ceiling height</a></span></li><li><span><a href=\"#Conclusion\" data-toc-modified-id=\"Conclusion-4.2.5\"><span class=\"toc-item-num\">4.2.5&nbsp;&nbsp;</span>Conclusion</a></span></li></ul></li><li><span><a href=\"#The-study-of-price-influencing-factors\" data-toc-modified-id=\"The-study-of-price-influencing-factors-4.3\"><span class=\"toc-item-num\">4.3&nbsp;&nbsp;</span>The study of price influencing factors</a></span><ul class=\"toc-item\"><li><span><a href=\"#Conclusion\" data-toc-modified-id=\"Conclusion-4.3.1\"><span class=\"toc-item-num\">4.3.1&nbsp;&nbsp;</span>Conclusion</a></span></li></ul></li><li><span><a href=\"#Top-10-cities-research\" data-toc-modified-id=\"Top-10-cities-research-4.4\"><span class=\"toc-item-num\">4.4&nbsp;&nbsp;</span>Top-10 cities research</a></span><ul class=\"toc-item\"><li><span><a href=\"#Conclusion\" data-toc-modified-id=\"Conclusion-4.4.1\"><span class=\"toc-item-num\">4.4.1&nbsp;&nbsp;</span>Conclusion</a></span></li></ul></li><li><span><a href=\"#St.-Petersburg-city-center-research\" data-toc-modified-id=\"St.-Petersburg-city-center-research-4.5\"><span class=\"toc-item-num\">4.5&nbsp;&nbsp;</span>St. Petersburg city center research</a></span><ul class=\"toc-item\"><li><span><a href=\"#Data-Sample\" data-toc-modified-id=\"Data-Sample-4.5.1\"><span class=\"toc-item-num\">4.5.1&nbsp;&nbsp;</span>Data Sample</a></span></li><li><span><a href=\"#Parameters-research\" data-toc-modified-id=\"Parameters-research-4.5.2\"><span class=\"toc-item-num\">4.5.2&nbsp;&nbsp;</span>Parameters research</a></span></li><li><span><a href=\"#Factors-research\" data-toc-modified-id=\"Factors-research-4.5.3\"><span class=\"toc-item-num\">4.5.3&nbsp;&nbsp;</span>Factors research</a></span></li><li><span><a href=\"#Conclusion\" data-toc-modified-id=\"Conclusion-4.5.4\"><span class=\"toc-item-num\">4.5.4&nbsp;&nbsp;</span>Conclusion</a></span></li></ul></li></ul></li><li><span><a href=\"#Research-results\" data-toc-modified-id=\"Research-results-5\"><span class=\"toc-item-num\">5&nbsp;&nbsp;</span>Research results</a></span></li></ul></div>"
   ]
  },
  {
   "cell_type": "markdown",
   "metadata": {},
   "source": [
    "## Introduction to data"
   ]
  },
  {
   "cell_type": "code",
   "execution_count": 1,
   "metadata": {},
   "outputs": [],
   "source": [
    "import pandas as pd\n",
    "import matplotlib.pyplot as plt\n",
    "import seaborn as sns"
   ]
  },
  {
   "cell_type": "code",
   "execution_count": 2,
   "metadata": {},
   "outputs": [],
   "source": [
    "df = pd.read_csv('real_estate_data_en.csv')"
   ]
  },
  {
   "cell_type": "code",
   "execution_count": 3,
   "metadata": {},
   "outputs": [
    {
     "data": {
      "text/html": [
       "<div>\n",
       "<style scoped>\n",
       "    .dataframe tbody tr th:only-of-type {\n",
       "        vertical-align: middle;\n",
       "    }\n",
       "\n",
       "    .dataframe tbody tr th {\n",
       "        vertical-align: top;\n",
       "    }\n",
       "\n",
       "    .dataframe thead th {\n",
       "        text-align: right;\n",
       "    }\n",
       "</style>\n",
       "<table border=\"1\" class=\"dataframe\">\n",
       "  <thead>\n",
       "    <tr style=\"text-align: right;\">\n",
       "      <th></th>\n",
       "      <th>total_images</th>\n",
       "      <th>last_price</th>\n",
       "      <th>total_area</th>\n",
       "      <th>first_day_exposition</th>\n",
       "      <th>rooms</th>\n",
       "      <th>ceiling_height</th>\n",
       "      <th>floors_total</th>\n",
       "      <th>living_area</th>\n",
       "      <th>floor</th>\n",
       "      <th>is_apartment</th>\n",
       "      <th>...</th>\n",
       "      <th>kitchen_area</th>\n",
       "      <th>balcony</th>\n",
       "      <th>locality_name</th>\n",
       "      <th>airports_nearest</th>\n",
       "      <th>cityCenters_nearest</th>\n",
       "      <th>parks_around3000</th>\n",
       "      <th>parks_nearest</th>\n",
       "      <th>ponds_around3000</th>\n",
       "      <th>ponds_nearest</th>\n",
       "      <th>days_exposition</th>\n",
       "    </tr>\n",
       "  </thead>\n",
       "  <tbody>\n",
       "    <tr>\n",
       "      <th>0</th>\n",
       "      <td>20</td>\n",
       "      <td>13000000.0</td>\n",
       "      <td>108.0</td>\n",
       "      <td>2019-03-07T00:00:00</td>\n",
       "      <td>3</td>\n",
       "      <td>2.70</td>\n",
       "      <td>16.0</td>\n",
       "      <td>51.0</td>\n",
       "      <td>8</td>\n",
       "      <td>NaN</td>\n",
       "      <td>...</td>\n",
       "      <td>25.0</td>\n",
       "      <td>NaN</td>\n",
       "      <td>Sankt-Peterburg</td>\n",
       "      <td>18863.0</td>\n",
       "      <td>16028.0</td>\n",
       "      <td>1.0</td>\n",
       "      <td>482.0</td>\n",
       "      <td>2.0</td>\n",
       "      <td>755.0</td>\n",
       "      <td>NaN</td>\n",
       "    </tr>\n",
       "    <tr>\n",
       "      <th>1</th>\n",
       "      <td>7</td>\n",
       "      <td>3350000.0</td>\n",
       "      <td>40.4</td>\n",
       "      <td>2018-12-04T00:00:00</td>\n",
       "      <td>1</td>\n",
       "      <td>NaN</td>\n",
       "      <td>11.0</td>\n",
       "      <td>18.6</td>\n",
       "      <td>1</td>\n",
       "      <td>NaN</td>\n",
       "      <td>...</td>\n",
       "      <td>11.0</td>\n",
       "      <td>2.0</td>\n",
       "      <td>Shushary setlement</td>\n",
       "      <td>12817.0</td>\n",
       "      <td>18603.0</td>\n",
       "      <td>0.0</td>\n",
       "      <td>NaN</td>\n",
       "      <td>0.0</td>\n",
       "      <td>NaN</td>\n",
       "      <td>81.0</td>\n",
       "    </tr>\n",
       "    <tr>\n",
       "      <th>2</th>\n",
       "      <td>10</td>\n",
       "      <td>5196000.0</td>\n",
       "      <td>56.0</td>\n",
       "      <td>2015-08-20T00:00:00</td>\n",
       "      <td>2</td>\n",
       "      <td>NaN</td>\n",
       "      <td>5.0</td>\n",
       "      <td>34.3</td>\n",
       "      <td>4</td>\n",
       "      <td>NaN</td>\n",
       "      <td>...</td>\n",
       "      <td>8.3</td>\n",
       "      <td>0.0</td>\n",
       "      <td>Sankt-Peterburg</td>\n",
       "      <td>21741.0</td>\n",
       "      <td>13933.0</td>\n",
       "      <td>1.0</td>\n",
       "      <td>90.0</td>\n",
       "      <td>2.0</td>\n",
       "      <td>574.0</td>\n",
       "      <td>558.0</td>\n",
       "    </tr>\n",
       "    <tr>\n",
       "      <th>3</th>\n",
       "      <td>0</td>\n",
       "      <td>64900000.0</td>\n",
       "      <td>159.0</td>\n",
       "      <td>2015-07-24T00:00:00</td>\n",
       "      <td>3</td>\n",
       "      <td>NaN</td>\n",
       "      <td>14.0</td>\n",
       "      <td>NaN</td>\n",
       "      <td>9</td>\n",
       "      <td>NaN</td>\n",
       "      <td>...</td>\n",
       "      <td>NaN</td>\n",
       "      <td>0.0</td>\n",
       "      <td>Sankt-Peterburg</td>\n",
       "      <td>28098.0</td>\n",
       "      <td>6800.0</td>\n",
       "      <td>2.0</td>\n",
       "      <td>84.0</td>\n",
       "      <td>3.0</td>\n",
       "      <td>234.0</td>\n",
       "      <td>424.0</td>\n",
       "    </tr>\n",
       "    <tr>\n",
       "      <th>4</th>\n",
       "      <td>2</td>\n",
       "      <td>10000000.0</td>\n",
       "      <td>100.0</td>\n",
       "      <td>2018-06-19T00:00:00</td>\n",
       "      <td>2</td>\n",
       "      <td>3.03</td>\n",
       "      <td>14.0</td>\n",
       "      <td>32.0</td>\n",
       "      <td>13</td>\n",
       "      <td>NaN</td>\n",
       "      <td>...</td>\n",
       "      <td>41.0</td>\n",
       "      <td>NaN</td>\n",
       "      <td>Sankt-Peterburg</td>\n",
       "      <td>31856.0</td>\n",
       "      <td>8098.0</td>\n",
       "      <td>2.0</td>\n",
       "      <td>112.0</td>\n",
       "      <td>1.0</td>\n",
       "      <td>48.0</td>\n",
       "      <td>121.0</td>\n",
       "    </tr>\n",
       "  </tbody>\n",
       "</table>\n",
       "<p>5 rows × 22 columns</p>\n",
       "</div>"
      ],
      "text/plain": [
       "   total_images  last_price  total_area first_day_exposition  rooms  \\\n",
       "0            20  13000000.0       108.0  2019-03-07T00:00:00      3   \n",
       "1             7   3350000.0        40.4  2018-12-04T00:00:00      1   \n",
       "2            10   5196000.0        56.0  2015-08-20T00:00:00      2   \n",
       "3             0  64900000.0       159.0  2015-07-24T00:00:00      3   \n",
       "4             2  10000000.0       100.0  2018-06-19T00:00:00      2   \n",
       "\n",
       "   ceiling_height  floors_total  living_area  floor is_apartment  ...  \\\n",
       "0            2.70          16.0         51.0      8          NaN  ...   \n",
       "1             NaN          11.0         18.6      1          NaN  ...   \n",
       "2             NaN           5.0         34.3      4          NaN  ...   \n",
       "3             NaN          14.0          NaN      9          NaN  ...   \n",
       "4            3.03          14.0         32.0     13          NaN  ...   \n",
       "\n",
       "   kitchen_area  balcony       locality_name  airports_nearest  \\\n",
       "0          25.0      NaN     Sankt-Peterburg           18863.0   \n",
       "1          11.0      2.0  Shushary setlement           12817.0   \n",
       "2           8.3      0.0     Sankt-Peterburg           21741.0   \n",
       "3           NaN      0.0     Sankt-Peterburg           28098.0   \n",
       "4          41.0      NaN     Sankt-Peterburg           31856.0   \n",
       "\n",
       "  cityCenters_nearest  parks_around3000  parks_nearest  ponds_around3000  \\\n",
       "0             16028.0               1.0          482.0               2.0   \n",
       "1             18603.0               0.0            NaN               0.0   \n",
       "2             13933.0               1.0           90.0               2.0   \n",
       "3              6800.0               2.0           84.0               3.0   \n",
       "4              8098.0               2.0          112.0               1.0   \n",
       "\n",
       "   ponds_nearest  days_exposition  \n",
       "0          755.0              NaN  \n",
       "1            NaN             81.0  \n",
       "2          574.0            558.0  \n",
       "3          234.0            424.0  \n",
       "4           48.0            121.0  \n",
       "\n",
       "[5 rows x 22 columns]"
      ]
     },
     "metadata": {},
     "output_type": "display_data"
    },
    {
     "name": "stdout",
     "output_type": "stream",
     "text": [
      "<class 'pandas.core.frame.DataFrame'>\n",
      "RangeIndex: 23699 entries, 0 to 23698\n",
      "Data columns (total 22 columns):\n",
      " #   Column                Non-Null Count  Dtype  \n",
      "---  ------                --------------  -----  \n",
      " 0   total_images          23699 non-null  int64  \n",
      " 1   last_price            23699 non-null  float64\n",
      " 2   total_area            23699 non-null  float64\n",
      " 3   first_day_exposition  23699 non-null  object \n",
      " 4   rooms                 23699 non-null  int64  \n",
      " 5   ceiling_height        14504 non-null  float64\n",
      " 6   floors_total          23613 non-null  float64\n",
      " 7   living_area           21796 non-null  float64\n",
      " 8   floor                 23699 non-null  int64  \n",
      " 9   is_apartment          2775 non-null   object \n",
      " 10  studio                23699 non-null  bool   \n",
      " 11  open_plan             23699 non-null  bool   \n",
      " 12  kitchen_area          21421 non-null  float64\n",
      " 13  balcony               12180 non-null  float64\n",
      " 14  locality_name         23650 non-null  object \n",
      " 15  airports_nearest      18157 non-null  float64\n",
      " 16  cityCenters_nearest   18180 non-null  float64\n",
      " 17  parks_around3000      18181 non-null  float64\n",
      " 18  parks_nearest         8079 non-null   float64\n",
      " 19  ponds_around3000      18181 non-null  float64\n",
      " 20  ponds_nearest         9110 non-null   float64\n",
      " 21  days_exposition       20518 non-null  float64\n",
      "dtypes: bool(2), float64(14), int64(3), object(3)\n",
      "memory usage: 7.2 MB\n"
     ]
    },
    {
     "data": {
      "text/html": [
       "<div>\n",
       "<style scoped>\n",
       "    .dataframe tbody tr th:only-of-type {\n",
       "        vertical-align: middle;\n",
       "    }\n",
       "\n",
       "    .dataframe tbody tr th {\n",
       "        vertical-align: top;\n",
       "    }\n",
       "\n",
       "    .dataframe thead th {\n",
       "        text-align: right;\n",
       "    }\n",
       "</style>\n",
       "<table border=\"1\" class=\"dataframe\">\n",
       "  <thead>\n",
       "    <tr style=\"text-align: right;\">\n",
       "      <th></th>\n",
       "      <th>count</th>\n",
       "      <th>mean</th>\n",
       "      <th>std</th>\n",
       "      <th>min</th>\n",
       "      <th>25%</th>\n",
       "      <th>50%</th>\n",
       "      <th>75%</th>\n",
       "      <th>max</th>\n",
       "    </tr>\n",
       "  </thead>\n",
       "  <tbody>\n",
       "    <tr>\n",
       "      <th>total_images</th>\n",
       "      <td>23699.0</td>\n",
       "      <td>9.858475e+00</td>\n",
       "      <td>5.682529e+00</td>\n",
       "      <td>0.0</td>\n",
       "      <td>6.00</td>\n",
       "      <td>9.00</td>\n",
       "      <td>14.0</td>\n",
       "      <td>50.0</td>\n",
       "    </tr>\n",
       "    <tr>\n",
       "      <th>last_price</th>\n",
       "      <td>23699.0</td>\n",
       "      <td>6.541549e+06</td>\n",
       "      <td>1.088701e+07</td>\n",
       "      <td>12190.0</td>\n",
       "      <td>3400000.00</td>\n",
       "      <td>4650000.00</td>\n",
       "      <td>6800000.0</td>\n",
       "      <td>763000000.0</td>\n",
       "    </tr>\n",
       "    <tr>\n",
       "      <th>total_area</th>\n",
       "      <td>23699.0</td>\n",
       "      <td>6.034865e+01</td>\n",
       "      <td>3.565408e+01</td>\n",
       "      <td>12.0</td>\n",
       "      <td>40.00</td>\n",
       "      <td>52.00</td>\n",
       "      <td>69.9</td>\n",
       "      <td>900.0</td>\n",
       "    </tr>\n",
       "    <tr>\n",
       "      <th>rooms</th>\n",
       "      <td>23699.0</td>\n",
       "      <td>2.070636e+00</td>\n",
       "      <td>1.078405e+00</td>\n",
       "      <td>0.0</td>\n",
       "      <td>1.00</td>\n",
       "      <td>2.00</td>\n",
       "      <td>3.0</td>\n",
       "      <td>19.0</td>\n",
       "    </tr>\n",
       "    <tr>\n",
       "      <th>ceiling_height</th>\n",
       "      <td>14504.0</td>\n",
       "      <td>2.771499e+00</td>\n",
       "      <td>1.261056e+00</td>\n",
       "      <td>1.0</td>\n",
       "      <td>2.52</td>\n",
       "      <td>2.65</td>\n",
       "      <td>2.8</td>\n",
       "      <td>100.0</td>\n",
       "    </tr>\n",
       "    <tr>\n",
       "      <th>floors_total</th>\n",
       "      <td>23613.0</td>\n",
       "      <td>1.067382e+01</td>\n",
       "      <td>6.597173e+00</td>\n",
       "      <td>1.0</td>\n",
       "      <td>5.00</td>\n",
       "      <td>9.00</td>\n",
       "      <td>16.0</td>\n",
       "      <td>60.0</td>\n",
       "    </tr>\n",
       "    <tr>\n",
       "      <th>living_area</th>\n",
       "      <td>21796.0</td>\n",
       "      <td>3.445785e+01</td>\n",
       "      <td>2.203045e+01</td>\n",
       "      <td>2.0</td>\n",
       "      <td>18.60</td>\n",
       "      <td>30.00</td>\n",
       "      <td>42.3</td>\n",
       "      <td>409.7</td>\n",
       "    </tr>\n",
       "    <tr>\n",
       "      <th>floor</th>\n",
       "      <td>23699.0</td>\n",
       "      <td>5.892358e+00</td>\n",
       "      <td>4.885249e+00</td>\n",
       "      <td>1.0</td>\n",
       "      <td>2.00</td>\n",
       "      <td>4.00</td>\n",
       "      <td>8.0</td>\n",
       "      <td>33.0</td>\n",
       "    </tr>\n",
       "    <tr>\n",
       "      <th>kitchen_area</th>\n",
       "      <td>21421.0</td>\n",
       "      <td>1.056981e+01</td>\n",
       "      <td>5.905438e+00</td>\n",
       "      <td>1.3</td>\n",
       "      <td>7.00</td>\n",
       "      <td>9.10</td>\n",
       "      <td>12.0</td>\n",
       "      <td>112.0</td>\n",
       "    </tr>\n",
       "    <tr>\n",
       "      <th>balcony</th>\n",
       "      <td>12180.0</td>\n",
       "      <td>1.150082e+00</td>\n",
       "      <td>1.071300e+00</td>\n",
       "      <td>0.0</td>\n",
       "      <td>0.00</td>\n",
       "      <td>1.00</td>\n",
       "      <td>2.0</td>\n",
       "      <td>5.0</td>\n",
       "    </tr>\n",
       "    <tr>\n",
       "      <th>airports_nearest</th>\n",
       "      <td>18157.0</td>\n",
       "      <td>2.879367e+04</td>\n",
       "      <td>1.263088e+04</td>\n",
       "      <td>0.0</td>\n",
       "      <td>18585.00</td>\n",
       "      <td>26726.00</td>\n",
       "      <td>37273.0</td>\n",
       "      <td>84869.0</td>\n",
       "    </tr>\n",
       "    <tr>\n",
       "      <th>cityCenters_nearest</th>\n",
       "      <td>18180.0</td>\n",
       "      <td>1.419128e+04</td>\n",
       "      <td>8.608386e+03</td>\n",
       "      <td>181.0</td>\n",
       "      <td>9238.00</td>\n",
       "      <td>13098.50</td>\n",
       "      <td>16293.0</td>\n",
       "      <td>65968.0</td>\n",
       "    </tr>\n",
       "    <tr>\n",
       "      <th>parks_around3000</th>\n",
       "      <td>18181.0</td>\n",
       "      <td>6.114075e-01</td>\n",
       "      <td>8.020736e-01</td>\n",
       "      <td>0.0</td>\n",
       "      <td>0.00</td>\n",
       "      <td>0.00</td>\n",
       "      <td>1.0</td>\n",
       "      <td>3.0</td>\n",
       "    </tr>\n",
       "    <tr>\n",
       "      <th>parks_nearest</th>\n",
       "      <td>8079.0</td>\n",
       "      <td>4.908046e+02</td>\n",
       "      <td>3.423180e+02</td>\n",
       "      <td>1.0</td>\n",
       "      <td>288.00</td>\n",
       "      <td>455.00</td>\n",
       "      <td>612.0</td>\n",
       "      <td>3190.0</td>\n",
       "    </tr>\n",
       "    <tr>\n",
       "      <th>ponds_around3000</th>\n",
       "      <td>18181.0</td>\n",
       "      <td>7.702547e-01</td>\n",
       "      <td>9.383456e-01</td>\n",
       "      <td>0.0</td>\n",
       "      <td>0.00</td>\n",
       "      <td>1.00</td>\n",
       "      <td>1.0</td>\n",
       "      <td>3.0</td>\n",
       "    </tr>\n",
       "    <tr>\n",
       "      <th>ponds_nearest</th>\n",
       "      <td>9110.0</td>\n",
       "      <td>5.179809e+02</td>\n",
       "      <td>2.777206e+02</td>\n",
       "      <td>13.0</td>\n",
       "      <td>294.00</td>\n",
       "      <td>502.00</td>\n",
       "      <td>729.0</td>\n",
       "      <td>1344.0</td>\n",
       "    </tr>\n",
       "    <tr>\n",
       "      <th>days_exposition</th>\n",
       "      <td>20518.0</td>\n",
       "      <td>1.808886e+02</td>\n",
       "      <td>2.197280e+02</td>\n",
       "      <td>1.0</td>\n",
       "      <td>45.00</td>\n",
       "      <td>95.00</td>\n",
       "      <td>232.0</td>\n",
       "      <td>1580.0</td>\n",
       "    </tr>\n",
       "  </tbody>\n",
       "</table>\n",
       "</div>"
      ],
      "text/plain": [
       "                       count          mean           std      min         25%  \\\n",
       "total_images         23699.0  9.858475e+00  5.682529e+00      0.0        6.00   \n",
       "last_price           23699.0  6.541549e+06  1.088701e+07  12190.0  3400000.00   \n",
       "total_area           23699.0  6.034865e+01  3.565408e+01     12.0       40.00   \n",
       "rooms                23699.0  2.070636e+00  1.078405e+00      0.0        1.00   \n",
       "ceiling_height       14504.0  2.771499e+00  1.261056e+00      1.0        2.52   \n",
       "floors_total         23613.0  1.067382e+01  6.597173e+00      1.0        5.00   \n",
       "living_area          21796.0  3.445785e+01  2.203045e+01      2.0       18.60   \n",
       "floor                23699.0  5.892358e+00  4.885249e+00      1.0        2.00   \n",
       "kitchen_area         21421.0  1.056981e+01  5.905438e+00      1.3        7.00   \n",
       "balcony              12180.0  1.150082e+00  1.071300e+00      0.0        0.00   \n",
       "airports_nearest     18157.0  2.879367e+04  1.263088e+04      0.0    18585.00   \n",
       "cityCenters_nearest  18180.0  1.419128e+04  8.608386e+03    181.0     9238.00   \n",
       "parks_around3000     18181.0  6.114075e-01  8.020736e-01      0.0        0.00   \n",
       "parks_nearest         8079.0  4.908046e+02  3.423180e+02      1.0      288.00   \n",
       "ponds_around3000     18181.0  7.702547e-01  9.383456e-01      0.0        0.00   \n",
       "ponds_nearest         9110.0  5.179809e+02  2.777206e+02     13.0      294.00   \n",
       "days_exposition      20518.0  1.808886e+02  2.197280e+02      1.0       45.00   \n",
       "\n",
       "                            50%        75%          max  \n",
       "total_images               9.00       14.0         50.0  \n",
       "last_price           4650000.00  6800000.0  763000000.0  \n",
       "total_area                52.00       69.9        900.0  \n",
       "rooms                      2.00        3.0         19.0  \n",
       "ceiling_height             2.65        2.8        100.0  \n",
       "floors_total               9.00       16.0         60.0  \n",
       "living_area               30.00       42.3        409.7  \n",
       "floor                      4.00        8.0         33.0  \n",
       "kitchen_area               9.10       12.0        112.0  \n",
       "balcony                    1.00        2.0          5.0  \n",
       "airports_nearest       26726.00    37273.0      84869.0  \n",
       "cityCenters_nearest    13098.50    16293.0      65968.0  \n",
       "parks_around3000           0.00        1.0          3.0  \n",
       "parks_nearest            455.00      612.0       3190.0  \n",
       "ponds_around3000           1.00        1.0          3.0  \n",
       "ponds_nearest            502.00      729.0       1344.0  \n",
       "days_exposition           95.00      232.0       1580.0  "
      ]
     },
     "execution_count": 3,
     "metadata": {},
     "output_type": "execute_result"
    }
   ],
   "source": [
    "display(df.head(5))\n",
    "df.info(memory_usage = 'deep')\n",
    "df.describe().T"
   ]
  },
  {
   "cell_type": "code",
   "execution_count": 4,
   "metadata": {},
   "outputs": [
    {
     "name": "stdout",
     "output_type": "stream",
     "text": [
      "Locality_name data\n",
      "Sankt-Peterburg              15721\n",
      "Murino setlement               522\n",
      "Shushary setlement             440\n",
      "Vsevolozhsk                    398\n",
      "Pushkin                        369\n",
      "                             ...  \n",
      "Pel'gora village                 1\n",
      "Kalozhitsy settlement            1\n",
      "Platforma settlement 69km        1\n",
      "Pochap settlement                1\n",
      "Dzerzhinskogo setlement          1\n",
      "Name: locality_name, Length: 360, dtype: int64\n"
     ]
    }
   ],
   "source": [
    "print('Locality_name data')\n",
    "print(df['locality_name'].value_counts())"
   ]
  },
  {
   "cell_type": "markdown",
   "metadata": {},
   "source": [
    "### Conclusion"
   ]
  },
  {
   "cell_type": "markdown",
   "metadata": {},
   "source": [
    "- There are many columns in the df that are not required for the reserch, optimization is needed\n",
    "- Requires data type changes, at least for `first_day_exposition` column\n",
    "- There are many gaps in different columns, data needs to be processed\n",
    "- The maximum and minimum values in many columns look like an anomaly\n",
    "- More than half of the apartments in the df are located directly in St. Petersburg"
   ]
  },
  {
   "cell_type": "markdown",
   "metadata": {},
   "source": [
    "## Data preprocessing"
   ]
  },
  {
   "cell_type": "markdown",
   "metadata": {},
   "source": [
    "### Deleting columns"
   ]
  },
  {
   "cell_type": "markdown",
   "metadata": {},
   "source": [
    "The table has 22 columns. According to the terms of reference, we need to explore the relationships in the following data:\n",
    "- Area `total_area` `living_area` `kitchen_area` may also need `studio`\n",
    "- Price `last_price`\n",
    "- Number of rooms`rooms`\n",
    "- Ceiling height `ceiling_height`\n",
    "- Ad placement date `first_day_exposition`\n",
    "- Apartment sale time `days_exposition`\n",
    "- Distance from the center `cityCenters_nearest`\n",
    "- Floor `floor` `floors_total`\n",
    "- Location `locality_name`\n",
    "\n",
    "It's 13 columns. The rest 9 do not need to be analyzed, which means that they can be deleted"
   ]
  },
  {
   "cell_type": "code",
   "execution_count": 5,
   "metadata": {},
   "outputs": [
    {
     "name": "stdout",
     "output_type": "stream",
     "text": [
      "<class 'pandas.core.frame.DataFrame'>\n",
      "RangeIndex: 23699 entries, 0 to 23698\n",
      "Data columns (total 13 columns):\n",
      " #   Column                Non-Null Count  Dtype  \n",
      "---  ------                --------------  -----  \n",
      " 0   last_price            23699 non-null  float64\n",
      " 1   total_area            23699 non-null  float64\n",
      " 2   first_day_exposition  23699 non-null  object \n",
      " 3   rooms                 23699 non-null  int64  \n",
      " 4   ceiling_height        14504 non-null  float64\n",
      " 5   floors_total          23613 non-null  float64\n",
      " 6   living_area           21796 non-null  float64\n",
      " 7   floor                 23699 non-null  int64  \n",
      " 8   studio                23699 non-null  bool   \n",
      " 9   kitchen_area          21421 non-null  float64\n",
      " 10  locality_name         23650 non-null  object \n",
      " 11  cityCenters_nearest   18180 non-null  float64\n",
      " 12  days_exposition       20518 non-null  float64\n",
      "dtypes: bool(1), float64(8), int64(2), object(2)\n",
      "memory usage: 2.2+ MB\n"
     ]
    }
   ],
   "source": [
    "df = df.drop(columns = [\n",
    "    'total_images', \n",
    "    'is_apartment', \n",
    "    'open_plan', \n",
    "    'balcony', \n",
    "    'airports_nearest', \n",
    "    'parks_around3000', \n",
    "    'parks_nearest', \n",
    "    'ponds_around3000',\n",
    "    'ponds_nearest'\n",
    "])\n",
    "\n",
    "df.info()"
   ]
  },
  {
   "cell_type": "markdown",
   "metadata": {},
   "source": [
    "### Gaps"
   ]
  },
  {
   "cell_type": "markdown",
   "metadata": {},
   "source": [
    "Gaps are present in the following columns:\n",
    "- `ceiling_height` 38% data\n",
    "- `floors_total` <1% of data\n",
    "- `living_area` 8% data\n",
    "- `kitchen_area` 10% data\n",
    "- `locality_name` <1% of data\n",
    "- `cityCenters_nearest` 23% data\n",
    "- `days_exposition` 13% of data\n",
    "\n",
    "Let's get rid of the gaps that will not affect the quality of the reserch due to their small number."
   ]
  },
  {
   "cell_type": "code",
   "execution_count": 6,
   "metadata": {},
   "outputs": [
    {
     "name": "stdout",
     "output_type": "stream",
     "text": [
      "<class 'pandas.core.frame.DataFrame'>\n",
      "RangeIndex: 23565 entries, 0 to 23564\n",
      "Data columns (total 13 columns):\n",
      " #   Column                Non-Null Count  Dtype  \n",
      "---  ------                --------------  -----  \n",
      " 0   last_price            23565 non-null  float64\n",
      " 1   total_area            23565 non-null  float64\n",
      " 2   first_day_exposition  23565 non-null  object \n",
      " 3   rooms                 23565 non-null  int64  \n",
      " 4   ceiling_height        14481 non-null  float64\n",
      " 5   floors_total          23565 non-null  float64\n",
      " 6   living_area           21700 non-null  float64\n",
      " 7   floor                 23565 non-null  int64  \n",
      " 8   studio                23565 non-null  bool   \n",
      " 9   kitchen_area          21343 non-null  float64\n",
      " 10  locality_name         23565 non-null  object \n",
      " 11  cityCenters_nearest   18064 non-null  float64\n",
      " 12  days_exposition       20394 non-null  float64\n",
      "dtypes: bool(1), float64(8), int64(2), object(2)\n",
      "memory usage: 2.2+ MB\n"
     ]
    }
   ],
   "source": [
    "df = df.dropna(subset = ['floors_total', 'locality_name']).reset_index(drop = True)\n",
    "df.info()"
   ]
  },
  {
   "cell_type": "markdown",
   "metadata": {},
   "source": [
    "The None value in the `days_exposition` clumn could potentially mean that the apartment has not yet been sold at the time the statistics were collected. Let's examine the data slice, paying particular attention to the `first_day_exposition` column"
   ]
  },
  {
   "cell_type": "code",
   "execution_count": 7,
   "metadata": {},
   "outputs": [
    {
     "data": {
      "text/html": [
       "<div>\n",
       "<style scoped>\n",
       "    .dataframe tbody tr th:only-of-type {\n",
       "        vertical-align: middle;\n",
       "    }\n",
       "\n",
       "    .dataframe tbody tr th {\n",
       "        vertical-align: top;\n",
       "    }\n",
       "\n",
       "    .dataframe thead th {\n",
       "        text-align: right;\n",
       "    }\n",
       "</style>\n",
       "<table border=\"1\" class=\"dataframe\">\n",
       "  <thead>\n",
       "    <tr style=\"text-align: right;\">\n",
       "      <th></th>\n",
       "      <th>last_price</th>\n",
       "      <th>total_area</th>\n",
       "      <th>first_day_exposition</th>\n",
       "      <th>rooms</th>\n",
       "      <th>ceiling_height</th>\n",
       "      <th>floors_total</th>\n",
       "      <th>living_area</th>\n",
       "      <th>floor</th>\n",
       "      <th>studio</th>\n",
       "      <th>kitchen_area</th>\n",
       "      <th>locality_name</th>\n",
       "      <th>cityCenters_nearest</th>\n",
       "      <th>days_exposition</th>\n",
       "    </tr>\n",
       "  </thead>\n",
       "  <tbody>\n",
       "    <tr>\n",
       "      <th>16206</th>\n",
       "      <td>3700000.0</td>\n",
       "      <td>57.3</td>\n",
       "      <td>2019-03-20T00:00:00</td>\n",
       "      <td>2</td>\n",
       "      <td>NaN</td>\n",
       "      <td>8.0</td>\n",
       "      <td>30.0</td>\n",
       "      <td>8</td>\n",
       "      <td>False</td>\n",
       "      <td>8.40</td>\n",
       "      <td>Vsevolozhsk</td>\n",
       "      <td>NaN</td>\n",
       "      <td>NaN</td>\n",
       "    </tr>\n",
       "    <tr>\n",
       "      <th>6094</th>\n",
       "      <td>4897000.0</td>\n",
       "      <td>42.0</td>\n",
       "      <td>2019-03-14T00:00:00</td>\n",
       "      <td>1</td>\n",
       "      <td>2.70</td>\n",
       "      <td>26.0</td>\n",
       "      <td>18.0</td>\n",
       "      <td>11</td>\n",
       "      <td>False</td>\n",
       "      <td>12.00</td>\n",
       "      <td>Pargolovo setlement</td>\n",
       "      <td>19070.0</td>\n",
       "      <td>NaN</td>\n",
       "    </tr>\n",
       "    <tr>\n",
       "      <th>5395</th>\n",
       "      <td>2800000.0</td>\n",
       "      <td>60.8</td>\n",
       "      <td>2018-10-04T00:00:00</td>\n",
       "      <td>2</td>\n",
       "      <td>2.60</td>\n",
       "      <td>6.0</td>\n",
       "      <td>35.0</td>\n",
       "      <td>6</td>\n",
       "      <td>False</td>\n",
       "      <td>11.10</td>\n",
       "      <td>Sosnovo setlement</td>\n",
       "      <td>NaN</td>\n",
       "      <td>NaN</td>\n",
       "    </tr>\n",
       "    <tr>\n",
       "      <th>15081</th>\n",
       "      <td>2550000.0</td>\n",
       "      <td>29.7</td>\n",
       "      <td>2019-04-12T00:00:00</td>\n",
       "      <td>1</td>\n",
       "      <td>NaN</td>\n",
       "      <td>7.0</td>\n",
       "      <td>17.0</td>\n",
       "      <td>5</td>\n",
       "      <td>False</td>\n",
       "      <td>6.00</td>\n",
       "      <td>Vyborg</td>\n",
       "      <td>NaN</td>\n",
       "      <td>NaN</td>\n",
       "    </tr>\n",
       "    <tr>\n",
       "      <th>20108</th>\n",
       "      <td>3950000.0</td>\n",
       "      <td>35.0</td>\n",
       "      <td>2019-04-14T00:00:00</td>\n",
       "      <td>1</td>\n",
       "      <td>2.65</td>\n",
       "      <td>12.0</td>\n",
       "      <td>16.0</td>\n",
       "      <td>2</td>\n",
       "      <td>False</td>\n",
       "      <td>11.00</td>\n",
       "      <td>Sankt-Peterburg</td>\n",
       "      <td>14772.0</td>\n",
       "      <td>NaN</td>\n",
       "    </tr>\n",
       "    <tr>\n",
       "      <th>23540</th>\n",
       "      <td>5950000.0</td>\n",
       "      <td>56.0</td>\n",
       "      <td>2019-03-05T00:00:00</td>\n",
       "      <td>3</td>\n",
       "      <td>NaN</td>\n",
       "      <td>8.0</td>\n",
       "      <td>32.1</td>\n",
       "      <td>3</td>\n",
       "      <td>False</td>\n",
       "      <td>8.50</td>\n",
       "      <td>Sankt-Peterburg</td>\n",
       "      <td>9217.0</td>\n",
       "      <td>NaN</td>\n",
       "    </tr>\n",
       "    <tr>\n",
       "      <th>21681</th>\n",
       "      <td>4700000.0</td>\n",
       "      <td>42.0</td>\n",
       "      <td>2019-04-28T00:00:00</td>\n",
       "      <td>2</td>\n",
       "      <td>2.60</td>\n",
       "      <td>5.0</td>\n",
       "      <td>26.0</td>\n",
       "      <td>5</td>\n",
       "      <td>False</td>\n",
       "      <td>7.00</td>\n",
       "      <td>Sankt-Peterburg</td>\n",
       "      <td>8922.0</td>\n",
       "      <td>NaN</td>\n",
       "    </tr>\n",
       "    <tr>\n",
       "      <th>3825</th>\n",
       "      <td>4800000.0</td>\n",
       "      <td>56.3</td>\n",
       "      <td>2017-10-23T00:00:00</td>\n",
       "      <td>3</td>\n",
       "      <td>2.55</td>\n",
       "      <td>9.0</td>\n",
       "      <td>39.5</td>\n",
       "      <td>9</td>\n",
       "      <td>False</td>\n",
       "      <td>6.20</td>\n",
       "      <td>Sankt-Peterburg</td>\n",
       "      <td>15643.0</td>\n",
       "      <td>NaN</td>\n",
       "    </tr>\n",
       "    <tr>\n",
       "      <th>8491</th>\n",
       "      <td>22743212.0</td>\n",
       "      <td>134.0</td>\n",
       "      <td>2017-11-29T00:00:00</td>\n",
       "      <td>3</td>\n",
       "      <td>NaN</td>\n",
       "      <td>16.0</td>\n",
       "      <td>NaN</td>\n",
       "      <td>1</td>\n",
       "      <td>False</td>\n",
       "      <td>NaN</td>\n",
       "      <td>Sankt-Peterburg</td>\n",
       "      <td>6572.0</td>\n",
       "      <td>NaN</td>\n",
       "    </tr>\n",
       "    <tr>\n",
       "      <th>19688</th>\n",
       "      <td>12600000.0</td>\n",
       "      <td>78.4</td>\n",
       "      <td>2019-04-25T00:00:00</td>\n",
       "      <td>2</td>\n",
       "      <td>NaN</td>\n",
       "      <td>8.0</td>\n",
       "      <td>NaN</td>\n",
       "      <td>6</td>\n",
       "      <td>False</td>\n",
       "      <td>16.48</td>\n",
       "      <td>Sankt-Peterburg</td>\n",
       "      <td>11087.0</td>\n",
       "      <td>NaN</td>\n",
       "    </tr>\n",
       "  </tbody>\n",
       "</table>\n",
       "</div>"
      ],
      "text/plain": [
       "       last_price  total_area first_day_exposition  rooms  ceiling_height  \\\n",
       "16206   3700000.0        57.3  2019-03-20T00:00:00      2             NaN   \n",
       "6094    4897000.0        42.0  2019-03-14T00:00:00      1            2.70   \n",
       "5395    2800000.0        60.8  2018-10-04T00:00:00      2            2.60   \n",
       "15081   2550000.0        29.7  2019-04-12T00:00:00      1             NaN   \n",
       "20108   3950000.0        35.0  2019-04-14T00:00:00      1            2.65   \n",
       "23540   5950000.0        56.0  2019-03-05T00:00:00      3             NaN   \n",
       "21681   4700000.0        42.0  2019-04-28T00:00:00      2            2.60   \n",
       "3825    4800000.0        56.3  2017-10-23T00:00:00      3            2.55   \n",
       "8491   22743212.0       134.0  2017-11-29T00:00:00      3             NaN   \n",
       "19688  12600000.0        78.4  2019-04-25T00:00:00      2             NaN   \n",
       "\n",
       "       floors_total  living_area  floor  studio  kitchen_area  \\\n",
       "16206           8.0         30.0      8   False          8.40   \n",
       "6094           26.0         18.0     11   False         12.00   \n",
       "5395            6.0         35.0      6   False         11.10   \n",
       "15081           7.0         17.0      5   False          6.00   \n",
       "20108          12.0         16.0      2   False         11.00   \n",
       "23540           8.0         32.1      3   False          8.50   \n",
       "21681           5.0         26.0      5   False          7.00   \n",
       "3825            9.0         39.5      9   False          6.20   \n",
       "8491           16.0          NaN      1   False           NaN   \n",
       "19688           8.0          NaN      6   False         16.48   \n",
       "\n",
       "             locality_name  cityCenters_nearest  days_exposition  \n",
       "16206          Vsevolozhsk                  NaN              NaN  \n",
       "6094   Pargolovo setlement              19070.0              NaN  \n",
       "5395     Sosnovo setlement                  NaN              NaN  \n",
       "15081               Vyborg                  NaN              NaN  \n",
       "20108      Sankt-Peterburg              14772.0              NaN  \n",
       "23540      Sankt-Peterburg               9217.0              NaN  \n",
       "21681      Sankt-Peterburg               8922.0              NaN  \n",
       "3825       Sankt-Peterburg              15643.0              NaN  \n",
       "8491       Sankt-Peterburg               6572.0              NaN  \n",
       "19688      Sankt-Peterburg              11087.0              NaN  "
      ]
     },
     "execution_count": 7,
     "metadata": {},
     "output_type": "execute_result"
    }
   ],
   "source": [
    "df[df['days_exposition'].isna()].sample(10)"
   ]
  },
  {
   "cell_type": "markdown",
   "metadata": {},
   "source": [
    "The hypothesis was not confirmed, the dates of the exposition are very different. To analyze this indicator, we will have to make a slice, but we should not delete all rows with empty `days_exposition` values, as this will greatly affect the other indicators reserch results. Let's leave the gaps as they are."
   ]
  },
  {
   "cell_type": "markdown",
   "metadata": {},
   "source": [
    "Gaps in `ceiling_height` column can be filled with average values, but this will greatly distort the statistics, since there are a very large number of them. It is better to focus on fewer but more reliable data when analyzing the impact of this value on the price. Decided to leave it as is."
   ]
  },
  {
   "cell_type": "markdown",
   "metadata": {},
   "source": [
    "The remaining columns are `living_area` and `kitchen_area`. There is a hypothesis that this data should have a high correlation with the `total_area` values, which will allow filling in the gaps with avg values."
   ]
  },
  {
   "cell_type": "code",
   "execution_count": 8,
   "metadata": {},
   "outputs": [
    {
     "name": "stdout",
     "output_type": "stream",
     "text": [
      "Correlation between values living_area and total_area: 0.9397711143610333\n",
      "Correlation between values kitchen_area and total_area: 0.6095076959780383\n"
     ]
    }
   ],
   "source": [
    "df_la = df[~df['living_area'].isna()]\n",
    "df_ka = df[~df['kitchen_area'].isna()]\n",
    "\n",
    "print('Correlation between values living_area and total_area:', df_la['total_area'].corr(df_la['living_area']))\n",
    "print('Correlation between values kitchen_area and total_area:', df_ka['total_area'].corr(df_la['kitchen_area']))"
   ]
  },
  {
   "cell_type": "markdown",
   "metadata": {},
   "source": [
    "The first hypothesis was confirmed, the correlation between the indicator of the total area and the living area is approaching 100%. We can find the average ratio of living area to total area and use this ratio to fill in the gaps."
   ]
  },
  {
   "cell_type": "code",
   "execution_count": 9,
   "metadata": {},
   "outputs": [
    {
     "name": "stdout",
     "output_type": "stream",
     "text": [
      "<class 'pandas.core.frame.DataFrame'>\n",
      "RangeIndex: 23565 entries, 0 to 23564\n",
      "Data columns (total 13 columns):\n",
      " #   Column                Non-Null Count  Dtype  \n",
      "---  ------                --------------  -----  \n",
      " 0   last_price            23565 non-null  float64\n",
      " 1   total_area            23565 non-null  float64\n",
      " 2   first_day_exposition  23565 non-null  object \n",
      " 3   rooms                 23565 non-null  int64  \n",
      " 4   ceiling_height        14481 non-null  float64\n",
      " 5   floors_total          23565 non-null  float64\n",
      " 6   living_area           23565 non-null  float64\n",
      " 7   floor                 23565 non-null  int64  \n",
      " 8   studio                23565 non-null  bool   \n",
      " 9   kitchen_area          21343 non-null  float64\n",
      " 10  locality_name         23565 non-null  object \n",
      " 11  cityCenters_nearest   18064 non-null  float64\n",
      " 12  days_exposition       20394 non-null  float64\n",
      "dtypes: bool(1), float64(8), int64(2), object(2)\n",
      "memory usage: 2.2+ MB\n"
     ]
    }
   ],
   "source": [
    "df_la_coef = df_la['living_area'] / df_la['total_area']\n",
    "df['living_area'] = df['living_area'].fillna(df_la_coef.mean() * df['total_area'])\n",
    "df.info()"
   ]
  },
  {
   "cell_type": "markdown",
   "metadata": {},
   "source": [
    "Since there is no natural way to fill in the gaps in the `kitchen_area` column, and since this metric is not that important for the reserch, let's leave the data as it is."
   ]
  },
  {
   "cell_type": "markdown",
   "metadata": {},
   "source": [
    "### Changing the data types"
   ]
  },
  {
   "cell_type": "code",
   "execution_count": 10,
   "metadata": {},
   "outputs": [
    {
     "name": "stdout",
     "output_type": "stream",
     "text": [
      "<class 'pandas.core.frame.DataFrame'>\n",
      "RangeIndex: 23565 entries, 0 to 23564\n",
      "Data columns (total 13 columns):\n",
      " #   Column                Non-Null Count  Dtype  \n",
      "---  ------                --------------  -----  \n",
      " 0   last_price            23565 non-null  float64\n",
      " 1   total_area            23565 non-null  float64\n",
      " 2   first_day_exposition  23565 non-null  object \n",
      " 3   rooms                 23565 non-null  int64  \n",
      " 4   ceiling_height        14481 non-null  float64\n",
      " 5   floors_total          23565 non-null  float64\n",
      " 6   living_area           23565 non-null  float64\n",
      " 7   floor                 23565 non-null  int64  \n",
      " 8   studio                23565 non-null  bool   \n",
      " 9   kitchen_area          21343 non-null  float64\n",
      " 10  locality_name         23565 non-null  object \n",
      " 11  cityCenters_nearest   18064 non-null  float64\n",
      " 12  days_exposition       20394 non-null  float64\n",
      "dtypes: bool(1), float64(8), int64(2), object(2)\n",
      "memory usage: 5.1 MB\n"
     ]
    },
    {
     "data": {
      "text/html": [
       "<div>\n",
       "<style scoped>\n",
       "    .dataframe tbody tr th:only-of-type {\n",
       "        vertical-align: middle;\n",
       "    }\n",
       "\n",
       "    .dataframe tbody tr th {\n",
       "        vertical-align: top;\n",
       "    }\n",
       "\n",
       "    .dataframe thead th {\n",
       "        text-align: right;\n",
       "    }\n",
       "</style>\n",
       "<table border=\"1\" class=\"dataframe\">\n",
       "  <thead>\n",
       "    <tr style=\"text-align: right;\">\n",
       "      <th></th>\n",
       "      <th>last_price</th>\n",
       "      <th>total_area</th>\n",
       "      <th>first_day_exposition</th>\n",
       "      <th>rooms</th>\n",
       "      <th>ceiling_height</th>\n",
       "      <th>floors_total</th>\n",
       "      <th>living_area</th>\n",
       "      <th>floor</th>\n",
       "      <th>studio</th>\n",
       "      <th>kitchen_area</th>\n",
       "      <th>locality_name</th>\n",
       "      <th>cityCenters_nearest</th>\n",
       "      <th>days_exposition</th>\n",
       "    </tr>\n",
       "  </thead>\n",
       "  <tbody>\n",
       "    <tr>\n",
       "      <th>23430</th>\n",
       "      <td>2500000.0</td>\n",
       "      <td>31.7</td>\n",
       "      <td>2018-08-14T00:00:00</td>\n",
       "      <td>1</td>\n",
       "      <td>2.70</td>\n",
       "      <td>6.0</td>\n",
       "      <td>14.5</td>\n",
       "      <td>1</td>\n",
       "      <td>False</td>\n",
       "      <td>10.1</td>\n",
       "      <td>Shushary setlement</td>\n",
       "      <td>23689.0</td>\n",
       "      <td>29.0</td>\n",
       "    </tr>\n",
       "    <tr>\n",
       "      <th>12112</th>\n",
       "      <td>12600000.0</td>\n",
       "      <td>128.0</td>\n",
       "      <td>2016-04-11T00:00:00</td>\n",
       "      <td>3</td>\n",
       "      <td>2.80</td>\n",
       "      <td>16.0</td>\n",
       "      <td>66.0</td>\n",
       "      <td>11</td>\n",
       "      <td>False</td>\n",
       "      <td>15.0</td>\n",
       "      <td>Sankt-Peterburg</td>\n",
       "      <td>8314.0</td>\n",
       "      <td>218.0</td>\n",
       "    </tr>\n",
       "    <tr>\n",
       "      <th>23465</th>\n",
       "      <td>4300000.0</td>\n",
       "      <td>33.4</td>\n",
       "      <td>2016-03-29T00:00:00</td>\n",
       "      <td>1</td>\n",
       "      <td>2.58</td>\n",
       "      <td>20.0</td>\n",
       "      <td>15.1</td>\n",
       "      <td>6</td>\n",
       "      <td>False</td>\n",
       "      <td>8.6</td>\n",
       "      <td>Sankt-Peterburg</td>\n",
       "      <td>14794.0</td>\n",
       "      <td>971.0</td>\n",
       "    </tr>\n",
       "    <tr>\n",
       "      <th>4524</th>\n",
       "      <td>3250000.0</td>\n",
       "      <td>32.0</td>\n",
       "      <td>2017-06-23T00:00:00</td>\n",
       "      <td>1</td>\n",
       "      <td>2.60</td>\n",
       "      <td>5.0</td>\n",
       "      <td>15.8</td>\n",
       "      <td>2</td>\n",
       "      <td>False</td>\n",
       "      <td>6.4</td>\n",
       "      <td>Sankt-Peterburg</td>\n",
       "      <td>12208.0</td>\n",
       "      <td>367.0</td>\n",
       "    </tr>\n",
       "    <tr>\n",
       "      <th>23319</th>\n",
       "      <td>4150000.0</td>\n",
       "      <td>46.6</td>\n",
       "      <td>2019-04-01T00:00:00</td>\n",
       "      <td>2</td>\n",
       "      <td>2.50</td>\n",
       "      <td>5.0</td>\n",
       "      <td>30.4</td>\n",
       "      <td>5</td>\n",
       "      <td>False</td>\n",
       "      <td>5.6</td>\n",
       "      <td>Sankt-Peterburg</td>\n",
       "      <td>12683.0</td>\n",
       "      <td>11.0</td>\n",
       "    </tr>\n",
       "    <tr>\n",
       "      <th>584</th>\n",
       "      <td>4500000.0</td>\n",
       "      <td>38.6</td>\n",
       "      <td>2018-01-17T00:00:00</td>\n",
       "      <td>1</td>\n",
       "      <td>2.70</td>\n",
       "      <td>17.0</td>\n",
       "      <td>20.0</td>\n",
       "      <td>15</td>\n",
       "      <td>False</td>\n",
       "      <td>10.6</td>\n",
       "      <td>Sankt-Peterburg</td>\n",
       "      <td>13554.0</td>\n",
       "      <td>322.0</td>\n",
       "    </tr>\n",
       "    <tr>\n",
       "      <th>19726</th>\n",
       "      <td>1950000.0</td>\n",
       "      <td>32.0</td>\n",
       "      <td>2016-05-26T00:00:00</td>\n",
       "      <td>1</td>\n",
       "      <td>NaN</td>\n",
       "      <td>5.0</td>\n",
       "      <td>18.0</td>\n",
       "      <td>2</td>\n",
       "      <td>False</td>\n",
       "      <td>6.0</td>\n",
       "      <td>Kirovsk</td>\n",
       "      <td>NaN</td>\n",
       "      <td>98.0</td>\n",
       "    </tr>\n",
       "    <tr>\n",
       "      <th>2264</th>\n",
       "      <td>4400000.0</td>\n",
       "      <td>59.6</td>\n",
       "      <td>2017-12-12T00:00:00</td>\n",
       "      <td>3</td>\n",
       "      <td>2.60</td>\n",
       "      <td>9.0</td>\n",
       "      <td>40.0</td>\n",
       "      <td>6</td>\n",
       "      <td>False</td>\n",
       "      <td>7.0</td>\n",
       "      <td>Sankt-Peterburg</td>\n",
       "      <td>13317.0</td>\n",
       "      <td>225.0</td>\n",
       "    </tr>\n",
       "    <tr>\n",
       "      <th>13215</th>\n",
       "      <td>4000000.0</td>\n",
       "      <td>36.1</td>\n",
       "      <td>2017-09-13T00:00:00</td>\n",
       "      <td>1</td>\n",
       "      <td>NaN</td>\n",
       "      <td>13.0</td>\n",
       "      <td>16.5</td>\n",
       "      <td>12</td>\n",
       "      <td>False</td>\n",
       "      <td>10.0</td>\n",
       "      <td>Sankt-Peterburg</td>\n",
       "      <td>9747.0</td>\n",
       "      <td>23.0</td>\n",
       "    </tr>\n",
       "    <tr>\n",
       "      <th>2887</th>\n",
       "      <td>3590000.0</td>\n",
       "      <td>35.9</td>\n",
       "      <td>2017-03-19T00:00:00</td>\n",
       "      <td>1</td>\n",
       "      <td>NaN</td>\n",
       "      <td>16.0</td>\n",
       "      <td>15.0</td>\n",
       "      <td>16</td>\n",
       "      <td>False</td>\n",
       "      <td>11.0</td>\n",
       "      <td>Sankt-Peterburg</td>\n",
       "      <td>11020.0</td>\n",
       "      <td>80.0</td>\n",
       "    </tr>\n",
       "  </tbody>\n",
       "</table>\n",
       "</div>"
      ],
      "text/plain": [
       "       last_price  total_area first_day_exposition  rooms  ceiling_height  \\\n",
       "23430   2500000.0        31.7  2018-08-14T00:00:00      1            2.70   \n",
       "12112  12600000.0       128.0  2016-04-11T00:00:00      3            2.80   \n",
       "23465   4300000.0        33.4  2016-03-29T00:00:00      1            2.58   \n",
       "4524    3250000.0        32.0  2017-06-23T00:00:00      1            2.60   \n",
       "23319   4150000.0        46.6  2019-04-01T00:00:00      2            2.50   \n",
       "584     4500000.0        38.6  2018-01-17T00:00:00      1            2.70   \n",
       "19726   1950000.0        32.0  2016-05-26T00:00:00      1             NaN   \n",
       "2264    4400000.0        59.6  2017-12-12T00:00:00      3            2.60   \n",
       "13215   4000000.0        36.1  2017-09-13T00:00:00      1             NaN   \n",
       "2887    3590000.0        35.9  2017-03-19T00:00:00      1             NaN   \n",
       "\n",
       "       floors_total  living_area  floor  studio  kitchen_area  \\\n",
       "23430           6.0         14.5      1   False          10.1   \n",
       "12112          16.0         66.0     11   False          15.0   \n",
       "23465          20.0         15.1      6   False           8.6   \n",
       "4524            5.0         15.8      2   False           6.4   \n",
       "23319           5.0         30.4      5   False           5.6   \n",
       "584            17.0         20.0     15   False          10.6   \n",
       "19726           5.0         18.0      2   False           6.0   \n",
       "2264            9.0         40.0      6   False           7.0   \n",
       "13215          13.0         16.5     12   False          10.0   \n",
       "2887           16.0         15.0     16   False          11.0   \n",
       "\n",
       "            locality_name  cityCenters_nearest  days_exposition  \n",
       "23430  Shushary setlement              23689.0             29.0  \n",
       "12112     Sankt-Peterburg               8314.0            218.0  \n",
       "23465     Sankt-Peterburg              14794.0            971.0  \n",
       "4524      Sankt-Peterburg              12208.0            367.0  \n",
       "23319     Sankt-Peterburg              12683.0             11.0  \n",
       "584       Sankt-Peterburg              13554.0            322.0  \n",
       "19726             Kirovsk                  NaN             98.0  \n",
       "2264      Sankt-Peterburg              13317.0            225.0  \n",
       "13215     Sankt-Peterburg               9747.0             23.0  \n",
       "2887      Sankt-Peterburg              11020.0             80.0  "
      ]
     },
     "execution_count": 10,
     "metadata": {},
     "output_type": "execute_result"
    }
   ],
   "source": [
    "df.info(memory_usage = 'deep')\n",
    "df.sample(10)"
   ]
  },
  {
   "cell_type": "markdown",
   "metadata": {},
   "source": [
    "The data consumes a small amount of memory, optimization is not required. Obviously, we need to change the format of the `first_day_exposition` column to datetime format, leaving only the year, day, and month."
   ]
  },
  {
   "cell_type": "code",
   "execution_count": 11,
   "metadata": {},
   "outputs": [
    {
     "data": {
      "text/html": [
       "<div>\n",
       "<style scoped>\n",
       "    .dataframe tbody tr th:only-of-type {\n",
       "        vertical-align: middle;\n",
       "    }\n",
       "\n",
       "    .dataframe tbody tr th {\n",
       "        vertical-align: top;\n",
       "    }\n",
       "\n",
       "    .dataframe thead th {\n",
       "        text-align: right;\n",
       "    }\n",
       "</style>\n",
       "<table border=\"1\" class=\"dataframe\">\n",
       "  <thead>\n",
       "    <tr style=\"text-align: right;\">\n",
       "      <th></th>\n",
       "      <th>last_price</th>\n",
       "      <th>total_area</th>\n",
       "      <th>first_day_exposition</th>\n",
       "      <th>rooms</th>\n",
       "      <th>ceiling_height</th>\n",
       "      <th>floors_total</th>\n",
       "      <th>living_area</th>\n",
       "      <th>floor</th>\n",
       "      <th>studio</th>\n",
       "      <th>kitchen_area</th>\n",
       "      <th>locality_name</th>\n",
       "      <th>cityCenters_nearest</th>\n",
       "      <th>days_exposition</th>\n",
       "    </tr>\n",
       "  </thead>\n",
       "  <tbody>\n",
       "    <tr>\n",
       "      <th>18814</th>\n",
       "      <td>1200000.0</td>\n",
       "      <td>40.00</td>\n",
       "      <td>2017-12-19</td>\n",
       "      <td>2</td>\n",
       "      <td>2.5</td>\n",
       "      <td>3.0</td>\n",
       "      <td>22.597487</td>\n",
       "      <td>3</td>\n",
       "      <td>False</td>\n",
       "      <td>NaN</td>\n",
       "      <td>Podporozh'e</td>\n",
       "      <td>NaN</td>\n",
       "      <td>101.0</td>\n",
       "    </tr>\n",
       "    <tr>\n",
       "      <th>14931</th>\n",
       "      <td>39000000.0</td>\n",
       "      <td>293.60</td>\n",
       "      <td>2019-03-07</td>\n",
       "      <td>6</td>\n",
       "      <td>3.0</td>\n",
       "      <td>4.0</td>\n",
       "      <td>139.400000</td>\n",
       "      <td>4</td>\n",
       "      <td>False</td>\n",
       "      <td>21.0</td>\n",
       "      <td>Sankt-Peterburg</td>\n",
       "      <td>7799.0</td>\n",
       "      <td>30.0</td>\n",
       "    </tr>\n",
       "    <tr>\n",
       "      <th>7673</th>\n",
       "      <td>2596800.0</td>\n",
       "      <td>64.92</td>\n",
       "      <td>2016-05-12</td>\n",
       "      <td>2</td>\n",
       "      <td>NaN</td>\n",
       "      <td>12.0</td>\n",
       "      <td>28.900000</td>\n",
       "      <td>5</td>\n",
       "      <td>False</td>\n",
       "      <td>13.2</td>\n",
       "      <td>Kingisepp</td>\n",
       "      <td>NaN</td>\n",
       "      <td>45.0</td>\n",
       "    </tr>\n",
       "    <tr>\n",
       "      <th>7693</th>\n",
       "      <td>1500000.0</td>\n",
       "      <td>46.00</td>\n",
       "      <td>2018-01-16</td>\n",
       "      <td>2</td>\n",
       "      <td>2.6</td>\n",
       "      <td>2.0</td>\n",
       "      <td>25.987110</td>\n",
       "      <td>2</td>\n",
       "      <td>False</td>\n",
       "      <td>NaN</td>\n",
       "      <td>Mga urban settlement</td>\n",
       "      <td>NaN</td>\n",
       "      <td>45.0</td>\n",
       "    </tr>\n",
       "    <tr>\n",
       "      <th>22138</th>\n",
       "      <td>4500000.0</td>\n",
       "      <td>37.70</td>\n",
       "      <td>2017-04-24</td>\n",
       "      <td>1</td>\n",
       "      <td>2.7</td>\n",
       "      <td>24.0</td>\n",
       "      <td>17.000000</td>\n",
       "      <td>9</td>\n",
       "      <td>False</td>\n",
       "      <td>12.0</td>\n",
       "      <td>Sankt-Peterburg</td>\n",
       "      <td>13268.0</td>\n",
       "      <td>227.0</td>\n",
       "    </tr>\n",
       "  </tbody>\n",
       "</table>\n",
       "</div>"
      ],
      "text/plain": [
       "       last_price  total_area first_day_exposition  rooms  ceiling_height  \\\n",
       "18814   1200000.0       40.00           2017-12-19      2             2.5   \n",
       "14931  39000000.0      293.60           2019-03-07      6             3.0   \n",
       "7673    2596800.0       64.92           2016-05-12      2             NaN   \n",
       "7693    1500000.0       46.00           2018-01-16      2             2.6   \n",
       "22138   4500000.0       37.70           2017-04-24      1             2.7   \n",
       "\n",
       "       floors_total  living_area  floor  studio  kitchen_area  \\\n",
       "18814           3.0    22.597487      3   False           NaN   \n",
       "14931           4.0   139.400000      4   False          21.0   \n",
       "7673           12.0    28.900000      5   False          13.2   \n",
       "7693            2.0    25.987110      2   False           NaN   \n",
       "22138          24.0    17.000000      9   False          12.0   \n",
       "\n",
       "              locality_name  cityCenters_nearest  days_exposition  \n",
       "18814           Podporozh'e                  NaN            101.0  \n",
       "14931       Sankt-Peterburg               7799.0             30.0  \n",
       "7673              Kingisepp                  NaN             45.0  \n",
       "7693   Mga urban settlement                  NaN             45.0  \n",
       "22138       Sankt-Peterburg              13268.0            227.0  "
      ]
     },
     "execution_count": 11,
     "metadata": {},
     "output_type": "execute_result"
    }
   ],
   "source": [
    "df['first_day_exposition'] = pd.to_datetime(df['first_day_exposition'], format = '%Y-%m-%dT%H:%M:%S')\n",
    "df.sample(5)"
   ]
  },
  {
   "cell_type": "markdown",
   "metadata": {},
   "source": [
    "Also, to simplify visual perception, we will divide the `last_price` values by 1000, thus interrupting it into a price in thousand rubles."
   ]
  },
  {
   "cell_type": "code",
   "execution_count": 12,
   "metadata": {},
   "outputs": [
    {
     "data": {
      "text/plain": [
       "count     23565.000000\n",
       "mean       6540.058260\n",
       "std       10910.934722\n",
       "min          12.190000\n",
       "25%        3400.000000\n",
       "50%        4646.000000\n",
       "75%        6790.000000\n",
       "max      763000.000000\n",
       "Name: last_price, dtype: float64"
      ]
     },
     "execution_count": 12,
     "metadata": {},
     "output_type": "execute_result"
    }
   ],
   "source": [
    "df['last_price'] = df['last_price'] / 1000\n",
    "df['last_price'].describe()"
   ]
  },
  {
   "cell_type": "markdown",
   "metadata": {},
   "source": [
    "### Duplicates"
   ]
  },
  {
   "cell_type": "code",
   "execution_count": 13,
   "metadata": {},
   "outputs": [
    {
     "data": {
      "text/html": [
       "<div>\n",
       "<style scoped>\n",
       "    .dataframe tbody tr th:only-of-type {\n",
       "        vertical-align: middle;\n",
       "    }\n",
       "\n",
       "    .dataframe tbody tr th {\n",
       "        vertical-align: top;\n",
       "    }\n",
       "\n",
       "    .dataframe thead th {\n",
       "        text-align: right;\n",
       "    }\n",
       "</style>\n",
       "<table border=\"1\" class=\"dataframe\">\n",
       "  <thead>\n",
       "    <tr style=\"text-align: right;\">\n",
       "      <th></th>\n",
       "      <th>last_price</th>\n",
       "      <th>total_area</th>\n",
       "      <th>first_day_exposition</th>\n",
       "      <th>rooms</th>\n",
       "      <th>ceiling_height</th>\n",
       "      <th>floors_total</th>\n",
       "      <th>living_area</th>\n",
       "      <th>floor</th>\n",
       "      <th>studio</th>\n",
       "      <th>kitchen_area</th>\n",
       "      <th>locality_name</th>\n",
       "      <th>cityCenters_nearest</th>\n",
       "      <th>days_exposition</th>\n",
       "    </tr>\n",
       "  </thead>\n",
       "  <tbody>\n",
       "  </tbody>\n",
       "</table>\n",
       "</div>"
      ],
      "text/plain": [
       "Empty DataFrame\n",
       "Columns: [last_price, total_area, first_day_exposition, rooms, ceiling_height, floors_total, living_area, floor, studio, kitchen_area, locality_name, cityCenters_nearest, days_exposition]\n",
       "Index: []"
      ]
     },
     "execution_count": 13,
     "metadata": {},
     "output_type": "execute_result"
    }
   ],
   "source": [
    "df[df.duplicated()]"
   ]
  },
  {
   "cell_type": "markdown",
   "metadata": {},
   "source": [
    "No duplicates found"
   ]
  },
  {
   "cell_type": "markdown",
   "metadata": {},
   "source": [
    "### Conclusion"
   ]
  },
  {
   "cell_type": "markdown",
   "metadata": {},
   "source": [
    "- Removed a number of columns that will not be needed in a future reserch\n",
    "- Removed gaps in columns `floors_total` and `locality_name` due to their small number and impossibility to fill with logical values\n",
    "- In the `days_exposition`, `kitchen_area` columns, the data is left as is, since in the first case, too large range of values would have to be deleted, and in the second case, the value chages will not greatly affect the reserch\n",
    "- In the `cityCenters_nearest` column, the data is left as is, since there is a hypothesis that this data means the location of the apartment directly in the center. The hypothesis will be tested in the reserch\n",
    "- Correlation found between `living_area` column with `total_are` column. The gaps are filled by the average value according to the living area to total ratio\n",
    "- In the `total_price` column, the bit depth has been changed from units of rubles to thousands of rubles\n",
    "- No duplicates found"
   ]
  },
  {
   "cell_type": "markdown",
   "metadata": {},
   "source": [
    "## Adding data"
   ]
  },
  {
   "cell_type": "markdown",
   "metadata": {},
   "source": [
    "Let's perform the tasks of calculating and adding to the table:\n",
    "- Price per square meter `price_per_m2`\n",
    "- Day `day`\n",
    "- Month `month`\n",
    "- Year `year`\n",
    "- Ratio of living area to total `living_to_total`\n",
    "- Ratio of kitchen area to total `kitchen_to_total`"
   ]
  },
  {
   "cell_type": "code",
   "execution_count": 14,
   "metadata": {},
   "outputs": [
    {
     "data": {
      "text/html": [
       "<div>\n",
       "<style scoped>\n",
       "    .dataframe tbody tr th:only-of-type {\n",
       "        vertical-align: middle;\n",
       "    }\n",
       "\n",
       "    .dataframe tbody tr th {\n",
       "        vertical-align: top;\n",
       "    }\n",
       "\n",
       "    .dataframe thead th {\n",
       "        text-align: right;\n",
       "    }\n",
       "</style>\n",
       "<table border=\"1\" class=\"dataframe\">\n",
       "  <thead>\n",
       "    <tr style=\"text-align: right;\">\n",
       "      <th></th>\n",
       "      <th>last_price</th>\n",
       "      <th>total_area</th>\n",
       "      <th>first_day_exposition</th>\n",
       "      <th>rooms</th>\n",
       "      <th>ceiling_height</th>\n",
       "      <th>floors_total</th>\n",
       "      <th>living_area</th>\n",
       "      <th>floor</th>\n",
       "      <th>studio</th>\n",
       "      <th>kitchen_area</th>\n",
       "      <th>locality_name</th>\n",
       "      <th>cityCenters_nearest</th>\n",
       "      <th>days_exposition</th>\n",
       "      <th>price_per_m2</th>\n",
       "      <th>day</th>\n",
       "      <th>month</th>\n",
       "      <th>year</th>\n",
       "      <th>living_to_total</th>\n",
       "      <th>kitchen_to_total</th>\n",
       "    </tr>\n",
       "  </thead>\n",
       "  <tbody>\n",
       "    <tr>\n",
       "      <th>13886</th>\n",
       "      <td>3870.0</td>\n",
       "      <td>33.0</td>\n",
       "      <td>2017-02-14</td>\n",
       "      <td>1</td>\n",
       "      <td>NaN</td>\n",
       "      <td>24.0</td>\n",
       "      <td>14.5</td>\n",
       "      <td>15</td>\n",
       "      <td>False</td>\n",
       "      <td>9.5</td>\n",
       "      <td>Sankt-Peterburg</td>\n",
       "      <td>13783.0</td>\n",
       "      <td>32.0</td>\n",
       "      <td>117</td>\n",
       "      <td>1</td>\n",
       "      <td>2</td>\n",
       "      <td>2017</td>\n",
       "      <td>0.439394</td>\n",
       "      <td>0.287879</td>\n",
       "    </tr>\n",
       "    <tr>\n",
       "      <th>22425</th>\n",
       "      <td>4500.0</td>\n",
       "      <td>73.7</td>\n",
       "      <td>2018-01-20</td>\n",
       "      <td>3</td>\n",
       "      <td>2.50</td>\n",
       "      <td>9.0</td>\n",
       "      <td>43.4</td>\n",
       "      <td>9</td>\n",
       "      <td>False</td>\n",
       "      <td>8.3</td>\n",
       "      <td>Otradnoe</td>\n",
       "      <td>NaN</td>\n",
       "      <td>383.0</td>\n",
       "      <td>61</td>\n",
       "      <td>5</td>\n",
       "      <td>1</td>\n",
       "      <td>2018</td>\n",
       "      <td>0.588874</td>\n",
       "      <td>0.112619</td>\n",
       "    </tr>\n",
       "    <tr>\n",
       "      <th>5672</th>\n",
       "      <td>5100.0</td>\n",
       "      <td>66.0</td>\n",
       "      <td>2018-12-18</td>\n",
       "      <td>3</td>\n",
       "      <td>2.50</td>\n",
       "      <td>9.0</td>\n",
       "      <td>47.0</td>\n",
       "      <td>1</td>\n",
       "      <td>False</td>\n",
       "      <td>6.2</td>\n",
       "      <td>Sankt-Peterburg</td>\n",
       "      <td>14950.0</td>\n",
       "      <td>84.0</td>\n",
       "      <td>77</td>\n",
       "      <td>1</td>\n",
       "      <td>12</td>\n",
       "      <td>2018</td>\n",
       "      <td>0.712121</td>\n",
       "      <td>0.093939</td>\n",
       "    </tr>\n",
       "    <tr>\n",
       "      <th>14216</th>\n",
       "      <td>5000.0</td>\n",
       "      <td>73.0</td>\n",
       "      <td>2018-10-18</td>\n",
       "      <td>3</td>\n",
       "      <td>2.55</td>\n",
       "      <td>10.0</td>\n",
       "      <td>43.5</td>\n",
       "      <td>1</td>\n",
       "      <td>False</td>\n",
       "      <td>8.6</td>\n",
       "      <td>Murino setlement</td>\n",
       "      <td>NaN</td>\n",
       "      <td>5.0</td>\n",
       "      <td>68</td>\n",
       "      <td>3</td>\n",
       "      <td>10</td>\n",
       "      <td>2018</td>\n",
       "      <td>0.595890</td>\n",
       "      <td>0.117808</td>\n",
       "    </tr>\n",
       "    <tr>\n",
       "      <th>6007</th>\n",
       "      <td>3650.0</td>\n",
       "      <td>34.5</td>\n",
       "      <td>2018-03-06</td>\n",
       "      <td>1</td>\n",
       "      <td>2.75</td>\n",
       "      <td>25.0</td>\n",
       "      <td>16.0</td>\n",
       "      <td>19</td>\n",
       "      <td>False</td>\n",
       "      <td>9.5</td>\n",
       "      <td>Sankt-Peterburg</td>\n",
       "      <td>16414.0</td>\n",
       "      <td>10.0</td>\n",
       "      <td>105</td>\n",
       "      <td>1</td>\n",
       "      <td>3</td>\n",
       "      <td>2018</td>\n",
       "      <td>0.463768</td>\n",
       "      <td>0.275362</td>\n",
       "    </tr>\n",
       "  </tbody>\n",
       "</table>\n",
       "</div>"
      ],
      "text/plain": [
       "       last_price  total_area first_day_exposition  rooms  ceiling_height  \\\n",
       "13886      3870.0        33.0           2017-02-14      1             NaN   \n",
       "22425      4500.0        73.7           2018-01-20      3            2.50   \n",
       "5672       5100.0        66.0           2018-12-18      3            2.50   \n",
       "14216      5000.0        73.0           2018-10-18      3            2.55   \n",
       "6007       3650.0        34.5           2018-03-06      1            2.75   \n",
       "\n",
       "       floors_total  living_area  floor  studio  kitchen_area  \\\n",
       "13886          24.0         14.5     15   False           9.5   \n",
       "22425           9.0         43.4      9   False           8.3   \n",
       "5672            9.0         47.0      1   False           6.2   \n",
       "14216          10.0         43.5      1   False           8.6   \n",
       "6007           25.0         16.0     19   False           9.5   \n",
       "\n",
       "          locality_name  cityCenters_nearest  days_exposition  price_per_m2  \\\n",
       "13886   Sankt-Peterburg              13783.0             32.0           117   \n",
       "22425          Otradnoe                  NaN            383.0            61   \n",
       "5672    Sankt-Peterburg              14950.0             84.0            77   \n",
       "14216  Murino setlement                  NaN              5.0            68   \n",
       "6007    Sankt-Peterburg              16414.0             10.0           105   \n",
       "\n",
       "       day  month  year  living_to_total  kitchen_to_total  \n",
       "13886    1      2  2017         0.439394          0.287879  \n",
       "22425    5      1  2018         0.588874          0.112619  \n",
       "5672     1     12  2018         0.712121          0.093939  \n",
       "14216    3     10  2018         0.595890          0.117808  \n",
       "6007     1      3  2018         0.463768          0.275362  "
      ]
     },
     "execution_count": 14,
     "metadata": {},
     "output_type": "execute_result"
    }
   ],
   "source": [
    "df['price_per_m2'] = df['last_price'] / df['total_area']\n",
    "df['price_per_m2'] = df['price_per_m2'].astype('int')\n",
    "df['day'] = df['first_day_exposition'].dt.dayofweek\n",
    "df['month'] = df['first_day_exposition'].dt.month\n",
    "df['year'] = df['first_day_exposition'].dt.year\n",
    "df['living_to_total'] = df['living_area'] / df['total_area']\n",
    "df['kitchen_to_total'] = df['kitchen_area'] / df['total_area']\n",
    "\n",
    "df.sample(5)"
   ]
  },
  {
   "cell_type": "markdown",
   "metadata": {},
   "source": [
    "Let's perform the task of categorizing of the apartment floor location values in the `floor_type` column, applying the following categories:\n",
    "- Ground floor, if the floor is equal to one\n",
    "- Last floor if the floor is equal to the total number of floors\n",
    "- Other on other occasions\n",
    "- Unknown, in case of zeros"
   ]
  },
  {
   "cell_type": "code",
   "execution_count": 15,
   "metadata": {},
   "outputs": [
    {
     "data": {
      "text/html": [
       "<div>\n",
       "<style scoped>\n",
       "    .dataframe tbody tr th:only-of-type {\n",
       "        vertical-align: middle;\n",
       "    }\n",
       "\n",
       "    .dataframe tbody tr th {\n",
       "        vertical-align: top;\n",
       "    }\n",
       "\n",
       "    .dataframe thead th {\n",
       "        text-align: right;\n",
       "    }\n",
       "</style>\n",
       "<table border=\"1\" class=\"dataframe\">\n",
       "  <thead>\n",
       "    <tr style=\"text-align: right;\">\n",
       "      <th></th>\n",
       "      <th>last_price</th>\n",
       "      <th>total_area</th>\n",
       "      <th>first_day_exposition</th>\n",
       "      <th>rooms</th>\n",
       "      <th>ceiling_height</th>\n",
       "      <th>floors_total</th>\n",
       "      <th>living_area</th>\n",
       "      <th>floor</th>\n",
       "      <th>studio</th>\n",
       "      <th>kitchen_area</th>\n",
       "      <th>locality_name</th>\n",
       "      <th>cityCenters_nearest</th>\n",
       "      <th>days_exposition</th>\n",
       "      <th>price_per_m2</th>\n",
       "      <th>day</th>\n",
       "      <th>month</th>\n",
       "      <th>year</th>\n",
       "      <th>living_to_total</th>\n",
       "      <th>kitchen_to_total</th>\n",
       "      <th>floor_type</th>\n",
       "    </tr>\n",
       "  </thead>\n",
       "  <tbody>\n",
       "    <tr>\n",
       "      <th>50</th>\n",
       "      <td>4500.0</td>\n",
       "      <td>48.2</td>\n",
       "      <td>2017-11-13</td>\n",
       "      <td>1</td>\n",
       "      <td>2.70</td>\n",
       "      <td>5.0</td>\n",
       "      <td>25.4</td>\n",
       "      <td>4</td>\n",
       "      <td>False</td>\n",
       "      <td>9.0</td>\n",
       "      <td>Pushkin</td>\n",
       "      <td>30183.0</td>\n",
       "      <td>152.0</td>\n",
       "      <td>93</td>\n",
       "      <td>0</td>\n",
       "      <td>11</td>\n",
       "      <td>2017</td>\n",
       "      <td>0.526971</td>\n",
       "      <td>0.186722</td>\n",
       "      <td>Other</td>\n",
       "    </tr>\n",
       "    <tr>\n",
       "      <th>17715</th>\n",
       "      <td>4225.0</td>\n",
       "      <td>38.4</td>\n",
       "      <td>2017-09-08</td>\n",
       "      <td>1</td>\n",
       "      <td>NaN</td>\n",
       "      <td>19.0</td>\n",
       "      <td>17.7</td>\n",
       "      <td>7</td>\n",
       "      <td>False</td>\n",
       "      <td>11.2</td>\n",
       "      <td>Sankt-Peterburg</td>\n",
       "      <td>15144.0</td>\n",
       "      <td>39.0</td>\n",
       "      <td>110</td>\n",
       "      <td>4</td>\n",
       "      <td>9</td>\n",
       "      <td>2017</td>\n",
       "      <td>0.460938</td>\n",
       "      <td>0.291667</td>\n",
       "      <td>Other</td>\n",
       "    </tr>\n",
       "    <tr>\n",
       "      <th>23432</th>\n",
       "      <td>2990.0</td>\n",
       "      <td>32.0</td>\n",
       "      <td>2017-11-09</td>\n",
       "      <td>1</td>\n",
       "      <td>NaN</td>\n",
       "      <td>9.0</td>\n",
       "      <td>18.0</td>\n",
       "      <td>7</td>\n",
       "      <td>False</td>\n",
       "      <td>6.5</td>\n",
       "      <td>Sankt-Peterburg</td>\n",
       "      <td>15955.0</td>\n",
       "      <td>11.0</td>\n",
       "      <td>93</td>\n",
       "      <td>3</td>\n",
       "      <td>11</td>\n",
       "      <td>2017</td>\n",
       "      <td>0.562500</td>\n",
       "      <td>0.203125</td>\n",
       "      <td>Other</td>\n",
       "    </tr>\n",
       "    <tr>\n",
       "      <th>11727</th>\n",
       "      <td>6550.0</td>\n",
       "      <td>57.4</td>\n",
       "      <td>2018-07-29</td>\n",
       "      <td>2</td>\n",
       "      <td>2.70</td>\n",
       "      <td>12.0</td>\n",
       "      <td>33.2</td>\n",
       "      <td>8</td>\n",
       "      <td>False</td>\n",
       "      <td>9.4</td>\n",
       "      <td>Sankt-Peterburg</td>\n",
       "      <td>15470.0</td>\n",
       "      <td>41.0</td>\n",
       "      <td>114</td>\n",
       "      <td>6</td>\n",
       "      <td>7</td>\n",
       "      <td>2018</td>\n",
       "      <td>0.578397</td>\n",
       "      <td>0.163763</td>\n",
       "      <td>Other</td>\n",
       "    </tr>\n",
       "    <tr>\n",
       "      <th>9332</th>\n",
       "      <td>6900.0</td>\n",
       "      <td>53.8</td>\n",
       "      <td>2018-09-25</td>\n",
       "      <td>2</td>\n",
       "      <td>2.76</td>\n",
       "      <td>15.0</td>\n",
       "      <td>30.3</td>\n",
       "      <td>1</td>\n",
       "      <td>False</td>\n",
       "      <td>9.8</td>\n",
       "      <td>Sankt-Peterburg</td>\n",
       "      <td>13239.0</td>\n",
       "      <td>169.0</td>\n",
       "      <td>128</td>\n",
       "      <td>1</td>\n",
       "      <td>9</td>\n",
       "      <td>2018</td>\n",
       "      <td>0.563197</td>\n",
       "      <td>0.182156</td>\n",
       "      <td>Ground floor</td>\n",
       "    </tr>\n",
       "    <tr>\n",
       "      <th>8850</th>\n",
       "      <td>3000.0</td>\n",
       "      <td>40.1</td>\n",
       "      <td>2018-07-17</td>\n",
       "      <td>1</td>\n",
       "      <td>NaN</td>\n",
       "      <td>10.0</td>\n",
       "      <td>17.2</td>\n",
       "      <td>7</td>\n",
       "      <td>False</td>\n",
       "      <td>8.3</td>\n",
       "      <td>Murino setlement</td>\n",
       "      <td>NaN</td>\n",
       "      <td>162.0</td>\n",
       "      <td>74</td>\n",
       "      <td>1</td>\n",
       "      <td>7</td>\n",
       "      <td>2018</td>\n",
       "      <td>0.428928</td>\n",
       "      <td>0.206983</td>\n",
       "      <td>Other</td>\n",
       "    </tr>\n",
       "    <tr>\n",
       "      <th>17511</th>\n",
       "      <td>2800.0</td>\n",
       "      <td>32.0</td>\n",
       "      <td>2016-06-28</td>\n",
       "      <td>1</td>\n",
       "      <td>NaN</td>\n",
       "      <td>5.0</td>\n",
       "      <td>18.0</td>\n",
       "      <td>2</td>\n",
       "      <td>False</td>\n",
       "      <td>6.0</td>\n",
       "      <td>Sankt-Peterburg</td>\n",
       "      <td>14385.0</td>\n",
       "      <td>44.0</td>\n",
       "      <td>87</td>\n",
       "      <td>1</td>\n",
       "      <td>6</td>\n",
       "      <td>2016</td>\n",
       "      <td>0.562500</td>\n",
       "      <td>0.187500</td>\n",
       "      <td>Other</td>\n",
       "    </tr>\n",
       "    <tr>\n",
       "      <th>11022</th>\n",
       "      <td>5400.0</td>\n",
       "      <td>61.6</td>\n",
       "      <td>2018-01-11</td>\n",
       "      <td>2</td>\n",
       "      <td>3.05</td>\n",
       "      <td>4.0</td>\n",
       "      <td>32.8</td>\n",
       "      <td>1</td>\n",
       "      <td>False</td>\n",
       "      <td>8.4</td>\n",
       "      <td>Sankt-Peterburg</td>\n",
       "      <td>11277.0</td>\n",
       "      <td>NaN</td>\n",
       "      <td>87</td>\n",
       "      <td>3</td>\n",
       "      <td>1</td>\n",
       "      <td>2018</td>\n",
       "      <td>0.532468</td>\n",
       "      <td>0.136364</td>\n",
       "      <td>Ground floor</td>\n",
       "    </tr>\n",
       "    <tr>\n",
       "      <th>23029</th>\n",
       "      <td>4350.0</td>\n",
       "      <td>44.9</td>\n",
       "      <td>2017-08-10</td>\n",
       "      <td>1</td>\n",
       "      <td>NaN</td>\n",
       "      <td>16.0</td>\n",
       "      <td>19.3</td>\n",
       "      <td>5</td>\n",
       "      <td>False</td>\n",
       "      <td>12.6</td>\n",
       "      <td>Sankt-Peterburg</td>\n",
       "      <td>15294.0</td>\n",
       "      <td>128.0</td>\n",
       "      <td>96</td>\n",
       "      <td>3</td>\n",
       "      <td>8</td>\n",
       "      <td>2017</td>\n",
       "      <td>0.429844</td>\n",
       "      <td>0.280624</td>\n",
       "      <td>Other</td>\n",
       "    </tr>\n",
       "    <tr>\n",
       "      <th>9467</th>\n",
       "      <td>3700.0</td>\n",
       "      <td>42.0</td>\n",
       "      <td>2018-12-07</td>\n",
       "      <td>1</td>\n",
       "      <td>2.60</td>\n",
       "      <td>5.0</td>\n",
       "      <td>17.0</td>\n",
       "      <td>2</td>\n",
       "      <td>False</td>\n",
       "      <td>12.0</td>\n",
       "      <td>Murino</td>\n",
       "      <td>NaN</td>\n",
       "      <td>NaN</td>\n",
       "      <td>88</td>\n",
       "      <td>4</td>\n",
       "      <td>12</td>\n",
       "      <td>2018</td>\n",
       "      <td>0.404762</td>\n",
       "      <td>0.285714</td>\n",
       "      <td>Other</td>\n",
       "    </tr>\n",
       "  </tbody>\n",
       "</table>\n",
       "</div>"
      ],
      "text/plain": [
       "       last_price  total_area first_day_exposition  rooms  ceiling_height  \\\n",
       "50         4500.0        48.2           2017-11-13      1            2.70   \n",
       "17715      4225.0        38.4           2017-09-08      1             NaN   \n",
       "23432      2990.0        32.0           2017-11-09      1             NaN   \n",
       "11727      6550.0        57.4           2018-07-29      2            2.70   \n",
       "9332       6900.0        53.8           2018-09-25      2            2.76   \n",
       "8850       3000.0        40.1           2018-07-17      1             NaN   \n",
       "17511      2800.0        32.0           2016-06-28      1             NaN   \n",
       "11022      5400.0        61.6           2018-01-11      2            3.05   \n",
       "23029      4350.0        44.9           2017-08-10      1             NaN   \n",
       "9467       3700.0        42.0           2018-12-07      1            2.60   \n",
       "\n",
       "       floors_total  living_area  floor  studio  kitchen_area  \\\n",
       "50              5.0         25.4      4   False           9.0   \n",
       "17715          19.0         17.7      7   False          11.2   \n",
       "23432           9.0         18.0      7   False           6.5   \n",
       "11727          12.0         33.2      8   False           9.4   \n",
       "9332           15.0         30.3      1   False           9.8   \n",
       "8850           10.0         17.2      7   False           8.3   \n",
       "17511           5.0         18.0      2   False           6.0   \n",
       "11022           4.0         32.8      1   False           8.4   \n",
       "23029          16.0         19.3      5   False          12.6   \n",
       "9467            5.0         17.0      2   False          12.0   \n",
       "\n",
       "          locality_name  cityCenters_nearest  days_exposition  price_per_m2  \\\n",
       "50              Pushkin              30183.0            152.0            93   \n",
       "17715   Sankt-Peterburg              15144.0             39.0           110   \n",
       "23432   Sankt-Peterburg              15955.0             11.0            93   \n",
       "11727   Sankt-Peterburg              15470.0             41.0           114   \n",
       "9332    Sankt-Peterburg              13239.0            169.0           128   \n",
       "8850   Murino setlement                  NaN            162.0            74   \n",
       "17511   Sankt-Peterburg              14385.0             44.0            87   \n",
       "11022   Sankt-Peterburg              11277.0              NaN            87   \n",
       "23029   Sankt-Peterburg              15294.0            128.0            96   \n",
       "9467             Murino                  NaN              NaN            88   \n",
       "\n",
       "       day  month  year  living_to_total  kitchen_to_total    floor_type  \n",
       "50       0     11  2017         0.526971          0.186722         Other  \n",
       "17715    4      9  2017         0.460938          0.291667         Other  \n",
       "23432    3     11  2017         0.562500          0.203125         Other  \n",
       "11727    6      7  2018         0.578397          0.163763         Other  \n",
       "9332     1      9  2018         0.563197          0.182156  Ground floor  \n",
       "8850     1      7  2018         0.428928          0.206983         Other  \n",
       "17511    1      6  2016         0.562500          0.187500         Other  \n",
       "11022    3      1  2018         0.532468          0.136364  Ground floor  \n",
       "23029    3      8  2017         0.429844          0.280624         Other  \n",
       "9467     4     12  2018         0.404762          0.285714         Other  "
      ]
     },
     "execution_count": 15,
     "metadata": {},
     "output_type": "execute_result"
    }
   ],
   "source": [
    "df.loc[df['floor'] == 1, 'floor_type'] = 'Ground floor'\n",
    "df.loc[df['floor'] == df['floors_total'], 'floor_type'] = 'Last floor'\n",
    "df.loc[df['floor'] == 0, 'floor_type'] = 'Unknown'\n",
    "df['floor_type'] = df['floor_type'].fillna('Other')\n",
    "df.sample(10)"
   ]
  },
  {
   "cell_type": "markdown",
   "metadata": {},
   "source": [
    "### Conclusion"
   ]
  },
  {
   "cell_type": "markdown",
   "metadata": {},
   "source": [
    "The following columns have been added:\n",
    "- `price_per_m2` - price per square meter, calculated as price divided by total area\n",
    "- `day` - day of the week\n",
    "- `month` - month\n",
    "- `year` - year\n",
    "- `living_to_total` - share of living space in total, calculated as the living space to total ratio\n",
    "- `kitchen_to_total` - the share of the kitchen area in the total, calculated as the kitchen area to total ratio\n",
    "- `floor_type` - floor category, ground, last, other, unknown"
   ]
  },
  {
   "cell_type": "markdown",
   "metadata": {},
   "source": [
    "## Exploratory data analysis"
   ]
  },
  {
   "cell_type": "markdown",
   "metadata": {},
   "source": [
    "### Statistical outliers processing"
   ]
  },
  {
   "cell_type": "markdown",
   "metadata": {},
   "source": [
    "Let's look at the plot of the apartment price data distribution"
   ]
  },
  {
   "cell_type": "code",
   "execution_count": 16,
   "metadata": {},
   "outputs": [
    {
     "data": {
      "image/png": "[encoded data removed]",
      "text/plain": [
       "<Figure size 864x432 with 1 Axes>"
      ]
     },
     "metadata": {
      "needs_background": "light"
     },
     "output_type": "display_data"
    },
    {
     "data": {
      "text/plain": [
       "count     23565.000000\n",
       "mean       6540.058260\n",
       "std       10910.934722\n",
       "min          12.190000\n",
       "25%        3400.000000\n",
       "50%        4646.000000\n",
       "75%        6790.000000\n",
       "max      763000.000000\n",
       "Name: last_price, dtype: float64"
      ]
     },
     "execution_count": 16,
     "metadata": {},
     "output_type": "execute_result"
    }
   ],
   "source": [
    "lp_hist = df['last_price'].hist(range = (0, 40000), bins = 100, figsize = (12, 6))\n",
    "lp_hist.set_title('Apartment price distribution')\n",
    "lp_hist.set_ylabel('Appartments number')\n",
    "lp_hist.set_xlabel('Appartments price, ths rub')\n",
    "plt.show()\n",
    "df['last_price'].describe()"
   ]
  },
  {
   "cell_type": "markdown",
   "metadata": {},
   "source": [
    "The median value of 4.6 million is very different from the average of 6.5 million. There is clearly a market inequality, as well as errors and statistical outliers. The minimum price of an apartment of 12,190 rubles is suspicious. We should take a closer look at the lowest values of the price"
   ]
  },
  {
   "cell_type": "code",
   "execution_count": 17,
   "metadata": {},
   "outputs": [
    {
     "data": {
      "text/html": [
       "<div>\n",
       "<style scoped>\n",
       "    .dataframe tbody tr th:only-of-type {\n",
       "        vertical-align: middle;\n",
       "    }\n",
       "\n",
       "    .dataframe tbody tr th {\n",
       "        vertical-align: top;\n",
       "    }\n",
       "\n",
       "    .dataframe thead th {\n",
       "        text-align: right;\n",
       "    }\n",
       "</style>\n",
       "<table border=\"1\" class=\"dataframe\">\n",
       "  <thead>\n",
       "    <tr style=\"text-align: right;\">\n",
       "      <th></th>\n",
       "      <th>last_price</th>\n",
       "      <th>total_area</th>\n",
       "      <th>first_day_exposition</th>\n",
       "      <th>rooms</th>\n",
       "      <th>ceiling_height</th>\n",
       "      <th>floors_total</th>\n",
       "      <th>living_area</th>\n",
       "      <th>floor</th>\n",
       "      <th>studio</th>\n",
       "      <th>kitchen_area</th>\n",
       "      <th>locality_name</th>\n",
       "      <th>cityCenters_nearest</th>\n",
       "      <th>days_exposition</th>\n",
       "      <th>price_per_m2</th>\n",
       "      <th>day</th>\n",
       "      <th>month</th>\n",
       "      <th>year</th>\n",
       "      <th>living_to_total</th>\n",
       "      <th>kitchen_to_total</th>\n",
       "      <th>floor_type</th>\n",
       "    </tr>\n",
       "  </thead>\n",
       "  <tbody>\n",
       "    <tr>\n",
       "      <th>5670</th>\n",
       "      <td>450.00</td>\n",
       "      <td>42.0</td>\n",
       "      <td>2017-07-31</td>\n",
       "      <td>2</td>\n",
       "      <td>NaN</td>\n",
       "      <td>1.0</td>\n",
       "      <td>23.000000</td>\n",
       "      <td>1</td>\n",
       "      <td>False</td>\n",
       "      <td>5.8</td>\n",
       "      <td>Budogosch' urban settlement</td>\n",
       "      <td>NaN</td>\n",
       "      <td>233.0</td>\n",
       "      <td>10</td>\n",
       "      <td>0</td>\n",
       "      <td>7</td>\n",
       "      <td>2017</td>\n",
       "      <td>0.547619</td>\n",
       "      <td>0.138095</td>\n",
       "      <td>Last floor</td>\n",
       "    </tr>\n",
       "    <tr>\n",
       "      <th>6824</th>\n",
       "      <td>490.00</td>\n",
       "      <td>40.0</td>\n",
       "      <td>2017-12-11</td>\n",
       "      <td>1</td>\n",
       "      <td>NaN</td>\n",
       "      <td>5.0</td>\n",
       "      <td>22.597487</td>\n",
       "      <td>3</td>\n",
       "      <td>False</td>\n",
       "      <td>NaN</td>\n",
       "      <td>Staropol'e village</td>\n",
       "      <td>NaN</td>\n",
       "      <td>43.0</td>\n",
       "      <td>12</td>\n",
       "      <td>0</td>\n",
       "      <td>12</td>\n",
       "      <td>2017</td>\n",
       "      <td>0.564937</td>\n",
       "      <td>NaN</td>\n",
       "      <td>Other</td>\n",
       "    </tr>\n",
       "    <tr>\n",
       "      <th>8750</th>\n",
       "      <td>12.19</td>\n",
       "      <td>109.0</td>\n",
       "      <td>2019-03-20</td>\n",
       "      <td>2</td>\n",
       "      <td>2.75</td>\n",
       "      <td>25.0</td>\n",
       "      <td>32.000000</td>\n",
       "      <td>25</td>\n",
       "      <td>False</td>\n",
       "      <td>40.5</td>\n",
       "      <td>Sankt-Peterburg</td>\n",
       "      <td>9176.0</td>\n",
       "      <td>8.0</td>\n",
       "      <td>0</td>\n",
       "      <td>2</td>\n",
       "      <td>3</td>\n",
       "      <td>2019</td>\n",
       "      <td>0.293578</td>\n",
       "      <td>0.371560</td>\n",
       "      <td>Last floor</td>\n",
       "    </tr>\n",
       "    <tr>\n",
       "      <th>9535</th>\n",
       "      <td>450.00</td>\n",
       "      <td>43.4</td>\n",
       "      <td>2018-08-31</td>\n",
       "      <td>2</td>\n",
       "      <td>NaN</td>\n",
       "      <td>5.0</td>\n",
       "      <td>30.300000</td>\n",
       "      <td>3</td>\n",
       "      <td>False</td>\n",
       "      <td>5.5</td>\n",
       "      <td>Staropol'e village</td>\n",
       "      <td>NaN</td>\n",
       "      <td>96.0</td>\n",
       "      <td>10</td>\n",
       "      <td>4</td>\n",
       "      <td>8</td>\n",
       "      <td>2018</td>\n",
       "      <td>0.698157</td>\n",
       "      <td>0.126728</td>\n",
       "      <td>Other</td>\n",
       "    </tr>\n",
       "    <tr>\n",
       "      <th>10722</th>\n",
       "      <td>490.00</td>\n",
       "      <td>29.1</td>\n",
       "      <td>2016-05-05</td>\n",
       "      <td>1</td>\n",
       "      <td>2.50</td>\n",
       "      <td>5.0</td>\n",
       "      <td>17.000000</td>\n",
       "      <td>5</td>\n",
       "      <td>False</td>\n",
       "      <td>5.5</td>\n",
       "      <td>Slantsy</td>\n",
       "      <td>NaN</td>\n",
       "      <td>719.0</td>\n",
       "      <td>16</td>\n",
       "      <td>3</td>\n",
       "      <td>5</td>\n",
       "      <td>2016</td>\n",
       "      <td>0.584192</td>\n",
       "      <td>0.189003</td>\n",
       "      <td>Last floor</td>\n",
       "    </tr>\n",
       "    <tr>\n",
       "      <th>14825</th>\n",
       "      <td>430.00</td>\n",
       "      <td>54.0</td>\n",
       "      <td>2018-06-26</td>\n",
       "      <td>2</td>\n",
       "      <td>NaN</td>\n",
       "      <td>3.0</td>\n",
       "      <td>30.506607</td>\n",
       "      <td>3</td>\n",
       "      <td>False</td>\n",
       "      <td>NaN</td>\n",
       "      <td>settlement station Svir'</td>\n",
       "      <td>NaN</td>\n",
       "      <td>44.0</td>\n",
       "      <td>7</td>\n",
       "      <td>1</td>\n",
       "      <td>6</td>\n",
       "      <td>2018</td>\n",
       "      <td>0.564937</td>\n",
       "      <td>NaN</td>\n",
       "      <td>Last floor</td>\n",
       "    </tr>\n",
       "    <tr>\n",
       "      <th>15943</th>\n",
       "      <td>480.00</td>\n",
       "      <td>32.0</td>\n",
       "      <td>2019-01-06</td>\n",
       "      <td>1</td>\n",
       "      <td>NaN</td>\n",
       "      <td>2.0</td>\n",
       "      <td>16.000000</td>\n",
       "      <td>1</td>\n",
       "      <td>False</td>\n",
       "      <td>NaN</td>\n",
       "      <td>Slantsy</td>\n",
       "      <td>NaN</td>\n",
       "      <td>83.0</td>\n",
       "      <td>15</td>\n",
       "      <td>6</td>\n",
       "      <td>1</td>\n",
       "      <td>2019</td>\n",
       "      <td>0.500000</td>\n",
       "      <td>NaN</td>\n",
       "      <td>Ground floor</td>\n",
       "    </tr>\n",
       "    <tr>\n",
       "      <th>16130</th>\n",
       "      <td>450.00</td>\n",
       "      <td>38.5</td>\n",
       "      <td>2018-07-11</td>\n",
       "      <td>2</td>\n",
       "      <td>2.65</td>\n",
       "      <td>2.0</td>\n",
       "      <td>21.750081</td>\n",
       "      <td>1</td>\n",
       "      <td>False</td>\n",
       "      <td>NaN</td>\n",
       "      <td>Vahnova Kara village</td>\n",
       "      <td>NaN</td>\n",
       "      <td>45.0</td>\n",
       "      <td>11</td>\n",
       "      <td>2</td>\n",
       "      <td>7</td>\n",
       "      <td>2018</td>\n",
       "      <td>0.564937</td>\n",
       "      <td>NaN</td>\n",
       "      <td>Ground floor</td>\n",
       "    </tr>\n",
       "    <tr>\n",
       "      <th>16185</th>\n",
       "      <td>440.00</td>\n",
       "      <td>40.0</td>\n",
       "      <td>2018-07-10</td>\n",
       "      <td>1</td>\n",
       "      <td>NaN</td>\n",
       "      <td>5.0</td>\n",
       "      <td>22.597487</td>\n",
       "      <td>1</td>\n",
       "      <td>False</td>\n",
       "      <td>NaN</td>\n",
       "      <td>Staropol'e village</td>\n",
       "      <td>NaN</td>\n",
       "      <td>45.0</td>\n",
       "      <td>11</td>\n",
       "      <td>1</td>\n",
       "      <td>7</td>\n",
       "      <td>2018</td>\n",
       "      <td>0.564937</td>\n",
       "      <td>NaN</td>\n",
       "      <td>Ground floor</td>\n",
       "    </tr>\n",
       "    <tr>\n",
       "      <th>17359</th>\n",
       "      <td>430.00</td>\n",
       "      <td>30.4</td>\n",
       "      <td>2019-04-22</td>\n",
       "      <td>1</td>\n",
       "      <td>NaN</td>\n",
       "      <td>2.0</td>\n",
       "      <td>16.000000</td>\n",
       "      <td>1</td>\n",
       "      <td>False</td>\n",
       "      <td>6.0</td>\n",
       "      <td>Slantsy</td>\n",
       "      <td>NaN</td>\n",
       "      <td>NaN</td>\n",
       "      <td>14</td>\n",
       "      <td>0</td>\n",
       "      <td>4</td>\n",
       "      <td>2019</td>\n",
       "      <td>0.526316</td>\n",
       "      <td>0.197368</td>\n",
       "      <td>Ground floor</td>\n",
       "    </tr>\n",
       "    <tr>\n",
       "      <th>17577</th>\n",
       "      <td>450.00</td>\n",
       "      <td>36.5</td>\n",
       "      <td>2018-02-01</td>\n",
       "      <td>1</td>\n",
       "      <td>NaN</td>\n",
       "      <td>5.0</td>\n",
       "      <td>17.300000</td>\n",
       "      <td>4</td>\n",
       "      <td>False</td>\n",
       "      <td>8.5</td>\n",
       "      <td>Jam-Tesovo village</td>\n",
       "      <td>NaN</td>\n",
       "      <td>120.0</td>\n",
       "      <td>12</td>\n",
       "      <td>3</td>\n",
       "      <td>2</td>\n",
       "      <td>2018</td>\n",
       "      <td>0.473973</td>\n",
       "      <td>0.232877</td>\n",
       "      <td>Other</td>\n",
       "    </tr>\n",
       "    <tr>\n",
       "      <th>18763</th>\n",
       "      <td>470.00</td>\n",
       "      <td>41.0</td>\n",
       "      <td>2018-02-11</td>\n",
       "      <td>1</td>\n",
       "      <td>NaN</td>\n",
       "      <td>5.0</td>\n",
       "      <td>32.000000</td>\n",
       "      <td>3</td>\n",
       "      <td>False</td>\n",
       "      <td>9.0</td>\n",
       "      <td>Vyskatka village</td>\n",
       "      <td>NaN</td>\n",
       "      <td>46.0</td>\n",
       "      <td>11</td>\n",
       "      <td>6</td>\n",
       "      <td>2</td>\n",
       "      <td>2018</td>\n",
       "      <td>0.780488</td>\n",
       "      <td>0.219512</td>\n",
       "      <td>Other</td>\n",
       "    </tr>\n",
       "    <tr>\n",
       "      <th>21787</th>\n",
       "      <td>470.00</td>\n",
       "      <td>37.0</td>\n",
       "      <td>2018-02-18</td>\n",
       "      <td>1</td>\n",
       "      <td>NaN</td>\n",
       "      <td>3.0</td>\n",
       "      <td>20.902675</td>\n",
       "      <td>3</td>\n",
       "      <td>False</td>\n",
       "      <td>NaN</td>\n",
       "      <td>Sovhoznyj settlement</td>\n",
       "      <td>NaN</td>\n",
       "      <td>45.0</td>\n",
       "      <td>12</td>\n",
       "      <td>6</td>\n",
       "      <td>2</td>\n",
       "      <td>2018</td>\n",
       "      <td>0.564937</td>\n",
       "      <td>NaN</td>\n",
       "      <td>Last floor</td>\n",
       "    </tr>\n",
       "    <tr>\n",
       "      <th>23352</th>\n",
       "      <td>470.00</td>\n",
       "      <td>44.5</td>\n",
       "      <td>2018-07-02</td>\n",
       "      <td>2</td>\n",
       "      <td>NaN</td>\n",
       "      <td>2.0</td>\n",
       "      <td>28.000000</td>\n",
       "      <td>2</td>\n",
       "      <td>False</td>\n",
       "      <td>7.5</td>\n",
       "      <td>Slantsy</td>\n",
       "      <td>NaN</td>\n",
       "      <td>298.0</td>\n",
       "      <td>10</td>\n",
       "      <td>0</td>\n",
       "      <td>7</td>\n",
       "      <td>2018</td>\n",
       "      <td>0.629213</td>\n",
       "      <td>0.168539</td>\n",
       "      <td>Last floor</td>\n",
       "    </tr>\n",
       "  </tbody>\n",
       "</table>\n",
       "</div>"
      ],
      "text/plain": [
       "       last_price  total_area first_day_exposition  rooms  ceiling_height  \\\n",
       "5670       450.00        42.0           2017-07-31      2             NaN   \n",
       "6824       490.00        40.0           2017-12-11      1             NaN   \n",
       "8750        12.19       109.0           2019-03-20      2            2.75   \n",
       "9535       450.00        43.4           2018-08-31      2             NaN   \n",
       "10722      490.00        29.1           2016-05-05      1            2.50   \n",
       "14825      430.00        54.0           2018-06-26      2             NaN   \n",
       "15943      480.00        32.0           2019-01-06      1             NaN   \n",
       "16130      450.00        38.5           2018-07-11      2            2.65   \n",
       "16185      440.00        40.0           2018-07-10      1             NaN   \n",
       "17359      430.00        30.4           2019-04-22      1             NaN   \n",
       "17577      450.00        36.5           2018-02-01      1             NaN   \n",
       "18763      470.00        41.0           2018-02-11      1             NaN   \n",
       "21787      470.00        37.0           2018-02-18      1             NaN   \n",
       "23352      470.00        44.5           2018-07-02      2             NaN   \n",
       "\n",
       "       floors_total  living_area  floor  studio  kitchen_area  \\\n",
       "5670            1.0    23.000000      1   False           5.8   \n",
       "6824            5.0    22.597487      3   False           NaN   \n",
       "8750           25.0    32.000000     25   False          40.5   \n",
       "9535            5.0    30.300000      3   False           5.5   \n",
       "10722           5.0    17.000000      5   False           5.5   \n",
       "14825           3.0    30.506607      3   False           NaN   \n",
       "15943           2.0    16.000000      1   False           NaN   \n",
       "16130           2.0    21.750081      1   False           NaN   \n",
       "16185           5.0    22.597487      1   False           NaN   \n",
       "17359           2.0    16.000000      1   False           6.0   \n",
       "17577           5.0    17.300000      4   False           8.5   \n",
       "18763           5.0    32.000000      3   False           9.0   \n",
       "21787           3.0    20.902675      3   False           NaN   \n",
       "23352           2.0    28.000000      2   False           7.5   \n",
       "\n",
       "                     locality_name  cityCenters_nearest  days_exposition  \\\n",
       "5670   Budogosch' urban settlement                  NaN            233.0   \n",
       "6824            Staropol'e village                  NaN             43.0   \n",
       "8750               Sankt-Peterburg               9176.0              8.0   \n",
       "9535            Staropol'e village                  NaN             96.0   \n",
       "10722                      Slantsy                  NaN            719.0   \n",
       "14825     settlement station Svir'                  NaN             44.0   \n",
       "15943                      Slantsy                  NaN             83.0   \n",
       "16130         Vahnova Kara village                  NaN             45.0   \n",
       "16185           Staropol'e village                  NaN             45.0   \n",
       "17359                      Slantsy                  NaN              NaN   \n",
       "17577           Jam-Tesovo village                  NaN            120.0   \n",
       "18763             Vyskatka village                  NaN             46.0   \n",
       "21787         Sovhoznyj settlement                  NaN             45.0   \n",
       "23352                      Slantsy                  NaN            298.0   \n",
       "\n",
       "       price_per_m2  day  month  year  living_to_total  kitchen_to_total  \\\n",
       "5670             10    0      7  2017         0.547619          0.138095   \n",
       "6824             12    0     12  2017         0.564937               NaN   \n",
       "8750              0    2      3  2019         0.293578          0.371560   \n",
       "9535             10    4      8  2018         0.698157          0.126728   \n",
       "10722            16    3      5  2016         0.584192          0.189003   \n",
       "14825             7    1      6  2018         0.564937               NaN   \n",
       "15943            15    6      1  2019         0.500000               NaN   \n",
       "16130            11    2      7  2018         0.564937               NaN   \n",
       "16185            11    1      7  2018         0.564937               NaN   \n",
       "17359            14    0      4  2019         0.526316          0.197368   \n",
       "17577            12    3      2  2018         0.473973          0.232877   \n",
       "18763            11    6      2  2018         0.780488          0.219512   \n",
       "21787            12    6      2  2018         0.564937               NaN   \n",
       "23352            10    0      7  2018         0.629213          0.168539   \n",
       "\n",
       "         floor_type  \n",
       "5670     Last floor  \n",
       "6824          Other  \n",
       "8750     Last floor  \n",
       "9535          Other  \n",
       "10722    Last floor  \n",
       "14825    Last floor  \n",
       "15943  Ground floor  \n",
       "16130  Ground floor  \n",
       "16185  Ground floor  \n",
       "17359  Ground floor  \n",
       "17577         Other  \n",
       "18763         Other  \n",
       "21787    Last floor  \n",
       "23352    Last floor  "
      ]
     },
     "execution_count": 17,
     "metadata": {},
     "output_type": "execute_result"
    }
   ],
   "source": [
    "df.query('last_price < 500')"
   ]
  },
  {
   "cell_type": "markdown",
   "metadata": {},
   "source": [
    "Small apartments or private houses may cost less than 500,000 but a 100-square-meter apartment in St. Petersburg certainly cannot cost 12,000. This may be a mistake and it is meant 12 million not 12 thousand, but it is easier to delete the row, especially since it is only one."
   ]
  },
  {
   "cell_type": "code",
   "execution_count": 18,
   "metadata": {},
   "outputs": [
    {
     "data": {
      "text/html": [
       "<div>\n",
       "<style scoped>\n",
       "    .dataframe tbody tr th:only-of-type {\n",
       "        vertical-align: middle;\n",
       "    }\n",
       "\n",
       "    .dataframe tbody tr th {\n",
       "        vertical-align: top;\n",
       "    }\n",
       "\n",
       "    .dataframe thead th {\n",
       "        text-align: right;\n",
       "    }\n",
       "</style>\n",
       "<table border=\"1\" class=\"dataframe\">\n",
       "  <thead>\n",
       "    <tr style=\"text-align: right;\">\n",
       "      <th></th>\n",
       "      <th>last_price</th>\n",
       "      <th>total_area</th>\n",
       "      <th>first_day_exposition</th>\n",
       "      <th>rooms</th>\n",
       "      <th>ceiling_height</th>\n",
       "      <th>floors_total</th>\n",
       "      <th>living_area</th>\n",
       "      <th>floor</th>\n",
       "      <th>studio</th>\n",
       "      <th>kitchen_area</th>\n",
       "      <th>locality_name</th>\n",
       "      <th>cityCenters_nearest</th>\n",
       "      <th>days_exposition</th>\n",
       "      <th>price_per_m2</th>\n",
       "      <th>day</th>\n",
       "      <th>month</th>\n",
       "      <th>year</th>\n",
       "      <th>living_to_total</th>\n",
       "      <th>kitchen_to_total</th>\n",
       "      <th>floor_type</th>\n",
       "    </tr>\n",
       "  </thead>\n",
       "  <tbody>\n",
       "    <tr>\n",
       "      <th>5670</th>\n",
       "      <td>450.0</td>\n",
       "      <td>42.0</td>\n",
       "      <td>2017-07-31</td>\n",
       "      <td>2</td>\n",
       "      <td>NaN</td>\n",
       "      <td>1.0</td>\n",
       "      <td>23.000000</td>\n",
       "      <td>1</td>\n",
       "      <td>False</td>\n",
       "      <td>5.8</td>\n",
       "      <td>Budogosch' urban settlement</td>\n",
       "      <td>NaN</td>\n",
       "      <td>233.0</td>\n",
       "      <td>10</td>\n",
       "      <td>0</td>\n",
       "      <td>7</td>\n",
       "      <td>2017</td>\n",
       "      <td>0.547619</td>\n",
       "      <td>0.138095</td>\n",
       "      <td>Last floor</td>\n",
       "    </tr>\n",
       "    <tr>\n",
       "      <th>6824</th>\n",
       "      <td>490.0</td>\n",
       "      <td>40.0</td>\n",
       "      <td>2017-12-11</td>\n",
       "      <td>1</td>\n",
       "      <td>NaN</td>\n",
       "      <td>5.0</td>\n",
       "      <td>22.597487</td>\n",
       "      <td>3</td>\n",
       "      <td>False</td>\n",
       "      <td>NaN</td>\n",
       "      <td>Staropol'e village</td>\n",
       "      <td>NaN</td>\n",
       "      <td>43.0</td>\n",
       "      <td>12</td>\n",
       "      <td>0</td>\n",
       "      <td>12</td>\n",
       "      <td>2017</td>\n",
       "      <td>0.564937</td>\n",
       "      <td>NaN</td>\n",
       "      <td>Other</td>\n",
       "    </tr>\n",
       "    <tr>\n",
       "      <th>9535</th>\n",
       "      <td>450.0</td>\n",
       "      <td>43.4</td>\n",
       "      <td>2018-08-31</td>\n",
       "      <td>2</td>\n",
       "      <td>NaN</td>\n",
       "      <td>5.0</td>\n",
       "      <td>30.300000</td>\n",
       "      <td>3</td>\n",
       "      <td>False</td>\n",
       "      <td>5.5</td>\n",
       "      <td>Staropol'e village</td>\n",
       "      <td>NaN</td>\n",
       "      <td>96.0</td>\n",
       "      <td>10</td>\n",
       "      <td>4</td>\n",
       "      <td>8</td>\n",
       "      <td>2018</td>\n",
       "      <td>0.698157</td>\n",
       "      <td>0.126728</td>\n",
       "      <td>Other</td>\n",
       "    </tr>\n",
       "    <tr>\n",
       "      <th>10722</th>\n",
       "      <td>490.0</td>\n",
       "      <td>29.1</td>\n",
       "      <td>2016-05-05</td>\n",
       "      <td>1</td>\n",
       "      <td>2.50</td>\n",
       "      <td>5.0</td>\n",
       "      <td>17.000000</td>\n",
       "      <td>5</td>\n",
       "      <td>False</td>\n",
       "      <td>5.5</td>\n",
       "      <td>Slantsy</td>\n",
       "      <td>NaN</td>\n",
       "      <td>719.0</td>\n",
       "      <td>16</td>\n",
       "      <td>3</td>\n",
       "      <td>5</td>\n",
       "      <td>2016</td>\n",
       "      <td>0.584192</td>\n",
       "      <td>0.189003</td>\n",
       "      <td>Last floor</td>\n",
       "    </tr>\n",
       "    <tr>\n",
       "      <th>14825</th>\n",
       "      <td>430.0</td>\n",
       "      <td>54.0</td>\n",
       "      <td>2018-06-26</td>\n",
       "      <td>2</td>\n",
       "      <td>NaN</td>\n",
       "      <td>3.0</td>\n",
       "      <td>30.506607</td>\n",
       "      <td>3</td>\n",
       "      <td>False</td>\n",
       "      <td>NaN</td>\n",
       "      <td>settlement station Svir'</td>\n",
       "      <td>NaN</td>\n",
       "      <td>44.0</td>\n",
       "      <td>7</td>\n",
       "      <td>1</td>\n",
       "      <td>6</td>\n",
       "      <td>2018</td>\n",
       "      <td>0.564937</td>\n",
       "      <td>NaN</td>\n",
       "      <td>Last floor</td>\n",
       "    </tr>\n",
       "    <tr>\n",
       "      <th>15943</th>\n",
       "      <td>480.0</td>\n",
       "      <td>32.0</td>\n",
       "      <td>2019-01-06</td>\n",
       "      <td>1</td>\n",
       "      <td>NaN</td>\n",
       "      <td>2.0</td>\n",
       "      <td>16.000000</td>\n",
       "      <td>1</td>\n",
       "      <td>False</td>\n",
       "      <td>NaN</td>\n",
       "      <td>Slantsy</td>\n",
       "      <td>NaN</td>\n",
       "      <td>83.0</td>\n",
       "      <td>15</td>\n",
       "      <td>6</td>\n",
       "      <td>1</td>\n",
       "      <td>2019</td>\n",
       "      <td>0.500000</td>\n",
       "      <td>NaN</td>\n",
       "      <td>Ground floor</td>\n",
       "    </tr>\n",
       "    <tr>\n",
       "      <th>16130</th>\n",
       "      <td>450.0</td>\n",
       "      <td>38.5</td>\n",
       "      <td>2018-07-11</td>\n",
       "      <td>2</td>\n",
       "      <td>2.65</td>\n",
       "      <td>2.0</td>\n",
       "      <td>21.750081</td>\n",
       "      <td>1</td>\n",
       "      <td>False</td>\n",
       "      <td>NaN</td>\n",
       "      <td>Vahnova Kara village</td>\n",
       "      <td>NaN</td>\n",
       "      <td>45.0</td>\n",
       "      <td>11</td>\n",
       "      <td>2</td>\n",
       "      <td>7</td>\n",
       "      <td>2018</td>\n",
       "      <td>0.564937</td>\n",
       "      <td>NaN</td>\n",
       "      <td>Ground floor</td>\n",
       "    </tr>\n",
       "    <tr>\n",
       "      <th>16185</th>\n",
       "      <td>440.0</td>\n",
       "      <td>40.0</td>\n",
       "      <td>2018-07-10</td>\n",
       "      <td>1</td>\n",
       "      <td>NaN</td>\n",
       "      <td>5.0</td>\n",
       "      <td>22.597487</td>\n",
       "      <td>1</td>\n",
       "      <td>False</td>\n",
       "      <td>NaN</td>\n",
       "      <td>Staropol'e village</td>\n",
       "      <td>NaN</td>\n",
       "      <td>45.0</td>\n",
       "      <td>11</td>\n",
       "      <td>1</td>\n",
       "      <td>7</td>\n",
       "      <td>2018</td>\n",
       "      <td>0.564937</td>\n",
       "      <td>NaN</td>\n",
       "      <td>Ground floor</td>\n",
       "    </tr>\n",
       "    <tr>\n",
       "      <th>17359</th>\n",
       "      <td>430.0</td>\n",
       "      <td>30.4</td>\n",
       "      <td>2019-04-22</td>\n",
       "      <td>1</td>\n",
       "      <td>NaN</td>\n",
       "      <td>2.0</td>\n",
       "      <td>16.000000</td>\n",
       "      <td>1</td>\n",
       "      <td>False</td>\n",
       "      <td>6.0</td>\n",
       "      <td>Slantsy</td>\n",
       "      <td>NaN</td>\n",
       "      <td>NaN</td>\n",
       "      <td>14</td>\n",
       "      <td>0</td>\n",
       "      <td>4</td>\n",
       "      <td>2019</td>\n",
       "      <td>0.526316</td>\n",
       "      <td>0.197368</td>\n",
       "      <td>Ground floor</td>\n",
       "    </tr>\n",
       "    <tr>\n",
       "      <th>17577</th>\n",
       "      <td>450.0</td>\n",
       "      <td>36.5</td>\n",
       "      <td>2018-02-01</td>\n",
       "      <td>1</td>\n",
       "      <td>NaN</td>\n",
       "      <td>5.0</td>\n",
       "      <td>17.300000</td>\n",
       "      <td>4</td>\n",
       "      <td>False</td>\n",
       "      <td>8.5</td>\n",
       "      <td>Jam-Tesovo village</td>\n",
       "      <td>NaN</td>\n",
       "      <td>120.0</td>\n",
       "      <td>12</td>\n",
       "      <td>3</td>\n",
       "      <td>2</td>\n",
       "      <td>2018</td>\n",
       "      <td>0.473973</td>\n",
       "      <td>0.232877</td>\n",
       "      <td>Other</td>\n",
       "    </tr>\n",
       "    <tr>\n",
       "      <th>18763</th>\n",
       "      <td>470.0</td>\n",
       "      <td>41.0</td>\n",
       "      <td>2018-02-11</td>\n",
       "      <td>1</td>\n",
       "      <td>NaN</td>\n",
       "      <td>5.0</td>\n",
       "      <td>32.000000</td>\n",
       "      <td>3</td>\n",
       "      <td>False</td>\n",
       "      <td>9.0</td>\n",
       "      <td>Vyskatka village</td>\n",
       "      <td>NaN</td>\n",
       "      <td>46.0</td>\n",
       "      <td>11</td>\n",
       "      <td>6</td>\n",
       "      <td>2</td>\n",
       "      <td>2018</td>\n",
       "      <td>0.780488</td>\n",
       "      <td>0.219512</td>\n",
       "      <td>Other</td>\n",
       "    </tr>\n",
       "    <tr>\n",
       "      <th>21787</th>\n",
       "      <td>470.0</td>\n",
       "      <td>37.0</td>\n",
       "      <td>2018-02-18</td>\n",
       "      <td>1</td>\n",
       "      <td>NaN</td>\n",
       "      <td>3.0</td>\n",
       "      <td>20.902675</td>\n",
       "      <td>3</td>\n",
       "      <td>False</td>\n",
       "      <td>NaN</td>\n",
       "      <td>Sovhoznyj settlement</td>\n",
       "      <td>NaN</td>\n",
       "      <td>45.0</td>\n",
       "      <td>12</td>\n",
       "      <td>6</td>\n",
       "      <td>2</td>\n",
       "      <td>2018</td>\n",
       "      <td>0.564937</td>\n",
       "      <td>NaN</td>\n",
       "      <td>Last floor</td>\n",
       "    </tr>\n",
       "    <tr>\n",
       "      <th>23352</th>\n",
       "      <td>470.0</td>\n",
       "      <td>44.5</td>\n",
       "      <td>2018-07-02</td>\n",
       "      <td>2</td>\n",
       "      <td>NaN</td>\n",
       "      <td>2.0</td>\n",
       "      <td>28.000000</td>\n",
       "      <td>2</td>\n",
       "      <td>False</td>\n",
       "      <td>7.5</td>\n",
       "      <td>Slantsy</td>\n",
       "      <td>NaN</td>\n",
       "      <td>298.0</td>\n",
       "      <td>10</td>\n",
       "      <td>0</td>\n",
       "      <td>7</td>\n",
       "      <td>2018</td>\n",
       "      <td>0.629213</td>\n",
       "      <td>0.168539</td>\n",
       "      <td>Last floor</td>\n",
       "    </tr>\n",
       "  </tbody>\n",
       "</table>\n",
       "</div>"
      ],
      "text/plain": [
       "       last_price  total_area first_day_exposition  rooms  ceiling_height  \\\n",
       "5670        450.0        42.0           2017-07-31      2             NaN   \n",
       "6824        490.0        40.0           2017-12-11      1             NaN   \n",
       "9535        450.0        43.4           2018-08-31      2             NaN   \n",
       "10722       490.0        29.1           2016-05-05      1            2.50   \n",
       "14825       430.0        54.0           2018-06-26      2             NaN   \n",
       "15943       480.0        32.0           2019-01-06      1             NaN   \n",
       "16130       450.0        38.5           2018-07-11      2            2.65   \n",
       "16185       440.0        40.0           2018-07-10      1             NaN   \n",
       "17359       430.0        30.4           2019-04-22      1             NaN   \n",
       "17577       450.0        36.5           2018-02-01      1             NaN   \n",
       "18763       470.0        41.0           2018-02-11      1             NaN   \n",
       "21787       470.0        37.0           2018-02-18      1             NaN   \n",
       "23352       470.0        44.5           2018-07-02      2             NaN   \n",
       "\n",
       "       floors_total  living_area  floor  studio  kitchen_area  \\\n",
       "5670            1.0    23.000000      1   False           5.8   \n",
       "6824            5.0    22.597487      3   False           NaN   \n",
       "9535            5.0    30.300000      3   False           5.5   \n",
       "10722           5.0    17.000000      5   False           5.5   \n",
       "14825           3.0    30.506607      3   False           NaN   \n",
       "15943           2.0    16.000000      1   False           NaN   \n",
       "16130           2.0    21.750081      1   False           NaN   \n",
       "16185           5.0    22.597487      1   False           NaN   \n",
       "17359           2.0    16.000000      1   False           6.0   \n",
       "17577           5.0    17.300000      4   False           8.5   \n",
       "18763           5.0    32.000000      3   False           9.0   \n",
       "21787           3.0    20.902675      3   False           NaN   \n",
       "23352           2.0    28.000000      2   False           7.5   \n",
       "\n",
       "                     locality_name  cityCenters_nearest  days_exposition  \\\n",
       "5670   Budogosch' urban settlement                  NaN            233.0   \n",
       "6824            Staropol'e village                  NaN             43.0   \n",
       "9535            Staropol'e village                  NaN             96.0   \n",
       "10722                      Slantsy                  NaN            719.0   \n",
       "14825     settlement station Svir'                  NaN             44.0   \n",
       "15943                      Slantsy                  NaN             83.0   \n",
       "16130         Vahnova Kara village                  NaN             45.0   \n",
       "16185           Staropol'e village                  NaN             45.0   \n",
       "17359                      Slantsy                  NaN              NaN   \n",
       "17577           Jam-Tesovo village                  NaN            120.0   \n",
       "18763             Vyskatka village                  NaN             46.0   \n",
       "21787         Sovhoznyj settlement                  NaN             45.0   \n",
       "23352                      Slantsy                  NaN            298.0   \n",
       "\n",
       "       price_per_m2  day  month  year  living_to_total  kitchen_to_total  \\\n",
       "5670             10    0      7  2017         0.547619          0.138095   \n",
       "6824             12    0     12  2017         0.564937               NaN   \n",
       "9535             10    4      8  2018         0.698157          0.126728   \n",
       "10722            16    3      5  2016         0.584192          0.189003   \n",
       "14825             7    1      6  2018         0.564937               NaN   \n",
       "15943            15    6      1  2019         0.500000               NaN   \n",
       "16130            11    2      7  2018         0.564937               NaN   \n",
       "16185            11    1      7  2018         0.564937               NaN   \n",
       "17359            14    0      4  2019         0.526316          0.197368   \n",
       "17577            12    3      2  2018         0.473973          0.232877   \n",
       "18763            11    6      2  2018         0.780488          0.219512   \n",
       "21787            12    6      2  2018         0.564937               NaN   \n",
       "23352            10    0      7  2018         0.629213          0.168539   \n",
       "\n",
       "         floor_type  \n",
       "5670     Last floor  \n",
       "6824          Other  \n",
       "9535          Other  \n",
       "10722    Last floor  \n",
       "14825    Last floor  \n",
       "15943  Ground floor  \n",
       "16130  Ground floor  \n",
       "16185  Ground floor  \n",
       "17359  Ground floor  \n",
       "17577         Other  \n",
       "18763         Other  \n",
       "21787    Last floor  \n",
       "23352    Last floor  "
      ]
     },
     "execution_count": 18,
     "metadata": {},
     "output_type": "execute_result"
    }
   ],
   "source": [
    "df = df.query('last_price > 100')\n",
    "df.query('last_price < 500')"
   ]
  },
  {
   "cell_type": "markdown",
   "metadata": {},
   "source": [
    "Apartments in the upper price range of more than 40 million rubles are strongly out of the general statistics, it is best to get rid of them, since our goal is to conduct a reserch of the market price, and it is better to look at the relationship between prices and other values on stable data. Let's see how many apartments we have worth more than 40 million rubles."
   ]
  },
  {
   "cell_type": "code",
   "execution_count": 19,
   "metadata": {},
   "outputs": [
    {
     "data": {
      "text/plain": [
       "count       181.000000\n",
       "mean      88078.912442\n",
       "std       77968.870845\n",
       "min       40488.000000\n",
       "25%       50000.000000\n",
       "50%       65000.000000\n",
       "75%       90000.000000\n",
       "max      763000.000000\n",
       "Name: last_price, dtype: float64"
      ]
     },
     "execution_count": 19,
     "metadata": {},
     "output_type": "execute_result"
    }
   ],
   "source": [
    "df.query('last_price > 40000')['last_price'].describe()"
   ]
  },
  {
   "cell_type": "markdown",
   "metadata": {},
   "source": [
    "Only 181 lines, and the data range is from 88 to 763 million. The average is almost one and a half times higher than the median. Let's get rid of them"
   ]
  },
  {
   "cell_type": "code",
   "execution_count": 20,
   "metadata": {},
   "outputs": [
    {
     "data": {
      "text/plain": [
       "count    23371.000000\n",
       "mean      5891.668202\n",
       "std       4552.344004\n",
       "min        430.000000\n",
       "25%       3400.000000\n",
       "50%       4600.000000\n",
       "75%       6700.000000\n",
       "max      39990.000000\n",
       "Name: last_price, dtype: float64"
      ]
     },
     "execution_count": 20,
     "metadata": {},
     "output_type": "execute_result"
    }
   ],
   "source": [
    "df = df.query('last_price < 40000')\n",
    "df['last_price'].describe()"
   ]
  },
  {
   "cell_type": "markdown",
   "metadata": {},
   "source": [
    "Now let's look at the `total_area`"
   ]
  },
  {
   "cell_type": "code",
   "execution_count": 21,
   "metadata": {},
   "outputs": [
    {
     "name": "stdout",
     "output_type": "stream",
     "text": [
      "count    23371.000000\n",
      "mean        58.849532\n",
      "std         29.902995\n",
      "min         12.000000\n",
      "25%         40.000000\n",
      "50%         51.900000\n",
      "75%         69.000000\n",
      "max        470.300000\n",
      "Name: total_area, dtype: float64\n"
     ]
    },
    {
     "data": {
      "text/plain": [
       "array([[<AxesSubplot:title={'center':'total_area'}>]], dtype=object)"
      ]
     },
     "execution_count": 21,
     "metadata": {},
     "output_type": "execute_result"
    },
    {
     "data": {
      "image/png": "[encoded data removed]",
      "text/plain": [
       "<Figure size 864x432 with 1 Axes>"
      ]
     },
     "metadata": {
      "needs_background": "light"
     },
     "output_type": "display_data"
    }
   ],
   "source": [
    "print(df['total_area'].describe())\n",
    "df.hist('total_area',range = (0, 300), bins = 100, figsize = (12, 6))"
   ]
  },
  {
   "cell_type": "markdown",
   "metadata": {},
   "source": [
    "There are two peaks in the range between 40 and 60 m2. The mean value is not so far from the median, the data is relatively homogeneous. An value of more than 200 m2 seems strange. Let's take a look at these apartments."
   ]
  },
  {
   "cell_type": "code",
   "execution_count": 22,
   "metadata": {},
   "outputs": [
    {
     "data": {
      "text/html": [
       "<div>\n",
       "<style scoped>\n",
       "    .dataframe tbody tr th:only-of-type {\n",
       "        vertical-align: middle;\n",
       "    }\n",
       "\n",
       "    .dataframe tbody tr th {\n",
       "        vertical-align: top;\n",
       "    }\n",
       "\n",
       "    .dataframe thead th {\n",
       "        text-align: right;\n",
       "    }\n",
       "</style>\n",
       "<table border=\"1\" class=\"dataframe\">\n",
       "  <thead>\n",
       "    <tr style=\"text-align: right;\">\n",
       "      <th></th>\n",
       "      <th>last_price</th>\n",
       "      <th>total_area</th>\n",
       "      <th>first_day_exposition</th>\n",
       "      <th>rooms</th>\n",
       "      <th>ceiling_height</th>\n",
       "      <th>floors_total</th>\n",
       "      <th>living_area</th>\n",
       "      <th>floor</th>\n",
       "      <th>studio</th>\n",
       "      <th>kitchen_area</th>\n",
       "      <th>locality_name</th>\n",
       "      <th>cityCenters_nearest</th>\n",
       "      <th>days_exposition</th>\n",
       "      <th>price_per_m2</th>\n",
       "      <th>day</th>\n",
       "      <th>month</th>\n",
       "      <th>year</th>\n",
       "      <th>living_to_total</th>\n",
       "      <th>kitchen_to_total</th>\n",
       "      <th>floor_type</th>\n",
       "    </tr>\n",
       "  </thead>\n",
       "  <tbody>\n",
       "    <tr>\n",
       "      <th>9433</th>\n",
       "      <td>19000.0</td>\n",
       "      <td>201.00</td>\n",
       "      <td>2015-06-24</td>\n",
       "      <td>6</td>\n",
       "      <td>NaN</td>\n",
       "      <td>6.0</td>\n",
       "      <td>136.000000</td>\n",
       "      <td>2</td>\n",
       "      <td>False</td>\n",
       "      <td>20.00</td>\n",
       "      <td>Sankt-Peterburg</td>\n",
       "      <td>5698.0</td>\n",
       "      <td>925.0</td>\n",
       "      <td>94</td>\n",
       "      <td>2</td>\n",
       "      <td>6</td>\n",
       "      <td>2015</td>\n",
       "      <td>0.676617</td>\n",
       "      <td>0.099502</td>\n",
       "      <td>Other</td>\n",
       "    </tr>\n",
       "    <tr>\n",
       "      <th>5616</th>\n",
       "      <td>27500.0</td>\n",
       "      <td>201.00</td>\n",
       "      <td>2017-08-04</td>\n",
       "      <td>7</td>\n",
       "      <td>3.20</td>\n",
       "      <td>5.0</td>\n",
       "      <td>130.000000</td>\n",
       "      <td>2</td>\n",
       "      <td>False</td>\n",
       "      <td>17.00</td>\n",
       "      <td>Sankt-Peterburg</td>\n",
       "      <td>5647.0</td>\n",
       "      <td>232.0</td>\n",
       "      <td>136</td>\n",
       "      <td>4</td>\n",
       "      <td>8</td>\n",
       "      <td>2017</td>\n",
       "      <td>0.646766</td>\n",
       "      <td>0.084577</td>\n",
       "      <td>Other</td>\n",
       "    </tr>\n",
       "    <tr>\n",
       "      <th>1182</th>\n",
       "      <td>25000.0</td>\n",
       "      <td>201.00</td>\n",
       "      <td>2015-08-07</td>\n",
       "      <td>5</td>\n",
       "      <td>3.50</td>\n",
       "      <td>6.0</td>\n",
       "      <td>131.000000</td>\n",
       "      <td>4</td>\n",
       "      <td>False</td>\n",
       "      <td>35.00</td>\n",
       "      <td>Sankt-Peterburg</td>\n",
       "      <td>5458.0</td>\n",
       "      <td>1117.0</td>\n",
       "      <td>124</td>\n",
       "      <td>4</td>\n",
       "      <td>8</td>\n",
       "      <td>2015</td>\n",
       "      <td>0.651741</td>\n",
       "      <td>0.174129</td>\n",
       "      <td>Other</td>\n",
       "    </tr>\n",
       "    <tr>\n",
       "      <th>2453</th>\n",
       "      <td>7900.0</td>\n",
       "      <td>201.50</td>\n",
       "      <td>2018-08-17</td>\n",
       "      <td>7</td>\n",
       "      <td>NaN</td>\n",
       "      <td>2.0</td>\n",
       "      <td>113.834841</td>\n",
       "      <td>2</td>\n",
       "      <td>False</td>\n",
       "      <td>NaN</td>\n",
       "      <td>Pargolovo setlement</td>\n",
       "      <td>20665.0</td>\n",
       "      <td>35.0</td>\n",
       "      <td>39</td>\n",
       "      <td>4</td>\n",
       "      <td>8</td>\n",
       "      <td>2018</td>\n",
       "      <td>0.564937</td>\n",
       "      <td>NaN</td>\n",
       "      <td>Last floor</td>\n",
       "    </tr>\n",
       "    <tr>\n",
       "      <th>2310</th>\n",
       "      <td>17900.0</td>\n",
       "      <td>201.90</td>\n",
       "      <td>2018-02-21</td>\n",
       "      <td>6</td>\n",
       "      <td>3.87</td>\n",
       "      <td>6.0</td>\n",
       "      <td>134.800000</td>\n",
       "      <td>3</td>\n",
       "      <td>False</td>\n",
       "      <td>16.20</td>\n",
       "      <td>Sankt-Peterburg</td>\n",
       "      <td>3747.0</td>\n",
       "      <td>126.0</td>\n",
       "      <td>88</td>\n",
       "      <td>2</td>\n",
       "      <td>2</td>\n",
       "      <td>2018</td>\n",
       "      <td>0.667657</td>\n",
       "      <td>0.080238</td>\n",
       "      <td>Other</td>\n",
       "    </tr>\n",
       "    <tr>\n",
       "      <th>...</th>\n",
       "      <td>...</td>\n",
       "      <td>...</td>\n",
       "      <td>...</td>\n",
       "      <td>...</td>\n",
       "      <td>...</td>\n",
       "      <td>...</td>\n",
       "      <td>...</td>\n",
       "      <td>...</td>\n",
       "      <td>...</td>\n",
       "      <td>...</td>\n",
       "      <td>...</td>\n",
       "      <td>...</td>\n",
       "      <td>...</td>\n",
       "      <td>...</td>\n",
       "      <td>...</td>\n",
       "      <td>...</td>\n",
       "      <td>...</td>\n",
       "      <td>...</td>\n",
       "      <td>...</td>\n",
       "      <td>...</td>\n",
       "    </tr>\n",
       "    <tr>\n",
       "      <th>5843</th>\n",
       "      <td>38000.0</td>\n",
       "      <td>400.00</td>\n",
       "      <td>2019-03-15</td>\n",
       "      <td>7</td>\n",
       "      <td>3.60</td>\n",
       "      <td>3.0</td>\n",
       "      <td>225.974870</td>\n",
       "      <td>1</td>\n",
       "      <td>False</td>\n",
       "      <td>NaN</td>\n",
       "      <td>Sankt-Peterburg</td>\n",
       "      <td>5457.0</td>\n",
       "      <td>NaN</td>\n",
       "      <td>95</td>\n",
       "      <td>4</td>\n",
       "      <td>3</td>\n",
       "      <td>2019</td>\n",
       "      <td>0.564937</td>\n",
       "      <td>NaN</td>\n",
       "      <td>Ground floor</td>\n",
       "    </tr>\n",
       "    <tr>\n",
       "      <th>22006</th>\n",
       "      <td>27000.0</td>\n",
       "      <td>422.20</td>\n",
       "      <td>2018-10-18</td>\n",
       "      <td>5</td>\n",
       "      <td>2.70</td>\n",
       "      <td>13.0</td>\n",
       "      <td>238.516475</td>\n",
       "      <td>11</td>\n",
       "      <td>False</td>\n",
       "      <td>NaN</td>\n",
       "      <td>Sankt-Peterburg</td>\n",
       "      <td>16554.0</td>\n",
       "      <td>NaN</td>\n",
       "      <td>63</td>\n",
       "      <td>3</td>\n",
       "      <td>10</td>\n",
       "      <td>2018</td>\n",
       "      <td>0.564937</td>\n",
       "      <td>NaN</td>\n",
       "      <td>Other</td>\n",
       "    </tr>\n",
       "    <tr>\n",
       "      <th>3660</th>\n",
       "      <td>28789.0</td>\n",
       "      <td>441.98</td>\n",
       "      <td>2019-01-23</td>\n",
       "      <td>4</td>\n",
       "      <td>NaN</td>\n",
       "      <td>6.0</td>\n",
       "      <td>249.690933</td>\n",
       "      <td>6</td>\n",
       "      <td>False</td>\n",
       "      <td>35.05</td>\n",
       "      <td>Sankt-Peterburg</td>\n",
       "      <td>5181.0</td>\n",
       "      <td>NaN</td>\n",
       "      <td>65</td>\n",
       "      <td>2</td>\n",
       "      <td>1</td>\n",
       "      <td>2019</td>\n",
       "      <td>0.564937</td>\n",
       "      <td>0.079302</td>\n",
       "      <td>Last floor</td>\n",
       "    </tr>\n",
       "    <tr>\n",
       "      <th>20160</th>\n",
       "      <td>20000.0</td>\n",
       "      <td>460.80</td>\n",
       "      <td>2019-03-20</td>\n",
       "      <td>6</td>\n",
       "      <td>3.10</td>\n",
       "      <td>3.0</td>\n",
       "      <td>279.600000</td>\n",
       "      <td>1</td>\n",
       "      <td>False</td>\n",
       "      <td>55.50</td>\n",
       "      <td>Sankt-Peterburg</td>\n",
       "      <td>15459.0</td>\n",
       "      <td>21.0</td>\n",
       "      <td>43</td>\n",
       "      <td>2</td>\n",
       "      <td>3</td>\n",
       "      <td>2019</td>\n",
       "      <td>0.606771</td>\n",
       "      <td>0.120443</td>\n",
       "      <td>Ground floor</td>\n",
       "    </tr>\n",
       "    <tr>\n",
       "      <th>6188</th>\n",
       "      <td>34000.0</td>\n",
       "      <td>470.30</td>\n",
       "      <td>2018-01-14</td>\n",
       "      <td>4</td>\n",
       "      <td>NaN</td>\n",
       "      <td>3.0</td>\n",
       "      <td>248.700000</td>\n",
       "      <td>3</td>\n",
       "      <td>False</td>\n",
       "      <td>40.00</td>\n",
       "      <td>Sankt-Peterburg</td>\n",
       "      <td>15459.0</td>\n",
       "      <td>179.0</td>\n",
       "      <td>72</td>\n",
       "      <td>6</td>\n",
       "      <td>1</td>\n",
       "      <td>2018</td>\n",
       "      <td>0.528811</td>\n",
       "      <td>0.085052</td>\n",
       "      <td>Last floor</td>\n",
       "    </tr>\n",
       "  </tbody>\n",
       "</table>\n",
       "<p>127 rows × 20 columns</p>\n",
       "</div>"
      ],
      "text/plain": [
       "       last_price  total_area first_day_exposition  rooms  ceiling_height  \\\n",
       "9433      19000.0      201.00           2015-06-24      6             NaN   \n",
       "5616      27500.0      201.00           2017-08-04      7            3.20   \n",
       "1182      25000.0      201.00           2015-08-07      5            3.50   \n",
       "2453       7900.0      201.50           2018-08-17      7             NaN   \n",
       "2310      17900.0      201.90           2018-02-21      6            3.87   \n",
       "...           ...         ...                  ...    ...             ...   \n",
       "5843      38000.0      400.00           2019-03-15      7            3.60   \n",
       "22006     27000.0      422.20           2018-10-18      5            2.70   \n",
       "3660      28789.0      441.98           2019-01-23      4             NaN   \n",
       "20160     20000.0      460.80           2019-03-20      6            3.10   \n",
       "6188      34000.0      470.30           2018-01-14      4             NaN   \n",
       "\n",
       "       floors_total  living_area  floor  studio  kitchen_area  \\\n",
       "9433            6.0   136.000000      2   False         20.00   \n",
       "5616            5.0   130.000000      2   False         17.00   \n",
       "1182            6.0   131.000000      4   False         35.00   \n",
       "2453            2.0   113.834841      2   False           NaN   \n",
       "2310            6.0   134.800000      3   False         16.20   \n",
       "...             ...          ...    ...     ...           ...   \n",
       "5843            3.0   225.974870      1   False           NaN   \n",
       "22006          13.0   238.516475     11   False           NaN   \n",
       "3660            6.0   249.690933      6   False         35.05   \n",
       "20160           3.0   279.600000      1   False         55.50   \n",
       "6188            3.0   248.700000      3   False         40.00   \n",
       "\n",
       "             locality_name  cityCenters_nearest  days_exposition  \\\n",
       "9433       Sankt-Peterburg               5698.0            925.0   \n",
       "5616       Sankt-Peterburg               5647.0            232.0   \n",
       "1182       Sankt-Peterburg               5458.0           1117.0   \n",
       "2453   Pargolovo setlement              20665.0             35.0   \n",
       "2310       Sankt-Peterburg               3747.0            126.0   \n",
       "...                    ...                  ...              ...   \n",
       "5843       Sankt-Peterburg               5457.0              NaN   \n",
       "22006      Sankt-Peterburg              16554.0              NaN   \n",
       "3660       Sankt-Peterburg               5181.0              NaN   \n",
       "20160      Sankt-Peterburg              15459.0             21.0   \n",
       "6188       Sankt-Peterburg              15459.0            179.0   \n",
       "\n",
       "       price_per_m2  day  month  year  living_to_total  kitchen_to_total  \\\n",
       "9433             94    2      6  2015         0.676617          0.099502   \n",
       "5616            136    4      8  2017         0.646766          0.084577   \n",
       "1182            124    4      8  2015         0.651741          0.174129   \n",
       "2453             39    4      8  2018         0.564937               NaN   \n",
       "2310             88    2      2  2018         0.667657          0.080238   \n",
       "...             ...  ...    ...   ...              ...               ...   \n",
       "5843             95    4      3  2019         0.564937               NaN   \n",
       "22006            63    3     10  2018         0.564937               NaN   \n",
       "3660             65    2      1  2019         0.564937          0.079302   \n",
       "20160            43    2      3  2019         0.606771          0.120443   \n",
       "6188             72    6      1  2018         0.528811          0.085052   \n",
       "\n",
       "         floor_type  \n",
       "9433          Other  \n",
       "5616          Other  \n",
       "1182          Other  \n",
       "2453     Last floor  \n",
       "2310          Other  \n",
       "...             ...  \n",
       "5843   Ground floor  \n",
       "22006         Other  \n",
       "3660     Last floor  \n",
       "20160  Ground floor  \n",
       "6188     Last floor  \n",
       "\n",
       "[127 rows x 20 columns]"
      ]
     },
     "execution_count": 22,
     "metadata": {},
     "output_type": "execute_result"
    }
   ],
   "source": [
    "df.query('total_area > 200').sort_values(by = 'total_area')"
   ]
  },
  {
   "cell_type": "markdown",
   "metadata": {},
   "source": [
    "127 rows clearly out of the general statistics. Let's get rid of them"
   ]
  },
  {
   "cell_type": "code",
   "execution_count": 23,
   "metadata": {},
   "outputs": [
    {
     "data": {
      "text/plain": [
       "count    23241.000000\n",
       "mean        57.752583\n",
       "std         25.782672\n",
       "min         12.000000\n",
       "25%         40.000000\n",
       "50%         51.400000\n",
       "75%         68.200000\n",
       "max        199.200000\n",
       "Name: total_area, dtype: float64"
      ]
     },
     "execution_count": 23,
     "metadata": {},
     "output_type": "execute_result"
    }
   ],
   "source": [
    "df = df.query('total_area < 200')\n",
    "df['total_area'].describe()"
   ]
  },
  {
   "cell_type": "markdown",
   "metadata": {},
   "source": [
    "Examine the number of rooms for anomalies"
   ]
  },
  {
   "cell_type": "code",
   "execution_count": 24,
   "metadata": {},
   "outputs": [
    {
     "name": "stdout",
     "output_type": "stream",
     "text": [
      "count    23241.000000\n",
      "mean         2.028828\n",
      "std          0.991806\n",
      "min          0.000000\n",
      "25%          1.000000\n",
      "50%          2.000000\n",
      "75%          3.000000\n",
      "max         11.000000\n",
      "Name: rooms, dtype: float64\n"
     ]
    },
    {
     "data": {
      "text/plain": [
       "array([[<AxesSubplot:title={'center':'rooms'}>]], dtype=object)"
      ]
     },
     "execution_count": 24,
     "metadata": {},
     "output_type": "execute_result"
    },
    {
     "data": {
      "image/png": "[encoded data removed]",
      "text/plain": [
       "<Figure size 432x288 with 1 Axes>"
      ]
     },
     "metadata": {
      "needs_background": "light"
     },
     "output_type": "display_data"
    }
   ],
   "source": [
    "print(df['rooms'].describe())\n",
    "df.hist('rooms',range = (0, 10), bins = 10)"
   ]
  },
  {
   "cell_type": "markdown",
   "metadata": {},
   "source": [
    "Most often there are two and three-room apartments. Starting with four-room apartments, there has been a strong offer declines for sale. There is also a strange minimum limit value, the apartment cannot have 0 rooms. Let's study the data"
   ]
  },
  {
   "cell_type": "code",
   "execution_count": 25,
   "metadata": {},
   "outputs": [
    {
     "data": {
      "text/html": [
       "<div>\n",
       "<style scoped>\n",
       "    .dataframe tbody tr th:only-of-type {\n",
       "        vertical-align: middle;\n",
       "    }\n",
       "\n",
       "    .dataframe tbody tr th {\n",
       "        vertical-align: top;\n",
       "    }\n",
       "\n",
       "    .dataframe thead th {\n",
       "        text-align: right;\n",
       "    }\n",
       "</style>\n",
       "<table border=\"1\" class=\"dataframe\">\n",
       "  <thead>\n",
       "    <tr style=\"text-align: right;\">\n",
       "      <th></th>\n",
       "      <th>last_price</th>\n",
       "      <th>total_area</th>\n",
       "      <th>first_day_exposition</th>\n",
       "      <th>rooms</th>\n",
       "      <th>ceiling_height</th>\n",
       "      <th>floors_total</th>\n",
       "      <th>living_area</th>\n",
       "      <th>floor</th>\n",
       "      <th>studio</th>\n",
       "      <th>kitchen_area</th>\n",
       "      <th>locality_name</th>\n",
       "      <th>cityCenters_nearest</th>\n",
       "      <th>days_exposition</th>\n",
       "      <th>price_per_m2</th>\n",
       "      <th>day</th>\n",
       "      <th>month</th>\n",
       "      <th>year</th>\n",
       "      <th>living_to_total</th>\n",
       "      <th>kitchen_to_total</th>\n",
       "      <th>floor_type</th>\n",
       "    </tr>\n",
       "  </thead>\n",
       "  <tbody>\n",
       "    <tr>\n",
       "      <th>144</th>\n",
       "      <td>2450.0</td>\n",
       "      <td>27.00</td>\n",
       "      <td>2017-03-30</td>\n",
       "      <td>0</td>\n",
       "      <td>NaN</td>\n",
       "      <td>24.0</td>\n",
       "      <td>15.500000</td>\n",
       "      <td>2</td>\n",
       "      <td>True</td>\n",
       "      <td>NaN</td>\n",
       "      <td>Murino setlement</td>\n",
       "      <td>NaN</td>\n",
       "      <td>181.0</td>\n",
       "      <td>90</td>\n",
       "      <td>3</td>\n",
       "      <td>3</td>\n",
       "      <td>2017</td>\n",
       "      <td>0.574074</td>\n",
       "      <td>NaN</td>\n",
       "      <td>Other</td>\n",
       "    </tr>\n",
       "    <tr>\n",
       "      <th>347</th>\n",
       "      <td>2320.0</td>\n",
       "      <td>25.00</td>\n",
       "      <td>2017-09-27</td>\n",
       "      <td>0</td>\n",
       "      <td>NaN</td>\n",
       "      <td>14.0</td>\n",
       "      <td>17.000000</td>\n",
       "      <td>1</td>\n",
       "      <td>False</td>\n",
       "      <td>NaN</td>\n",
       "      <td>Kudrovo village</td>\n",
       "      <td>NaN</td>\n",
       "      <td>45.0</td>\n",
       "      <td>92</td>\n",
       "      <td>2</td>\n",
       "      <td>9</td>\n",
       "      <td>2017</td>\n",
       "      <td>0.680000</td>\n",
       "      <td>NaN</td>\n",
       "      <td>Ground floor</td>\n",
       "    </tr>\n",
       "    <tr>\n",
       "      <th>438</th>\n",
       "      <td>2480.0</td>\n",
       "      <td>27.11</td>\n",
       "      <td>2018-03-12</td>\n",
       "      <td>0</td>\n",
       "      <td>NaN</td>\n",
       "      <td>17.0</td>\n",
       "      <td>24.750000</td>\n",
       "      <td>4</td>\n",
       "      <td>True</td>\n",
       "      <td>NaN</td>\n",
       "      <td>Sankt-Peterburg</td>\n",
       "      <td>15015.0</td>\n",
       "      <td>64.0</td>\n",
       "      <td>91</td>\n",
       "      <td>0</td>\n",
       "      <td>3</td>\n",
       "      <td>2018</td>\n",
       "      <td>0.912947</td>\n",
       "      <td>NaN</td>\n",
       "      <td>Other</td>\n",
       "    </tr>\n",
       "    <tr>\n",
       "      <th>505</th>\n",
       "      <td>3375.0</td>\n",
       "      <td>34.40</td>\n",
       "      <td>2017-03-28</td>\n",
       "      <td>0</td>\n",
       "      <td>NaN</td>\n",
       "      <td>26.0</td>\n",
       "      <td>24.300000</td>\n",
       "      <td>19</td>\n",
       "      <td>False</td>\n",
       "      <td>NaN</td>\n",
       "      <td>Pargolovo setlement</td>\n",
       "      <td>19292.0</td>\n",
       "      <td>430.0</td>\n",
       "      <td>98</td>\n",
       "      <td>1</td>\n",
       "      <td>3</td>\n",
       "      <td>2017</td>\n",
       "      <td>0.706395</td>\n",
       "      <td>NaN</td>\n",
       "      <td>Other</td>\n",
       "    </tr>\n",
       "    <tr>\n",
       "      <th>605</th>\n",
       "      <td>1850.0</td>\n",
       "      <td>25.00</td>\n",
       "      <td>2019-02-20</td>\n",
       "      <td>0</td>\n",
       "      <td>NaN</td>\n",
       "      <td>10.0</td>\n",
       "      <td>14.123429</td>\n",
       "      <td>7</td>\n",
       "      <td>True</td>\n",
       "      <td>NaN</td>\n",
       "      <td>Shushary setlement</td>\n",
       "      <td>NaN</td>\n",
       "      <td>29.0</td>\n",
       "      <td>74</td>\n",
       "      <td>2</td>\n",
       "      <td>2</td>\n",
       "      <td>2019</td>\n",
       "      <td>0.564937</td>\n",
       "      <td>NaN</td>\n",
       "      <td>Other</td>\n",
       "    </tr>\n",
       "    <tr>\n",
       "      <th>...</th>\n",
       "      <td>...</td>\n",
       "      <td>...</td>\n",
       "      <td>...</td>\n",
       "      <td>...</td>\n",
       "      <td>...</td>\n",
       "      <td>...</td>\n",
       "      <td>...</td>\n",
       "      <td>...</td>\n",
       "      <td>...</td>\n",
       "      <td>...</td>\n",
       "      <td>...</td>\n",
       "      <td>...</td>\n",
       "      <td>...</td>\n",
       "      <td>...</td>\n",
       "      <td>...</td>\n",
       "      <td>...</td>\n",
       "      <td>...</td>\n",
       "      <td>...</td>\n",
       "      <td>...</td>\n",
       "      <td>...</td>\n",
       "    </tr>\n",
       "    <tr>\n",
       "      <th>23079</th>\n",
       "      <td>3200.0</td>\n",
       "      <td>26.00</td>\n",
       "      <td>2017-09-01</td>\n",
       "      <td>0</td>\n",
       "      <td>NaN</td>\n",
       "      <td>25.0</td>\n",
       "      <td>18.000000</td>\n",
       "      <td>16</td>\n",
       "      <td>True</td>\n",
       "      <td>NaN</td>\n",
       "      <td>Sankt-Peterburg</td>\n",
       "      <td>13222.0</td>\n",
       "      <td>14.0</td>\n",
       "      <td>123</td>\n",
       "      <td>4</td>\n",
       "      <td>9</td>\n",
       "      <td>2017</td>\n",
       "      <td>0.692308</td>\n",
       "      <td>NaN</td>\n",
       "      <td>Other</td>\n",
       "    </tr>\n",
       "    <tr>\n",
       "      <th>23310</th>\n",
       "      <td>2500.0</td>\n",
       "      <td>27.70</td>\n",
       "      <td>2017-09-28</td>\n",
       "      <td>0</td>\n",
       "      <td>NaN</td>\n",
       "      <td>24.0</td>\n",
       "      <td>18.000000</td>\n",
       "      <td>4</td>\n",
       "      <td>False</td>\n",
       "      <td>NaN</td>\n",
       "      <td>Murino setlement</td>\n",
       "      <td>NaN</td>\n",
       "      <td>4.0</td>\n",
       "      <td>90</td>\n",
       "      <td>3</td>\n",
       "      <td>9</td>\n",
       "      <td>2017</td>\n",
       "      <td>0.649819</td>\n",
       "      <td>NaN</td>\n",
       "      <td>Other</td>\n",
       "    </tr>\n",
       "    <tr>\n",
       "      <th>23422</th>\n",
       "      <td>3350.0</td>\n",
       "      <td>26.00</td>\n",
       "      <td>2018-09-07</td>\n",
       "      <td>0</td>\n",
       "      <td>NaN</td>\n",
       "      <td>19.0</td>\n",
       "      <td>14.688367</td>\n",
       "      <td>8</td>\n",
       "      <td>True</td>\n",
       "      <td>NaN</td>\n",
       "      <td>Sankt-Peterburg</td>\n",
       "      <td>17092.0</td>\n",
       "      <td>31.0</td>\n",
       "      <td>128</td>\n",
       "      <td>4</td>\n",
       "      <td>9</td>\n",
       "      <td>2018</td>\n",
       "      <td>0.564937</td>\n",
       "      <td>NaN</td>\n",
       "      <td>Other</td>\n",
       "    </tr>\n",
       "    <tr>\n",
       "      <th>23459</th>\n",
       "      <td>1450.0</td>\n",
       "      <td>29.00</td>\n",
       "      <td>2017-11-11</td>\n",
       "      <td>0</td>\n",
       "      <td>NaN</td>\n",
       "      <td>9.0</td>\n",
       "      <td>18.000000</td>\n",
       "      <td>8</td>\n",
       "      <td>False</td>\n",
       "      <td>NaN</td>\n",
       "      <td>Nikol'skoe</td>\n",
       "      <td>NaN</td>\n",
       "      <td>82.0</td>\n",
       "      <td>50</td>\n",
       "      <td>5</td>\n",
       "      <td>11</td>\n",
       "      <td>2017</td>\n",
       "      <td>0.620690</td>\n",
       "      <td>NaN</td>\n",
       "      <td>Other</td>\n",
       "    </tr>\n",
       "    <tr>\n",
       "      <th>23504</th>\n",
       "      <td>2350.0</td>\n",
       "      <td>26.00</td>\n",
       "      <td>2018-06-26</td>\n",
       "      <td>0</td>\n",
       "      <td>NaN</td>\n",
       "      <td>25.0</td>\n",
       "      <td>17.000000</td>\n",
       "      <td>4</td>\n",
       "      <td>True</td>\n",
       "      <td>NaN</td>\n",
       "      <td>Bugry setlement</td>\n",
       "      <td>NaN</td>\n",
       "      <td>207.0</td>\n",
       "      <td>90</td>\n",
       "      <td>1</td>\n",
       "      <td>6</td>\n",
       "      <td>2018</td>\n",
       "      <td>0.653846</td>\n",
       "      <td>NaN</td>\n",
       "      <td>Other</td>\n",
       "    </tr>\n",
       "  </tbody>\n",
       "</table>\n",
       "<p>193 rows × 20 columns</p>\n",
       "</div>"
      ],
      "text/plain": [
       "       last_price  total_area first_day_exposition  rooms  ceiling_height  \\\n",
       "144        2450.0       27.00           2017-03-30      0             NaN   \n",
       "347        2320.0       25.00           2017-09-27      0             NaN   \n",
       "438        2480.0       27.11           2018-03-12      0             NaN   \n",
       "505        3375.0       34.40           2017-03-28      0             NaN   \n",
       "605        1850.0       25.00           2019-02-20      0             NaN   \n",
       "...           ...         ...                  ...    ...             ...   \n",
       "23079      3200.0       26.00           2017-09-01      0             NaN   \n",
       "23310      2500.0       27.70           2017-09-28      0             NaN   \n",
       "23422      3350.0       26.00           2018-09-07      0             NaN   \n",
       "23459      1450.0       29.00           2017-11-11      0             NaN   \n",
       "23504      2350.0       26.00           2018-06-26      0             NaN   \n",
       "\n",
       "       floors_total  living_area  floor  studio  kitchen_area  \\\n",
       "144            24.0    15.500000      2    True           NaN   \n",
       "347            14.0    17.000000      1   False           NaN   \n",
       "438            17.0    24.750000      4    True           NaN   \n",
       "505            26.0    24.300000     19   False           NaN   \n",
       "605            10.0    14.123429      7    True           NaN   \n",
       "...             ...          ...    ...     ...           ...   \n",
       "23079          25.0    18.000000     16    True           NaN   \n",
       "23310          24.0    18.000000      4   False           NaN   \n",
       "23422          19.0    14.688367      8    True           NaN   \n",
       "23459           9.0    18.000000      8   False           NaN   \n",
       "23504          25.0    17.000000      4    True           NaN   \n",
       "\n",
       "             locality_name  cityCenters_nearest  days_exposition  \\\n",
       "144       Murino setlement                  NaN            181.0   \n",
       "347        Kudrovo village                  NaN             45.0   \n",
       "438        Sankt-Peterburg              15015.0             64.0   \n",
       "505    Pargolovo setlement              19292.0            430.0   \n",
       "605     Shushary setlement                  NaN             29.0   \n",
       "...                    ...                  ...              ...   \n",
       "23079      Sankt-Peterburg              13222.0             14.0   \n",
       "23310     Murino setlement                  NaN              4.0   \n",
       "23422      Sankt-Peterburg              17092.0             31.0   \n",
       "23459           Nikol'skoe                  NaN             82.0   \n",
       "23504      Bugry setlement                  NaN            207.0   \n",
       "\n",
       "       price_per_m2  day  month  year  living_to_total  kitchen_to_total  \\\n",
       "144              90    3      3  2017         0.574074               NaN   \n",
       "347              92    2      9  2017         0.680000               NaN   \n",
       "438              91    0      3  2018         0.912947               NaN   \n",
       "505              98    1      3  2017         0.706395               NaN   \n",
       "605              74    2      2  2019         0.564937               NaN   \n",
       "...             ...  ...    ...   ...              ...               ...   \n",
       "23079           123    4      9  2017         0.692308               NaN   \n",
       "23310            90    3      9  2017         0.649819               NaN   \n",
       "23422           128    4      9  2018         0.564937               NaN   \n",
       "23459            50    5     11  2017         0.620690               NaN   \n",
       "23504            90    1      6  2018         0.653846               NaN   \n",
       "\n",
       "         floor_type  \n",
       "144           Other  \n",
       "347    Ground floor  \n",
       "438           Other  \n",
       "505           Other  \n",
       "605           Other  \n",
       "...             ...  \n",
       "23079         Other  \n",
       "23310         Other  \n",
       "23422         Other  \n",
       "23459         Other  \n",
       "23504         Other  \n",
       "\n",
       "[193 rows x 20 columns]"
      ]
     },
     "execution_count": 25,
     "metadata": {},
     "output_type": "execute_result"
    }
   ],
   "source": [
    "df.query('rooms == 0')"
   ]
  },
  {
   "cell_type": "markdown",
   "metadata": {},
   "source": [
    "Zero rooms in those rows where the `studio` values are `True` can still be explained, most likely it means one single room combined with a kitchen. However, the remaining zeros are difficult to explain. Let's get rid of them."
   ]
  },
  {
   "cell_type": "code",
   "execution_count": 26,
   "metadata": {},
   "outputs": [
    {
     "data": {
      "text/plain": [
       "count    23106.000000\n",
       "mean         2.043192\n",
       "std          0.978516\n",
       "min          1.000000\n",
       "25%          1.000000\n",
       "50%          2.000000\n",
       "75%          3.000000\n",
       "max         11.000000\n",
       "Name: rooms, dtype: float64"
      ]
     },
     "execution_count": 26,
     "metadata": {},
     "output_type": "execute_result"
    }
   ],
   "source": [
    "df = df.query('~(rooms == 0 and studio == True)')\n",
    "df.loc[df['rooms'] == 0] = 1\n",
    "df = df.drop(columns = 'studio')\n",
    "df['rooms'].describe()"
   ]
  },
  {
   "cell_type": "markdown",
   "metadata": {},
   "source": [
    "Now let's look at the room statistics in the entire sample."
   ]
  },
  {
   "cell_type": "code",
   "execution_count": 27,
   "metadata": {},
   "outputs": [
    {
     "data": {
      "text/plain": [
       "1     8060\n",
       "2     7885\n",
       "3     5718\n",
       "4     1106\n",
       "5      254\n",
       "6       59\n",
       "7       20\n",
       "11       2\n",
       "8        2\n",
       "Name: rooms, dtype: int64"
      ]
     },
     "execution_count": 27,
     "metadata": {},
     "output_type": "execute_result"
    }
   ],
   "source": [
    "df['rooms'].value_counts()"
   ]
  },
  {
   "cell_type": "markdown",
   "metadata": {},
   "source": [
    "It seems that every apartment that has more than 7 rooms is an exception. Let's get rid of them."
   ]
  },
  {
   "cell_type": "code",
   "execution_count": 28,
   "metadata": {},
   "outputs": [
    {
     "data": {
      "text/plain": [
       "count    23102.000000\n",
       "mean         2.041901\n",
       "std          0.973468\n",
       "min          1.000000\n",
       "25%          1.000000\n",
       "50%          2.000000\n",
       "75%          3.000000\n",
       "max          7.000000\n",
       "Name: rooms, dtype: float64"
      ]
     },
     "execution_count": 28,
     "metadata": {},
     "output_type": "execute_result"
    }
   ],
   "source": [
    "df = df.query('rooms < 8')\n",
    "df['rooms'].describe()"
   ]
  },
  {
   "cell_type": "markdown",
   "metadata": {},
   "source": [
    "Now, let's look at `ceiling_height`"
   ]
  },
  {
   "cell_type": "code",
   "execution_count": 29,
   "metadata": {},
   "outputs": [
    {
     "name": "stdout",
     "output_type": "stream",
     "text": [
      "count    14245.000000\n",
      "mean         2.753224\n",
      "std          1.257016\n",
      "min          1.000000\n",
      "25%          2.500000\n",
      "50%          2.650000\n",
      "75%          2.800000\n",
      "max        100.000000\n",
      "Name: ceiling_height, dtype: float64\n"
     ]
    },
    {
     "data": {
      "text/plain": [
       "array([[<AxesSubplot:title={'center':'ceiling_height'}>]], dtype=object)"
      ]
     },
     "execution_count": 29,
     "metadata": {},
     "output_type": "execute_result"
    },
    {
     "data": {
      "image/png": "[encoded data removed]",
      "text/plain": [
       "<Figure size 432x288 with 1 Axes>"
      ]
     },
     "metadata": {
      "needs_background": "light"
     },
     "output_type": "display_data"
    }
   ],
   "source": [
    "print(df['ceiling_height'].describe())\n",
    "df.hist('ceiling_height', range = (2, 5), bins = 10)"
   ]
  },
  {
   "cell_type": "markdown",
   "metadata": {},
   "source": [
    "A strange value of 100 meters ceiling heught immediately attracts attention. It is unlikely that there is a 5 or 4 storey apartment, it is rather a house, not an apartment. Let's study the data with apartments whose ceilings are higher than 10 meters."
   ]
  },
  {
   "cell_type": "code",
   "execution_count": 30,
   "metadata": {},
   "outputs": [
    {
     "data": {
      "text/html": [
       "<div>\n",
       "<style scoped>\n",
       "    .dataframe tbody tr th:only-of-type {\n",
       "        vertical-align: middle;\n",
       "    }\n",
       "\n",
       "    .dataframe tbody tr th {\n",
       "        vertical-align: top;\n",
       "    }\n",
       "\n",
       "    .dataframe thead th {\n",
       "        text-align: right;\n",
       "    }\n",
       "</style>\n",
       "<table border=\"1\" class=\"dataframe\">\n",
       "  <thead>\n",
       "    <tr style=\"text-align: right;\">\n",
       "      <th></th>\n",
       "      <th>last_price</th>\n",
       "      <th>total_area</th>\n",
       "      <th>first_day_exposition</th>\n",
       "      <th>rooms</th>\n",
       "      <th>ceiling_height</th>\n",
       "      <th>floors_total</th>\n",
       "      <th>living_area</th>\n",
       "      <th>floor</th>\n",
       "      <th>kitchen_area</th>\n",
       "      <th>locality_name</th>\n",
       "      <th>cityCenters_nearest</th>\n",
       "      <th>days_exposition</th>\n",
       "      <th>price_per_m2</th>\n",
       "      <th>day</th>\n",
       "      <th>month</th>\n",
       "      <th>year</th>\n",
       "      <th>living_to_total</th>\n",
       "      <th>kitchen_to_total</th>\n",
       "      <th>floor_type</th>\n",
       "    </tr>\n",
       "  </thead>\n",
       "  <tbody>\n",
       "    <tr>\n",
       "      <th>353</th>\n",
       "      <td>3600.0</td>\n",
       "      <td>55.2</td>\n",
       "      <td>2018-07-12 00:00:00</td>\n",
       "      <td>2</td>\n",
       "      <td>25.0</td>\n",
       "      <td>5.0</td>\n",
       "      <td>32.0</td>\n",
       "      <td>2</td>\n",
       "      <td>NaN</td>\n",
       "      <td>Gatchina</td>\n",
       "      <td>NaN</td>\n",
       "      <td>259.0</td>\n",
       "      <td>65</td>\n",
       "      <td>3</td>\n",
       "      <td>7</td>\n",
       "      <td>2018</td>\n",
       "      <td>0.579710</td>\n",
       "      <td>NaN</td>\n",
       "      <td>Other</td>\n",
       "    </tr>\n",
       "    <tr>\n",
       "      <th>3134</th>\n",
       "      <td>2900.0</td>\n",
       "      <td>75.0</td>\n",
       "      <td>2018-11-12 00:00:00</td>\n",
       "      <td>3</td>\n",
       "      <td>32.0</td>\n",
       "      <td>3.0</td>\n",
       "      <td>53.0</td>\n",
       "      <td>2</td>\n",
       "      <td>8.0</td>\n",
       "      <td>Volhov</td>\n",
       "      <td>NaN</td>\n",
       "      <td>NaN</td>\n",
       "      <td>38</td>\n",
       "      <td>0</td>\n",
       "      <td>11</td>\n",
       "      <td>2018</td>\n",
       "      <td>0.706667</td>\n",
       "      <td>0.106667</td>\n",
       "      <td>Other</td>\n",
       "    </tr>\n",
       "    <tr>\n",
       "      <th>4621</th>\n",
       "      <td>4300.0</td>\n",
       "      <td>45.0</td>\n",
       "      <td>2018-02-01 00:00:00</td>\n",
       "      <td>2</td>\n",
       "      <td>25.0</td>\n",
       "      <td>9.0</td>\n",
       "      <td>30.0</td>\n",
       "      <td>2</td>\n",
       "      <td>7.0</td>\n",
       "      <td>Sankt-Peterburg</td>\n",
       "      <td>13256.0</td>\n",
       "      <td>181.0</td>\n",
       "      <td>95</td>\n",
       "      <td>3</td>\n",
       "      <td>2</td>\n",
       "      <td>2018</td>\n",
       "      <td>0.666667</td>\n",
       "      <td>0.155556</td>\n",
       "      <td>Other</td>\n",
       "    </tr>\n",
       "    <tr>\n",
       "      <th>5051</th>\n",
       "      <td>3850.0</td>\n",
       "      <td>30.5</td>\n",
       "      <td>2018-10-03 00:00:00</td>\n",
       "      <td>1</td>\n",
       "      <td>24.0</td>\n",
       "      <td>5.0</td>\n",
       "      <td>19.5</td>\n",
       "      <td>1</td>\n",
       "      <td>5.5</td>\n",
       "      <td>Sankt-Peterburg</td>\n",
       "      <td>8389.0</td>\n",
       "      <td>7.0</td>\n",
       "      <td>126</td>\n",
       "      <td>2</td>\n",
       "      <td>10</td>\n",
       "      <td>2018</td>\n",
       "      <td>0.639344</td>\n",
       "      <td>0.180328</td>\n",
       "      <td>Ground floor</td>\n",
       "    </tr>\n",
       "    <tr>\n",
       "      <th>5219</th>\n",
       "      <td>2500.0</td>\n",
       "      <td>54.0</td>\n",
       "      <td>2017-10-13 00:00:00</td>\n",
       "      <td>2</td>\n",
       "      <td>27.0</td>\n",
       "      <td>5.0</td>\n",
       "      <td>30.0</td>\n",
       "      <td>3</td>\n",
       "      <td>9.0</td>\n",
       "      <td>Miny village</td>\n",
       "      <td>NaN</td>\n",
       "      <td>540.0</td>\n",
       "      <td>46</td>\n",
       "      <td>4</td>\n",
       "      <td>10</td>\n",
       "      <td>2017</td>\n",
       "      <td>0.555556</td>\n",
       "      <td>0.166667</td>\n",
       "      <td>Other</td>\n",
       "    </tr>\n",
       "    <tr>\n",
       "      <th>5641</th>\n",
       "      <td>4400.0</td>\n",
       "      <td>50.0</td>\n",
       "      <td>2017-08-08 00:00:00</td>\n",
       "      <td>2</td>\n",
       "      <td>26.0</td>\n",
       "      <td>9.0</td>\n",
       "      <td>21.3</td>\n",
       "      <td>3</td>\n",
       "      <td>7.0</td>\n",
       "      <td>Sankt-Peterburg</td>\n",
       "      <td>10912.0</td>\n",
       "      <td>267.0</td>\n",
       "      <td>88</td>\n",
       "      <td>1</td>\n",
       "      <td>8</td>\n",
       "      <td>2017</td>\n",
       "      <td>0.426000</td>\n",
       "      <td>0.140000</td>\n",
       "      <td>Other</td>\n",
       "    </tr>\n",
       "    <tr>\n",
       "      <th>5777</th>\n",
       "      <td>8150.0</td>\n",
       "      <td>80.0</td>\n",
       "      <td>2019-01-09 00:00:00</td>\n",
       "      <td>2</td>\n",
       "      <td>27.0</td>\n",
       "      <td>36.0</td>\n",
       "      <td>41.0</td>\n",
       "      <td>13</td>\n",
       "      <td>12.0</td>\n",
       "      <td>Sankt-Peterburg</td>\n",
       "      <td>20444.0</td>\n",
       "      <td>38.0</td>\n",
       "      <td>101</td>\n",
       "      <td>2</td>\n",
       "      <td>1</td>\n",
       "      <td>2019</td>\n",
       "      <td>0.512500</td>\n",
       "      <td>0.150000</td>\n",
       "      <td>Other</td>\n",
       "    </tr>\n",
       "    <tr>\n",
       "      <th>6213</th>\n",
       "      <td>3300.0</td>\n",
       "      <td>44.4</td>\n",
       "      <td>2019-03-25 00:00:00</td>\n",
       "      <td>2</td>\n",
       "      <td>25.0</td>\n",
       "      <td>5.0</td>\n",
       "      <td>31.3</td>\n",
       "      <td>5</td>\n",
       "      <td>5.7</td>\n",
       "      <td>Kronshtadt</td>\n",
       "      <td>50649.0</td>\n",
       "      <td>NaN</td>\n",
       "      <td>74</td>\n",
       "      <td>0</td>\n",
       "      <td>3</td>\n",
       "      <td>2019</td>\n",
       "      <td>0.704955</td>\n",
       "      <td>0.128378</td>\n",
       "      <td>Last floor</td>\n",
       "    </tr>\n",
       "    <tr>\n",
       "      <th>9334</th>\n",
       "      <td>3950.0</td>\n",
       "      <td>42.0</td>\n",
       "      <td>2017-03-26 00:00:00</td>\n",
       "      <td>3</td>\n",
       "      <td>25.0</td>\n",
       "      <td>5.0</td>\n",
       "      <td>30.0</td>\n",
       "      <td>2</td>\n",
       "      <td>5.2</td>\n",
       "      <td>Sankt-Peterburg</td>\n",
       "      <td>13581.0</td>\n",
       "      <td>NaN</td>\n",
       "      <td>94</td>\n",
       "      <td>6</td>\n",
       "      <td>3</td>\n",
       "      <td>2017</td>\n",
       "      <td>0.714286</td>\n",
       "      <td>0.123810</td>\n",
       "      <td>Other</td>\n",
       "    </tr>\n",
       "    <tr>\n",
       "      <th>10713</th>\n",
       "      <td>3800.0</td>\n",
       "      <td>58.0</td>\n",
       "      <td>2017-10-13 00:00:00</td>\n",
       "      <td>2</td>\n",
       "      <td>27.0</td>\n",
       "      <td>10.0</td>\n",
       "      <td>30.1</td>\n",
       "      <td>3</td>\n",
       "      <td>8.1</td>\n",
       "      <td>Murino setlement</td>\n",
       "      <td>NaN</td>\n",
       "      <td>71.0</td>\n",
       "      <td>65</td>\n",
       "      <td>4</td>\n",
       "      <td>10</td>\n",
       "      <td>2017</td>\n",
       "      <td>0.518966</td>\n",
       "      <td>0.139655</td>\n",
       "      <td>Other</td>\n",
       "    </tr>\n",
       "    <tr>\n",
       "      <th>11221</th>\n",
       "      <td>1950.0</td>\n",
       "      <td>37.0</td>\n",
       "      <td>2019-03-20 00:00:00</td>\n",
       "      <td>1</td>\n",
       "      <td>25.0</td>\n",
       "      <td>5.0</td>\n",
       "      <td>17.0</td>\n",
       "      <td>4</td>\n",
       "      <td>9.0</td>\n",
       "      <td>Luga</td>\n",
       "      <td>NaN</td>\n",
       "      <td>18.0</td>\n",
       "      <td>52</td>\n",
       "      <td>2</td>\n",
       "      <td>3</td>\n",
       "      <td>2019</td>\n",
       "      <td>0.459459</td>\n",
       "      <td>0.243243</td>\n",
       "      <td>Other</td>\n",
       "    </tr>\n",
       "    <tr>\n",
       "      <th>14298</th>\n",
       "      <td>1700.0</td>\n",
       "      <td>35.0</td>\n",
       "      <td>2015-12-04 00:00:00</td>\n",
       "      <td>1</td>\n",
       "      <td>25.0</td>\n",
       "      <td>5.0</td>\n",
       "      <td>20.0</td>\n",
       "      <td>2</td>\n",
       "      <td>8.0</td>\n",
       "      <td>Novyj Svet settlement</td>\n",
       "      <td>NaN</td>\n",
       "      <td>206.0</td>\n",
       "      <td>48</td>\n",
       "      <td>4</td>\n",
       "      <td>12</td>\n",
       "      <td>2015</td>\n",
       "      <td>0.571429</td>\n",
       "      <td>0.228571</td>\n",
       "      <td>Other</td>\n",
       "    </tr>\n",
       "    <tr>\n",
       "      <th>14975</th>\n",
       "      <td>5600.0</td>\n",
       "      <td>56.4</td>\n",
       "      <td>2018-05-11 00:00:00</td>\n",
       "      <td>2</td>\n",
       "      <td>14.0</td>\n",
       "      <td>14.0</td>\n",
       "      <td>32.4</td>\n",
       "      <td>5</td>\n",
       "      <td>9.1</td>\n",
       "      <td>Sankt-Peterburg</td>\n",
       "      <td>13610.0</td>\n",
       "      <td>315.0</td>\n",
       "      <td>99</td>\n",
       "      <td>4</td>\n",
       "      <td>5</td>\n",
       "      <td>2018</td>\n",
       "      <td>0.574468</td>\n",
       "      <td>0.161348</td>\n",
       "      <td>Other</td>\n",
       "    </tr>\n",
       "    <tr>\n",
       "      <th>17399</th>\n",
       "      <td>6700.0</td>\n",
       "      <td>92.9</td>\n",
       "      <td>2019-02-19 00:00:00</td>\n",
       "      <td>3</td>\n",
       "      <td>20.0</td>\n",
       "      <td>17.0</td>\n",
       "      <td>53.2</td>\n",
       "      <td>14</td>\n",
       "      <td>12.0</td>\n",
       "      <td>Sankt-Peterburg</td>\n",
       "      <td>15092.0</td>\n",
       "      <td>NaN</td>\n",
       "      <td>72</td>\n",
       "      <td>1</td>\n",
       "      <td>2</td>\n",
       "      <td>2019</td>\n",
       "      <td>0.572659</td>\n",
       "      <td>0.129171</td>\n",
       "      <td>Other</td>\n",
       "    </tr>\n",
       "    <tr>\n",
       "      <th>17756</th>\n",
       "      <td>3900.0</td>\n",
       "      <td>56.0</td>\n",
       "      <td>2017-12-22 00:00:00</td>\n",
       "      <td>3</td>\n",
       "      <td>27.0</td>\n",
       "      <td>5.0</td>\n",
       "      <td>33.0</td>\n",
       "      <td>4</td>\n",
       "      <td>NaN</td>\n",
       "      <td>Sankt-Peterburg</td>\n",
       "      <td>15543.0</td>\n",
       "      <td>73.0</td>\n",
       "      <td>69</td>\n",
       "      <td>4</td>\n",
       "      <td>12</td>\n",
       "      <td>2017</td>\n",
       "      <td>0.589286</td>\n",
       "      <td>NaN</td>\n",
       "      <td>Other</td>\n",
       "    </tr>\n",
       "    <tr>\n",
       "      <th>18442</th>\n",
       "      <td>3750.0</td>\n",
       "      <td>43.0</td>\n",
       "      <td>2019-03-18 00:00:00</td>\n",
       "      <td>2</td>\n",
       "      <td>25.0</td>\n",
       "      <td>5.0</td>\n",
       "      <td>29.0</td>\n",
       "      <td>3</td>\n",
       "      <td>NaN</td>\n",
       "      <td>Sankt-Peterburg</td>\n",
       "      <td>8033.0</td>\n",
       "      <td>12.0</td>\n",
       "      <td>87</td>\n",
       "      <td>0</td>\n",
       "      <td>3</td>\n",
       "      <td>2019</td>\n",
       "      <td>0.674419</td>\n",
       "      <td>NaN</td>\n",
       "      <td>Other</td>\n",
       "    </tr>\n",
       "    <tr>\n",
       "      <th>20364</th>\n",
       "      <td>8000.0</td>\n",
       "      <td>45.0</td>\n",
       "      <td>2017-07-18 00:00:00</td>\n",
       "      <td>1</td>\n",
       "      <td>27.0</td>\n",
       "      <td>4.0</td>\n",
       "      <td>22.0</td>\n",
       "      <td>2</td>\n",
       "      <td>10.0</td>\n",
       "      <td>Sankt-Peterburg</td>\n",
       "      <td>3246.0</td>\n",
       "      <td>429.0</td>\n",
       "      <td>177</td>\n",
       "      <td>1</td>\n",
       "      <td>7</td>\n",
       "      <td>2017</td>\n",
       "      <td>0.488889</td>\n",
       "      <td>0.222222</td>\n",
       "      <td>Other</td>\n",
       "    </tr>\n",
       "    <tr>\n",
       "      <th>20393</th>\n",
       "      <td>5950.0</td>\n",
       "      <td>60.0</td>\n",
       "      <td>2018-02-19 00:00:00</td>\n",
       "      <td>2</td>\n",
       "      <td>22.6</td>\n",
       "      <td>14.0</td>\n",
       "      <td>35.0</td>\n",
       "      <td>11</td>\n",
       "      <td>13.0</td>\n",
       "      <td>Sankt-Peterburg</td>\n",
       "      <td>12570.0</td>\n",
       "      <td>40.0</td>\n",
       "      <td>99</td>\n",
       "      <td>0</td>\n",
       "      <td>2</td>\n",
       "      <td>2018</td>\n",
       "      <td>0.583333</td>\n",
       "      <td>0.216667</td>\n",
       "      <td>Other</td>\n",
       "    </tr>\n",
       "    <tr>\n",
       "      <th>21256</th>\n",
       "      <td>4900.0</td>\n",
       "      <td>42.0</td>\n",
       "      <td>2017-04-18 00:00:00</td>\n",
       "      <td>1</td>\n",
       "      <td>27.5</td>\n",
       "      <td>24.0</td>\n",
       "      <td>37.7</td>\n",
       "      <td>19</td>\n",
       "      <td>11.0</td>\n",
       "      <td>Sankt-Peterburg</td>\n",
       "      <td>9760.0</td>\n",
       "      <td>61.0</td>\n",
       "      <td>116</td>\n",
       "      <td>1</td>\n",
       "      <td>4</td>\n",
       "      <td>2017</td>\n",
       "      <td>0.897619</td>\n",
       "      <td>0.261905</td>\n",
       "      <td>Other</td>\n",
       "    </tr>\n",
       "    <tr>\n",
       "      <th>21700</th>\n",
       "      <td>2450.0</td>\n",
       "      <td>44.0</td>\n",
       "      <td>2019-02-12 00:00:00</td>\n",
       "      <td>2</td>\n",
       "      <td>27.0</td>\n",
       "      <td>2.0</td>\n",
       "      <td>38.0</td>\n",
       "      <td>2</td>\n",
       "      <td>8.6</td>\n",
       "      <td>Bol'shaja Izhora city settlement</td>\n",
       "      <td>NaN</td>\n",
       "      <td>NaN</td>\n",
       "      <td>55</td>\n",
       "      <td>1</td>\n",
       "      <td>2</td>\n",
       "      <td>2019</td>\n",
       "      <td>0.863636</td>\n",
       "      <td>0.195455</td>\n",
       "      <td>Last floor</td>\n",
       "    </tr>\n",
       "    <tr>\n",
       "      <th>22184</th>\n",
       "      <td>5300.0</td>\n",
       "      <td>45.0</td>\n",
       "      <td>2017-09-30 00:00:00</td>\n",
       "      <td>1</td>\n",
       "      <td>10.3</td>\n",
       "      <td>16.0</td>\n",
       "      <td>15.5</td>\n",
       "      <td>15</td>\n",
       "      <td>NaN</td>\n",
       "      <td>Sankt-Peterburg</td>\n",
       "      <td>11936.0</td>\n",
       "      <td>136.0</td>\n",
       "      <td>117</td>\n",
       "      <td>5</td>\n",
       "      <td>9</td>\n",
       "      <td>2017</td>\n",
       "      <td>0.344444</td>\n",
       "      <td>NaN</td>\n",
       "      <td>Other</td>\n",
       "    </tr>\n",
       "    <tr>\n",
       "      <th>22211</th>\n",
       "      <td>9999.0</td>\n",
       "      <td>92.4</td>\n",
       "      <td>2019-04-05 00:00:00</td>\n",
       "      <td>2</td>\n",
       "      <td>32.0</td>\n",
       "      <td>6.0</td>\n",
       "      <td>55.5</td>\n",
       "      <td>5</td>\n",
       "      <td>16.5</td>\n",
       "      <td>Sankt-Peterburg</td>\n",
       "      <td>3506.0</td>\n",
       "      <td>NaN</td>\n",
       "      <td>108</td>\n",
       "      <td>4</td>\n",
       "      <td>4</td>\n",
       "      <td>2019</td>\n",
       "      <td>0.600649</td>\n",
       "      <td>0.178571</td>\n",
       "      <td>Other</td>\n",
       "    </tr>\n",
       "    <tr>\n",
       "      <th>22739</th>\n",
       "      <td>15000.0</td>\n",
       "      <td>25.0</td>\n",
       "      <td>2018-07-25 00:00:00</td>\n",
       "      <td>1</td>\n",
       "      <td>100.0</td>\n",
       "      <td>5.0</td>\n",
       "      <td>14.0</td>\n",
       "      <td>5</td>\n",
       "      <td>11.0</td>\n",
       "      <td>Sankt-Peterburg</td>\n",
       "      <td>8283.0</td>\n",
       "      <td>19.0</td>\n",
       "      <td>600</td>\n",
       "      <td>2</td>\n",
       "      <td>7</td>\n",
       "      <td>2018</td>\n",
       "      <td>0.560000</td>\n",
       "      <td>0.440000</td>\n",
       "      <td>Last floor</td>\n",
       "    </tr>\n",
       "    <tr>\n",
       "      <th>22807</th>\n",
       "      <td>4000.0</td>\n",
       "      <td>98.0</td>\n",
       "      <td>2018-03-15 00:00:00</td>\n",
       "      <td>4</td>\n",
       "      <td>27.0</td>\n",
       "      <td>2.0</td>\n",
       "      <td>73.0</td>\n",
       "      <td>2</td>\n",
       "      <td>9.0</td>\n",
       "      <td>Nizhnjaja village</td>\n",
       "      <td>NaN</td>\n",
       "      <td>27.0</td>\n",
       "      <td>40</td>\n",
       "      <td>3</td>\n",
       "      <td>3</td>\n",
       "      <td>2018</td>\n",
       "      <td>0.744898</td>\n",
       "      <td>0.091837</td>\n",
       "      <td>Last floor</td>\n",
       "    </tr>\n",
       "  </tbody>\n",
       "</table>\n",
       "</div>"
      ],
      "text/plain": [
       "       last_price  total_area first_day_exposition  rooms  ceiling_height  \\\n",
       "353        3600.0        55.2  2018-07-12 00:00:00      2            25.0   \n",
       "3134       2900.0        75.0  2018-11-12 00:00:00      3            32.0   \n",
       "4621       4300.0        45.0  2018-02-01 00:00:00      2            25.0   \n",
       "5051       3850.0        30.5  2018-10-03 00:00:00      1            24.0   \n",
       "5219       2500.0        54.0  2017-10-13 00:00:00      2            27.0   \n",
       "5641       4400.0        50.0  2017-08-08 00:00:00      2            26.0   \n",
       "5777       8150.0        80.0  2019-01-09 00:00:00      2            27.0   \n",
       "6213       3300.0        44.4  2019-03-25 00:00:00      2            25.0   \n",
       "9334       3950.0        42.0  2017-03-26 00:00:00      3            25.0   \n",
       "10713      3800.0        58.0  2017-10-13 00:00:00      2            27.0   \n",
       "11221      1950.0        37.0  2019-03-20 00:00:00      1            25.0   \n",
       "14298      1700.0        35.0  2015-12-04 00:00:00      1            25.0   \n",
       "14975      5600.0        56.4  2018-05-11 00:00:00      2            14.0   \n",
       "17399      6700.0        92.9  2019-02-19 00:00:00      3            20.0   \n",
       "17756      3900.0        56.0  2017-12-22 00:00:00      3            27.0   \n",
       "18442      3750.0        43.0  2019-03-18 00:00:00      2            25.0   \n",
       "20364      8000.0        45.0  2017-07-18 00:00:00      1            27.0   \n",
       "20393      5950.0        60.0  2018-02-19 00:00:00      2            22.6   \n",
       "21256      4900.0        42.0  2017-04-18 00:00:00      1            27.5   \n",
       "21700      2450.0        44.0  2019-02-12 00:00:00      2            27.0   \n",
       "22184      5300.0        45.0  2017-09-30 00:00:00      1            10.3   \n",
       "22211      9999.0        92.4  2019-04-05 00:00:00      2            32.0   \n",
       "22739     15000.0        25.0  2018-07-25 00:00:00      1           100.0   \n",
       "22807      4000.0        98.0  2018-03-15 00:00:00      4            27.0   \n",
       "\n",
       "       floors_total  living_area  floor  kitchen_area  \\\n",
       "353             5.0         32.0      2           NaN   \n",
       "3134            3.0         53.0      2           8.0   \n",
       "4621            9.0         30.0      2           7.0   \n",
       "5051            5.0         19.5      1           5.5   \n",
       "5219            5.0         30.0      3           9.0   \n",
       "5641            9.0         21.3      3           7.0   \n",
       "5777           36.0         41.0     13          12.0   \n",
       "6213            5.0         31.3      5           5.7   \n",
       "9334            5.0         30.0      2           5.2   \n",
       "10713          10.0         30.1      3           8.1   \n",
       "11221           5.0         17.0      4           9.0   \n",
       "14298           5.0         20.0      2           8.0   \n",
       "14975          14.0         32.4      5           9.1   \n",
       "17399          17.0         53.2     14          12.0   \n",
       "17756           5.0         33.0      4           NaN   \n",
       "18442           5.0         29.0      3           NaN   \n",
       "20364           4.0         22.0      2          10.0   \n",
       "20393          14.0         35.0     11          13.0   \n",
       "21256          24.0         37.7     19          11.0   \n",
       "21700           2.0         38.0      2           8.6   \n",
       "22184          16.0         15.5     15           NaN   \n",
       "22211           6.0         55.5      5          16.5   \n",
       "22739           5.0         14.0      5          11.0   \n",
       "22807           2.0         73.0      2           9.0   \n",
       "\n",
       "                          locality_name  cityCenters_nearest  days_exposition  \\\n",
       "353                            Gatchina                  NaN            259.0   \n",
       "3134                             Volhov                  NaN              NaN   \n",
       "4621                    Sankt-Peterburg              13256.0            181.0   \n",
       "5051                    Sankt-Peterburg               8389.0              7.0   \n",
       "5219                       Miny village                  NaN            540.0   \n",
       "5641                    Sankt-Peterburg              10912.0            267.0   \n",
       "5777                    Sankt-Peterburg              20444.0             38.0   \n",
       "6213                         Kronshtadt              50649.0              NaN   \n",
       "9334                    Sankt-Peterburg              13581.0              NaN   \n",
       "10713                  Murino setlement                  NaN             71.0   \n",
       "11221                              Luga                  NaN             18.0   \n",
       "14298             Novyj Svet settlement                  NaN            206.0   \n",
       "14975                   Sankt-Peterburg              13610.0            315.0   \n",
       "17399                   Sankt-Peterburg              15092.0              NaN   \n",
       "17756                   Sankt-Peterburg              15543.0             73.0   \n",
       "18442                   Sankt-Peterburg               8033.0             12.0   \n",
       "20364                   Sankt-Peterburg               3246.0            429.0   \n",
       "20393                   Sankt-Peterburg              12570.0             40.0   \n",
       "21256                   Sankt-Peterburg               9760.0             61.0   \n",
       "21700  Bol'shaja Izhora city settlement                  NaN              NaN   \n",
       "22184                   Sankt-Peterburg              11936.0            136.0   \n",
       "22211                   Sankt-Peterburg               3506.0              NaN   \n",
       "22739                   Sankt-Peterburg               8283.0             19.0   \n",
       "22807                 Nizhnjaja village                  NaN             27.0   \n",
       "\n",
       "       price_per_m2  day  month  year  living_to_total  kitchen_to_total  \\\n",
       "353              65    3      7  2018         0.579710               NaN   \n",
       "3134             38    0     11  2018         0.706667          0.106667   \n",
       "4621             95    3      2  2018         0.666667          0.155556   \n",
       "5051            126    2     10  2018         0.639344          0.180328   \n",
       "5219             46    4     10  2017         0.555556          0.166667   \n",
       "5641             88    1      8  2017         0.426000          0.140000   \n",
       "5777            101    2      1  2019         0.512500          0.150000   \n",
       "6213             74    0      3  2019         0.704955          0.128378   \n",
       "9334             94    6      3  2017         0.714286          0.123810   \n",
       "10713            65    4     10  2017         0.518966          0.139655   \n",
       "11221            52    2      3  2019         0.459459          0.243243   \n",
       "14298            48    4     12  2015         0.571429          0.228571   \n",
       "14975            99    4      5  2018         0.574468          0.161348   \n",
       "17399            72    1      2  2019         0.572659          0.129171   \n",
       "17756            69    4     12  2017         0.589286               NaN   \n",
       "18442            87    0      3  2019         0.674419               NaN   \n",
       "20364           177    1      7  2017         0.488889          0.222222   \n",
       "20393            99    0      2  2018         0.583333          0.216667   \n",
       "21256           116    1      4  2017         0.897619          0.261905   \n",
       "21700            55    1      2  2019         0.863636          0.195455   \n",
       "22184           117    5      9  2017         0.344444               NaN   \n",
       "22211           108    4      4  2019         0.600649          0.178571   \n",
       "22739           600    2      7  2018         0.560000          0.440000   \n",
       "22807            40    3      3  2018         0.744898          0.091837   \n",
       "\n",
       "         floor_type  \n",
       "353           Other  \n",
       "3134          Other  \n",
       "4621          Other  \n",
       "5051   Ground floor  \n",
       "5219          Other  \n",
       "5641          Other  \n",
       "5777          Other  \n",
       "6213     Last floor  \n",
       "9334          Other  \n",
       "10713         Other  \n",
       "11221         Other  \n",
       "14298         Other  \n",
       "14975         Other  \n",
       "17399         Other  \n",
       "17756         Other  \n",
       "18442         Other  \n",
       "20364         Other  \n",
       "20393         Other  \n",
       "21256         Other  \n",
       "21700    Last floor  \n",
       "22184         Other  \n",
       "22211         Other  \n",
       "22739    Last floor  \n",
       "22807    Last floor  "
      ]
     },
     "execution_count": 30,
     "metadata": {},
     "output_type": "execute_result"
    }
   ],
   "source": [
    "df.query('ceiling_height > 10')"
   ]
  },
  {
   "cell_type": "markdown",
   "metadata": {},
   "source": [
    "Obviously there is a data error. A number of apartments are located in small towns and villages, while they have ceiling height values from 22 to 32 meters. Most likely, it meant to be not 22 and 32, but 2.2 and 3.2 meters. Let's fix this error and remove the anomalous 100 meters ceiling apartment away."
   ]
  },
  {
   "cell_type": "code",
   "execution_count": 31,
   "metadata": {},
   "outputs": [
    {
     "data": {
      "text/plain": [
       "count    14244.000000\n",
       "mean         2.710230\n",
       "std          0.297501\n",
       "min          1.000000\n",
       "25%          2.500000\n",
       "50%          2.650000\n",
       "75%          2.800000\n",
       "max          8.300000\n",
       "Name: ceiling_height, dtype: float64"
      ]
     },
     "execution_count": 31,
     "metadata": {},
     "output_type": "execute_result"
    }
   ],
   "source": [
    "df = df.drop(df[df['ceiling_height'] == 100].index)\n",
    "df.loc[df['ceiling_height'] > 10, 'ceiling_height'] = df['ceiling_height'] / 10\n",
    "df['ceiling_height'].describe()"
   ]
  },
  {
   "cell_type": "markdown",
   "metadata": {},
   "source": [
    "Now let's look at apartments with a ceiling height of less than 2 meters"
   ]
  },
  {
   "cell_type": "code",
   "execution_count": 32,
   "metadata": {},
   "outputs": [
    {
     "data": {
      "text/plain": [
       "count    63.000000\n",
       "mean      1.021905\n",
       "std       0.108744\n",
       "min       1.000000\n",
       "25%       1.000000\n",
       "50%       1.000000\n",
       "75%       1.000000\n",
       "max       1.750000\n",
       "Name: ceiling_height, dtype: float64"
      ]
     },
     "execution_count": 32,
     "metadata": {},
     "output_type": "execute_result"
    }
   ],
   "source": [
    "df.query('ceiling_height < 2')['ceiling_height'].describe()"
   ]
  },
  {
   "cell_type": "markdown",
   "metadata": {},
   "source": [
    "Such data is difficult to explain logically. Let's get rid of them."
   ]
  },
  {
   "cell_type": "code",
   "execution_count": 33,
   "metadata": {},
   "outputs": [
    {
     "data": {
      "text/plain": [
       "count    14181.000000\n",
       "mean         2.717731\n",
       "std          0.275913\n",
       "min          2.000000\n",
       "25%          2.500000\n",
       "50%          2.650000\n",
       "75%          2.800000\n",
       "max          8.300000\n",
       "Name: ceiling_height, dtype: float64"
      ]
     },
     "execution_count": 33,
     "metadata": {},
     "output_type": "execute_result"
    }
   ],
   "source": [
    "df = df.drop(df.query('ceiling_height < 2').index)\n",
    "df['ceiling_height'].describe()"
   ]
  },
  {
   "cell_type": "markdown",
   "metadata": {},
   "source": [
    "Now the data is in perfect order. The average ceiling height is 2.7 meters, the range of values is from 2 meters to 8.3 meters, the latter is most likely a two or three-story apartment."
   ]
  },
  {
   "cell_type": "markdown",
   "metadata": {},
   "source": [
    "Let's examin the `days_exposition` data"
   ]
  },
  {
   "cell_type": "code",
   "execution_count": 34,
   "metadata": {},
   "outputs": [
    {
     "data": {
      "text/plain": [
       "count    19958.000000\n",
       "mean       179.684287\n",
       "std        218.290098\n",
       "min          1.000000\n",
       "25%         45.000000\n",
       "50%         95.000000\n",
       "75%        229.000000\n",
       "max       1580.000000\n",
       "Name: days_exposition, dtype: float64"
      ]
     },
     "execution_count": 34,
     "metadata": {},
     "output_type": "execute_result"
    },
    {
     "data": {
      "image/png": "[encoded data removed]",
      "text/plain": [
       "<Figure size 432x288 with 1 Axes>"
      ]
     },
     "metadata": {
      "needs_background": "light"
     },
     "output_type": "display_data"
    }
   ],
   "source": [
    "df.hist('days_exposition', bins = 50)\n",
    "df['days_exposition'].describe()"
   ]
  },
  {
   "cell_type": "markdown",
   "metadata": {},
   "source": [
    "The mean is almost twice the median. The data is extremely heterogeneous, the same can be seen from the plot. Judging by the quantile values, most often apartments are sold from 45 to 240 days, that is, from 1.5 to 8 months. Let's study the data on locations, for settlements with anomalous indicators."
   ]
  },
  {
   "cell_type": "code",
   "execution_count": 36,
   "metadata": {},
   "outputs": [
    {
     "data": {
      "text/plain": [
       "count     112.000000\n",
       "mean      259.160714\n",
       "std       256.416804\n",
       "min         3.000000\n",
       "25%        18.750000\n",
       "50%       247.000000\n",
       "75%       414.500000\n",
       "max      1069.000000\n",
       "Name: days_exposition, dtype: float64"
      ]
     },
     "execution_count": 36,
     "metadata": {},
     "output_type": "execute_result"
    }
   ],
   "source": [
    "df_locations = df[['locality_name', 'days_exposition']].copy()\n",
    "df_locations['too_fast'] = df_locations['days_exposition'] < 45\n",
    "df_locations['too_slow'] = df_locations['days_exposition'] > 240\n",
    "\n",
    "too_fast = pd.pivot_table(df_locations, index='locality_name', values='too_fast')\n",
    "bad_names_fast = too_fast.query('too_fast > 0.5')\n",
    "bad_names_fast\n",
    "\n",
    "too_slow = pd.pivot_table(df_locations, index='locality_name', values='too_slow')\n",
    "bad_names_slow = too_slow.query('too_slow > 0.5')\n",
    "\n",
    "bad_names = list(bad_names_slow.index) + list(bad_names_fast.index)\n",
    "\n",
    "df.query('locality_name in @bad_names')['days_exposition'].describe()"
   ]
  },
  {
   "cell_type": "markdown",
   "metadata": {},
   "source": [
    "Only 112 rows with rare locations, which are more than 50%  consists of outliers. Let's get rid of them."
   ]
  },
  {
   "cell_type": "code",
   "execution_count": 38,
   "metadata": {},
   "outputs": [
    {
     "data": {
      "text/html": [
       "<div>\n",
       "<style scoped>\n",
       "    .dataframe tbody tr th:only-of-type {\n",
       "        vertical-align: middle;\n",
       "    }\n",
       "\n",
       "    .dataframe tbody tr th {\n",
       "        vertical-align: top;\n",
       "    }\n",
       "\n",
       "    .dataframe thead th {\n",
       "        text-align: right;\n",
       "    }\n",
       "</style>\n",
       "<table border=\"1\" class=\"dataframe\">\n",
       "  <thead>\n",
       "    <tr style=\"text-align: right;\">\n",
       "      <th></th>\n",
       "      <th>last_price</th>\n",
       "      <th>total_area</th>\n",
       "      <th>first_day_exposition</th>\n",
       "      <th>rooms</th>\n",
       "      <th>ceiling_height</th>\n",
       "      <th>floors_total</th>\n",
       "      <th>living_area</th>\n",
       "      <th>floor</th>\n",
       "      <th>kitchen_area</th>\n",
       "      <th>locality_name</th>\n",
       "      <th>cityCenters_nearest</th>\n",
       "      <th>days_exposition</th>\n",
       "      <th>price_per_m2</th>\n",
       "      <th>day</th>\n",
       "      <th>month</th>\n",
       "      <th>year</th>\n",
       "      <th>living_to_total</th>\n",
       "      <th>kitchen_to_total</th>\n",
       "      <th>floor_type</th>\n",
       "    </tr>\n",
       "  </thead>\n",
       "  <tbody>\n",
       "  </tbody>\n",
       "</table>\n",
       "</div>"
      ],
      "text/plain": [
       "Empty DataFrame\n",
       "Columns: [last_price, total_area, first_day_exposition, rooms, ceiling_height, floors_total, living_area, floor, kitchen_area, locality_name, cityCenters_nearest, days_exposition, price_per_m2, day, month, year, living_to_total, kitchen_to_total, floor_type]\n",
       "Index: []"
      ]
     },
     "execution_count": 38,
     "metadata": {},
     "output_type": "execute_result"
    }
   ],
   "source": [
    "df = df.query('locality_name not in @bad_names')\n",
    "df.query('locality_name in @bad_names')"
   ]
  },
  {
   "cell_type": "markdown",
   "metadata": {},
   "source": [
    "#### Conclusion"
   ]
  },
  {
   "cell_type": "markdown",
   "metadata": {},
   "source": [
    "To get rid of the outliers, the following actions were taken:\n",
    "- The price range was determined from 430 thousand to 40 million rubles per apartment\n",
    "- Area from 12 to 200 m2\n",
    "- Number of rooms from 1 to 7\n",
    "- Ceiling height from 2 to 8.3 meters\n",
    "- Removed 112 rows with obvious anomalies in the time of the sale of the apartment"
   ]
  },
  {
   "cell_type": "markdown",
   "metadata": {},
   "source": [
    "### Indicators research"
   ]
  },
  {
   "cell_type": "markdown",
   "metadata": {},
   "source": [
    "#### Price"
   ]
  },
  {
   "cell_type": "code",
   "execution_count": 39,
   "metadata": {},
   "outputs": [
    {
     "data": {
      "text/plain": [
       "count    22921.000000\n",
       "mean      5825.937451\n",
       "std       4310.016481\n",
       "min        430.000000\n",
       "25%       3450.000000\n",
       "50%       4610.000000\n",
       "75%       6700.000000\n",
       "max      39990.000000\n",
       "Name: last_price, dtype: float64"
      ]
     },
     "execution_count": 39,
     "metadata": {},
     "output_type": "execute_result"
    },
    {
     "data": {
      "image/png": "[encoded data removed]",
      "text/plain": [
       "<Figure size 864x432 with 1 Axes>"
      ]
     },
     "metadata": {
      "needs_background": "light"
     },
     "output_type": "display_data"
    }
   ],
   "source": [
    "df.hist('last_price', bins = 100, figsize = (12, 6))\n",
    "df['last_price'].describe()"
   ]
  },
  {
   "cell_type": "markdown",
   "metadata": {},
   "source": [
    "#### Area"
   ]
  },
  {
   "cell_type": "code",
   "execution_count": 40,
   "metadata": {},
   "outputs": [
    {
     "data": {
      "text/plain": [
       "count    22921.000000\n",
       "mean        58.029096\n",
       "std         25.724773\n",
       "min         12.000000\n",
       "25%         40.000000\n",
       "50%         52.000000\n",
       "75%         68.700000\n",
       "max        199.200000\n",
       "Name: total_area, dtype: float64"
      ]
     },
     "execution_count": 40,
     "metadata": {},
     "output_type": "execute_result"
    },
    {
     "data": {
      "image/png": "[encoded data removed]",
      "text/plain": [
       "<Figure size 864x432 with 1 Axes>"
      ]
     },
     "metadata": {
      "needs_background": "light"
     },
     "output_type": "display_data"
    }
   ],
   "source": [
    "df.hist('total_area', bins = 100, figsize = (12, 6))\n",
    "df['total_area'].describe()"
   ]
  },
  {
   "cell_type": "markdown",
   "metadata": {},
   "source": [
    "#### Rooms"
   ]
  },
  {
   "cell_type": "code",
   "execution_count": 41,
   "metadata": {},
   "outputs": [
    {
     "data": {
      "text/plain": [
       "count    22921.000000\n",
       "mean         2.045417\n",
       "std          0.974181\n",
       "min          1.000000\n",
       "25%          1.000000\n",
       "50%          2.000000\n",
       "75%          3.000000\n",
       "max          7.000000\n",
       "Name: rooms, dtype: float64"
      ]
     },
     "execution_count": 41,
     "metadata": {},
     "output_type": "execute_result"
    },
    {
     "data": {
      "image/png": "[encoded data removed]",
      "text/plain": [
       "<Figure size 864x432 with 1 Axes>"
      ]
     },
     "metadata": {
      "needs_background": "light"
     },
     "output_type": "display_data"
    }
   ],
   "source": [
    "df.hist('rooms', bins = 7, figsize = (12, 6))\n",
    "df['rooms'].describe()"
   ]
  },
  {
   "cell_type": "markdown",
   "metadata": {},
   "source": [
    "#### Ceiling height"
   ]
  },
  {
   "cell_type": "code",
   "execution_count": 42,
   "metadata": {},
   "outputs": [
    {
     "data": {
      "text/plain": [
       "count    14119.000000\n",
       "mean         2.718239\n",
       "std          0.276210\n",
       "min          2.000000\n",
       "25%          2.500000\n",
       "50%          2.650000\n",
       "75%          2.800000\n",
       "max          8.300000\n",
       "Name: ceiling_height, dtype: float64"
      ]
     },
     "execution_count": 42,
     "metadata": {},
     "output_type": "execute_result"
    },
    {
     "data": {
      "image/png": "[encoded data removed]",
      "text/plain": [
       "<Figure size 864x432 with 1 Axes>"
      ]
     },
     "metadata": {
      "needs_background": "light"
     },
     "output_type": "display_data"
    }
   ],
   "source": [
    "df.hist('ceiling_height', range = (2, 5), bins = 20, figsize = (12, 6))\n",
    "df['ceiling_height'].describe()"
   ]
  },
  {
   "cell_type": "markdown",
   "metadata": {},
   "source": [
    "#### Conclusion"
   ]
  },
  {
   "cell_type": "markdown",
   "metadata": {},
   "source": [
    "The following parameters are defined:\n",
    "\n",
    "**Price**\n",
    "\n",
    "- Most of the apartments are sold in the range from 3.5 to 6.7 million rubles\n",
    "- Average price for the sample - 4.6 million\n",
    "- Median price for the sample - 5.8 million\n",
    "\n",
    "**Total area**\n",
    "\n",
    "- Most of the apartments have an area of 40 to 70 m2\n",
    "- Average area - 52 m2\n",
    "- Median area - 58 m2\n",
    "\n",
    "**Number of rooms**\n",
    "\n",
    "- The vast majority of apartments have from 1 to 3 rooms\n",
    "\n",
    "**Ceiling height**\n",
    "\n",
    "- The vast majority of apartments have a ceiling height of 2.5 to 2.8 meters"
   ]
  },
  {
   "cell_type": "markdown",
   "metadata": {},
   "source": [
    "### The study of price influencing factors"
   ]
  },
  {
   "cell_type": "markdown",
   "metadata": {},
   "source": [
    "It is required to determine the influence of the total area, number of rooms, distance from the center, type of floor, day, month and year of the advertisement factors on the price. Let's build scatterplots for the indicators of area and distance from the center."
   ]
  },
  {
   "cell_type": "code",
   "execution_count": 43,
   "metadata": {},
   "outputs": [
    {
     "data": {
      "image/png": "[encoded data removed]",
      "text/plain": [
       "<Figure size 576x288 with 1 Axes>"
      ]
     },
     "metadata": {
      "needs_background": "light"
     },
     "output_type": "display_data"
    },
    {
     "data": {
      "image/png": "[encoded data removed]",
      "text/plain": [
       "<Figure size 576x288 with 1 Axes>"
      ]
     },
     "metadata": {
      "needs_background": "light"
     },
     "output_type": "display_data"
    }
   ],
   "source": [
    "for_scatter = ['total_area','cityCenters_nearest']\n",
    "\n",
    "for name in for_scatter:\n",
    "    df.plot(x = name, y = 'last_price', kind = 'scatter', title = name, figsize = (8, 4))"
   ]
  },
  {
   "cell_type": "markdown",
   "metadata": {},
   "source": [
    "Up to 75m2 there is a clear high price-area correlation. Further, the spread becomes larger, but the general trend is obvious - the larger the area, the higher the price."
   ]
  },
  {
   "cell_type": "markdown",
   "metadata": {},
   "source": [
    "We see the dependence of the price on the distance to the center in the range from 0 to 20 km. Further there are two peaks at 30 km and 50 km. Most likely, the distance to the center is measured from the center of St. Petersburg, and not the center of each of the cities and settlements of the district. So far, it can be unequivocally stated that apartments from 0 to 10 km from the center are much more expensive than others."
   ]
  },
  {
   "cell_type": "markdown",
   "metadata": {},
   "source": [
    "Now let's build bar charts for the indicators of the year, month, day of the week, number of rooms and floor for the average apartment price."
   ]
  },
  {
   "cell_type": "code",
   "execution_count": 44,
   "metadata": {},
   "outputs": [
    {
     "data": {
      "image/png": "[encoded data removed]",
      "text/plain": [
       "<Figure size 576x288 with 1 Axes>"
      ]
     },
     "metadata": {
      "needs_background": "light"
     },
     "output_type": "display_data"
    },
    {
     "data": {
      "image/png": "[encoded data removed]",
      "text/plain": [
       "<Figure size 576x288 with 1 Axes>"
      ]
     },
     "metadata": {
      "needs_background": "light"
     },
     "output_type": "display_data"
    },
    {
     "data": {
      "image/png": "[encoded data removed]",
      "text/plain": [
       "<Figure size 576x288 with 1 Axes>"
      ]
     },
     "metadata": {
      "needs_background": "light"
     },
     "output_type": "display_data"
    },
    {
     "data": {
      "image/png": "[encoded data removed]",
      "text/plain": [
       "<Figure size 576x288 with 1 Axes>"
      ]
     },
     "metadata": {
      "needs_background": "light"
     },
     "output_type": "display_data"
    },
    {
     "data": {
      "image/png": "[encoded data removed]",
      "text/plain": [
       "<Figure size 576x288 with 1 Axes>"
      ]
     },
     "metadata": {
      "needs_background": "light"
     },
     "output_type": "display_data"
    }
   ],
   "source": [
    "for_bar = ['year','month', 'day', 'rooms', 'floor_type']\n",
    "\n",
    "for name in for_bar:\n",
    "    df.pivot_table(index = name, values = 'last_price', aggfunc = 'mean').plot(kind = 'bar', title = name, figsize = (8, 4))"
   ]
  },
  {
   "cell_type": "markdown",
   "metadata": {},
   "source": [
    "From 2014, when the highest average price per quarter was observed, to 2016, there was a decrease, after which the price stabilized and showed a slight increase in 2019 relative to 2018. The price dependence on the day of the week and month is almost not expressed. Apartments, exhibited in June and October are sold slightly cheaper, as well as those that were exhibited on Friday, Saturday and Sunday."
   ]
  },
  {
   "cell_type": "markdown",
   "metadata": {},
   "source": [
    "The behavior of the data of the floor type indicator gives us a clear picture - the most expensive on average are apartments located not on the first and not on the top floor, slightly cheaper apartments located on the top floor and much cheaper than those located on the first floor."
   ]
  },
  {
   "cell_type": "markdown",
   "metadata": {},
   "source": [
    "#### Conclusion"
   ]
  },
  {
   "cell_type": "markdown",
   "metadata": {},
   "source": [
    "- The vast majority of apartments have a hight correlation between the price and the total area. It decrease after 75 m2\n",
    "- Apartments up to 10 km from the center are much more expensive than others. Most likely apartments are categorized on those thar are in the center and others. This will be tested in the next study.\n",
    "- Apartments exhibited in 2014 are much more expensive than those that are exposed later. Further, there is no dependence of the price on the ads exposition year \n",
    "- A direct dependence of the price on the number of rooms was found\n",
    "- Apartments located on the ground floor are cheaper than apartments located on other floors\n",
    "- The dependence of the price on the ads month and day of the week the was not detected"
   ]
  },
  {
   "cell_type": "markdown",
   "metadata": {
    "scrolled": true
   },
   "source": [
    "### Top-10 cities research"
   ]
  },
  {
   "cell_type": "markdown",
   "metadata": {},
   "source": [
    "It is required to compile a rating of 10 cities with the largest number of ads and analyze the cost per square meter for it. Let's make a pivot table for the research"
   ]
  },
  {
   "cell_type": "code",
   "execution_count": 45,
   "metadata": {},
   "outputs": [
    {
     "data": {
      "text/html": [
       "<div>\n",
       "<style scoped>\n",
       "    .dataframe tbody tr th:only-of-type {\n",
       "        vertical-align: middle;\n",
       "    }\n",
       "\n",
       "    .dataframe tbody tr th {\n",
       "        vertical-align: top;\n",
       "    }\n",
       "\n",
       "    .dataframe thead th {\n",
       "        text-align: right;\n",
       "    }\n",
       "</style>\n",
       "<table border=\"1\" class=\"dataframe\">\n",
       "  <thead>\n",
       "    <tr style=\"text-align: right;\">\n",
       "      <th></th>\n",
       "      <th>offers</th>\n",
       "      <th>mean_price_m2</th>\n",
       "    </tr>\n",
       "    <tr>\n",
       "      <th>locality_name</th>\n",
       "      <th></th>\n",
       "      <th></th>\n",
       "    </tr>\n",
       "  </thead>\n",
       "  <tbody>\n",
       "    <tr>\n",
       "      <th>Sankt-Peterburg</th>\n",
       "      <td>15225</td>\n",
       "      <td>111.077110</td>\n",
       "    </tr>\n",
       "    <tr>\n",
       "      <th>Murino setlement</th>\n",
       "      <td>494</td>\n",
       "      <td>84.566802</td>\n",
       "    </tr>\n",
       "    <tr>\n",
       "      <th>Shushary setlement</th>\n",
       "      <td>435</td>\n",
       "      <td>77.777011</td>\n",
       "    </tr>\n",
       "    <tr>\n",
       "      <th>Vsevolozhsk</th>\n",
       "      <td>392</td>\n",
       "      <td>68.142857</td>\n",
       "    </tr>\n",
       "    <tr>\n",
       "      <th>Pushkin</th>\n",
       "      <td>364</td>\n",
       "      <td>102.651099</td>\n",
       "    </tr>\n",
       "    <tr>\n",
       "      <th>Kolpino</th>\n",
       "      <td>337</td>\n",
       "      <td>74.860534</td>\n",
       "    </tr>\n",
       "    <tr>\n",
       "      <th>Pargolovo setlement</th>\n",
       "      <td>322</td>\n",
       "      <td>90.006211</td>\n",
       "    </tr>\n",
       "    <tr>\n",
       "      <th>Gatchina</th>\n",
       "      <td>307</td>\n",
       "      <td>68.263844</td>\n",
       "    </tr>\n",
       "    <tr>\n",
       "      <th>Kudrovo village</th>\n",
       "      <td>283</td>\n",
       "      <td>91.802120</td>\n",
       "    </tr>\n",
       "    <tr>\n",
       "      <th>Vyborg</th>\n",
       "      <td>237</td>\n",
       "      <td>57.687764</td>\n",
       "    </tr>\n",
       "  </tbody>\n",
       "</table>\n",
       "</div>"
      ],
      "text/plain": [
       "                     offers  mean_price_m2\n",
       "locality_name                             \n",
       "Sankt-Peterburg       15225     111.077110\n",
       "Murino setlement        494      84.566802\n",
       "Shushary setlement      435      77.777011\n",
       "Vsevolozhsk             392      68.142857\n",
       "Pushkin                 364     102.651099\n",
       "Kolpino                 337      74.860534\n",
       "Pargolovo setlement     322      90.006211\n",
       "Gatchina                307      68.263844\n",
       "Kudrovo village         283      91.802120\n",
       "Vyborg                  237      57.687764"
      ]
     },
     "execution_count": 45,
     "metadata": {},
     "output_type": "execute_result"
    }
   ],
   "source": [
    "df_top10 = df.pivot_table(index = 'locality_name', values = 'price_per_m2', aggfunc = ['count', 'mean'])\n",
    "df_top10.columns = ['offers', 'mean_price_m2']\n",
    "df_top10 = df_top10.sort_values(by = 'offers', ascending = False).head(10)\n",
    "df_top10"
   ]
  },
  {
   "cell_type": "markdown",
   "metadata": {},
   "source": [
    "Sort the data by cost per square meter."
   ]
  },
  {
   "cell_type": "code",
   "execution_count": 46,
   "metadata": {},
   "outputs": [
    {
     "data": {
      "text/html": [
       "<div>\n",
       "<style scoped>\n",
       "    .dataframe tbody tr th:only-of-type {\n",
       "        vertical-align: middle;\n",
       "    }\n",
       "\n",
       "    .dataframe tbody tr th {\n",
       "        vertical-align: top;\n",
       "    }\n",
       "\n",
       "    .dataframe thead th {\n",
       "        text-align: right;\n",
       "    }\n",
       "</style>\n",
       "<table border=\"1\" class=\"dataframe\">\n",
       "  <thead>\n",
       "    <tr style=\"text-align: right;\">\n",
       "      <th></th>\n",
       "      <th>offers</th>\n",
       "      <th>mean_price_m2</th>\n",
       "    </tr>\n",
       "    <tr>\n",
       "      <th>locality_name</th>\n",
       "      <th></th>\n",
       "      <th></th>\n",
       "    </tr>\n",
       "  </thead>\n",
       "  <tbody>\n",
       "    <tr>\n",
       "      <th>Sankt-Peterburg</th>\n",
       "      <td>15225</td>\n",
       "      <td>111.077110</td>\n",
       "    </tr>\n",
       "    <tr>\n",
       "      <th>Pushkin</th>\n",
       "      <td>364</td>\n",
       "      <td>102.651099</td>\n",
       "    </tr>\n",
       "    <tr>\n",
       "      <th>Kudrovo village</th>\n",
       "      <td>283</td>\n",
       "      <td>91.802120</td>\n",
       "    </tr>\n",
       "    <tr>\n",
       "      <th>Pargolovo setlement</th>\n",
       "      <td>322</td>\n",
       "      <td>90.006211</td>\n",
       "    </tr>\n",
       "    <tr>\n",
       "      <th>Murino setlement</th>\n",
       "      <td>494</td>\n",
       "      <td>84.566802</td>\n",
       "    </tr>\n",
       "    <tr>\n",
       "      <th>Shushary setlement</th>\n",
       "      <td>435</td>\n",
       "      <td>77.777011</td>\n",
       "    </tr>\n",
       "    <tr>\n",
       "      <th>Kolpino</th>\n",
       "      <td>337</td>\n",
       "      <td>74.860534</td>\n",
       "    </tr>\n",
       "    <tr>\n",
       "      <th>Gatchina</th>\n",
       "      <td>307</td>\n",
       "      <td>68.263844</td>\n",
       "    </tr>\n",
       "    <tr>\n",
       "      <th>Vsevolozhsk</th>\n",
       "      <td>392</td>\n",
       "      <td>68.142857</td>\n",
       "    </tr>\n",
       "    <tr>\n",
       "      <th>Vyborg</th>\n",
       "      <td>237</td>\n",
       "      <td>57.687764</td>\n",
       "    </tr>\n",
       "  </tbody>\n",
       "</table>\n",
       "</div>"
      ],
      "text/plain": [
       "                     offers  mean_price_m2\n",
       "locality_name                             \n",
       "Sankt-Peterburg       15225     111.077110\n",
       "Pushkin                 364     102.651099\n",
       "Kudrovo village         283      91.802120\n",
       "Pargolovo setlement     322      90.006211\n",
       "Murino setlement        494      84.566802\n",
       "Shushary setlement      435      77.777011\n",
       "Kolpino                 337      74.860534\n",
       "Gatchina                307      68.263844\n",
       "Vsevolozhsk             392      68.142857\n",
       "Vyborg                  237      57.687764"
      ]
     },
     "execution_count": 46,
     "metadata": {},
     "output_type": "execute_result"
    }
   ],
   "source": [
    "df_top10 = df_top10.sort_values(by = 'mean_price_m2', ascending = False)\n",
    "df_top10"
   ]
  },
  {
   "cell_type": "markdown",
   "metadata": {},
   "source": [
    "We add a metric showing how much each city following the leader in terms of price differs from the first one."
   ]
  },
  {
   "cell_type": "code",
   "execution_count": 47,
   "metadata": {},
   "outputs": [
    {
     "data": {
      "text/html": [
       "<div>\n",
       "<style scoped>\n",
       "    .dataframe tbody tr th:only-of-type {\n",
       "        vertical-align: middle;\n",
       "    }\n",
       "\n",
       "    .dataframe tbody tr th {\n",
       "        vertical-align: top;\n",
       "    }\n",
       "\n",
       "    .dataframe thead th {\n",
       "        text-align: right;\n",
       "    }\n",
       "</style>\n",
       "<table border=\"1\" class=\"dataframe\">\n",
       "  <thead>\n",
       "    <tr style=\"text-align: right;\">\n",
       "      <th></th>\n",
       "      <th>offers</th>\n",
       "      <th>mean_price_m2</th>\n",
       "      <th>ratio%</th>\n",
       "    </tr>\n",
       "    <tr>\n",
       "      <th>locality_name</th>\n",
       "      <th></th>\n",
       "      <th></th>\n",
       "      <th></th>\n",
       "    </tr>\n",
       "  </thead>\n",
       "  <tbody>\n",
       "    <tr>\n",
       "      <th>Sankt-Peterburg</th>\n",
       "      <td>15225</td>\n",
       "      <td>111.077110</td>\n",
       "      <td>0.000000</td>\n",
       "    </tr>\n",
       "    <tr>\n",
       "      <th>Pushkin</th>\n",
       "      <td>364</td>\n",
       "      <td>102.651099</td>\n",
       "      <td>7.585731</td>\n",
       "    </tr>\n",
       "    <tr>\n",
       "      <th>Kudrovo village</th>\n",
       "      <td>283</td>\n",
       "      <td>91.802120</td>\n",
       "      <td>17.352801</td>\n",
       "    </tr>\n",
       "    <tr>\n",
       "      <th>Pargolovo setlement</th>\n",
       "      <td>322</td>\n",
       "      <td>90.006211</td>\n",
       "      <td>18.969614</td>\n",
       "    </tr>\n",
       "    <tr>\n",
       "      <th>Murino setlement</th>\n",
       "      <td>494</td>\n",
       "      <td>84.566802</td>\n",
       "      <td>23.866581</td>\n",
       "    </tr>\n",
       "    <tr>\n",
       "      <th>Shushary setlement</th>\n",
       "      <td>435</td>\n",
       "      <td>77.777011</td>\n",
       "      <td>29.979263</td>\n",
       "    </tr>\n",
       "    <tr>\n",
       "      <th>Kolpino</th>\n",
       "      <td>337</td>\n",
       "      <td>74.860534</td>\n",
       "      <td>32.604896</td>\n",
       "    </tr>\n",
       "    <tr>\n",
       "      <th>Gatchina</th>\n",
       "      <td>307</td>\n",
       "      <td>68.263844</td>\n",
       "      <td>38.543734</td>\n",
       "    </tr>\n",
       "    <tr>\n",
       "      <th>Vsevolozhsk</th>\n",
       "      <td>392</td>\n",
       "      <td>68.142857</td>\n",
       "      <td>38.652656</td>\n",
       "    </tr>\n",
       "    <tr>\n",
       "      <th>Vyborg</th>\n",
       "      <td>237</td>\n",
       "      <td>57.687764</td>\n",
       "      <td>48.065120</td>\n",
       "    </tr>\n",
       "  </tbody>\n",
       "</table>\n",
       "</div>"
      ],
      "text/plain": [
       "                     offers  mean_price_m2     ratio%\n",
       "locality_name                                        \n",
       "Sankt-Peterburg       15225     111.077110   0.000000\n",
       "Pushkin                 364     102.651099   7.585731\n",
       "Kudrovo village         283      91.802120  17.352801\n",
       "Pargolovo setlement     322      90.006211  18.969614\n",
       "Murino setlement        494      84.566802  23.866581\n",
       "Shushary setlement      435      77.777011  29.979263\n",
       "Kolpino                 337      74.860534  32.604896\n",
       "Gatchina                307      68.263844  38.543734\n",
       "Vsevolozhsk             392      68.142857  38.652656\n",
       "Vyborg                  237      57.687764  48.065120"
      ]
     },
     "execution_count": 47,
     "metadata": {},
     "output_type": "execute_result"
    }
   ],
   "source": [
    "df_top10['ratio%'] = (1 - (df_top10['mean_price_m2'] / df_top10['mean_price_m2'][0]))*100\n",
    "df_top10"
   ]
  },
  {
   "cell_type": "markdown",
   "metadata": {},
   "source": [
    "The most expensive city, as expected, is St. Petersburg. The raiting middle city is cheaper than the leader by about 25%, the cheapest Top-10 city is Vyborg, where apartments are almost two times cheaper than in St. Petersburg."
   ]
  },
  {
   "cell_type": "markdown",
   "metadata": {},
   "source": [
    "#### Conclusion"
   ]
  },
  {
   "cell_type": "markdown",
   "metadata": {},
   "source": [
    "- Most apartments were found in St. Petersburg, the price per square meter is the most expensive  - 110 thousand per m2\n",
    "- Least of apartments from the top-10 rating was found in Vyborg, the price per square meter is also the cheapest - 58 thousand per square meter. It is almost two times cheaper than in St. Petersburg"
   ]
  },
  {
   "cell_type": "markdown",
   "metadata": {},
   "source": [
    "### St. Petersburg city center research"
   ]
  },
  {
   "cell_type": "markdown",
   "metadata": {},
   "source": [
    "#### Data Sample"
   ]
  },
  {
   "cell_type": "markdown",
   "metadata": {},
   "source": [
    "In order to analyze the St. Petersburg city center, we need to determine where it is located. Also, remember that when handling gaps, it was suggested that the empty values in the `cityCenters_nearest` column probably indicate the apartments in the very center. Let's create a table for further analysis. "
   ]
  },
  {
   "cell_type": "code",
   "execution_count": 48,
   "metadata": {},
   "outputs": [
    {
     "data": {
      "text/html": [
       "<div>\n",
       "<style scoped>\n",
       "    .dataframe tbody tr th:only-of-type {\n",
       "        vertical-align: middle;\n",
       "    }\n",
       "\n",
       "    .dataframe tbody tr th {\n",
       "        vertical-align: top;\n",
       "    }\n",
       "\n",
       "    .dataframe thead th {\n",
       "        text-align: right;\n",
       "    }\n",
       "</style>\n",
       "<table border=\"1\" class=\"dataframe\">\n",
       "  <thead>\n",
       "    <tr style=\"text-align: right;\">\n",
       "      <th></th>\n",
       "      <th>last_price</th>\n",
       "      <th>total_area</th>\n",
       "      <th>first_day_exposition</th>\n",
       "      <th>rooms</th>\n",
       "      <th>ceiling_height</th>\n",
       "      <th>floors_total</th>\n",
       "      <th>living_area</th>\n",
       "      <th>floor</th>\n",
       "      <th>kitchen_area</th>\n",
       "      <th>locality_name</th>\n",
       "      <th>cityCenters_nearest</th>\n",
       "      <th>days_exposition</th>\n",
       "      <th>price_per_m2</th>\n",
       "      <th>day</th>\n",
       "      <th>month</th>\n",
       "      <th>year</th>\n",
       "      <th>living_to_total</th>\n",
       "      <th>kitchen_to_total</th>\n",
       "      <th>floor_type</th>\n",
       "      <th>city_center_km</th>\n",
       "    </tr>\n",
       "  </thead>\n",
       "  <tbody>\n",
       "    <tr>\n",
       "      <th>0</th>\n",
       "      <td>13000.0</td>\n",
       "      <td>108.0</td>\n",
       "      <td>2019-03-07 00:00:00</td>\n",
       "      <td>3</td>\n",
       "      <td>2.70</td>\n",
       "      <td>16.0</td>\n",
       "      <td>51.000000</td>\n",
       "      <td>8</td>\n",
       "      <td>25.0</td>\n",
       "      <td>Sankt-Peterburg</td>\n",
       "      <td>16028.0</td>\n",
       "      <td>NaN</td>\n",
       "      <td>120</td>\n",
       "      <td>3</td>\n",
       "      <td>3</td>\n",
       "      <td>2019</td>\n",
       "      <td>0.472222</td>\n",
       "      <td>0.231481</td>\n",
       "      <td>Other</td>\n",
       "      <td>16</td>\n",
       "    </tr>\n",
       "    <tr>\n",
       "      <th>2</th>\n",
       "      <td>5196.0</td>\n",
       "      <td>56.0</td>\n",
       "      <td>2015-08-20 00:00:00</td>\n",
       "      <td>2</td>\n",
       "      <td>NaN</td>\n",
       "      <td>5.0</td>\n",
       "      <td>34.300000</td>\n",
       "      <td>4</td>\n",
       "      <td>8.3</td>\n",
       "      <td>Sankt-Peterburg</td>\n",
       "      <td>13933.0</td>\n",
       "      <td>558.0</td>\n",
       "      <td>92</td>\n",
       "      <td>3</td>\n",
       "      <td>8</td>\n",
       "      <td>2015</td>\n",
       "      <td>0.612500</td>\n",
       "      <td>0.148214</td>\n",
       "      <td>Other</td>\n",
       "      <td>13</td>\n",
       "    </tr>\n",
       "    <tr>\n",
       "      <th>4</th>\n",
       "      <td>10000.0</td>\n",
       "      <td>100.0</td>\n",
       "      <td>2018-06-19 00:00:00</td>\n",
       "      <td>2</td>\n",
       "      <td>3.03</td>\n",
       "      <td>14.0</td>\n",
       "      <td>32.000000</td>\n",
       "      <td>13</td>\n",
       "      <td>41.0</td>\n",
       "      <td>Sankt-Peterburg</td>\n",
       "      <td>8098.0</td>\n",
       "      <td>121.0</td>\n",
       "      <td>100</td>\n",
       "      <td>1</td>\n",
       "      <td>6</td>\n",
       "      <td>2018</td>\n",
       "      <td>0.320000</td>\n",
       "      <td>0.410000</td>\n",
       "      <td>Other</td>\n",
       "      <td>8</td>\n",
       "    </tr>\n",
       "    <tr>\n",
       "      <th>7</th>\n",
       "      <td>7915.0</td>\n",
       "      <td>71.6</td>\n",
       "      <td>2019-04-18 00:00:00</td>\n",
       "      <td>2</td>\n",
       "      <td>NaN</td>\n",
       "      <td>24.0</td>\n",
       "      <td>40.449502</td>\n",
       "      <td>22</td>\n",
       "      <td>18.9</td>\n",
       "      <td>Sankt-Peterburg</td>\n",
       "      <td>11634.0</td>\n",
       "      <td>NaN</td>\n",
       "      <td>110</td>\n",
       "      <td>3</td>\n",
       "      <td>4</td>\n",
       "      <td>2019</td>\n",
       "      <td>0.564937</td>\n",
       "      <td>0.263966</td>\n",
       "      <td>Other</td>\n",
       "      <td>11</td>\n",
       "    </tr>\n",
       "    <tr>\n",
       "      <th>9</th>\n",
       "      <td>5400.0</td>\n",
       "      <td>61.0</td>\n",
       "      <td>2017-02-26 00:00:00</td>\n",
       "      <td>3</td>\n",
       "      <td>2.50</td>\n",
       "      <td>9.0</td>\n",
       "      <td>43.600000</td>\n",
       "      <td>7</td>\n",
       "      <td>6.5</td>\n",
       "      <td>Sankt-Peterburg</td>\n",
       "      <td>15008.0</td>\n",
       "      <td>289.0</td>\n",
       "      <td>88</td>\n",
       "      <td>6</td>\n",
       "      <td>2</td>\n",
       "      <td>2017</td>\n",
       "      <td>0.714754</td>\n",
       "      <td>0.106557</td>\n",
       "      <td>Other</td>\n",
       "      <td>15</td>\n",
       "    </tr>\n",
       "  </tbody>\n",
       "</table>\n",
       "</div>"
      ],
      "text/plain": [
       "   last_price  total_area first_day_exposition  rooms  ceiling_height  \\\n",
       "0     13000.0       108.0  2019-03-07 00:00:00      3            2.70   \n",
       "2      5196.0        56.0  2015-08-20 00:00:00      2             NaN   \n",
       "4     10000.0       100.0  2018-06-19 00:00:00      2            3.03   \n",
       "7      7915.0        71.6  2019-04-18 00:00:00      2             NaN   \n",
       "9      5400.0        61.0  2017-02-26 00:00:00      3            2.50   \n",
       "\n",
       "   floors_total  living_area  floor  kitchen_area    locality_name  \\\n",
       "0          16.0    51.000000      8          25.0  Sankt-Peterburg   \n",
       "2           5.0    34.300000      4           8.3  Sankt-Peterburg   \n",
       "4          14.0    32.000000     13          41.0  Sankt-Peterburg   \n",
       "7          24.0    40.449502     22          18.9  Sankt-Peterburg   \n",
       "9           9.0    43.600000      7           6.5  Sankt-Peterburg   \n",
       "\n",
       "   cityCenters_nearest  days_exposition  price_per_m2  day  month  year  \\\n",
       "0              16028.0              NaN           120    3      3  2019   \n",
       "2              13933.0            558.0            92    3      8  2015   \n",
       "4               8098.0            121.0           100    1      6  2018   \n",
       "7              11634.0              NaN           110    3      4  2019   \n",
       "9              15008.0            289.0            88    6      2  2017   \n",
       "\n",
       "   living_to_total  kitchen_to_total floor_type  city_center_km  \n",
       "0         0.472222          0.231481      Other              16  \n",
       "2         0.612500          0.148214      Other              13  \n",
       "4         0.320000          0.410000      Other               8  \n",
       "7         0.564937          0.263966      Other              11  \n",
       "9         0.714754          0.106557      Other              15  "
      ]
     },
     "execution_count": 48,
     "metadata": {},
     "output_type": "execute_result"
    }
   ],
   "source": [
    "df_spb = df.query('locality_name == \"Sankt-Peterburg\"').copy()\n",
    "df_spb['city_center_km'] = df_spb['cityCenters_nearest'] / 1000\n",
    "df_spb['city_center_km'] = df_spb['city_center_km'].fillna(0).astype('int')\n",
    "df_spb.head(5)"
   ]
  },
  {
   "cell_type": "code",
   "execution_count": 49,
   "metadata": {},
   "outputs": [
    {
     "data": {
      "text/html": [
       "<div>\n",
       "<style scoped>\n",
       "    .dataframe tbody tr th:only-of-type {\n",
       "        vertical-align: middle;\n",
       "    }\n",
       "\n",
       "    .dataframe tbody tr th {\n",
       "        vertical-align: top;\n",
       "    }\n",
       "\n",
       "    .dataframe thead th {\n",
       "        text-align: right;\n",
       "    }\n",
       "</style>\n",
       "<table border=\"1\" class=\"dataframe\">\n",
       "  <thead>\n",
       "    <tr style=\"text-align: right;\">\n",
       "      <th></th>\n",
       "      <th>last_price</th>\n",
       "    </tr>\n",
       "    <tr>\n",
       "      <th>city_center_km</th>\n",
       "      <th></th>\n",
       "    </tr>\n",
       "  </thead>\n",
       "  <tbody>\n",
       "    <tr>\n",
       "      <th>0</th>\n",
       "      <td>12613.126331</td>\n",
       "    </tr>\n",
       "    <tr>\n",
       "      <th>1</th>\n",
       "      <td>11529.780369</td>\n",
       "    </tr>\n",
       "    <tr>\n",
       "      <th>2</th>\n",
       "      <td>10638.360727</td>\n",
       "    </tr>\n",
       "    <tr>\n",
       "      <th>3</th>\n",
       "      <td>10162.895942</td>\n",
       "    </tr>\n",
       "    <tr>\n",
       "      <th>4</th>\n",
       "      <td>11326.622346</td>\n",
       "    </tr>\n",
       "  </tbody>\n",
       "</table>\n",
       "</div>"
      ],
      "text/plain": [
       "                  last_price\n",
       "city_center_km              \n",
       "0               12613.126331\n",
       "1               11529.780369\n",
       "2               10638.360727\n",
       "3               10162.895942\n",
       "4               11326.622346"
      ]
     },
     "execution_count": 49,
     "metadata": {},
     "output_type": "execute_result"
    }
   ],
   "source": [
    "df_spb_km_price = df_spb.pivot_table(index = 'city_center_km', values = 'last_price', aggfunc = 'mean')\n",
    "df_spb_km_price.head(5)"
   ]
  },
  {
   "cell_type": "markdown",
   "metadata": {},
   "source": [
    "Apartments with an empty `cityCenter_nearest` value are still the most expensive and statistically relevant. It looks like the hypothesis was correct, let's leave the data as it is. Now let's build a avarage price per km plot"
   ]
  },
  {
   "cell_type": "code",
   "execution_count": 50,
   "metadata": {},
   "outputs": [
    {
     "data": {
      "text/plain": [
       "<AxesSubplot:title={'center':'Average price per kilometer'}, xlabel='city_center_km'>"
      ]
     },
     "execution_count": 50,
     "metadata": {},
     "output_type": "execute_result"
    },
    {
     "data": {
      "image/png": "[encoded data removed]",
      "text/plain": [
       "<Figure size 864x432 with 1 Axes>"
      ]
     },
     "metadata": {
      "needs_background": "light"
     },
     "output_type": "display_data"
    }
   ],
   "source": [
    "df_spb_km_price.plot(figsize = (12, 6), grid = True, style = 'o-', title = 'Average price per kilometer')"
   ]
  },
  {
   "cell_type": "markdown",
   "metadata": {},
   "source": [
    "An interesting price surge around the 27th kilometer, but it is not our interest for now. It seems that we can clearly define apartments in the center, these are apartments in the 0 - 6 km inclusive city center range. Let's create a sample with apartments in the center of St. Petersburg and study it."
   ]
  },
  {
   "cell_type": "code",
   "execution_count": 51,
   "metadata": {},
   "outputs": [
    {
     "name": "stdout",
     "output_type": "stream",
     "text": [
      "<class 'pandas.core.frame.DataFrame'>\n",
      "Int64Index: 3089 entries, 24 to 23560\n",
      "Data columns (total 20 columns):\n",
      " #   Column                Non-Null Count  Dtype  \n",
      "---  ------                --------------  -----  \n",
      " 0   last_price            3089 non-null   float64\n",
      " 1   total_area            3089 non-null   float64\n",
      " 2   first_day_exposition  3089 non-null   object \n",
      " 3   rooms                 3089 non-null   int64  \n",
      " 4   ceiling_height        2011 non-null   float64\n",
      " 5   floors_total          3089 non-null   float64\n",
      " 6   living_area           3089 non-null   float64\n",
      " 7   floor                 3089 non-null   int64  \n",
      " 8   kitchen_area          2807 non-null   float64\n",
      " 9   locality_name         3089 non-null   object \n",
      " 10  cityCenters_nearest   3034 non-null   float64\n",
      " 11  days_exposition       2559 non-null   float64\n",
      " 12  price_per_m2          3089 non-null   int32  \n",
      " 13  day                   3089 non-null   int64  \n",
      " 14  month                 3089 non-null   int64  \n",
      " 15  year                  3089 non-null   int64  \n",
      " 16  living_to_total       3089 non-null   float64\n",
      " 17  kitchen_to_total      2807 non-null   float64\n",
      " 18  floor_type            3089 non-null   object \n",
      " 19  city_center_km        3089 non-null   int32  \n",
      "dtypes: float64(10), int32(2), int64(5), object(3)\n",
      "memory usage: 482.7+ KB\n"
     ]
    }
   ],
   "source": [
    "df_spb_center = df_spb.query('city_center_km <= 6').copy()\n",
    "df_spb_center.info()"
   ]
  },
  {
   "cell_type": "markdown",
   "metadata": {},
   "source": [
    "#### Parameters research"
   ]
  },
  {
   "cell_type": "markdown",
   "metadata": {},
   "source": [
    "Let's start by examining the parameters of area, price, number of rooms and ceiling height. Let us repeat the same methods that we used in the parameter analysis for the entire sample."
   ]
  },
  {
   "cell_type": "code",
   "execution_count": 52,
   "metadata": {},
   "outputs": [
    {
     "data": {
      "text/plain": [
       "count     3089.000000\n",
       "mean     10855.813906\n",
       "std       6607.980136\n",
       "min       1600.000000\n",
       "25%       6550.000000\n",
       "50%       8850.000000\n",
       "75%      12900.000000\n",
       "max      39990.000000\n",
       "Name: last_price, dtype: float64"
      ]
     },
     "execution_count": 52,
     "metadata": {},
     "output_type": "execute_result"
    },
    {
     "data": {
      "image/png": "[encoded data removed]",
      "text/plain": [
       "<Figure size 864x432 with 1 Axes>"
      ]
     },
     "metadata": {
      "needs_background": "light"
     },
     "output_type": "display_data"
    }
   ],
   "source": [
    "df_spb_center['last_price'].hist(bins = 80, figsize = (12, 6))\n",
    "df_spb_center['last_price'].describe()"
   ]
  },
  {
   "cell_type": "markdown",
   "metadata": {},
   "source": [
    "The picture is similar to the one we got when studying the price for the entire sample, only the price level is higher. The average price in the center is 8.8 million versus 4.6 million for the entire sample. The median value differs the same, 10.8 million in the center versus 5.8 million for the entire sample. It can be unequivocally concluded that apartments in the center are almost twice as expensive as apartments in the general sample."
   ]
  },
  {
   "cell_type": "code",
   "execution_count": 53,
   "metadata": {},
   "outputs": [
    {
     "data": {
      "text/plain": [
       "count    3089.000000\n",
       "mean       82.224535\n",
       "std        35.291760\n",
       "min        12.000000\n",
       "25%        56.000000\n",
       "50%        75.500000\n",
       "75%       101.900000\n",
       "max       198.000000\n",
       "Name: total_area, dtype: float64"
      ]
     },
     "execution_count": 53,
     "metadata": {},
     "output_type": "execute_result"
    },
    {
     "data": {
      "image/png": "[encoded data removed]",
      "text/plain": [
       "<Figure size 864x432 with 1 Axes>"
      ]
     },
     "metadata": {
      "needs_background": "light"
     },
     "output_type": "display_data"
    }
   ],
   "source": [
    "df_spb_center['total_area'].hist(bins = 80, figsize = (12, 6))\n",
    "df_spb_center['total_area'].describe()"
   ]
  },
  {
   "cell_type": "markdown",
   "metadata": {},
   "source": [
    "The difference between the mean and median is approximately equal to the same difference for the entire sample, but the parameter lavel hase grown. 75 m2 median versus 51 m2 for the entire sample and 82 m2 for the mean versus 57 m2 for the entire sample. Apartments in the center are also almost twice the size of apartments in the entire sample."
   ]
  },
  {
   "cell_type": "code",
   "execution_count": 54,
   "metadata": {},
   "outputs": [
    {
     "data": {
      "text/plain": [
       "count    3089.000000\n",
       "mean        2.678860\n",
       "std         1.197665\n",
       "min         1.000000\n",
       "25%         2.000000\n",
       "50%         3.000000\n",
       "75%         3.000000\n",
       "max         7.000000\n",
       "Name: rooms, dtype: float64"
      ]
     },
     "execution_count": 54,
     "metadata": {},
     "output_type": "execute_result"
    },
    {
     "data": {
      "image/png": "[encoded data removed]",
      "text/plain": [
       "<Figure size 864x432 with 1 Axes>"
      ]
     },
     "metadata": {
      "needs_background": "light"
     },
     "output_type": "display_data"
    }
   ],
   "source": [
    "df_spb_center['rooms'].hist(bins = 7, figsize = (12, 6))\n",
    "df_spb_center['rooms'].describe()"
   ]
  },
  {
   "cell_type": "markdown",
   "metadata": {},
   "source": [
    "If for the entire sample two room apartments are more common, for the center three room apartments can be found more often.  No wonder why they are more expensive."
   ]
  },
  {
   "cell_type": "code",
   "execution_count": 55,
   "metadata": {},
   "outputs": [
    {
     "data": {
      "text/plain": [
       "count    2011.000000\n",
       "mean        3.079622\n",
       "std         0.345871\n",
       "min         2.400000\n",
       "25%         2.820000\n",
       "50%         3.000000\n",
       "75%         3.250000\n",
       "max         5.500000\n",
       "Name: ceiling_height, dtype: float64"
      ]
     },
     "execution_count": 55,
     "metadata": {},
     "output_type": "execute_result"
    },
    {
     "data": {
      "image/png": "[encoded data removed]",
      "text/plain": [
       "<Figure size 864x432 with 1 Axes>"
      ]
     },
     "metadata": {
      "needs_background": "light"
     },
     "output_type": "display_data"
    }
   ],
   "source": [
    "df_spb_center['ceiling_height'].hist(bins = 20, figsize = (12, 6))\n",
    "df_spb_center['ceiling_height'].describe()"
   ]
  },
  {
   "cell_type": "markdown",
   "metadata": {},
   "source": [
    "The ceilings in the center also turned out to be higher, 3 meters on average versus 2.7 meters for the entire sample."
   ]
  },
  {
   "cell_type": "markdown",
   "metadata": {},
   "source": [
    "#### Factors research"
   ]
  },
  {
   "cell_type": "code",
   "execution_count": 56,
   "metadata": {},
   "outputs": [
    {
     "data": {
      "image/png": "[encoded data removed]",
      "text/plain": [
       "<Figure size 576x288 with 1 Axes>"
      ]
     },
     "metadata": {
      "needs_background": "light"
     },
     "output_type": "display_data"
    },
    {
     "data": {
      "image/png": "[encoded data removed]",
      "text/plain": [
       "<Figure size 576x288 with 1 Axes>"
      ]
     },
     "metadata": {
      "needs_background": "light"
     },
     "output_type": "display_data"
    }
   ],
   "source": [
    "for_scatter = ['total_area','cityCenters_nearest']\n",
    "\n",
    "for name in for_scatter:\n",
    "    df_spb_center.plot(x = name, y = 'last_price', kind = 'scatter', title = name, figsize = (8, 4))"
   ]
  },
  {
   "cell_type": "code",
   "execution_count": 57,
   "metadata": {},
   "outputs": [
    {
     "data": {
      "image/png": "[encoded data removed]",
      "text/plain": [
       "<Figure size 576x288 with 1 Axes>"
      ]
     },
     "metadata": {
      "needs_background": "light"
     },
     "output_type": "display_data"
    },
    {
     "data": {
      "image/png": "[encoded data removed]",
      "text/plain": [
       "<Figure size 576x288 with 1 Axes>"
      ]
     },
     "metadata": {
      "needs_background": "light"
     },
     "output_type": "display_data"
    },
    {
     "data": {
      "image/png": "[encoded data removed]",
      "text/plain": [
       "<Figure size 576x288 with 1 Axes>"
      ]
     },
     "metadata": {
      "needs_background": "light"
     },
     "output_type": "display_data"
    },
    {
     "data": {
      "image/png": "[encoded data removed]",
      "text/plain": [
       "<Figure size 576x288 with 1 Axes>"
      ]
     },
     "metadata": {
      "needs_background": "light"
     },
     "output_type": "display_data"
    },
    {
     "data": {
      "image/png": "[encoded data removed]",
      "text/plain": [
       "<Figure size 576x288 with 1 Axes>"
      ]
     },
     "metadata": {
      "needs_background": "light"
     },
     "output_type": "display_data"
    }
   ],
   "source": [
    "for_bar = ['year','month', 'day', 'rooms', 'floor_type']\n",
    "\n",
    "for name in for_bar:\n",
    "    df_spb_center.pivot_table(index = name, values = 'last_price', aggfunc = 'mean').plot(kind = 'bar', title = name, figsize = (8, 4))"
   ]
  },
  {
   "cell_type": "markdown",
   "metadata": {},
   "source": [
    "#### Conclusion"
   ]
  },
  {
   "cell_type": "markdown",
   "metadata": {},
   "source": [
    "The center of St. Petersburg is in the range from 0 to 6 km\n",
    "\n",
    "**Parameters**\n",
    "\n",
    "- The average apartment price in the St. Petersburg city center is almost twice as high as the average price for the entire sample - 8.8 million versus 4.6 million\n",
    "- The average area is also almost twice as big, 82 m2 in the center versus 52 m2 in the entire sample\n",
    "- Most of the apartments contain 3 rooms, against a range of 1 to 3 rooms throughout the sample\n",
    "- Ceilings are higher in the center - an average of 3 meters versus 2.7 for the entire sample\n",
    "\n",
    "**Trends**\n",
    "\n",
    "Trends that do not change depending on the sample:\n",
    "- The larger the area, the higher the price. Dependence weakens after 75 m2\n",
    "- The more rooms, the higher the price\n",
    "- Apartments on the ground floor is cheaper than others. Apartments on the last floor are slightly cheaper than not ground and not last floor appartments\n",
    "- After 2014, there is a drop in the apartment average price \n",
    "- There is no pronounced dependence of price on the ad placement day of the week and month"
   ]
  },
  {
   "cell_type": "markdown",
   "metadata": {},
   "source": [
    "## Research results"
   ]
  },
  {
   "cell_type": "markdown",
   "metadata": {},
   "source": [
    "The following parameters were determined for the entire sample:\n",
    "\n",
    "**Price**\n",
    "\n",
    "- Most of the apartments are sold in the range from 3.5 to 6.7 million rubles\n",
    "- Average price for the sample - 4.6 million\n",
    "- Median price for the sample - 5.8 million\n",
    "\n",
    "**Total area**\n",
    "\n",
    "- Most of the apartments have an area from 40 to 70 m2\n",
    "- Average area - 52 m2\n",
    "- Median area - 58 m2\n",
    "\n",
    "**Number of rooms**\n",
    "\n",
    "- The vast majority of apartments have from 1 to 3 rooms\n",
    "\n",
    "**Ceiling height**\n",
    "\n",
    "- The vast majority of apartments have a ceiling height of 2.5 to 2.8 meters\n",
    "\n",
    "**Influence on price**\n",
    "\n",
    "- The vast majority of apartments have a direct correlation between the price of the total area. Dependence becomes less obvious after 75 m2\n",
    "- Apartments up to 10 km from the center are much more expensive than others. Most likely apartments in terms of price are divided into those thar are in the center and others.\n",
    "- Apartments exposed in 2014 are much more expensive than those that are exposed later. Further, there is no pronounced dependence of the price on the year\n",
    "- A direct correlation of the price on the number of rooms was found\n",
    "- Apartments located on the ground floor are cheaper than apartments located on other floors\n",
    "- The dependence of the price on the ads month and day of the week was not detected\n",
    "\n",
    "**Top 10 cities reserch**\n",
    "\n",
    "- Most apartments were found in St. Petersburg, the price per square meter is the most expensive - 110 thousand per m2\n",
    "- Least of apartments from the top-10 rating was found in Vyborg, the price per square meter is also the cheapest - 58 thousand per square meter. It is almost two times cheaper than in St. Petersburg\n",
    "\n",
    "**St. Petersburg city center reserch**\n",
    "- The average price of an apartment in the center of St. Petersburg is almost twice as high as the average price for the entire sample - 8.8 million versus 4.6 million\n",
    "- The average area is also almost twice as high, 82 m2 in the center versus 52 m2 in the entire sample\n",
    "- Most of the apartments contain 3 rooms, against a range of 1 to 3 rooms throughout the sample\n",
    "- Ceilings are higher in the center - an average of 3 meters versus 2.7 for the entire sample"
   ]
  }
 ],
 "metadata": {
  "ExecuteTimeLog": [
   {
    "duration": 639,
    "start_time": "2022-02-01T18:56:42.873Z"
   },
   {
    "duration": 824,
    "start_time": "2022-02-01T18:56:48.671Z"
   },
   {
    "duration": 636,
    "start_time": "2022-02-01T18:56:50.756Z"
   },
   {
    "duration": 150,
    "start_time": "2022-02-01T18:57:02.907Z"
   },
   {
    "duration": 114,
    "start_time": "2022-02-01T18:58:37.401Z"
   },
   {
    "duration": 133,
    "start_time": "2022-02-01T18:59:28.108Z"
   },
   {
    "duration": 125,
    "start_time": "2022-02-01T18:59:39.576Z"
   },
   {
    "duration": 238,
    "start_time": "2022-02-01T19:00:15.653Z"
   },
   {
    "duration": 536,
    "start_time": "2022-02-01T19:00:43.835Z"
   },
   {
    "duration": 289,
    "start_time": "2022-02-01T19:01:10.134Z"
   },
   {
    "duration": 278,
    "start_time": "2022-02-01T19:04:22.287Z"
   },
   {
    "duration": 109,
    "start_time": "2022-02-01T20:27:20.706Z"
   },
   {
    "duration": 44,
    "start_time": "2022-02-01T20:27:37.065Z"
   },
   {
    "duration": 355,
    "start_time": "2022-02-01T20:27:44.143Z"
   },
   {
    "duration": 42,
    "start_time": "2022-02-01T20:27:52.075Z"
   },
   {
    "duration": 16,
    "start_time": "2022-02-01T20:29:08.769Z"
   },
   {
    "duration": 430,
    "start_time": "2022-02-01T20:29:33.420Z"
   },
   {
    "duration": 20,
    "start_time": "2022-02-01T20:29:41.775Z"
   },
   {
    "duration": 10,
    "start_time": "2022-02-01T20:31:54.312Z"
   },
   {
    "duration": 15,
    "start_time": "2022-02-01T20:33:08.746Z"
   },
   {
    "duration": 16,
    "start_time": "2022-02-01T20:34:14.780Z"
   },
   {
    "duration": 371,
    "start_time": "2022-02-01T20:35:41.688Z"
   },
   {
    "duration": 362,
    "start_time": "2022-02-01T20:35:46.969Z"
   },
   {
    "duration": 117,
    "start_time": "2022-02-01T20:44:28.108Z"
   },
   {
    "duration": 379,
    "start_time": "2022-02-01T20:47:54.034Z"
   },
   {
    "duration": 9252,
    "start_time": "2022-02-01T20:48:00.311Z"
   },
   {
    "duration": 8631,
    "start_time": "2022-02-01T20:48:18.073Z"
   },
   {
    "duration": 678,
    "start_time": "2022-02-01T20:48:54.300Z"
   },
   {
    "duration": 719,
    "start_time": "2022-02-01T20:50:06.704Z"
   },
   {
    "duration": 885,
    "start_time": "2022-02-01T20:50:17.599Z"
   },
   {
    "duration": 692,
    "start_time": "2022-02-01T20:53:35.963Z"
   },
   {
    "duration": 742,
    "start_time": "2022-02-01T20:53:44.012Z"
   },
   {
    "duration": 667,
    "start_time": "2022-02-01T20:54:15.715Z"
   },
   {
    "duration": 693,
    "start_time": "2022-02-01T20:54:27.445Z"
   },
   {
    "duration": 8480,
    "start_time": "2022-02-01T21:09:03.633Z"
   },
   {
    "duration": 4,
    "start_time": "2022-02-01T21:09:18.669Z"
   },
   {
    "duration": 268,
    "start_time": "2022-02-01T21:09:22.419Z"
   },
   {
    "duration": 15,
    "start_time": "2022-02-01T21:09:26.037Z"
   },
   {
    "duration": 111,
    "start_time": "2022-02-01T21:09:28.723Z"
   },
   {
    "duration": 8239,
    "start_time": "2022-02-01T21:09:31.391Z"
   },
   {
    "duration": 8177,
    "start_time": "2022-02-01T21:09:53.449Z"
   },
   {
    "duration": 10,
    "start_time": "2022-02-01T21:10:16.323Z"
   },
   {
    "duration": 54,
    "start_time": "2022-02-01T21:10:28.845Z"
   },
   {
    "duration": 8274,
    "start_time": "2022-02-01T21:11:30.731Z"
   },
   {
    "duration": 10,
    "start_time": "2022-02-01T21:12:00.603Z"
   },
   {
    "duration": 19,
    "start_time": "2022-02-01T21:12:05.916Z"
   },
   {
    "duration": 16,
    "start_time": "2022-02-01T21:12:11.615Z"
   },
   {
    "duration": 29,
    "start_time": "2022-02-01T21:12:33.517Z"
   },
   {
    "duration": 50,
    "start_time": "2022-02-01T21:12:42.731Z"
   },
   {
    "duration": 17,
    "start_time": "2022-02-01T21:14:51.317Z"
   },
   {
    "duration": 374,
    "start_time": "2022-02-01T21:15:03.666Z"
   },
   {
    "duration": 18,
    "start_time": "2022-02-01T21:15:14.020Z"
   },
   {
    "duration": 56,
    "start_time": "2022-02-01T21:37:39.234Z"
   },
   {
    "duration": 9,
    "start_time": "2022-02-01T21:41:04.098Z"
   },
   {
    "duration": 71,
    "start_time": "2022-02-01T21:41:09.978Z"
   },
   {
    "duration": 60,
    "start_time": "2022-02-01T21:42:37.440Z"
   },
   {
    "duration": 9,
    "start_time": "2022-02-01T21:43:28.125Z"
   },
   {
    "duration": 75,
    "start_time": "2022-02-01T21:43:29.904Z"
   },
   {
    "duration": 91,
    "start_time": "2022-02-01T21:45:07.033Z"
   },
   {
    "duration": 25,
    "start_time": "2022-02-01T21:45:35.908Z"
   },
   {
    "duration": 25,
    "start_time": "2022-02-01T21:45:51.870Z"
   },
   {
    "duration": 62,
    "start_time": "2022-02-01T21:45:59.202Z"
   },
   {
    "duration": 35,
    "start_time": "2022-02-01T21:46:31.869Z"
   },
   {
    "duration": 44,
    "start_time": "2022-02-01T21:46:42.243Z"
   },
   {
    "duration": 49,
    "start_time": "2022-02-01T21:46:46.310Z"
   },
   {
    "duration": 94,
    "start_time": "2022-02-01T21:47:28.389Z"
   },
   {
    "duration": 95,
    "start_time": "2022-02-01T21:48:15.873Z"
   },
   {
    "duration": 97,
    "start_time": "2022-02-01T21:48:29.967Z"
   },
   {
    "duration": 60,
    "start_time": "2022-02-01T21:48:38.042Z"
   },
   {
    "duration": 60,
    "start_time": "2022-02-01T21:49:43.637Z"
   },
   {
    "duration": 285,
    "start_time": "2022-02-01T21:50:27.677Z"
   },
   {
    "duration": 94,
    "start_time": "2022-02-01T21:50:45.907Z"
   },
   {
    "duration": 40,
    "start_time": "2022-02-01T21:51:57.917Z"
   },
   {
    "duration": 25,
    "start_time": "2022-02-01T21:52:03.146Z"
   },
   {
    "duration": 65,
    "start_time": "2022-02-01T21:53:23.968Z"
   },
   {
    "duration": 457,
    "start_time": "2022-02-01T21:53:47.640Z"
   },
   {
    "duration": 66,
    "start_time": "2022-02-01T21:54:55.392Z"
   },
   {
    "duration": 62,
    "start_time": "2022-02-01T21:55:03.953Z"
   },
   {
    "duration": 149,
    "start_time": "2022-02-01T21:55:11.073Z"
   },
   {
    "duration": 338,
    "start_time": "2022-02-01T21:55:38.720Z"
   },
   {
    "duration": 406,
    "start_time": "2022-02-01T21:56:31.578Z"
   },
   {
    "duration": 474,
    "start_time": "2022-02-01T21:56:42.176Z"
   },
   {
    "duration": 336,
    "start_time": "2022-02-01T21:56:54.577Z"
   },
   {
    "duration": 65,
    "start_time": "2022-02-01T21:57:30.293Z"
   },
   {
    "duration": 60,
    "start_time": "2022-02-01T21:57:41.993Z"
   },
   {
    "duration": 62,
    "start_time": "2022-02-01T21:58:03.720Z"
   },
   {
    "duration": 61,
    "start_time": "2022-02-01T21:58:29.189Z"
   },
   {
    "duration": 73,
    "start_time": "2022-02-01T21:59:06.330Z"
   },
   {
    "duration": 67,
    "start_time": "2022-02-01T22:00:36.614Z"
   },
   {
    "duration": 24,
    "start_time": "2022-02-01T22:01:24.369Z"
   },
   {
    "duration": 109,
    "start_time": "2022-02-01T22:01:34.672Z"
   },
   {
    "duration": 91,
    "start_time": "2022-02-01T22:02:12.548Z"
   },
   {
    "duration": 605,
    "start_time": "2022-02-01T22:04:08.300Z"
   },
   {
    "duration": 25,
    "start_time": "2022-02-01T22:04:31.377Z"
   },
   {
    "duration": 106,
    "start_time": "2022-02-01T22:04:47.212Z"
   },
   {
    "duration": 285,
    "start_time": "2022-02-01T22:05:36.695Z"
   },
   {
    "duration": 68,
    "start_time": "2022-02-01T22:06:34.339Z"
   },
   {
    "duration": 154,
    "start_time": "2022-02-01T22:06:56.025Z"
   },
   {
    "duration": 168,
    "start_time": "2022-02-01T22:07:11.732Z"
   },
   {
    "duration": 652,
    "start_time": "2022-02-01T22:09:53.206Z"
   },
   {
    "duration": 633,
    "start_time": "2022-02-01T22:10:38.840Z"
   },
   {
    "duration": 629,
    "start_time": "2022-02-01T22:11:00.516Z"
   },
   {
    "duration": 610,
    "start_time": "2022-02-01T22:11:04.782Z"
   },
   {
    "duration": 682,
    "start_time": "2022-02-01T22:11:54.263Z"
   },
   {
    "duration": 498,
    "start_time": "2022-02-01T22:12:09.823Z"
   },
   {
    "duration": 671,
    "start_time": "2022-02-01T22:12:19.673Z"
   },
   {
    "duration": 16,
    "start_time": "2022-02-01T22:13:15.178Z"
   },
   {
    "duration": 111,
    "start_time": "2022-02-01T22:13:21.554Z"
   },
   {
    "duration": 131,
    "start_time": "2022-02-01T22:16:43.409Z"
   },
   {
    "duration": 8,
    "start_time": "2022-02-01T22:17:15.565Z"
   },
   {
    "duration": 16,
    "start_time": "2022-02-01T22:18:09.775Z"
   },
   {
    "duration": 468,
    "start_time": "2022-02-01T22:18:16.784Z"
   },
   {
    "duration": 283,
    "start_time": "2022-02-01T22:18:36.645Z"
   },
   {
    "duration": 19,
    "start_time": "2022-02-01T22:18:47.055Z"
   },
   {
    "duration": 60,
    "start_time": "2022-02-01T22:19:29.160Z"
   },
   {
    "duration": 111,
    "start_time": "2022-02-01T22:20:29.545Z"
   },
   {
    "duration": 59,
    "start_time": "2022-02-01T22:20:59.877Z"
   },
   {
    "duration": 10,
    "start_time": "2022-02-01T22:21:26.747Z"
   },
   {
    "duration": 9,
    "start_time": "2022-02-01T22:22:04.553Z"
   },
   {
    "duration": 58,
    "start_time": "2022-02-01T22:22:07.983Z"
   },
   {
    "duration": 785,
    "start_time": "2022-02-02T09:42:53.250Z"
   },
   {
    "duration": 311,
    "start_time": "2022-02-02T09:42:55.776Z"
   },
   {
    "duration": 18,
    "start_time": "2022-02-02T09:42:59.722Z"
   },
   {
    "duration": 81,
    "start_time": "2022-02-02T09:43:03.352Z"
   },
   {
    "duration": 15,
    "start_time": "2022-02-02T09:43:06.902Z"
   },
   {
    "duration": 86,
    "start_time": "2022-02-02T09:43:09.624Z"
   },
   {
    "duration": 19,
    "start_time": "2022-02-02T09:45:38.932Z"
   },
   {
    "duration": 95,
    "start_time": "2022-02-02T09:48:22.113Z"
   },
   {
    "duration": 19,
    "start_time": "2022-02-02T09:48:40.322Z"
   },
   {
    "duration": 21,
    "start_time": "2022-02-02T09:51:36.989Z"
   },
   {
    "duration": 29,
    "start_time": "2022-02-02T09:51:52.888Z"
   },
   {
    "duration": 80,
    "start_time": "2022-02-02T09:52:13.268Z"
   },
   {
    "duration": 289,
    "start_time": "2022-02-02T09:53:03.374Z"
   },
   {
    "duration": 63,
    "start_time": "2022-02-02T09:54:40.254Z"
   },
   {
    "duration": 68,
    "start_time": "2022-02-02T09:54:58.705Z"
   },
   {
    "duration": 78,
    "start_time": "2022-02-02T09:55:31.767Z"
   },
   {
    "duration": 28,
    "start_time": "2022-02-02T09:55:38.586Z"
   },
   {
    "duration": 23,
    "start_time": "2022-02-02T10:01:24.469Z"
   },
   {
    "duration": 9945,
    "start_time": "2022-02-02T10:05:08.005Z"
   },
   {
    "duration": 610,
    "start_time": "2022-02-02T10:05:31.451Z"
   },
   {
    "duration": 8,
    "start_time": "2022-02-02T10:05:43.669Z"
   },
   {
    "duration": 6,
    "start_time": "2022-02-02T10:06:03.683Z"
   },
   {
    "duration": 73,
    "start_time": "2022-02-02T10:06:19.214Z"
   },
   {
    "duration": 87,
    "start_time": "2022-02-02T10:06:40.873Z"
   },
   {
    "duration": 62,
    "start_time": "2022-02-02T10:06:55.252Z"
   },
   {
    "duration": 111,
    "start_time": "2022-02-02T10:07:17.554Z"
   },
   {
    "duration": 8,
    "start_time": "2022-02-02T10:08:57.086Z"
   },
   {
    "duration": 27,
    "start_time": "2022-02-02T10:46:56.950Z"
   },
   {
    "duration": 24,
    "start_time": "2022-02-02T10:47:17.068Z"
   },
   {
    "duration": 304,
    "start_time": "2022-02-02T10:47:22.107Z"
   },
   {
    "duration": 4,
    "start_time": "2022-02-02T10:47:30.303Z"
   },
   {
    "duration": 294,
    "start_time": "2022-02-02T10:47:32.348Z"
   },
   {
    "duration": 4,
    "start_time": "2022-02-02T10:47:40.578Z"
   },
   {
    "duration": 313,
    "start_time": "2022-02-02T10:47:40.585Z"
   },
   {
    "duration": 15,
    "start_time": "2022-02-02T10:47:40.901Z"
   },
   {
    "duration": 97,
    "start_time": "2022-02-02T10:47:40.919Z"
   },
   {
    "duration": 34,
    "start_time": "2022-02-02T10:47:41.017Z"
   },
   {
    "duration": 106,
    "start_time": "2022-02-02T10:47:41.054Z"
   },
   {
    "duration": 13,
    "start_time": "2022-02-02T10:47:41.163Z"
   },
   {
    "duration": 26,
    "start_time": "2022-02-02T10:47:41.179Z"
   },
   {
    "duration": 37,
    "start_time": "2022-02-02T10:47:41.243Z"
   },
   {
    "duration": 9,
    "start_time": "2022-02-02T10:47:41.283Z"
   },
   {
    "duration": 41,
    "start_time": "2022-02-02T10:47:41.294Z"
   },
   {
    "duration": 339,
    "start_time": "2022-02-02T10:47:41.340Z"
   },
   {
    "duration": 50,
    "start_time": "2022-02-02T10:48:34.145Z"
   },
   {
    "duration": 109,
    "start_time": "2022-02-02T10:56:13.966Z"
   },
   {
    "duration": 22,
    "start_time": "2022-02-02T11:00:19.781Z"
   },
   {
    "duration": 8,
    "start_time": "2022-02-02T11:02:54.051Z"
   },
   {
    "duration": 6,
    "start_time": "2022-02-02T11:03:03.882Z"
   },
   {
    "duration": 7,
    "start_time": "2022-02-02T11:03:09.687Z"
   },
   {
    "duration": 17,
    "start_time": "2022-02-02T11:05:45.698Z"
   },
   {
    "duration": 17,
    "start_time": "2022-02-02T11:06:05.806Z"
   },
   {
    "duration": 4,
    "start_time": "2022-02-02T11:06:31.122Z"
   },
   {
    "duration": 310,
    "start_time": "2022-02-02T11:06:31.128Z"
   },
   {
    "duration": 17,
    "start_time": "2022-02-02T11:06:31.441Z"
   },
   {
    "duration": 84,
    "start_time": "2022-02-02T11:06:31.462Z"
   },
   {
    "duration": 14,
    "start_time": "2022-02-02T11:06:31.549Z"
   },
   {
    "duration": 103,
    "start_time": "2022-02-02T11:06:31.566Z"
   },
   {
    "duration": 16,
    "start_time": "2022-02-02T11:06:31.671Z"
   },
   {
    "duration": 52,
    "start_time": "2022-02-02T11:06:31.692Z"
   },
   {
    "duration": 29,
    "start_time": "2022-02-02T11:06:31.748Z"
   },
   {
    "duration": 6,
    "start_time": "2022-02-02T11:06:31.779Z"
   },
   {
    "duration": 52,
    "start_time": "2022-02-02T11:06:31.788Z"
   },
   {
    "duration": 20,
    "start_time": "2022-02-02T11:06:31.844Z"
   },
   {
    "duration": 16,
    "start_time": "2022-02-02T11:06:31.866Z"
   },
   {
    "duration": 461,
    "start_time": "2022-02-02T11:06:31.885Z"
   },
   {
    "duration": 21,
    "start_time": "2022-02-02T11:06:58.119Z"
   },
   {
    "duration": 4,
    "start_time": "2022-02-02T11:07:04.102Z"
   },
   {
    "duration": 300,
    "start_time": "2022-02-02T11:07:04.109Z"
   },
   {
    "duration": 30,
    "start_time": "2022-02-02T11:07:04.412Z"
   },
   {
    "duration": 47,
    "start_time": "2022-02-02T11:07:04.445Z"
   },
   {
    "duration": 44,
    "start_time": "2022-02-02T11:07:04.494Z"
   },
   {
    "duration": 76,
    "start_time": "2022-02-02T11:07:04.540Z"
   },
   {
    "duration": 29,
    "start_time": "2022-02-02T11:07:04.618Z"
   },
   {
    "duration": 32,
    "start_time": "2022-02-02T11:07:04.650Z"
   },
   {
    "duration": 22,
    "start_time": "2022-02-02T11:07:04.685Z"
   },
   {
    "duration": 30,
    "start_time": "2022-02-02T11:07:04.710Z"
   },
   {
    "duration": 28,
    "start_time": "2022-02-02T11:07:04.743Z"
   },
   {
    "duration": 18,
    "start_time": "2022-02-02T11:07:04.773Z"
   },
   {
    "duration": 52,
    "start_time": "2022-02-02T11:07:04.794Z"
   },
   {
    "duration": 322,
    "start_time": "2022-02-02T11:07:04.848Z"
   },
   {
    "duration": 53,
    "start_time": "2022-02-02T11:07:18.671Z"
   },
   {
    "duration": 101,
    "start_time": "2022-02-02T11:09:44.093Z"
   },
   {
    "duration": 9587,
    "start_time": "2022-02-02T11:10:59.071Z"
   },
   {
    "duration": 21,
    "start_time": "2022-02-02T11:11:25.048Z"
   },
   {
    "duration": 21,
    "start_time": "2022-02-02T11:11:56.828Z"
   },
   {
    "duration": 23,
    "start_time": "2022-02-02T11:12:06.123Z"
   },
   {
    "duration": 24,
    "start_time": "2022-02-02T11:12:19.224Z"
   },
   {
    "duration": 15,
    "start_time": "2022-02-02T11:12:24.310Z"
   },
   {
    "duration": 25,
    "start_time": "2022-02-02T11:12:28.430Z"
   },
   {
    "duration": 350,
    "start_time": "2022-02-02T11:13:23.547Z"
   },
   {
    "duration": 789,
    "start_time": "2022-02-02T11:13:32.926Z"
   },
   {
    "duration": 660,
    "start_time": "2022-02-02T11:15:15.292Z"
   },
   {
    "duration": 16,
    "start_time": "2022-02-02T11:15:45.221Z"
   },
   {
    "duration": 708,
    "start_time": "2022-02-02T11:16:21.428Z"
   },
   {
    "duration": 1064,
    "start_time": "2022-02-02T11:16:32.142Z"
   },
   {
    "duration": 3,
    "start_time": "2022-02-02T11:17:22.479Z"
   },
   {
    "duration": 268,
    "start_time": "2022-02-02T11:17:22.484Z"
   },
   {
    "duration": 13,
    "start_time": "2022-02-02T11:17:22.755Z"
   },
   {
    "duration": 69,
    "start_time": "2022-02-02T11:17:22.771Z"
   },
   {
    "duration": 13,
    "start_time": "2022-02-02T11:17:22.842Z"
   },
   {
    "duration": 91,
    "start_time": "2022-02-02T11:17:22.857Z"
   },
   {
    "duration": 16,
    "start_time": "2022-02-02T11:17:22.951Z"
   },
   {
    "duration": 25,
    "start_time": "2022-02-02T11:17:22.971Z"
   },
   {
    "duration": 53,
    "start_time": "2022-02-02T11:17:22.998Z"
   },
   {
    "duration": 7,
    "start_time": "2022-02-02T11:17:23.054Z"
   },
   {
    "duration": 24,
    "start_time": "2022-02-02T11:17:23.063Z"
   },
   {
    "duration": 58,
    "start_time": "2022-02-02T11:17:23.090Z"
   },
   {
    "duration": 16,
    "start_time": "2022-02-02T11:17:23.151Z"
   },
   {
    "duration": 717,
    "start_time": "2022-02-02T11:17:23.170Z"
   },
   {
    "duration": 323,
    "start_time": "2022-02-02T11:17:23.889Z"
   },
   {
    "duration": 21,
    "start_time": "2022-02-02T11:20:17.428Z"
   },
   {
    "duration": 20,
    "start_time": "2022-02-02T11:20:32.816Z"
   },
   {
    "duration": 293,
    "start_time": "2022-02-02T11:20:43.872Z"
   },
   {
    "duration": 343,
    "start_time": "2022-02-02T11:21:02.012Z"
   },
   {
    "duration": 302,
    "start_time": "2022-02-02T11:21:16.217Z"
   },
   {
    "duration": 410,
    "start_time": "2022-02-02T11:21:31.646Z"
   },
   {
    "duration": 4,
    "start_time": "2022-02-02T11:21:39.508Z"
   },
   {
    "duration": 4,
    "start_time": "2022-02-02T11:21:45.805Z"
   },
   {
    "duration": 271,
    "start_time": "2022-02-02T11:21:45.812Z"
   },
   {
    "duration": 15,
    "start_time": "2022-02-02T11:21:46.086Z"
   },
   {
    "duration": 70,
    "start_time": "2022-02-02T11:21:46.104Z"
   },
   {
    "duration": 13,
    "start_time": "2022-02-02T11:21:46.177Z"
   },
   {
    "duration": 96,
    "start_time": "2022-02-02T11:21:46.192Z"
   },
   {
    "duration": 16,
    "start_time": "2022-02-02T11:21:46.292Z"
   },
   {
    "duration": 27,
    "start_time": "2022-02-02T11:21:46.332Z"
   },
   {
    "duration": 25,
    "start_time": "2022-02-02T11:21:46.362Z"
   },
   {
    "duration": 43,
    "start_time": "2022-02-02T11:21:46.390Z"
   },
   {
    "duration": 21,
    "start_time": "2022-02-02T11:21:46.436Z"
   },
   {
    "duration": 17,
    "start_time": "2022-02-02T11:21:46.459Z"
   },
   {
    "duration": 17,
    "start_time": "2022-02-02T11:21:47.654Z"
   },
   {
    "duration": 57,
    "start_time": "2022-02-02T11:21:49.456Z"
   },
   {
    "duration": 313,
    "start_time": "2022-02-02T11:22:06.003Z"
   },
   {
    "duration": 11,
    "start_time": "2022-02-02T11:22:17.790Z"
   },
   {
    "duration": 61,
    "start_time": "2022-02-02T11:22:20.637Z"
   },
   {
    "duration": 21,
    "start_time": "2022-02-02T11:22:25.444Z"
   },
   {
    "duration": 13,
    "start_time": "2022-02-02T11:32:23.337Z"
   },
   {
    "duration": 7537,
    "start_time": "2022-02-02T11:34:44.474Z"
   },
   {
    "duration": 7362,
    "start_time": "2022-02-02T11:35:17.591Z"
   },
   {
    "duration": 54,
    "start_time": "2022-02-02T11:35:34.952Z"
   },
   {
    "duration": 312,
    "start_time": "2022-02-02T11:35:50.356Z"
   },
   {
    "duration": 88,
    "start_time": "2022-02-02T11:35:56.405Z"
   },
   {
    "duration": 83,
    "start_time": "2022-02-02T11:36:01.406Z"
   },
   {
    "duration": 352,
    "start_time": "2022-02-02T11:36:39.807Z"
   },
   {
    "duration": 314,
    "start_time": "2022-02-02T11:37:02.470Z"
   },
   {
    "duration": 21,
    "start_time": "2022-02-02T11:37:13.228Z"
   },
   {
    "duration": 59,
    "start_time": "2022-02-02T11:38:44.115Z"
   },
   {
    "duration": 89,
    "start_time": "2022-02-02T11:38:56.469Z"
   },
   {
    "duration": 88,
    "start_time": "2022-02-02T11:39:00.564Z"
   },
   {
    "duration": 14,
    "start_time": "2022-02-02T11:39:22.502Z"
   },
   {
    "duration": 24,
    "start_time": "2022-02-02T11:39:55.393Z"
   },
   {
    "duration": 3,
    "start_time": "2022-02-02T11:40:51.418Z"
   },
   {
    "duration": 300,
    "start_time": "2022-02-02T11:40:51.430Z"
   },
   {
    "duration": 25,
    "start_time": "2022-02-02T11:40:51.732Z"
   },
   {
    "duration": 84,
    "start_time": "2022-02-02T11:40:51.761Z"
   },
   {
    "duration": 15,
    "start_time": "2022-02-02T11:40:51.848Z"
   },
   {
    "duration": 109,
    "start_time": "2022-02-02T11:40:51.865Z"
   },
   {
    "duration": 15,
    "start_time": "2022-02-02T11:40:51.977Z"
   },
   {
    "duration": 63,
    "start_time": "2022-02-02T11:40:51.994Z"
   },
   {
    "duration": 24,
    "start_time": "2022-02-02T11:40:52.059Z"
   },
   {
    "duration": 7,
    "start_time": "2022-02-02T11:40:52.087Z"
   },
   {
    "duration": 58,
    "start_time": "2022-02-02T11:40:52.096Z"
   },
   {
    "duration": 17,
    "start_time": "2022-02-02T11:40:52.157Z"
   },
   {
    "duration": 16,
    "start_time": "2022-02-02T11:40:52.176Z"
   },
   {
    "duration": 27,
    "start_time": "2022-02-02T11:40:54.516Z"
   },
   {
    "duration": 11,
    "start_time": "2022-02-02T11:41:26.384Z"
   },
   {
    "duration": 349,
    "start_time": "2022-02-02T11:42:41.063Z"
   },
   {
    "duration": 12,
    "start_time": "2022-02-02T11:42:47.694Z"
   },
   {
    "duration": 315,
    "start_time": "2022-02-02T11:42:52.549Z"
   },
   {
    "duration": 66,
    "start_time": "2022-02-02T11:42:59.203Z"
   },
   {
    "duration": 302,
    "start_time": "2022-02-02T11:43:08.302Z"
   },
   {
    "duration": 106,
    "start_time": "2022-02-02T11:43:12.111Z"
   },
   {
    "duration": 106,
    "start_time": "2022-02-02T11:43:37.406Z"
   },
   {
    "duration": 575,
    "start_time": "2022-02-02T13:26:55.291Z"
   },
   {
    "duration": 178,
    "start_time": "2022-02-02T13:26:55.868Z"
   },
   {
    "duration": 9,
    "start_time": "2022-02-02T13:26:56.048Z"
   },
   {
    "duration": 28,
    "start_time": "2022-02-02T13:26:56.059Z"
   },
   {
    "duration": 38,
    "start_time": "2022-02-02T13:26:56.089Z"
   },
   {
    "duration": 79,
    "start_time": "2022-02-02T13:26:56.129Z"
   },
   {
    "duration": 19,
    "start_time": "2022-02-02T13:26:56.210Z"
   },
   {
    "duration": 16,
    "start_time": "2022-02-02T13:26:56.231Z"
   },
   {
    "duration": 17,
    "start_time": "2022-02-02T13:26:56.249Z"
   },
   {
    "duration": 5,
    "start_time": "2022-02-02T13:26:56.267Z"
   },
   {
    "duration": 15,
    "start_time": "2022-02-02T13:26:56.273Z"
   },
   {
    "duration": 45,
    "start_time": "2022-02-02T13:26:56.289Z"
   },
   {
    "duration": 11,
    "start_time": "2022-02-02T13:26:56.336Z"
   },
   {
    "duration": 16,
    "start_time": "2022-02-02T13:26:56.348Z"
   },
   {
    "duration": 7033,
    "start_time": "2022-02-02T13:33:38.792Z"
   },
   {
    "duration": 7070,
    "start_time": "2022-02-02T13:34:01.640Z"
   },
   {
    "duration": 7130,
    "start_time": "2022-02-02T13:34:22.935Z"
   },
   {
    "duration": 48,
    "start_time": "2022-02-02T13:34:39.704Z"
   },
   {
    "duration": 80,
    "start_time": "2022-02-02T13:36:05.353Z"
   },
   {
    "duration": 60,
    "start_time": "2022-02-02T13:36:35.125Z"
   },
   {
    "duration": 55,
    "start_time": "2022-02-02T13:36:47.325Z"
   },
   {
    "duration": 8,
    "start_time": "2022-02-02T13:37:53.320Z"
   },
   {
    "duration": 280,
    "start_time": "2022-02-02T13:43:57.450Z"
   },
   {
    "duration": 6919,
    "start_time": "2022-02-02T13:44:13.016Z"
   },
   {
    "duration": 7,
    "start_time": "2022-02-02T13:44:31.279Z"
   },
   {
    "duration": 6,
    "start_time": "2022-02-02T13:44:40.878Z"
   },
   {
    "duration": 93,
    "start_time": "2022-02-02T13:45:38.398Z"
   },
   {
    "duration": 283,
    "start_time": "2022-02-02T13:45:43.006Z"
   },
   {
    "duration": 9,
    "start_time": "2022-02-02T13:46:00.318Z"
   },
   {
    "duration": 9,
    "start_time": "2022-02-02T13:46:11.131Z"
   },
   {
    "duration": 8,
    "start_time": "2022-02-02T13:46:38.802Z"
   },
   {
    "duration": 1337,
    "start_time": "2022-02-02T13:55:05.213Z"
   },
   {
    "duration": 44,
    "start_time": "2022-02-02T13:56:06.048Z"
   },
   {
    "duration": 14,
    "start_time": "2022-02-02T13:56:13.709Z"
   },
   {
    "duration": 15,
    "start_time": "2022-02-02T13:56:23.658Z"
   },
   {
    "duration": 16,
    "start_time": "2022-02-02T13:56:37.127Z"
   },
   {
    "duration": 9,
    "start_time": "2022-02-02T13:57:00.819Z"
   },
   {
    "duration": 9,
    "start_time": "2022-02-02T13:57:11.899Z"
   },
   {
    "duration": 5,
    "start_time": "2022-02-02T13:57:26.691Z"
   },
   {
    "duration": 8,
    "start_time": "2022-02-02T13:57:42.901Z"
   },
   {
    "duration": 14,
    "start_time": "2022-02-02T13:57:57.739Z"
   },
   {
    "duration": 8,
    "start_time": "2022-02-02T13:57:57.755Z"
   },
   {
    "duration": 306,
    "start_time": "2022-02-02T13:57:57.765Z"
   },
   {
    "duration": 11,
    "start_time": "2022-02-02T13:58:03.464Z"
   },
   {
    "duration": 8,
    "start_time": "2022-02-02T13:58:29.892Z"
   },
   {
    "duration": 567,
    "start_time": "2022-02-02T13:58:46.127Z"
   },
   {
    "duration": 177,
    "start_time": "2022-02-02T13:58:46.696Z"
   },
   {
    "duration": 9,
    "start_time": "2022-02-02T13:58:46.875Z"
   },
   {
    "duration": 43,
    "start_time": "2022-02-02T13:58:46.886Z"
   },
   {
    "duration": 9,
    "start_time": "2022-02-02T13:58:46.930Z"
   },
   {
    "duration": 48,
    "start_time": "2022-02-02T13:58:46.940Z"
   },
   {
    "duration": 9,
    "start_time": "2022-02-02T13:58:46.989Z"
   },
   {
    "duration": 39,
    "start_time": "2022-02-02T13:58:47.000Z"
   },
   {
    "duration": 15,
    "start_time": "2022-02-02T13:58:47.041Z"
   },
   {
    "duration": 4,
    "start_time": "2022-02-02T13:58:47.058Z"
   },
   {
    "duration": 15,
    "start_time": "2022-02-02T13:58:47.063Z"
   },
   {
    "duration": 12,
    "start_time": "2022-02-02T13:58:47.079Z"
   },
   {
    "duration": 39,
    "start_time": "2022-02-02T13:58:47.092Z"
   },
   {
    "duration": 16,
    "start_time": "2022-02-02T13:58:49.646Z"
   },
   {
    "duration": 8,
    "start_time": "2022-02-02T13:58:53.330Z"
   },
   {
    "duration": 1534,
    "start_time": "2022-02-02T13:59:08.352Z"
   },
   {
    "duration": 318,
    "start_time": "2022-02-02T14:00:09.499Z"
   },
   {
    "duration": 584,
    "start_time": "2022-02-02T14:00:14.035Z"
   },
   {
    "duration": 174,
    "start_time": "2022-02-02T14:00:14.620Z"
   },
   {
    "duration": 9,
    "start_time": "2022-02-02T14:00:14.796Z"
   },
   {
    "duration": 36,
    "start_time": "2022-02-02T14:00:14.807Z"
   },
   {
    "duration": 9,
    "start_time": "2022-02-02T14:00:14.844Z"
   },
   {
    "duration": 53,
    "start_time": "2022-02-02T14:00:14.854Z"
   },
   {
    "duration": 25,
    "start_time": "2022-02-02T14:00:14.909Z"
   },
   {
    "duration": 24,
    "start_time": "2022-02-02T14:00:14.937Z"
   },
   {
    "duration": 26,
    "start_time": "2022-02-02T14:00:14.963Z"
   },
   {
    "duration": 6,
    "start_time": "2022-02-02T14:00:14.991Z"
   },
   {
    "duration": 46,
    "start_time": "2022-02-02T14:00:14.998Z"
   },
   {
    "duration": 14,
    "start_time": "2022-02-02T14:00:15.046Z"
   },
   {
    "duration": 10,
    "start_time": "2022-02-02T14:00:15.062Z"
   },
   {
    "duration": 15,
    "start_time": "2022-02-02T14:00:15.074Z"
   },
   {
    "duration": 1206,
    "start_time": "2022-02-02T14:00:16.460Z"
   },
   {
    "duration": 10,
    "start_time": "2022-02-02T14:00:50.751Z"
   },
   {
    "duration": 10,
    "start_time": "2022-02-02T14:04:32.773Z"
   },
   {
    "duration": 11,
    "start_time": "2022-02-02T14:04:38.250Z"
   },
   {
    "duration": 24,
    "start_time": "2022-02-02T14:05:29.262Z"
   },
   {
    "duration": 8,
    "start_time": "2022-02-02T14:05:53.361Z"
   },
   {
    "duration": 11,
    "start_time": "2022-02-02T14:06:50.607Z"
   },
   {
    "duration": 32,
    "start_time": "2022-02-02T14:07:06.317Z"
   },
   {
    "duration": 9,
    "start_time": "2022-02-02T14:08:52.678Z"
   },
   {
    "duration": 56,
    "start_time": "2022-02-02T14:10:03.799Z"
   },
   {
    "duration": 13,
    "start_time": "2022-02-02T14:10:22.895Z"
   },
   {
    "duration": 347,
    "start_time": "2022-02-02T14:14:20.504Z"
   },
   {
    "duration": 36,
    "start_time": "2022-02-02T14:14:38.900Z"
   },
   {
    "duration": 36,
    "start_time": "2022-02-02T14:14:43.082Z"
   },
   {
    "duration": 623,
    "start_time": "2022-02-02T14:15:15.830Z"
   },
   {
    "duration": 175,
    "start_time": "2022-02-02T14:15:16.455Z"
   },
   {
    "duration": 9,
    "start_time": "2022-02-02T14:15:16.632Z"
   },
   {
    "duration": 30,
    "start_time": "2022-02-02T14:15:16.643Z"
   },
   {
    "duration": 8,
    "start_time": "2022-02-02T14:15:16.675Z"
   },
   {
    "duration": 68,
    "start_time": "2022-02-02T14:15:16.684Z"
   },
   {
    "duration": 8,
    "start_time": "2022-02-02T14:15:16.754Z"
   },
   {
    "duration": 17,
    "start_time": "2022-02-02T14:15:16.764Z"
   },
   {
    "duration": 17,
    "start_time": "2022-02-02T14:15:16.783Z"
   },
   {
    "duration": 26,
    "start_time": "2022-02-02T14:15:16.801Z"
   },
   {
    "duration": 15,
    "start_time": "2022-02-02T14:15:16.829Z"
   },
   {
    "duration": 13,
    "start_time": "2022-02-02T14:15:16.845Z"
   },
   {
    "duration": 11,
    "start_time": "2022-02-02T14:15:16.859Z"
   },
   {
    "duration": 15,
    "start_time": "2022-02-02T14:15:16.871Z"
   },
   {
    "duration": 10,
    "start_time": "2022-02-02T14:15:16.887Z"
   },
   {
    "duration": 24,
    "start_time": "2022-02-02T14:15:25.519Z"
   },
   {
    "duration": 570,
    "start_time": "2022-02-02T14:16:09.490Z"
   },
   {
    "duration": 178,
    "start_time": "2022-02-02T14:16:10.062Z"
   },
   {
    "duration": 9,
    "start_time": "2022-02-02T14:16:10.241Z"
   },
   {
    "duration": 29,
    "start_time": "2022-02-02T14:16:10.252Z"
   },
   {
    "duration": 9,
    "start_time": "2022-02-02T14:16:10.282Z"
   },
   {
    "duration": 64,
    "start_time": "2022-02-02T14:16:10.292Z"
   },
   {
    "duration": 10,
    "start_time": "2022-02-02T14:16:10.357Z"
   },
   {
    "duration": 16,
    "start_time": "2022-02-02T14:16:10.368Z"
   },
   {
    "duration": 16,
    "start_time": "2022-02-02T14:16:10.386Z"
   },
   {
    "duration": 5,
    "start_time": "2022-02-02T14:16:10.427Z"
   },
   {
    "duration": 18,
    "start_time": "2022-02-02T14:16:10.434Z"
   },
   {
    "duration": 14,
    "start_time": "2022-02-02T14:16:10.454Z"
   },
   {
    "duration": 12,
    "start_time": "2022-02-02T14:16:10.469Z"
   },
   {
    "duration": 17,
    "start_time": "2022-02-02T14:16:10.482Z"
   },
   {
    "duration": 11,
    "start_time": "2022-02-02T14:16:10.527Z"
   },
   {
    "duration": 2,
    "start_time": "2022-02-02T14:18:51.354Z"
   },
   {
    "duration": 169,
    "start_time": "2022-02-02T14:18:51.360Z"
   },
   {
    "duration": 9,
    "start_time": "2022-02-02T14:18:51.531Z"
   },
   {
    "duration": 27,
    "start_time": "2022-02-02T14:18:51.541Z"
   },
   {
    "duration": 8,
    "start_time": "2022-02-02T14:18:51.570Z"
   },
   {
    "duration": 70,
    "start_time": "2022-02-02T14:18:51.579Z"
   },
   {
    "duration": 9,
    "start_time": "2022-02-02T14:18:51.651Z"
   },
   {
    "duration": 17,
    "start_time": "2022-02-02T14:18:51.662Z"
   },
   {
    "duration": 15,
    "start_time": "2022-02-02T14:18:51.681Z"
   },
   {
    "duration": 31,
    "start_time": "2022-02-02T14:18:51.698Z"
   },
   {
    "duration": 16,
    "start_time": "2022-02-02T14:18:51.730Z"
   },
   {
    "duration": 12,
    "start_time": "2022-02-02T14:18:51.747Z"
   },
   {
    "duration": 10,
    "start_time": "2022-02-02T14:18:51.760Z"
   },
   {
    "duration": 14,
    "start_time": "2022-02-02T14:18:51.771Z"
   },
   {
    "duration": 43,
    "start_time": "2022-02-02T14:18:51.786Z"
   },
   {
    "duration": 11,
    "start_time": "2022-02-02T14:19:11.428Z"
   },
   {
    "duration": 333,
    "start_time": "2022-02-02T14:19:26.108Z"
   },
   {
    "duration": 10,
    "start_time": "2022-02-02T14:19:41.708Z"
   },
   {
    "duration": 18,
    "start_time": "2022-02-02T14:20:00.606Z"
   },
   {
    "duration": 20,
    "start_time": "2022-02-02T14:20:07.968Z"
   },
   {
    "duration": 32,
    "start_time": "2022-02-02T14:21:59.351Z"
   },
   {
    "duration": 35,
    "start_time": "2022-02-02T14:22:04.852Z"
   },
   {
    "duration": 31,
    "start_time": "2022-02-02T14:22:21.266Z"
   },
   {
    "duration": 21,
    "start_time": "2022-02-02T14:28:15.842Z"
   },
   {
    "duration": 21,
    "start_time": "2022-02-02T14:28:28.506Z"
   },
   {
    "duration": 18,
    "start_time": "2022-02-02T14:28:28.535Z"
   },
   {
    "duration": 303,
    "start_time": "2022-02-02T14:28:28.554Z"
   },
   {
    "duration": 572,
    "start_time": "2022-02-02T14:28:45.763Z"
   },
   {
    "duration": 177,
    "start_time": "2022-02-02T14:28:46.338Z"
   },
   {
    "duration": 14,
    "start_time": "2022-02-02T14:28:46.517Z"
   },
   {
    "duration": 48,
    "start_time": "2022-02-02T14:28:46.533Z"
   },
   {
    "duration": 12,
    "start_time": "2022-02-02T14:28:46.583Z"
   },
   {
    "duration": 92,
    "start_time": "2022-02-02T14:28:46.597Z"
   },
   {
    "duration": 14,
    "start_time": "2022-02-02T14:28:46.690Z"
   },
   {
    "duration": 34,
    "start_time": "2022-02-02T14:28:46.706Z"
   },
   {
    "duration": 20,
    "start_time": "2022-02-02T14:28:46.742Z"
   },
   {
    "duration": 5,
    "start_time": "2022-02-02T14:28:46.763Z"
   },
   {
    "duration": 19,
    "start_time": "2022-02-02T14:28:46.770Z"
   },
   {
    "duration": 42,
    "start_time": "2022-02-02T14:28:46.791Z"
   },
   {
    "duration": 11,
    "start_time": "2022-02-02T14:28:46.835Z"
   },
   {
    "duration": 18,
    "start_time": "2022-02-02T14:28:46.848Z"
   },
   {
    "duration": 12,
    "start_time": "2022-02-02T14:28:46.867Z"
   },
   {
    "duration": 21,
    "start_time": "2022-02-02T14:28:52.126Z"
   },
   {
    "duration": 3,
    "start_time": "2022-02-02T14:30:42.158Z"
   },
   {
    "duration": 10,
    "start_time": "2022-02-02T14:30:45.930Z"
   },
   {
    "duration": 1617,
    "start_time": "2022-02-02T14:35:27.275Z"
   },
   {
    "duration": 190,
    "start_time": "2022-02-02T14:35:28.895Z"
   },
   {
    "duration": 12,
    "start_time": "2022-02-02T14:35:29.087Z"
   },
   {
    "duration": 51,
    "start_time": "2022-02-02T14:35:29.100Z"
   },
   {
    "duration": 12,
    "start_time": "2022-02-02T14:35:29.152Z"
   },
   {
    "duration": 76,
    "start_time": "2022-02-02T14:35:29.166Z"
   },
   {
    "duration": 11,
    "start_time": "2022-02-02T14:35:29.244Z"
   },
   {
    "duration": 21,
    "start_time": "2022-02-02T14:35:29.258Z"
   },
   {
    "duration": 20,
    "start_time": "2022-02-02T14:35:29.281Z"
   },
   {
    "duration": 5,
    "start_time": "2022-02-02T14:35:29.327Z"
   },
   {
    "duration": 23,
    "start_time": "2022-02-02T14:35:29.334Z"
   },
   {
    "duration": 13,
    "start_time": "2022-02-02T14:35:29.359Z"
   },
   {
    "duration": 10,
    "start_time": "2022-02-02T14:35:29.374Z"
   },
   {
    "duration": 14,
    "start_time": "2022-02-02T14:35:29.385Z"
   },
   {
    "duration": 30,
    "start_time": "2022-02-02T14:35:29.401Z"
   },
   {
    "duration": 21,
    "start_time": "2022-02-02T14:35:29.433Z"
   },
   {
    "duration": 9,
    "start_time": "2022-02-02T14:35:41.723Z"
   },
   {
    "duration": 29,
    "start_time": "2022-02-02T14:37:05.976Z"
   },
   {
    "duration": 372,
    "start_time": "2022-02-02T14:37:25.411Z"
   },
   {
    "duration": 7187,
    "start_time": "2022-02-02T14:37:35.020Z"
   },
   {
    "duration": 281,
    "start_time": "2022-02-02T14:37:48.018Z"
   },
   {
    "duration": 421,
    "start_time": "2022-02-02T14:37:56.124Z"
   },
   {
    "duration": 8,
    "start_time": "2022-02-02T14:38:15.358Z"
   },
   {
    "duration": 12,
    "start_time": "2022-02-02T14:44:16.968Z"
   },
   {
    "duration": 16,
    "start_time": "2022-02-02T14:44:45.837Z"
   },
   {
    "duration": 14,
    "start_time": "2022-02-02T14:45:03.267Z"
   },
   {
    "duration": 19,
    "start_time": "2022-02-02T14:45:44.777Z"
   },
   {
    "duration": 531,
    "start_time": "2022-02-02T14:45:55.260Z"
   },
   {
    "duration": 176,
    "start_time": "2022-02-02T14:45:55.793Z"
   },
   {
    "duration": 9,
    "start_time": "2022-02-02T14:45:55.971Z"
   },
   {
    "duration": 27,
    "start_time": "2022-02-02T14:45:55.982Z"
   },
   {
    "duration": 30,
    "start_time": "2022-02-02T14:45:56.011Z"
   },
   {
    "duration": 49,
    "start_time": "2022-02-02T14:45:56.042Z"
   },
   {
    "duration": 9,
    "start_time": "2022-02-02T14:45:56.093Z"
   },
   {
    "duration": 39,
    "start_time": "2022-02-02T14:45:56.105Z"
   },
   {
    "duration": 24,
    "start_time": "2022-02-02T14:45:56.146Z"
   },
   {
    "duration": 6,
    "start_time": "2022-02-02T14:45:56.172Z"
   },
   {
    "duration": 15,
    "start_time": "2022-02-02T14:45:56.180Z"
   },
   {
    "duration": 36,
    "start_time": "2022-02-02T14:45:56.197Z"
   },
   {
    "duration": 11,
    "start_time": "2022-02-02T14:45:56.234Z"
   },
   {
    "duration": 15,
    "start_time": "2022-02-02T14:45:56.247Z"
   },
   {
    "duration": 11,
    "start_time": "2022-02-02T14:45:56.263Z"
   },
   {
    "duration": 20,
    "start_time": "2022-02-02T14:45:56.275Z"
   },
   {
    "duration": 38,
    "start_time": "2022-02-02T14:45:56.296Z"
   },
   {
    "duration": 20,
    "start_time": "2022-02-02T14:45:59.979Z"
   },
   {
    "duration": 19,
    "start_time": "2022-02-02T14:46:13.797Z"
   },
   {
    "duration": 12,
    "start_time": "2022-02-02T15:04:51.987Z"
   },
   {
    "duration": 376,
    "start_time": "2022-02-02T15:05:13.377Z"
   },
   {
    "duration": 593,
    "start_time": "2022-02-02T15:05:24.104Z"
   },
   {
    "duration": 174,
    "start_time": "2022-02-02T15:05:24.699Z"
   },
   {
    "duration": 9,
    "start_time": "2022-02-02T15:05:24.875Z"
   },
   {
    "duration": 43,
    "start_time": "2022-02-02T15:05:24.885Z"
   },
   {
    "duration": 9,
    "start_time": "2022-02-02T15:05:24.929Z"
   },
   {
    "duration": 50,
    "start_time": "2022-02-02T15:05:24.939Z"
   },
   {
    "duration": 9,
    "start_time": "2022-02-02T15:05:24.991Z"
   },
   {
    "duration": 36,
    "start_time": "2022-02-02T15:05:25.002Z"
   },
   {
    "duration": 20,
    "start_time": "2022-02-02T15:05:25.040Z"
   },
   {
    "duration": 5,
    "start_time": "2022-02-02T15:05:25.061Z"
   },
   {
    "duration": 14,
    "start_time": "2022-02-02T15:05:25.067Z"
   },
   {
    "duration": 13,
    "start_time": "2022-02-02T15:05:25.082Z"
   },
   {
    "duration": 11,
    "start_time": "2022-02-02T15:05:25.127Z"
   },
   {
    "duration": 15,
    "start_time": "2022-02-02T15:05:25.139Z"
   },
   {
    "duration": 10,
    "start_time": "2022-02-02T15:05:25.156Z"
   },
   {
    "duration": 20,
    "start_time": "2022-02-02T15:05:25.167Z"
   },
   {
    "duration": 7,
    "start_time": "2022-02-02T15:05:25.189Z"
   },
   {
    "duration": 44,
    "start_time": "2022-02-02T15:05:25.197Z"
   },
   {
    "duration": 15,
    "start_time": "2022-02-02T15:05:29.143Z"
   },
   {
    "duration": 33,
    "start_time": "2022-02-02T15:05:51.310Z"
   },
   {
    "duration": 26,
    "start_time": "2022-02-02T15:06:44.228Z"
   },
   {
    "duration": 337,
    "start_time": "2022-02-02T15:14:18.213Z"
   },
   {
    "duration": 16,
    "start_time": "2022-02-02T15:14:23.411Z"
   },
   {
    "duration": 21,
    "start_time": "2022-02-02T15:15:55.004Z"
   },
   {
    "duration": 24,
    "start_time": "2022-02-02T15:16:19.682Z"
   },
   {
    "duration": 17,
    "start_time": "2022-02-02T15:16:29.903Z"
   },
   {
    "duration": 25,
    "start_time": "2022-02-02T15:16:54.138Z"
   },
   {
    "duration": 38,
    "start_time": "2022-02-02T15:17:07.012Z"
   },
   {
    "duration": 303,
    "start_time": "2022-02-02T15:19:25.750Z"
   },
   {
    "duration": 294,
    "start_time": "2022-02-02T15:19:32.584Z"
   },
   {
    "duration": 12,
    "start_time": "2022-02-02T15:28:01.647Z"
   },
   {
    "duration": 32,
    "start_time": "2022-02-02T15:28:05.019Z"
   },
   {
    "duration": 24,
    "start_time": "2022-02-02T15:28:20.126Z"
   },
   {
    "duration": 33,
    "start_time": "2022-02-02T15:29:24.190Z"
   },
   {
    "duration": 35,
    "start_time": "2022-02-02T15:33:27.792Z"
   },
   {
    "duration": 15,
    "start_time": "2022-02-02T15:35:41.735Z"
   },
   {
    "duration": 26,
    "start_time": "2022-02-02T15:35:49.108Z"
   },
   {
    "duration": 33,
    "start_time": "2022-02-02T15:36:24.719Z"
   },
   {
    "duration": 33,
    "start_time": "2022-02-02T15:38:03.634Z"
   },
   {
    "duration": 3,
    "start_time": "2022-02-02T15:39:51.701Z"
   },
   {
    "duration": 3,
    "start_time": "2022-02-02T15:39:55.532Z"
   },
   {
    "duration": 11,
    "start_time": "2022-02-02T15:43:04.498Z"
   },
   {
    "duration": 126,
    "start_time": "2022-02-02T15:43:12.330Z"
   },
   {
    "duration": 10,
    "start_time": "2022-02-02T15:43:15.578Z"
   },
   {
    "duration": 15,
    "start_time": "2022-02-02T15:43:38.371Z"
   },
   {
    "duration": 28,
    "start_time": "2022-02-02T15:43:44.341Z"
   },
   {
    "duration": 29,
    "start_time": "2022-02-02T15:44:02.480Z"
   },
   {
    "duration": 30,
    "start_time": "2022-02-02T15:44:14.488Z"
   },
   {
    "duration": 9,
    "start_time": "2022-02-02T15:44:49.316Z"
   },
   {
    "duration": 225,
    "start_time": "2022-02-02T15:53:24.607Z"
   },
   {
    "duration": 162,
    "start_time": "2022-02-02T15:53:47.642Z"
   },
   {
    "duration": 156,
    "start_time": "2022-02-02T15:53:51.654Z"
   },
   {
    "duration": 227,
    "start_time": "2022-02-02T15:53:55.412Z"
   },
   {
    "duration": 275,
    "start_time": "2022-02-02T15:54:53.998Z"
   },
   {
    "duration": -613,
    "start_time": "2022-02-02T15:55:10.317Z"
   },
   {
    "duration": 511,
    "start_time": "2022-02-02T15:55:12.401Z"
   },
   {
    "duration": 217,
    "start_time": "2022-02-02T15:55:17.497Z"
   },
   {
    "duration": 164,
    "start_time": "2022-02-02T15:55:20.974Z"
   },
   {
    "duration": 301,
    "start_time": "2022-02-02T15:55:24.212Z"
   },
   {
    "duration": 268,
    "start_time": "2022-02-02T15:55:28.001Z"
   },
   {
    "duration": 468,
    "start_time": "2022-02-02T15:55:31.360Z"
   },
   {
    "duration": 475,
    "start_time": "2022-02-02T15:56:16.599Z"
   },
   {
    "duration": 158,
    "start_time": "2022-02-02T15:56:25.907Z"
   },
   {
    "duration": 210,
    "start_time": "2022-02-02T15:56:29.765Z"
   },
   {
    "duration": 218,
    "start_time": "2022-02-02T15:56:34.515Z"
   },
   {
    "duration": 158,
    "start_time": "2022-02-02T15:56:46.022Z"
   },
   {
    "duration": 164,
    "start_time": "2022-02-02T15:57:02.189Z"
   },
   {
    "duration": 211,
    "start_time": "2022-02-02T15:57:05.442Z"
   },
   {
    "duration": 208,
    "start_time": "2022-02-02T15:58:31.193Z"
   },
   {
    "duration": 210,
    "start_time": "2022-02-02T15:59:04.863Z"
   },
   {
    "duration": 187,
    "start_time": "2022-02-02T15:59:12.612Z"
   },
   {
    "duration": 160,
    "start_time": "2022-02-02T15:59:25.116Z"
   },
   {
    "duration": 323,
    "start_time": "2022-02-02T15:59:29.690Z"
   },
   {
    "duration": 540,
    "start_time": "2022-02-02T15:59:43.164Z"
   },
   {
    "duration": 182,
    "start_time": "2022-02-02T15:59:43.706Z"
   },
   {
    "duration": 9,
    "start_time": "2022-02-02T15:59:43.890Z"
   },
   {
    "duration": 39,
    "start_time": "2022-02-02T15:59:43.901Z"
   },
   {
    "duration": 9,
    "start_time": "2022-02-02T15:59:43.941Z"
   },
   {
    "duration": 89,
    "start_time": "2022-02-02T15:59:43.952Z"
   },
   {
    "duration": 13,
    "start_time": "2022-02-02T15:59:44.043Z"
   },
   {
    "duration": 27,
    "start_time": "2022-02-02T15:59:44.058Z"
   },
   {
    "duration": 47,
    "start_time": "2022-02-02T15:59:44.087Z"
   },
   {
    "duration": 7,
    "start_time": "2022-02-02T15:59:44.136Z"
   },
   {
    "duration": 20,
    "start_time": "2022-02-02T15:59:44.144Z"
   },
   {
    "duration": 17,
    "start_time": "2022-02-02T15:59:44.166Z"
   },
   {
    "duration": 15,
    "start_time": "2022-02-02T15:59:44.185Z"
   },
   {
    "duration": 24,
    "start_time": "2022-02-02T15:59:44.228Z"
   },
   {
    "duration": 15,
    "start_time": "2022-02-02T15:59:44.254Z"
   },
   {
    "duration": 22,
    "start_time": "2022-02-02T15:59:44.271Z"
   },
   {
    "duration": 7,
    "start_time": "2022-02-02T15:59:44.294Z"
   },
   {
    "duration": 45,
    "start_time": "2022-02-02T15:59:44.302Z"
   },
   {
    "duration": 9,
    "start_time": "2022-02-02T15:59:44.349Z"
   },
   {
    "duration": 34,
    "start_time": "2022-02-02T15:59:44.360Z"
   },
   {
    "duration": 38,
    "start_time": "2022-02-02T15:59:44.395Z"
   },
   {
    "duration": 20,
    "start_time": "2022-02-02T15:59:44.434Z"
   },
   {
    "duration": 31,
    "start_time": "2022-02-02T15:59:44.456Z"
   },
   {
    "duration": 58,
    "start_time": "2022-02-02T15:59:44.488Z"
   },
   {
    "duration": 374,
    "start_time": "2022-02-02T15:59:47.403Z"
   },
   {
    "duration": 214,
    "start_time": "2022-02-02T15:59:49.977Z"
   },
   {
    "duration": 262,
    "start_time": "2022-02-02T16:00:30.746Z"
   },
   {
    "duration": 164,
    "start_time": "2022-02-02T16:00:35.082Z"
   },
   {
    "duration": 166,
    "start_time": "2022-02-02T16:00:42.421Z"
   },
   {
    "duration": 166,
    "start_time": "2022-02-02T16:00:53.309Z"
   },
   {
    "duration": 235,
    "start_time": "2022-02-02T16:00:58.239Z"
   },
   {
    "duration": 259,
    "start_time": "2022-02-02T16:01:05.970Z"
   },
   {
    "duration": 223,
    "start_time": "2022-02-02T16:01:10.104Z"
   },
   {
    "duration": 225,
    "start_time": "2022-02-02T16:01:44.916Z"
   },
   {
    "duration": 172,
    "start_time": "2022-02-02T16:01:49.480Z"
   },
   {
    "duration": 149,
    "start_time": "2022-02-02T16:01:55.411Z"
   },
   {
    "duration": 155,
    "start_time": "2022-02-02T16:01:59.185Z"
   },
   {
    "duration": 235,
    "start_time": "2022-02-02T16:02:01.768Z"
   },
   {
    "duration": 720,
    "start_time": "2022-02-02T16:44:30.371Z"
   },
   {
    "duration": 158,
    "start_time": "2022-02-02T16:44:53.074Z"
   },
   {
    "duration": 155,
    "start_time": "2022-02-02T16:45:00.261Z"
   },
   {
    "duration": 170,
    "start_time": "2022-02-02T16:45:07.235Z"
   },
   {
    "duration": 155,
    "start_time": "2022-02-02T16:45:22.687Z"
   },
   {
    "duration": 155,
    "start_time": "2022-02-02T16:45:29.771Z"
   },
   {
    "duration": 207,
    "start_time": "2022-02-02T16:45:37.005Z"
   },
   {
    "duration": 228,
    "start_time": "2022-02-02T16:45:43.503Z"
   },
   {
    "duration": 105,
    "start_time": "2022-02-02T16:46:43.464Z"
   },
   {
    "duration": 227,
    "start_time": "2022-02-02T16:46:49.445Z"
   },
   {
    "duration": 214,
    "start_time": "2022-02-02T16:47:34.171Z"
   },
   {
    "duration": 232,
    "start_time": "2022-02-02T16:47:43.672Z"
   },
   {
    "duration": 172,
    "start_time": "2022-02-02T16:47:47.220Z"
   },
   {
    "duration": 168,
    "start_time": "2022-02-02T16:47:52.699Z"
   },
   {
    "duration": 163,
    "start_time": "2022-02-02T16:47:56.701Z"
   },
   {
    "duration": 557,
    "start_time": "2022-02-02T16:48:07.773Z"
   },
   {
    "duration": 663,
    "start_time": "2022-02-02T16:48:18.423Z"
   },
   {
    "duration": 297,
    "start_time": "2022-02-02T16:48:32.448Z"
   },
   {
    "duration": 290,
    "start_time": "2022-02-02T16:48:38.267Z"
   },
   {
    "duration": 97,
    "start_time": "2022-02-02T16:49:09.394Z"
   },
   {
    "duration": 213,
    "start_time": "2022-02-02T16:49:15.005Z"
   },
   {
    "duration": 150,
    "start_time": "2022-02-02T16:49:27.237Z"
   },
   {
    "duration": 160,
    "start_time": "2022-02-02T16:49:33.343Z"
   },
   {
    "duration": 165,
    "start_time": "2022-02-02T16:49:40.424Z"
   },
   {
    "duration": 158,
    "start_time": "2022-02-02T16:49:44.058Z"
   },
   {
    "duration": 163,
    "start_time": "2022-02-02T16:49:48.934Z"
   },
   {
    "duration": 166,
    "start_time": "2022-02-02T16:49:52.186Z"
   },
   {
    "duration": 178,
    "start_time": "2022-02-02T16:50:01.937Z"
   },
   {
    "duration": 155,
    "start_time": "2022-02-02T16:50:05.909Z"
   },
   {
    "duration": 584,
    "start_time": "2022-02-02T16:51:40.898Z"
   },
   {
    "duration": 170,
    "start_time": "2022-02-02T16:51:41.484Z"
   },
   {
    "duration": 9,
    "start_time": "2022-02-02T16:51:41.655Z"
   },
   {
    "duration": 31,
    "start_time": "2022-02-02T16:51:41.666Z"
   },
   {
    "duration": 9,
    "start_time": "2022-02-02T16:51:41.698Z"
   },
   {
    "duration": 63,
    "start_time": "2022-02-02T16:51:41.708Z"
   },
   {
    "duration": 9,
    "start_time": "2022-02-02T16:51:41.773Z"
   },
   {
    "duration": 2,
    "start_time": "2022-02-02T16:51:41.785Z"
   },
   {
    "duration": 39,
    "start_time": "2022-02-02T16:51:41.789Z"
   },
   {
    "duration": 4,
    "start_time": "2022-02-02T16:51:41.830Z"
   },
   {
    "duration": 14,
    "start_time": "2022-02-02T16:51:41.836Z"
   },
   {
    "duration": 12,
    "start_time": "2022-02-02T16:51:41.851Z"
   },
   {
    "duration": 9,
    "start_time": "2022-02-02T16:51:41.865Z"
   },
   {
    "duration": 14,
    "start_time": "2022-02-02T16:51:41.876Z"
   },
   {
    "duration": 38,
    "start_time": "2022-02-02T16:51:41.892Z"
   },
   {
    "duration": 19,
    "start_time": "2022-02-02T16:51:41.932Z"
   },
   {
    "duration": 7,
    "start_time": "2022-02-02T16:51:41.952Z"
   },
   {
    "duration": 19,
    "start_time": "2022-02-02T16:51:41.960Z"
   },
   {
    "duration": 9,
    "start_time": "2022-02-02T16:51:41.980Z"
   },
   {
    "duration": 62,
    "start_time": "2022-02-02T16:51:41.991Z"
   },
   {
    "duration": 17,
    "start_time": "2022-02-02T16:51:42.055Z"
   },
   {
    "duration": 21,
    "start_time": "2022-02-02T16:51:42.073Z"
   },
   {
    "duration": 47,
    "start_time": "2022-02-02T16:51:42.096Z"
   },
   {
    "duration": 32,
    "start_time": "2022-02-02T16:51:42.144Z"
   },
   {
    "duration": 377,
    "start_time": "2022-02-02T16:51:42.178Z"
   },
   {
    "duration": 326,
    "start_time": "2022-02-02T16:51:42.557Z"
   },
   {
    "duration": 162,
    "start_time": "2022-02-02T16:51:42.885Z"
   },
   {
    "duration": 158,
    "start_time": "2022-02-02T16:51:46.399Z"
   },
   {
    "duration": 2,
    "start_time": "2022-02-02T16:56:11.872Z"
   },
   {
    "duration": 172,
    "start_time": "2022-02-02T16:56:11.876Z"
   },
   {
    "duration": 8,
    "start_time": "2022-02-02T16:56:12.050Z"
   },
   {
    "duration": 158,
    "start_time": "2022-02-02T16:57:34.271Z"
   },
   {
    "duration": 239,
    "start_time": "2022-02-02T16:57:46.627Z"
   },
   {
    "duration": 281,
    "start_time": "2022-02-02T16:57:50.987Z"
   },
   {
    "duration": 285,
    "start_time": "2022-02-02T16:57:57.464Z"
   },
   {
    "duration": 300,
    "start_time": "2022-02-02T16:58:04.033Z"
   },
   {
    "duration": 1575,
    "start_time": "2022-02-02T16:58:09.930Z"
   },
   {
    "duration": 384,
    "start_time": "2022-02-02T16:58:15.169Z"
   },
   {
    "duration": 297,
    "start_time": "2022-02-02T17:34:48.809Z"
   },
   {
    "duration": 688,
    "start_time": "2022-02-02T17:34:58.649Z"
   },
   {
    "duration": 173,
    "start_time": "2022-02-02T17:34:59.339Z"
   },
   {
    "duration": 8,
    "start_time": "2022-02-02T17:34:59.514Z"
   },
   {
    "duration": 43,
    "start_time": "2022-02-02T17:34:59.527Z"
   },
   {
    "duration": 9,
    "start_time": "2022-02-02T17:34:59.571Z"
   },
   {
    "duration": 49,
    "start_time": "2022-02-02T17:34:59.581Z"
   },
   {
    "duration": 9,
    "start_time": "2022-02-02T17:34:59.632Z"
   },
   {
    "duration": 2,
    "start_time": "2022-02-02T17:34:59.643Z"
   },
   {
    "duration": 21,
    "start_time": "2022-02-02T17:34:59.646Z"
   },
   {
    "duration": 4,
    "start_time": "2022-02-02T17:34:59.668Z"
   },
   {
    "duration": 24,
    "start_time": "2022-02-02T17:34:59.673Z"
   },
   {
    "duration": 30,
    "start_time": "2022-02-02T17:34:59.698Z"
   },
   {
    "duration": 11,
    "start_time": "2022-02-02T17:34:59.729Z"
   },
   {
    "duration": 15,
    "start_time": "2022-02-02T17:34:59.741Z"
   },
   {
    "duration": 10,
    "start_time": "2022-02-02T17:34:59.757Z"
   },
   {
    "duration": 20,
    "start_time": "2022-02-02T17:34:59.768Z"
   },
   {
    "duration": 9,
    "start_time": "2022-02-02T17:34:59.789Z"
   },
   {
    "duration": 2,
    "start_time": "2022-02-02T17:34:59.827Z"
   },
   {
    "duration": 12,
    "start_time": "2022-02-02T17:34:59.830Z"
   },
   {
    "duration": 35,
    "start_time": "2022-02-02T17:34:59.843Z"
   },
   {
    "duration": 18,
    "start_time": "2022-02-02T17:34:59.879Z"
   },
   {
    "duration": 40,
    "start_time": "2022-02-02T17:34:59.898Z"
   },
   {
    "duration": 33,
    "start_time": "2022-02-02T17:34:59.940Z"
   },
   {
    "duration": 54,
    "start_time": "2022-02-02T17:34:59.974Z"
   },
   {
    "duration": 376,
    "start_time": "2022-02-02T17:35:00.030Z"
   },
   {
    "duration": 335,
    "start_time": "2022-02-02T17:35:00.407Z"
   },
   {
    "duration": 172,
    "start_time": "2022-02-02T17:35:00.744Z"
   },
   {
    "duration": 174,
    "start_time": "2022-02-02T17:35:00.917Z"
   },
   {
    "duration": 312,
    "start_time": "2022-02-02T17:35:01.092Z"
   },
   {
    "duration": 305,
    "start_time": "2022-02-02T17:35:37.311Z"
   },
   {
    "duration": 305,
    "start_time": "2022-02-02T17:36:14.338Z"
   },
   {
    "duration": 307,
    "start_time": "2022-02-02T17:36:25.772Z"
   },
   {
    "duration": 360,
    "start_time": "2022-02-02T17:37:35.433Z"
   },
   {
    "duration": 292,
    "start_time": "2022-02-02T17:37:56.137Z"
   },
   {
    "duration": 7232,
    "start_time": "2022-02-02T17:41:22.515Z"
   },
   {
    "duration": 7046,
    "start_time": "2022-02-02T17:41:32.214Z"
   },
   {
    "duration": 2,
    "start_time": "2022-02-02T17:41:43.569Z"
   },
   {
    "duration": 169,
    "start_time": "2022-02-02T17:41:43.575Z"
   },
   {
    "duration": 9,
    "start_time": "2022-02-02T17:41:43.746Z"
   },
   {
    "duration": 27,
    "start_time": "2022-02-02T17:41:43.756Z"
   },
   {
    "duration": 8,
    "start_time": "2022-02-02T17:41:43.785Z"
   },
   {
    "duration": 68,
    "start_time": "2022-02-02T17:41:43.794Z"
   },
   {
    "duration": 10,
    "start_time": "2022-02-02T17:41:43.863Z"
   },
   {
    "duration": 2,
    "start_time": "2022-02-02T17:41:43.874Z"
   },
   {
    "duration": 18,
    "start_time": "2022-02-02T17:41:43.878Z"
   },
   {
    "duration": 4,
    "start_time": "2022-02-02T17:41:43.898Z"
   },
   {
    "duration": 11,
    "start_time": "2022-02-02T17:41:43.928Z"
   },
   {
    "duration": 10,
    "start_time": "2022-02-02T17:41:43.940Z"
   },
   {
    "duration": 10,
    "start_time": "2022-02-02T17:41:43.952Z"
   },
   {
    "duration": 12,
    "start_time": "2022-02-02T17:41:43.963Z"
   },
   {
    "duration": 10,
    "start_time": "2022-02-02T17:41:43.977Z"
   },
   {
    "duration": 49,
    "start_time": "2022-02-02T17:41:43.988Z"
   },
   {
    "duration": 8,
    "start_time": "2022-02-02T17:41:44.039Z"
   },
   {
    "duration": 4,
    "start_time": "2022-02-02T17:41:44.048Z"
   },
   {
    "duration": 12,
    "start_time": "2022-02-02T17:41:44.054Z"
   },
   {
    "duration": 59,
    "start_time": "2022-02-02T17:41:44.068Z"
   },
   {
    "duration": 19,
    "start_time": "2022-02-02T17:41:44.128Z"
   },
   {
    "duration": 20,
    "start_time": "2022-02-02T17:41:44.149Z"
   },
   {
    "duration": 56,
    "start_time": "2022-02-02T17:41:44.171Z"
   },
   {
    "duration": 35,
    "start_time": "2022-02-02T17:41:44.228Z"
   },
   {
    "duration": 313,
    "start_time": "2022-02-02T17:41:44.265Z"
   },
   {
    "duration": 309,
    "start_time": "2022-02-02T17:41:44.579Z"
   },
   {
    "duration": 7823,
    "start_time": "2022-02-02T17:41:44.890Z"
   },
   {
    "duration": -66,
    "start_time": "2022-02-02T17:41:52.781Z"
   },
   {
    "duration": -69,
    "start_time": "2022-02-02T17:41:52.785Z"
   },
   {
    "duration": 164,
    "start_time": "2022-02-02T17:42:08.559Z"
   },
   {
    "duration": 162,
    "start_time": "2022-02-02T17:42:23.935Z"
   },
   {
    "duration": 161,
    "start_time": "2022-02-02T17:42:38.400Z"
   },
   {
    "duration": 570,
    "start_time": "2022-02-02T17:42:42.044Z"
   },
   {
    "duration": 312,
    "start_time": "2022-02-02T17:43:07.669Z"
   },
   {
    "duration": 3,
    "start_time": "2022-02-02T17:49:17.251Z"
   },
   {
    "duration": 420,
    "start_time": "2022-02-02T17:50:32.345Z"
   },
   {
    "duration": 297,
    "start_time": "2022-02-02T18:06:36.325Z"
   },
   {
    "duration": 309,
    "start_time": "2022-02-02T18:06:53.596Z"
   },
   {
    "duration": 294,
    "start_time": "2022-02-02T18:07:32.437Z"
   },
   {
    "duration": 408,
    "start_time": "2022-02-02T18:07:55.295Z"
   },
   {
    "duration": 300,
    "start_time": "2022-02-02T18:11:52.710Z"
   },
   {
    "duration": 165,
    "start_time": "2022-02-02T18:12:15.314Z"
   },
   {
    "duration": 30,
    "start_time": "2022-02-02T18:15:02.491Z"
   },
   {
    "duration": 7,
    "start_time": "2022-02-02T18:16:16.029Z"
   },
   {
    "duration": 7,
    "start_time": "2022-02-02T19:02:38.302Z"
   },
   {
    "duration": 442,
    "start_time": "2022-02-02T19:03:06.712Z"
   },
   {
    "duration": 8,
    "start_time": "2022-02-02T19:03:37.972Z"
   },
   {
    "duration": 11,
    "start_time": "2022-02-02T19:03:52.649Z"
   },
   {
    "duration": 7,
    "start_time": "2022-02-02T19:05:21.852Z"
   },
   {
    "duration": 163,
    "start_time": "2022-02-02T19:05:56.651Z"
   },
   {
    "duration": 279,
    "start_time": "2022-02-02T19:06:07.247Z"
   },
   {
    "duration": 161,
    "start_time": "2022-02-02T19:06:20.870Z"
   },
   {
    "duration": 8,
    "start_time": "2022-02-02T19:09:55.162Z"
   },
   {
    "duration": 22,
    "start_time": "2022-02-02T19:10:33.751Z"
   },
   {
    "duration": 24,
    "start_time": "2022-02-02T19:13:43.967Z"
   },
   {
    "duration": 10,
    "start_time": "2022-02-02T19:15:43.474Z"
   },
   {
    "duration": 151,
    "start_time": "2022-02-02T19:16:47.786Z"
   },
   {
    "duration": 25,
    "start_time": "2022-02-02T19:17:47.530Z"
   },
   {
    "duration": 24,
    "start_time": "2022-02-02T19:22:20.892Z"
   },
   {
    "duration": 270,
    "start_time": "2022-02-02T19:23:41.307Z"
   },
   {
    "duration": 153,
    "start_time": "2022-02-02T19:23:44.371Z"
   },
   {
    "duration": 178,
    "start_time": "2022-02-02T19:23:54.215Z"
   },
   {
    "duration": 394,
    "start_time": "2022-02-02T19:24:45.584Z"
   },
   {
    "duration": 428,
    "start_time": "2022-02-02T19:25:06.754Z"
   },
   {
    "duration": 43,
    "start_time": "2022-02-02T19:27:19.075Z"
   },
   {
    "duration": 34,
    "start_time": "2022-02-02T19:27:33.315Z"
   },
   {
    "duration": 26,
    "start_time": "2022-02-02T19:28:03.638Z"
   },
   {
    "duration": 262,
    "start_time": "2022-02-02T19:31:03.234Z"
   },
   {
    "duration": 22,
    "start_time": "2022-02-02T19:31:48.691Z"
   },
   {
    "duration": 102,
    "start_time": "2022-02-02T19:32:40.288Z"
   },
   {
    "duration": 165,
    "start_time": "2022-02-02T19:32:44.605Z"
   },
   {
    "duration": 163,
    "start_time": "2022-02-02T19:32:52.890Z"
   },
   {
    "duration": 30,
    "start_time": "2022-02-02T19:33:34.549Z"
   },
   {
    "duration": 106,
    "start_time": "2022-02-02T19:34:00.678Z"
   },
   {
    "duration": 26,
    "start_time": "2022-02-02T19:34:05.177Z"
   },
   {
    "duration": 28,
    "start_time": "2022-02-02T19:45:26.511Z"
   },
   {
    "duration": 28,
    "start_time": "2022-02-02T19:45:53.907Z"
   },
   {
    "duration": 26,
    "start_time": "2022-02-02T19:47:19.005Z"
   },
   {
    "duration": 28,
    "start_time": "2022-02-02T19:48:26.539Z"
   },
   {
    "duration": 27,
    "start_time": "2022-02-02T19:49:51.786Z"
   },
   {
    "duration": 8841,
    "start_time": "2022-02-02T19:50:30.784Z"
   },
   {
    "duration": 279,
    "start_time": "2022-02-02T19:51:05.584Z"
   },
   {
    "duration": 330,
    "start_time": "2022-02-02T19:54:13.486Z"
   },
   {
    "duration": 294,
    "start_time": "2022-02-02T19:56:15.259Z"
   },
   {
    "duration": 18,
    "start_time": "2022-02-02T19:56:27.029Z"
   },
   {
    "duration": 13,
    "start_time": "2022-02-02T19:56:59.117Z"
   },
   {
    "duration": 27,
    "start_time": "2022-02-02T19:57:53.178Z"
   },
   {
    "duration": 644,
    "start_time": "2022-02-02T19:58:23.316Z"
   },
   {
    "duration": 167,
    "start_time": "2022-02-02T19:58:23.962Z"
   },
   {
    "duration": 9,
    "start_time": "2022-02-02T19:58:24.132Z"
   },
   {
    "duration": 28,
    "start_time": "2022-02-02T19:58:24.143Z"
   },
   {
    "duration": 12,
    "start_time": "2022-02-02T19:58:24.172Z"
   },
   {
    "duration": 92,
    "start_time": "2022-02-02T19:58:24.186Z"
   },
   {
    "duration": 10,
    "start_time": "2022-02-02T19:58:24.280Z"
   },
   {
    "duration": 4,
    "start_time": "2022-02-02T19:58:24.293Z"
   },
   {
    "duration": 34,
    "start_time": "2022-02-02T19:58:24.299Z"
   },
   {
    "duration": 5,
    "start_time": "2022-02-02T19:58:24.334Z"
   },
   {
    "duration": 13,
    "start_time": "2022-02-02T19:58:24.341Z"
   },
   {
    "duration": 17,
    "start_time": "2022-02-02T19:58:24.356Z"
   },
   {
    "duration": 14,
    "start_time": "2022-02-02T19:58:24.375Z"
   },
   {
    "duration": 50,
    "start_time": "2022-02-02T19:58:24.390Z"
   },
   {
    "duration": 14,
    "start_time": "2022-02-02T19:58:24.441Z"
   },
   {
    "duration": 28,
    "start_time": "2022-02-02T19:58:24.456Z"
   },
   {
    "duration": 9,
    "start_time": "2022-02-02T19:58:24.486Z"
   },
   {
    "duration": 3,
    "start_time": "2022-02-02T19:58:24.497Z"
   },
   {
    "duration": 12,
    "start_time": "2022-02-02T19:58:24.527Z"
   },
   {
    "duration": 37,
    "start_time": "2022-02-02T19:58:24.540Z"
   },
   {
    "duration": 18,
    "start_time": "2022-02-02T19:58:24.578Z"
   },
   {
    "duration": 40,
    "start_time": "2022-02-02T19:58:24.597Z"
   },
   {
    "duration": 33,
    "start_time": "2022-02-02T19:58:24.640Z"
   },
   {
    "duration": 31,
    "start_time": "2022-02-02T19:58:24.674Z"
   },
   {
    "duration": 320,
    "start_time": "2022-02-02T19:58:24.707Z"
   },
   {
    "duration": 163,
    "start_time": "2022-02-02T19:58:25.028Z"
   },
   {
    "duration": 21,
    "start_time": "2022-02-02T19:58:25.193Z"
   },
   {
    "duration": 32,
    "start_time": "2022-02-02T19:58:25.215Z"
   },
   {
    "duration": 189,
    "start_time": "2022-02-02T19:58:25.249Z"
   },
   {
    "duration": 23,
    "start_time": "2022-02-02T19:58:25.440Z"
   },
   {
    "duration": 304,
    "start_time": "2022-02-02T19:58:25.465Z"
   },
   {
    "duration": 189,
    "start_time": "2022-02-02T19:58:25.771Z"
   },
   {
    "duration": 32,
    "start_time": "2022-02-02T19:58:25.962Z"
   },
   {
    "duration": 274,
    "start_time": "2022-02-02T19:58:25.996Z"
   },
   {
    "duration": 35,
    "start_time": "2022-02-02T19:58:26.272Z"
   },
   {
    "duration": 367,
    "start_time": "2022-02-02T19:58:26.309Z"
   },
   {
    "duration": 26,
    "start_time": "2022-02-02T19:58:26.678Z"
   },
   {
    "duration": 24,
    "start_time": "2022-02-02T19:58:31.499Z"
   },
   {
    "duration": 28,
    "start_time": "2022-02-02T19:59:15.599Z"
   },
   {
    "duration": 20,
    "start_time": "2022-02-02T19:59:25.109Z"
   },
   {
    "duration": 282,
    "start_time": "2022-02-02T19:59:39.236Z"
   },
   {
    "duration": 366,
    "start_time": "2022-02-02T19:59:56.418Z"
   },
   {
    "duration": 292,
    "start_time": "2022-02-02T20:00:01.962Z"
   },
   {
    "duration": 350,
    "start_time": "2022-02-02T20:00:11.241Z"
   },
   {
    "duration": 733,
    "start_time": "2022-02-03T16:56:16.767Z"
   },
   {
    "duration": 232,
    "start_time": "2022-02-03T16:56:21.475Z"
   },
   {
    "duration": 8,
    "start_time": "2022-02-03T16:57:48.223Z"
   },
   {
    "duration": 12,
    "start_time": "2022-02-03T16:59:21.895Z"
   },
   {
    "duration": 12,
    "start_time": "2022-02-03T17:04:44.584Z"
   },
   {
    "duration": 27,
    "start_time": "2022-02-03T17:13:05.788Z"
   },
   {
    "duration": 305,
    "start_time": "2022-02-03T17:13:32.850Z"
   },
   {
    "duration": 68,
    "start_time": "2022-02-03T17:13:44.209Z"
   },
   {
    "duration": 691,
    "start_time": "2022-02-03T17:14:03.742Z"
   },
   {
    "duration": 130,
    "start_time": "2022-02-03T17:14:15.951Z"
   },
   {
    "duration": 206,
    "start_time": "2022-02-03T17:14:37.543Z"
   },
   {
    "duration": 3,
    "start_time": "2022-02-03T17:14:40.281Z"
   },
   {
    "duration": 203,
    "start_time": "2022-02-03T17:14:42.073Z"
   },
   {
    "duration": 8,
    "start_time": "2022-02-03T17:14:47.478Z"
   },
   {
    "duration": 14,
    "start_time": "2022-02-03T17:14:51.979Z"
   },
   {
    "duration": 297,
    "start_time": "2022-02-03T17:29:26.549Z"
   },
   {
    "duration": 19,
    "start_time": "2022-02-03T17:29:36.459Z"
   },
   {
    "duration": 249,
    "start_time": "2022-02-03T17:59:59.581Z"
   },
   {
    "duration": 28,
    "start_time": "2022-02-03T18:00:43.869Z"
   },
   {
    "duration": 22,
    "start_time": "2022-02-03T18:01:33.846Z"
   },
   {
    "duration": 30,
    "start_time": "2022-02-03T18:09:06.666Z"
   },
   {
    "duration": 19,
    "start_time": "2022-02-03T18:09:13.460Z"
   },
   {
    "duration": 23,
    "start_time": "2022-02-03T18:10:23.876Z"
   },
   {
    "duration": 34,
    "start_time": "2022-02-03T18:10:50.660Z"
   },
   {
    "duration": 15,
    "start_time": "2022-02-03T18:11:17.102Z"
   },
   {
    "duration": 10,
    "start_time": "2022-02-03T18:11:38.769Z"
   },
   {
    "duration": 57,
    "start_time": "2022-02-03T18:12:34.427Z"
   },
   {
    "duration": 15,
    "start_time": "2022-02-03T18:12:46.707Z"
   },
   {
    "duration": 15,
    "start_time": "2022-02-03T18:13:38.344Z"
   },
   {
    "duration": 2,
    "start_time": "2022-02-03T18:25:14.492Z"
   },
   {
    "duration": 209,
    "start_time": "2022-02-03T18:25:18.294Z"
   },
   {
    "duration": 8,
    "start_time": "2022-02-03T18:25:21.548Z"
   },
   {
    "duration": 13,
    "start_time": "2022-02-03T18:25:24.599Z"
   },
   {
    "duration": 20,
    "start_time": "2022-02-03T18:25:27.311Z"
   },
   {
    "duration": 21,
    "start_time": "2022-02-03T18:25:30.453Z"
   },
   {
    "duration": 15,
    "start_time": "2022-02-03T18:25:33.258Z"
   },
   {
    "duration": 14,
    "start_time": "2022-02-03T18:28:12.356Z"
   },
   {
    "duration": 15,
    "start_time": "2022-02-03T18:28:59.531Z"
   },
   {
    "duration": 19,
    "start_time": "2022-02-03T18:29:14.949Z"
   },
   {
    "duration": 13,
    "start_time": "2022-02-03T18:29:32.752Z"
   },
   {
    "duration": 17,
    "start_time": "2022-02-03T18:30:15.406Z"
   },
   {
    "duration": 22,
    "start_time": "2022-02-03T18:41:35.825Z"
   },
   {
    "duration": 36,
    "start_time": "2022-02-03T18:41:48.034Z"
   },
   {
    "duration": 37,
    "start_time": "2022-02-03T18:42:21.745Z"
   },
   {
    "duration": 36,
    "start_time": "2022-02-03T18:47:07.776Z"
   },
   {
    "duration": 431,
    "start_time": "2022-02-03T18:51:10.615Z"
   },
   {
    "duration": 25,
    "start_time": "2022-02-03T18:54:02.233Z"
   },
   {
    "duration": 23,
    "start_time": "2022-02-03T18:56:20.357Z"
   },
   {
    "duration": 25,
    "start_time": "2022-02-03T18:58:43.222Z"
   },
   {
    "duration": 20,
    "start_time": "2022-02-03T19:04:49.429Z"
   },
   {
    "duration": 208,
    "start_time": "2022-02-03T19:07:50.462Z"
   },
   {
    "duration": 28,
    "start_time": "2022-02-03T19:14:14.926Z"
   },
   {
    "duration": 376,
    "start_time": "2022-02-03T19:15:58.505Z"
   },
   {
    "duration": 14,
    "start_time": "2022-02-03T19:16:12.464Z"
   },
   {
    "duration": 21,
    "start_time": "2022-02-03T19:17:44.660Z"
   },
   {
    "duration": 6,
    "start_time": "2022-02-03T19:19:24.995Z"
   },
   {
    "duration": 13,
    "start_time": "2022-02-03T19:19:41.420Z"
   },
   {
    "duration": 701,
    "start_time": "2022-02-04T17:50:08.895Z"
   },
   {
    "duration": 202,
    "start_time": "2022-02-04T17:50:09.598Z"
   },
   {
    "duration": 7,
    "start_time": "2022-02-04T17:50:09.802Z"
   },
   {
    "duration": 19,
    "start_time": "2022-02-04T17:50:09.811Z"
   },
   {
    "duration": 19,
    "start_time": "2022-02-04T17:50:09.832Z"
   },
   {
    "duration": 47,
    "start_time": "2022-02-04T17:50:09.853Z"
   },
   {
    "duration": 16,
    "start_time": "2022-02-04T17:50:09.902Z"
   },
   {
    "duration": 18,
    "start_time": "2022-02-04T17:50:09.921Z"
   },
   {
    "duration": 12,
    "start_time": "2022-02-04T17:50:09.942Z"
   },
   {
    "duration": 51,
    "start_time": "2022-02-04T17:50:09.956Z"
   },
   {
    "duration": 46,
    "start_time": "2022-02-04T17:50:10.010Z"
   },
   {
    "duration": 52,
    "start_time": "2022-02-04T17:50:10.058Z"
   },
   {
    "duration": 22,
    "start_time": "2022-02-04T17:50:10.112Z"
   },
   {
    "duration": 35,
    "start_time": "2022-02-04T17:50:10.136Z"
   },
   {
    "duration": 58,
    "start_time": "2022-02-04T17:50:10.172Z"
   },
   {
    "duration": 426,
    "start_time": "2022-02-04T17:50:10.232Z"
   },
   {
    "duration": 236,
    "start_time": "2022-02-04T17:50:10.659Z"
   },
   {
    "duration": 23,
    "start_time": "2022-02-04T17:50:10.898Z"
   },
   {
    "duration": 24,
    "start_time": "2022-02-04T17:50:10.922Z"
   },
   {
    "duration": 279,
    "start_time": "2022-02-04T17:50:10.948Z"
   },
   {
    "duration": 26,
    "start_time": "2022-02-04T17:50:11.229Z"
   },
   {
    "duration": 421,
    "start_time": "2022-02-04T17:50:11.257Z"
   },
   {
    "duration": 232,
    "start_time": "2022-02-04T17:50:11.681Z"
   },
   {
    "duration": 20,
    "start_time": "2022-02-04T17:50:11.915Z"
   },
   {
    "duration": 243,
    "start_time": "2022-02-04T17:50:11.937Z"
   },
   {
    "duration": 36,
    "start_time": "2022-02-04T17:50:12.182Z"
   },
   {
    "duration": 15,
    "start_time": "2022-02-04T17:50:12.219Z"
   },
   {
    "duration": 20,
    "start_time": "2022-02-04T17:50:12.235Z"
   },
   {
    "duration": 19,
    "start_time": "2022-02-04T17:50:12.257Z"
   },
   {
    "duration": 11,
    "start_time": "2022-02-04T17:50:33.994Z"
   },
   {
    "duration": 699,
    "start_time": "2022-02-04T17:51:36.784Z"
   },
   {
    "duration": 213,
    "start_time": "2022-02-04T17:51:37.485Z"
   },
   {
    "duration": 9,
    "start_time": "2022-02-04T17:51:37.701Z"
   },
   {
    "duration": 24,
    "start_time": "2022-02-04T17:51:37.712Z"
   },
   {
    "duration": 32,
    "start_time": "2022-02-04T17:51:37.738Z"
   },
   {
    "duration": 36,
    "start_time": "2022-02-04T17:51:37.772Z"
   },
   {
    "duration": 16,
    "start_time": "2022-02-04T17:51:37.810Z"
   },
   {
    "duration": 18,
    "start_time": "2022-02-04T17:51:37.830Z"
   },
   {
    "duration": 51,
    "start_time": "2022-02-04T17:51:37.850Z"
   },
   {
    "duration": 16,
    "start_time": "2022-02-04T17:51:59.265Z"
   },
   {
    "duration": 44,
    "start_time": "2022-02-04T17:52:03.659Z"
   },
   {
    "duration": 23,
    "start_time": "2022-02-04T17:52:11.545Z"
   },
   {
    "duration": 21,
    "start_time": "2022-02-04T17:52:20.765Z"
   },
   {
    "duration": 36,
    "start_time": "2022-02-04T17:52:25.481Z"
   },
   {
    "duration": 36,
    "start_time": "2022-02-04T17:52:29.793Z"
   },
   {
    "duration": 421,
    "start_time": "2022-02-04T17:52:37.748Z"
   },
   {
    "duration": 227,
    "start_time": "2022-02-04T17:52:41.371Z"
   },
   {
    "duration": 21,
    "start_time": "2022-02-04T17:52:43.878Z"
   },
   {
    "duration": 16,
    "start_time": "2022-02-04T17:52:55.912Z"
   },
   {
    "duration": 25,
    "start_time": "2022-02-04T17:53:06.346Z"
   },
   {
    "duration": 248,
    "start_time": "2022-02-04T17:53:09.515Z"
   },
   {
    "duration": 26,
    "start_time": "2022-02-04T17:53:14.554Z"
   },
   {
    "duration": 410,
    "start_time": "2022-02-04T17:53:19.176Z"
   },
   {
    "duration": 216,
    "start_time": "2022-02-04T17:53:27.804Z"
   },
   {
    "duration": 22,
    "start_time": "2022-02-04T17:53:31.314Z"
   },
   {
    "duration": 236,
    "start_time": "2022-02-04T17:53:36.207Z"
   },
   {
    "duration": 29,
    "start_time": "2022-02-04T17:53:39.347Z"
   },
   {
    "duration": 11,
    "start_time": "2022-02-04T17:53:52.484Z"
   },
   {
    "duration": 17,
    "start_time": "2022-02-04T17:54:00.016Z"
   },
   {
    "duration": 10,
    "start_time": "2022-02-04T17:54:08.546Z"
   },
   {
    "duration": 666,
    "start_time": "2022-02-04T17:55:45.424Z"
   },
   {
    "duration": 214,
    "start_time": "2022-02-04T17:55:46.092Z"
   },
   {
    "duration": 8,
    "start_time": "2022-02-04T17:55:46.308Z"
   },
   {
    "duration": 15,
    "start_time": "2022-02-04T17:55:46.318Z"
   },
   {
    "duration": 18,
    "start_time": "2022-02-04T17:55:46.334Z"
   },
   {
    "duration": 50,
    "start_time": "2022-02-04T17:55:46.354Z"
   },
   {
    "duration": 14,
    "start_time": "2022-02-04T17:55:46.406Z"
   },
   {
    "duration": 16,
    "start_time": "2022-02-04T17:55:46.422Z"
   },
   {
    "duration": 11,
    "start_time": "2022-02-04T17:55:46.441Z"
   },
   {
    "duration": 45,
    "start_time": "2022-02-04T17:55:46.454Z"
   },
   {
    "duration": 43,
    "start_time": "2022-02-04T17:55:46.500Z"
   },
   {
    "duration": 21,
    "start_time": "2022-02-04T17:55:46.545Z"
   },
   {
    "duration": 45,
    "start_time": "2022-02-04T17:55:46.568Z"
   },
   {
    "duration": 33,
    "start_time": "2022-02-04T17:55:46.615Z"
   },
   {
    "duration": 51,
    "start_time": "2022-02-04T17:55:46.650Z"
   },
   {
    "duration": 435,
    "start_time": "2022-02-04T17:55:46.703Z"
   },
   {
    "duration": 234,
    "start_time": "2022-02-04T17:55:47.140Z"
   },
   {
    "duration": 32,
    "start_time": "2022-02-04T17:55:47.375Z"
   },
   {
    "duration": 31,
    "start_time": "2022-02-04T17:55:47.409Z"
   },
   {
    "duration": 263,
    "start_time": "2022-02-04T17:55:47.442Z"
   },
   {
    "duration": 25,
    "start_time": "2022-02-04T17:55:47.707Z"
   },
   {
    "duration": 423,
    "start_time": "2022-02-04T17:55:47.734Z"
   },
   {
    "duration": 225,
    "start_time": "2022-02-04T17:55:48.160Z"
   },
   {
    "duration": 29,
    "start_time": "2022-02-04T17:55:48.387Z"
   },
   {
    "duration": 236,
    "start_time": "2022-02-04T17:55:48.418Z"
   },
   {
    "duration": 27,
    "start_time": "2022-02-04T17:55:48.655Z"
   },
   {
    "duration": 9,
    "start_time": "2022-02-04T17:55:49.647Z"
   },
   {
    "duration": 20,
    "start_time": "2022-02-04T17:56:06.974Z"
   },
   {
    "duration": 10,
    "start_time": "2022-02-04T17:56:24.924Z"
   },
   {
    "duration": 12,
    "start_time": "2022-02-04T17:56:55.321Z"
   },
   {
    "duration": 10,
    "start_time": "2022-02-04T17:56:59.459Z"
   },
   {
    "duration": 12,
    "start_time": "2022-02-04T17:57:32.177Z"
   },
   {
    "duration": 11,
    "start_time": "2022-02-04T17:57:43.375Z"
   },
   {
    "duration": 734,
    "start_time": "2022-02-04T17:58:00.677Z"
   },
   {
    "duration": 217,
    "start_time": "2022-02-04T17:58:01.413Z"
   },
   {
    "duration": 8,
    "start_time": "2022-02-04T17:58:01.633Z"
   },
   {
    "duration": 33,
    "start_time": "2022-02-04T17:58:01.644Z"
   },
   {
    "duration": 39,
    "start_time": "2022-02-04T17:58:01.680Z"
   },
   {
    "duration": 22,
    "start_time": "2022-02-04T17:58:01.721Z"
   },
   {
    "duration": 19,
    "start_time": "2022-02-04T17:58:01.745Z"
   },
   {
    "duration": 37,
    "start_time": "2022-02-04T17:58:01.767Z"
   },
   {
    "duration": 12,
    "start_time": "2022-02-04T17:58:01.807Z"
   },
   {
    "duration": 25,
    "start_time": "2022-02-04T17:58:01.821Z"
   },
   {
    "duration": 64,
    "start_time": "2022-02-04T17:58:01.847Z"
   },
   {
    "duration": 25,
    "start_time": "2022-02-04T17:58:01.913Z"
   },
   {
    "duration": 23,
    "start_time": "2022-02-04T17:58:01.941Z"
   },
   {
    "duration": 67,
    "start_time": "2022-02-04T17:58:01.967Z"
   },
   {
    "duration": 37,
    "start_time": "2022-02-04T17:58:02.036Z"
   },
   {
    "duration": 457,
    "start_time": "2022-02-04T17:58:02.075Z"
   },
   {
    "duration": 247,
    "start_time": "2022-02-04T17:58:02.534Z"
   },
   {
    "duration": 28,
    "start_time": "2022-02-04T17:58:02.782Z"
   },
   {
    "duration": 28,
    "start_time": "2022-02-04T17:58:02.811Z"
   },
   {
    "duration": 279,
    "start_time": "2022-02-04T17:58:02.841Z"
   },
   {
    "duration": 25,
    "start_time": "2022-02-04T17:58:03.122Z"
   },
   {
    "duration": 427,
    "start_time": "2022-02-04T17:58:03.148Z"
   },
   {
    "duration": 236,
    "start_time": "2022-02-04T17:58:03.578Z"
   },
   {
    "duration": 22,
    "start_time": "2022-02-04T17:58:03.816Z"
   },
   {
    "duration": 254,
    "start_time": "2022-02-04T17:58:03.839Z"
   },
   {
    "duration": 28,
    "start_time": "2022-02-04T17:58:04.098Z"
   },
   {
    "duration": 14,
    "start_time": "2022-02-04T17:58:04.128Z"
   },
   {
    "duration": 17,
    "start_time": "2022-02-04T17:58:04.144Z"
   },
   {
    "duration": 40,
    "start_time": "2022-02-04T17:58:04.163Z"
   },
   {
    "duration": 9,
    "start_time": "2022-02-04T17:58:09.639Z"
   },
   {
    "duration": 9,
    "start_time": "2022-02-04T17:58:29.888Z"
   },
   {
    "duration": 713,
    "start_time": "2022-02-04T17:58:43.689Z"
   },
   {
    "duration": 216,
    "start_time": "2022-02-04T17:58:44.404Z"
   },
   {
    "duration": 8,
    "start_time": "2022-02-04T17:58:44.622Z"
   },
   {
    "duration": 25,
    "start_time": "2022-02-04T17:58:44.632Z"
   },
   {
    "duration": 28,
    "start_time": "2022-02-04T17:58:44.659Z"
   },
   {
    "duration": 35,
    "start_time": "2022-02-04T17:58:44.689Z"
   },
   {
    "duration": 14,
    "start_time": "2022-02-04T17:58:44.726Z"
   },
   {
    "duration": 29,
    "start_time": "2022-02-04T17:58:44.742Z"
   },
   {
    "duration": 16,
    "start_time": "2022-02-04T17:58:44.773Z"
   },
   {
    "duration": 20,
    "start_time": "2022-02-04T17:58:44.790Z"
   },
   {
    "duration": 49,
    "start_time": "2022-02-04T17:58:44.812Z"
   },
   {
    "duration": 38,
    "start_time": "2022-02-04T17:58:44.862Z"
   },
   {
    "duration": 20,
    "start_time": "2022-02-04T17:58:44.902Z"
   },
   {
    "duration": 34,
    "start_time": "2022-02-04T17:58:44.924Z"
   },
   {
    "duration": 60,
    "start_time": "2022-02-04T17:58:44.960Z"
   },
   {
    "duration": 434,
    "start_time": "2022-02-04T17:58:45.022Z"
   },
   {
    "duration": 241,
    "start_time": "2022-02-04T17:58:45.458Z"
   },
   {
    "duration": 21,
    "start_time": "2022-02-04T17:58:45.701Z"
   },
   {
    "duration": 26,
    "start_time": "2022-02-04T17:58:45.724Z"
   },
   {
    "duration": 276,
    "start_time": "2022-02-04T17:58:45.752Z"
   },
   {
    "duration": 25,
    "start_time": "2022-02-04T17:58:46.030Z"
   },
   {
    "duration": 422,
    "start_time": "2022-02-04T17:58:46.057Z"
   },
   {
    "duration": 226,
    "start_time": "2022-02-04T17:58:46.481Z"
   },
   {
    "duration": 22,
    "start_time": "2022-02-04T17:58:46.709Z"
   },
   {
    "duration": 241,
    "start_time": "2022-02-04T17:58:46.733Z"
   },
   {
    "duration": 38,
    "start_time": "2022-02-04T17:58:46.975Z"
   },
   {
    "duration": 10,
    "start_time": "2022-02-04T17:58:48.147Z"
   },
   {
    "duration": 20,
    "start_time": "2022-02-04T17:58:52.736Z"
   },
   {
    "duration": 10,
    "start_time": "2022-02-04T17:59:06.527Z"
   },
   {
    "duration": 9,
    "start_time": "2022-02-04T17:59:08.485Z"
   },
   {
    "duration": 9,
    "start_time": "2022-02-04T17:59:14.141Z"
   },
   {
    "duration": 11,
    "start_time": "2022-02-04T17:59:36.093Z"
   },
   {
    "duration": 10,
    "start_time": "2022-02-04T17:59:38.752Z"
   },
   {
    "duration": 656,
    "start_time": "2022-02-04T18:00:07.036Z"
   },
   {
    "duration": 214,
    "start_time": "2022-02-04T18:00:07.694Z"
   },
   {
    "duration": 8,
    "start_time": "2022-02-04T18:00:07.911Z"
   },
   {
    "duration": 29,
    "start_time": "2022-02-04T18:00:07.921Z"
   },
   {
    "duration": 33,
    "start_time": "2022-02-04T18:00:07.952Z"
   },
   {
    "duration": 22,
    "start_time": "2022-02-04T18:00:07.987Z"
   },
   {
    "duration": 15,
    "start_time": "2022-02-04T18:00:08.011Z"
   },
   {
    "duration": 18,
    "start_time": "2022-02-04T18:00:08.029Z"
   },
   {
    "duration": 12,
    "start_time": "2022-02-04T18:00:08.049Z"
   },
   {
    "duration": 49,
    "start_time": "2022-02-04T18:00:08.062Z"
   },
   {
    "duration": 44,
    "start_time": "2022-02-04T18:00:08.114Z"
   },
   {
    "duration": 49,
    "start_time": "2022-02-04T18:00:08.161Z"
   },
   {
    "duration": 35,
    "start_time": "2022-02-04T18:00:08.212Z"
   },
   {
    "duration": 37,
    "start_time": "2022-02-04T18:00:08.249Z"
   },
   {
    "duration": 39,
    "start_time": "2022-02-04T18:00:08.299Z"
   },
   {
    "duration": 443,
    "start_time": "2022-02-04T18:00:08.340Z"
   },
   {
    "duration": 243,
    "start_time": "2022-02-04T18:00:08.786Z"
   },
   {
    "duration": 23,
    "start_time": "2022-02-04T18:00:09.031Z"
   },
   {
    "duration": 45,
    "start_time": "2022-02-04T18:00:09.055Z"
   },
   {
    "duration": 255,
    "start_time": "2022-02-04T18:00:09.101Z"
   },
   {
    "duration": 24,
    "start_time": "2022-02-04T18:00:09.358Z"
   },
   {
    "duration": 431,
    "start_time": "2022-02-04T18:00:09.384Z"
   },
   {
    "duration": 232,
    "start_time": "2022-02-04T18:00:09.818Z"
   },
   {
    "duration": 22,
    "start_time": "2022-02-04T18:00:10.052Z"
   },
   {
    "duration": 241,
    "start_time": "2022-02-04T18:00:10.076Z"
   },
   {
    "duration": 27,
    "start_time": "2022-02-04T18:00:10.319Z"
   },
   {
    "duration": 11,
    "start_time": "2022-02-04T18:00:11.577Z"
   },
   {
    "duration": 20,
    "start_time": "2022-02-04T18:00:14.272Z"
   },
   {
    "duration": 10,
    "start_time": "2022-02-04T18:00:20.738Z"
   },
   {
    "duration": 16,
    "start_time": "2022-02-04T18:00:23.355Z"
   },
   {
    "duration": 10,
    "start_time": "2022-02-04T18:00:25.948Z"
   },
   {
    "duration": 716,
    "start_time": "2022-02-04T18:02:31.743Z"
   },
   {
    "duration": 238,
    "start_time": "2022-02-04T18:02:32.462Z"
   },
   {
    "duration": 9,
    "start_time": "2022-02-04T18:02:32.703Z"
   },
   {
    "duration": 15,
    "start_time": "2022-02-04T18:02:32.715Z"
   },
   {
    "duration": 28,
    "start_time": "2022-02-04T18:02:32.733Z"
   },
   {
    "duration": 49,
    "start_time": "2022-02-04T18:02:32.763Z"
   },
   {
    "duration": 17,
    "start_time": "2022-02-04T18:02:32.814Z"
   },
   {
    "duration": 19,
    "start_time": "2022-02-04T18:02:32.834Z"
   },
   {
    "duration": 47,
    "start_time": "2022-02-04T18:02:32.855Z"
   },
   {
    "duration": 17,
    "start_time": "2022-02-04T18:02:32.904Z"
   },
   {
    "duration": 47,
    "start_time": "2022-02-04T18:02:32.924Z"
   },
   {
    "duration": 45,
    "start_time": "2022-02-04T18:02:32.974Z"
   },
   {
    "duration": 27,
    "start_time": "2022-02-04T18:02:33.021Z"
   },
   {
    "duration": 57,
    "start_time": "2022-02-04T18:02:33.050Z"
   },
   {
    "duration": 38,
    "start_time": "2022-02-04T18:02:33.109Z"
   },
   {
    "duration": 448,
    "start_time": "2022-02-04T18:02:33.148Z"
   },
   {
    "duration": 240,
    "start_time": "2022-02-04T18:02:33.598Z"
   },
   {
    "duration": 23,
    "start_time": "2022-02-04T18:02:33.840Z"
   },
   {
    "duration": 45,
    "start_time": "2022-02-04T18:02:33.865Z"
   },
   {
    "duration": 275,
    "start_time": "2022-02-04T18:02:33.912Z"
   },
   {
    "duration": 40,
    "start_time": "2022-02-04T18:02:34.190Z"
   },
   {
    "duration": 434,
    "start_time": "2022-02-04T18:02:34.232Z"
   },
   {
    "duration": 251,
    "start_time": "2022-02-04T18:02:34.670Z"
   },
   {
    "duration": 24,
    "start_time": "2022-02-04T18:02:34.924Z"
   },
   {
    "duration": 260,
    "start_time": "2022-02-04T18:02:34.950Z"
   },
   {
    "duration": 30,
    "start_time": "2022-02-04T18:02:35.213Z"
   },
   {
    "duration": 10,
    "start_time": "2022-02-04T18:02:40.237Z"
   },
   {
    "duration": 13,
    "start_time": "2022-02-04T18:02:48.486Z"
   },
   {
    "duration": 11,
    "start_time": "2022-02-04T18:02:51.394Z"
   },
   {
    "duration": 34,
    "start_time": "2022-02-04T18:03:18.948Z"
   },
   {
    "duration": 11,
    "start_time": "2022-02-04T18:03:29.041Z"
   },
   {
    "duration": 32,
    "start_time": "2022-02-04T18:03:33.251Z"
   },
   {
    "duration": 37,
    "start_time": "2022-02-04T18:03:52.521Z"
   },
   {
    "duration": 21,
    "start_time": "2022-02-04T18:04:14.937Z"
   },
   {
    "duration": 12,
    "start_time": "2022-02-04T18:04:19.340Z"
   },
   {
    "duration": 21,
    "start_time": "2022-02-04T18:04:35.454Z"
   },
   {
    "duration": 16,
    "start_time": "2022-02-04T18:05:01.807Z"
   },
   {
    "duration": 11,
    "start_time": "2022-02-04T18:05:10.853Z"
   },
   {
    "duration": 723,
    "start_time": "2022-02-04T18:05:49.586Z"
   },
   {
    "duration": 212,
    "start_time": "2022-02-04T18:05:50.311Z"
   },
   {
    "duration": 7,
    "start_time": "2022-02-04T18:05:50.525Z"
   },
   {
    "duration": 15,
    "start_time": "2022-02-04T18:05:50.534Z"
   },
   {
    "duration": 21,
    "start_time": "2022-02-04T18:05:50.551Z"
   },
   {
    "duration": 38,
    "start_time": "2022-02-04T18:05:50.573Z"
   },
   {
    "duration": 15,
    "start_time": "2022-02-04T18:05:50.613Z"
   },
   {
    "duration": 17,
    "start_time": "2022-02-04T18:05:50.631Z"
   },
   {
    "duration": 13,
    "start_time": "2022-02-04T18:05:50.650Z"
   },
   {
    "duration": 48,
    "start_time": "2022-02-04T18:05:50.665Z"
   },
   {
    "duration": 49,
    "start_time": "2022-02-04T18:05:50.715Z"
   },
   {
    "duration": 53,
    "start_time": "2022-02-04T18:05:50.766Z"
   },
   {
    "duration": 21,
    "start_time": "2022-02-04T18:05:50.821Z"
   },
   {
    "duration": 57,
    "start_time": "2022-02-04T18:05:50.844Z"
   },
   {
    "duration": 36,
    "start_time": "2022-02-04T18:05:50.903Z"
   },
   {
    "duration": 470,
    "start_time": "2022-02-04T18:05:50.941Z"
   },
   {
    "duration": 252,
    "start_time": "2022-02-04T18:05:51.413Z"
   },
   {
    "duration": 33,
    "start_time": "2022-02-04T18:05:51.667Z"
   },
   {
    "duration": 26,
    "start_time": "2022-02-04T18:05:51.701Z"
   },
   {
    "duration": 256,
    "start_time": "2022-02-04T18:05:51.729Z"
   },
   {
    "duration": 29,
    "start_time": "2022-02-04T18:05:51.987Z"
   },
   {
    "duration": 403,
    "start_time": "2022-02-04T18:05:52.018Z"
   },
   {
    "duration": 228,
    "start_time": "2022-02-04T18:05:52.425Z"
   },
   {
    "duration": 21,
    "start_time": "2022-02-04T18:05:52.655Z"
   },
   {
    "duration": 249,
    "start_time": "2022-02-04T18:05:52.678Z"
   },
   {
    "duration": 29,
    "start_time": "2022-02-04T18:05:52.929Z"
   },
   {
    "duration": 21,
    "start_time": "2022-02-04T18:05:55.472Z"
   },
   {
    "duration": 21,
    "start_time": "2022-02-04T18:05:57.961Z"
   },
   {
    "duration": 16,
    "start_time": "2022-02-04T18:06:00.138Z"
   },
   {
    "duration": 11,
    "start_time": "2022-02-04T18:06:02.801Z"
   },
   {
    "duration": 8,
    "start_time": "2022-02-04T18:55:29.336Z"
   },
   {
    "duration": 236,
    "start_time": "2022-02-04T18:55:50.592Z"
   },
   {
    "duration": 239,
    "start_time": "2022-02-04T18:56:10.623Z"
   },
   {
    "duration": 468,
    "start_time": "2022-02-04T18:56:22.943Z"
   },
   {
    "duration": 220,
    "start_time": "2022-02-04T18:56:38.232Z"
   },
   {
    "duration": 77,
    "start_time": "2022-02-04T18:56:47.090Z"
   },
   {
    "duration": 79,
    "start_time": "2022-02-04T18:56:49.160Z"
   },
   {
    "duration": 81,
    "start_time": "2022-02-04T18:56:51.050Z"
   },
   {
    "duration": 522,
    "start_time": "2022-02-04T18:56:55.446Z"
   },
   {
    "duration": 500,
    "start_time": "2022-02-04T18:57:30.106Z"
   },
   {
    "duration": 237,
    "start_time": "2022-02-04T18:58:18.917Z"
   },
   {
    "duration": 324,
    "start_time": "2022-02-04T18:58:37.558Z"
   },
   {
    "duration": 303,
    "start_time": "2022-02-04T19:06:22.502Z"
   },
   {
    "duration": 39,
    "start_time": "2022-02-04T19:06:28.553Z"
   },
   {
    "duration": 40,
    "start_time": "2022-02-04T19:07:08.928Z"
   },
   {
    "duration": 15,
    "start_time": "2022-02-04T19:07:58.943Z"
   },
   {
    "duration": 13,
    "start_time": "2022-02-04T19:08:13.499Z"
   },
   {
    "duration": 238,
    "start_time": "2022-02-04T19:13:51.914Z"
   },
   {
    "duration": 13,
    "start_time": "2022-02-04T19:14:12.370Z"
   },
   {
    "duration": 19,
    "start_time": "2022-02-04T19:14:19.640Z"
   },
   {
    "duration": 250,
    "start_time": "2022-02-04T19:14:48.317Z"
   },
   {
    "duration": 245,
    "start_time": "2022-02-04T19:14:55.063Z"
   },
   {
    "duration": 20,
    "start_time": "2022-02-04T19:14:58.819Z"
   },
   {
    "duration": 25,
    "start_time": "2022-02-04T19:15:22.964Z"
   },
   {
    "duration": 20,
    "start_time": "2022-02-04T19:15:27.214Z"
   },
   {
    "duration": 23,
    "start_time": "2022-02-04T19:15:55.286Z"
   },
   {
    "duration": 22,
    "start_time": "2022-02-04T19:16:04.256Z"
   },
   {
    "duration": 23,
    "start_time": "2022-02-04T19:16:14.002Z"
   },
   {
    "duration": 258,
    "start_time": "2022-02-04T19:16:22.293Z"
   },
   {
    "duration": 21,
    "start_time": "2022-02-04T19:16:24.681Z"
   },
   {
    "duration": 21,
    "start_time": "2022-02-04T19:16:39.718Z"
   },
   {
    "duration": 19,
    "start_time": "2022-02-04T19:17:00.342Z"
   },
   {
    "duration": 21,
    "start_time": "2022-02-04T19:17:05.180Z"
   },
   {
    "duration": 246,
    "start_time": "2022-02-04T19:18:33.714Z"
   },
   {
    "duration": 247,
    "start_time": "2022-02-04T19:19:01.834Z"
   },
   {
    "duration": 29,
    "start_time": "2022-02-04T19:19:06.851Z"
   },
   {
    "duration": 22802,
    "start_time": "2022-02-04T19:20:03.663Z"
   },
   {
    "duration": 6349,
    "start_time": "2022-02-04T19:20:34.542Z"
   },
   {
    "duration": 258,
    "start_time": "2022-02-04T19:22:02.794Z"
   },
   {
    "duration": 34,
    "start_time": "2022-02-04T19:22:17.182Z"
   },
   {
    "duration": 83,
    "start_time": "2022-02-04T19:22:26.441Z"
   },
   {
    "duration": 27,
    "start_time": "2022-02-04T19:22:30.770Z"
   },
   {
    "duration": 34,
    "start_time": "2022-02-04T19:22:35.380Z"
   },
   {
    "duration": 27,
    "start_time": "2022-02-04T19:22:37.568Z"
   },
   {
    "duration": 27,
    "start_time": "2022-02-04T19:23:27.966Z"
   },
   {
    "duration": 34,
    "start_time": "2022-02-04T19:23:31.282Z"
   },
   {
    "duration": 30,
    "start_time": "2022-02-04T19:23:37.018Z"
   },
   {
    "duration": 28,
    "start_time": "2022-02-04T19:24:26.638Z"
   },
   {
    "duration": 26,
    "start_time": "2022-02-04T19:24:41.867Z"
   },
   {
    "duration": 31,
    "start_time": "2022-02-04T19:24:49.921Z"
   },
   {
    "duration": 26,
    "start_time": "2022-02-04T19:24:55.427Z"
   },
   {
    "duration": 27,
    "start_time": "2022-02-04T19:24:59.617Z"
   },
   {
    "duration": 267,
    "start_time": "2022-02-04T19:25:08.185Z"
   },
   {
    "duration": 48,
    "start_time": "2022-02-04T19:28:50.198Z"
   },
   {
    "duration": 376,
    "start_time": "2022-02-04T19:29:36.058Z"
   },
   {
    "duration": 956,
    "start_time": "2022-02-04T19:31:58.471Z"
   },
   {
    "duration": 81,
    "start_time": "2022-02-04T19:32:13.295Z"
   },
   {
    "duration": 266,
    "start_time": "2022-02-04T19:32:33.535Z"
   },
   {
    "duration": 348,
    "start_time": "2022-02-04T19:32:43.214Z"
   },
   {
    "duration": 107,
    "start_time": "2022-02-04T19:34:08.424Z"
   },
   {
    "duration": 40,
    "start_time": "2022-02-04T19:34:14.222Z"
   },
   {
    "duration": 41,
    "start_time": "2022-02-04T19:34:31.019Z"
   },
   {
    "duration": 89,
    "start_time": "2022-02-04T19:38:13.633Z"
   },
   {
    "duration": 84,
    "start_time": "2022-02-04T19:38:19.670Z"
   },
   {
    "duration": 66,
    "start_time": "2022-02-04T19:38:36.312Z"
   },
   {
    "duration": 53,
    "start_time": "2022-02-04T19:38:54.729Z"
   },
   {
    "duration": 41,
    "start_time": "2022-02-04T20:33:31.386Z"
   },
   {
    "duration": 256,
    "start_time": "2022-02-04T20:34:05.962Z"
   },
   {
    "duration": 44,
    "start_time": "2022-02-04T20:34:17.183Z"
   },
   {
    "duration": 45,
    "start_time": "2022-02-04T20:35:35.997Z"
   },
   {
    "duration": 14,
    "start_time": "2022-02-04T20:38:50.490Z"
   },
   {
    "duration": 706,
    "start_time": "2022-02-04T20:39:20.369Z"
   },
   {
    "duration": 263,
    "start_time": "2022-02-04T20:39:21.077Z"
   },
   {
    "duration": 8,
    "start_time": "2022-02-04T20:39:21.343Z"
   },
   {
    "duration": 19,
    "start_time": "2022-02-04T20:39:21.353Z"
   },
   {
    "duration": 37,
    "start_time": "2022-02-04T20:39:21.374Z"
   },
   {
    "duration": 23,
    "start_time": "2022-02-04T20:39:21.413Z"
   },
   {
    "duration": 16,
    "start_time": "2022-02-04T20:39:21.438Z"
   },
   {
    "duration": 56,
    "start_time": "2022-02-04T20:39:21.457Z"
   },
   {
    "duration": 13,
    "start_time": "2022-02-04T20:39:21.515Z"
   },
   {
    "duration": 18,
    "start_time": "2022-02-04T20:39:21.530Z"
   },
   {
    "duration": 76,
    "start_time": "2022-02-04T20:39:21.550Z"
   },
   {
    "duration": 27,
    "start_time": "2022-02-04T20:39:21.629Z"
   },
   {
    "duration": 46,
    "start_time": "2022-02-04T20:39:21.658Z"
   },
   {
    "duration": 39,
    "start_time": "2022-02-04T20:39:21.707Z"
   },
   {
    "duration": 61,
    "start_time": "2022-02-04T20:39:21.748Z"
   },
   {
    "duration": 456,
    "start_time": "2022-02-04T20:39:21.812Z"
   },
   {
    "duration": 250,
    "start_time": "2022-02-04T20:39:22.270Z"
   },
   {
    "duration": 25,
    "start_time": "2022-02-04T20:39:22.522Z"
   },
   {
    "duration": 28,
    "start_time": "2022-02-04T20:39:22.549Z"
   },
   {
    "duration": 299,
    "start_time": "2022-02-04T20:39:22.579Z"
   },
   {
    "duration": 35,
    "start_time": "2022-02-04T20:39:22.880Z"
   },
   {
    "duration": 448,
    "start_time": "2022-02-04T20:39:22.916Z"
   },
   {
    "duration": 55,
    "start_time": "2022-02-04T20:39:23.367Z"
   },
   {
    "duration": 32,
    "start_time": "2022-02-04T20:40:13.241Z"
   },
   {
    "duration": 220,
    "start_time": "2022-02-04T20:40:25.389Z"
   },
   {
    "duration": 31,
    "start_time": "2022-02-04T20:40:38.511Z"
   },
   {
    "duration": 478,
    "start_time": "2022-02-04T20:41:24.586Z"
   },
   {
    "duration": 43,
    "start_time": "2022-02-04T20:41:30.745Z"
   },
   {
    "duration": 315,
    "start_time": "2022-02-04T20:41:40.718Z"
   },
   {
    "duration": 16,
    "start_time": "2022-02-04T20:41:46.191Z"
   },
   {
    "duration": 237,
    "start_time": "2022-02-04T20:42:07.787Z"
   },
   {
    "duration": 24,
    "start_time": "2022-02-04T20:42:10.998Z"
   },
   {
    "duration": 230,
    "start_time": "2022-02-04T20:42:14.220Z"
   },
   {
    "duration": 28,
    "start_time": "2022-02-04T20:42:17.314Z"
   },
   {
    "duration": 21,
    "start_time": "2022-02-04T20:42:20.449Z"
   },
   {
    "duration": 21,
    "start_time": "2022-02-04T20:42:22.908Z"
   },
   {
    "duration": 17,
    "start_time": "2022-02-04T20:42:27.050Z"
   },
   {
    "duration": 333,
    "start_time": "2022-02-04T20:42:44.806Z"
   },
   {
    "duration": 12,
    "start_time": "2022-02-04T20:42:56.918Z"
   },
   {
    "duration": 10,
    "start_time": "2022-02-04T20:44:34.794Z"
   },
   {
    "duration": 13,
    "start_time": "2022-02-04T20:44:42.996Z"
   },
   {
    "duration": 237,
    "start_time": "2022-02-04T20:44:58.043Z"
   },
   {
    "duration": 13,
    "start_time": "2022-02-04T20:45:07.753Z"
   },
   {
    "duration": 39,
    "start_time": "2022-02-04T21:06:56.432Z"
   },
   {
    "duration": 267,
    "start_time": "2022-02-04T21:14:10.065Z"
   },
   {
    "duration": 276,
    "start_time": "2022-02-04T21:14:23.668Z"
   },
   {
    "duration": 76,
    "start_time": "2022-02-04T21:14:40.384Z"
   },
   {
    "duration": 41,
    "start_time": "2022-02-04T21:15:13.196Z"
   },
   {
    "duration": 42,
    "start_time": "2022-02-04T21:15:36.329Z"
   },
   {
    "duration": 33,
    "start_time": "2022-02-04T21:16:21.483Z"
   },
   {
    "duration": 34,
    "start_time": "2022-02-04T21:16:30.120Z"
   },
   {
    "duration": 27,
    "start_time": "2022-02-04T21:17:47.942Z"
   },
   {
    "duration": 2624,
    "start_time": "2022-02-04T21:20:04.615Z"
   },
   {
    "duration": 85,
    "start_time": "2022-02-04T21:20:32.163Z"
   },
   {
    "duration": 109,
    "start_time": "2022-02-04T21:20:40.141Z"
   },
   {
    "duration": 75,
    "start_time": "2022-02-04T21:20:47.551Z"
   },
   {
    "duration": 32,
    "start_time": "2022-02-04T21:22:28.244Z"
   },
   {
    "duration": 243,
    "start_time": "2022-02-04T21:22:37.640Z"
   },
   {
    "duration": 66,
    "start_time": "2022-02-04T21:22:47.309Z"
   },
   {
    "duration": 264,
    "start_time": "2022-02-04T21:23:10.352Z"
   },
   {
    "duration": 64,
    "start_time": "2022-02-04T21:23:15.055Z"
   },
   {
    "duration": 39,
    "start_time": "2022-02-04T21:23:33.078Z"
   },
   {
    "duration": 56,
    "start_time": "2022-02-04T21:23:47.793Z"
   },
   {
    "duration": 33,
    "start_time": "2022-02-04T21:24:03.943Z"
   },
   {
    "duration": 5442,
    "start_time": "2022-02-04T21:24:26.542Z"
   },
   {
    "duration": 33,
    "start_time": "2022-02-04T21:24:43.729Z"
   },
   {
    "duration": 21,
    "start_time": "2022-02-04T21:27:01.717Z"
   },
   {
    "duration": 19,
    "start_time": "2022-02-04T21:27:42.874Z"
   },
   {
    "duration": 670,
    "start_time": "2022-02-04T21:28:55.811Z"
   },
   {
    "duration": 229,
    "start_time": "2022-02-04T21:28:56.483Z"
   },
   {
    "duration": 8,
    "start_time": "2022-02-04T21:28:56.714Z"
   },
   {
    "duration": 16,
    "start_time": "2022-02-04T21:28:56.723Z"
   },
   {
    "duration": 19,
    "start_time": "2022-02-04T21:28:56.740Z"
   },
   {
    "duration": 47,
    "start_time": "2022-02-04T21:28:56.762Z"
   },
   {
    "duration": 15,
    "start_time": "2022-02-04T21:28:56.811Z"
   },
   {
    "duration": 17,
    "start_time": "2022-02-04T21:28:56.829Z"
   },
   {
    "duration": 12,
    "start_time": "2022-02-04T21:28:56.849Z"
   },
   {
    "duration": 50,
    "start_time": "2022-02-04T21:28:56.863Z"
   },
   {
    "duration": 42,
    "start_time": "2022-02-04T21:28:56.914Z"
   },
   {
    "duration": 44,
    "start_time": "2022-02-04T21:28:56.958Z"
   },
   {
    "duration": 28,
    "start_time": "2022-02-04T21:28:57.004Z"
   },
   {
    "duration": 36,
    "start_time": "2022-02-04T21:28:57.033Z"
   },
   {
    "duration": 58,
    "start_time": "2022-02-04T21:28:57.071Z"
   },
   {
    "duration": 425,
    "start_time": "2022-02-04T21:28:57.131Z"
   },
   {
    "duration": 225,
    "start_time": "2022-02-04T21:28:57.558Z"
   },
   {
    "duration": 32,
    "start_time": "2022-02-04T21:28:57.784Z"
   },
   {
    "duration": 26,
    "start_time": "2022-02-04T21:28:57.818Z"
   },
   {
    "duration": 270,
    "start_time": "2022-02-04T21:28:57.845Z"
   },
   {
    "duration": 25,
    "start_time": "2022-02-04T21:28:58.117Z"
   },
   {
    "duration": 425,
    "start_time": "2022-02-04T21:28:58.144Z"
   },
   {
    "duration": 49,
    "start_time": "2022-02-04T21:28:58.572Z"
   },
   {
    "duration": 16,
    "start_time": "2022-02-04T21:28:58.623Z"
   },
   {
    "duration": 240,
    "start_time": "2022-02-04T21:28:58.641Z"
   },
   {
    "duration": 30,
    "start_time": "2022-02-04T21:28:58.883Z"
   },
   {
    "duration": 238,
    "start_time": "2022-02-04T21:28:58.915Z"
   },
   {
    "duration": 27,
    "start_time": "2022-02-04T21:28:59.155Z"
   },
   {
    "duration": 33,
    "start_time": "2022-02-04T21:28:59.183Z"
   },
   {
    "duration": 20,
    "start_time": "2022-02-04T21:28:59.218Z"
   },
   {
    "duration": 15,
    "start_time": "2022-02-04T21:28:59.240Z"
   },
   {
    "duration": 338,
    "start_time": "2022-02-04T21:28:59.256Z"
   },
   {
    "duration": 37,
    "start_time": "2022-02-04T21:28:59.596Z"
   },
   {
    "duration": 19,
    "start_time": "2022-02-04T21:28:59.635Z"
   },
   {
    "duration": 346,
    "start_time": "2022-02-04T21:33:25.484Z"
   },
   {
    "duration": 21,
    "start_time": "2022-02-04T21:33:33.474Z"
   },
   {
    "duration": 16,
    "start_time": "2022-02-04T21:34:00.502Z"
   },
   {
    "duration": 75,
    "start_time": "2022-02-04T21:35:19.643Z"
   },
   {
    "duration": 16,
    "start_time": "2022-02-04T21:35:31.149Z"
   },
   {
    "duration": 18917,
    "start_time": "2022-02-04T21:37:35.293Z"
   },
   {
    "duration": 20043,
    "start_time": "2022-02-04T21:38:21.748Z"
   },
   {
    "duration": 5369,
    "start_time": "2022-02-04T21:40:50.166Z"
   },
   {
    "duration": 7557,
    "start_time": "2022-02-04T21:44:10.255Z"
   },
   {
    "duration": 3305,
    "start_time": "2022-02-04T21:45:36.791Z"
   },
   {
    "duration": 487,
    "start_time": "2022-02-04T21:50:07.208Z"
   },
   {
    "duration": 123315,
    "start_time": "2022-02-04T21:50:17.517Z"
   },
   {
    "duration": 260,
    "start_time": "2022-02-04T21:52:32.167Z"
   },
   {
    "duration": 570,
    "start_time": "2022-02-04T21:53:49.657Z"
   },
   {
    "duration": 617,
    "start_time": "2022-02-04T21:53:52.903Z"
   },
   {
    "duration": 622,
    "start_time": "2022-02-04T21:54:06.364Z"
   },
   {
    "duration": 699,
    "start_time": "2022-02-04T21:54:27.133Z"
   },
   {
    "duration": 214,
    "start_time": "2022-02-04T21:54:27.834Z"
   },
   {
    "duration": 8,
    "start_time": "2022-02-04T21:54:28.050Z"
   },
   {
    "duration": 15,
    "start_time": "2022-02-04T21:54:28.060Z"
   },
   {
    "duration": 36,
    "start_time": "2022-02-04T21:54:28.078Z"
   },
   {
    "duration": 21,
    "start_time": "2022-02-04T21:54:28.116Z"
   },
   {
    "duration": 16,
    "start_time": "2022-02-04T21:54:28.139Z"
   },
   {
    "duration": 51,
    "start_time": "2022-02-04T21:54:28.158Z"
   },
   {
    "duration": 12,
    "start_time": "2022-02-04T21:54:28.211Z"
   },
   {
    "duration": 17,
    "start_time": "2022-02-04T21:54:28.225Z"
   },
   {
    "duration": 65,
    "start_time": "2022-02-04T21:54:28.244Z"
   },
   {
    "duration": 24,
    "start_time": "2022-02-04T21:54:28.311Z"
   },
   {
    "duration": 23,
    "start_time": "2022-02-04T21:54:28.337Z"
   },
   {
    "duration": 67,
    "start_time": "2022-02-04T21:54:28.362Z"
   },
   {
    "duration": 42,
    "start_time": "2022-02-04T21:54:28.431Z"
   },
   {
    "duration": 449,
    "start_time": "2022-02-04T21:54:28.476Z"
   },
   {
    "duration": 243,
    "start_time": "2022-02-04T21:54:28.927Z"
   },
   {
    "duration": 39,
    "start_time": "2022-02-04T21:54:29.172Z"
   },
   {
    "duration": 30,
    "start_time": "2022-02-04T21:54:29.213Z"
   },
   {
    "duration": 272,
    "start_time": "2022-02-04T21:54:29.245Z"
   },
   {
    "duration": 24,
    "start_time": "2022-02-04T21:54:29.519Z"
   },
   {
    "duration": 427,
    "start_time": "2022-02-04T21:54:29.545Z"
   },
   {
    "duration": 48,
    "start_time": "2022-02-04T21:54:29.975Z"
   },
   {
    "duration": 16,
    "start_time": "2022-02-04T21:54:30.025Z"
   },
   {
    "duration": 250,
    "start_time": "2022-02-04T21:54:30.043Z"
   },
   {
    "duration": 24,
    "start_time": "2022-02-04T21:54:30.295Z"
   },
   {
    "duration": 250,
    "start_time": "2022-02-04T21:54:30.321Z"
   },
   {
    "duration": 36,
    "start_time": "2022-02-04T21:54:30.573Z"
   },
   {
    "duration": 34,
    "start_time": "2022-02-04T21:54:30.611Z"
   },
   {
    "duration": 20,
    "start_time": "2022-02-04T21:54:30.647Z"
   },
   {
    "duration": 17,
    "start_time": "2022-02-04T21:54:30.669Z"
   },
   {
    "duration": 339,
    "start_time": "2022-02-04T21:54:30.698Z"
   },
   {
    "duration": 36,
    "start_time": "2022-02-04T21:54:31.039Z"
   },
   {
    "duration": 36,
    "start_time": "2022-02-04T21:54:31.077Z"
   },
   {
    "duration": 571,
    "start_time": "2022-02-04T21:54:32.263Z"
   },
   {
    "duration": 605,
    "start_time": "2022-02-04T21:54:45.661Z"
   },
   {
    "duration": 14,
    "start_time": "2022-02-04T21:55:15.950Z"
   },
   {
    "duration": 202,
    "start_time": "2022-02-04T21:55:30.518Z"
   },
   {
    "duration": 208,
    "start_time": "2022-02-04T21:55:42.451Z"
   },
   {
    "duration": 191,
    "start_time": "2022-02-04T21:56:31.094Z"
   },
   {
    "duration": 497,
    "start_time": "2022-02-04T21:57:11.619Z"
   },
   {
    "duration": 716,
    "start_time": "2022-02-04T21:57:48.947Z"
   },
   {
    "duration": 782,
    "start_time": "2022-02-04T21:57:58.477Z"
   },
   {
    "duration": 1071,
    "start_time": "2022-02-04T21:59:01.450Z"
   },
   {
    "duration": 83,
    "start_time": "2022-02-04T22:00:49.381Z"
   },
   {
    "duration": 1078,
    "start_time": "2022-02-04T22:01:04.448Z"
   },
   {
    "duration": 1126,
    "start_time": "2022-02-04T22:02:24.405Z"
   },
   {
    "duration": 1223,
    "start_time": "2022-02-04T22:03:16.943Z"
   },
   {
    "duration": 1154,
    "start_time": "2022-02-04T22:03:26.445Z"
   },
   {
    "duration": 1118,
    "start_time": "2022-02-04T22:03:36.934Z"
   },
   {
    "duration": 1175,
    "start_time": "2022-02-04T22:03:57.023Z"
   },
   {
    "duration": 7,
    "start_time": "2022-02-04T22:05:15.009Z"
   },
   {
    "duration": 7,
    "start_time": "2022-02-04T22:06:27.457Z"
   },
   {
    "duration": 1038,
    "start_time": "2022-02-04T22:06:31.260Z"
   },
   {
    "duration": 12,
    "start_time": "2022-02-04T22:06:41.193Z"
   },
   {
    "duration": 1092,
    "start_time": "2022-02-04T22:06:47.637Z"
   },
   {
    "duration": 340,
    "start_time": "2022-02-04T22:07:04.160Z"
   },
   {
    "duration": 6,
    "start_time": "2022-02-04T22:08:25.685Z"
   },
   {
    "duration": 9,
    "start_time": "2022-02-04T22:09:36.857Z"
   },
   {
    "duration": 6,
    "start_time": "2022-02-04T22:09:39.290Z"
   },
   {
    "duration": 652,
    "start_time": "2022-02-04T22:09:47.655Z"
   },
   {
    "duration": 221,
    "start_time": "2022-02-04T22:09:48.309Z"
   },
   {
    "duration": 10,
    "start_time": "2022-02-04T22:09:48.532Z"
   },
   {
    "duration": 14,
    "start_time": "2022-02-04T22:09:48.544Z"
   },
   {
    "duration": 40,
    "start_time": "2022-02-04T22:09:48.560Z"
   },
   {
    "duration": 22,
    "start_time": "2022-02-04T22:09:48.602Z"
   },
   {
    "duration": 15,
    "start_time": "2022-02-04T22:09:48.626Z"
   },
   {
    "duration": 21,
    "start_time": "2022-02-04T22:09:48.643Z"
   },
   {
    "duration": 42,
    "start_time": "2022-02-04T22:09:48.667Z"
   },
   {
    "duration": 17,
    "start_time": "2022-02-04T22:09:48.711Z"
   },
   {
    "duration": 43,
    "start_time": "2022-02-04T22:09:48.730Z"
   },
   {
    "duration": 44,
    "start_time": "2022-02-04T22:09:48.775Z"
   },
   {
    "duration": 22,
    "start_time": "2022-02-04T22:09:48.821Z"
   },
   {
    "duration": 63,
    "start_time": "2022-02-04T22:09:48.844Z"
   },
   {
    "duration": 38,
    "start_time": "2022-02-04T22:09:48.909Z"
   },
   {
    "duration": 491,
    "start_time": "2022-02-04T22:09:48.949Z"
   },
   {
    "duration": 245,
    "start_time": "2022-02-04T22:09:49.442Z"
   },
   {
    "duration": 31,
    "start_time": "2022-02-04T22:09:49.689Z"
   },
   {
    "duration": 27,
    "start_time": "2022-02-04T22:09:49.722Z"
   },
   {
    "duration": 290,
    "start_time": "2022-02-04T22:09:49.752Z"
   },
   {
    "duration": 27,
    "start_time": "2022-02-04T22:09:50.045Z"
   },
   {
    "duration": 439,
    "start_time": "2022-02-04T22:09:50.075Z"
   },
   {
    "duration": 42,
    "start_time": "2022-02-04T22:09:50.516Z"
   },
   {
    "duration": 39,
    "start_time": "2022-02-04T22:09:50.560Z"
   },
   {
    "duration": 243,
    "start_time": "2022-02-04T22:09:50.601Z"
   },
   {
    "duration": 23,
    "start_time": "2022-02-04T22:09:50.846Z"
   },
   {
    "duration": 29,
    "start_time": "2022-02-04T22:09:50.873Z"
   },
   {
    "duration": 9,
    "start_time": "2022-02-04T22:09:56.327Z"
   },
   {
    "duration": 8,
    "start_time": "2022-02-04T22:09:59.368Z"
   },
   {
    "duration": 2,
    "start_time": "2022-02-04T22:10:20.690Z"
   },
   {
    "duration": 250,
    "start_time": "2022-02-04T22:10:20.695Z"
   },
   {
    "duration": 9,
    "start_time": "2022-02-04T22:10:20.948Z"
   },
   {
    "duration": 15,
    "start_time": "2022-02-04T22:10:20.960Z"
   },
   {
    "duration": 37,
    "start_time": "2022-02-04T22:10:20.978Z"
   },
   {
    "duration": 21,
    "start_time": "2022-02-04T22:10:21.018Z"
   },
   {
    "duration": 17,
    "start_time": "2022-02-04T22:10:21.042Z"
   },
   {
    "duration": 51,
    "start_time": "2022-02-04T22:10:21.062Z"
   },
   {
    "duration": 13,
    "start_time": "2022-02-04T22:10:21.116Z"
   },
   {
    "duration": 15,
    "start_time": "2022-02-04T22:10:21.131Z"
   },
   {
    "duration": 72,
    "start_time": "2022-02-04T22:10:21.147Z"
   },
   {
    "duration": 22,
    "start_time": "2022-02-04T22:10:21.220Z"
   },
   {
    "duration": 21,
    "start_time": "2022-02-04T22:10:21.245Z"
   },
   {
    "duration": 61,
    "start_time": "2022-02-04T22:10:21.268Z"
   },
   {
    "duration": 36,
    "start_time": "2022-02-04T22:10:21.331Z"
   },
   {
    "duration": 442,
    "start_time": "2022-02-04T22:10:21.368Z"
   },
   {
    "duration": 246,
    "start_time": "2022-02-04T22:10:21.812Z"
   },
   {
    "duration": 23,
    "start_time": "2022-02-04T22:10:22.060Z"
   },
   {
    "duration": 26,
    "start_time": "2022-02-04T22:10:22.100Z"
   },
   {
    "duration": 223,
    "start_time": "2022-02-04T22:10:22.128Z"
   },
   {
    "duration": 25,
    "start_time": "2022-02-04T22:10:22.352Z"
   },
   {
    "duration": 420,
    "start_time": "2022-02-04T22:10:22.378Z"
   },
   {
    "duration": 38,
    "start_time": "2022-02-04T22:10:22.800Z"
   },
   {
    "duration": 16,
    "start_time": "2022-02-04T22:10:22.840Z"
   },
   {
    "duration": 254,
    "start_time": "2022-02-04T22:10:22.858Z"
   },
   {
    "duration": 22,
    "start_time": "2022-02-04T22:10:23.113Z"
   },
   {
    "duration": 10,
    "start_time": "2022-02-04T22:10:23.137Z"
   },
   {
    "duration": 8,
    "start_time": "2022-02-04T22:10:23.149Z"
   },
   {
    "duration": 320,
    "start_time": "2022-02-04T22:10:23.158Z"
   },
   {
    "duration": 33,
    "start_time": "2022-02-04T22:10:23.479Z"
   },
   {
    "duration": 20,
    "start_time": "2022-02-04T22:10:23.514Z"
   },
   {
    "duration": 22,
    "start_time": "2022-02-04T22:10:23.536Z"
   },
   {
    "duration": 49,
    "start_time": "2022-02-04T22:10:23.560Z"
   },
   {
    "duration": 334,
    "start_time": "2022-02-04T22:10:23.611Z"
   },
   {
    "duration": 36,
    "start_time": "2022-02-04T22:10:23.948Z"
   },
   {
    "duration": 31,
    "start_time": "2022-02-04T22:10:23.986Z"
   },
   {
    "duration": 1141,
    "start_time": "2022-02-04T22:10:24.020Z"
   },
   {
    "duration": 1058,
    "start_time": "2022-02-04T22:10:25.163Z"
   },
   {
    "duration": 15,
    "start_time": "2022-02-04T22:11:54.379Z"
   },
   {
    "duration": 205,
    "start_time": "2022-02-04T22:12:22.058Z"
   },
   {
    "duration": 675,
    "start_time": "2022-02-06T13:28:17.952Z"
   },
   {
    "duration": 207,
    "start_time": "2022-02-06T13:28:18.628Z"
   },
   {
    "duration": 7,
    "start_time": "2022-02-06T13:28:18.837Z"
   },
   {
    "duration": 14,
    "start_time": "2022-02-06T13:28:18.846Z"
   },
   {
    "duration": 40,
    "start_time": "2022-02-06T13:28:18.861Z"
   },
   {
    "duration": 20,
    "start_time": "2022-02-06T13:28:18.903Z"
   },
   {
    "duration": 14,
    "start_time": "2022-02-06T13:28:18.925Z"
   },
   {
    "duration": 16,
    "start_time": "2022-02-06T13:28:18.941Z"
   },
   {
    "duration": 42,
    "start_time": "2022-02-06T13:28:18.959Z"
   },
   {
    "duration": 16,
    "start_time": "2022-02-06T13:28:19.003Z"
   },
   {
    "duration": 59,
    "start_time": "2022-02-06T13:28:19.021Z"
   },
   {
    "duration": 34,
    "start_time": "2022-02-06T13:28:19.082Z"
   },
   {
    "duration": 45,
    "start_time": "2022-02-06T13:28:19.118Z"
   },
   {
    "duration": 41,
    "start_time": "2022-02-06T13:28:19.165Z"
   },
   {
    "duration": 36,
    "start_time": "2022-02-06T13:28:19.207Z"
   },
   {
    "duration": 441,
    "start_time": "2022-02-06T13:28:19.245Z"
   },
   {
    "duration": 224,
    "start_time": "2022-02-06T13:28:19.687Z"
   },
   {
    "duration": 22,
    "start_time": "2022-02-06T13:28:19.913Z"
   },
   {
    "duration": 25,
    "start_time": "2022-02-06T13:28:19.936Z"
   },
   {
    "duration": 280,
    "start_time": "2022-02-06T13:28:19.963Z"
   },
   {
    "duration": 24,
    "start_time": "2022-02-06T13:28:20.245Z"
   },
   {
    "duration": 411,
    "start_time": "2022-02-06T13:28:20.271Z"
   },
   {
    "duration": 48,
    "start_time": "2022-02-06T13:28:20.686Z"
   },
   {
    "duration": 14,
    "start_time": "2022-02-06T13:28:20.737Z"
   },
   {
    "duration": 248,
    "start_time": "2022-02-06T13:28:20.753Z"
   },
   {
    "duration": 21,
    "start_time": "2022-02-06T13:28:21.002Z"
   },
   {
    "duration": 6,
    "start_time": "2022-02-06T13:28:21.025Z"
   },
   {
    "duration": 11,
    "start_time": "2022-02-06T13:28:21.033Z"
   },
   {
    "duration": 276,
    "start_time": "2022-02-06T13:28:21.046Z"
   },
   {
    "duration": 29,
    "start_time": "2022-02-06T13:28:21.324Z"
   },
   {
    "duration": 31,
    "start_time": "2022-02-06T13:28:21.356Z"
   },
   {
    "duration": 23,
    "start_time": "2022-02-06T13:28:21.399Z"
   },
   {
    "duration": 16,
    "start_time": "2022-02-06T13:28:21.424Z"
   },
   {
    "duration": 357,
    "start_time": "2022-02-06T13:28:21.443Z"
   },
   {
    "duration": 36,
    "start_time": "2022-02-06T13:28:21.802Z"
   },
   {
    "duration": 19,
    "start_time": "2022-02-06T13:28:21.840Z"
   },
   {
    "duration": 1074,
    "start_time": "2022-02-06T13:28:21.861Z"
   },
   {
    "duration": 1098,
    "start_time": "2022-02-06T13:28:26.288Z"
   },
   {
    "duration": 1015,
    "start_time": "2022-02-06T13:28:57.595Z"
   },
   {
    "duration": 1222,
    "start_time": "2022-02-06T13:29:55.084Z"
   },
   {
    "duration": 771,
    "start_time": "2022-02-06T13:34:06.793Z"
   },
   {
    "duration": 234,
    "start_time": "2022-02-06T13:34:07.567Z"
   },
   {
    "duration": 8,
    "start_time": "2022-02-06T13:34:07.803Z"
   },
   {
    "duration": 30,
    "start_time": "2022-02-06T13:34:07.814Z"
   },
   {
    "duration": 21,
    "start_time": "2022-02-06T13:34:07.846Z"
   },
   {
    "duration": 35,
    "start_time": "2022-02-06T13:34:07.870Z"
   },
   {
    "duration": 16,
    "start_time": "2022-02-06T13:34:07.907Z"
   },
   {
    "duration": 17,
    "start_time": "2022-02-06T13:34:07.925Z"
   },
   {
    "duration": 12,
    "start_time": "2022-02-06T13:34:07.945Z"
   },
   {
    "duration": 50,
    "start_time": "2022-02-06T13:34:07.958Z"
   },
   {
    "duration": 44,
    "start_time": "2022-02-06T13:34:08.010Z"
   },
   {
    "duration": 44,
    "start_time": "2022-02-06T13:34:08.056Z"
   },
   {
    "duration": 26,
    "start_time": "2022-02-06T13:34:08.102Z"
   },
   {
    "duration": 71,
    "start_time": "2022-02-06T13:34:08.130Z"
   },
   {
    "duration": 48,
    "start_time": "2022-02-06T13:34:08.205Z"
   },
   {
    "duration": 467,
    "start_time": "2022-02-06T13:34:08.255Z"
   },
   {
    "duration": 265,
    "start_time": "2022-02-06T13:34:08.724Z"
   },
   {
    "duration": 26,
    "start_time": "2022-02-06T13:34:08.991Z"
   },
   {
    "duration": 32,
    "start_time": "2022-02-06T13:34:09.019Z"
   },
   {
    "duration": 286,
    "start_time": "2022-02-06T13:34:09.053Z"
   },
   {
    "duration": 26,
    "start_time": "2022-02-06T13:34:09.341Z"
   },
   {
    "duration": 434,
    "start_time": "2022-02-06T13:34:09.369Z"
   },
   {
    "duration": 39,
    "start_time": "2022-02-06T13:34:09.806Z"
   },
   {
    "duration": 16,
    "start_time": "2022-02-06T13:34:09.847Z"
   },
   {
    "duration": 267,
    "start_time": "2022-02-06T13:34:09.864Z"
   },
   {
    "duration": 24,
    "start_time": "2022-02-06T13:34:10.132Z"
   },
   {
    "duration": 8,
    "start_time": "2022-02-06T13:34:10.158Z"
   },
   {
    "duration": 34,
    "start_time": "2022-02-06T13:34:10.168Z"
   },
   {
    "duration": 247,
    "start_time": "2022-02-06T13:34:10.204Z"
   },
   {
    "duration": 29,
    "start_time": "2022-02-06T13:34:10.453Z"
   },
   {
    "duration": 31,
    "start_time": "2022-02-06T13:34:10.484Z"
   },
   {
    "duration": 20,
    "start_time": "2022-02-06T13:34:10.517Z"
   },
   {
    "duration": 21,
    "start_time": "2022-02-06T13:34:10.538Z"
   },
   {
    "duration": 348,
    "start_time": "2022-02-06T13:34:10.561Z"
   },
   {
    "duration": 37,
    "start_time": "2022-02-06T13:34:10.911Z"
   },
   {
    "duration": 19,
    "start_time": "2022-02-06T13:34:10.950Z"
   },
   {
    "duration": 1164,
    "start_time": "2022-02-06T13:34:10.971Z"
   },
   {
    "duration": 1463,
    "start_time": "2022-02-06T13:34:12.137Z"
   },
   {
    "duration": 292,
    "start_time": "2022-02-06T13:38:33.695Z"
   },
   {
    "duration": 17,
    "start_time": "2022-02-06T13:38:41.274Z"
   },
   {
    "duration": 222,
    "start_time": "2022-02-06T13:39:15.766Z"
   },
   {
    "duration": 215,
    "start_time": "2022-02-06T13:39:24.201Z"
   },
   {
    "duration": 228,
    "start_time": "2022-02-06T13:39:30.690Z"
   },
   {
    "duration": 9,
    "start_time": "2022-02-06T13:40:14.082Z"
   },
   {
    "duration": 1466,
    "start_time": "2022-02-06T13:40:23.318Z"
   },
   {
    "duration": 9,
    "start_time": "2022-02-06T13:40:52.369Z"
   },
   {
    "duration": 11,
    "start_time": "2022-02-06T13:42:09.651Z"
   },
   {
    "duration": 236,
    "start_time": "2022-02-06T13:42:28.209Z"
   },
   {
    "duration": 29,
    "start_time": "2022-02-06T13:42:35.981Z"
   },
   {
    "duration": 226,
    "start_time": "2022-02-06T13:42:47.533Z"
   },
   {
    "duration": 36,
    "start_time": "2022-02-06T13:42:59.009Z"
   },
   {
    "duration": 20,
    "start_time": "2022-02-06T13:45:28.830Z"
   },
   {
    "duration": 27,
    "start_time": "2022-02-06T13:45:34.454Z"
   },
   {
    "duration": 21,
    "start_time": "2022-02-06T13:46:12.437Z"
   },
   {
    "duration": 23,
    "start_time": "2022-02-06T13:46:16.284Z"
   },
   {
    "duration": 22,
    "start_time": "2022-02-06T13:46:24.292Z"
   },
   {
    "duration": 24,
    "start_time": "2022-02-06T13:46:32.515Z"
   },
   {
    "duration": 24,
    "start_time": "2022-02-06T13:46:41.614Z"
   },
   {
    "duration": 25,
    "start_time": "2022-02-06T13:46:54.637Z"
   },
   {
    "duration": 19,
    "start_time": "2022-02-06T13:47:25.541Z"
   },
   {
    "duration": 28,
    "start_time": "2022-02-06T13:47:29.209Z"
   },
   {
    "duration": 27,
    "start_time": "2022-02-06T13:47:45.438Z"
   },
   {
    "duration": 29,
    "start_time": "2022-02-06T13:48:16.012Z"
   },
   {
    "duration": 27,
    "start_time": "2022-02-06T13:48:23.648Z"
   },
   {
    "duration": 37,
    "start_time": "2022-02-06T13:48:29.452Z"
   },
   {
    "duration": 22,
    "start_time": "2022-02-06T13:48:39.878Z"
   },
   {
    "duration": 31,
    "start_time": "2022-02-06T13:48:44.835Z"
   },
   {
    "duration": 218,
    "start_time": "2022-02-06T13:50:37.961Z"
   },
   {
    "duration": 9,
    "start_time": "2022-02-06T13:50:45.823Z"
   },
   {
    "duration": 8,
    "start_time": "2022-02-06T13:50:55.108Z"
   },
   {
    "duration": 4,
    "start_time": "2022-02-06T13:57:00.705Z"
   },
   {
    "duration": 10,
    "start_time": "2022-02-06T13:57:05.664Z"
   },
   {
    "duration": 12,
    "start_time": "2022-02-06T13:57:13.876Z"
   },
   {
    "duration": 12,
    "start_time": "2022-02-06T13:57:18.142Z"
   },
   {
    "duration": 27,
    "start_time": "2022-02-06T13:57:24.356Z"
   },
   {
    "duration": 10,
    "start_time": "2022-02-06T13:57:26.571Z"
   },
   {
    "duration": 11,
    "start_time": "2022-02-06T13:57:28.460Z"
   },
   {
    "duration": 11,
    "start_time": "2022-02-06T13:57:40.734Z"
   },
   {
    "duration": 28,
    "start_time": "2022-02-06T13:57:45.183Z"
   },
   {
    "duration": 9,
    "start_time": "2022-02-06T13:57:47.199Z"
   },
   {
    "duration": 10,
    "start_time": "2022-02-06T13:57:49.114Z"
   },
   {
    "duration": 11,
    "start_time": "2022-02-06T13:58:42.736Z"
   },
   {
    "duration": 25,
    "start_time": "2022-02-06T13:58:50.434Z"
   },
   {
    "duration": 8,
    "start_time": "2022-02-06T13:58:52.227Z"
   },
   {
    "duration": 10,
    "start_time": "2022-02-06T13:58:54.112Z"
   },
   {
    "duration": 4,
    "start_time": "2022-02-06T13:59:12.398Z"
   },
   {
    "duration": 10,
    "start_time": "2022-02-06T13:59:18.224Z"
   },
   {
    "duration": 26,
    "start_time": "2022-02-06T13:59:22.141Z"
   },
   {
    "duration": 8,
    "start_time": "2022-02-06T13:59:24.280Z"
   },
   {
    "duration": 10,
    "start_time": "2022-02-06T13:59:25.949Z"
   },
   {
    "duration": 796,
    "start_time": "2022-02-06T17:49:12.590Z"
   },
   {
    "duration": 219,
    "start_time": "2022-02-06T17:49:13.388Z"
   },
   {
    "duration": 15,
    "start_time": "2022-02-06T17:49:13.610Z"
   },
   {
    "duration": 19,
    "start_time": "2022-02-06T17:49:13.627Z"
   },
   {
    "duration": 26,
    "start_time": "2022-02-06T17:49:13.649Z"
   },
   {
    "duration": 49,
    "start_time": "2022-02-06T17:49:13.677Z"
   },
   {
    "duration": 20,
    "start_time": "2022-02-06T17:49:13.729Z"
   },
   {
    "duration": 16,
    "start_time": "2022-02-06T17:49:13.752Z"
   },
   {
    "duration": 40,
    "start_time": "2022-02-06T17:49:13.771Z"
   },
   {
    "duration": 16,
    "start_time": "2022-02-06T17:49:13.814Z"
   },
   {
    "duration": 46,
    "start_time": "2022-02-06T17:49:13.832Z"
   },
   {
    "duration": 22,
    "start_time": "2022-02-06T17:49:13.908Z"
   },
   {
    "duration": 33,
    "start_time": "2022-02-06T17:49:13.932Z"
   },
   {
    "duration": 51,
    "start_time": "2022-02-06T17:49:13.967Z"
   },
   {
    "duration": 36,
    "start_time": "2022-02-06T17:49:14.020Z"
   },
   {
    "duration": 411,
    "start_time": "2022-02-06T17:49:14.058Z"
   },
   {
    "duration": 228,
    "start_time": "2022-02-06T17:49:14.472Z"
   },
   {
    "duration": 24,
    "start_time": "2022-02-06T17:49:14.702Z"
   },
   {
    "duration": 28,
    "start_time": "2022-02-06T17:49:14.728Z"
   },
   {
    "duration": 256,
    "start_time": "2022-02-06T17:49:14.757Z"
   },
   {
    "duration": 25,
    "start_time": "2022-02-06T17:49:15.015Z"
   },
   {
    "duration": 393,
    "start_time": "2022-02-06T17:49:15.042Z"
   },
   {
    "duration": 38,
    "start_time": "2022-02-06T17:49:15.439Z"
   },
   {
    "duration": 37,
    "start_time": "2022-02-06T17:49:15.480Z"
   },
   {
    "duration": 225,
    "start_time": "2022-02-06T17:49:15.520Z"
   },
   {
    "duration": 22,
    "start_time": "2022-02-06T17:49:15.747Z"
   },
   {
    "duration": 8,
    "start_time": "2022-02-06T17:49:15.771Z"
   },
   {
    "duration": 31,
    "start_time": "2022-02-06T17:49:15.781Z"
   },
   {
    "duration": 236,
    "start_time": "2022-02-06T17:49:15.814Z"
   },
   {
    "duration": 27,
    "start_time": "2022-02-06T17:49:16.053Z"
   },
   {
    "duration": 41,
    "start_time": "2022-02-06T17:49:16.082Z"
   },
   {
    "duration": 21,
    "start_time": "2022-02-06T17:49:16.125Z"
   },
   {
    "duration": 20,
    "start_time": "2022-02-06T17:49:16.148Z"
   },
   {
    "duration": 313,
    "start_time": "2022-02-06T17:49:16.171Z"
   },
   {
    "duration": 47,
    "start_time": "2022-02-06T17:49:16.485Z"
   },
   {
    "duration": 18,
    "start_time": "2022-02-06T17:49:16.534Z"
   },
   {
    "duration": 1229,
    "start_time": "2022-02-06T17:49:16.553Z"
   },
   {
    "duration": 1133,
    "start_time": "2022-02-06T17:49:17.785Z"
   },
   {
    "duration": 11,
    "start_time": "2022-02-06T17:49:18.920Z"
   },
   {
    "duration": 31,
    "start_time": "2022-02-06T17:49:18.933Z"
   },
   {
    "duration": 42,
    "start_time": "2022-02-06T17:49:18.965Z"
   },
   {
    "duration": 10,
    "start_time": "2022-02-06T17:49:19.010Z"
   },
   {
    "duration": 864,
    "start_time": "2022-02-06T17:50:34.244Z"
   },
   {
    "duration": 318,
    "start_time": "2022-02-06T17:50:35.111Z"
   },
   {
    "duration": 12,
    "start_time": "2022-02-06T17:50:35.432Z"
   },
   {
    "duration": 23,
    "start_time": "2022-02-06T17:50:35.447Z"
   },
   {
    "duration": 51,
    "start_time": "2022-02-06T17:50:35.472Z"
   },
   {
    "duration": 25,
    "start_time": "2022-02-06T17:50:35.525Z"
   },
   {
    "duration": 16,
    "start_time": "2022-02-06T17:50:35.552Z"
   },
   {
    "duration": 48,
    "start_time": "2022-02-06T17:50:35.571Z"
   },
   {
    "duration": 14,
    "start_time": "2022-02-06T17:50:35.623Z"
   },
   {
    "duration": 3,
    "start_time": "2022-02-06T17:50:35.639Z"
   },
   {
    "duration": 73,
    "start_time": "2022-02-06T17:50:35.644Z"
   },
   {
    "duration": 23,
    "start_time": "2022-02-06T17:50:35.719Z"
   },
   {
    "duration": 25,
    "start_time": "2022-02-06T17:50:35.744Z"
   },
   {
    "duration": 63,
    "start_time": "2022-02-06T17:50:35.770Z"
   },
   {
    "duration": 35,
    "start_time": "2022-02-06T17:50:35.835Z"
   },
   {
    "duration": 477,
    "start_time": "2022-02-06T17:50:35.871Z"
   },
   {
    "duration": 235,
    "start_time": "2022-02-06T17:50:36.351Z"
   },
   {
    "duration": 33,
    "start_time": "2022-02-06T17:50:36.588Z"
   },
   {
    "duration": 32,
    "start_time": "2022-02-06T17:50:36.624Z"
   },
   {
    "duration": 374,
    "start_time": "2022-02-06T17:50:36.659Z"
   },
   {
    "duration": 26,
    "start_time": "2022-02-06T17:50:37.036Z"
   },
   {
    "duration": 429,
    "start_time": "2022-02-06T17:50:37.064Z"
   },
   {
    "duration": 39,
    "start_time": "2022-02-06T17:50:37.497Z"
   },
   {
    "duration": 16,
    "start_time": "2022-02-06T17:50:37.539Z"
   },
   {
    "duration": 258,
    "start_time": "2022-02-06T17:50:37.557Z"
   },
   {
    "duration": 20,
    "start_time": "2022-02-06T17:50:37.818Z"
   },
   {
    "duration": 14,
    "start_time": "2022-02-06T17:50:37.840Z"
   },
   {
    "duration": 14,
    "start_time": "2022-02-06T17:50:37.856Z"
   },
   {
    "duration": 252,
    "start_time": "2022-02-06T17:50:37.872Z"
   },
   {
    "duration": 30,
    "start_time": "2022-02-06T17:50:38.126Z"
   },
   {
    "duration": 28,
    "start_time": "2022-02-06T17:50:38.159Z"
   },
   {
    "duration": 22,
    "start_time": "2022-02-06T17:50:38.208Z"
   },
   {
    "duration": 21,
    "start_time": "2022-02-06T17:50:38.232Z"
   },
   {
    "duration": 318,
    "start_time": "2022-02-06T17:50:38.255Z"
   },
   {
    "duration": 49,
    "start_time": "2022-02-06T17:50:38.575Z"
   },
   {
    "duration": 20,
    "start_time": "2022-02-06T17:50:38.626Z"
   },
   {
    "duration": 1132,
    "start_time": "2022-02-06T17:50:38.648Z"
   },
   {
    "duration": 1104,
    "start_time": "2022-02-06T17:50:39.781Z"
   },
   {
    "duration": 21,
    "start_time": "2022-02-06T17:50:40.887Z"
   },
   {
    "duration": 39,
    "start_time": "2022-02-06T17:50:40.910Z"
   },
   {
    "duration": 11,
    "start_time": "2022-02-06T17:50:40.951Z"
   },
   {
    "duration": 15,
    "start_time": "2022-02-06T17:50:40.964Z"
   },
   {
    "duration": 10,
    "start_time": "2022-02-06T17:53:52.730Z"
   },
   {
    "duration": 222,
    "start_time": "2022-02-06T17:54:06.003Z"
   },
   {
    "duration": 725,
    "start_time": "2022-02-06T17:54:39.389Z"
   },
   {
    "duration": 215,
    "start_time": "2022-02-06T17:54:41.440Z"
   },
   {
    "duration": 10,
    "start_time": "2022-02-06T17:54:46.440Z"
   },
   {
    "duration": 13,
    "start_time": "2022-02-06T17:55:03.010Z"
   },
   {
    "duration": 19,
    "start_time": "2022-02-06T17:55:07.257Z"
   },
   {
    "duration": 24,
    "start_time": "2022-02-06T17:55:16.841Z"
   },
   {
    "duration": 16,
    "start_time": "2022-02-06T17:55:22.543Z"
   },
   {
    "duration": 17,
    "start_time": "2022-02-06T17:55:32.750Z"
   },
   {
    "duration": 14,
    "start_time": "2022-02-06T17:55:36.589Z"
   },
   {
    "duration": 44,
    "start_time": "2022-02-06T17:56:11.426Z"
   },
   {
    "duration": 22,
    "start_time": "2022-02-06T17:56:21.936Z"
   },
   {
    "duration": 24,
    "start_time": "2022-02-06T17:56:24.724Z"
   },
   {
    "duration": 36,
    "start_time": "2022-02-06T17:56:39.304Z"
   },
   {
    "duration": 36,
    "start_time": "2022-02-06T17:56:43.929Z"
   },
   {
    "duration": 369,
    "start_time": "2022-02-06T17:56:48.726Z"
   },
   {
    "duration": 32,
    "start_time": "2022-02-06T17:57:30.118Z"
   },
   {
    "duration": 293,
    "start_time": "2022-02-06T17:59:00.121Z"
   },
   {
    "duration": 201,
    "start_time": "2022-02-06T17:59:10.538Z"
   },
   {
    "duration": 10,
    "start_time": "2022-02-06T17:59:29.591Z"
   },
   {
    "duration": 10,
    "start_time": "2022-02-06T17:59:38.722Z"
   },
   {
    "duration": 5143,
    "start_time": "2022-02-06T18:01:33.700Z"
   },
   {
    "duration": 11,
    "start_time": "2022-02-06T18:01:43.674Z"
   },
   {
    "duration": 16,
    "start_time": "2022-02-06T18:02:34.907Z"
   },
   {
    "duration": 17,
    "start_time": "2022-02-06T18:03:55.052Z"
   },
   {
    "duration": 21,
    "start_time": "2022-02-06T18:04:35.340Z"
   },
   {
    "duration": 21,
    "start_time": "2022-02-06T18:04:57.420Z"
   },
   {
    "duration": 19,
    "start_time": "2022-02-06T18:04:58.971Z"
   },
   {
    "duration": 3,
    "start_time": "2022-02-06T18:05:08.190Z"
   },
   {
    "duration": 5,
    "start_time": "2022-02-06T18:05:10.854Z"
   },
   {
    "duration": 29,
    "start_time": "2022-02-06T18:05:16.890Z"
   },
   {
    "duration": 4,
    "start_time": "2022-02-06T18:05:25.182Z"
   },
   {
    "duration": 44,
    "start_time": "2022-02-06T18:05:27.287Z"
   },
   {
    "duration": 694,
    "start_time": "2022-02-06T18:05:47.849Z"
   },
   {
    "duration": 213,
    "start_time": "2022-02-06T18:05:48.545Z"
   },
   {
    "duration": 9,
    "start_time": "2022-02-06T18:05:48.761Z"
   },
   {
    "duration": 20,
    "start_time": "2022-02-06T18:05:48.773Z"
   },
   {
    "duration": 22,
    "start_time": "2022-02-06T18:05:48.808Z"
   },
   {
    "duration": 20,
    "start_time": "2022-02-06T18:05:48.833Z"
   },
   {
    "duration": 17,
    "start_time": "2022-02-06T18:05:48.856Z"
   },
   {
    "duration": 48,
    "start_time": "2022-02-06T18:05:48.876Z"
   },
   {
    "duration": 13,
    "start_time": "2022-02-06T18:05:48.926Z"
   },
   {
    "duration": 3,
    "start_time": "2022-02-06T18:05:48.941Z"
   },
   {
    "duration": 78,
    "start_time": "2022-02-06T18:05:48.946Z"
   },
   {
    "duration": 24,
    "start_time": "2022-02-06T18:05:49.026Z"
   },
   {
    "duration": 27,
    "start_time": "2022-02-06T18:05:49.052Z"
   },
   {
    "duration": 63,
    "start_time": "2022-02-06T18:05:49.081Z"
   },
   {
    "duration": 38,
    "start_time": "2022-02-06T18:05:49.146Z"
   },
   {
    "duration": 543,
    "start_time": "2022-02-06T18:05:49.208Z"
   },
   {
    "duration": 35,
    "start_time": "2022-02-06T18:05:49.753Z"
   },
   {
    "duration": 53,
    "start_time": "2022-02-06T18:05:49.791Z"
   },
   {
    "duration": 12,
    "start_time": "2022-02-06T18:05:49.847Z"
   },
   {
    "duration": 17,
    "start_time": "2022-02-06T18:23:54.490Z"
   },
   {
    "duration": 11,
    "start_time": "2022-02-06T18:24:39.193Z"
   },
   {
    "duration": 13,
    "start_time": "2022-02-06T18:25:03.894Z"
   },
   {
    "duration": 35,
    "start_time": "2022-02-06T18:25:23.328Z"
   },
   {
    "duration": 279,
    "start_time": "2022-02-06T18:26:43.825Z"
   },
   {
    "duration": 207,
    "start_time": "2022-02-06T18:26:53.609Z"
   },
   {
    "duration": 229,
    "start_time": "2022-02-06T19:03:04.948Z"
   },
   {
    "duration": 244,
    "start_time": "2022-02-06T19:03:30.046Z"
   },
   {
    "duration": 195,
    "start_time": "2022-02-06T19:03:44.082Z"
   },
   {
    "duration": 341,
    "start_time": "2022-02-06T19:03:46.664Z"
   },
   {
    "duration": 353,
    "start_time": "2022-02-06T19:04:12.479Z"
   },
   {
    "duration": 359,
    "start_time": "2022-02-06T19:04:22.067Z"
   },
   {
    "duration": 363,
    "start_time": "2022-02-06T19:04:35.801Z"
   },
   {
    "duration": 448,
    "start_time": "2022-02-06T19:04:43.824Z"
   },
   {
    "duration": 37,
    "start_time": "2022-02-06T19:05:30.213Z"
   },
   {
    "duration": 31,
    "start_time": "2022-02-06T19:05:36.772Z"
   },
   {
    "duration": 11,
    "start_time": "2022-02-06T19:05:56.760Z"
   },
   {
    "duration": 82,
    "start_time": "2022-02-06T19:07:02.739Z"
   },
   {
    "duration": 3267,
    "start_time": "2022-02-06T19:07:17.510Z"
   },
   {
    "duration": 371,
    "start_time": "2022-02-06T19:07:39.325Z"
   },
   {
    "duration": 11,
    "start_time": "2022-02-06T19:07:56.870Z"
   },
   {
    "duration": 32,
    "start_time": "2022-02-06T19:08:00.867Z"
   },
   {
    "duration": 12,
    "start_time": "2022-02-06T19:08:26.542Z"
   },
   {
    "duration": 5772,
    "start_time": "2022-02-06T19:09:10.603Z"
   },
   {
    "duration": 6,
    "start_time": "2022-02-06T19:09:28.918Z"
   },
   {
    "duration": 14,
    "start_time": "2022-02-06T19:09:30.504Z"
   },
   {
    "duration": 640,
    "start_time": "2022-02-06T19:09:56.060Z"
   },
   {
    "duration": 211,
    "start_time": "2022-02-06T19:09:56.702Z"
   },
   {
    "duration": 8,
    "start_time": "2022-02-06T19:09:56.915Z"
   },
   {
    "duration": 16,
    "start_time": "2022-02-06T19:09:56.925Z"
   },
   {
    "duration": 23,
    "start_time": "2022-02-06T19:09:56.943Z"
   },
   {
    "duration": 45,
    "start_time": "2022-02-06T19:09:56.968Z"
   },
   {
    "duration": 16,
    "start_time": "2022-02-06T19:09:57.014Z"
   },
   {
    "duration": 18,
    "start_time": "2022-02-06T19:09:57.033Z"
   },
   {
    "duration": 12,
    "start_time": "2022-02-06T19:09:57.053Z"
   },
   {
    "duration": 3,
    "start_time": "2022-02-06T19:09:57.067Z"
   },
   {
    "duration": 46,
    "start_time": "2022-02-06T19:09:57.108Z"
   },
   {
    "duration": 21,
    "start_time": "2022-02-06T19:09:57.156Z"
   },
   {
    "duration": 49,
    "start_time": "2022-02-06T19:09:57.179Z"
   },
   {
    "duration": 35,
    "start_time": "2022-02-06T19:09:57.229Z"
   },
   {
    "duration": 52,
    "start_time": "2022-02-06T19:09:57.266Z"
   },
   {
    "duration": 380,
    "start_time": "2022-02-06T19:09:57.319Z"
   },
   {
    "duration": 33,
    "start_time": "2022-02-06T19:09:57.701Z"
   },
   {
    "duration": 27,
    "start_time": "2022-02-06T19:09:57.736Z"
   },
   {
    "duration": 5,
    "start_time": "2022-02-06T19:10:00.610Z"
   },
   {
    "duration": 13,
    "start_time": "2022-02-06T19:10:01.897Z"
   },
   {
    "duration": 29,
    "start_time": "2022-02-06T19:10:10.752Z"
   },
   {
    "duration": 11,
    "start_time": "2022-02-06T19:10:28.972Z"
   },
   {
    "duration": 31,
    "start_time": "2022-02-06T19:11:24.270Z"
   },
   {
    "duration": 11,
    "start_time": "2022-02-06T19:11:39.754Z"
   },
   {
    "duration": 14,
    "start_time": "2022-02-06T19:12:18.546Z"
   },
   {
    "duration": 725,
    "start_time": "2022-02-06T19:15:13.974Z"
   },
   {
    "duration": 207,
    "start_time": "2022-02-06T19:15:14.701Z"
   },
   {
    "duration": 9,
    "start_time": "2022-02-06T19:15:14.911Z"
   },
   {
    "duration": 14,
    "start_time": "2022-02-06T19:15:14.922Z"
   },
   {
    "duration": 19,
    "start_time": "2022-02-06T19:15:14.938Z"
   },
   {
    "duration": 50,
    "start_time": "2022-02-06T19:15:14.959Z"
   },
   {
    "duration": 17,
    "start_time": "2022-02-06T19:15:15.011Z"
   },
   {
    "duration": 25,
    "start_time": "2022-02-06T19:15:15.032Z"
   },
   {
    "duration": 12,
    "start_time": "2022-02-06T19:15:15.059Z"
   },
   {
    "duration": 33,
    "start_time": "2022-02-06T19:15:15.074Z"
   },
   {
    "duration": 53,
    "start_time": "2022-02-06T19:15:15.110Z"
   },
   {
    "duration": 23,
    "start_time": "2022-02-06T19:15:15.165Z"
   },
   {
    "duration": 20,
    "start_time": "2022-02-06T19:15:15.191Z"
   },
   {
    "duration": 28,
    "start_time": "2022-02-06T19:15:15.213Z"
   },
   {
    "duration": 36,
    "start_time": "2022-02-06T19:15:15.242Z"
   },
   {
    "duration": 60,
    "start_time": "2022-02-06T19:15:15.280Z"
   },
   {
    "duration": 365,
    "start_time": "2022-02-06T19:15:15.342Z"
   },
   {
    "duration": 33,
    "start_time": "2022-02-06T19:15:15.709Z"
   },
   {
    "duration": 36,
    "start_time": "2022-02-06T19:15:15.744Z"
   },
   {
    "duration": 338,
    "start_time": "2022-02-06T19:15:55.638Z"
   },
   {
    "duration": 395,
    "start_time": "2022-02-06T19:16:14.965Z"
   },
   {
    "duration": 115,
    "start_time": "2022-02-06T19:16:25.710Z"
   },
   {
    "duration": 450,
    "start_time": "2022-02-06T19:16:32.030Z"
   },
   {
    "duration": 9,
    "start_time": "2022-02-06T19:17:02.500Z"
   },
   {
    "duration": 626,
    "start_time": "2022-02-06T19:18:14.158Z"
   },
   {
    "duration": 212,
    "start_time": "2022-02-06T19:18:14.786Z"
   },
   {
    "duration": 9,
    "start_time": "2022-02-06T19:18:15.009Z"
   },
   {
    "duration": 27,
    "start_time": "2022-02-06T19:18:15.020Z"
   },
   {
    "duration": 18,
    "start_time": "2022-02-06T19:18:15.049Z"
   },
   {
    "duration": 38,
    "start_time": "2022-02-06T19:18:15.069Z"
   },
   {
    "duration": 14,
    "start_time": "2022-02-06T19:18:15.110Z"
   },
   {
    "duration": 17,
    "start_time": "2022-02-06T19:18:15.127Z"
   },
   {
    "duration": 13,
    "start_time": "2022-02-06T19:18:15.146Z"
   },
   {
    "duration": 2,
    "start_time": "2022-02-06T19:18:15.161Z"
   },
   {
    "duration": 81,
    "start_time": "2022-02-06T19:18:15.165Z"
   },
   {
    "duration": 22,
    "start_time": "2022-02-06T19:18:15.248Z"
   },
   {
    "duration": 10,
    "start_time": "2022-02-06T19:18:18.098Z"
   },
   {
    "duration": 39,
    "start_time": "2022-02-06T19:18:26.839Z"
   },
   {
    "duration": 38,
    "start_time": "2022-02-06T19:18:40.262Z"
   },
   {
    "duration": 368,
    "start_time": "2022-02-06T19:18:43.375Z"
   },
   {
    "duration": 364,
    "start_time": "2022-02-06T19:18:53.529Z"
   },
   {
    "duration": 429,
    "start_time": "2022-02-06T19:19:07.312Z"
   },
   {
    "duration": 434,
    "start_time": "2022-02-06T19:19:11.926Z"
   },
   {
    "duration": 365,
    "start_time": "2022-02-06T19:19:17.390Z"
   },
   {
    "duration": 400,
    "start_time": "2022-02-06T19:19:24.094Z"
   },
   {
    "duration": 411,
    "start_time": "2022-02-06T19:19:30.710Z"
   },
   {
    "duration": 457,
    "start_time": "2022-02-06T19:19:41.764Z"
   },
   {
    "duration": 504,
    "start_time": "2022-02-06T19:19:54.128Z"
   },
   {
    "duration": 420,
    "start_time": "2022-02-06T19:20:00.372Z"
   },
   {
    "duration": 406,
    "start_time": "2022-02-06T19:20:38.055Z"
   },
   {
    "duration": 25,
    "start_time": "2022-02-06T19:21:09.273Z"
   },
   {
    "duration": 29,
    "start_time": "2022-02-06T19:21:23.232Z"
   },
   {
    "duration": 314,
    "start_time": "2022-02-06T19:22:18.622Z"
   },
   {
    "duration": 476,
    "start_time": "2022-02-06T19:22:36.289Z"
   },
   {
    "duration": 463,
    "start_time": "2022-02-06T19:22:58.601Z"
   },
   {
    "duration": 623,
    "start_time": "2022-02-06T19:24:22.407Z"
   },
   {
    "duration": 391,
    "start_time": "2022-02-06T19:27:18.846Z"
   },
   {
    "duration": 20,
    "start_time": "2022-02-06T19:27:28.014Z"
   },
   {
    "duration": 31,
    "start_time": "2022-02-06T19:27:54.800Z"
   },
   {
    "duration": 711,
    "start_time": "2022-02-06T19:30:27.397Z"
   },
   {
    "duration": 230,
    "start_time": "2022-02-06T19:30:28.111Z"
   },
   {
    "duration": 7,
    "start_time": "2022-02-06T19:30:28.343Z"
   },
   {
    "duration": 18,
    "start_time": "2022-02-06T19:30:28.352Z"
   },
   {
    "duration": 27,
    "start_time": "2022-02-06T19:30:28.372Z"
   },
   {
    "duration": 26,
    "start_time": "2022-02-06T19:30:28.408Z"
   },
   {
    "duration": 15,
    "start_time": "2022-02-06T19:30:28.436Z"
   },
   {
    "duration": 17,
    "start_time": "2022-02-06T19:30:28.453Z"
   },
   {
    "duration": 48,
    "start_time": "2022-02-06T19:30:28.472Z"
   },
   {
    "duration": 5,
    "start_time": "2022-02-06T19:30:28.522Z"
   },
   {
    "duration": 52,
    "start_time": "2022-02-06T19:30:28.529Z"
   },
   {
    "duration": 44,
    "start_time": "2022-02-06T19:30:28.583Z"
   },
   {
    "duration": 10,
    "start_time": "2022-02-06T19:30:28.629Z"
   },
   {
    "duration": 26,
    "start_time": "2022-02-06T19:30:28.641Z"
   },
   {
    "duration": 68,
    "start_time": "2022-02-06T19:30:28.668Z"
   },
   {
    "duration": 34,
    "start_time": "2022-02-06T19:30:28.738Z"
   },
   {
    "duration": 476,
    "start_time": "2022-02-06T19:30:28.774Z"
   },
   {
    "duration": 24,
    "start_time": "2022-02-06T19:30:29.252Z"
   },
   {
    "duration": 48,
    "start_time": "2022-02-06T19:30:29.278Z"
   },
   {
    "duration": 550,
    "start_time": "2022-02-06T19:30:32.702Z"
   },
   {
    "duration": 399,
    "start_time": "2022-02-06T19:30:41.608Z"
   },
   {
    "duration": 33,
    "start_time": "2022-02-06T19:30:46.850Z"
   },
   {
    "duration": 33,
    "start_time": "2022-02-06T19:30:51.996Z"
   },
   {
    "duration": 32,
    "start_time": "2022-02-06T19:32:18.258Z"
   },
   {
    "duration": 14,
    "start_time": "2022-02-06T19:32:27.663Z"
   },
   {
    "duration": 781,
    "start_time": "2022-02-06T19:33:08.782Z"
   },
   {
    "duration": 251,
    "start_time": "2022-02-06T19:33:09.565Z"
   },
   {
    "duration": 9,
    "start_time": "2022-02-06T19:33:09.820Z"
   },
   {
    "duration": 13,
    "start_time": "2022-02-06T19:33:09.832Z"
   },
   {
    "duration": 23,
    "start_time": "2022-02-06T19:33:09.847Z"
   },
   {
    "duration": 56,
    "start_time": "2022-02-06T19:33:09.872Z"
   },
   {
    "duration": 18,
    "start_time": "2022-02-06T19:33:09.930Z"
   },
   {
    "duration": 18,
    "start_time": "2022-02-06T19:33:09.951Z"
   },
   {
    "duration": 43,
    "start_time": "2022-02-06T19:33:09.972Z"
   },
   {
    "duration": 3,
    "start_time": "2022-02-06T19:33:10.018Z"
   },
   {
    "duration": 86,
    "start_time": "2022-02-06T19:33:10.023Z"
   },
   {
    "duration": 23,
    "start_time": "2022-02-06T19:33:10.112Z"
   },
   {
    "duration": 13,
    "start_time": "2022-02-06T19:33:10.137Z"
   },
   {
    "duration": 25,
    "start_time": "2022-02-06T19:33:10.152Z"
   },
   {
    "duration": 67,
    "start_time": "2022-02-06T19:33:10.179Z"
   },
   {
    "duration": 60,
    "start_time": "2022-02-06T19:33:10.248Z"
   },
   {
    "duration": 472,
    "start_time": "2022-02-06T19:33:10.310Z"
   },
   {
    "duration": 34,
    "start_time": "2022-02-06T19:33:10.784Z"
   },
   {
    "duration": 30,
    "start_time": "2022-02-06T19:33:10.821Z"
   },
   {
    "duration": 62,
    "start_time": "2022-02-06T19:33:14.585Z"
   },
   {
    "duration": 13,
    "start_time": "2022-02-06T19:33:32.098Z"
   },
   {
    "duration": 557,
    "start_time": "2022-02-06T19:34:51.216Z"
   },
   {
    "duration": 405,
    "start_time": "2022-02-06T19:35:00.946Z"
   },
   {
    "duration": 37,
    "start_time": "2022-02-06T19:37:08.211Z"
   },
   {
    "duration": 15,
    "start_time": "2022-02-06T19:37:46.134Z"
   },
   {
    "duration": 211,
    "start_time": "2022-02-06T19:37:56.720Z"
   },
   {
    "duration": 20,
    "start_time": "2022-02-06T19:38:09.330Z"
   },
   {
    "duration": 7,
    "start_time": "2022-02-06T19:39:00.395Z"
   },
   {
    "duration": 9,
    "start_time": "2022-02-06T19:39:11.426Z"
   },
   {
    "duration": 233,
    "start_time": "2022-02-06T19:39:18.090Z"
   },
   {
    "duration": 29,
    "start_time": "2022-02-06T19:39:28.721Z"
   },
   {
    "duration": 22,
    "start_time": "2022-02-06T19:39:33.877Z"
   },
   {
    "duration": 27,
    "start_time": "2022-02-06T19:39:38.694Z"
   },
   {
    "duration": 18,
    "start_time": "2022-02-06T19:39:42.495Z"
   },
   {
    "duration": 312,
    "start_time": "2022-02-06T19:39:54.546Z"
   },
   {
    "duration": 51,
    "start_time": "2022-02-06T19:40:37.793Z"
   },
   {
    "duration": 22,
    "start_time": "2022-02-06T19:40:55.224Z"
   },
   {
    "duration": 1144,
    "start_time": "2022-02-06T19:41:21.281Z"
   },
   {
    "duration": 1111,
    "start_time": "2022-02-06T19:42:12.906Z"
   },
   {
    "duration": 27,
    "start_time": "2022-02-06T19:53:44.612Z"
   },
   {
    "duration": 8,
    "start_time": "2022-02-06T19:54:18.028Z"
   },
   {
    "duration": 10,
    "start_time": "2022-02-06T19:54:56.584Z"
   },
   {
    "duration": 11,
    "start_time": "2022-02-06T19:59:38.459Z"
   },
   {
    "duration": 45,
    "start_time": "2022-02-06T20:01:05.728Z"
   },
   {
    "duration": 9,
    "start_time": "2022-02-06T20:01:13.814Z"
   },
   {
    "duration": 29,
    "start_time": "2022-02-06T20:02:11.296Z"
   },
   {
    "duration": 27,
    "start_time": "2022-02-06T20:02:19.341Z"
   },
   {
    "duration": 6,
    "start_time": "2022-02-06T20:02:50.529Z"
   },
   {
    "duration": 308,
    "start_time": "2022-02-06T20:03:36.661Z"
   },
   {
    "duration": 12,
    "start_time": "2022-02-06T20:04:08.008Z"
   },
   {
    "duration": 48,
    "start_time": "2022-02-06T20:04:22.551Z"
   },
   {
    "duration": 58,
    "start_time": "2022-02-06T20:04:51.513Z"
   },
   {
    "duration": 43,
    "start_time": "2022-02-06T20:05:18.432Z"
   },
   {
    "duration": 673,
    "start_time": "2022-02-06T20:07:02.534Z"
   },
   {
    "duration": 216,
    "start_time": "2022-02-06T20:07:03.209Z"
   },
   {
    "duration": 9,
    "start_time": "2022-02-06T20:07:03.428Z"
   },
   {
    "duration": 25,
    "start_time": "2022-02-06T20:07:03.439Z"
   },
   {
    "duration": 25,
    "start_time": "2022-02-06T20:07:03.467Z"
   },
   {
    "duration": 31,
    "start_time": "2022-02-06T20:07:03.495Z"
   },
   {
    "duration": 16,
    "start_time": "2022-02-06T20:07:03.528Z"
   },
   {
    "duration": 18,
    "start_time": "2022-02-06T20:07:03.547Z"
   },
   {
    "duration": 49,
    "start_time": "2022-02-06T20:07:03.567Z"
   },
   {
    "duration": 3,
    "start_time": "2022-02-06T20:07:03.618Z"
   },
   {
    "duration": 49,
    "start_time": "2022-02-06T20:07:03.622Z"
   },
   {
    "duration": 41,
    "start_time": "2022-02-06T20:07:03.673Z"
   },
   {
    "duration": 10,
    "start_time": "2022-02-06T20:07:03.716Z"
   },
   {
    "duration": 24,
    "start_time": "2022-02-06T20:07:03.729Z"
   },
   {
    "duration": 66,
    "start_time": "2022-02-06T20:07:03.755Z"
   },
   {
    "duration": 36,
    "start_time": "2022-02-06T20:07:03.823Z"
   },
   {
    "duration": 438,
    "start_time": "2022-02-06T20:07:03.862Z"
   },
   {
    "duration": 26,
    "start_time": "2022-02-06T20:07:04.302Z"
   },
   {
    "duration": 27,
    "start_time": "2022-02-06T20:07:04.330Z"
   },
   {
    "duration": 11,
    "start_time": "2022-02-06T20:07:04.359Z"
   },
   {
    "duration": 500,
    "start_time": "2022-02-06T20:07:04.372Z"
   },
   {
    "duration": 377,
    "start_time": "2022-02-06T20:07:04.874Z"
   },
   {
    "duration": 32,
    "start_time": "2022-02-06T20:07:05.255Z"
   },
   {
    "duration": 32,
    "start_time": "2022-02-06T20:07:05.290Z"
   },
   {
    "duration": 227,
    "start_time": "2022-02-06T20:07:05.324Z"
   },
   {
    "duration": 7,
    "start_time": "2022-02-06T20:07:05.553Z"
   },
   {
    "duration": 10,
    "start_time": "2022-02-06T20:07:05.561Z"
   },
   {
    "duration": 235,
    "start_time": "2022-02-06T20:07:05.573Z"
   },
   {
    "duration": 31,
    "start_time": "2022-02-06T20:07:05.810Z"
   },
   {
    "duration": 20,
    "start_time": "2022-02-06T20:07:05.843Z"
   },
   {
    "duration": 44,
    "start_time": "2022-02-06T20:07:05.865Z"
   },
   {
    "duration": 17,
    "start_time": "2022-02-06T20:07:05.911Z"
   },
   {
    "duration": 300,
    "start_time": "2022-02-06T20:07:05.930Z"
   },
   {
    "duration": 41,
    "start_time": "2022-02-06T20:07:06.232Z"
   },
   {
    "duration": 43,
    "start_time": "2022-02-06T20:07:06.275Z"
   },
   {
    "duration": 1226,
    "start_time": "2022-02-06T20:07:06.320Z"
   },
   {
    "duration": 1082,
    "start_time": "2022-02-06T20:07:07.548Z"
   },
   {
    "duration": 27,
    "start_time": "2022-02-06T20:07:08.632Z"
   },
   {
    "duration": 7,
    "start_time": "2022-02-06T20:07:08.662Z"
   },
   {
    "duration": 13,
    "start_time": "2022-02-06T20:07:08.671Z"
   },
   {
    "duration": 6,
    "start_time": "2022-02-06T20:07:08.708Z"
   },
   {
    "duration": 4908,
    "start_time": "2022-02-06T20:07:40.782Z"
   },
   {
    "duration": 5287,
    "start_time": "2022-02-06T20:07:53.852Z"
   },
   {
    "duration": 10,
    "start_time": "2022-02-06T20:08:10.562Z"
   },
   {
    "duration": 41,
    "start_time": "2022-02-06T20:08:19.816Z"
   },
   {
    "duration": 5,
    "start_time": "2022-02-06T20:09:03.576Z"
   },
   {
    "duration": 3,
    "start_time": "2022-02-06T20:09:11.420Z"
   },
   {
    "duration": 42,
    "start_time": "2022-02-06T20:09:15.068Z"
   },
   {
    "duration": 6,
    "start_time": "2022-02-06T20:10:12.833Z"
   },
   {
    "duration": 28,
    "start_time": "2022-02-06T20:10:22.186Z"
   },
   {
    "duration": 26,
    "start_time": "2022-02-06T20:10:56.059Z"
   },
   {
    "duration": 33,
    "start_time": "2022-02-06T20:11:25.208Z"
   },
   {
    "duration": 27,
    "start_time": "2022-02-06T20:11:42.525Z"
   },
   {
    "duration": 28,
    "start_time": "2022-02-06T20:11:53.395Z"
   },
   {
    "duration": 22,
    "start_time": "2022-02-06T20:12:02.969Z"
   },
   {
    "duration": 11,
    "start_time": "2022-02-06T20:14:13.566Z"
   },
   {
    "duration": 16,
    "start_time": "2022-02-06T20:14:23.534Z"
   },
   {
    "duration": 14,
    "start_time": "2022-02-06T20:14:57.966Z"
   },
   {
    "duration": 202,
    "start_time": "2022-02-06T20:16:41.844Z"
   },
   {
    "duration": 13,
    "start_time": "2022-02-06T20:17:41.476Z"
   },
   {
    "duration": 15,
    "start_time": "2022-02-06T20:17:47.029Z"
   },
   {
    "duration": 209,
    "start_time": "2022-02-06T20:23:16.458Z"
   },
   {
    "duration": 518,
    "start_time": "2022-02-06T20:23:42.682Z"
   },
   {
    "duration": 206,
    "start_time": "2022-02-06T20:23:47.792Z"
   },
   {
    "duration": 214,
    "start_time": "2022-02-06T20:24:08.552Z"
   },
   {
    "duration": 265,
    "start_time": "2022-02-06T20:25:38.460Z"
   },
   {
    "duration": 268,
    "start_time": "2022-02-06T20:25:50.455Z"
   },
   {
    "duration": 460,
    "start_time": "2022-02-06T20:26:36.243Z"
   },
   {
    "duration": 299,
    "start_time": "2022-02-06T20:26:59.867Z"
   },
   {
    "duration": 71,
    "start_time": "2022-02-06T20:29:34.435Z"
   },
   {
    "duration": 85,
    "start_time": "2022-02-06T20:29:38.731Z"
   },
   {
    "duration": 33,
    "start_time": "2022-02-06T20:29:57.128Z"
   },
   {
    "duration": 15,
    "start_time": "2022-02-06T20:30:07.577Z"
   },
   {
    "duration": 71,
    "start_time": "2022-02-06T20:31:15.820Z"
   },
   {
    "duration": 8,
    "start_time": "2022-02-06T20:32:19.825Z"
   },
   {
    "duration": 937,
    "start_time": "2022-02-07T17:33:30.126Z"
   },
   {
    "duration": 307,
    "start_time": "2022-02-07T17:33:31.065Z"
   },
   {
    "duration": 14,
    "start_time": "2022-02-07T17:33:31.376Z"
   },
   {
    "duration": 49,
    "start_time": "2022-02-07T17:33:31.394Z"
   },
   {
    "duration": 32,
    "start_time": "2022-02-07T17:33:31.446Z"
   },
   {
    "duration": 67,
    "start_time": "2022-02-07T17:33:31.480Z"
   },
   {
    "duration": 26,
    "start_time": "2022-02-07T17:33:31.550Z"
   },
   {
    "duration": 24,
    "start_time": "2022-02-07T17:33:31.581Z"
   },
   {
    "duration": 18,
    "start_time": "2022-02-07T17:33:31.634Z"
   },
   {
    "duration": 21,
    "start_time": "2022-02-07T17:33:31.654Z"
   },
   {
    "duration": 124,
    "start_time": "2022-02-07T17:33:31.678Z"
   },
   {
    "duration": 53,
    "start_time": "2022-02-07T17:33:31.805Z"
   },
   {
    "duration": 15,
    "start_time": "2022-02-07T17:33:31.861Z"
   },
   {
    "duration": 63,
    "start_time": "2022-02-07T17:33:31.879Z"
   },
   {
    "duration": 67,
    "start_time": "2022-02-07T17:33:31.945Z"
   },
   {
    "duration": 71,
    "start_time": "2022-02-07T17:33:32.031Z"
   },
   {
    "duration": 709,
    "start_time": "2022-02-07T17:33:32.105Z"
   },
   {
    "duration": 61,
    "start_time": "2022-02-07T17:33:32.817Z"
   },
   {
    "duration": 61,
    "start_time": "2022-02-07T17:33:32.880Z"
   },
   {
    "duration": 14,
    "start_time": "2022-02-07T17:33:32.944Z"
   },
   {
    "duration": 751,
    "start_time": "2022-02-07T17:33:32.961Z"
   },
   {
    "duration": 586,
    "start_time": "2022-02-07T17:33:33.714Z"
   },
   {
    "duration": 58,
    "start_time": "2022-02-07T17:33:34.305Z"
   },
   {
    "duration": 19,
    "start_time": "2022-02-07T17:33:34.366Z"
   },
   {
    "duration": 411,
    "start_time": "2022-02-07T17:33:34.387Z"
   },
   {
    "duration": 36,
    "start_time": "2022-02-07T17:33:34.800Z"
   },
   {
    "duration": 11,
    "start_time": "2022-02-07T17:33:34.839Z"
   },
   {
    "duration": 313,
    "start_time": "2022-02-07T17:33:34.853Z"
   },
   {
    "duration": 74,
    "start_time": "2022-02-07T17:33:35.169Z"
   },
   {
    "duration": 27,
    "start_time": "2022-02-07T17:33:35.246Z"
   },
   {
    "duration": 39,
    "start_time": "2022-02-07T17:33:35.275Z"
   },
   {
    "duration": 25,
    "start_time": "2022-02-07T17:33:35.316Z"
   },
   {
    "duration": 444,
    "start_time": "2022-02-07T17:33:35.343Z"
   },
   {
    "duration": 59,
    "start_time": "2022-02-07T17:33:35.789Z"
   },
   {
    "duration": 22,
    "start_time": "2022-02-07T17:33:35.850Z"
   },
   {
    "duration": 1760,
    "start_time": "2022-02-07T17:33:35.874Z"
   },
   {
    "duration": 1520,
    "start_time": "2022-02-07T17:33:37.636Z"
   },
   {
    "duration": 35,
    "start_time": "2022-02-07T17:33:39.158Z"
   },
   {
    "duration": 12,
    "start_time": "2022-02-07T17:33:39.195Z"
   },
   {
    "duration": 13,
    "start_time": "2022-02-07T17:33:39.233Z"
   },
   {
    "duration": 16,
    "start_time": "2022-02-07T17:33:39.249Z"
   },
   {
    "duration": 41,
    "start_time": "2022-02-07T17:33:39.268Z"
   },
   {
    "duration": 22,
    "start_time": "2022-02-07T17:33:39.333Z"
   },
   {
    "duration": 401,
    "start_time": "2022-02-07T17:33:39.358Z"
   },
   {
    "duration": 16,
    "start_time": "2022-02-07T17:33:39.762Z"
   },
   {
    "duration": 1075,
    "start_time": "2022-02-07T17:37:41.875Z"
   },
   {
    "duration": 775,
    "start_time": "2022-02-07T17:38:14.906Z"
   },
   {
    "duration": 1388,
    "start_time": "2022-02-07T17:38:23.556Z"
   },
   {
    "duration": 1166,
    "start_time": "2022-02-07T17:38:29.698Z"
   },
   {
    "duration": 1061,
    "start_time": "2022-02-07T17:38:35.706Z"
   },
   {
    "duration": 488,
    "start_time": "2022-02-07T17:38:39.410Z"
   },
   {
    "duration": 633,
    "start_time": "2022-02-07T17:38:42.751Z"
   },
   {
    "duration": 561,
    "start_time": "2022-02-07T17:47:52.754Z"
   },
   {
    "duration": 109,
    "start_time": "2022-02-07T17:49:18.589Z"
   },
   {
    "duration": 583,
    "start_time": "2022-02-07T17:49:29.595Z"
   },
   {
    "duration": 733,
    "start_time": "2022-02-07T17:49:37.321Z"
   },
   {
    "duration": 945,
    "start_time": "2022-02-07T17:49:42.928Z"
   },
   {
    "duration": 1035,
    "start_time": "2022-02-07T17:49:48.949Z"
   },
   {
    "duration": 637,
    "start_time": "2022-02-07T17:52:37.515Z"
   },
   {
    "duration": 645,
    "start_time": "2022-02-07T17:52:54.881Z"
   },
   {
    "duration": 520,
    "start_time": "2022-02-07T17:53:03.712Z"
   },
   {
    "duration": 925,
    "start_time": "2022-02-07T17:53:07.728Z"
   },
   {
    "duration": 888,
    "start_time": "2022-02-07T17:53:14.873Z"
   },
   {
    "duration": 632,
    "start_time": "2022-02-07T17:53:20.458Z"
   },
   {
    "duration": 609,
    "start_time": "2022-02-07T17:53:29.655Z"
   },
   {
    "duration": 578,
    "start_time": "2022-02-07T17:56:58.037Z"
   },
   {
    "duration": 495,
    "start_time": "2022-02-07T17:57:16.983Z"
   },
   {
    "duration": 388,
    "start_time": "2022-02-07T17:57:22.988Z"
   },
   {
    "duration": 527,
    "start_time": "2022-02-07T17:58:02.729Z"
   },
   {
    "duration": 467,
    "start_time": "2022-02-07T18:01:23.323Z"
   },
   {
    "duration": 948,
    "start_time": "2022-02-07T18:01:28.141Z"
   },
   {
    "duration": 453,
    "start_time": "2022-02-07T18:01:36.525Z"
   },
   {
    "duration": 391,
    "start_time": "2022-02-07T18:01:40.966Z"
   },
   {
    "duration": 416,
    "start_time": "2022-02-07T18:01:45.896Z"
   },
   {
    "duration": 328,
    "start_time": "2022-02-07T18:02:21.533Z"
   },
   {
    "duration": 938,
    "start_time": "2022-02-07T19:02:52.373Z"
   },
   {
    "duration": 1532,
    "start_time": "2022-02-07T19:07:43.000Z"
   },
   {
    "duration": 1570,
    "start_time": "2022-02-07T19:07:52.475Z"
   },
   {
    "duration": 429,
    "start_time": "2022-02-07T19:21:20.913Z"
   },
   {
    "duration": 55,
    "start_time": "2022-02-07T19:21:35.609Z"
   },
   {
    "duration": 326,
    "start_time": "2022-02-07T19:22:33.264Z"
   },
   {
    "duration": 837,
    "start_time": "2022-02-07T19:22:39.480Z"
   },
   {
    "duration": 293,
    "start_time": "2022-02-07T19:22:40.319Z"
   },
   {
    "duration": 20,
    "start_time": "2022-02-07T19:22:40.615Z"
   },
   {
    "duration": 24,
    "start_time": "2022-02-07T19:22:40.638Z"
   },
   {
    "duration": 28,
    "start_time": "2022-02-07T19:22:40.664Z"
   },
   {
    "duration": 57,
    "start_time": "2022-02-07T19:22:40.694Z"
   },
   {
    "duration": 19,
    "start_time": "2022-02-07T19:22:40.753Z"
   },
   {
    "duration": 25,
    "start_time": "2022-02-07T19:22:40.774Z"
   },
   {
    "duration": 50,
    "start_time": "2022-02-07T19:22:40.805Z"
   },
   {
    "duration": 4,
    "start_time": "2022-02-07T19:22:40.858Z"
   },
   {
    "duration": 88,
    "start_time": "2022-02-07T19:22:40.865Z"
   },
   {
    "duration": 31,
    "start_time": "2022-02-07T19:22:40.956Z"
   },
   {
    "duration": 13,
    "start_time": "2022-02-07T19:22:40.989Z"
   },
   {
    "duration": 33,
    "start_time": "2022-02-07T19:22:41.032Z"
   },
   {
    "duration": 66,
    "start_time": "2022-02-07T19:22:41.068Z"
   },
   {
    "duration": 50,
    "start_time": "2022-02-07T19:22:41.136Z"
   },
   {
    "duration": 691,
    "start_time": "2022-02-07T19:22:41.189Z"
   },
   {
    "duration": 50,
    "start_time": "2022-02-07T19:22:41.882Z"
   },
   {
    "duration": 42,
    "start_time": "2022-02-07T19:22:41.935Z"
   },
   {
    "duration": 14,
    "start_time": "2022-02-07T19:22:41.979Z"
   },
   {
    "duration": 750,
    "start_time": "2022-02-07T19:22:41.997Z"
   },
   {
    "duration": 586,
    "start_time": "2022-02-07T19:22:42.750Z"
   },
   {
    "duration": 49,
    "start_time": "2022-02-07T19:22:43.338Z"
   },
   {
    "duration": 634,
    "start_time": "2022-02-07T19:22:43.390Z"
   },
   {
    "duration": 495,
    "start_time": "2022-02-07T19:22:44.031Z"
   },
   {
    "duration": 47,
    "start_time": "2022-02-07T19:22:48.064Z"
   },
   {
    "duration": 65,
    "start_time": "2022-02-07T19:23:49.376Z"
   },
   {
    "duration": 78,
    "start_time": "2022-02-07T19:25:12.193Z"
   },
   {
    "duration": 69,
    "start_time": "2022-02-07T19:26:06.820Z"
   },
   {
    "duration": 48,
    "start_time": "2022-02-07T19:26:34.436Z"
   },
   {
    "duration": 50,
    "start_time": "2022-02-07T19:29:40.422Z"
   },
   {
    "duration": 15,
    "start_time": "2022-02-07T19:29:51.063Z"
   },
   {
    "duration": 21,
    "start_time": "2022-02-07T19:30:12.291Z"
   },
   {
    "duration": 232,
    "start_time": "2022-02-07T19:31:01.516Z"
   },
   {
    "duration": 10,
    "start_time": "2022-02-07T19:31:09.243Z"
   },
   {
    "duration": 388,
    "start_time": "2022-02-07T19:31:22.324Z"
   },
   {
    "duration": 11,
    "start_time": "2022-02-07T19:31:28.946Z"
   },
   {
    "duration": 377,
    "start_time": "2022-02-07T19:35:56.727Z"
   },
   {
    "duration": 875,
    "start_time": "2022-02-07T19:38:39.278Z"
   },
   {
    "duration": 341,
    "start_time": "2022-02-07T19:38:40.156Z"
   },
   {
    "duration": 33,
    "start_time": "2022-02-07T19:38:40.500Z"
   },
   {
    "duration": 23,
    "start_time": "2022-02-07T19:38:40.537Z"
   },
   {
    "duration": 23,
    "start_time": "2022-02-07T19:38:40.563Z"
   },
   {
    "duration": 80,
    "start_time": "2022-02-07T19:38:40.588Z"
   },
   {
    "duration": 26,
    "start_time": "2022-02-07T19:38:40.671Z"
   },
   {
    "duration": 40,
    "start_time": "2022-02-07T19:38:40.702Z"
   },
   {
    "duration": 17,
    "start_time": "2022-02-07T19:38:40.745Z"
   },
   {
    "duration": 96,
    "start_time": "2022-02-07T19:38:40.764Z"
   },
   {
    "duration": 35,
    "start_time": "2022-02-07T19:38:40.862Z"
   },
   {
    "duration": 40,
    "start_time": "2022-02-07T19:38:40.900Z"
   },
   {
    "duration": 33,
    "start_time": "2022-02-07T19:38:40.943Z"
   },
   {
    "duration": 81,
    "start_time": "2022-02-07T19:38:40.979Z"
   },
   {
    "duration": 86,
    "start_time": "2022-02-07T19:38:41.063Z"
   },
   {
    "duration": 805,
    "start_time": "2022-02-07T19:38:41.153Z"
   },
   {
    "duration": 51,
    "start_time": "2022-02-07T19:38:41.962Z"
   },
   {
    "duration": 64,
    "start_time": "2022-02-07T19:38:42.016Z"
   },
   {
    "duration": 18,
    "start_time": "2022-02-07T19:38:42.083Z"
   },
   {
    "duration": 928,
    "start_time": "2022-02-07T19:38:42.104Z"
   },
   {
    "duration": 661,
    "start_time": "2022-02-07T19:38:43.035Z"
   },
   {
    "duration": 76,
    "start_time": "2022-02-07T19:38:43.699Z"
   },
   {
    "duration": 639,
    "start_time": "2022-02-07T19:38:43.783Z"
   },
   {
    "duration": 322,
    "start_time": "2022-02-07T19:38:44.425Z"
   },
   {
    "duration": 48,
    "start_time": "2022-02-07T19:38:44.750Z"
   },
   {
    "duration": 278,
    "start_time": "2022-02-07T19:38:44.802Z"
   },
   {
    "duration": 11,
    "start_time": "2022-02-07T19:38:45.083Z"
   },
   {
    "duration": 330,
    "start_time": "2022-02-07T19:38:45.097Z"
   },
   {
    "duration": 313,
    "start_time": "2022-02-07T19:38:45.433Z"
   },
   {
    "duration": 39,
    "start_time": "2022-02-07T19:38:45.748Z"
   },
   {
    "duration": 47,
    "start_time": "2022-02-07T19:38:45.790Z"
   },
   {
    "duration": 118,
    "start_time": "2022-02-07T19:38:45.840Z"
   },
   {
    "duration": 343,
    "start_time": "2022-02-07T19:38:45.961Z"
   },
   {
    "duration": 452,
    "start_time": "2022-02-07T19:38:46.306Z"
   },
   {
    "duration": 50,
    "start_time": "2022-02-07T19:38:46.761Z"
   },
   {
    "duration": 41,
    "start_time": "2022-02-07T19:38:46.813Z"
   },
   {
    "duration": 1491,
    "start_time": "2022-02-07T19:38:46.857Z"
   },
   {
    "duration": 1472,
    "start_time": "2022-02-07T19:38:48.351Z"
   },
   {
    "duration": 39,
    "start_time": "2022-02-07T19:38:49.832Z"
   },
   {
    "duration": 11,
    "start_time": "2022-02-07T19:38:49.873Z"
   },
   {
    "duration": 47,
    "start_time": "2022-02-07T19:38:49.887Z"
   },
   {
    "duration": 47,
    "start_time": "2022-02-07T19:38:49.937Z"
   },
   {
    "duration": 18,
    "start_time": "2022-02-07T19:38:49.986Z"
   },
   {
    "duration": 401,
    "start_time": "2022-02-07T19:38:50.007Z"
   },
   {
    "duration": 28,
    "start_time": "2022-02-07T19:38:50.410Z"
   },
   {
    "duration": 628,
    "start_time": "2022-02-07T19:38:50.441Z"
   },
   {
    "duration": 698,
    "start_time": "2022-02-07T19:38:51.071Z"
   },
   {
    "duration": 402,
    "start_time": "2022-02-07T19:38:51.772Z"
   },
   {
    "duration": 529,
    "start_time": "2022-02-07T19:38:52.177Z"
   },
   {
    "duration": 1057,
    "start_time": "2022-02-07T19:38:52.709Z"
   },
   {
    "duration": 1900,
    "start_time": "2022-02-07T19:38:53.769Z"
   },
   {
    "duration": 89,
    "start_time": "2022-02-07T20:18:28.816Z"
   },
   {
    "duration": 1052,
    "start_time": "2022-02-07T20:29:05.813Z"
   },
   {
    "duration": 282,
    "start_time": "2022-02-07T20:29:06.867Z"
   },
   {
    "duration": 10,
    "start_time": "2022-02-07T20:29:07.152Z"
   },
   {
    "duration": 21,
    "start_time": "2022-02-07T20:29:07.166Z"
   },
   {
    "duration": 64,
    "start_time": "2022-02-07T20:29:07.190Z"
   },
   {
    "duration": 35,
    "start_time": "2022-02-07T20:29:07.257Z"
   },
   {
    "duration": 41,
    "start_time": "2022-02-07T20:29:07.295Z"
   },
   {
    "duration": 24,
    "start_time": "2022-02-07T20:29:07.340Z"
   },
   {
    "duration": 17,
    "start_time": "2022-02-07T20:29:07.367Z"
   },
   {
    "duration": 108,
    "start_time": "2022-02-07T20:29:07.387Z"
   },
   {
    "duration": 48,
    "start_time": "2022-02-07T20:29:07.498Z"
   },
   {
    "duration": 12,
    "start_time": "2022-02-07T20:29:07.548Z"
   },
   {
    "duration": 69,
    "start_time": "2022-02-07T20:29:07.563Z"
   },
   {
    "duration": 53,
    "start_time": "2022-02-07T20:29:07.634Z"
   },
   {
    "duration": 81,
    "start_time": "2022-02-07T20:29:07.690Z"
   },
   {
    "duration": 917,
    "start_time": "2022-02-07T20:29:07.774Z"
   },
   {
    "duration": 66,
    "start_time": "2022-02-07T20:29:08.694Z"
   },
   {
    "duration": 44,
    "start_time": "2022-02-07T20:29:08.762Z"
   },
   {
    "duration": 35,
    "start_time": "2022-02-07T20:29:08.808Z"
   },
   {
    "duration": 15,
    "start_time": "2022-02-07T20:29:08.845Z"
   },
   {
    "duration": 748,
    "start_time": "2022-02-07T20:29:08.862Z"
   },
   {
    "duration": 60,
    "start_time": "2022-02-07T20:29:09.612Z"
   },
   {
    "duration": 17,
    "start_time": "2022-02-07T20:29:09.678Z"
   },
   {
    "duration": 340,
    "start_time": "2022-02-07T20:29:09.698Z"
   },
   {
    "duration": 50,
    "start_time": "2022-02-07T20:29:10.040Z"
   },
   {
    "duration": 177,
    "start_time": "2022-02-07T20:29:10.094Z"
   },
   {
    "duration": 7,
    "start_time": "2022-02-07T20:29:10.273Z"
   },
   {
    "duration": 22,
    "start_time": "2022-02-07T20:29:10.282Z"
   },
   {
    "duration": 334,
    "start_time": "2022-02-07T20:29:10.307Z"
   },
   {
    "duration": 42,
    "start_time": "2022-02-07T20:29:10.643Z"
   },
   {
    "duration": 46,
    "start_time": "2022-02-07T20:29:10.688Z"
   },
   {
    "duration": 45,
    "start_time": "2022-02-07T20:29:10.737Z"
   },
   {
    "duration": 48,
    "start_time": "2022-02-07T20:29:10.785Z"
   },
   {
    "duration": 456,
    "start_time": "2022-02-07T20:29:10.835Z"
   },
   {
    "duration": 60,
    "start_time": "2022-02-07T20:29:11.294Z"
   },
   {
    "duration": 23,
    "start_time": "2022-02-07T20:29:11.356Z"
   },
   {
    "duration": 851,
    "start_time": "2022-02-07T20:29:11.382Z"
   },
   {
    "duration": 95,
    "start_time": "2022-02-07T20:29:12.237Z"
   },
   {
    "duration": -14,
    "start_time": "2022-02-07T20:29:12.349Z"
   },
   {
    "duration": -16,
    "start_time": "2022-02-07T20:29:12.352Z"
   },
   {
    "duration": -19,
    "start_time": "2022-02-07T20:29:12.356Z"
   },
   {
    "duration": -20,
    "start_time": "2022-02-07T20:29:12.359Z"
   },
   {
    "duration": -22,
    "start_time": "2022-02-07T20:29:12.362Z"
   },
   {
    "duration": -26,
    "start_time": "2022-02-07T20:29:12.368Z"
   },
   {
    "duration": -28,
    "start_time": "2022-02-07T20:29:12.371Z"
   },
   {
    "duration": -28,
    "start_time": "2022-02-07T20:29:12.373Z"
   },
   {
    "duration": -30,
    "start_time": "2022-02-07T20:29:12.376Z"
   },
   {
    "duration": -31,
    "start_time": "2022-02-07T20:29:12.378Z"
   },
   {
    "duration": -32,
    "start_time": "2022-02-07T20:29:12.381Z"
   },
   {
    "duration": -33,
    "start_time": "2022-02-07T20:29:12.383Z"
   },
   {
    "duration": -37,
    "start_time": "2022-02-07T20:29:12.388Z"
   },
   {
    "duration": -37,
    "start_time": "2022-02-07T20:29:12.390Z"
   },
   {
    "duration": -39,
    "start_time": "2022-02-07T20:29:12.393Z"
   },
   {
    "duration": -40,
    "start_time": "2022-02-07T20:29:12.395Z"
   },
   {
    "duration": -41,
    "start_time": "2022-02-07T20:29:12.398Z"
   },
   {
    "duration": 737,
    "start_time": "2022-02-07T20:30:05.384Z"
   },
   {
    "duration": 586,
    "start_time": "2022-02-07T20:30:12.325Z"
   },
   {
    "duration": 566,
    "start_time": "2022-02-07T20:30:16.290Z"
   },
   {
    "duration": 380,
    "start_time": "2022-02-07T20:30:27.184Z"
   },
   {
    "duration": 459,
    "start_time": "2022-02-07T20:30:38.612Z"
   },
   {
    "duration": 802,
    "start_time": "2022-02-07T20:30:42.613Z"
   },
   {
    "duration": 579,
    "start_time": "2022-02-07T20:31:02.291Z"
   },
   {
    "duration": 301,
    "start_time": "2022-02-07T20:31:17.281Z"
   },
   {
    "duration": 289,
    "start_time": "2022-02-07T20:31:27.309Z"
   },
   {
    "duration": 559,
    "start_time": "2022-02-07T20:31:38.873Z"
   },
   {
    "duration": 669,
    "start_time": "2022-02-07T20:32:16.771Z"
   },
   {
    "duration": 1019,
    "start_time": "2022-02-07T20:32:21.203Z"
   },
   {
    "duration": 644,
    "start_time": "2022-02-07T20:32:23.877Z"
   },
   {
    "duration": 408,
    "start_time": "2022-02-07T20:32:46.832Z"
   },
   {
    "duration": 4,
    "start_time": "2022-02-07T20:33:19.331Z"
   },
   {
    "duration": 334,
    "start_time": "2022-02-07T20:33:19.338Z"
   },
   {
    "duration": 11,
    "start_time": "2022-02-07T20:33:19.676Z"
   },
   {
    "duration": 42,
    "start_time": "2022-02-07T20:33:19.691Z"
   },
   {
    "duration": 21,
    "start_time": "2022-02-07T20:33:19.736Z"
   },
   {
    "duration": 29,
    "start_time": "2022-02-07T20:33:19.760Z"
   },
   {
    "duration": 60,
    "start_time": "2022-02-07T20:33:19.794Z"
   },
   {
    "duration": 23,
    "start_time": "2022-02-07T20:33:19.857Z"
   },
   {
    "duration": 55,
    "start_time": "2022-02-07T20:33:19.883Z"
   },
   {
    "duration": 109,
    "start_time": "2022-02-07T20:33:19.941Z"
   },
   {
    "duration": 50,
    "start_time": "2022-02-07T20:33:20.053Z"
   },
   {
    "duration": 41,
    "start_time": "2022-02-07T20:33:20.106Z"
   },
   {
    "duration": 44,
    "start_time": "2022-02-07T20:33:20.150Z"
   },
   {
    "duration": 73,
    "start_time": "2022-02-07T20:33:20.197Z"
   },
   {
    "duration": 72,
    "start_time": "2022-02-07T20:33:20.273Z"
   },
   {
    "duration": 678,
    "start_time": "2022-02-07T20:33:20.348Z"
   },
   {
    "duration": 36,
    "start_time": "2022-02-07T20:33:21.033Z"
   },
   {
    "duration": 66,
    "start_time": "2022-02-07T20:33:21.071Z"
   },
   {
    "duration": 14,
    "start_time": "2022-02-07T20:33:21.142Z"
   },
   {
    "duration": 18,
    "start_time": "2022-02-07T20:33:21.159Z"
   },
   {
    "duration": 702,
    "start_time": "2022-02-07T20:33:21.180Z"
   },
   {
    "duration": 59,
    "start_time": "2022-02-07T20:33:21.885Z"
   },
   {
    "duration": 17,
    "start_time": "2022-02-07T20:33:21.947Z"
   },
   {
    "duration": 349,
    "start_time": "2022-02-07T20:33:21.966Z"
   },
   {
    "duration": 54,
    "start_time": "2022-02-07T20:33:22.317Z"
   },
   {
    "duration": 165,
    "start_time": "2022-02-07T20:33:22.374Z"
   },
   {
    "duration": 7,
    "start_time": "2022-02-07T20:33:22.541Z"
   },
   {
    "duration": 21,
    "start_time": "2022-02-07T20:33:22.551Z"
   },
   {
    "duration": 646,
    "start_time": "2022-02-07T20:33:22.574Z"
   },
   {
    "duration": 70,
    "start_time": "2022-02-07T20:33:23.223Z"
   },
   {
    "duration": 51,
    "start_time": "2022-02-07T20:33:23.296Z"
   },
   {
    "duration": 49,
    "start_time": "2022-02-07T20:33:23.350Z"
   },
   {
    "duration": 46,
    "start_time": "2022-02-07T20:33:23.401Z"
   },
   {
    "duration": 518,
    "start_time": "2022-02-07T20:33:23.450Z"
   },
   {
    "duration": 66,
    "start_time": "2022-02-07T20:33:23.971Z"
   },
   {
    "duration": 36,
    "start_time": "2022-02-07T20:33:24.040Z"
   },
   {
    "duration": 1011,
    "start_time": "2022-02-07T20:33:24.079Z"
   },
   {
    "duration": 1487,
    "start_time": "2022-02-07T20:33:25.093Z"
   },
   {
    "duration": 409,
    "start_time": "2022-02-07T20:33:26.583Z"
   },
   {
    "duration": 499,
    "start_time": "2022-02-07T20:33:26.995Z"
   },
   {
    "duration": 1769,
    "start_time": "2022-02-07T20:33:27.497Z"
   },
   {
    "duration": 1589,
    "start_time": "2022-02-07T20:33:29.269Z"
   },
   {
    "duration": 37,
    "start_time": "2022-02-07T20:33:30.860Z"
   },
   {
    "duration": 10,
    "start_time": "2022-02-07T20:33:30.900Z"
   },
   {
    "duration": 36,
    "start_time": "2022-02-07T20:33:30.912Z"
   },
   {
    "duration": 81,
    "start_time": "2022-02-07T20:33:30.951Z"
   },
   {
    "duration": 20,
    "start_time": "2022-02-07T20:33:31.034Z"
   },
   {
    "duration": 546,
    "start_time": "2022-02-07T20:33:31.057Z"
   },
   {
    "duration": 36,
    "start_time": "2022-02-07T20:33:31.605Z"
   },
   {
    "duration": 631,
    "start_time": "2022-02-07T20:33:31.644Z"
   },
   {
    "duration": 899,
    "start_time": "2022-02-07T20:33:32.278Z"
   },
   {
    "duration": 403,
    "start_time": "2022-02-07T20:33:33.180Z"
   },
   {
    "duration": 752,
    "start_time": "2022-02-07T20:33:33.586Z"
   },
   {
    "duration": 1120,
    "start_time": "2022-02-07T20:33:34.341Z"
   },
   {
    "duration": 1570,
    "start_time": "2022-02-07T20:33:35.468Z"
   },
   {
    "duration": 844,
    "start_time": "2022-02-10T19:13:09.349Z"
   },
   {
    "duration": 317,
    "start_time": "2022-02-10T19:13:11.980Z"
   },
   {
    "duration": 10,
    "start_time": "2022-02-10T19:13:18.008Z"
   },
   {
    "duration": 16,
    "start_time": "2022-02-10T19:14:48.335Z"
   },
   {
    "duration": 22,
    "start_time": "2022-02-10T19:14:53.535Z"
   },
   {
    "duration": 32,
    "start_time": "2022-02-10T19:15:12.998Z"
   },
   {
    "duration": 20,
    "start_time": "2022-02-10T19:15:17.023Z"
   },
   {
    "duration": 22,
    "start_time": "2022-02-10T19:15:20.726Z"
   },
   {
    "duration": 16,
    "start_time": "2022-02-10T19:15:25.031Z"
   },
   {
    "duration": 67,
    "start_time": "2022-02-10T19:15:29.485Z"
   },
   {
    "duration": 31,
    "start_time": "2022-02-10T19:15:36.027Z"
   },
   {
    "duration": 13,
    "start_time": "2022-02-10T19:15:41.848Z"
   },
   {
    "duration": 33,
    "start_time": "2022-02-10T19:15:47.021Z"
   },
   {
    "duration": 51,
    "start_time": "2022-02-10T19:16:04.271Z"
   },
   {
    "duration": 49,
    "start_time": "2022-02-10T19:16:09.915Z"
   },
   {
    "duration": 668,
    "start_time": "2022-02-10T19:16:25.523Z"
   },
   {
    "duration": 33,
    "start_time": "2022-02-10T19:16:31.879Z"
   },
   {
    "duration": 40,
    "start_time": "2022-02-10T19:16:37.333Z"
   },
   {
    "duration": 14,
    "start_time": "2022-02-10T19:16:43.844Z"
   },
   {
    "duration": 17,
    "start_time": "2022-02-10T19:17:03.449Z"
   },
   {
    "duration": 963,
    "start_time": "2022-02-10T19:17:13.243Z"
   },
   {
    "duration": 50,
    "start_time": "2022-02-10T19:17:27.261Z"
   },
   {
    "duration": 18,
    "start_time": "2022-02-10T19:17:32.736Z"
   },
   {
    "duration": 313,
    "start_time": "2022-02-10T19:17:37.316Z"
   },
   {
    "duration": 47,
    "start_time": "2022-02-10T19:17:43.837Z"
   },
   {
    "duration": 144,
    "start_time": "2022-02-10T19:17:57.611Z"
   },
   {
    "duration": 8,
    "start_time": "2022-02-10T19:18:13.451Z"
   },
   {
    "duration": 16,
    "start_time": "2022-02-10T19:18:21.143Z"
   },
   {
    "duration": 304,
    "start_time": "2022-02-10T19:18:45.739Z"
   },
   {
    "duration": 40,
    "start_time": "2022-02-10T19:18:54.512Z"
   },
   {
    "duration": 27,
    "start_time": "2022-02-10T19:19:03.516Z"
   },
   {
    "duration": 47,
    "start_time": "2022-02-10T19:19:07.429Z"
   },
   {
    "duration": 836,
    "start_time": "2022-02-10T19:19:33.941Z"
   },
   {
    "duration": 276,
    "start_time": "2022-02-10T19:19:34.779Z"
   },
   {
    "duration": 9,
    "start_time": "2022-02-10T19:19:35.058Z"
   },
   {
    "duration": 18,
    "start_time": "2022-02-10T19:19:35.069Z"
   },
   {
    "duration": 47,
    "start_time": "2022-02-10T19:19:35.089Z"
   },
   {
    "duration": 30,
    "start_time": "2022-02-10T19:19:35.138Z"
   },
   {
    "duration": 18,
    "start_time": "2022-02-10T19:19:35.170Z"
   },
   {
    "duration": 55,
    "start_time": "2022-02-10T19:19:35.192Z"
   },
   {
    "duration": 17,
    "start_time": "2022-02-10T19:19:35.250Z"
   },
   {
    "duration": 95,
    "start_time": "2022-02-10T19:19:35.270Z"
   },
   {
    "duration": 31,
    "start_time": "2022-02-10T19:19:35.368Z"
   },
   {
    "duration": 40,
    "start_time": "2022-02-10T19:19:35.402Z"
   },
   {
    "duration": 31,
    "start_time": "2022-02-10T19:19:35.444Z"
   },
   {
    "duration": 73,
    "start_time": "2022-02-10T19:19:35.478Z"
   },
   {
    "duration": 49,
    "start_time": "2022-02-10T19:19:35.553Z"
   },
   {
    "duration": 711,
    "start_time": "2022-02-10T19:19:35.604Z"
   },
   {
    "duration": 51,
    "start_time": "2022-02-10T19:19:36.318Z"
   },
   {
    "duration": 39,
    "start_time": "2022-02-10T19:19:36.372Z"
   },
   {
    "duration": 30,
    "start_time": "2022-02-10T19:19:36.414Z"
   },
   {
    "duration": 17,
    "start_time": "2022-02-10T19:19:36.447Z"
   },
   {
    "duration": 724,
    "start_time": "2022-02-10T19:19:36.467Z"
   },
   {
    "duration": 58,
    "start_time": "2022-02-10T19:19:37.193Z"
   },
   {
    "duration": 16,
    "start_time": "2022-02-10T19:19:37.256Z"
   },
   {
    "duration": 337,
    "start_time": "2022-02-10T19:19:37.275Z"
   },
   {
    "duration": 49,
    "start_time": "2022-02-10T19:19:37.615Z"
   },
   {
    "duration": 156,
    "start_time": "2022-02-10T19:19:37.667Z"
   },
   {
    "duration": 11,
    "start_time": "2022-02-10T19:19:37.825Z"
   },
   {
    "duration": 15,
    "start_time": "2022-02-10T19:19:37.838Z"
   },
   {
    "duration": 331,
    "start_time": "2022-02-10T19:19:37.856Z"
   },
   {
    "duration": 48,
    "start_time": "2022-02-10T19:19:38.189Z"
   },
   {
    "duration": 25,
    "start_time": "2022-02-10T19:19:38.239Z"
   },
   {
    "duration": 70,
    "start_time": "2022-02-10T19:19:38.266Z"
   },
   {
    "duration": 20,
    "start_time": "2022-02-10T19:19:38.338Z"
   },
   {
    "duration": 477,
    "start_time": "2022-02-10T19:19:38.361Z"
   },
   {
    "duration": 47,
    "start_time": "2022-02-10T19:19:38.840Z"
   },
   {
    "duration": 43,
    "start_time": "2022-02-10T19:19:38.890Z"
   },
   {
    "duration": 689,
    "start_time": "2022-02-10T19:19:38.935Z"
   },
   {
    "duration": 726,
    "start_time": "2022-02-10T19:19:39.632Z"
   },
   {
    "duration": 411,
    "start_time": "2022-02-10T19:19:40.361Z"
   },
   {
    "duration": 432,
    "start_time": "2022-02-10T19:19:40.774Z"
   },
   {
    "duration": 1578,
    "start_time": "2022-02-10T19:19:41.208Z"
   },
   {
    "duration": 1497,
    "start_time": "2022-02-10T19:19:42.789Z"
   },
   {
    "duration": 49,
    "start_time": "2022-02-10T19:19:44.288Z"
   },
   {
    "duration": 10,
    "start_time": "2022-02-10T19:19:44.339Z"
   },
   {
    "duration": 13,
    "start_time": "2022-02-10T19:19:44.352Z"
   },
   {
    "duration": 70,
    "start_time": "2022-02-10T19:19:44.367Z"
   },
   {
    "duration": 18,
    "start_time": "2022-02-10T19:19:44.439Z"
   },
   {
    "duration": 411,
    "start_time": "2022-02-10T19:19:44.460Z"
   },
   {
    "duration": 15,
    "start_time": "2022-02-10T19:19:44.873Z"
   },
   {
    "duration": 630,
    "start_time": "2022-02-10T19:19:44.891Z"
   },
   {
    "duration": 680,
    "start_time": "2022-02-10T19:19:45.523Z"
   },
   {
    "duration": 377,
    "start_time": "2022-02-10T19:19:46.205Z"
   },
   {
    "duration": 412,
    "start_time": "2022-02-10T19:19:46.585Z"
   },
   {
    "duration": 1037,
    "start_time": "2022-02-10T19:19:46.999Z"
   },
   {
    "duration": 1472,
    "start_time": "2022-02-10T19:19:48.039Z"
   },
   {
    "duration": 6794,
    "start_time": "2022-02-10T19:21:30.419Z"
   },
   {
    "duration": 19,
    "start_time": "2022-02-10T19:21:43.519Z"
   },
   {
    "duration": 19,
    "start_time": "2022-02-10T19:22:01.620Z"
   },
   {
    "duration": 20,
    "start_time": "2022-02-10T19:23:55.429Z"
   },
   {
    "duration": 848,
    "start_time": "2022-02-10T19:24:12.662Z"
   },
   {
    "duration": 283,
    "start_time": "2022-02-10T19:24:13.513Z"
   },
   {
    "duration": 11,
    "start_time": "2022-02-10T19:24:13.799Z"
   },
   {
    "duration": 36,
    "start_time": "2022-02-10T19:24:13.814Z"
   },
   {
    "duration": 24,
    "start_time": "2022-02-10T19:24:13.853Z"
   },
   {
    "duration": 68,
    "start_time": "2022-02-10T19:24:13.880Z"
   },
   {
    "duration": 19,
    "start_time": "2022-02-10T19:24:13.951Z"
   },
   {
    "duration": 22,
    "start_time": "2022-02-10T19:24:13.973Z"
   },
   {
    "duration": 44,
    "start_time": "2022-02-10T19:24:13.998Z"
   },
   {
    "duration": 89,
    "start_time": "2022-02-10T19:24:14.045Z"
   },
   {
    "duration": 31,
    "start_time": "2022-02-10T19:24:14.136Z"
   },
   {
    "duration": 13,
    "start_time": "2022-02-10T19:24:16.162Z"
   },
   {
    "duration": 3,
    "start_time": "2022-02-10T19:24:58.499Z"
   },
   {
    "duration": 318,
    "start_time": "2022-02-10T19:24:58.505Z"
   },
   {
    "duration": 9,
    "start_time": "2022-02-10T19:24:58.832Z"
   },
   {
    "duration": 18,
    "start_time": "2022-02-10T19:24:58.845Z"
   },
   {
    "duration": 24,
    "start_time": "2022-02-10T19:24:58.866Z"
   },
   {
    "duration": 30,
    "start_time": "2022-02-10T19:24:58.933Z"
   },
   {
    "duration": 19,
    "start_time": "2022-02-10T19:24:58.968Z"
   },
   {
    "duration": 60,
    "start_time": "2022-02-10T19:24:58.991Z"
   },
   {
    "duration": 17,
    "start_time": "2022-02-10T19:24:59.054Z"
   },
   {
    "duration": 101,
    "start_time": "2022-02-10T19:24:59.074Z"
   },
   {
    "duration": 31,
    "start_time": "2022-02-10T19:24:59.178Z"
   },
   {
    "duration": 32,
    "start_time": "2022-02-10T19:24:59.212Z"
   },
   {
    "duration": 33,
    "start_time": "2022-02-10T19:24:59.246Z"
   },
   {
    "duration": 92,
    "start_time": "2022-02-10T19:24:59.282Z"
   },
   {
    "duration": 69,
    "start_time": "2022-02-10T19:24:59.377Z"
   },
   {
    "duration": 667,
    "start_time": "2022-02-10T19:24:59.449Z"
   },
   {
    "duration": 49,
    "start_time": "2022-02-10T19:25:00.118Z"
   },
   {
    "duration": 13,
    "start_time": "2022-02-10T19:25:02.711Z"
   },
   {
    "duration": 41,
    "start_time": "2022-02-10T19:25:11.367Z"
   },
   {
    "duration": 14,
    "start_time": "2022-02-10T19:25:18.354Z"
   },
   {
    "duration": 20,
    "start_time": "2022-02-10T19:25:27.854Z"
   },
   {
    "duration": 16,
    "start_time": "2022-02-10T19:25:32.415Z"
   },
   {
    "duration": 25,
    "start_time": "2022-02-10T19:25:35.822Z"
   },
   {
    "duration": 19,
    "start_time": "2022-02-10T19:25:39.785Z"
   },
   {
    "duration": 709,
    "start_time": "2022-02-10T19:25:43.710Z"
   },
   {
    "duration": 667,
    "start_time": "2022-02-10T19:25:51.418Z"
   },
   {
    "duration": 19,
    "start_time": "2022-02-10T19:25:55.861Z"
   },
   {
    "duration": 47,
    "start_time": "2022-02-10T19:25:59.315Z"
   },
   {
    "duration": 26,
    "start_time": "2022-02-10T19:26:03.953Z"
   },
   {
    "duration": 18,
    "start_time": "2022-02-10T19:26:08.952Z"
   },
   {
    "duration": 326,
    "start_time": "2022-02-10T19:26:13.344Z"
   },
   {
    "duration": 323,
    "start_time": "2022-02-10T19:26:19.344Z"
   },
   {
    "duration": 19,
    "start_time": "2022-02-10T19:26:23.264Z"
   },
   {
    "duration": 49,
    "start_time": "2022-02-10T19:26:26.950Z"
   },
   {
    "duration": 161,
    "start_time": "2022-02-10T19:26:31.321Z"
   },
   {
    "duration": 855,
    "start_time": "2022-02-10T19:27:07.469Z"
   },
   {
    "duration": 283,
    "start_time": "2022-02-10T19:27:08.327Z"
   },
   {
    "duration": 23,
    "start_time": "2022-02-10T19:27:08.613Z"
   },
   {
    "duration": 24,
    "start_time": "2022-02-10T19:27:08.639Z"
   },
   {
    "duration": 24,
    "start_time": "2022-02-10T19:27:08.665Z"
   },
   {
    "duration": 55,
    "start_time": "2022-02-10T19:27:08.691Z"
   },
   {
    "duration": 20,
    "start_time": "2022-02-10T19:27:08.749Z"
   },
   {
    "duration": 24,
    "start_time": "2022-02-10T19:27:08.774Z"
   },
   {
    "duration": 47,
    "start_time": "2022-02-10T19:27:08.801Z"
   },
   {
    "duration": 93,
    "start_time": "2022-02-10T19:27:08.851Z"
   },
   {
    "duration": 31,
    "start_time": "2022-02-10T19:27:08.946Z"
   },
   {
    "duration": 15,
    "start_time": "2022-02-10T19:27:08.981Z"
   },
   {
    "duration": 35,
    "start_time": "2022-02-10T19:27:09.032Z"
   },
   {
    "duration": 71,
    "start_time": "2022-02-10T19:27:09.070Z"
   },
   {
    "duration": 51,
    "start_time": "2022-02-10T19:27:09.143Z"
   },
   {
    "duration": 696,
    "start_time": "2022-02-10T19:27:09.197Z"
   },
   {
    "duration": 50,
    "start_time": "2022-02-10T19:27:09.895Z"
   },
   {
    "duration": 40,
    "start_time": "2022-02-10T19:27:09.947Z"
   },
   {
    "duration": 14,
    "start_time": "2022-02-10T19:27:09.989Z"
   },
   {
    "duration": 18,
    "start_time": "2022-02-10T19:27:10.033Z"
   },
   {
    "duration": 736,
    "start_time": "2022-02-10T19:27:10.054Z"
   },
   {
    "duration": 65,
    "start_time": "2022-02-10T19:27:10.792Z"
   },
   {
    "duration": 16,
    "start_time": "2022-02-10T19:27:10.861Z"
   },
   {
    "duration": 328,
    "start_time": "2022-02-10T19:27:10.880Z"
   },
   {
    "duration": 58,
    "start_time": "2022-02-10T19:27:11.211Z"
   },
   {
    "duration": 15,
    "start_time": "2022-02-10T19:27:17.721Z"
   },
   {
    "duration": 140,
    "start_time": "2022-02-10T19:27:33.101Z"
   },
   {
    "duration": 19,
    "start_time": "2022-02-10T19:27:36.033Z"
   },
   {
    "duration": 24,
    "start_time": "2022-02-10T19:28:45.851Z"
   },
   {
    "duration": 370,
    "start_time": "2022-02-10T19:28:58.935Z"
   },
   {
    "duration": 274,
    "start_time": "2022-02-10T19:29:07.317Z"
   },
   {
    "duration": 20,
    "start_time": "2022-02-10T19:29:14.562Z"
   },
   {
    "duration": 2741,
    "start_time": "2022-02-10T19:30:13.464Z"
   },
   {
    "duration": 32,
    "start_time": "2022-02-10T19:30:28.945Z"
   },
   {
    "duration": 2772,
    "start_time": "2022-02-10T19:30:41.351Z"
   },
   {
    "duration": 30,
    "start_time": "2022-02-10T19:30:54.465Z"
   },
   {
    "duration": 17,
    "start_time": "2022-02-10T19:31:16.179Z"
   },
   {
    "duration": 1010,
    "start_time": "2022-02-10T19:58:13.237Z"
   },
   {
    "duration": 287,
    "start_time": "2022-02-10T19:58:14.250Z"
   },
   {
    "duration": 10,
    "start_time": "2022-02-10T19:58:14.539Z"
   },
   {
    "duration": 19,
    "start_time": "2022-02-10T19:58:14.552Z"
   },
   {
    "duration": 25,
    "start_time": "2022-02-10T19:58:14.574Z"
   },
   {
    "duration": 59,
    "start_time": "2022-02-10T19:58:14.602Z"
   },
   {
    "duration": 27,
    "start_time": "2022-02-10T19:58:14.663Z"
   },
   {
    "duration": 51,
    "start_time": "2022-02-10T19:58:14.693Z"
   },
   {
    "duration": 15,
    "start_time": "2022-02-10T19:58:14.747Z"
   },
   {
    "duration": 85,
    "start_time": "2022-02-10T19:58:14.764Z"
   },
   {
    "duration": 32,
    "start_time": "2022-02-10T19:58:14.852Z"
   },
   {
    "duration": 12,
    "start_time": "2022-02-10T19:58:14.886Z"
   },
   {
    "duration": 64,
    "start_time": "2022-02-10T19:58:14.902Z"
   },
   {
    "duration": 69,
    "start_time": "2022-02-10T19:58:14.968Z"
   },
   {
    "duration": 52,
    "start_time": "2022-02-10T19:58:15.040Z"
   },
   {
    "duration": 712,
    "start_time": "2022-02-10T19:58:15.094Z"
   },
   {
    "duration": 48,
    "start_time": "2022-02-10T19:58:15.808Z"
   },
   {
    "duration": 43,
    "start_time": "2022-02-10T19:58:15.859Z"
   },
   {
    "duration": 35,
    "start_time": "2022-02-10T19:58:15.905Z"
   },
   {
    "duration": 21,
    "start_time": "2022-02-10T19:58:15.943Z"
   },
   {
    "duration": 746,
    "start_time": "2022-02-10T19:58:15.967Z"
   },
   {
    "duration": 59,
    "start_time": "2022-02-10T19:58:16.715Z"
   },
   {
    "duration": 18,
    "start_time": "2022-02-10T19:58:16.779Z"
   },
   {
    "duration": 421,
    "start_time": "2022-02-10T19:58:16.800Z"
   },
   {
    "duration": 53,
    "start_time": "2022-02-10T19:58:17.224Z"
   },
   {
    "duration": 162,
    "start_time": "2022-02-10T19:58:17.279Z"
   },
   {
    "duration": 7,
    "start_time": "2022-02-10T19:58:17.444Z"
   },
   {
    "duration": 22,
    "start_time": "2022-02-10T19:58:17.453Z"
   },
   {
    "duration": 355,
    "start_time": "2022-02-10T19:58:17.477Z"
   },
   {
    "duration": 44,
    "start_time": "2022-02-10T19:58:17.834Z"
   },
   {
    "duration": 25,
    "start_time": "2022-02-10T19:58:17.880Z"
   },
   {
    "duration": 51,
    "start_time": "2022-02-10T19:58:17.931Z"
   },
   {
    "duration": 20,
    "start_time": "2022-02-10T19:58:17.984Z"
   },
   {
    "duration": 488,
    "start_time": "2022-02-10T19:58:18.006Z"
   },
   {
    "duration": 67,
    "start_time": "2022-02-10T19:58:18.496Z"
   },
   {
    "duration": 27,
    "start_time": "2022-02-10T19:58:18.565Z"
   },
   {
    "duration": 677,
    "start_time": "2022-02-10T19:58:18.595Z"
   },
   {
    "duration": 741,
    "start_time": "2022-02-10T19:58:19.275Z"
   },
   {
    "duration": 613,
    "start_time": "2022-02-10T19:58:20.019Z"
   },
   {
    "duration": 444,
    "start_time": "2022-02-10T19:58:20.634Z"
   },
   {
    "duration": 1526,
    "start_time": "2022-02-10T19:58:21.081Z"
   },
   {
    "duration": 1478,
    "start_time": "2022-02-10T19:58:22.610Z"
   },
   {
    "duration": 49,
    "start_time": "2022-02-10T19:58:24.091Z"
   },
   {
    "duration": 12,
    "start_time": "2022-02-10T19:58:24.142Z"
   },
   {
    "duration": 15,
    "start_time": "2022-02-10T19:58:24.157Z"
   },
   {
    "duration": 88,
    "start_time": "2022-02-10T19:58:24.175Z"
   },
   {
    "duration": 21,
    "start_time": "2022-02-10T19:58:24.266Z"
   },
   {
    "duration": 415,
    "start_time": "2022-02-10T19:58:24.290Z"
   },
   {
    "duration": 30,
    "start_time": "2022-02-10T19:58:24.707Z"
   },
   {
    "duration": 620,
    "start_time": "2022-02-10T19:58:24.739Z"
   },
   {
    "duration": 756,
    "start_time": "2022-02-10T19:58:25.361Z"
   },
   {
    "duration": 571,
    "start_time": "2022-02-10T19:58:26.119Z"
   },
   {
    "duration": 494,
    "start_time": "2022-02-10T19:58:26.693Z"
   },
   {
    "duration": 945,
    "start_time": "2022-02-10T19:58:27.190Z"
   },
   {
    "duration": 1440,
    "start_time": "2022-02-10T19:58:28.138Z"
   },
   {
    "duration": 624,
    "start_time": "2022-02-16T21:18:17.077Z"
   },
   {
    "duration": 182,
    "start_time": "2022-02-16T21:18:17.703Z"
   },
   {
    "duration": 6,
    "start_time": "2022-02-16T21:18:17.887Z"
   },
   {
    "duration": 12,
    "start_time": "2022-02-16T21:18:17.895Z"
   },
   {
    "duration": 33,
    "start_time": "2022-02-16T21:18:17.908Z"
   },
   {
    "duration": 17,
    "start_time": "2022-02-16T21:18:17.943Z"
   },
   {
    "duration": 12,
    "start_time": "2022-02-16T21:18:17.961Z"
   },
   {
    "duration": 14,
    "start_time": "2022-02-16T21:18:17.976Z"
   },
   {
    "duration": 40,
    "start_time": "2022-02-16T21:18:17.992Z"
   },
   {
    "duration": 40,
    "start_time": "2022-02-16T21:18:18.033Z"
   },
   {
    "duration": 19,
    "start_time": "2022-02-16T21:18:18.074Z"
   },
   {
    "duration": 8,
    "start_time": "2022-02-16T21:18:18.094Z"
   },
   {
    "duration": 47,
    "start_time": "2022-02-16T21:18:18.103Z"
   },
   {
    "duration": 30,
    "start_time": "2022-02-16T21:18:18.151Z"
   },
   {
    "duration": 50,
    "start_time": "2022-02-16T21:18:18.183Z"
   },
   {
    "duration": 355,
    "start_time": "2022-02-16T21:18:18.234Z"
   },
   {
    "duration": 20,
    "start_time": "2022-02-16T21:18:18.591Z"
   },
   {
    "duration": 37,
    "start_time": "2022-02-16T21:18:18.612Z"
   },
   {
    "duration": 8,
    "start_time": "2022-02-16T21:18:18.650Z"
   },
   {
    "duration": 10,
    "start_time": "2022-02-16T21:18:18.659Z"
   },
   {
    "duration": 422,
    "start_time": "2022-02-16T21:18:18.670Z"
   },
   {
    "duration": 27,
    "start_time": "2022-02-16T21:18:19.094Z"
   },
   {
    "duration": 11,
    "start_time": "2022-02-16T21:18:19.132Z"
   },
   {
    "duration": 190,
    "start_time": "2022-02-16T21:18:19.145Z"
   },
   {
    "duration": 25,
    "start_time": "2022-02-16T21:18:19.337Z"
   },
   {
    "duration": 90,
    "start_time": "2022-02-16T21:18:19.363Z"
   },
   {
    "duration": 5,
    "start_time": "2022-02-16T21:18:19.455Z"
   },
   {
    "duration": 13,
    "start_time": "2022-02-16T21:18:19.462Z"
   },
   {
    "duration": 193,
    "start_time": "2022-02-16T21:18:19.477Z"
   },
   {
    "duration": 25,
    "start_time": "2022-02-16T21:18:19.672Z"
   },
   {
    "duration": 33,
    "start_time": "2022-02-16T21:18:19.699Z"
   },
   {
    "duration": 26,
    "start_time": "2022-02-16T21:18:19.734Z"
   },
   {
    "duration": 12,
    "start_time": "2022-02-16T21:18:19.761Z"
   },
   {
    "duration": 260,
    "start_time": "2022-02-16T21:18:19.775Z"
   },
   {
    "duration": 32,
    "start_time": "2022-02-16T21:18:20.036Z"
   },
   {
    "duration": 19,
    "start_time": "2022-02-16T21:18:20.070Z"
   },
   {
    "duration": 389,
    "start_time": "2022-02-16T21:18:20.091Z"
   },
   {
    "duration": 413,
    "start_time": "2022-02-16T21:18:20.481Z"
   },
   {
    "duration": 232,
    "start_time": "2022-02-16T21:18:20.896Z"
   },
   {
    "duration": 237,
    "start_time": "2022-02-16T21:18:21.132Z"
   },
   {
    "duration": 995,
    "start_time": "2022-02-16T21:18:21.371Z"
   },
   {
    "duration": 801,
    "start_time": "2022-02-16T21:18:22.368Z"
   },
   {
    "duration": 21,
    "start_time": "2022-02-16T21:18:23.171Z"
   },
   {
    "duration": 6,
    "start_time": "2022-02-16T21:18:23.194Z"
   },
   {
    "duration": 19,
    "start_time": "2022-02-16T21:18:23.201Z"
   },
   {
    "duration": 38,
    "start_time": "2022-02-16T21:18:23.221Z"
   },
   {
    "duration": 10,
    "start_time": "2022-02-16T21:18:23.261Z"
   },
   {
    "duration": 275,
    "start_time": "2022-02-16T21:18:23.273Z"
   },
   {
    "duration": 11,
    "start_time": "2022-02-16T21:18:23.550Z"
   },
   {
    "duration": 355,
    "start_time": "2022-02-16T21:18:23.562Z"
   },
   {
    "duration": 383,
    "start_time": "2022-02-16T21:18:23.918Z"
   },
   {
    "duration": 205,
    "start_time": "2022-02-16T21:18:24.303Z"
   },
   {
    "duration": 236,
    "start_time": "2022-02-16T21:18:24.510Z"
   },
   {
    "duration": 608,
    "start_time": "2022-02-16T21:18:24.748Z"
   },
   {
    "duration": 882,
    "start_time": "2022-02-16T21:18:25.358Z"
   },
   {
    "duration": 437,
    "start_time": "2022-02-16T21:20:43.161Z"
   },
   {
    "duration": 336,
    "start_time": "2022-02-16T21:23:35.008Z"
   },
   {
    "duration": 11569,
    "start_time": "2022-02-16T21:24:27.970Z"
   },
   {
    "duration": 11,
    "start_time": "2022-02-16T21:26:03.720Z"
   },
   {
    "duration": 1563,
    "start_time": "2022-02-18T12:48:23.866Z"
   },
   {
    "duration": 331,
    "start_time": "2022-02-18T12:48:25.432Z"
   },
   {
    "duration": 13,
    "start_time": "2022-02-18T12:48:25.767Z"
   },
   {
    "duration": 28,
    "start_time": "2022-02-18T12:48:25.784Z"
   },
   {
    "duration": 54,
    "start_time": "2022-02-18T12:48:25.815Z"
   },
   {
    "duration": 32,
    "start_time": "2022-02-18T12:48:25.872Z"
   },
   {
    "duration": 57,
    "start_time": "2022-02-18T12:48:25.907Z"
   },
   {
    "duration": 23,
    "start_time": "2022-02-18T12:48:25.968Z"
   },
   {
    "duration": 16,
    "start_time": "2022-02-18T12:48:25.994Z"
   },
   {
    "duration": 95,
    "start_time": "2022-02-18T12:48:26.012Z"
   },
   {
    "duration": 31,
    "start_time": "2022-02-18T12:48:26.110Z"
   },
   {
    "duration": 12,
    "start_time": "2022-02-18T12:48:26.162Z"
   },
   {
    "duration": 31,
    "start_time": "2022-02-18T12:48:26.177Z"
   },
   {
    "duration": 77,
    "start_time": "2022-02-18T12:48:26.210Z"
   },
   {
    "duration": 52,
    "start_time": "2022-02-18T12:48:26.290Z"
   },
   {
    "duration": 717,
    "start_time": "2022-02-18T12:48:26.344Z"
   },
   {
    "duration": 37,
    "start_time": "2022-02-18T12:48:27.063Z"
   },
   {
    "duration": 63,
    "start_time": "2022-02-18T12:48:27.104Z"
   },
   {
    "duration": 13,
    "start_time": "2022-02-18T12:48:27.170Z"
   },
   {
    "duration": 16,
    "start_time": "2022-02-18T12:48:27.186Z"
   },
   {
    "duration": 715,
    "start_time": "2022-02-18T12:48:27.204Z"
   },
   {
    "duration": 63,
    "start_time": "2022-02-18T12:48:27.921Z"
   },
   {
    "duration": 18,
    "start_time": "2022-02-18T12:48:27.990Z"
   },
   {
    "duration": 356,
    "start_time": "2022-02-18T12:48:28.011Z"
   },
   {
    "duration": 49,
    "start_time": "2022-02-18T12:48:28.369Z"
   },
   {
    "duration": 255,
    "start_time": "2022-02-18T12:48:28.420Z"
   },
   {
    "duration": 10,
    "start_time": "2022-02-18T12:48:28.677Z"
   },
   {
    "duration": 23,
    "start_time": "2022-02-18T12:48:28.690Z"
   },
   {
    "duration": 362,
    "start_time": "2022-02-18T12:48:28.716Z"
   },
   {
    "duration": 44,
    "start_time": "2022-02-18T12:48:29.081Z"
   },
   {
    "duration": 53,
    "start_time": "2022-02-18T12:48:29.128Z"
   },
   {
    "duration": 52,
    "start_time": "2022-02-18T12:48:29.184Z"
   },
   {
    "duration": 21,
    "start_time": "2022-02-18T12:48:29.261Z"
   },
   {
    "duration": 527,
    "start_time": "2022-02-18T12:48:29.284Z"
   },
   {
    "duration": 71,
    "start_time": "2022-02-18T12:48:29.813Z"
   },
   {
    "duration": 33,
    "start_time": "2022-02-18T12:48:29.886Z"
   },
   {
    "duration": 803,
    "start_time": "2022-02-18T12:48:29.921Z"
   },
   {
    "duration": 675,
    "start_time": "2022-02-18T12:48:30.726Z"
   },
   {
    "duration": 406,
    "start_time": "2022-02-18T12:48:31.404Z"
   },
   {
    "duration": 433,
    "start_time": "2022-02-18T12:48:31.812Z"
   },
   {
    "duration": 505,
    "start_time": "2022-02-18T12:48:32.248Z"
   },
   {
    "duration": -53,
    "start_time": "2022-02-18T12:48:32.809Z"
   },
   {
    "duration": -56,
    "start_time": "2022-02-18T12:48:32.813Z"
   },
   {
    "duration": -61,
    "start_time": "2022-02-18T12:48:32.819Z"
   },
   {
    "duration": -67,
    "start_time": "2022-02-18T12:48:32.827Z"
   },
   {
    "duration": -70,
    "start_time": "2022-02-18T12:48:32.832Z"
   },
   {
    "duration": -71,
    "start_time": "2022-02-18T12:48:32.835Z"
   },
   {
    "duration": -72,
    "start_time": "2022-02-18T12:48:32.838Z"
   },
   {
    "duration": -76,
    "start_time": "2022-02-18T12:48:32.844Z"
   },
   {
    "duration": -79,
    "start_time": "2022-02-18T12:48:32.849Z"
   },
   {
    "duration": -82,
    "start_time": "2022-02-18T12:48:32.854Z"
   },
   {
    "duration": -85,
    "start_time": "2022-02-18T12:48:32.859Z"
   },
   {
    "duration": -89,
    "start_time": "2022-02-18T12:48:32.864Z"
   },
   {
    "duration": -92,
    "start_time": "2022-02-18T12:48:32.869Z"
   },
   {
    "duration": -97,
    "start_time": "2022-02-18T12:48:32.875Z"
   },
   {
    "duration": -101,
    "start_time": "2022-02-18T12:48:32.880Z"
   },
   {
    "duration": -106,
    "start_time": "2022-02-18T12:48:32.886Z"
   },
   {
    "duration": 58,
    "start_time": "2022-02-18T12:49:33.268Z"
   },
   {
    "duration": 856,
    "start_time": "2022-02-18T12:49:33.329Z"
   },
   {
    "duration": 47,
    "start_time": "2022-02-18T12:49:34.189Z"
   },
   {
    "duration": 74,
    "start_time": "2022-02-18T12:49:34.239Z"
   },
   {
    "duration": 14,
    "start_time": "2022-02-18T12:49:34.316Z"
   },
   {
    "duration": 25,
    "start_time": "2022-02-18T12:49:34.362Z"
   },
   {
    "duration": 1105,
    "start_time": "2022-02-18T12:49:34.390Z"
   },
   {
    "duration": 60,
    "start_time": "2022-02-18T12:49:35.501Z"
   },
   {
    "duration": 17,
    "start_time": "2022-02-18T12:49:35.564Z"
   },
   {
    "duration": 339,
    "start_time": "2022-02-18T12:49:35.583Z"
   },
   {
    "duration": 38,
    "start_time": "2022-02-18T12:49:35.925Z"
   },
   {
    "duration": 57,
    "start_time": "2022-02-18T12:49:35.966Z"
   },
   {
    "duration": 36,
    "start_time": "2022-02-18T12:49:36.026Z"
   },
   {
    "duration": 19,
    "start_time": "2022-02-18T12:49:36.065Z"
   },
   {
    "duration": 376,
    "start_time": "2022-02-18T12:49:36.086Z"
   },
   {
    "duration": 37,
    "start_time": "2022-02-18T12:49:36.466Z"
   },
   {
    "duration": 79,
    "start_time": "2022-02-18T12:49:36.505Z"
   },
   {
    "duration": 80,
    "start_time": "2022-02-18T12:49:36.587Z"
   },
   {
    "duration": 23,
    "start_time": "2022-02-18T12:49:36.671Z"
   },
   {
    "duration": 825,
    "start_time": "2022-02-18T12:49:36.697Z"
   },
   {
    "duration": 60,
    "start_time": "2022-02-18T12:49:37.525Z"
   },
   {
    "duration": 28,
    "start_time": "2022-02-18T12:49:37.588Z"
   },
   {
    "duration": 828,
    "start_time": "2022-02-18T12:49:37.621Z"
   },
   {
    "duration": 719,
    "start_time": "2022-02-18T12:49:38.452Z"
   },
   {
    "duration": 530,
    "start_time": "2022-02-18T12:49:39.174Z"
   },
   {
    "duration": 454,
    "start_time": "2022-02-18T12:49:39.707Z"
   },
   {
    "duration": 316,
    "start_time": "2022-02-18T12:49:40.163Z"
   },
   {
    "duration": -52,
    "start_time": "2022-02-18T12:49:40.533Z"
   },
   {
    "duration": -52,
    "start_time": "2022-02-18T12:49:40.535Z"
   },
   {
    "duration": -54,
    "start_time": "2022-02-18T12:49:40.538Z"
   },
   {
    "duration": -57,
    "start_time": "2022-02-18T12:49:40.542Z"
   },
   {
    "duration": -57,
    "start_time": "2022-02-18T12:49:40.544Z"
   },
   {
    "duration": -82,
    "start_time": "2022-02-18T12:49:40.570Z"
   },
   {
    "duration": -83,
    "start_time": "2022-02-18T12:49:40.572Z"
   },
   {
    "duration": -85,
    "start_time": "2022-02-18T12:49:40.575Z"
   },
   {
    "duration": -85,
    "start_time": "2022-02-18T12:49:40.577Z"
   },
   {
    "duration": -87,
    "start_time": "2022-02-18T12:49:40.580Z"
   },
   {
    "duration": -88,
    "start_time": "2022-02-18T12:49:40.582Z"
   },
   {
    "duration": -89,
    "start_time": "2022-02-18T12:49:40.585Z"
   },
   {
    "duration": -91,
    "start_time": "2022-02-18T12:49:40.588Z"
   },
   {
    "duration": -93,
    "start_time": "2022-02-18T12:49:40.591Z"
   },
   {
    "duration": -93,
    "start_time": "2022-02-18T12:49:40.593Z"
   },
   {
    "duration": -94,
    "start_time": "2022-02-18T12:49:40.595Z"
   },
   {
    "duration": 686,
    "start_time": "2022-02-18T12:53:05.624Z"
   },
   {
    "duration": 713,
    "start_time": "2022-02-18T12:53:42.013Z"
   },
   {
    "duration": 1064,
    "start_time": "2022-02-18T12:54:25.980Z"
   },
   {
    "duration": 783,
    "start_time": "2022-02-18T12:55:03.524Z"
   },
   {
    "duration": 1201,
    "start_time": "2022-02-18T12:55:40.224Z"
   },
   {
    "duration": 704,
    "start_time": "2022-02-18T12:56:30.884Z"
   },
   {
    "duration": 1080,
    "start_time": "2022-02-18T12:57:08.483Z"
   },
   {
    "duration": 732,
    "start_time": "2022-02-18T12:59:28.728Z"
   },
   {
    "duration": 116,
    "start_time": "2022-02-18T13:01:56.802Z"
   },
   {
    "duration": 136,
    "start_time": "2022-02-18T13:02:23.877Z"
   },
   {
    "duration": 113,
    "start_time": "2022-02-18T13:03:09.818Z"
   },
   {
    "duration": 326,
    "start_time": "2022-02-18T13:03:17.830Z"
   },
   {
    "duration": 139,
    "start_time": "2022-02-18T13:03:59.600Z"
   },
   {
    "duration": 119,
    "start_time": "2022-02-18T13:04:01.670Z"
   },
   {
    "duration": 1506,
    "start_time": "2022-02-18T15:28:09.148Z"
   },
   {
    "duration": 295,
    "start_time": "2022-02-18T15:28:11.445Z"
   },
   {
    "duration": 11,
    "start_time": "2022-02-18T15:28:15.482Z"
   },
   {
    "duration": 17,
    "start_time": "2022-02-18T15:28:19.622Z"
   },
   {
    "duration": 26,
    "start_time": "2022-02-18T15:28:23.002Z"
   },
   {
    "duration": 34,
    "start_time": "2022-02-18T15:28:25.500Z"
   },
   {
    "duration": 21,
    "start_time": "2022-02-18T15:28:27.784Z"
   },
   {
    "duration": 24,
    "start_time": "2022-02-18T15:28:29.505Z"
   },
   {
    "duration": 17,
    "start_time": "2022-02-18T15:28:31.301Z"
   },
   {
    "duration": 66,
    "start_time": "2022-02-18T15:28:33.483Z"
   },
   {
    "duration": 33,
    "start_time": "2022-02-18T15:28:36.017Z"
   },
   {
    "duration": 15,
    "start_time": "2022-02-18T15:28:37.791Z"
   },
   {
    "duration": 35,
    "start_time": "2022-02-18T15:28:39.911Z"
   },
   {
    "duration": 51,
    "start_time": "2022-02-18T15:28:42.482Z"
   },
   {
    "duration": 73,
    "start_time": "2022-02-18T15:28:46.541Z"
   },
   {
    "duration": 1005,
    "start_time": "2022-02-18T15:28:53.617Z"
   },
   {
    "duration": 38,
    "start_time": "2022-02-18T15:29:00.318Z"
   },
   {
    "duration": 41,
    "start_time": "2022-02-18T15:29:02.532Z"
   },
   {
    "duration": 16,
    "start_time": "2022-02-18T15:29:05.081Z"
   },
   {
    "duration": 19,
    "start_time": "2022-02-18T15:29:07.009Z"
   },
   {
    "duration": 663,
    "start_time": "2022-02-18T15:29:08.923Z"
   },
   {
    "duration": 47,
    "start_time": "2022-02-18T15:29:13.018Z"
   },
   {
    "duration": 19,
    "start_time": "2022-02-18T15:29:15.319Z"
   },
   {
    "duration": 325,
    "start_time": "2022-02-18T15:29:17.054Z"
   },
   {
    "duration": 48,
    "start_time": "2022-02-18T15:29:19.613Z"
   },
   {
    "duration": 225,
    "start_time": "2022-02-18T15:29:21.755Z"
   },
   {
    "duration": 50,
    "start_time": "2022-02-18T15:29:37.963Z"
   },
   {
    "duration": 10,
    "start_time": "2022-02-18T15:29:40.987Z"
   },
   {
    "duration": 18,
    "start_time": "2022-02-18T15:29:42.963Z"
   },
   {
    "duration": 375,
    "start_time": "2022-02-18T15:29:44.991Z"
   },
   {
    "duration": 44,
    "start_time": "2022-02-18T15:29:48.863Z"
   },
   {
    "duration": 25,
    "start_time": "2022-02-18T15:29:52.506Z"
   },
   {
    "duration": 48,
    "start_time": "2022-02-18T15:29:54.943Z"
   },
   {
    "duration": 22,
    "start_time": "2022-02-18T15:29:59.908Z"
   },
   {
    "duration": 460,
    "start_time": "2022-02-18T15:30:01.774Z"
   },
   {
    "duration": 53,
    "start_time": "2022-02-18T15:30:04.419Z"
   },
   {
    "duration": 26,
    "start_time": "2022-02-18T15:30:06.313Z"
   },
   {
    "duration": 735,
    "start_time": "2022-02-18T15:30:09.811Z"
   },
   {
    "duration": 693,
    "start_time": "2022-02-18T15:30:12.960Z"
   },
   {
    "duration": 415,
    "start_time": "2022-02-18T15:30:16.149Z"
   },
   {
    "duration": 456,
    "start_time": "2022-02-18T15:30:18.625Z"
   },
   {
    "duration": 494,
    "start_time": "2022-02-18T15:30:22.917Z"
   },
   {
    "duration": 1616,
    "start_time": "2022-02-18T15:32:36.434Z"
   },
   {
    "duration": 1396,
    "start_time": "2022-02-18T15:32:40.427Z"
   },
   {
    "duration": 38,
    "start_time": "2022-02-18T15:32:46.147Z"
   },
   {
    "duration": 12,
    "start_time": "2022-02-18T15:32:48.468Z"
   },
   {
    "duration": 15,
    "start_time": "2022-02-18T15:32:50.482Z"
   },
   {
    "duration": 40,
    "start_time": "2022-02-18T15:32:52.988Z"
   },
   {
    "duration": 20,
    "start_time": "2022-02-18T15:32:55.088Z"
   },
   {
    "duration": 397,
    "start_time": "2022-02-18T15:32:56.828Z"
   },
   {
    "duration": 26,
    "start_time": "2022-02-18T15:32:59.661Z"
   },
   {
    "duration": 926,
    "start_time": "2022-02-18T15:33:02.044Z"
   },
   {
    "duration": 603,
    "start_time": "2022-02-18T15:33:05.149Z"
   },
   {
    "duration": 367,
    "start_time": "2022-02-18T15:33:07.787Z"
   },
   {
    "duration": 425,
    "start_time": "2022-02-18T15:33:09.950Z"
   },
   {
    "duration": 1124,
    "start_time": "2022-02-18T15:33:12.527Z"
   },
   {
    "duration": 1487,
    "start_time": "2022-02-18T15:33:16.061Z"
   },
   {
    "duration": 346,
    "start_time": "2022-02-18T15:37:57.678Z"
   },
   {
    "duration": 20,
    "start_time": "2022-02-18T15:38:06.421Z"
   },
   {
    "duration": 17827,
    "start_time": "2022-02-18T15:39:07.071Z"
   },
   {
    "duration": 17496,
    "start_time": "2022-02-18T15:39:40.322Z"
   },
   {
    "duration": 1327,
    "start_time": "2022-03-21T12:17:54.627Z"
   },
   {
    "duration": 209,
    "start_time": "2022-03-21T12:17:55.956Z"
   },
   {
    "duration": 8,
    "start_time": "2022-03-21T12:17:56.167Z"
   },
   {
    "duration": 19,
    "start_time": "2022-03-21T12:17:56.177Z"
   },
   {
    "duration": 46,
    "start_time": "2022-03-21T12:17:56.198Z"
   },
   {
    "duration": 24,
    "start_time": "2022-03-21T12:17:56.246Z"
   },
   {
    "duration": 19,
    "start_time": "2022-03-21T12:17:56.272Z"
   },
   {
    "duration": 54,
    "start_time": "2022-03-21T12:17:56.294Z"
   },
   {
    "duration": 24,
    "start_time": "2022-03-21T12:17:56.351Z"
   },
   {
    "duration": 61,
    "start_time": "2022-03-21T12:17:56.377Z"
   },
   {
    "duration": 22,
    "start_time": "2022-03-21T12:17:56.440Z"
   },
   {
    "duration": 12,
    "start_time": "2022-03-21T12:17:56.463Z"
   },
   {
    "duration": 22,
    "start_time": "2022-03-21T12:17:56.477Z"
   },
   {
    "duration": 60,
    "start_time": "2022-03-21T12:17:56.503Z"
   },
   {
    "duration": 31,
    "start_time": "2022-03-21T12:17:56.565Z"
   },
   {
    "duration": 343,
    "start_time": "2022-03-21T12:17:56.598Z"
   },
   {
    "duration": 27,
    "start_time": "2022-03-21T12:17:56.943Z"
   },
   {
    "duration": 66,
    "start_time": "2022-03-21T12:17:56.972Z"
   },
   {
    "duration": 15,
    "start_time": "2022-03-21T12:17:57.041Z"
   },
   {
    "duration": 23,
    "start_time": "2022-03-21T12:17:57.058Z"
   },
   {
    "duration": 324,
    "start_time": "2022-03-21T12:17:57.083Z"
   },
   {
    "duration": 41,
    "start_time": "2022-03-21T12:17:57.409Z"
   },
   {
    "duration": 14,
    "start_time": "2022-03-21T12:17:57.452Z"
   },
   {
    "duration": 178,
    "start_time": "2022-03-21T12:17:57.468Z"
   },
   {
    "duration": 30,
    "start_time": "2022-03-21T12:17:57.649Z"
   },
   {
    "duration": 96,
    "start_time": "2022-03-21T12:17:57.681Z"
   },
   {
    "duration": 6,
    "start_time": "2022-03-21T12:17:57.779Z"
   },
   {
    "duration": 16,
    "start_time": "2022-03-21T12:17:57.787Z"
   },
   {
    "duration": 260,
    "start_time": "2022-03-21T12:17:57.805Z"
   },
   {
    "duration": 31,
    "start_time": "2022-03-21T12:17:58.067Z"
   },
   {
    "duration": 19,
    "start_time": "2022-03-21T12:17:58.099Z"
   },
   {
    "duration": 29,
    "start_time": "2022-03-21T12:17:58.137Z"
   },
   {
    "duration": 15,
    "start_time": "2022-03-21T12:17:58.168Z"
   },
   {
    "duration": 240,
    "start_time": "2022-03-21T12:17:58.185Z"
   },
   {
    "duration": 41,
    "start_time": "2022-03-21T12:17:58.427Z"
   },
   {
    "duration": 23,
    "start_time": "2022-03-21T12:17:58.470Z"
   },
   {
    "duration": 313,
    "start_time": "2022-03-21T12:17:58.495Z"
   },
   {
    "duration": 292,
    "start_time": "2022-03-21T12:17:58.810Z"
   },
   {
    "duration": 185,
    "start_time": "2022-03-21T12:17:59.105Z"
   },
   {
    "duration": 193,
    "start_time": "2022-03-21T12:17:59.291Z"
   },
   {
    "duration": 448,
    "start_time": "2022-03-21T12:17:59.488Z"
   },
   {
    "duration": 922,
    "start_time": "2022-03-21T12:17:59.938Z"
   },
   {
    "duration": 5309,
    "start_time": "2022-03-21T12:18:00.861Z"
   },
   {
    "duration": 28,
    "start_time": "2022-03-21T12:18:06.173Z"
   },
   {
    "duration": 8,
    "start_time": "2022-03-21T12:18:06.203Z"
   },
   {
    "duration": 29,
    "start_time": "2022-03-21T12:18:06.214Z"
   },
   {
    "duration": 53,
    "start_time": "2022-03-21T12:18:06.246Z"
   },
   {
    "duration": 18,
    "start_time": "2022-03-21T12:18:06.302Z"
   },
   {
    "duration": 202,
    "start_time": "2022-03-21T12:18:06.338Z"
   },
   {
    "duration": 18,
    "start_time": "2022-03-21T12:18:06.542Z"
   },
   {
    "duration": 451,
    "start_time": "2022-03-21T12:18:06.562Z"
   },
   {
    "duration": 275,
    "start_time": "2022-03-21T12:18:07.015Z"
   },
   {
    "duration": 173,
    "start_time": "2022-03-21T12:18:07.292Z"
   },
   {
    "duration": 183,
    "start_time": "2022-03-21T12:18:07.468Z"
   },
   {
    "duration": 376,
    "start_time": "2022-03-21T12:18:07.654Z"
   },
   {
    "duration": 806,
    "start_time": "2022-03-21T12:18:08.032Z"
   }
  ],
  "kernelspec": {
   "display_name": "Python 3 (ipykernel)",
   "language": "python",
   "name": "python3"
  },
  "language_info": {
   "codemirror_mode": {
    "name": "ipython",
    "version": 3
   },
   "file_extension": ".py",
   "mimetype": "text/x-python",
   "name": "python",
   "nbconvert_exporter": "python",
   "pygments_lexer": "ipython3",
   "version": "3.9.7"
  },
  "toc": {
   "base_numbering": 1,
   "nav_menu": {},
   "number_sections": true,
   "sideBar": true,
   "skip_h1_title": true,
   "title_cell": "Contents",
   "title_sidebar": "Contents",
   "toc_cell": true,
   "toc_position": {
    "height": "calc(100% - 180px)",
    "left": "10px",
    "top": "150px",
    "width": "275.388px"
   },
   "toc_section_display": true,
   "toc_window_display": true
  }
 },
 "nbformat": 4,
 "nbformat_minor": 2
}
